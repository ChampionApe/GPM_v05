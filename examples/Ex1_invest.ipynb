{
 "cells": [
  {
   "cell_type": "code",
   "execution_count": 1,
   "metadata": {},
   "outputs": [
    {
     "name": "stdout",
     "output_type": "stream",
     "text": [
      "The file_gams_py_gdb0.gdx is still active and was not deleted.\n"
     ]
    }
   ],
   "source": [
    "clean_up=True # removes gams-related files in work-folder if true\n",
    "%run StdPackages.ipynb\n",
    "os.chdir(py['main'])\n",
    "import Invest, ReadData, ShockFunction\n",
    "os.chdir(curr)\n",
    "data_folder = os.getcwd()+'\\\\Data\\\\IO'\n",
    "gams_folder = os.getcwd()+'\\\\gamsmodels\\\\Invest'\n",
    "name = 'I'"
   ]
  },
  {
   "cell_type": "markdown",
   "metadata": {},
   "source": [
    "# Set up and calibrate a dynamic version of the model from IO and nesting data:"
   ]
  },
  {
   "cell_type": "markdown",
   "metadata": {},
   "source": [
    "The investment module runs as the production module, but without any durables. To set up and calibrate a dynamic version of the model, we start by setting up a static model and calibrate this. Then the model is made dynamic."
   ]
  },
  {
   "cell_type": "code",
   "execution_count": 2,
   "metadata": {},
   "outputs": [],
   "source": [
    "dsheets = {'Production_v': data_folder+'\\\\IO_v.xlsx', 'Production_p': data_folder+'\\\\IO_p.xlsx'}\n",
    "GE_data = ReadData.read_data.main(dsheets,name='GE_data',components=['domstic','trade','HH','tax','invest'],balanced_data_check=False)"
   ]
  },
  {
   "cell_type": "markdown",
   "metadata": {},
   "source": [
    "Keep investment sectors:"
   ]
  },
  {
   "cell_type": "code",
   "execution_count": 3,
   "metadata": {},
   "outputs": [],
   "source": [
    "from DataBase_wheels import small_updates \n",
    "GE_inv = small_updates.subset_db(GE_data,GE_data.get('s_inv'))"
   ]
  },
  {
   "cell_type": "markdown",
   "metadata": {},
   "source": [
    "Read in nesting structure, adding the prefix captured in \"name\" for all the global sets:"
   ]
  },
  {
   "cell_type": "code",
   "execution_count": 4,
   "metadata": {},
   "outputs": [],
   "source": [
    "namespace = {k: name+'_'+k for k in ('inp','out','int','wT','map_all','kno_out','kno_inp','n_out','endo_PbT','exo_mu','PwT_dom')}"
   ]
  },
  {
   "cell_type": "code",
   "execution_count": 5,
   "metadata": {},
   "outputs": [],
   "source": [
    "name_tree = 'inv'\n",
    "sectors = {'I_B': {'data_file':'inv_B.xlsx'}, 'I_M': {'data_file': 'inv_M.xlsx'}}\n",
    "nts = {}\n",
    "for sector in ('I_B','I_M'):\n",
    "    data_file = sectors[sector]['data_file']\n",
    "    nts[sector] = nesting_tree.nesting_tree(name=name_tree)\n",
    "    nts[sector].add_tree(data_folder+'\\\\'+data_file,tree_name=sector,**{'sheet':'nest'})\n",
    "    data = excel2py.xl2PM.pm_from_workbook(data_folder+'\\\\'+data_file,{'nest':'vars'})\n",
    "    nts[sector].trees[sector].database.merge_dbs(nts[sector].trees[sector].database,data,'first')\n",
    "    nts[sector].run_all(s0=sector,**namespace)\n",
    "nesting_tree.merge_nts(nts['I_B'],[nts['I_M']])"
   ]
  },
  {
   "cell_type": "markdown",
   "metadata": {},
   "source": [
    "Store the sector settings loaded from here, used to initialize the modules along the way:"
   ]
  },
  {
   "cell_type": "code",
   "execution_count": 6,
   "metadata": {},
   "outputs": [],
   "source": [
    "kwargs_st = {'sector':True}"
   ]
  },
  {
   "cell_type": "markdown",
   "metadata": {},
   "source": [
    "Add the time index we wish to apply here:"
   ]
  },
  {
   "cell_type": "code",
   "execution_count": 7,
   "metadata": {},
   "outputs": [],
   "source": [
    "tindex = range(1,4)"
   ]
  },
  {
   "cell_type": "markdown",
   "metadata": {},
   "source": [
    "Calibrate static model:"
   ]
  },
  {
   "cell_type": "code",
   "execution_count": 8,
   "metadata": {},
   "outputs": [],
   "source": [
    "gm_static = Invest.pr_static(nt=nts['I_B'],work_folder=work_folder,kwargs_ns=namespace,**{'data_folder':work_folder,'name':'I_static'})\n",
    "DataBase.GPM_database.merge_dbs(gm_static.model.database,GE_inv,'second')\n",
    "gm_static.calibrate_sneaky(GE_inv,kwargs_init={'check_variables':True},type_='quant',**{'n_steps':100, 'gridtype': 'pol','phi':0.9})\n",
    "db_static = gm_static.model_instances['baseline'].out_db"
   ]
  },
  {
   "cell_type": "markdown",
   "metadata": {},
   "source": [
    "dynamic investment module:"
   ]
  },
  {
   "cell_type": "code",
   "execution_count": 9,
   "metadata": {},
   "outputs": [],
   "source": [
    "gm = Invest.inv_dynamic(nt=nts['I_B'],work_folder=work_folder,gs_vals = {'t': tindex},kwargs_st = kwargs_st,kwargs_ns=namespace,**{'data_folder': gams_folder,'name':name})\n",
    "gm.ivfs(db_static,merge=False) # initialize levels from static model\n",
    "gm.initialize_variables(**{'check_variables':True}) # fill in default levels of variables not used in static model.\n",
    "gm.model.database[gm.n('mu')].vals = db_static.get(gm.n('mu'))"
   ]
  },
  {
   "cell_type": "markdown",
   "metadata": {},
   "source": [
    "Note that the investment module does not have a dynamic path to be calibrated to. Thus we simply run the baseline version with the updated values of share parameters:"
   ]
  },
  {
   "cell_type": "code",
   "execution_count": 10,
   "metadata": {},
   "outputs": [],
   "source": [
    "gm.write_and_run(overwrite=True)"
   ]
  },
  {
   "cell_type": "markdown",
   "metadata": {},
   "source": [
    "The solution is simply a static one that is repeated for each $t$:"
   ]
  },
  {
   "cell_type": "code",
   "execution_count": 11,
   "metadata": {},
   "outputs": [
    {
     "data": {
      "image/png": "[encoded data removed]",
      "text/plain": [
       "<Figure size 1008x288 with 1 Axes>"
      ]
     },
     "metadata": {},
     "output_type": "display_data"
    }
   ],
   "source": [
    "plot_series(gm.model_instances['baseline'].out_db.get('qS').xs('I_B',level='s').unstack())"
   ]
  },
  {
   "cell_type": "code",
   "execution_count": 12,
   "metadata": {},
   "outputs": [
    {
     "data": {
      "text/plain": [
       "'C:\\\\Users\\\\sxj477\\\\Documents\\\\GitHub\\\\GPM_v4\\\\examples\\\\gamsmodels\\\\GE\\\\inv'"
      ]
     },
     "execution_count": 12,
     "metadata": {},
     "output_type": "execute_result"
    }
   ],
   "source": [
    "db = gm.model_instances['baseline'].out_db \n",
    "[db.series.__delitem__(sym) for sym in db.symbols if sym not in gm.model.database.symbols];\n",
    "gm.model.database.merge_dbs(gm.model.database,db,'second')\n",
    "gm.export(name='inv',repo = os.getcwd()+'\\\\gamsmodels\\\\GE')"
   ]
  }
 ],
 "metadata": {
  "kernelspec": {
   "display_name": "Python 3",
   "language": "python",
   "name": "python3"
  },
  "language_info": {
   "codemirror_mode": {
    "name": "ipython",
    "version": 3
   },
   "file_extension": ".py",
   "mimetype": "text/x-python",
   "name": "python",
   "nbconvert_exporter": "python",
   "pygments_lexer": "ipython3",
   "version": "3.7.9"
  }
 },
 "nbformat": 4,
 "nbformat_minor": 4
}
