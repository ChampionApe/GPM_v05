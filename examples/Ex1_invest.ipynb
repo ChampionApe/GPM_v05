{
 "cells": [
  {
   "cell_type": "code",
   "execution_count": 1,
   "metadata": {},
   "outputs": [
    {
     "name": "stdout",
     "output_type": "stream",
     "text": [
      "The file_gams_py_gdb1.gdx is still active and was not deleted.\n"
     ]
    }
   ],
   "source": [
    "clean_up=True # removes gams-related files in work-folder if true\n",
    "%run StdPackages.ipynb\n",
    "os.chdir(py['main'])\n",
    "import Invest\n",
    "from DataBase_wheels import small_updates\n",
    "os.chdir(curr)\n",
    "data_folder = os.getcwd()+'\\\\Data\\\\IO'\n",
    "gams_folder = os.getcwd()+'\\\\gamsmodels\\\\Invest'"
   ]
  },
  {
   "cell_type": "markdown",
   "metadata": {},
   "source": [
    "### *1: Read in data*"
   ]
  },
  {
   "cell_type": "markdown",
   "metadata": {},
   "source": [
    "*Load IO data:*"
   ]
  },
  {
   "cell_type": "code",
   "execution_count": 2,
   "metadata": {},
   "outputs": [],
   "source": [
    "GE_data = DataBase.GPM_database(pickle_path=data_folder+'\\\\GE_data')"
   ]
  },
  {
   "cell_type": "markdown",
   "metadata": {},
   "source": [
    "*Load global settings:*"
   ]
  },
  {
   "cell_type": "code",
   "execution_count": 3,
   "metadata": {},
   "outputs": [],
   "source": [
    "with open(data_folder+'\\\\Ex1_gs',\"rb\") as file:\n",
    "    gs = pickle.load(file)"
   ]
  },
  {
   "cell_type": "markdown",
   "metadata": {},
   "source": [
    "*Define settings for the module:*"
   ]
  },
  {
   "cell_type": "code",
   "execution_count": 4,
   "metadata": {},
   "outputs": [],
   "source": [
    "name= 'I'\n",
    "name_module = 'inv'\n",
    "trees = {'I_B': {'file': 'inv_B.xlsx', 'sheets': ['nest']}, \n",
    "         'I_M': {'file': 'inv_M.xlsx', 'sheets': ['nest']}}\n",
    "kwargs_st = {'sector': True, 'ss': GE_data.get('s_inv')} # settings for initializing the module\n",
    "namespace = {k: name+'_'+k for k in ('inp','out','int','wT','map_all','kno_out','kno_inp','n_out','endo_PbT','exo_mu','PwT_dom')} # as the production module uses the same nesting tree, we adjust the standard names here"
   ]
  },
  {
   "cell_type": "markdown",
   "metadata": {},
   "source": [
    "*Define tree:*"
   ]
  },
  {
   "cell_type": "code",
   "execution_count": 5,
   "metadata": {},
   "outputs": [],
   "source": [
    "nts = {}\n",
    "for s,t in trees.items():\n",
    "    nts[s] = nesting_tree.nesting_tree(name=name_module) # initialize tree\n",
    "    for tree in t['sheets']:\n",
    "        nts[s].add_tree(data_folder+'\\\\'+t['file'],tree_name=tree,**{'sheet':tree}) # add nesting structure\n",
    "        DataBase.GPM_database.merge_dbs(nts[s].trees[tree].database, excel2py.xl2PM.pm_from_workbook(data_folder+'\\\\'+t['file'],{tree:'vars'}),'second') # add data\n",
    "    nts[s].run_all(s0=s,**namespace) # add default attributes from nesting structure\n",
    "nesting_tree.merge_nts(list(nts.values())[0], list(nts.values())[1:]) # merge trees into one.\n",
    "nt = list(nts.values())[0]"
   ]
  },
  {
   "cell_type": "markdown",
   "metadata": {},
   "source": [
    "### *2: Static model:*"
   ]
  },
  {
   "cell_type": "markdown",
   "metadata": {},
   "source": [
    "*similar to production module: initialize from nt, add IO data, calibrate.*"
   ]
  },
  {
   "cell_type": "code",
   "execution_count": 6,
   "metadata": {},
   "outputs": [],
   "source": [
    "gm_static = Invest.pr_static(nt=nt,work_folder = work_folder,kwargs_ns=namespace,**{'data_folder':work_folder,'name':'I_static'})\n",
    "GE_inv = small_updates.subset_db(GE_data.copy(),GE_data.get('s_inv'))\n",
    "DataBase.GPM_database.merge_dbs(gm_static.model.database,GE_inv,'second')\n",
    "gm_static.setstate('DC')\n",
    "db_temp = gm_static.slice_exo(GE_inv,copy=True)\n",
    "gm_static.calibrate_sneaky(db_temp,kwargs_init={'check_variables':True},**{'n_steps':100, 'gridtype': 'pol','phi':0.9})\n",
    "db_static = gm_static.model_instances['baseline'].out_db"
   ]
  },
  {
   "cell_type": "markdown",
   "metadata": {},
   "source": [
    "*inspect solution:*"
   ]
  },
  {
   "cell_type": "code",
   "execution_count": 7,
   "metadata": {},
   "outputs": [
    {
     "name": "stdout",
     "output_type": "stream",
     "text": [
      "{'maxdiff': 3.469446951953614e-18, 'plotdiff': None}\n"
     ]
    },
    {
     "data": {
      "image/png": "[encoded data removed]",
      "text/plain": [
       "<Figure size 576x432 with 1 Axes>"
      ]
     },
     "metadata": {},
     "output_type": "display_data"
    }
   ],
   "source": [
    "var,db = 'qD',gm_static.model_instances['baseline'].out_db\n",
    "print(diagnostics.compare_data.std_diagnostics_var(db,GE_data,var,plot=False))\n",
    "pd.DataFrame({'Model': diagnostics.compare_data.get_db1(db,GE_data,var), 'IO': diagnostics.compare_data.get_db2(db,GE_data,var)}).plot.bar(figsize=(8,6));"
   ]
  },
  {
   "cell_type": "markdown",
   "metadata": {},
   "source": [
    "### *3: Dynamic model:*"
   ]
  },
  {
   "cell_type": "markdown",
   "metadata": {},
   "source": [
    "Set up model and build on static setup/solution:"
   ]
  },
  {
   "cell_type": "code",
   "execution_count": 8,
   "metadata": {},
   "outputs": [],
   "source": [
    "gm_inv = Invest.inv_dynamic(nt=nt,work_folder=work_folder,gs_v=gs,kwargs_st=kwargs_st,kwargs_ns=namespace,**{'data_folder':gams_folder,'name': name_module})\n",
    "gm_inv.ivfs(db_static,merge=False)\n",
    "gm_inv.initialize_variables(**{'check_variables':True})\n",
    "gm_inv.model.database[gm_inv.n('mu')].vals = db_static.get(gm_inv.n('mu'))\n",
    "gm_inv.model.database[gm_inv.n('markup')].vals = db_static.get(gm_inv.n('markup'))"
   ]
  },
  {
   "cell_type": "markdown",
   "metadata": {},
   "source": [
    "The investment module does not need a dynamic calibration; however, we still set the state to 'DC', to write the relevant settings to be used later in an integrated model."
   ]
  },
  {
   "cell_type": "code",
   "execution_count": 9,
   "metadata": {},
   "outputs": [],
   "source": [
    "gm_inv.setstate('DC')\n",
    "gm_inv.setstate('B')\n",
    "gm_inv.write_and_run(overwrite=True) # the overwrite=True option overwrites existing file with same names."
   ]
  },
  {
   "cell_type": "markdown",
   "metadata": {},
   "source": [
    "*save data:*"
   ]
  },
  {
   "cell_type": "code",
   "execution_count": 10,
   "metadata": {},
   "outputs": [
    {
     "data": {
      "text/plain": [
       "'C:\\\\Users\\\\sxj477\\\\Documents\\\\GitHub\\\\GPM_v05\\\\examples\\\\gamsmodels\\\\Invest\\\\gmspython_inv'"
      ]
     },
     "execution_count": 10,
     "metadata": {},
     "output_type": "execute_result"
    }
   ],
   "source": [
    "db = gm_inv.model_instances['baseline'].out_db \n",
    "[db.series.__delitem__(sym) for sym in db.symbols if sym not in gm_inv.model.database.symbols];\n",
    "gm_inv.model.database.merge_dbs(gm_inv.model.database,db,'second')\n",
    "gm_inv.export()"
   ]
  },
  {
   "cell_type": "markdown",
   "metadata": {},
   "source": [
    "*Inspect the solution:*"
   ]
  },
  {
   "cell_type": "code",
   "execution_count": 11,
   "metadata": {},
   "outputs": [
    {
     "name": "stdout",
     "output_type": "stream",
     "text": [
      "{'maxdiff': 3.469446951953614e-18, 'plotdiff': None}\n"
     ]
    },
    {
     "data": {
      "image/png": "[encoded data removed]",
      "text/plain": [
       "<Figure size 576x432 with 1 Axes>"
      ]
     },
     "metadata": {},
     "output_type": "display_data"
    }
   ],
   "source": [
    "var,year,kwargs = 'qD',2, {'level':'t'}\n",
    "print(diagnostics.compare_data.std_diagnostics_var(db,GE_data,var,xs=year,plot=False,**kwargs))\n",
    "pd.DataFrame({'Model': diagnostics.compare_data.get_db1(db,GE_data,var,xs=year,**kwargs), 'IO': diagnostics.compare_data.get_db2(db,GE_data,var,xs=year,**kwargs)}).plot.bar(figsize=(8,6));"
   ]
  }
 ],
 "metadata": {
  "kernelspec": {
   "display_name": "Python 3",
   "language": "python",
   "name": "python3"
  },
  "language_info": {
   "codemirror_mode": {
    "name": "ipython",
    "version": 3
   },
   "file_extension": ".py",
   "mimetype": "text/x-python",
   "name": "python",
   "nbconvert_exporter": "python",
   "pygments_lexer": "ipython3",
   "version": "3.7.9"
  }
 },
 "nbformat": 4,
 "nbformat_minor": 4
}
