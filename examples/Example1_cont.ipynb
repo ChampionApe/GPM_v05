{
 "cells": [
  {
   "cell_type": "code",
   "execution_count": 1,
   "metadata": {},
   "outputs": [
    {
     "name": "stdout",
     "output_type": "stream",
     "text": [
      "The file_gams_py_gdb1.gdx is still active and was not deleted.\n",
      "The file_gams_py_gdb3.gdx is still active and was not deleted.\n"
     ]
    }
   ],
   "source": [
    "clean_up=True # removes gams-related files in work-folder if true\n",
    "%run StdPackages.ipynb\n",
    "os.chdir(py['main'])\n",
    "import global_settings,ReadData,ShockFunction,Production,Household,GE,Invest,Trade,Government,diagnostics\n",
    "from DataBase_wheels import small_updates\n",
    "from gmspython import gmspython_i\n",
    "os.chdir(curr)\n",
    "data_folder = os.getcwd()+'\\\\Data\\\\IO'\n",
    "gams_folder = os.getcwd()+'\\\\gamsmodels\\\\GE'"
   ]
  },
  {
   "cell_type": "markdown",
   "metadata": {},
   "source": [
    "# Set up DCGE model from saved model components"
   ]
  },
  {
   "cell_type": "markdown",
   "metadata": {},
   "source": [
    "*The current general equilibrium model is a small open economy that features exogenous long run interest-, inflation-, and growth rates. These settings are defined in the global settings:*"
   ]
  },
  {
   "cell_type": "markdown",
   "metadata": {},
   "source": [
    "In *Example1.ipynb* the different modules of the model was collected and calibrated to a partial equilibrium scenario. Here, we draw on these modules to set up an integrated model. Note that this allows us to flexibly add/remove certain modules, and re-run the model. This can be relevant in terms of investigating policy scenarios, but also for debugging purposes and to help with numerical complications. "
   ]
  },
  {
   "cell_type": "markdown",
   "metadata": {},
   "source": [
    "The setup for the model is outlined in *Example1.ipynb*. Here we focus on loading the modules and running the integrated model (in general equilibrium). One difference is the general equilibrium module; the conditions, exogenous/endogenous variables needed here draws on the other modules."
   ]
  },
  {
   "cell_type": "markdown",
   "metadata": {},
   "source": [
    "## **1: Load modules**"
   ]
  },
  {
   "cell_type": "markdown",
   "metadata": {},
   "source": [
    "Load modules:"
   ]
  },
  {
   "cell_type": "code",
   "execution_count": 2,
   "metadata": {},
   "outputs": [],
   "source": [
    "modules = {'p': Production.pr_dynamic(pickle_path=gams_folder+'\\\\gmspython_p'),\n",
    "           'HH': Household.hh_dynamic(pickle_path=gams_folder+'\\\\gmspython_HH'),\n",
    "           'inv': Invest.inv_dynamic(pickle_path=gams_folder+'\\\\gmspython_inv'),\n",
    "           'itory': Invest.itoryD(pickle_path=gams_folder+'\\\\gmspython_itory'),\n",
    "           'trade': Trade.trade_dynamic(pickle_path=gams_folder+'\\\\gmspython_trade'),\n",
    "           'G': Government.g_dynamic(pickle_path=gams_folder+'\\\\gmspython_G')}"
   ]
  },
  {
   "cell_type": "markdown",
   "metadata": {},
   "source": [
    "Load data:"
   ]
  },
  {
   "cell_type": "code",
   "execution_count": 3,
   "metadata": {},
   "outputs": [],
   "source": [
    "GE_data = DataBase.GPM_database(pickle_path=gams_folder+'\\\\GE_data')"
   ]
  },
  {
   "cell_type": "markdown",
   "metadata": {},
   "source": [
    "## **2: Initialize integrated model**"
   ]
  },
  {
   "cell_type": "markdown",
   "metadata": {},
   "source": [
    "Initialize *gmspython_i* model and add modules:"
   ]
  },
  {
   "cell_type": "code",
   "execution_count": 4,
   "metadata": {},
   "outputs": [],
   "source": [
    "gm_i = gmspython_i(work_folder=work_folder,database_kw = {'name': 'db_ex1'},**{'name':'ex1'})\n",
    "[gm_i.add_module(m) for n,m in modules.items()];"
   ]
  },
  {
   "cell_type": "markdown",
   "metadata": {},
   "source": [
    "The integrated model *gm_i* adopts the namespaces from other modules, merges the databases into one, and keeps the modules in the *modules* attribute:"
   ]
  },
  {
   "cell_type": "code",
   "execution_count": 5,
   "metadata": {
    "scrolled": true
   },
   "outputs": [
    {
     "data": {
      "text/plain": [
       "{'p': <Production.pr_dynamic at 0x2068535e248>,\n",
       " 'HH': <Household.hh_dynamic at 0x206852f04c8>,\n",
       " 'inv': <Invest.inv_dynamic at 0x206853de408>,\n",
       " 'itory': <Invest.itoryD at 0x206853e4308>,\n",
       " 'trade': <Trade.trade_dynamic at 0x20685386fc8>,\n",
       " 'G': <Government.g_dynamic at 0x20685440a88>}"
      ]
     },
     "execution_count": 5,
     "metadata": {},
     "output_type": "execute_result"
    }
   ],
   "source": [
    "gm_i.modules"
   ]
  },
  {
   "cell_type": "markdown",
   "metadata": {},
   "source": [
    "Finally, we define the equilibrium module from the other modules. The GE version 'v1' is suited for the case with demand/supply being defined over sectors and goods:"
   ]
  },
  {
   "cell_type": "code",
   "execution_count": 6,
   "metadata": {},
   "outputs": [],
   "source": [
    "gm = GE.GE_v1(work_folder=work_folder,**{'data_folder': gams_folder,'name':'GE_module'})"
   ]
  },
  {
   "cell_type": "markdown",
   "metadata": {},
   "source": [
    "We initialize the module from the integrated model. The module attemps to figure out which quantities/prices needs to be endogenized in order to make the model square. There are some cases, however, we have to adjust manually. One example is if the supply of a good is exogenously given (as labor is in our simple household model). To adjust for this we add the options that the subset 'qS_endo' (which supply quantities to be endogenized) should not be included. Specifically, we ask not to include the subset 'exo' in the household module:"
   ]
  },
  {
   "cell_type": "code",
   "execution_count": 7,
   "metadata": {},
   "outputs": [
    {
     "data": {
      "text/plain": [
       "MultiIndex([('HH', 'L')],\n",
       "           names=['s', 'n'])"
      ]
     },
     "execution_count": 7,
     "metadata": {},
     "output_type": "execute_result"
    }
   ],
   "source": [
    "gm_i.get('exo',module='HH')"
   ]
  },
  {
   "cell_type": "markdown",
   "metadata": {},
   "source": [
    "We initialize the module using these settings, and end with applying the 'write' method (writes the relevant gams code for the module, but does not run anything, as opposed to the write_and_run method) as well as adding this module to the integrated model:"
   ]
  },
  {
   "cell_type": "code",
   "execution_count": 8,
   "metadata": {},
   "outputs": [],
   "source": [
    "ctree_kwargs = {'qS_endo': {'not': gm_i.g('exo',module='HH')}}\n",
    "gm.init_from_model_i(gm_i,ctree_kwargs=ctree_kwargs)\n",
    "gm.write()\n",
    "gm.setstate('DC') \n",
    "gm_i.add_module(gm)"
   ]
  },
  {
   "cell_type": "markdown",
   "metadata": {},
   "source": [
    "## **3: Run and calibrate**"
   ]
  },
  {
   "cell_type": "markdown",
   "metadata": {},
   "source": [
    "*Compute the value of the disequilibrium:*"
   ]
  },
  {
   "cell_type": "code",
   "execution_count": 9,
   "metadata": {},
   "outputs": [],
   "source": [
    "def s(db):\n",
    "    return db['qS'].rctree_pd({'and': [db['d_qS'],db['n_equi'],db['txE']]}).groupby(['t','n']).sum()\n",
    "def d(db):\n",
    "    return db['qD'].rctree_pd({'and': [db['d_qD'],db['n_equi'],db['txE']]}).groupby(['t','n']).sum()\n",
    "def diseq(db):\n",
    "    return (s(db)-d(db)).dropna().unstack()"
   ]
  },
  {
   "cell_type": "markdown",
   "metadata": {},
   "source": [
    "Now that the integrated model *gm_i* has all the relevant modules, we can start by running the baseline model, after merging the 'settings'. Note that we add the option *write=False*, as the integrated model does not need to write any of the gams code: All of it has been written and added via the separate modules:"
   ]
  },
  {
   "cell_type": "code",
   "execution_count": 10,
   "metadata": {},
   "outputs": [],
   "source": [
    "gm_i.merge_settings()\n",
    "# gm_i.write_and_run(write=False)"
   ]
  },
  {
   "cell_type": "markdown",
   "metadata": {},
   "source": [
    "The result is defined in the model instances (w. default name = 'baseline' if nothing else is supplied):"
   ]
  },
  {
   "cell_type": "code",
   "execution_count": 11,
   "metadata": {},
   "outputs": [],
   "source": [
    "# gm_i.model_instances['baseline'].__dict__"
   ]
  },
  {
   "cell_type": "markdown",
   "metadata": {},
   "source": [
    "We can now calibrate the model by updating the state of the model to 'DC', reset settings,"
   ]
  },
  {
   "cell_type": "code",
   "execution_count": 12,
   "metadata": {},
   "outputs": [],
   "source": [
    "gm_i.setstate('DC')"
   ]
  },
  {
   "cell_type": "markdown",
   "metadata": {},
   "source": [
    "*Time-specific moments:*"
   ]
  },
  {
   "cell_type": "code",
   "execution_count": 13,
   "metadata": {},
   "outputs": [],
   "source": [
    "GE_t = DataBase.GPM_database()\n",
    "for var in GE_data.variables_flat:\n",
    "    GE_t[var] = DataBase_wheels.repeat_variable_windex(GE_data.get(var),gm_i.get('t0'))"
   ]
  },
  {
   "cell_type": "markdown",
   "metadata": {},
   "source": [
    "*Keep exogenous part:*"
   ]
  },
  {
   "cell_type": "code",
   "execution_count": 14,
   "metadata": {},
   "outputs": [],
   "source": [
    "GE_t = gm_i.slice_exo(GE_t,copy=False)"
   ]
  },
  {
   "cell_type": "markdown",
   "metadata": {},
   "source": [
    "*Calibrate sneakily:*"
   ]
  },
  {
   "cell_type": "code",
   "execution_count": 15,
   "metadata": {},
   "outputs": [],
   "source": [
    "gm_i.initialize_variables()\n",
    "gm_i.setstate('DC')\n",
    "kwargs_write ={'end': DB2Gams.run_text(g_exo=gm_i.exo_groups.keys(),g_endo=gm_i.endo_groups.keys(),blocks=gm_i.model.settings.get_conf('blocks'),name=gm_i.model.settings.get_conf('name'))}"
   ]
  },
  {
   "cell_type": "code",
   "execution_count": 16,
   "metadata": {},
   "outputs": [
    {
     "data": {
      "text/plain": [
       "{'Modelstat': 16.0, 'Solvestat': 1.0}"
      ]
     },
     "execution_count": 16,
     "metadata": {},
     "output_type": "execute_result"
    }
   ],
   "source": [
    "gm_i.setstate('B')\n",
    "gm_i.write_and_run(name='dc',kwargs_write=kwargs_write,write=False,add_checkpoint='dc')\n",
    "shock_db,kwargs_shock = ShockFunction.sneaky_db(gm_i.model_instances['dc'].out_db,GE_t)\n",
    "gm_i.model_instances['dc'].solve_sneakily(from_cp=True,cp_init=gm_i.checkpoints['dc'],shock_db=shock_db,kwargs_shock=kwargs_shock,model_name=gm_i.model.settings.conf['DC']['name'])"
   ]
  },
  {
   "cell_type": "code",
   "execution_count": null,
   "metadata": {},
   "outputs": [],
   "source": []
  }
 ],
 "metadata": {
  "kernelspec": {
   "display_name": "Python 3",
   "language": "python",
   "name": "python3"
  },
  "language_info": {
   "codemirror_mode": {
    "name": "ipython",
    "version": 3
   },
   "file_extension": ".py",
   "mimetype": "text/x-python",
   "name": "python",
   "nbconvert_exporter": "python",
   "pygments_lexer": "ipython3",
   "version": "3.7.9"
  }
 },
 "nbformat": 4,
 "nbformat_minor": 4
}
