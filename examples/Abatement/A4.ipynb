{
 "cells": [
  {
   "cell_type": "code",
   "execution_count": 1,
   "metadata": {},
   "outputs": [],
   "source": [
    "clean_up=True # removes gams-related files in work-folder if true\n",
    "%run StdPackages.ipynb\n",
    "os.chdir(directory['py'])\n",
    "import techdata_to_tree, sys, ShockFunction\n",
    "import abatement_EOP_new as abatement\n",
    "os.chdir(directory['curr'])"
   ]
  },
  {
   "cell_type": "markdown",
   "metadata": {},
   "source": [
    "*Specify settings:*"
   ]
  },
  {
   "cell_type": "code",
   "execution_count": 2,
   "metadata": {},
   "outputs": [],
   "source": [
    "name = 'A4'\n",
    "# catalogue = 'dors_2'\n",
    "catalogue = 'C2'\n",
    "f = {'tech': directory['data']+f\"/techdata_{catalogue}.xlsx\",\n",
    "     'other': directory['data']+f\"/Othdata_{catalogue}.xlsx\",\n",
    "     'IOdata': directory['data']+f\"/IOdata_{catalogue}.xlsx\"}\n",
    "s = ['inputdisp','endofpipe','inputprices']\n",
    "m = ['ID','EOP'] \n",
    "e = {'M': 'vars','M_sets': 'sets'} # dictionary used to load emissions data\n",
    "other_trees = {'ID_Y': {'s': 'Y', 'read_data': {'Y': 'vars'}, 'Q2P': 'Q2P'}} # the key = tree name, s = sheet that specifies tree structure, read_data (if not None) specifies how to load data."
   ]
  },
  {
   "cell_type": "code",
   "execution_count": 3,
   "metadata": {},
   "outputs": [],
   "source": [
    "type_f = {'ID_EC': 'CES_norm',\n",
    "          'ID_CU': 'MNL',\n",
    "          'ID_TU': 'CET_norm',\n",
    "          'ID_TX': 'CES',\n",
    "          'ID_BU': 'linear_out',\n",
    "          'ID_BX': 'CES',\n",
    "          'EOP_CU': 'MNL',\n",
    "          'EOP_TU': 'CET_norm',\n",
    "          'EOP_TX': 'CES'}"
   ]
  },
  {
   "cell_type": "markdown",
   "metadata": {},
   "source": [
    "*Set up nesting tree:*"
   ]
  },
  {
   "cell_type": "code",
   "execution_count": 4,
   "metadata": {},
   "outputs": [],
   "source": [
    "%run ATree.ipynb"
   ]
  },
  {
   "cell_type": "code",
   "execution_count": 5,
   "metadata": {},
   "outputs": [],
   "source": [
    "dbs = {}"
   ]
  },
  {
   "cell_type": "markdown",
   "metadata": {},
   "source": [
    "## 1: Model without EOP"
   ]
  },
  {
   "cell_type": "markdown",
   "metadata": {},
   "source": [
    "*Initialize without EOP:*"
   ]
  },
  {
   "cell_type": "code",
   "execution_count": 6,
   "metadata": {},
   "outputs": [],
   "source": [
    "gm = abatement.abate(nts=nts,tech=tech,work_folder=directory['work'],use_EOP=False,**{'data_folder':directory['gams'],'name': name})\n",
    "gm.add_aliases([('n','nnnn'),('n','nnnnn')])\n",
    "gm.model.database.update_all_sets(clean_up=False) "
   ]
  },
  {
   "cell_type": "markdown",
   "metadata": {},
   "source": [
    "*Provide initial values:*"
   ]
  },
  {
   "cell_type": "code",
   "execution_count": 7,
   "metadata": {},
   "outputs": [],
   "source": [
    "gm.initialize_variables_leontief()\n",
    "gm.initialize_variables(**{'check_variables': True})"
   ]
  },
  {
   "cell_type": "markdown",
   "metadata": {},
   "source": [
    "*Add some extra options:*"
   ]
  },
  {
   "cell_type": "code",
   "execution_count": 8,
   "metadata": {},
   "outputs": [],
   "source": [
    "with open(os.getcwd()+'\\\\conopt_ExtraPivot.opt',\"r\") as file:\n",
    "    kwargs_mi = {'opt_file': file.read()}"
   ]
  },
  {
   "cell_type": "markdown",
   "metadata": {},
   "source": [
    "### 1.1: Solve with leontief values:"
   ]
  },
  {
   "cell_type": "code",
   "execution_count": 9,
   "metadata": {},
   "outputs": [],
   "source": [
    "gm.write_and_run(name='ID',kwargs_mi=kwargs_mi)\n",
    "dbs['ID'] = gm.model_instances['ID'].out_db"
   ]
  },
  {
   "cell_type": "markdown",
   "metadata": {},
   "source": [
    "*Merge into starting values:*"
   ]
  },
  {
   "cell_type": "code",
   "execution_count": 10,
   "metadata": {},
   "outputs": [],
   "source": [
    "gm.model.database.merge_dbs(gm.model.database,dbs['ID'],'second')"
   ]
  },
  {
   "cell_type": "markdown",
   "metadata": {},
   "source": [
    "*Add new target smoothing values:*"
   ]
  },
  {
   "cell_type": "code",
   "execution_count": 11,
   "metadata": {},
   "outputs": [],
   "source": [
    "db_star = DataBase.GPM_database()\n",
    "db_star['eta'] = pd.Series(-5, index = gm.get('eta').index, name = 'eta')\n",
    "db_star['sigma'] = pd.Series(10, index = gm.get('kno_ID_CU'),name='sigma').combine_first(\n",
    "                   pd.Series(0.5, index = gm.get('kno_ID_BX'),name='sigma')).combine_first(\n",
    "                   pd.Series(0.5, index = gm.get('kno_ID_Y'), name = 'sigma'))\n",
    "db_star['mu'] = pd.Series(1, index = gm.get('kno_ID_CU'),name='mu')"
   ]
  },
  {
   "cell_type": "markdown",
   "metadata": {},
   "source": [
    "*Solve smoothly:*"
   ]
  },
  {
   "cell_type": "code",
   "execution_count": 12,
   "metadata": {},
   "outputs": [
    {
     "data": {
      "text/plain": [
       "{'Modelstat': 16.0, 'Solvestat': 1.0}"
      ]
     },
     "execution_count": 12,
     "metadata": {},
     "output_type": "execute_result"
    }
   ],
   "source": [
    "gm.model_instances['ID'].solve_sneakily(db_star=db_star,kwargs_shock={'n_steps':100})"
   ]
  },
  {
   "cell_type": "markdown",
   "metadata": {},
   "source": [
    "*Write back data:*"
   ]
  },
  {
   "cell_type": "code",
   "execution_count": 13,
   "metadata": {},
   "outputs": [],
   "source": [
    "gm.model.database.merge_dbs(gm.model.database,dbs['ID'],'second')"
   ]
  },
  {
   "cell_type": "markdown",
   "metadata": {},
   "source": [
    "### 1.2: Calibrate"
   ]
  },
  {
   "cell_type": "code",
   "execution_count": 14,
   "metadata": {},
   "outputs": [],
   "source": [
    "gm.reset_settings()\n",
    "gm.setstate('ID_calibrate',init=False)"
   ]
  },
  {
   "cell_type": "markdown",
   "metadata": {},
   "source": [
    "*Load IO data:*"
   ]
  },
  {
   "cell_type": "code",
   "execution_count": 28,
   "metadata": {},
   "outputs": [
    {
     "data": {
      "text/plain": [
       "n                        nn         \n",
       "C0_EH                    EH             0.580000\n",
       "C_EH_1                   EH             0.120000\n",
       "C_EH_2                   EH             0.180000\n",
       "C_EH_3                   EH             0.120000\n",
       "EH                       out1           0.500000\n",
       "ID_t1_K                  ID_t1          1.600000\n",
       "ID_t1_electricity        ID_t1          1.000000\n",
       "ID_t1_oil                ID_t1          0.400000\n",
       "ID_t2_K                  ID_t2          5.000000\n",
       "ID_t2_electricity        ID_t2          1.000000\n",
       "U0_ID_C0_EH              C0_EH          1.000000\n",
       "                         basetech_EH    1.000000\n",
       "U0_ID_C_EH_1             C_EH_1         0.900000\n",
       "                         basetech_EH    1.000000\n",
       "U0_ID_C_EH_2             C_EH_2         0.866667\n",
       "                         basetech_EH    1.000000\n",
       "U0_ID_C_EH_3             C_EH_3         0.966667\n",
       "                         basetech_EH    1.000000\n",
       "U_ID_t1_1                C_EH_1         0.100000\n",
       "                         ID_t1          0.400000\n",
       "U_ID_t1_2                C_EH_2         0.100000\n",
       "                         ID_t1          0.600000\n",
       "U_ID_t2_1                C_EH_2         0.033333\n",
       "                         ID_t2          0.600000\n",
       "U_ID_t2_2                C_EH_3         0.033333\n",
       "                         ID_t2          0.400000\n",
       "Y                        out1           0.500000\n",
       "Y_K                      Y              0.250000\n",
       "Y_electricity            Y              0.250000\n",
       "Y_gas                    Y              0.250000\n",
       "Y_oil                    Y              0.250000\n",
       "basetech_EH_K            basetech_EH    0.250000\n",
       "basetech_EH_electricity  basetech_EH    0.250000\n",
       "basetech_EH_gas          basetech_EH    0.250000\n",
       "basetech_EH_oil          basetech_EH    0.250000\n",
       "Name: mu, dtype: float64"
      ]
     },
     "execution_count": 28,
     "metadata": {},
     "output_type": "execute_result"
    }
   ],
   "source": [
    "gm.model.database['mu'].rctree_pd(gm.get('ID_mu_endoincalib'))"
   ]
  },
  {
   "cell_type": "code",
   "execution_count": 15,
   "metadata": {},
   "outputs": [],
   "source": [
    "db = gm.add_calib_data(f[\"IOdata\"], currapp=False)"
   ]
  }
 ],
 "metadata": {
  "kernelspec": {
   "display_name": "Python 3",
   "language": "python",
   "name": "python3"
  },
  "language_info": {
   "codemirror_mode": {
    "name": "ipython",
    "version": 3
   },
   "file_extension": ".py",
   "mimetype": "text/x-python",
   "name": "python",
   "nbconvert_exporter": "python",
   "pygments_lexer": "ipython3",
   "version": "3.7.9"
  }
 },
 "nbformat": 4,
 "nbformat_minor": 4
}
