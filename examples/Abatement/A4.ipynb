{
 "cells": [
  {
   "cell_type": "code",
   "execution_count": 1,
   "metadata": {},
   "outputs": [],
   "source": [
    "clean_up=True # removes gams-related files in work-folder if true\n",
    "%run StdPackages.ipynb\n",
    "os.chdir(directory['py'])\n",
    "import techdata_to_tree, sys, ShockFunction\n",
    "import abatement_EOP_new as abatement\n",
    "os.chdir(directory['curr'])"
   ]
  },
  {
   "cell_type": "markdown",
   "metadata": {},
   "source": [
    "*Specify settings:*"
   ]
  },
  {
   "cell_type": "code",
   "execution_count": 2,
   "metadata": {},
   "outputs": [],
   "source": [
    "name = 'A4'\n",
    "# catalogue = 'dors_2'\n",
    "catalogue = 'C2'\n",
    "f = {'tech': directory['data']+f\"/techdata_{catalogue}.xlsx\",\n",
    "     'other': directory['data']+f\"/Othdata_{catalogue}.xlsx\",\n",
    "     'IOdata': directory['data']+f\"/IOdata_{catalogue}.xlsx\"}\n",
    "s = ['inputdisp','endofpipe','inputprices']\n",
    "m = ['ID','EOP'] \n",
    "e = {'M': 'vars','M_sets': 'sets'} # dictionary used to load emissions data\n",
    "other_trees = {'ID_Y': {'s': 'Y', 'read_data': {'Y': 'vars'}, 'Q2P': 'Q2P'}} # the key = tree name, s = sheet that specifies tree structure, read_data (if not None) specifies how to load data."
   ]
  },
  {
   "cell_type": "code",
   "execution_count": 3,
   "metadata": {},
   "outputs": [],
   "source": [
    "type_f = {'ID_EC': 'CES_norm',\n",
    "          'ID_CU': 'MNL',\n",
    "          'ID_TU': 'CET_norm',\n",
    "          'ID_TX': 'CES',\n",
    "          'ID_BU': 'linear_out',\n",
    "          'ID_BX': 'CES',\n",
    "          'EOP_CU': 'MNL',\n",
    "          'EOP_TU': 'CET_norm',\n",
    "          'EOP_TX': 'CES'}"
   ]
  },
  {
   "cell_type": "markdown",
   "metadata": {},
   "source": [
    "*Set up nesting tree:*"
   ]
  },
  {
   "cell_type": "code",
   "execution_count": 4,
   "metadata": {},
   "outputs": [],
   "source": [
    "%run ATree.ipynb"
   ]
  },
  {
   "cell_type": "code",
   "execution_count": 5,
   "metadata": {},
   "outputs": [],
   "source": [
    "dbs = {}"
   ]
  },
  {
   "cell_type": "markdown",
   "metadata": {},
   "source": [
    "## 1: Model without EOP"
   ]
  },
  {
   "cell_type": "markdown",
   "metadata": {},
   "source": [
    "*Initialize without EOP:*"
   ]
  },
  {
   "cell_type": "code",
   "execution_count": 6,
   "metadata": {},
   "outputs": [],
   "source": [
    "gm = abatement.abate(nts=nts,tech=tech,work_folder=directory['work'],use_EOP=False,**{'data_folder':directory['gams'],'name': name})\n",
    "gm.add_aliases([('n','nnnn'),('n','nnnnn')])\n",
    "gm.model.database.update_all_sets(clean_up=False) "
   ]
  },
  {
   "cell_type": "markdown",
   "metadata": {},
   "source": [
    "*Provide initial values:*"
   ]
  },
  {
   "cell_type": "code",
   "execution_count": 7,
   "metadata": {},
   "outputs": [],
   "source": [
    "gm.initialize_variables_leontief()\n",
    "gm.initialize_variables(**{'check_variables': True})"
   ]
  },
  {
   "cell_type": "markdown",
   "metadata": {},
   "source": [
    "*Add some extra options:*"
   ]
  },
  {
   "cell_type": "code",
   "execution_count": 8,
   "metadata": {},
   "outputs": [],
   "source": [
    "with open(os.getcwd()+'\\\\conopt_ExtraPivot.opt',\"r\") as file:\n",
    "    kwargs_mi = {'opt_file': file.read()}"
   ]
  },
  {
   "cell_type": "markdown",
   "metadata": {},
   "source": [
    "### 1.1: Solve with leontief values:"
   ]
  },
  {
   "cell_type": "code",
   "execution_count": 9,
   "metadata": {},
   "outputs": [],
   "source": [
    "gm.write_and_run(name='ID',kwargs_mi=kwargs_mi)\n",
    "dbs['ID'] = gm.model_instances['ID'].out_db"
   ]
  },
  {
   "cell_type": "markdown",
   "metadata": {},
   "source": [
    "*Merge into starting values:*"
   ]
  },
  {
   "cell_type": "code",
   "execution_count": 10,
   "metadata": {},
   "outputs": [],
   "source": [
    "gm.model.database.merge_dbs(gm.model.database,dbs['ID'],'second')"
   ]
  },
  {
   "cell_type": "markdown",
   "metadata": {},
   "source": [
    "*Add new target smoothing values:*"
   ]
  },
  {
   "cell_type": "code",
   "execution_count": 11,
   "metadata": {},
   "outputs": [],
   "source": [
    "db_star = DataBase.GPM_database()\n",
    "db_star['eta'] = pd.Series(-5, index = gm.get('eta').index, name = 'eta')\n",
    "db_star['sigma'] = pd.Series(5, index = gm.get('kno_ID_CU'),name='sigma').combine_first(\n",
    "                   pd.Series(0.5, index = gm.get('kno_ID_BX'),name='sigma')).combine_first(\n",
    "                   pd.Series(0.5, index = gm.get('kno_ID_Y'), name = 'sigma'))\n",
    "db_star['mu'] = pd.Series(1, index = gm.get('map_ID_CU'),name='mu')"
   ]
  },
  {
   "cell_type": "markdown",
   "metadata": {},
   "source": [
    "*Solve smoothly:*"
   ]
  },
  {
   "cell_type": "code",
   "execution_count": 12,
   "metadata": {},
   "outputs": [
    {
     "data": {
      "text/plain": [
       "{'Modelstat': 16.0, 'Solvestat': 1.0}"
      ]
     },
     "execution_count": 12,
     "metadata": {},
     "output_type": "execute_result"
    }
   ],
   "source": [
    "gm.model_instances['ID'].solve_sneakily(db_star=db_star,kwargs_shock={'n_steps':100})"
   ]
  },
  {
   "cell_type": "markdown",
   "metadata": {},
   "source": [
    "*Write back data:*"
   ]
  },
  {
   "cell_type": "code",
   "execution_count": 13,
   "metadata": {},
   "outputs": [],
   "source": [
    "gm.model.database.merge_dbs(gm.model.database,gm.model_instances['ID'].out_db,'second')"
   ]
  },
  {
   "cell_type": "markdown",
   "metadata": {},
   "source": [
    "### 1.2: Calibrate"
   ]
  },
  {
   "cell_type": "code",
   "execution_count": 14,
   "metadata": {},
   "outputs": [],
   "source": [
    "gm.reset_settings()\n",
    "gm.setstate('ID_calibrate',init=False)"
   ]
  },
  {
   "cell_type": "markdown",
   "metadata": {},
   "source": [
    "*Load IO data:*"
   ]
  },
  {
   "cell_type": "code",
   "execution_count": 15,
   "metadata": {},
   "outputs": [],
   "source": [
    "db = gm.add_calib_data(f[\"IOdata\"], currapp=False)"
   ]
  },
  {
   "cell_type": "markdown",
   "metadata": {},
   "source": [
    "*Percentage deviation from starting point:*"
   ]
  },
  {
   "cell_type": "markdown",
   "metadata": {},
   "source": [
    "*test run:*"
   ]
  },
  {
   "cell_type": "code",
   "execution_count": 16,
   "metadata": {},
   "outputs": [
    {
     "name": "stdout",
     "output_type": "stream",
     "text": [
      "--- Job CollectAndRun.gmy Start 09/16/21 15:55:49 29.1.0 rbb4180b WEX-WEI x86 64bit/MS Windows\n",
      "--- GAMS Parameters defined\n",
      "    LP CONOPT4\n",
      "    MIP CPLEX\n",
      "    RMIP CONOPT4\n",
      "    NLP CONOPT4\n",
      "    MCP PATH\n",
      "    MPEC NLPEC\n",
      "    RMPEC NLPEC\n",
      "    CNS CONOPT4\n",
      "    DNLP CONOPT4\n",
      "    RMINLP CONOPT4\n",
      "    MINLP DICOPT\n",
      "    QCP CONOPT4\n",
      "    MIQCP SBB\n",
      "    RMIQCP CONOPT4\n",
      "    EMP JAMS\n",
      "    Input C:\\Users\\sxj477\\Documents\\GitHub\\GPM_v05\\work_folder\\CollectAndRun.gmy\n",
      "    Output C:\\Users\\sxj477\\Documents\\GitHub\\GPM_v05\\work_folder\\_gams_py_gjo3.lst\n",
      "    ScrDir C:\\Users\\sxj477\\Documents\\GitHub\\GPM_v05\\work_folder\\225c\\\n",
      "    SysDir C:\\GAMS\\win64\\29.1\\\n",
      "    CurDir C:\\Users\\sxj477\\Documents\\GitHub\\GPM_v05\\work_folder\\\n",
      "    LogOption 3\n",
      "    LogFile C:\\Users\\sxj477\\Documents\\GitHub\\GPM_v05\\work_folder\\_gams_py_gjo3.log\n",
      "    GDX C:\\Users\\sxj477\\Documents\\GitHub\\GPM_v05\\work_folder\\_gams_py_gdb3.gdx\n",
      "    --ID_0 ID_0\n",
      "    --shock shock\n",
      "GAMS 29.1.0   Copyright (C) 1987-2019 GAMS Development. All rights reserved\n",
      "Licensee: Medium MUD - 10 User License                   G200108/0001CA-WIN\n",
      "          DREAM, Danish Rational Economic Agents Model                DC620\n",
      "          License Admin: Martin K. Bonde, mkb@dreammodel.dk                \n",
      "--- Starting compilation\n",
      "--- CollectAndRun.gmy(140) 2 Mb\n",
      "--- GDXin=C:\\Users\\sxj477\\Documents\\GitHub\\GPM_v05\\work_folder\\ID_0.gdx\n",
      "--- CollectAndRun.gmy(268) 3 Mb\n",
      "--- GDXin=C:\\Users\\sxj477\\Documents\\GitHub\\GPM_v05\\work_folder\\ID_0.gdx\n",
      "--- CollectAndRun.gmy(973) 3 Mb\n",
      "--- Starting execution: elapsed 0:00:00.241\n",
      "--- CollectAndRun.gmy(425) 4 Mb\n",
      "--- GDXin=C:\\Users\\sxj477\\Documents\\GitHub\\GPM_v05\\work_folder\\ID_0.gdx\n",
      "--- CollectAndRun.gmy(470) 4 Mb\n",
      "--- GDXin=C:\\Users\\sxj477\\Documents\\GitHub\\GPM_v05\\work_folder\\ID_0.gdx\n",
      "--- CollectAndRun.gmy(500) 4 Mb\n",
      "--- GDXin=C:\\Users\\sxj477\\Documents\\GitHub\\GPM_v05\\work_folder\\ID_0.gdx\n",
      "--- CollectAndRun.gmy(537) 4 Mb\n",
      "--- GDXin=C:\\Users\\sxj477\\Documents\\GitHub\\GPM_v05\\work_folder\\ID_0.gdx\n",
      "--- CollectAndRun.gmy(592) 4 Mb\n",
      "--- GDXin=C:\\Users\\sxj477\\Documents\\GitHub\\GPM_v05\\work_folder\\ID_0.gdx\n",
      "--- CollectAndRun.gmy(637) 4 Mb\n",
      "--- GDXin=C:\\Users\\sxj477\\Documents\\GitHub\\GPM_v05\\work_folder\\ID_0.gdx\n",
      "--- CollectAndRun.gmy(970) 4 Mb\n",
      "--- Generating NLP model A4_ID_calibrate\n",
      "--- CollectAndRun.gmy(971) 6 Mb\n",
      "---   117 rows  191 columns  615 non-zeroes\n",
      "---   1,244 nl-code  461 nl-non-zeroes\n",
      "--- CollectAndRun.gmy(971) 4 Mb\n",
      "--- Executing CONOPT4: elapsed 0:00:00.266\n",
      "\n",
      "CONOPT 4         29.1.0 rbb4180b Released Nov 15, 2019 WEI x86 64bit/MS Window\n",
      "Reading parameter(s) from \"C:\\Users\\sxj477\\Documents\\GitHub\\GPM_v05\\work_folder\\conopt4.opt\"\n",
      ">>  # Tell the solver that the system is square\n",
      ">>  # lssqrs = t\n",
      ">>  # Keep searching for a solution even if a bound is hit (due to non linearities)\n",
      ">>  lmmxsf = 1\n",
      ">>  # Time limit in seconds\n",
      ">>  rvtime = 1000000 \n",
      ">>  reslim = 1000000\n",
      ">>  # Limit for slow progress, Range: [12,MAXINT], Default: 12\n",
      ">>  # lfnicr = 100\n",
      ">>  # Optimality tolerance for reduced gradient\n",
      ">>  # RTREDG = 1.e-8\n",
      ">>  # Absolute pivot tolerance, Range: [2.2e-16, 1.e-7], Default: 1.e-10\n",
      ">>  rtpiva = 2.22044605e-16\n",
      ">>  Threads=4\n",
      ">>  THREADF=4\n",
      "Finished reading from \"C:\\Users\\sxj477\\Documents\\GitHub\\GPM_v05\\work_folder\\conopt4.opt\"\n",
      " \n",
      " \n",
      "    C O N O P T   version 4.15\n",
      "    Copyright (C) ARKI Consulting and Development A/S\n",
      "                  Bagsvaerdvej 246 A\n",
      "                  DK-2880 Bagsvaerd, Denmark\n",
      "    Licensed to:  GAMS/CONOPT OEM License\n",
      " \n",
      "    Will use up to 4 threads.\n",
      " \n",
      " \n",
      "    The user model has 117 constraints and 191 variables\n",
      "    with 615 Jacobian elements, 461 of which are nonlinear.\n",
      " \n",
      "    Iter Phase   Ninf   Infeasibility   RGmax      NSB   Step  InItr MX OK\n",
      "       0   0          1.0000000808E+00 (Input point)\n",
      " \n",
      "    The pre-triangular part of the model has 22 constraints and 92 variables.\n",
      "    The post-triangular part of the model has 5 constraints and variables.\n",
      "    There are 53 definitional constraints and defined variables.\n",
      " \n",
      "    Preprocessed model has 37 constraints and 41 variables\n",
      "    with 270 Jacobian elements, 260 of which are nonlinear.\n",
      " \n",
      "    Iter Phase   Ninf   Infeasibility   RGmax      NSB   Step  InItr MX OK\n",
      "                      8.0680367250E-08 (Full preprocessed model)\n",
      "                      8.0238432095E-08 (After scaling)\n",
      " \n",
      " ** Feasible solution. Value of objective =   9.238240150644E-08\n",
      " \n",
      "    Iter Phase   Ninf     Objective     RGmax      NSB   Step  InItr MX OK\n",
      "       5   4          8.8700574490E-08 3.4E-10       5\n",
      " \n",
      " ** Optimal solution. Reduced gradient less than tolerance.\n",
      " \n",
      "--- Restarting execution\n",
      "--- CollectAndRun.gmy(971) 2 Mb\n",
      "--- Reading solution for model A4_ID_calibrate\n",
      "--- CollectAndRun.gmy(972) 3 Mb\n",
      "--- GDX File C:\\Users\\sxj477\\Documents\\GitHub\\GPM_v05\\work_folder\\_gams_py_gdb3.gdx\n",
      "*** Status: Normal completion\n",
      "--- Job CollectAndRun.gmy Stop 09/16/21 15:55:50 elapsed 0:00:00.663\n"
     ]
    }
   ],
   "source": [
    "gm.write_and_run(name='ID_calibrate',kwargs_init={'check_variables':True},options_run={'output':sys.stdout},overwrite=True,kwargs_mi=kwargs_mi)\n",
    "# gm.write_and_run(name='ID_calibrate',kwargs_init={'check_variables':True},overwrite=True,kwargs_mi=kwargs_mi)"
   ]
  },
  {
   "cell_type": "markdown",
   "metadata": {},
   "source": [
    "*Sneaky solve:*"
   ]
  },
  {
   "cell_type": "code",
   "execution_count": 17,
   "metadata": {},
   "outputs": [
    {
     "data": {
      "text/plain": [
       "n   nn   \n",
       "EH  ID_t2    0.000001\n",
       "    ID_t1    0.000031\n",
       "Name: currapp, dtype: float64"
      ]
     },
     "execution_count": 17,
     "metadata": {},
     "output_type": "execute_result"
    }
   ],
   "source": [
    "gm.model_instances['ID'].out_db.get('currapp')"
   ]
  },
  {
   "cell_type": "code",
   "execution_count": 18,
   "metadata": {},
   "outputs": [
    {
     "name": "stdout",
     "output_type": "stream",
     "text": [
      "--- Job CollectAndRun.gmy Start 09/16/21 15:55:50 29.1.0 rbb4180b WEX-WEI x86 64bit/MS Windows\n",
      "--- GAMS Parameters defined\n",
      "    LP CONOPT4\n",
      "    MIP CPLEX\n",
      "    RMIP CONOPT4\n",
      "    NLP CONOPT4\n",
      "    MCP PATH\n",
      "    MPEC NLPEC\n",
      "    RMPEC NLPEC\n",
      "    CNS CONOPT4\n",
      "    DNLP CONOPT4\n",
      "    RMINLP CONOPT4\n",
      "    MINLP DICOPT\n",
      "    QCP CONOPT4\n",
      "    MIQCP SBB\n",
      "    RMIQCP CONOPT4\n",
      "    EMP JAMS\n",
      "    Input C:\\Users\\sxj477\\Documents\\GitHub\\GPM_v05\\work_folder\\CollectAndRun.gmy\n",
      "    Output C:\\Users\\sxj477\\Documents\\GitHub\\GPM_v05\\work_folder\\_gams_py_gjo4.lst\n",
      "    Save C:\\Users\\sxj477\\Documents\\GitHub\\GPM_v05\\work_folder\\_gams_py_gcp1.g0?\n",
      "    ScrDir C:\\Users\\sxj477\\Documents\\GitHub\\GPM_v05\\work_folder\\225c\\\n",
      "    SysDir C:\\GAMS\\win64\\29.1\\\n",
      "    CurDir C:\\Users\\sxj477\\Documents\\GitHub\\GPM_v05\\work_folder\\\n",
      "    LogOption 3\n",
      "    LogFile C:\\Users\\sxj477\\Documents\\GitHub\\GPM_v05\\work_folder\\_gams_py_gjo4.log\n",
      "    GDX C:\\Users\\sxj477\\Documents\\GitHub\\GPM_v05\\work_folder\\_gams_py_gdb4.gdx\n",
      "    --ID_0 ID_0\n",
      "    --shock shock\n",
      "GAMS 29.1.0   Copyright (C) 1987-2019 GAMS Development. All rights reserved\n",
      "Licensee: Medium MUD - 10 User License                   G200108/0001CA-WIN\n",
      "          DREAM, Danish Rational Economic Agents Model                DC620\n",
      "          License Admin: Martin K. Bonde, mkb@dreammodel.dk                \n",
      "--- Starting compilation\n",
      "--- CollectAndRun.gmy(140) 2 Mb\n",
      "--- GDXin=C:\\Users\\sxj477\\Documents\\GitHub\\GPM_v05\\work_folder\\ID_0.gdx\n",
      "--- CollectAndRun.gmy(268) 3 Mb\n",
      "--- GDXin=C:\\Users\\sxj477\\Documents\\GitHub\\GPM_v05\\work_folder\\ID_0.gdx\n",
      "--- CollectAndRun.gmy(973) 3 Mb\n",
      "--- Starting execution: elapsed 0:00:00.181\n",
      "--- CollectAndRun.gmy(425) 4 Mb\n",
      "--- GDXin=C:\\Users\\sxj477\\Documents\\GitHub\\GPM_v05\\work_folder\\ID_0.gdx\n",
      "--- CollectAndRun.gmy(470) 4 Mb\n",
      "--- GDXin=C:\\Users\\sxj477\\Documents\\GitHub\\GPM_v05\\work_folder\\ID_0.gdx\n",
      "--- CollectAndRun.gmy(500) 4 Mb\n",
      "--- GDXin=C:\\Users\\sxj477\\Documents\\GitHub\\GPM_v05\\work_folder\\ID_0.gdx\n",
      "--- CollectAndRun.gmy(537) 4 Mb\n",
      "--- GDXin=C:\\Users\\sxj477\\Documents\\GitHub\\GPM_v05\\work_folder\\ID_0.gdx\n",
      "--- CollectAndRun.gmy(592) 4 Mb\n",
      "--- GDXin=C:\\Users\\sxj477\\Documents\\GitHub\\GPM_v05\\work_folder\\ID_0.gdx\n",
      "--- CollectAndRun.gmy(637) 4 Mb\n",
      "--- GDXin=C:\\Users\\sxj477\\Documents\\GitHub\\GPM_v05\\work_folder\\ID_0.gdx\n",
      "--- CollectAndRun.gmy(970) 4 Mb\n",
      "--- Generating NLP model A4_ID_calibrate\n",
      "--- CollectAndRun.gmy(971) 6 Mb\n",
      "---   117 rows  191 columns  615 non-zeroes\n",
      "---   1,244 nl-code  461 nl-non-zeroes\n",
      "--- CollectAndRun.gmy(971) 4 Mb\n",
      "--- Executing CONOPT4: elapsed 0:00:00.217\n",
      "\n",
      "CONOPT 4         29.1.0 rbb4180b Released Nov 15, 2019 WEI x86 64bit/MS Window\n",
      "Reading parameter(s) from \"C:\\Users\\sxj477\\Documents\\GitHub\\GPM_v05\\work_folder\\conopt4.opt\"\n",
      ">>  # Tell the solver that the system is square\n",
      ">>  # lssqrs = t\n",
      ">>  # Keep searching for a solution even if a bound is hit (due to non linearities)\n",
      ">>  lmmxsf = 1\n",
      ">>  # Time limit in seconds\n",
      ">>  rvtime = 1000000 \n",
      ">>  reslim = 1000000\n",
      ">>  # Limit for slow progress, Range: [12,MAXINT], Default: 12\n",
      ">>  # lfnicr = 100\n",
      ">>  # Optimality tolerance for reduced gradient\n",
      ">>  # RTREDG = 1.e-8\n",
      ">>  # Absolute pivot tolerance, Range: [2.2e-16, 1.e-7], Default: 1.e-10\n",
      ">>  rtpiva = 2.22044605e-16\n",
      ">>  Threads=4\n",
      ">>  THREADF=4\n",
      "Finished reading from \"C:\\Users\\sxj477\\Documents\\GitHub\\GPM_v05\\work_folder\\conopt4.opt\"\n",
      " \n",
      " \n",
      "    C O N O P T   version 4.15\n",
      "    Copyright (C) ARKI Consulting and Development A/S\n",
      "                  Bagsvaerdvej 246 A\n",
      "                  DK-2880 Bagsvaerd, Denmark\n",
      "    Licensed to:  GAMS/CONOPT OEM License\n",
      " \n",
      "    Will use up to 4 threads.\n",
      " \n",
      " \n",
      "    The user model has 117 constraints and 191 variables\n",
      "    with 615 Jacobian elements, 461 of which are nonlinear.\n",
      " \n",
      "    Iter Phase   Ninf   Infeasibility   RGmax      NSB   Step  InItr MX OK\n",
      "       0   0          1.0000000808E+00 (Input point)\n",
      " \n",
      "    The pre-triangular part of the model has 22 constraints and 92 variables.\n",
      "    The post-triangular part of the model has 5 constraints and variables.\n",
      "    There are 53 definitional constraints and defined variables.\n",
      " \n",
      "    Preprocessed model has 37 constraints and 41 variables\n",
      "    with 270 Jacobian elements, 260 of which are nonlinear.\n",
      " \n",
      "    Iter Phase   Ninf   Infeasibility   RGmax      NSB   Step  InItr MX OK\n",
      "                      8.0680367250E-08 (Full preprocessed model)\n",
      "                      8.0238432095E-08 (After scaling)\n",
      " \n",
      " ** Feasible solution. Value of objective =   9.238240150644E-08\n",
      " \n",
      "    Iter Phase   Ninf     Objective     RGmax      NSB   Step  InItr MX OK\n",
      "       5   4          8.8700574490E-08 3.4E-10       5\n",
      " \n",
      " ** Optimal solution. Reduced gradient less than tolerance.\n",
      " \n",
      "--- Restarting execution\n",
      "--- CollectAndRun.gmy(971) 2 Mb\n",
      "--- Reading solution for model A4_ID_calibrate\n",
      "--- CollectAndRun.gmy(972) 3 Mb\n",
      "--- GDX File C:\\Users\\sxj477\\Documents\\GitHub\\GPM_v05\\work_folder\\_gams_py_gdb4.gdx\n",
      "*** Status: Normal completion\n",
      "--- Job CollectAndRun.gmy Stop 09/16/21 15:55:51 elapsed 0:00:00.456\n",
      "--- Job A4_ID_calibrate.gms Start 09/16/21 15:55:52 29.1.0 rbb4180b WEX-WEI x86 64bit/MS Windows\n",
      "--- GAMS Parameters defined\n",
      "    LP CONOPT4\n",
      "    MIP CPLEX\n",
      "    RMIP CONOPT4\n",
      "    NLP CONOPT4\n",
      "    MCP PATH\n",
      "    MPEC NLPEC\n",
      "    RMPEC NLPEC\n",
      "    CNS CONOPT4\n",
      "    DNLP CONOPT4\n",
      "    RMINLP CONOPT4\n",
      "    MINLP DICOPT\n",
      "    QCP CONOPT4\n",
      "    MIQCP SBB\n",
      "    RMIQCP CONOPT4\n",
      "    EMP JAMS\n",
      "    Restart C:\\Users\\sxj477\\Documents\\GitHub\\GPM_v05\\work_folder\\_gams_py_gcp1.g00\n",
      "    Input C:\\Users\\sxj477\\Documents\\GitHub\\GPM_v05\\work_folder\\A4_ID_calibrate.gms\n",
      "    Output C:\\Users\\sxj477\\Documents\\GitHub\\GPM_v05\\work_folder\\_gams_py_gjo5.lst\n",
      "    ScrDir C:\\Users\\sxj477\\Documents\\GitHub\\GPM_v05\\work_folder\\225c\\\n",
      "    SysDir C:\\GAMS\\win64\\29.1\\\n",
      "    CurDir C:\\Users\\sxj477\\Documents\\GitHub\\GPM_v05\\work_folder\\\n",
      "    LogOption 3\n",
      "    LogFile C:\\Users\\sxj477\\Documents\\GitHub\\GPM_v05\\work_folder\\_gams_py_gjo5.log\n",
      "    GDX C:\\Users\\sxj477\\Documents\\GitHub\\GPM_v05\\work_folder\\_gams_py_gdb5.gdx\n",
      "    --ID_0 ID_0\n",
      "    --shock shock\n",
      "    --shock_0 shock_0.gdx\n",
      "GAMS 29.1.0   Copyright (C) 1987-2019 GAMS Development. All rights reserved\n",
      "Licensee: Medium MUD - 10 User License                   G200108/0001CA-WIN\n",
      "          DREAM, Danish Rational Economic Agents Model                DC620\n",
      "          License Admin: Martin K. Bonde, mkb@dreammodel.dk                \n",
      "--- Starting continued compilation\n",
      "--- Workfile was generated under GAMS version WEX291-291\n",
      "--- A4_ID_calibrate.gms(17) 3 Mb\n",
      "--- GDXin=C:\\Users\\sxj477\\Documents\\GitHub\\GPM_v05\\work_folder\\shock_0.gdx\n",
      "--- A4_ID_calibrate.gms(35) 3 Mb\n",
      "--- GDXin=C:\\Users\\sxj477\\Documents\\GitHub\\GPM_v05\\work_folder\\shock_0.gdx\n",
      "--- A4_ID_calibrate.gms(52) 3 Mb\n",
      "--- Starting execution: elapsed 0:00:00.091\n",
      "--- A4_ID_calibrate.gms(1014) 4 Mb\n",
      "--- Generating NLP model A4_ID_calibrate\n",
      "--- A4_ID_calibrate.gms(1022) 6 Mb\n",
      "--- LOOPS l1 = l1_1\n",
      "---   117 rows  191 columns  615 non-zeroes\n",
      "---   1,244 nl-code  461 nl-non-zeroes\n",
      "--- A4_ID_calibrate.gms(1022) 4 Mb\n",
      "--- Executing CONOPT4: elapsed 0:00:00.104\n",
      "\n",
      "CONOPT 4         29.1.0 rbb4180b Released Nov 15, 2019 WEI x86 64bit/MS Window\n",
      "Reading parameter(s) from \"C:\\Users\\sxj477\\Documents\\GitHub\\GPM_v05\\work_folder\\conopt4.opt\"\n",
      ">>  # Tell the solver that the system is square\n",
      ">>  # lssqrs = t\n",
      ">>  # Keep searching for a solution even if a bound is hit (due to non linearities)\n",
      ">>  lmmxsf = 1\n",
      ">>  # Time limit in seconds\n",
      ">>  rvtime = 1000000 \n",
      ">>  reslim = 1000000\n",
      ">>  # Limit for slow progress, Range: [12,MAXINT], Default: 12\n",
      ">>  # lfnicr = 100\n",
      ">>  # Optimality tolerance for reduced gradient\n",
      ">>  # RTREDG = 1.e-8\n",
      ">>  # Absolute pivot tolerance, Range: [2.2e-16, 1.e-7], Default: 1.e-10\n",
      ">>  rtpiva = 2.22044605e-16\n",
      ">>  Threads=4\n",
      ">>  THREADF=4\n",
      "Finished reading from \"C:\\Users\\sxj477\\Documents\\GitHub\\GPM_v05\\work_folder\\conopt4.opt\"\n",
      " \n",
      " \n",
      "    C O N O P T   version 4.15\n",
      "    Copyright (C) ARKI Consulting and Development A/S\n",
      "                  Bagsvaerdvej 246 A\n",
      "                  DK-2880 Bagsvaerd, Denmark\n",
      "    Licensed to:  GAMS/CONOPT OEM License\n",
      " \n",
      "    Will use up to 4 threads.\n",
      " \n",
      " \n",
      "    The user model has 117 constraints and 191 variables\n",
      "    with 615 Jacobian elements, 461 of which are nonlinear.\n",
      " \n",
      "    Iter Phase   Ninf   Infeasibility   RGmax      NSB   Step  InItr MX OK\n",
      "       0   0          4.0005008538E-08 (Input point)\n",
      " \n",
      "    The pre-triangular part of the model has 22 constraints and 92 variables.\n",
      "    The post-triangular part of the model has 5 constraints and variables.\n",
      "    There are 53 definitional constraints and defined variables.\n",
      " \n",
      "    Preprocessed model has 37 constraints and 41 variables\n",
      "    with 270 Jacobian elements, 260 of which are nonlinear.\n",
      " \n",
      "    Iter Phase   Ninf   Infeasibility   RGmax      NSB   Step  InItr MX OK\n",
      "                      4.0005007489E-08 (Full preprocessed model)\n",
      "                      4.0002799921E-08 (After scaling)\n",
      "       1   1       1  3.9998886866E-08 1.9E-10       1 7.7E-03     1 F  T\n",
      " \n",
      " ** Feasible solution. Value of objective =   8.459715463887E-03\n",
      " \n",
      " ** Fatal Error **  Function evaluation error while reducing tolerances.\n",
      " \n",
      "--- Restarting execution\n",
      "--- A4_ID_calibrate.gms(1022) 2 Mb\n",
      "--- Reading solution for model A4_ID_calibrate\n",
      "--- A4_ID_calibrate.gms(1014) 3 Mb\n",
      "--- Generating NLP model A4_ID_calibrate\n",
      "--- A4_ID_calibrate.gms(1022) 3 Mb 1 Error\n",
      "*** SOLVE aborted\n",
      "--- GDX File C:\\Users\\sxj477\\Documents\\GitHub\\GPM_v05\\work_folder\\_gams_py_gdb5.gdx\n",
      "--- A4_ID_calibrate.gms(1022) 3 Mb 1 Error\n",
      "*** Status: Execution error(s)\n",
      "--- Job A4_ID_calibrate.gms Stop 09/16/21 15:55:52 elapsed 0:00:00.346\n"
     ]
    },
    {
     "ename": "GamsExceptionExecution",
     "evalue": "GAMS return code not 0 (3), check C:\\Users\\sxj477\\Documents\\GitHub\\GPM_v05\\work_folder\\_gams_py_gjo5.lst for more details",
     "output_type": "error",
     "traceback": [
      "\u001b[1;31m---------------------------------------------------------------------------\u001b[0m",
      "\u001b[1;31mGamsExceptionExecution\u001b[0m                    Traceback (most recent call last)",
      "\u001b[1;32m<ipython-input-18-dbcf1d48ffdf>\u001b[0m in \u001b[0;36m<module>\u001b[1;34m\u001b[0m\n\u001b[1;32m----> 1\u001b[1;33m \u001b[0mgm\u001b[0m\u001b[1;33m.\u001b[0m\u001b[0mmodel_instances\u001b[0m\u001b[1;33m[\u001b[0m\u001b[1;34m'ID_calibrate'\u001b[0m\u001b[1;33m]\u001b[0m\u001b[1;33m.\u001b[0m\u001b[0msolve_sneakily\u001b[0m\u001b[1;33m(\u001b[0m\u001b[0mdb_star\u001b[0m\u001b[1;33m=\u001b[0m\u001b[0mdb\u001b[0m\u001b[1;33m,\u001b[0m\u001b[0moptions_run\u001b[0m\u001b[1;33m=\u001b[0m\u001b[1;33m{\u001b[0m\u001b[1;34m'output'\u001b[0m\u001b[1;33m:\u001b[0m\u001b[0msys\u001b[0m\u001b[1;33m.\u001b[0m\u001b[0mstdout\u001b[0m\u001b[1;33m}\u001b[0m\u001b[1;33m,\u001b[0m\u001b[0mkwargs_shock\u001b[0m\u001b[1;33m=\u001b[0m\u001b[1;33m{\u001b[0m\u001b[1;34m'n_steps'\u001b[0m\u001b[1;33m:\u001b[0m\u001b[1;36m10\u001b[0m\u001b[1;33m,\u001b[0m \u001b[1;34m'solvetext'\u001b[0m\u001b[1;33m:\u001b[0m \u001b[0mgm\u001b[0m\u001b[1;33m.\u001b[0m\u001b[0mmodel\u001b[0m\u001b[1;33m.\u001b[0m\u001b[0msettings\u001b[0m\u001b[1;33m.\u001b[0m\u001b[0mget_conf\u001b[0m\u001b[1;33m(\u001b[0m\u001b[1;34m'solve'\u001b[0m\u001b[1;33m)\u001b[0m\u001b[1;33m}\u001b[0m\u001b[1;33m)\u001b[0m\u001b[1;33m\u001b[0m\u001b[1;33m\u001b[0m\u001b[0m\n\u001b[0m",
      "\u001b[1;32m~\\Documents\\GitHub\\GPM_v05\\py_main\\DB2Gams_l3.py\u001b[0m in \u001b[0;36msolve_sneakily\u001b[1;34m(self, db_star, from_cp, cp_init, run_from_job, shock_db, options_run, kwargs_shock, kwargs_db, model_name)\u001b[0m\n\u001b[0;32m    129\u001b[0m                         \u001b[1;33m(\u001b[0m\u001b[0mshock_db\u001b[0m\u001b[1;33m,\u001b[0m \u001b[0mkwargs_shock2\u001b[0m\u001b[1;33m)\u001b[0m \u001b[1;33m=\u001b[0m \u001b[0mShockFunction\u001b[0m\u001b[1;33m.\u001b[0m\u001b[0msneaky_db\u001b[0m\u001b[1;33m(\u001b[0m\u001b[0mself\u001b[0m\u001b[1;33m.\u001b[0m\u001b[0mout_db\u001b[0m\u001b[1;33m,\u001b[0m\u001b[0mdb_star\u001b[0m\u001b[1;33m,\u001b[0m\u001b[1;33m**\u001b[0m\u001b[0mkwargs_shock\u001b[0m\u001b[1;33m)\u001b[0m\u001b[1;33m\u001b[0m\u001b[1;33m\u001b[0m\u001b[0m\n\u001b[0;32m    130\u001b[0m                 \u001b[0mshock\u001b[0m \u001b[1;33m=\u001b[0m \u001b[0mself\u001b[0m\u001b[1;33m.\u001b[0m\u001b[0mstd_UEVAS_from_db\u001b[0m\u001b[1;33m(\u001b[0m\u001b[0mshock_db\u001b[0m\u001b[1;33m,\u001b[0m\u001b[0mmodel_name\u001b[0m\u001b[1;33m=\u001b[0m\u001b[0mmodel_name\u001b[0m\u001b[1;33m,\u001b[0m\u001b[1;33m**\u001b[0m\u001b[1;33m{\u001b[0m\u001b[1;33m**\u001b[0m\u001b[0mkwargs_shock\u001b[0m\u001b[1;33m,\u001b[0m\u001b[1;33m**\u001b[0m\u001b[0mkwargs_shock2\u001b[0m\u001b[1;33m}\u001b[0m\u001b[1;33m)\u001b[0m\u001b[1;33m\u001b[0m\u001b[1;33m\u001b[0m\u001b[0m\n\u001b[1;32m--> 131\u001b[1;33m                 \u001b[0mself\u001b[0m\u001b[1;33m.\u001b[0m\u001b[0mexecute_shock_from_cp\u001b[0m\u001b[1;33m(\u001b[0m\u001b[0mshock\u001b[0m\u001b[1;33m,\u001b[0m\u001b[0mcp_init\u001b[0m\u001b[1;33m,\u001b[0m\u001b[0moptions_run\u001b[0m\u001b[1;33m=\u001b[0m\u001b[0moptions_run\u001b[0m\u001b[1;33m,\u001b[0m\u001b[0mkwargs_db\u001b[0m\u001b[1;33m=\u001b[0m\u001b[0mkwargs_db\u001b[0m\u001b[1;33m)\u001b[0m\u001b[1;33m\u001b[0m\u001b[1;33m\u001b[0m\u001b[0m\n\u001b[0m\u001b[0;32m    132\u001b[0m                 \u001b[1;32mif\u001b[0m \u001b[0mself\u001b[0m\u001b[1;33m.\u001b[0m\u001b[0msettings\u001b[0m\u001b[1;33m.\u001b[0m\u001b[0msolvestat\u001b[0m \u001b[1;32mis\u001b[0m \u001b[1;32mTrue\u001b[0m\u001b[1;33m:\u001b[0m\u001b[1;33m\u001b[0m\u001b[1;33m\u001b[0m\u001b[0m\n\u001b[0;32m    133\u001b[0m                         \u001b[1;32mreturn\u001b[0m \u001b[1;33m{\u001b[0m\u001b[1;34m'Modelstat'\u001b[0m\u001b[1;33m:\u001b[0m \u001b[0mself\u001b[0m\u001b[1;33m.\u001b[0m\u001b[0mmodelstat\u001b[0m\u001b[1;33m,\u001b[0m \u001b[1;34m'Solvestat'\u001b[0m\u001b[1;33m:\u001b[0m \u001b[0mself\u001b[0m\u001b[1;33m.\u001b[0m\u001b[0msolvestat\u001b[0m\u001b[1;33m}\u001b[0m\u001b[1;33m\u001b[0m\u001b[1;33m\u001b[0m\u001b[0m\n",
      "\u001b[1;32m~\\Documents\\GitHub\\GPM_v05\\py_main\\DB2Gams_l3.py\u001b[0m in \u001b[0;36mexecute_shock_from_cp\u001b[1;34m(self, shock, cp, options_run, kwargs_db)\u001b[0m\n\u001b[0;32m    153\u001b[0m                 \u001b[0mself\u001b[0m\u001b[1;33m.\u001b[0m\u001b[0mopt\u001b[0m\u001b[1;33m.\u001b[0m\u001b[0mdefines\u001b[0m\u001b[1;33m[\u001b[0m\u001b[0mshock\u001b[0m\u001b[1;33m.\u001b[0m\u001b[0mshock_gm\u001b[0m\u001b[1;33m.\u001b[0m\u001b[0mdatabase\u001b[0m\u001b[1;33m.\u001b[0m\u001b[0mname\u001b[0m\u001b[1;33m]\u001b[0m \u001b[1;33m=\u001b[0m \u001b[0mshock\u001b[0m\u001b[1;33m.\u001b[0m\u001b[0mshock_gm\u001b[0m\u001b[1;33m.\u001b[0m\u001b[0mdatabase\u001b[0m\u001b[1;33m.\u001b[0m\u001b[0mname\u001b[0m\u001b[1;33m+\u001b[0m\u001b[1;34m'.gdx'\u001b[0m\u001b[1;33m\u001b[0m\u001b[1;33m\u001b[0m\u001b[0m\n\u001b[0;32m    154\u001b[0m                 \u001b[0mself\u001b[0m\u001b[1;33m.\u001b[0m\u001b[0mjob\u001b[0m \u001b[1;33m=\u001b[0m \u001b[0mself\u001b[0m\u001b[1;33m.\u001b[0m\u001b[0mws\u001b[0m\u001b[1;33m.\u001b[0m\u001b[0madd_job_from_file\u001b[0m\u001b[1;33m(\u001b[0m\u001b[0mshock\u001b[0m\u001b[1;33m.\u001b[0m\u001b[0mgms\u001b[0m\u001b[1;33m,\u001b[0m\u001b[1;33m**\u001b[0m\u001b[1;33m{\u001b[0m\u001b[1;34m'checkpoint'\u001b[0m\u001b[1;33m:\u001b[0m \u001b[0mcp\u001b[0m\u001b[1;33m}\u001b[0m\u001b[1;33m)\u001b[0m\u001b[1;33m\u001b[0m\u001b[1;33m\u001b[0m\u001b[0m\n\u001b[1;32m--> 155\u001b[1;33m                 \u001b[0mself\u001b[0m\u001b[1;33m.\u001b[0m\u001b[0mrun\u001b[0m\u001b[1;33m(\u001b[0m\u001b[0mrun_from_job\u001b[0m\u001b[1;33m=\u001b[0m\u001b[1;32mTrue\u001b[0m\u001b[1;33m,\u001b[0m\u001b[0moptions_run\u001b[0m\u001b[1;33m=\u001b[0m\u001b[0moptions_run\u001b[0m\u001b[1;33m,\u001b[0m\u001b[0mkwargs_db\u001b[0m\u001b[1;33m=\u001b[0m\u001b[0mkwargs_db\u001b[0m\u001b[1;33m)\u001b[0m\u001b[1;33m\u001b[0m\u001b[1;33m\u001b[0m\u001b[0m\n\u001b[0m\u001b[0;32m    156\u001b[0m \u001b[1;33m\u001b[0m\u001b[0m\n\u001b[0;32m    157\u001b[0m         \u001b[1;32mdef\u001b[0m \u001b[0mwrite_run_file\u001b[0m\u001b[1;33m(\u001b[0m\u001b[0mself\u001b[0m\u001b[1;33m,\u001b[0m\u001b[1;33m**\u001b[0m\u001b[0mkwargs\u001b[0m\u001b[1;33m)\u001b[0m\u001b[1;33m:\u001b[0m\u001b[1;33m\u001b[0m\u001b[1;33m\u001b[0m\u001b[0m\n",
      "\u001b[1;32m~\\Documents\\GitHub\\GPM_v05\\py_main\\DB2Gams_l3.py\u001b[0m in \u001b[0;36mrun\u001b[1;34m(self, run_from_job, overwrite, kwargs_write, options_add, options_run, kwargs_db)\u001b[0m\n\u001b[0;32m     72\u001b[0m                         \u001b[0mself\u001b[0m\u001b[1;33m.\u001b[0m\u001b[0mmodel_instance\u001b[0m\u001b[1;33m(\u001b[0m\u001b[0moverwrite\u001b[0m\u001b[1;33m=\u001b[0m\u001b[0moverwrite\u001b[0m\u001b[1;33m,\u001b[0m\u001b[1;33m**\u001b[0m\u001b[0mkwargs_write\u001b[0m\u001b[1;33m)\u001b[0m\u001b[1;33m\u001b[0m\u001b[1;33m\u001b[0m\u001b[0m\n\u001b[0;32m     73\u001b[0m                         \u001b[0mself\u001b[0m\u001b[1;33m.\u001b[0m\u001b[0madd_job\u001b[0m\u001b[1;33m(\u001b[0m\u001b[0moptions_add\u001b[0m\u001b[1;33m)\u001b[0m\u001b[1;33m\u001b[0m\u001b[1;33m\u001b[0m\u001b[0m\n\u001b[1;32m---> 74\u001b[1;33m                 \u001b[0mself\u001b[0m\u001b[1;33m.\u001b[0m\u001b[0mrun_job\u001b[0m\u001b[1;33m(\u001b[0m\u001b[0moptions_run\u001b[0m\u001b[1;33m)\u001b[0m\u001b[1;33m\u001b[0m\u001b[1;33m\u001b[0m\u001b[0m\n\u001b[0m\u001b[0;32m     75\u001b[0m                 \u001b[0mself\u001b[0m\u001b[1;33m.\u001b[0m\u001b[0mout_db\u001b[0m \u001b[1;33m=\u001b[0m \u001b[0mDataBase\u001b[0m\u001b[1;33m.\u001b[0m\u001b[0mGPM_database\u001b[0m\u001b[1;33m(\u001b[0m\u001b[0mworkspace\u001b[0m\u001b[1;33m=\u001b[0m\u001b[0mself\u001b[0m\u001b[1;33m.\u001b[0m\u001b[0msettings\u001b[0m\u001b[1;33m.\u001b[0m\u001b[0mws\u001b[0m\u001b[1;33m,\u001b[0m\u001b[0mdb\u001b[0m\u001b[1;33m=\u001b[0m\u001b[0mself\u001b[0m\u001b[1;33m.\u001b[0m\u001b[0mjob\u001b[0m\u001b[1;33m.\u001b[0m\u001b[0mout_db\u001b[0m\u001b[1;33m,\u001b[0m\u001b[1;33m**\u001b[0m\u001b[0mkwargs_db\u001b[0m\u001b[1;33m)\u001b[0m\u001b[1;33m\u001b[0m\u001b[1;33m\u001b[0m\u001b[0m\n\u001b[0;32m     76\u001b[0m                 \u001b[1;32mif\u001b[0m \u001b[0mself\u001b[0m\u001b[1;33m.\u001b[0m\u001b[0msettings\u001b[0m\u001b[1;33m.\u001b[0m\u001b[0msolvestat\u001b[0m \u001b[1;32mis\u001b[0m \u001b[1;32mTrue\u001b[0m\u001b[1;33m:\u001b[0m\u001b[1;33m\u001b[0m\u001b[1;33m\u001b[0m\u001b[0m\n",
      "\u001b[1;32m~\\Documents\\GitHub\\GPM_v05\\py_main\\DB2Gams_l3.py\u001b[0m in \u001b[0;36mrun_job\u001b[1;34m(self, options)\u001b[0m\n\u001b[0;32m    110\u001b[0m                 \u001b[0mAdd\u001b[0m \u001b[0moptions\u001b[0m \u001b[0musing\u001b[0m \u001b[0mdict\u001b[0m \u001b[1;32mwith\u001b[0m \u001b[0mkey\u001b[0m \u001b[1;33m=\u001b[0m \u001b[0moption_name\u001b[0m\u001b[1;33m,\u001b[0m \u001b[0mvalue\u001b[0m \u001b[1;33m=\u001b[0m \u001b[0moption\u001b[0m\u001b[1;33m.\u001b[0m\u001b[1;33m\u001b[0m\u001b[1;33m\u001b[0m\u001b[0m\n\u001b[0;32m    111\u001b[0m \t\t\"\"\"\n\u001b[1;32m--> 112\u001b[1;33m                 \u001b[0mself\u001b[0m\u001b[1;33m.\u001b[0m\u001b[0mjob\u001b[0m\u001b[1;33m.\u001b[0m\u001b[0mrun\u001b[0m\u001b[1;33m(\u001b[0m\u001b[0mgams_options\u001b[0m\u001b[1;33m=\u001b[0m\u001b[0mself\u001b[0m\u001b[1;33m.\u001b[0m\u001b[0mopt\u001b[0m\u001b[1;33m,\u001b[0m\u001b[0mdatabases\u001b[0m\u001b[1;33m=\u001b[0m\u001b[0mself\u001b[0m\u001b[1;33m.\u001b[0m\u001b[0msettings\u001b[0m\u001b[1;33m.\u001b[0m\u001b[0mdatabases_gdx\u001b[0m\u001b[1;33m,\u001b[0m\u001b[1;33m**\u001b[0m\u001b[0moptions\u001b[0m\u001b[1;33m)\u001b[0m\u001b[1;33m\u001b[0m\u001b[1;33m\u001b[0m\u001b[0m\n\u001b[0m\u001b[0;32m    113\u001b[0m \u001b[1;33m\u001b[0m\u001b[0m\n\u001b[0;32m    114\u001b[0m         \u001b[1;32mdef\u001b[0m \u001b[0mupdate_placeholders\u001b[0m\u001b[1;33m(\u001b[0m\u001b[0mself\u001b[0m\u001b[1;33m)\u001b[0m\u001b[1;33m:\u001b[0m\u001b[1;33m\u001b[0m\u001b[1;33m\u001b[0m\u001b[0m\n",
      "\u001b[1;32m~\\Anaconda3\\envs\\OldPython\\lib\\site-packages\\gams\\execution.pyd\u001b[0m in \u001b[0;36mgams.execution.GamsJob.run\u001b[1;34m()\u001b[0m\n",
      "\u001b[1;31mGamsExceptionExecution\u001b[0m: GAMS return code not 0 (3), check C:\\Users\\sxj477\\Documents\\GitHub\\GPM_v05\\work_folder\\_gams_py_gjo5.lst for more details"
     ]
    }
   ],
   "source": [
    "gm.model_instances['ID_calibrate'].solve_sneakily(db_star=db,options_run={'output':sys.stdout},kwargs_shock={'n_steps':10, 'solvetext': gm.model.settings.get_conf('solve')})"
   ]
  }
 ],
 "metadata": {
  "kernelspec": {
   "display_name": "Python 3",
   "language": "python",
   "name": "python3"
  },
  "language_info": {
   "codemirror_mode": {
    "name": "ipython",
    "version": 3
   },
   "file_extension": ".py",
   "mimetype": "text/x-python",
   "name": "python",
   "nbconvert_exporter": "python",
   "pygments_lexer": "ipython3",
   "version": "3.7.9"
  }
 },
 "nbformat": 4,
 "nbformat_minor": 4
}
