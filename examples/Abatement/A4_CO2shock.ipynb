{
 "cells": [
  {
   "cell_type": "code",
   "execution_count": 56,
   "metadata": {},
   "outputs": [
    {
     "name": "stdout",
     "output_type": "stream",
     "text": [
      "The file_gams_py_gdb0.gdx is still active and was not deleted.\n",
      "The file_gams_py_gdb1.gdx is still active and was not deleted.\n",
      "The file_gams_py_gdb2.gdx is still active and was not deleted.\n",
      "The file_gams_py_gdb3.gdx is still active and was not deleted.\n",
      "The file_gams_py_gdb5.gdx is still active and was not deleted.\n",
      "The file_gams_py_gdb7.gdx is still active and was not deleted.\n"
     ]
    }
   ],
   "source": [
    "#Auxiliary notebook to run from A3_jonathan\n",
    "clean_up=True # removes gams-related files in work-folder if true\n",
    "%run StdPackages.ipynb\n",
    "n_steps_factor = 1"
   ]
  },
  {
   "cell_type": "code",
   "execution_count": 57,
   "metadata": {},
   "outputs": [],
   "source": [
    "# catalog = \"main_catalog\"\n",
    "# currapp = False\n",
    "# os.chdir(directory['py'])\n",
    "# import techdata_to_tree, sys, ShockFunction\n",
    "# import abatement_EOP_new as abatement\n",
    "# import ShockFunction\n",
    "# from DB2Gams import OrdSet as OS\n",
    "# os.chdir(directory['curr'])\n",
    "# with open(os.getcwd()+'\\\\conopt_ExtraPivot.opt',\"r\") as file:\n",
    "#     kwargs_mi = {'opt_file': file.read()}"
   ]
  },
  {
   "cell_type": "code",
   "execution_count": 63,
   "metadata": {},
   "outputs": [],
   "source": [
    "def organize_sol_data(sols, x_var, nodes_to_save, node_to_shock, tech_catalog):\n",
    "#     warnings.filterwarnings(\"error\", UserWarning)\n",
    "    list_of_dfs = []\n",
    "    for var in sols:\n",
    "        if var == x_var:\n",
    "            continue\n",
    "        df = sols[var]\n",
    "        index_name = df.index.names[1]\n",
    "        if len(df.index.get_level_values(index_name).unique()) == 1:\n",
    "            only_one_series = True\n",
    "        else:\n",
    "            only_one_series = False\n",
    "        df = df.reset_index()\n",
    "        df2 = df.pivot_table(df.columns[-1], df.columns[0], df.columns[1]).reset_index()\n",
    "        if tech_catalog in nodes_to_save and not only_one_series:\n",
    "            df2 = df2[[x_var + \"_loop\"] + [c for c in nodes_to_save[tech_catalog] if c in df2.columns]]\n",
    "        df3 = df2.merge(sols[x_var].iloc[sols[x_var].index.get_level_values(1) == node_to_shock].reset_index().drop(columns=sols[x_var].index.names[1]), \\\n",
    "                        how=\"inner\", on=x_var+\"_loop\").drop(columns=x_var+\"_loop\")\n",
    "        df3 = df3.rename(columns={\"sol_\"+x_var:x_var}).set_index(x_var).sort_values(by=x_var)\n",
    "        if only_one_series:\n",
    "            df3.rename(columns={df3.columns[0]:var}, inplace=True)\n",
    "        else:\n",
    "            df3.rename(columns={key:var + \"_\"+ key for key in df3.columns}, inplace=True)\n",
    "        list_of_dfs.append(df3)\n",
    "    return list_of_dfs"
   ]
  },
  {
   "cell_type": "code",
   "execution_count": 64,
   "metadata": {},
   "outputs": [],
   "source": [
    "out = {}"
   ]
  },
  {
   "cell_type": "markdown",
   "metadata": {},
   "source": [
    "#### Load and setup"
   ]
  },
  {
   "cell_type": "code",
   "execution_count": 102,
   "metadata": {},
   "outputs": [],
   "source": [
    "#Load model\n",
    "gm = abatement.abate(pickle_path=directory[\"gams\"] + \"/\" + catalog, work_folder=directory['work'])\n",
    "gm.reset_settings()\n",
    "gm.add_functions()\n",
    "if catalog in [\"main_catalog\", \"categoryexperiment_EOP\"]:\n",
    "    gm.setstate(\"EOP\")\n",
    "elif catalog in [\"categoryexperiment_ID\"]:\n",
    "    gm.setstate(\"ID\")"
   ]
  },
  {
   "cell_type": "code",
   "execution_count": 103,
   "metadata": {},
   "outputs": [],
   "source": [
    "name = \"CO2tax\"\n",
    "x_var = \"pM\"\n",
    "node_to_shock = \"CO2\""
   ]
  },
  {
   "cell_type": "code",
   "execution_count": 104,
   "metadata": {},
   "outputs": [],
   "source": [
    "vars_ = [\"M0\", \"PbT\", \"pM\", \"PwThat\", \"qD\"]\n",
    "if \"EOP\" in gm.state:\n",
    "    vars_ += [\"M\"]\n",
    "if currapp:\n",
    "    vars_ += [\"muG\", \"sigmaG\"]\n",
    "store_sol = {var:{\"domains\":x_var + '_loop'} for var in vars_}"
   ]
  },
  {
   "cell_type": "code",
   "execution_count": 105,
   "metadata": {},
   "outputs": [],
   "source": [
    "db_end_of_loop = DataBase.GPM_database()\n",
    "db_end_of_loop[x_var] = gm.get(x_var).copy()\n",
    "db_end_of_loop[x_var].vals[node_to_shock] = db_end_of_loop[x_var].vals[node_to_shock]*0 + 20"
   ]
  },
  {
   "cell_type": "code",
   "execution_count": 106,
   "metadata": {},
   "outputs": [],
   "source": [
    "gm.write_and_run(name=name,kwargs_init={'check_variables':True},add_checkpoint=name, kwargs_mi=kwargs_mi)\n",
    "gm.checkpoints[name + \"_cp\"] = gm.model_instances[name].ws.add_checkpoint()"
   ]
  },
  {
   "cell_type": "code",
   "execution_count": 107,
   "metadata": {},
   "outputs": [
    {
     "name": "stdout",
     "output_type": "stream",
     "text": [
      "{'Modelstat': 16.0, 'Solvestat': 1.0}\n"
     ]
    }
   ],
   "source": [
    "print(gm.model_instances[name].solve_sneakily(db_star=db_end_of_loop,from_cp = True, cp_init = gm.checkpoints[name], \n",
    "                                              options_run={'checkpoint': gm.checkpoints[name + '_cp']}, \n",
    "                                              kwargs_shock={\"n_steps\":int(500*n_steps_factor), \"loop_name\":x_var + \"_loop\", \"store_sol\":store_sol}))"
   ]
  },
  {
   "cell_type": "code",
   "execution_count": 111,
   "metadata": {},
   "outputs": [],
   "source": [
    "mi = gm.model_instances[name]\n",
    "assert mi.modelstat"
   ]
  },
  {
   "cell_type": "code",
   "execution_count": 99,
   "metadata": {},
   "outputs": [],
   "source": [
    "sols = {key:mi.out_db.series[\"sol_\" + key].vals for key in store_sol.keys()}\n",
    "nodes_to_save = {\n",
    "    \"main_catalog\":[\"U_ID_t2_1\", \"U_EOP_t1_1\", \"U_EOP_t2_1\", \"U_ID_t1_2\", \"C_EH_2\", \"U0_ID_C_EH_2\", \"CO2\", \"basetech_EH\", \"basetech_EH_oil\", \n",
    "                    \"oil\", \"U_ID_t1_1\", \"U_ID_t2_2\", \"U0_ID_C_EH_1\", \"U0_ID_C_EH_3\", \"ID_t1\", \"ID_t2\", \"C_CO2_1\", \"C_CO2_2\"],\n",
    "    \"categoryexperiment_EOP\":[\"U_EOP_t1_1\", \"CO2\", \"oil\", \"basetech_EH_oil\"],\n",
    "    \"categoryexperiment_ID\":[\"U_ID_t1_1\", \"CO2\", \"oil\", \"basetech_EH_oil\", \"U0_ID_C_EH_2\", \"C_EH_2\", \"basetech_EH\"]\n",
    "}"
   ]
  },
  {
   "cell_type": "code",
   "execution_count": 73,
   "metadata": {},
   "outputs": [],
   "source": [
    "gm.model.database.merge_dbs(gm.model.database,mi.out_db,'second')"
   ]
  },
  {
   "cell_type": "code",
   "execution_count": 30,
   "metadata": {},
   "outputs": [],
   "source": [
    "out[name] = organize_sol_data(sols, x_var, nodes_to_save, node_to_shock, gm.model.settings.catalog)"
   ]
  },
  {
   "cell_type": "code",
   "execution_count": 32,
   "metadata": {},
   "outputs": [],
   "source": [
    "df_out = pd.concat(out[name], axis = 1)\n",
    "df_out.to_pickle(x_var + \"_\" + gm.model.settings.catalog + \".pkl\")"
   ]
  },
  {
   "cell_type": "code",
   "execution_count": null,
   "metadata": {},
   "outputs": [],
   "source": []
  }
 ],
 "metadata": {
  "kernelspec": {
   "display_name": "Python 3",
   "language": "python",
   "name": "python3"
  },
  "language_info": {
   "codemirror_mode": {
    "name": "ipython",
    "version": 3
   },
   "file_extension": ".py",
   "mimetype": "text/x-python",
   "name": "python",
   "nbconvert_exporter": "python",
   "pygments_lexer": "ipython3",
   "version": "3.7.4"
  }
 },
 "nbformat": 4,
 "nbformat_minor": 4
}
