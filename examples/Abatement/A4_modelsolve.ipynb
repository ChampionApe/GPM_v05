{
 "cells": [
  {
   "cell_type": "code",
   "execution_count": 1,
   "metadata": {},
   "outputs": [
    {
     "name": "stdout",
     "output_type": "stream",
     "text": [
      "The file_gams_py_gdb1.gdx is still active and was not deleted.\n"
     ]
    }
   ],
   "source": [
    "clean_up=True # removes gams-related files in work-folder if true\n",
    "%run StdPackages.ipynb\n",
    "os.chdir(directory['py'])\n",
    "import techdata_to_tree, sys, ShockFunction\n",
    "import abatement_EOP_new as abatement\n",
    "import ShockFunction\n",
    "from DB2Gams import OrdSet as OS\n",
    "os.chdir(directory['curr'])"
   ]
  },
  {
   "cell_type": "markdown",
   "metadata": {},
   "source": [
    "*Specify settings:*"
   ]
  },
  {
   "cell_type": "code",
   "execution_count": 40,
   "metadata": {},
   "outputs": [],
   "source": [
    "# catalog = \"main_catalog\"\n",
    "# currapp = True"
   ]
  },
  {
   "cell_type": "code",
   "execution_count": 3,
   "metadata": {},
   "outputs": [],
   "source": [
    "name = 'A3'\n",
    "f = {'tech': directory['data']+\"/techdata_\" + catalog + \".xlsx\",\n",
    "     'other': directory['data']+\"/Othdata_\" + catalog + \".xlsx\",\n",
    "     'IOdata':directory['data'] + \"/IOdata_\" + catalog.replace(\"_ID\", \"\").replace(\"_EOP\",\"\") + \".xlsx\"}\n",
    "s = ['inputdisp','endofpipe','inputprices']\n",
    "m = ['ID','EOP'] \n",
    "e = {'M': 'vars','M_sets': 'sets'} # dictionary used to load emissions data\n",
    "other_trees = {'ID_Y': {'s': 'Y', 'read_data': {'Y': 'vars'}, 'Q2P': 'Q2P'}} # the key = tree name, s = sheet that specifies tree structure, read_data (if not None) specifies how to load data.\n",
    "n_steps_factor = 0.30"
   ]
  },
  {
   "cell_type": "code",
   "execution_count": 4,
   "metadata": {},
   "outputs": [],
   "source": [
    "type_f = {'ID_EC': 'CES_norm',\n",
    "          'ID_CU': 'MNL',\n",
    "          'ID_TU': 'CET_norm',\n",
    "          'ID_TX': 'CES',\n",
    "          'ID_BU': 'linear_out',\n",
    "          'ID_BX': 'CES',\n",
    "          'EOP_CU': 'MNL',\n",
    "          'EOP_TU': 'CET_norm',\n",
    "          'EOP_TX': 'CES'}"
   ]
  },
  {
   "cell_type": "markdown",
   "metadata": {},
   "source": [
    "*Set up nesting tree:*"
   ]
  },
  {
   "cell_type": "code",
   "execution_count": 5,
   "metadata": {},
   "outputs": [],
   "source": [
    "%run ATree.ipynb"
   ]
  },
  {
   "cell_type": "markdown",
   "metadata": {},
   "source": [
    "## 1: Initialize model"
   ]
  },
  {
   "cell_type": "markdown",
   "metadata": {},
   "source": [
    "*Set up gams model from tree:*"
   ]
  },
  {
   "cell_type": "code",
   "execution_count": 6,
   "metadata": {},
   "outputs": [],
   "source": [
    "if catalog in [\"main_catalog\", \"categoryexperiment_EOP\"]:\n",
    "    use_EOP = True\n",
    "elif catalog in [\"categoryexperiment_ID\"]:\n",
    "    use_EOP = False"
   ]
  },
  {
   "cell_type": "code",
   "execution_count": 7,
   "metadata": {},
   "outputs": [],
   "source": [
    "gm = abatement.abate(nts=nts,tech=tech,use_EOP=use_EOP,work_folder=directory['work'],**{'data_folder':directory['gams'],'name': name})\n",
    "gm.model.settings.catalog = catalog"
   ]
  },
  {
   "cell_type": "markdown",
   "metadata": {},
   "source": [
    "*Add a couple of extra aliases, and update sets with elements:*"
   ]
  },
  {
   "cell_type": "code",
   "execution_count": 8,
   "metadata": {},
   "outputs": [],
   "source": [
    "gm.add_aliases([('n','nnnn'),('n','nnnnn')])\n",
    "gm.model.database.update_all_sets(clean_up=False)\n",
    "# gm.model.functions = {\"std_pdf\":\"$FUNCTION std_pdf({x}): ((1/(sqrt(2*Pi)))*exp(-(Sqr({x}))/2)) $ENDFUNCTION\"}"
   ]
  },
  {
   "cell_type": "markdown",
   "metadata": {},
   "source": [
    "\n",
    "*Initialise variables at leontief levels, and fill out with simple standard values in potentially missing domains:*"
   ]
  },
  {
   "cell_type": "code",
   "execution_count": 9,
   "metadata": {},
   "outputs": [],
   "source": [
    "with open(os.getcwd()+'\\\\conopt_ExtraPivot.opt',\"r\") as file:\n",
    "    kwargs_mi = {'opt_file': file.read()}"
   ]
  },
  {
   "cell_type": "code",
   "execution_count": 10,
   "metadata": {},
   "outputs": [],
   "source": [
    "gm.initialize_variables_leontief()\n",
    "gm.initialize_variables(**{'check_variables': True})"
   ]
  },
  {
   "cell_type": "markdown",
   "metadata": {},
   "source": [
    "## 2: Solve model"
   ]
  },
  {
   "cell_type": "markdown",
   "metadata": {},
   "source": [
    "\n",
    "*Set up baseline model and solve:*"
   ]
  },
  {
   "cell_type": "code",
   "execution_count": 11,
   "metadata": {},
   "outputs": [
    {
     "name": "stdout",
     "output_type": "stream",
     "text": [
      "16.0\n"
     ]
    }
   ],
   "source": [
    "gm.write_and_run(name='baseline', kwargs_mi=kwargs_mi)\n",
    "db0 = gm.model_instances['baseline'].out_db\n",
    "print(gm.model_instances[\"baseline\"].modelstat)"
   ]
  },
  {
   "cell_type": "markdown",
   "metadata": {},
   "source": [
    "\n",
    "*Read back solution to main db:*"
   ]
  },
  {
   "cell_type": "code",
   "execution_count": 12,
   "metadata": {},
   "outputs": [],
   "source": [
    "gm.model.database.merge_dbs(gm.model.database,db0,'second')"
   ]
  },
  {
   "cell_type": "markdown",
   "metadata": {},
   "source": [
    "*Turn exogenous parameters into place*"
   ]
  },
  {
   "cell_type": "code",
   "execution_count": 13,
   "metadata": {},
   "outputs": [],
   "source": [
    "db_star = DataBase.GPM_database(**{'name': 'db_star'})\n",
    "sigma_star = gm.get(\"sigma\").copy()\n",
    "eta_star = gm.get(\"eta\").copy()\n",
    "mu_star = gm.get(\"mu\").copy()\n",
    "if \"EOP\" in gm.state:\n",
    "    sigmaG_star = gm.get(\"sigmaG\").copy()"
   ]
  },
  {
   "cell_type": "code",
   "execution_count": 14,
   "metadata": {},
   "outputs": [],
   "source": [
    "eta_star[:] = -10\n",
    "# sigma_star[gm.get(\"kno_ID_EC\")] = 0.2\n",
    "sigma_star[gm.get(\"kno_ID_CU\")] = 0.3 #0.3\n",
    "sigma_star[gm.get(\"kno_ID_BX\")] = 0.4\n",
    "# sigma_star[\"Y\"] = 0.5\n",
    "\n",
    "mu_star[gm.get(\"map_ID_CU\")] = 1.0\n",
    "\n",
    "if \"EOP\" in gm.state:\n",
    "    mu_star[gm.get(\"map_EOP_CU\")] = 1.0\n",
    "    sigma_star[gm.get(\"kno_EOP_CU\")] = 0.3\n",
    "    sigmaG_star[:] = 8\n",
    "    db_star[\"sigmaG\"] = sigmaG_star\n",
    "\n",
    "    \n",
    "db_star[\"sigma\"] = sigma_star\n",
    "db_star[\"eta\"] = eta_star\n",
    "db_star[\"mu\"] = mu_star"
   ]
  },
  {
   "cell_type": "code",
   "execution_count": 15,
   "metadata": {},
   "outputs": [
    {
     "name": "stdout",
     "output_type": "stream",
     "text": [
      "{'Modelstat': 16.0, 'Solvestat': 1.0}\n"
     ]
    }
   ],
   "source": [
    "name='v0'\n",
    "gm.write_and_run(name=name, add_checkpoint=name, kwargs_mi=kwargs_mi)\n",
    "gm.checkpoints['v1'] = gm.model_instances[name].ws.add_checkpoint()\n",
    "print(gm.model_instances[name].solve_sneakily(db_star=db_star,from_cp = True, cp_init = gm.checkpoints[name], options_run={'checkpoint': gm.checkpoints['v1']}, kwargs_shock={\"n_steps\":int(100*n_steps_factor)}))\n",
    "db1 = gm.model_instances[name].out_db\n",
    "gm.model.database.merge_dbs(gm.model.database,db1,'second')"
   ]
  },
  {
   "cell_type": "markdown",
   "metadata": {},
   "source": [
    "*Change to calibration state and resolve:*"
   ]
  },
  {
   "cell_type": "code",
   "execution_count": 16,
   "metadata": {},
   "outputs": [],
   "source": [
    "if catalog in [\"categoryexperiment_EOP\"]:\n",
    "    state = \"EOP_calibrate_CNS\"\n",
    "elif catalog in [\"main_catalog\"]:\n",
    "    if currapp:\n",
    "        state = \"EOP_calibrate\"\n",
    "    else: \n",
    "        state = \"EOP_calibrate_CNS\"\n",
    "elif catalog in [\"categoryexperiment_ID\"]:\n",
    "    state = \"ID_calibrate_CNS\""
   ]
  },
  {
   "cell_type": "code",
   "execution_count": 17,
   "metadata": {},
   "outputs": [],
   "source": [
    "gm.reset_settings()\n",
    "gm.setstate(state,init=False)"
   ]
  },
  {
   "cell_type": "code",
   "execution_count": 18,
   "metadata": {},
   "outputs": [],
   "source": [
    "gm.write_and_run(name=state,kwargs_init={'check_variables':True},overwrite=True, kwargs_mi=kwargs_mi)\n",
    "db0 = gm.model_instances[state].out_db"
   ]
  },
  {
   "cell_type": "code",
   "execution_count": 19,
   "metadata": {},
   "outputs": [],
   "source": [
    "gm.model.database.merge_dbs(gm.model.database,db0,\"second\")"
   ]
  },
  {
   "cell_type": "code",
   "execution_count": 20,
   "metadata": {},
   "outputs": [],
   "source": [
    "for sym in gm.model.database.symbols:\n",
    "    if \"_l1\" in sym:\n",
    "        del gm.model.database.series[sym]"
   ]
  },
  {
   "cell_type": "markdown",
   "metadata": {},
   "source": [
    "### Make this work:"
   ]
  },
  {
   "cell_type": "code",
   "execution_count": 21,
   "metadata": {},
   "outputs": [
    {
     "data": {
      "text/plain": [
       "2.0"
      ]
     },
     "execution_count": 21,
     "metadata": {},
     "output_type": "execute_result"
    }
   ],
   "source": [
    "gm.model_instances[state].modelstat"
   ]
  },
  {
   "cell_type": "code",
   "execution_count": 22,
   "metadata": {},
   "outputs": [],
   "source": [
    "if \"CNS\" in gm.state:\n",
    "    db = gm.add_calib_data(f[\"IOdata\"], currapp=False)\n",
    "else:\n",
    "    db = gm.add_calib_data(f[\"IOdata\"], currapp=True)"
   ]
  },
  {
   "cell_type": "code",
   "execution_count": 23,
   "metadata": {},
   "outputs": [],
   "source": [
    "if \"EOP\" in gm.state:\n",
    "    db[\"sigma\"] = (gm.get(\"sigma\")[gm.get(\"kno_ID_CU\")]*0 + 1.2).append(gm.get(\"sigma\")[gm.get(\"kno_EOP_CU\")]*0 + 1.2)\n",
    "    if not \"CNS\" in gm.state:\n",
    "        db[\"sigmaGbar\"] = gm.get(\"sigmaGbar\")[gm.get(\"EOP_out\")]*0 + 0.01\n",
    "else:\n",
    "    db[\"sigma\"] = gm.get(\"sigma\")[gm.get(\"kno_ID_CU\")]*0 + 1.2"
   ]
  },
  {
   "cell_type": "code",
   "execution_count": 24,
   "metadata": {},
   "outputs": [],
   "source": [
    "gm.write_and_run(name=state+'IO',kwargs_init={'check_variables':True},overwrite=True,add_checkpoint=state+'IO', kwargs_mi=kwargs_mi)\n",
    "gm.checkpoints[state+'IO' + \"_cp\"] = gm.model_instances[state+'IO'].ws.add_checkpoint()"
   ]
  },
  {
   "cell_type": "code",
   "execution_count": 25,
   "metadata": {},
   "outputs": [],
   "source": [
    "vars_ = [\"qD\", \"PwThat\", \"mu\", \"gamma_tau\", \"pMhat\", \"pM\", \"qS\"]\n",
    "if \"EOP\" in gm.state:\n",
    "    vars_ += [\"sigmaG\", \"muG\"]\n",
    "store_sol = {var:{\"domains\":\"l1\"} for var in vars_}"
   ]
  },
  {
   "cell_type": "code",
   "execution_count": 26,
   "metadata": {},
   "outputs": [
    {
     "name": "stdout",
     "output_type": "stream",
     "text": [
      "{'Modelstat': 2.0, 'Solvestat': 1.0}\n"
     ]
    }
   ],
   "source": [
    "print(gm.model_instances[state+'IO'].solve_sneakily(db_star=db, from_cp = True, cp_init = gm.checkpoints[state+'IO'], options_run={'checkpoint': gm.checkpoints[state+'IO'+\"_cp\"]}, kwargs_shock={\"n_steps\":int(100*n_steps_factor), \"store_sol\":store_sol, 'solvetext': gm.model.settings.get_conf('solve')}))"
   ]
  },
  {
   "cell_type": "code",
   "execution_count": 27,
   "metadata": {},
   "outputs": [],
   "source": [
    "db1 = gm.model_instances[state+'IO'].out_db\n",
    "gm.model.database.merge_dbs(gm.model.database,db1,\"second\")"
   ]
  },
  {
   "cell_type": "code",
   "execution_count": 28,
   "metadata": {},
   "outputs": [],
   "source": [
    "for sym in gm.model.database.symbols:\n",
    "    if \"_l1\" in sym:\n",
    "        del gm.model.database.series[sym]"
   ]
  },
  {
   "cell_type": "markdown",
   "metadata": {},
   "source": [
    "### Now turn sigma all the way to 10 and sigmaG towards 0.1"
   ]
  },
  {
   "cell_type": "code",
   "execution_count": 29,
   "metadata": {},
   "outputs": [],
   "source": [
    "sigmaG_val = {\"main_catalog\":0.01, \"categoryexperiment_ID\":0.45, \"categoryexperiment_EOP\":0.45}\n",
    "MNL_sigma = {\"main_catalog\":10, \"categoryexperiment_ID\":30, \"categoryexperiment_EOP\":30}"
   ]
  },
  {
   "cell_type": "code",
   "execution_count": 30,
   "metadata": {},
   "outputs": [],
   "source": [
    "db_star = DataBase.GPM_database(**{'name': 'db_star'})\n",
    "if \"EOP\" in gm.state:\n",
    "    db_star[\"sigma\"] = (gm.get(\"sigma\")[gm.get(\"kno_ID_CU\")]*0 + MNL_sigma[catalog]).append(gm.get(\"sigma\")[gm.get(\"kno_EOP_CU\")]*0 + MNL_sigma[catalog])\n",
    "    if \"CNS\" in gm.state:\n",
    "        db_star[\"sigmaG\"] = gm.get(\"sigmaG\")*0 + sigmaG_val[catalog]\n",
    "elif \"ID\" in gm.state:\n",
    "    db_star[\"sigma\"] = gm.get(\"sigma\")[gm.get(\"kno_ID_CU\")]*0 + MNL_sigma[catalog]"
   ]
  },
  {
   "cell_type": "code",
   "execution_count": 31,
   "metadata": {},
   "outputs": [],
   "source": [
    "gm.write_and_run(name=state+'_sigma',kwargs_init={'check_variables':True},overwrite=True,add_checkpoint=state+'_sigma', kwargs_mi=kwargs_mi)\n",
    "gm.checkpoints[state+'_sigma' + \"_cp\"] = gm.model_instances[state+'_sigma'].ws.add_checkpoint()"
   ]
  },
  {
   "cell_type": "code",
   "execution_count": 32,
   "metadata": {},
   "outputs": [
    {
     "name": "stdout",
     "output_type": "stream",
     "text": [
      "{'Modelstat': 2.0, 'Solvestat': 1.0}\n"
     ]
    }
   ],
   "source": [
    "print(gm.model_instances[state+'_sigma'].solve_sneakily(db_star=db_star, from_cp = True, cp_init = gm.checkpoints[state+'_sigma'], options_run={'checkpoint': gm.checkpoints[state+'_sigma'+\"_cp\"]}, kwargs_shock={\"n_steps\":int(100*n_steps_factor), \"store_sol\":store_sol, 'solvetext': gm.model.settings.get_conf('solve')}))"
   ]
  },
  {
   "cell_type": "code",
   "execution_count": 33,
   "metadata": {},
   "outputs": [],
   "source": [
    "gm.model.database.merge_dbs(gm.model.database,gm.model_instances[state+\"_sigma\"].out_db,\"second\")"
   ]
  },
  {
   "cell_type": "code",
   "execution_count": 34,
   "metadata": {},
   "outputs": [],
   "source": [
    "for sym in gm.model.database.symbols:\n",
    "    if \"_l1\" in sym:\n",
    "        del gm.model.database.series[sym]"
   ]
  },
  {
   "cell_type": "markdown",
   "metadata": {},
   "source": [
    "#### For figures, we move back the muG and sigmaG to make figures less smooth"
   ]
  },
  {
   "cell_type": "code",
   "execution_count": 35,
   "metadata": {},
   "outputs": [],
   "source": [
    "if False:\n",
    "    gm.reset_settings()\n",
    "    gm.setstate(\"EOP\",init=False)\n",
    "\n",
    "    gm.write_and_run(name=state+'_G',kwargs_init={'check_variables':True},overwrite=True,add_checkpoint=state+'_G', kwargs_mi=kwargs_mi)\n",
    "    gm.checkpoints[state+'_G' + \"_cp\"] = gm.model_instances[state+'_G'].ws.add_checkpoint()\n",
    "\n",
    "    db_star = DataBase.GPM_database(**{'name': 'db_star'})\n",
    "    db_star[\"muG\"] = gm.get(\"muG\")*0\n",
    "    db_star[\"sigmaG\"] = gm.get(\"sigmaG\")*0 + sigmaG_val[catalog]\n",
    "\n",
    "    print(gm.model_instances[state+'_G'].solve_sneakily(db_star=db_star, from_cp = True, cp_init = gm.checkpoints[state+'_G'], options_run={'checkpoint': gm.checkpoints[state+'_G'+\"_cp\"]}, kwargs_shock={\"n_steps\":250, \"store_sol\":store_sol, 'solvetext': gm.model.settings.get_conf('solve')}))\n",
    "\n",
    "    gm.model.database.merge_dbs(gm.model.database,gm.model_instances[state+\"_G\"].out_db,\"second\")"
   ]
  },
  {
   "cell_type": "code",
   "execution_count": 36,
   "metadata": {},
   "outputs": [],
   "source": [
    "for sym in gm.model.database.symbols:\n",
    "    if \"_l1\" in sym:\n",
    "        del gm.model.database.series[sym]\n",
    "for sym in store_sol:\n",
    "    del gm.model.database.series[\"sol_\" + sym]"
   ]
  },
  {
   "cell_type": "code",
   "execution_count": 37,
   "metadata": {},
   "outputs": [
    {
     "data": {
      "text/plain": [
       "'C:\\\\Users\\\\zgr679\\\\Documents\\\\GitHub\\\\GPM_v05\\\\examples\\\\Abatement\\\\gamsmodels\\\\main_catalog'"
      ]
     },
     "execution_count": 37,
     "metadata": {},
     "output_type": "execute_result"
    }
   ],
   "source": [
    "gm.export(name=catalog)"
   ]
  },
  {
   "cell_type": "code",
   "execution_count": 38,
   "metadata": {},
   "outputs": [],
   "source": [
    "if catalog == \"categoryexperiment_EOP\":\n",
    "    print(\"Emission coefficient in ID should be \" + str(round(((gm.get(\"unit_costs_EOP\")[\"EOP_t1\"] - ((gm.get(\"mu\")[gm.get(\"map_ID_BX\")] * gm.get(\"PwT\")).loc[([\"basetech_EH_K\", \"basetech_EH_electricity\", \"basetech_EH_gas\"], [\"basetech_EH\"])]).sum())/gm.get(\"mu\").loc[([\"basetech_EH_oil\"], [\"basetech_EH\"])].values[0] - gm.get(\"PwT\")[\"oil\"])/gm.get(\"unit_costs_EOP\")[\"EOP_t1\"], 2)))"
   ]
  },
  {
   "cell_type": "code",
   "execution_count": 39,
   "metadata": {},
   "outputs": [],
   "source": [
    "# %run A3_CO2shock.ipynb"
   ]
  },
  {
   "cell_type": "code",
   "execution_count": null,
   "metadata": {},
   "outputs": [],
   "source": []
  }
 ],
 "metadata": {
  "kernelspec": {
   "display_name": "Python 3",
   "language": "python",
   "name": "python3"
  },
  "language_info": {
   "codemirror_mode": {
    "name": "ipython",
    "version": 3
   },
   "file_extension": ".py",
   "mimetype": "text/x-python",
   "name": "python",
   "nbconvert_exporter": "python",
   "pygments_lexer": "ipython3",
   "version": "3.7.4"
  }
 },
 "nbformat": 4,
 "nbformat_minor": 4
}
