{
 "cells": [
  {
   "cell_type": "code",
   "execution_count": 1,
   "metadata": {},
   "outputs": [],
   "source": [
    "clean_up=True # removes gams-related files in work-folder if true\n",
    "%run StdPackages.ipynb\n",
    "os.chdir(directory['py'])\n",
    "import techdata_to_tree, sys, ShockFunction\n",
    "import abatement_EOP_new as abatement\n",
    "os.chdir(directory['curr'])"
   ]
  },
  {
   "cell_type": "markdown",
   "metadata": {},
   "source": [
    "*Specify settings:*"
   ]
  },
  {
   "cell_type": "code",
   "execution_count": 2,
   "metadata": {},
   "outputs": [],
   "source": [
    "name = 'A3'\n",
    "catalog = \"main_catalog\"\n",
    "f = {'tech': directory['data']+\"/techdata_\" + catalog + \".xlsx\",\n",
    "     'other': directory['data']+\"/Othdata_\" + catalog + \".xlsx\",\n",
    "     'IOdata':directory['data'] + \"/IOdata_\" + catalog + \".xlsx\"}\n",
    "s = ['inputdisp','endofpipe','inputprices']\n",
    "m = ['ID','EOP'] \n",
    "e = {'M': 'vars','M_sets': 'sets'} # dictionary used to load emissions data\n",
    "other_trees = {'ID_Y': {'s': 'Y', 'read_data': {'Y': 'vars'}, 'Q2P': 'Q2P'}} # the key = tree name, s = sheet that specifies tree structure, read_data (if not None) specifies how to load data."
   ]
  },
  {
   "cell_type": "code",
   "execution_count": 3,
   "metadata": {},
   "outputs": [],
   "source": [
    "type_f = {'ID_EC': 'CES_norm',\n",
    "          'ID_CU': 'MNL',\n",
    "          'ID_TU': 'CET_norm',\n",
    "          'ID_TX': 'CES',\n",
    "          'ID_BU': 'linear_out',\n",
    "          'ID_BX': 'CES',\n",
    "          'EOP_CU': 'MNL',\n",
    "          'EOP_TU': 'CET_norm',\n",
    "          'EOP_TX': 'CES'}"
   ]
  },
  {
   "cell_type": "markdown",
   "metadata": {},
   "source": [
    "*Set up nesting tree:*"
   ]
  },
  {
   "cell_type": "code",
   "execution_count": 4,
   "metadata": {},
   "outputs": [],
   "source": [
    "%run ATree.ipynb"
   ]
  },
  {
   "cell_type": "markdown",
   "metadata": {},
   "source": [
    "## 1: Initialize model"
   ]
  },
  {
   "cell_type": "markdown",
   "metadata": {},
   "source": [
    "*Set up gams model from tree:*"
   ]
  },
  {
   "cell_type": "code",
   "execution_count": 5,
   "metadata": {},
   "outputs": [],
   "source": [
    "gm = abatement.abate(nts=nts,tech=tech,use_EOP=True,work_folder=directory['work'],**{'data_folder':directory['gams'],'name': name})\n",
    "gm.model.settings.catalog = catalog"
   ]
  },
  {
   "cell_type": "markdown",
   "metadata": {},
   "source": [
    "*Add a couple of extra aliases, and update sets with elements:*"
   ]
  },
  {
   "cell_type": "code",
   "execution_count": 6,
   "metadata": {},
   "outputs": [],
   "source": [
    "gm.add_aliases([('n','nnnn'),('n','nnnnn')])\n",
    "gm.model.database.update_all_sets(clean_up=False)\n",
    "# gm.model.functions = {\"std_pdf\":\"$FUNCTION std_pdf({x}): ((1/(sqrt(2*Pi)))*exp(-(Sqr({x}))/2)) $ENDFUNCTION\"}"
   ]
  },
  {
   "cell_type": "markdown",
   "metadata": {},
   "source": [
    "\n",
    "*Initialise variables at leontief levels, and fill out with simple standard values in potentially missing domains:*"
   ]
  },
  {
   "cell_type": "code",
   "execution_count": 7,
   "metadata": {},
   "outputs": [],
   "source": [
    "with open(os.getcwd()+'\\\\conopt_ExtraPivot.opt',\"r\") as file:\n",
    "    kwargs_mi = {'opt_file': file.read()}"
   ]
  },
  {
   "cell_type": "code",
   "execution_count": 8,
   "metadata": {},
   "outputs": [],
   "source": [
    "gm.initialize_variables_leontief()\n",
    "gm.initialize_variables(**{'check_variables': True})"
   ]
  },
  {
   "cell_type": "code",
   "execution_count": 9,
   "metadata": {},
   "outputs": [],
   "source": [
    "if catalog == \"categoryexperiment_ID\":\n",
    "    gm.setstate(\"ID\")"
   ]
  },
  {
   "cell_type": "code",
   "execution_count": 10,
   "metadata": {},
   "outputs": [],
   "source": [
    "#gm.model.database['testminobj'] = 0;"
   ]
  },
  {
   "cell_type": "markdown",
   "metadata": {},
   "source": [
    "## 2: Solve model"
   ]
  },
  {
   "cell_type": "markdown",
   "metadata": {},
   "source": [
    "\n",
    "*Set up baseline model and solve:*"
   ]
  },
  {
   "cell_type": "code",
   "execution_count": 11,
   "metadata": {},
   "outputs": [],
   "source": [
    "gm.write_and_run(name='baseline', kwargs_mi=kwargs_mi)\n",
    "db0 = gm.model_instances['baseline'].out_db"
   ]
  },
  {
   "cell_type": "markdown",
   "metadata": {},
   "source": [
    "\n",
    "*Read back solution to main db:*"
   ]
  },
  {
   "cell_type": "code",
   "execution_count": 12,
   "metadata": {},
   "outputs": [],
   "source": [
    "gm.model.database.merge_dbs(gm.model.database,db0,'second')"
   ]
  },
  {
   "cell_type": "markdown",
   "metadata": {},
   "source": [
    "*Turn exogenous parameters into place*"
   ]
  },
  {
   "cell_type": "code",
   "execution_count": 13,
   "metadata": {},
   "outputs": [],
   "source": [
    "db_star = DataBase.GPM_database(**{'name': 'db_star'})\n",
    "sigma_star = gm.get(\"sigma\").copy()\n",
    "eta_star = gm.get(\"eta\").copy()\n",
    "mu_star = gm.get(\"mu\").copy()\n",
    "if \"EOP\" in gm.state:\n",
    "    sigmaG_star = gm.get(\"sigmaG\").copy()"
   ]
  },
  {
   "cell_type": "code",
   "execution_count": 14,
   "metadata": {},
   "outputs": [],
   "source": [
    "eta_star[:] = -5\n",
    "# sigma_star[gm.get(\"kno_ID_EC\")] = 0.2\n",
    "sigma_star[gm.get(\"kno_ID_CU\")] = 10\n",
    "sigma_star[gm.get(\"kno_ID_BX\")] = 0.3\n",
    "# sigma_star[\"Y\"] = 0.5\n",
    "\n",
    "mu_star[gm.get(\"map_ID_CU\")] = 1.0\n",
    "\n",
    "if \"EOP\" in gm.state:\n",
    "    mu_star[gm.get(\"map_EOP_CU\")] = 1.0\n",
    "    sigma_star[gm.get(\"kno_EOP_CU\")] = 10\n",
    "    sigmaG_star[:] = 0.1\n",
    "    db_star[\"sigmaG\"] = sigmaG_star\n",
    "    \n",
    "db_star[\"sigma\"] = sigma_star\n",
    "db_star[\"eta\"] = eta_star\n",
    "db_star[\"mu\"] = mu_star"
   ]
  },
  {
   "cell_type": "code",
   "execution_count": 15,
   "metadata": {},
   "outputs": [
    {
     "name": "stdout",
     "output_type": "stream",
     "text": [
      "{'Modelstat': 16.0, 'Solvestat': 1.0}\n"
     ]
    }
   ],
   "source": [
    "name='v0'\n",
    "gm.write_and_run(name=name, add_checkpoint=name, kwargs_mi=kwargs_mi)\n",
    "gm.checkpoints['v1'] = gm.model_instances[name].ws.add_checkpoint()\n",
    "print(gm.model_instances[name].solve_sneakily(db_star=db_star,from_cp = True, cp_init = gm.checkpoints[name], options_run={'checkpoint': gm.checkpoints['v1']}, kwargs_shock={\"n_steps\":100}))\n",
    "db1 = gm.model_instances[name].out_db\n",
    "gm.model.database.merge_dbs(gm.model.database,db1,'second')"
   ]
  },
  {
   "cell_type": "code",
   "execution_count": 16,
   "metadata": {},
   "outputs": [],
   "source": [
    "# DataBase.GPM_database.add_or_merge(gm.model.database,gm.get(\"currapp\").rename(\"currapp_mod\"),'second')"
   ]
  },
  {
   "cell_type": "markdown",
   "metadata": {},
   "source": [
    "*Change to calibration state and resolve:*"
   ]
  },
  {
   "cell_type": "code",
   "execution_count": 17,
   "metadata": {},
   "outputs": [],
   "source": [
    "gm.reset_settings()\n",
    "gm.setstate('EOP_calibrate',init=False)"
   ]
  },
  {
   "cell_type": "code",
   "execution_count": 18,
   "metadata": {},
   "outputs": [],
   "source": [
    "gm.write_and_run(name='EOP_calibrate',kwargs_init={'check_variables':True},overwrite=True, kwargs_mi=kwargs_mi)\n",
    "db0 = gm.model_instances['EOP_calibrate'].out_db"
   ]
  },
  {
   "cell_type": "code",
   "execution_count": 19,
   "metadata": {},
   "outputs": [],
   "source": [
    "gm.model.database.merge_dbs(gm.model.database,db0,\"second\")"
   ]
  },
  {
   "cell_type": "code",
   "execution_count": 20,
   "metadata": {},
   "outputs": [
    {
     "data": {
      "text/plain": [
       "'C:\\\\Users\\\\zgr679\\\\Documents\\\\GitHub\\\\GPM_v05\\\\examples\\\\Abatement\\\\gamsmodels\\\\main_catalog'"
      ]
     },
     "execution_count": 20,
     "metadata": {},
     "output_type": "execute_result"
    }
   ],
   "source": [
    "gm.export(name=catalog)"
   ]
  },
  {
   "cell_type": "markdown",
   "metadata": {},
   "source": [
    "### Make this work:"
   ]
  },
  {
   "cell_type": "code",
   "execution_count": 21,
   "metadata": {},
   "outputs": [
    {
     "data": {
      "text/plain": [
       "5.0"
      ]
     },
     "execution_count": 21,
     "metadata": {},
     "output_type": "execute_result"
    }
   ],
   "source": [
    "gm.model_instances[\"EOP_calibrate\"].modelstat"
   ]
  },
  {
   "cell_type": "code",
   "execution_count": 22,
   "metadata": {},
   "outputs": [],
   "source": [
    "db = gm.add_calib_data(f[\"IOdata\"], currapp=False)"
   ]
  },
  {
   "cell_type": "code",
   "execution_count": 23,
   "metadata": {},
   "outputs": [],
   "source": [
    "gm.write_and_run(name='EOP_calibrateIO',kwargs_init={'check_variables':True},overwrite=True,add_checkpoint=\"EOP_calibrateIO\", kwargs_mi=kwargs_mi)\n",
    "gm.checkpoints[\"EOP_calibrateIO_cp\"] = gm.model_instances[\"EOP_calibrateIO\"].ws.add_checkpoint()"
   ]
  },
  {
   "cell_type": "code",
   "execution_count": 24,
   "metadata": {},
   "outputs": [],
   "source": [
    "store_sol = {var:{\"domains\":\"l1\"} for var in [\"qD\", \"PwThat\", \"mu\", \"gamma_tau\", \"muG\", \"sigmaG\"]}"
   ]
  },
  {
   "cell_type": "code",
   "execution_count": 25,
   "metadata": {},
   "outputs": [
    {
     "ename": "GamsExceptionExecution",
     "evalue": "GAMS return code not 0 (3), check C:\\Users\\zgr679\\Documents\\GitHub\\GPM_v05\\work_folder\\_gams_py_gjo5.lst for more details",
     "output_type": "error",
     "traceback": [
      "\u001b[1;31m---------------------------------------------------------------------------\u001b[0m",
      "\u001b[1;31mGamsExceptionExecution\u001b[0m                    Traceback (most recent call last)",
      "\u001b[1;32m<ipython-input-25-27928adfa454>\u001b[0m in \u001b[0;36m<module>\u001b[1;34m\u001b[0m\n\u001b[1;32m----> 1\u001b[1;33m \u001b[0mprint\u001b[0m\u001b[1;33m(\u001b[0m\u001b[0mgm\u001b[0m\u001b[1;33m.\u001b[0m\u001b[0mmodel_instances\u001b[0m\u001b[1;33m[\u001b[0m\u001b[1;34m\"EOP_calibrateIO\"\u001b[0m\u001b[1;33m]\u001b[0m\u001b[1;33m.\u001b[0m\u001b[0msolve_sneakily\u001b[0m\u001b[1;33m(\u001b[0m\u001b[0mdb_star\u001b[0m\u001b[1;33m=\u001b[0m\u001b[0mdb\u001b[0m\u001b[1;33m,\u001b[0m \u001b[0mfrom_cp\u001b[0m \u001b[1;33m=\u001b[0m \u001b[1;32mTrue\u001b[0m\u001b[1;33m,\u001b[0m \u001b[0mcp_init\u001b[0m \u001b[1;33m=\u001b[0m \u001b[0mgm\u001b[0m\u001b[1;33m.\u001b[0m\u001b[0mcheckpoints\u001b[0m\u001b[1;33m[\u001b[0m\u001b[1;34m\"EOP_calibrateIO\"\u001b[0m\u001b[1;33m]\u001b[0m\u001b[1;33m,\u001b[0m \u001b[0moptions_run\u001b[0m\u001b[1;33m=\u001b[0m\u001b[1;33m{\u001b[0m\u001b[1;34m'checkpoint'\u001b[0m\u001b[1;33m:\u001b[0m \u001b[0mgm\u001b[0m\u001b[1;33m.\u001b[0m\u001b[0mcheckpoints\u001b[0m\u001b[1;33m[\u001b[0m\u001b[1;34m\"EOP_calibrateIO_cp\"\u001b[0m\u001b[1;33m]\u001b[0m\u001b[1;33m}\u001b[0m\u001b[1;33m,\u001b[0m \u001b[0mkwargs_shock\u001b[0m\u001b[1;33m=\u001b[0m\u001b[1;33m{\u001b[0m\u001b[1;34m\"n_steps\"\u001b[0m\u001b[1;33m:\u001b[0m\u001b[1;36m250\u001b[0m\u001b[1;33m,\u001b[0m \u001b[1;34m\"store_sol\"\u001b[0m\u001b[1;33m:\u001b[0m\u001b[0mstore_sol\u001b[0m\u001b[1;33m,\u001b[0m \u001b[1;34m'solvetext'\u001b[0m\u001b[1;33m:\u001b[0m \u001b[0mgm\u001b[0m\u001b[1;33m.\u001b[0m\u001b[0mmodel\u001b[0m\u001b[1;33m.\u001b[0m\u001b[0msettings\u001b[0m\u001b[1;33m.\u001b[0m\u001b[0mget_conf\u001b[0m\u001b[1;33m(\u001b[0m\u001b[1;34m'solve'\u001b[0m\u001b[1;33m)\u001b[0m\u001b[1;33m}\u001b[0m\u001b[1;33m)\u001b[0m\u001b[1;33m)\u001b[0m\u001b[1;33m\u001b[0m\u001b[1;33m\u001b[0m\u001b[0m\n\u001b[0m",
      "\u001b[1;32m~\\Documents\\GitHub\\GPM_v05\\py_main\\DB2Gams_l3.py\u001b[0m in \u001b[0;36msolve_sneakily\u001b[1;34m(self, db_star, from_cp, cp_init, run_from_job, shock_db, options_run, kwargs_shock, kwargs_db, model_name)\u001b[0m\n\u001b[0;32m    129\u001b[0m                         \u001b[1;33m(\u001b[0m\u001b[0mshock_db\u001b[0m\u001b[1;33m,\u001b[0m \u001b[0mkwargs_shock2\u001b[0m\u001b[1;33m)\u001b[0m \u001b[1;33m=\u001b[0m \u001b[0mShockFunction\u001b[0m\u001b[1;33m.\u001b[0m\u001b[0msneaky_db\u001b[0m\u001b[1;33m(\u001b[0m\u001b[0mself\u001b[0m\u001b[1;33m.\u001b[0m\u001b[0mout_db\u001b[0m\u001b[1;33m,\u001b[0m\u001b[0mdb_star\u001b[0m\u001b[1;33m,\u001b[0m\u001b[1;33m**\u001b[0m\u001b[0mkwargs_shock\u001b[0m\u001b[1;33m)\u001b[0m\u001b[1;33m\u001b[0m\u001b[1;33m\u001b[0m\u001b[0m\n\u001b[0;32m    130\u001b[0m                 \u001b[0mshock\u001b[0m \u001b[1;33m=\u001b[0m \u001b[0mself\u001b[0m\u001b[1;33m.\u001b[0m\u001b[0mstd_UEVAS_from_db\u001b[0m\u001b[1;33m(\u001b[0m\u001b[0mshock_db\u001b[0m\u001b[1;33m,\u001b[0m\u001b[0mmodel_name\u001b[0m\u001b[1;33m=\u001b[0m\u001b[0mmodel_name\u001b[0m\u001b[1;33m,\u001b[0m\u001b[1;33m**\u001b[0m\u001b[1;33m{\u001b[0m\u001b[1;33m**\u001b[0m\u001b[0mkwargs_shock\u001b[0m\u001b[1;33m,\u001b[0m\u001b[1;33m**\u001b[0m\u001b[0mkwargs_shock2\u001b[0m\u001b[1;33m}\u001b[0m\u001b[1;33m)\u001b[0m\u001b[1;33m\u001b[0m\u001b[1;33m\u001b[0m\u001b[0m\n\u001b[1;32m--> 131\u001b[1;33m                 \u001b[0mself\u001b[0m\u001b[1;33m.\u001b[0m\u001b[0mexecute_shock_from_cp\u001b[0m\u001b[1;33m(\u001b[0m\u001b[0mshock\u001b[0m\u001b[1;33m,\u001b[0m\u001b[0mcp_init\u001b[0m\u001b[1;33m,\u001b[0m\u001b[0moptions_run\u001b[0m\u001b[1;33m=\u001b[0m\u001b[0moptions_run\u001b[0m\u001b[1;33m,\u001b[0m\u001b[0mkwargs_db\u001b[0m\u001b[1;33m=\u001b[0m\u001b[0mkwargs_db\u001b[0m\u001b[1;33m)\u001b[0m\u001b[1;33m\u001b[0m\u001b[1;33m\u001b[0m\u001b[0m\n\u001b[0m\u001b[0;32m    132\u001b[0m                 \u001b[1;32mif\u001b[0m \u001b[0mself\u001b[0m\u001b[1;33m.\u001b[0m\u001b[0msettings\u001b[0m\u001b[1;33m.\u001b[0m\u001b[0msolvestat\u001b[0m \u001b[1;32mis\u001b[0m \u001b[1;32mTrue\u001b[0m\u001b[1;33m:\u001b[0m\u001b[1;33m\u001b[0m\u001b[1;33m\u001b[0m\u001b[0m\n\u001b[0;32m    133\u001b[0m                         \u001b[1;32mreturn\u001b[0m \u001b[1;33m{\u001b[0m\u001b[1;34m'Modelstat'\u001b[0m\u001b[1;33m:\u001b[0m \u001b[0mself\u001b[0m\u001b[1;33m.\u001b[0m\u001b[0mmodelstat\u001b[0m\u001b[1;33m,\u001b[0m \u001b[1;34m'Solvestat'\u001b[0m\u001b[1;33m:\u001b[0m \u001b[0mself\u001b[0m\u001b[1;33m.\u001b[0m\u001b[0msolvestat\u001b[0m\u001b[1;33m}\u001b[0m\u001b[1;33m\u001b[0m\u001b[1;33m\u001b[0m\u001b[0m\n",
      "\u001b[1;32m~\\Documents\\GitHub\\GPM_v05\\py_main\\DB2Gams_l3.py\u001b[0m in \u001b[0;36mexecute_shock_from_cp\u001b[1;34m(self, shock, cp, options_run, kwargs_db)\u001b[0m\n\u001b[0;32m    153\u001b[0m                 \u001b[0mself\u001b[0m\u001b[1;33m.\u001b[0m\u001b[0mopt\u001b[0m\u001b[1;33m.\u001b[0m\u001b[0mdefines\u001b[0m\u001b[1;33m[\u001b[0m\u001b[0mshock\u001b[0m\u001b[1;33m.\u001b[0m\u001b[0mshock_gm\u001b[0m\u001b[1;33m.\u001b[0m\u001b[0mdatabase\u001b[0m\u001b[1;33m.\u001b[0m\u001b[0mname\u001b[0m\u001b[1;33m]\u001b[0m \u001b[1;33m=\u001b[0m \u001b[0mshock\u001b[0m\u001b[1;33m.\u001b[0m\u001b[0mshock_gm\u001b[0m\u001b[1;33m.\u001b[0m\u001b[0mdatabase\u001b[0m\u001b[1;33m.\u001b[0m\u001b[0mname\u001b[0m\u001b[1;33m+\u001b[0m\u001b[1;34m'.gdx'\u001b[0m\u001b[1;33m\u001b[0m\u001b[1;33m\u001b[0m\u001b[0m\n\u001b[0;32m    154\u001b[0m                 \u001b[0mself\u001b[0m\u001b[1;33m.\u001b[0m\u001b[0mjob\u001b[0m \u001b[1;33m=\u001b[0m \u001b[0mself\u001b[0m\u001b[1;33m.\u001b[0m\u001b[0mws\u001b[0m\u001b[1;33m.\u001b[0m\u001b[0madd_job_from_file\u001b[0m\u001b[1;33m(\u001b[0m\u001b[0mshock\u001b[0m\u001b[1;33m.\u001b[0m\u001b[0mgms\u001b[0m\u001b[1;33m,\u001b[0m\u001b[1;33m**\u001b[0m\u001b[1;33m{\u001b[0m\u001b[1;34m'checkpoint'\u001b[0m\u001b[1;33m:\u001b[0m \u001b[0mcp\u001b[0m\u001b[1;33m}\u001b[0m\u001b[1;33m)\u001b[0m\u001b[1;33m\u001b[0m\u001b[1;33m\u001b[0m\u001b[0m\n\u001b[1;32m--> 155\u001b[1;33m                 \u001b[0mself\u001b[0m\u001b[1;33m.\u001b[0m\u001b[0mrun\u001b[0m\u001b[1;33m(\u001b[0m\u001b[0mrun_from_job\u001b[0m\u001b[1;33m=\u001b[0m\u001b[1;32mTrue\u001b[0m\u001b[1;33m,\u001b[0m\u001b[0moptions_run\u001b[0m\u001b[1;33m=\u001b[0m\u001b[0moptions_run\u001b[0m\u001b[1;33m,\u001b[0m\u001b[0mkwargs_db\u001b[0m\u001b[1;33m=\u001b[0m\u001b[0mkwargs_db\u001b[0m\u001b[1;33m)\u001b[0m\u001b[1;33m\u001b[0m\u001b[1;33m\u001b[0m\u001b[0m\n\u001b[0m\u001b[0;32m    156\u001b[0m \u001b[1;33m\u001b[0m\u001b[0m\n\u001b[0;32m    157\u001b[0m         \u001b[1;32mdef\u001b[0m \u001b[0mwrite_run_file\u001b[0m\u001b[1;33m(\u001b[0m\u001b[0mself\u001b[0m\u001b[1;33m,\u001b[0m\u001b[1;33m**\u001b[0m\u001b[0mkwargs\u001b[0m\u001b[1;33m)\u001b[0m\u001b[1;33m:\u001b[0m\u001b[1;33m\u001b[0m\u001b[1;33m\u001b[0m\u001b[0m\n",
      "\u001b[1;32m~\\Documents\\GitHub\\GPM_v05\\py_main\\DB2Gams_l3.py\u001b[0m in \u001b[0;36mrun\u001b[1;34m(self, run_from_job, overwrite, kwargs_write, options_add, options_run, kwargs_db)\u001b[0m\n\u001b[0;32m     72\u001b[0m                         \u001b[0mself\u001b[0m\u001b[1;33m.\u001b[0m\u001b[0mmodel_instance\u001b[0m\u001b[1;33m(\u001b[0m\u001b[0moverwrite\u001b[0m\u001b[1;33m=\u001b[0m\u001b[0moverwrite\u001b[0m\u001b[1;33m,\u001b[0m\u001b[1;33m**\u001b[0m\u001b[0mkwargs_write\u001b[0m\u001b[1;33m)\u001b[0m\u001b[1;33m\u001b[0m\u001b[1;33m\u001b[0m\u001b[0m\n\u001b[0;32m     73\u001b[0m                         \u001b[0mself\u001b[0m\u001b[1;33m.\u001b[0m\u001b[0madd_job\u001b[0m\u001b[1;33m(\u001b[0m\u001b[0moptions_add\u001b[0m\u001b[1;33m)\u001b[0m\u001b[1;33m\u001b[0m\u001b[1;33m\u001b[0m\u001b[0m\n\u001b[1;32m---> 74\u001b[1;33m                 \u001b[0mself\u001b[0m\u001b[1;33m.\u001b[0m\u001b[0mrun_job\u001b[0m\u001b[1;33m(\u001b[0m\u001b[0moptions_run\u001b[0m\u001b[1;33m)\u001b[0m\u001b[1;33m\u001b[0m\u001b[1;33m\u001b[0m\u001b[0m\n\u001b[0m\u001b[0;32m     75\u001b[0m                 \u001b[0mself\u001b[0m\u001b[1;33m.\u001b[0m\u001b[0mout_db\u001b[0m \u001b[1;33m=\u001b[0m \u001b[0mDataBase\u001b[0m\u001b[1;33m.\u001b[0m\u001b[0mGPM_database\u001b[0m\u001b[1;33m(\u001b[0m\u001b[0mworkspace\u001b[0m\u001b[1;33m=\u001b[0m\u001b[0mself\u001b[0m\u001b[1;33m.\u001b[0m\u001b[0msettings\u001b[0m\u001b[1;33m.\u001b[0m\u001b[0mws\u001b[0m\u001b[1;33m,\u001b[0m\u001b[0mdb\u001b[0m\u001b[1;33m=\u001b[0m\u001b[0mself\u001b[0m\u001b[1;33m.\u001b[0m\u001b[0mjob\u001b[0m\u001b[1;33m.\u001b[0m\u001b[0mout_db\u001b[0m\u001b[1;33m,\u001b[0m\u001b[1;33m**\u001b[0m\u001b[0mkwargs_db\u001b[0m\u001b[1;33m)\u001b[0m\u001b[1;33m\u001b[0m\u001b[1;33m\u001b[0m\u001b[0m\n\u001b[0;32m     76\u001b[0m                 \u001b[1;32mif\u001b[0m \u001b[0mself\u001b[0m\u001b[1;33m.\u001b[0m\u001b[0msettings\u001b[0m\u001b[1;33m.\u001b[0m\u001b[0msolvestat\u001b[0m \u001b[1;32mis\u001b[0m \u001b[1;32mTrue\u001b[0m\u001b[1;33m:\u001b[0m\u001b[1;33m\u001b[0m\u001b[1;33m\u001b[0m\u001b[0m\n",
      "\u001b[1;32m~\\Documents\\GitHub\\GPM_v05\\py_main\\DB2Gams_l3.py\u001b[0m in \u001b[0;36mrun_job\u001b[1;34m(self, options)\u001b[0m\n\u001b[0;32m    110\u001b[0m                 \u001b[0mAdd\u001b[0m \u001b[0moptions\u001b[0m \u001b[0musing\u001b[0m \u001b[0mdict\u001b[0m \u001b[1;32mwith\u001b[0m \u001b[0mkey\u001b[0m \u001b[1;33m=\u001b[0m \u001b[0moption_name\u001b[0m\u001b[1;33m,\u001b[0m \u001b[0mvalue\u001b[0m \u001b[1;33m=\u001b[0m \u001b[0moption\u001b[0m\u001b[1;33m.\u001b[0m\u001b[1;33m\u001b[0m\u001b[1;33m\u001b[0m\u001b[0m\n\u001b[0;32m    111\u001b[0m \t\t\"\"\"\n\u001b[1;32m--> 112\u001b[1;33m                 \u001b[0mself\u001b[0m\u001b[1;33m.\u001b[0m\u001b[0mjob\u001b[0m\u001b[1;33m.\u001b[0m\u001b[0mrun\u001b[0m\u001b[1;33m(\u001b[0m\u001b[0mgams_options\u001b[0m\u001b[1;33m=\u001b[0m\u001b[0mself\u001b[0m\u001b[1;33m.\u001b[0m\u001b[0mopt\u001b[0m\u001b[1;33m,\u001b[0m\u001b[0mdatabases\u001b[0m\u001b[1;33m=\u001b[0m\u001b[0mself\u001b[0m\u001b[1;33m.\u001b[0m\u001b[0msettings\u001b[0m\u001b[1;33m.\u001b[0m\u001b[0mdatabases_gdx\u001b[0m\u001b[1;33m,\u001b[0m\u001b[1;33m**\u001b[0m\u001b[0moptions\u001b[0m\u001b[1;33m)\u001b[0m\u001b[1;33m\u001b[0m\u001b[1;33m\u001b[0m\u001b[0m\n\u001b[0m\u001b[0;32m    113\u001b[0m \u001b[1;33m\u001b[0m\u001b[0m\n\u001b[0;32m    114\u001b[0m         \u001b[1;32mdef\u001b[0m \u001b[0mupdate_placeholders\u001b[0m\u001b[1;33m(\u001b[0m\u001b[0mself\u001b[0m\u001b[1;33m)\u001b[0m\u001b[1;33m:\u001b[0m\u001b[1;33m\u001b[0m\u001b[1;33m\u001b[0m\u001b[0m\n",
      "\u001b[1;32m~\\AppData\\Local\\Continuum\\anaconda3\\lib\\site-packages\\gams\\execution.pyd\u001b[0m in \u001b[0;36mgams.execution.GamsJob.run\u001b[1;34m()\u001b[0m\n",
      "\u001b[1;31mGamsExceptionExecution\u001b[0m: GAMS return code not 0 (3), check C:\\Users\\zgr679\\Documents\\GitHub\\GPM_v05\\work_folder\\_gams_py_gjo5.lst for more details"
     ]
    }
   ],
   "source": [
    "print(gm.model_instances[\"EOP_calibrateIO\"].solve_sneakily(db_star=db, from_cp = True, cp_init = gm.checkpoints[\"EOP_calibrateIO\"], options_run={'checkpoint': gm.checkpoints[\"EOP_calibrateIO_cp\"]}, kwargs_shock={\"n_steps\":250, \"store_sol\":store_sol, 'solvetext': gm.model.settings.get_conf('solve')}))"
   ]
  },
  {
   "cell_type": "code",
   "execution_count": null,
   "metadata": {},
   "outputs": [],
   "source": [
    "db = gm.model_instances[\"EOP_calibrateIO\"].out_db"
   ]
  },
  {
   "cell_type": "code",
   "execution_count": null,
   "metadata": {},
   "outputs": [],
   "source": []
  },
  {
   "cell_type": "code",
   "execution_count": 27,
   "metadata": {},
   "outputs": [
    {
     "ename": "NameError",
     "evalue": "name 'compare_plots' is not defined",
     "output_type": "error",
     "traceback": [
      "\u001b[1;31m---------------------------------------------------------------------------\u001b[0m",
      "\u001b[1;31mNameError\u001b[0m                                 Traceback (most recent call last)",
      "\u001b[1;32m<ipython-input-27-53b658a89525>\u001b[0m in \u001b[0;36m<module>\u001b[1;34m\u001b[0m\n\u001b[0;32m      1\u001b[0m \u001b[0mvar\u001b[0m \u001b[1;33m=\u001b[0m \u001b[1;34m'PwThat'\u001b[0m\u001b[1;33m\u001b[0m\u001b[1;33m\u001b[0m\u001b[0m\n\u001b[1;32m----> 2\u001b[1;33m \u001b[0mcompare_plots\u001b[0m\u001b[1;33m(\u001b[0m\u001b[0mdb0\u001b[0m\u001b[1;33m,\u001b[0m\u001b[0mdb\u001b[0m\u001b[1;33m,\u001b[0m\u001b[0mvar\u001b[0m\u001b[1;33m)\u001b[0m\u001b[1;33m\u001b[0m\u001b[1;33m\u001b[0m\u001b[0m\n\u001b[0m",
      "\u001b[1;31mNameError\u001b[0m: name 'compare_plots' is not defined"
     ]
    }
   ],
   "source": [
    "var = 'PwThat'\n",
    "compare_plots(db0,db,var)"
   ]
  },
  {
   "cell_type": "code",
   "execution_count": null,
   "metadata": {},
   "outputs": [],
   "source": [
    "var = 'qD'\n",
    "compare_plots(db0,db,var)"
   ]
  }
 ],
 "metadata": {
  "kernelspec": {
   "display_name": "Python 3",
   "language": "python",
   "name": "python3"
  },
  "language_info": {
   "codemirror_mode": {
    "name": "ipython",
    "version": 3
   },
   "file_extension": ".py",
   "mimetype": "text/x-python",
   "name": "python",
   "nbconvert_exporter": "python",
   "pygments_lexer": "ipython3",
   "version": "3.7.4"
  }
 },
 "nbformat": 4,
 "nbformat_minor": 4
}
