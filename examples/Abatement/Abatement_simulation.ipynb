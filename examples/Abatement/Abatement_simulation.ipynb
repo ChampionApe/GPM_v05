{
 "cells": [
  {
   "cell_type": "markdown",
   "metadata": {},
   "source": [
    "### Load packages etc, and load the child-class of gmspython, \"Abatement\", and load \"techdata_to_tree\" which converts a technology catalog into production trees"
   ]
  },
  {
   "cell_type": "code",
   "execution_count": 1,
   "metadata": {},
   "outputs": [
    {
     "name": "stdout",
     "output_type": "stream",
     "text": [
      "The file_gams_py_gdb0.gdx is still active and was not deleted.\n",
      "The file_gams_py_gdb1.gdx is still active and was not deleted.\n",
      "The file_gams_py_gdb3.gdx is still active and was not deleted.\n"
     ]
    }
   ],
   "source": [
    "clean_up=True # removes gams-related files in work-folder if true\n",
    "%run StdPackages.ipynb\n",
    "os.chdir(py['main'])\n",
    "import abatement, sys, ShockFunction\n",
    "os.chdir(curr)\n",
    "data_folder = os.getcwd()+'\\\\Data'\n",
    "gams_folder = data_folder + \"\\\\..\\\\gamsmodels\\\\Main\"\n",
    "# from mpl_toolkits.axisartist.axislines import AxesZero\n",
    "from matplotlib.ticker import NullFormatter\n",
    "# pickle_path = "
   ]
  },
  {
   "cell_type": "code",
   "execution_count": 2,
   "metadata": {},
   "outputs": [],
   "source": [
    "m = abatement.abate(pickle_path=gams_folder+\"/gmspython_Abatement\", work_folder=work_folder)\n",
    "m.model.functions = {\"std_pdf\":\"$FUNCTION std_pdf({x}): ((1/(sqrt(2*Pi)))*exp(-(Sqr({x}))/2)) $ENDFUNCTION\"}"
   ]
  },
  {
   "cell_type": "code",
   "execution_count": 3,
   "metadata": {},
   "outputs": [],
   "source": [
    "m.setstate(\"EOP\")\n",
    "m.reset_settings()"
   ]
  },
  {
   "cell_type": "markdown",
   "metadata": {},
   "source": [
    "## A rising price of emissions (oil)\n",
    "We present graphically what happens when the oil price gradually increases (static model solution for each price).\n",
    "For this, we again use the sneaky solve, but we make sure to extract variables of interest for each iteration, in contrast to above where we were not interested in the solutions per se, but simply that the values of $\\sigma$ ended in the desired spots."
   ]
  },
  {
   "cell_type": "code",
   "execution_count": 4,
   "metadata": {},
   "outputs": [],
   "source": [
    "#mideleritid start fra starten\n",
    "#m.model.settings.databases[\"Abatement_0\"][\"sigma\"].vals.loc[:] = 0.1\n",
    "#m.model.settings.databases[\"Abatement_0\"][\"eta\"].vals.loc[:] = -0.1"
   ]
  },
  {
   "cell_type": "code",
   "execution_count": 5,
   "metadata": {},
   "outputs": [],
   "source": [
    "# m.write_and_run(name=\"calibrated\", add_checkpoint=\"calibrated\")"
   ]
  },
  {
   "cell_type": "code",
   "execution_count": 6,
   "metadata": {},
   "outputs": [],
   "source": [
    "m.write_and_run(name=\"CO2tax\")\n",
    "out_db = m.model_instances[\"CO2tax\"].out_db"
   ]
  },
  {
   "cell_type": "code",
   "execution_count": 7,
   "metadata": {},
   "outputs": [],
   "source": [
    "m.write_and_run(name='CO2tax', add_checkpoint='CO2tax_cp', overwrite=True)\n",
    "mi = m.model_instances['CO2tax']"
   ]
  },
  {
   "cell_type": "markdown",
   "metadata": {},
   "source": [
    "*2: Define structure of shock* "
   ]
  },
  {
   "cell_type": "code",
   "execution_count": 8,
   "metadata": {},
   "outputs": [],
   "source": [
    "db_end_of_loop = DataBase.GPM_database()"
   ]
  },
  {
   "cell_type": "code",
   "execution_count": 9,
   "metadata": {},
   "outputs": [],
   "source": [
    "db_end_of_loop[\"pM\"] = m.model_instances[\"CO2tax\"].out_db.get(\"pM\") + 7.5"
   ]
  },
  {
   "cell_type": "code",
   "execution_count": 10,
   "metadata": {},
   "outputs": [],
   "source": [
    "#NY ME DDIREKTE\n",
    "#m.model_instances[\"oilshock\"].solve_sneakily(db_star=db_end_of_loop, from_cp=True, cp_init=m.checkpoints[\"calibrated\"])"
   ]
  },
  {
   "cell_type": "code",
   "execution_count": 11,
   "metadata": {},
   "outputs": [],
   "source": [
    "(shock_db, shock_kwargs) = ShockFunction.sneaky_db(out_db, db_end_of_loop, n_steps = 40, loop_name='CO2tax_loop')"
   ]
  },
  {
   "cell_type": "markdown",
   "metadata": {},
   "source": [
    "*3: Define the solution we wish to store for each iteration (conditions argument is optional, but here we extract only the production sector goods):*"
   ]
  },
  {
   "cell_type": "code",
   "execution_count": 12,
   "metadata": {},
   "outputs": [
    {
     "data": {
      "text/plain": [
       "n    CO2tax_loop  \n",
       "CO2  CO2tax_loop_1    5.000000\n",
       "     CO2tax_loop_2    5.192308\n",
       "     CO2tax_loop_3    5.384615\n",
       "     CO2tax_loop_4    5.576923\n",
       "     CO2tax_loop_5    5.769231\n",
       "Name: pM_CO2tax_loop, dtype: float64"
      ]
     },
     "execution_count": 12,
     "metadata": {},
     "output_type": "execute_result"
    }
   ],
   "source": [
    "shock_db.series[\"pM_CO2tax_loop\"].vals.head()"
   ]
  },
  {
   "cell_type": "code",
   "execution_count": 13,
   "metadata": {},
   "outputs": [],
   "source": [
    "store_sol = {'M': {'domains': shock_kwargs['loop_name']}, \"M0\":{'domains': shock_kwargs['loop_name']}, \n",
    "             \"pM\":{'domains': shock_kwargs['loop_name']}, \"qsumX\":{'domains': shock_kwargs['loop_name']},\n",
    "             \"PwThat\":{'domains': shock_kwargs['loop_name']}}"
   ]
  },
  {
   "cell_type": "markdown",
   "metadata": {},
   "source": [
    "*4: Create Shock instance*"
   ]
  },
  {
   "cell_type": "code",
   "execution_count": 14,
   "metadata": {},
   "outputs": [],
   "source": [
    "shock = mi.std_UEVAS_from_db(shock_db, loop_name=shock_kwargs['loop_name'], shock_name=shock_kwargs['shock_name'], store_sol=store_sol)\n",
    "#shock = mi.std_UEVAS_from_db(shock_db, loop_name=shock_kwargs['loop_name'], shock_name=shock_kwargs['shock_name'])\n",
    "#solve_sneakily skal have selve checkpointet\n",
    "#Gør noget så sneaky solve laver et sidste checkpoint"
   ]
  },
  {
   "cell_type": "markdown",
   "metadata": {},
   "source": [
    "*5: Execute shock from the 'calibrated' checkpoint i.e. the model state after the sigmas have been chosen:*"
   ]
  },
  {
   "cell_type": "code",
   "execution_count": 15,
   "metadata": {},
   "outputs": [],
   "source": [
    "mi.execute_shock_from_cp(shock=shock, cp=m.checkpoints['CO2tax_cp'])"
   ]
  },
  {
   "cell_type": "code",
   "execution_count": 16,
   "metadata": {},
   "outputs": [],
   "source": [
    "sols = {\"M0\":mi.out_db.series[\"sol_M0\"].vals, \"M\":mi.out_db.series[\"sol_M\"].vals, \"pM\":mi.out_db.series[\"sol_pM\"].vals}"
   ]
  },
  {
   "cell_type": "code",
   "execution_count": 36,
   "metadata": {},
   "outputs": [],
   "source": [
    "df = pd.DataFrame(sols).drop(columns=\"M0\")"
   ]
  },
  {
   "cell_type": "code",
   "execution_count": 20,
   "metadata": {},
   "outputs": [],
   "source": [
    "oilprice = mi.out_db.series[\"sol_PwThat\"].vals.reset_index()"
   ]
  },
  {
   "cell_type": "code",
   "execution_count": 21,
   "metadata": {},
   "outputs": [],
   "source": [
    "df[\"effective_oil_price\"] = oilprice[oilprice[\"n\"].apply(lambda x: \"oil\" in x)].groupby(\"CO2tax_loop\", sort=False)[\"sol_PwThat\"].max().values"
   ]
  },
  {
   "cell_type": "code",
   "execution_count": 23,
   "metadata": {},
   "outputs": [],
   "source": [
    "oil = mi.out_db.series[\"sol_qsumX\"].vals.reset_index()"
   ]
  },
  {
   "cell_type": "code",
   "execution_count": 24,
   "metadata": {},
   "outputs": [],
   "source": [
    "df[\"oil\"] = oil[oil[\"n\"].apply(lambda x: \"oil\" in x)].groupby(\"CO2tax_loop\", sort=False)[\"sol_qsumX\"].sum().values"
   ]
  },
  {
   "cell_type": "code",
   "execution_count": 25,
   "metadata": {},
   "outputs": [],
   "source": [
    "df.set_index(\"pM\", inplace=True)"
   ]
  },
  {
   "cell_type": "code",
   "execution_count": 26,
   "metadata": {},
   "outputs": [],
   "source": [
    "def translate(col):    \n",
    "    translate = {\n",
    "        \"M\":\"Emissions\",\n",
    "        \"pM\":\"Price of emissions\",\n",
    "        \"effective_oil_price\":\"Effective oil price\",\n",
    "        \"oil\":\"Oil use\"\n",
    "    }\n",
    "    if col in translate:\n",
    "        return translate[col]\n",
    "    else:\n",
    "        return col"
   ]
  },
  {
   "cell_type": "code",
   "execution_count": 27,
   "metadata": {},
   "outputs": [
    {
     "data": {
      "text/plain": [
       "[<matplotlib.lines.Line2D at 0x209e8d7f248>]"
      ]
     },
     "execution_count": 27,
     "metadata": {},
     "output_type": "execute_result"
    },
    {
     "data": {
      "image/png": "[encoded data removed]",
      "text/plain": [
       "<Figure size 864x576 with 2 Axes>"
      ]
     },
     "metadata": {},
     "output_type": "display_data"
    }
   ],
   "source": [
    "#First figure, with oil price and oil usage\n",
    "fig = plt.figure(figsize=(12, 8))\n",
    "fig.add_subplot(1, 1, 1)\n",
    "ax = fig.get_axes()[0]\n",
    "col = \"effective_oil_price\" \n",
    "ax.plot(df.index, col, data=df, label=translate(col), linewidth=4, color=\"#1f77b4\")\n",
    "ax2 = ax.twinx()\n",
    "col = \"oil\"\n",
    "ax2.plot(df.index, col, data=df, label=translate(col), linewidth=4, color=\"#ff770e\")\n",
    "#"
   ]
  },
  {
   "cell_type": "code",
   "execution_count": 26,
   "metadata": {},
   "outputs": [],
   "source": [
    "lines, labels = ax.get_legend_handles_labels()\n",
    "lines = lines + ax2.get_legend_handles_labels()[0]\n",
    "labels = labels + ax2.get_legend_handles_labels()[1]"
   ]
  },
  {
   "cell_type": "code",
   "execution_count": 27,
   "metadata": {},
   "outputs": [
    {
     "data": {
      "text/plain": [
       "<matplotlib.legend.Legend at 0x21284f69dc8>"
      ]
     },
     "execution_count": 27,
     "metadata": {},
     "output_type": "execute_result"
    }
   ],
   "source": [
    "ax.legend(lines, labels, fontsize=16, loc=\"right\")"
   ]
  },
  {
   "cell_type": "code",
   "execution_count": 28,
   "metadata": {},
   "outputs": [
    {
     "data": {
      "text/plain": [
       "<matplotlib.collections.LineCollection at 0x21284f704c8>"
      ]
     },
     "execution_count": 28,
     "metadata": {},
     "output_type": "execute_result"
    }
   ],
   "source": [
    "ax2.vlines(x=[6.5, 10], ymin=df[col].min(), ymax=df[col].max(), ls='--', color=\"grey\", lw=2)"
   ]
  },
  {
   "cell_type": "code",
   "execution_count": 29,
   "metadata": {},
   "outputs": [
    {
     "data": {
      "image/png": "[encoded data removed]",
      "text/plain": [
       "<Figure size 864x576 with 2 Axes>"
      ]
     },
     "execution_count": 29,
     "metadata": {},
     "output_type": "execute_result"
    }
   ],
   "source": [
    "ax.set_xlabel(\"Emission tax\", fontsize=20)\n",
    "ax.set_ylabel(\"Oil price, oil usage\", fontsize=20, rotation=0)\n",
    "ax.yaxis.set_label_coords(0.1,1.02)\n",
    "ax.get_xaxis().set_ticks([])\n",
    "ax2.get_yaxis().set_ticks([])\n",
    "# ax.get_yaxis().set_ticks([])\n",
    "ax.spines[\"left\"].set_visible(True)\n",
    "ax.spines[\"bottom\"].set_visible(True)\n",
    "ax.spines[\"left\"].set_linewidth(0.5)\n",
    "ax.spines[\"left\"].set_edgecolor(\"k\")\n",
    "ax.spines[\"bottom\"].set_edgecolor(\"k\")\n",
    "ax.spines[\"bottom\"].set_linewidth(0.5)\n",
    "ax.spines[\"right\"].set_visible(False)\n",
    "ax.spines[\"top\"].set_visible(False)\n",
    "ax2.grid(False)\n",
    "#ax.set_axisbelow(True)\n",
    "ax.grid(axis='y', color=\"lightgrey\", linewidth=0.2)\n",
    "ax.get_yaxis().set_major_formatter(NullFormatter())\n",
    "\n",
    "\n",
    "fig"
   ]
  },
  {
   "cell_type": "code",
   "execution_count": 30,
   "metadata": {},
   "outputs": [],
   "source": [
    "fig.savefig(\"oilprice_oilusage.pdf\", bbox_inches=\"tight\", transparent=True)"
   ]
  },
  {
   "cell_type": "markdown",
   "metadata": {},
   "source": [
    "Figure number 2, electricity"
   ]
  },
  {
   "cell_type": "code",
   "execution_count": 31,
   "metadata": {},
   "outputs": [],
   "source": [
    "elec = mi.out_db.series[\"sol_qsumX\"].vals.reset_index()"
   ]
  },
  {
   "cell_type": "code",
   "execution_count": 32,
   "metadata": {},
   "outputs": [],
   "source": [
    "df[\"electricity\"] = elec[elec[\"n\"].apply(lambda x: \"electricity\" in x)].groupby(\"CO2tax_loop\", sort=False)[\"sol_qsumX\"].sum().values"
   ]
  },
  {
   "cell_type": "code",
   "execution_count": 33,
   "metadata": {},
   "outputs": [
    {
     "data": {
      "text/plain": [
       "<matplotlib.collections.LineCollection at 0x21284f90408>"
      ]
     },
     "execution_count": 33,
     "metadata": {},
     "output_type": "execute_result"
    },
    {
     "data": {
      "image/png": "[encoded data removed]",
      "text/plain": [
       "<Figure size 864x576 with 1 Axes>"
      ]
     },
     "metadata": {},
     "output_type": "display_data"
    }
   ],
   "source": [
    "fig2 = plt.figure(figsize=(12, 8))\n",
    "fig2.add_subplot(1, 1, 1)\n",
    "ax_elec = fig2.get_axes()[0]\n",
    "col = \"electricity\" \n",
    "ax_elec.plot(df.index, col, data=df, label=translate(col), linewidth=4, color=\"#1f77b4\")\n",
    "ax_elec.vlines(x=[6.5, 10], ymin=df[col].min(), ymax=df[col].max(), ls='--', color=\"grey\", lw=2)\n",
    "#"
   ]
  },
  {
   "cell_type": "code",
   "execution_count": null,
   "metadata": {},
   "outputs": [],
   "source": []
  },
  {
   "cell_type": "code",
   "execution_count": 34,
   "metadata": {},
   "outputs": [],
   "source": [
    "def format_single_axis(axes, x_label=\"\", y_label=\"\"):\n",
    "    axes.set_xlabel(x_label, fontsize=20)\n",
    "    axes.set_ylabel(y_label, fontsize=20, rotation=0)\n",
    "    axes.yaxis.set_label_coords(0.1,1.02)\n",
    "    axes.get_xaxis().set_ticks([])\n",
    "#     axes.get_yaxis().set_ticks([])\n",
    "    axes.spines[\"left\"].set_visible(True)\n",
    "    axes.spines[\"bottom\"].set_visible(True)\n",
    "    axes.spines[\"left\"].set_linewidth(0.5)\n",
    "    axes.spines[\"left\"].set_edgecolor(\"k\")\n",
    "    axes.spines[\"bottom\"].set_edgecolor(\"k\")\n",
    "    axes.spines[\"bottom\"].set_linewidth(0.5)\n",
    "    axes.spines[\"right\"].set_visible(False)\n",
    "    axes.spines[\"top\"].set_visible(False)\n",
    "    #axes.set_axisbelow(True)\n",
    "    axes.grid(axis='y', color=\"lightgrey\", linewidth=0.2)\n",
    "    axes.get_yaxis().set_major_formatter(NullFormatter())"
   ]
  },
  {
   "cell_type": "code",
   "execution_count": 35,
   "metadata": {},
   "outputs": [],
   "source": [
    "format_single_axis(ax_elec, x_label=\"Emission price\", y_label=\"Electricity use\")\n"
   ]
  },
  {
   "cell_type": "code",
   "execution_count": 36,
   "metadata": {},
   "outputs": [],
   "source": [
    "fig2.savefig(\"electricity_use.pdf\", bbox_inches=\"tight\", transparent=True)"
   ]
  },
  {
   "cell_type": "code",
   "execution_count": null,
   "metadata": {},
   "outputs": [],
   "source": []
  },
  {
   "cell_type": "code",
   "execution_count": 37,
   "metadata": {},
   "outputs": [
    {
     "name": "stderr",
     "output_type": "stream",
     "text": [
      "C:\\Users\\zgr679\\AppData\\Local\\Continuum\\anaconda3\\lib\\site-packages\\ipykernel_launcher.py:6: MatplotlibDeprecationWarning: Support for uppercase single-letter colors is deprecated since Matplotlib 3.1 and will be removed in 3.3; please use lowercase instead.\n",
      "  \n",
      "C:\\Users\\zgr679\\AppData\\Local\\Continuum\\anaconda3\\lib\\site-packages\\ipykernel_launcher.py:6: RuntimeWarning: Second argument 'M' is ambiguous: could be a color spec but is in data; using as data.  Either rename the entry in data or use three arguments to plot.\n",
      "  \n"
     ]
    },
    {
     "data": {
      "image/png": "[encoded data removed]",
      "text/plain": [
       "<Figure size 864x576 with 1 Axes>"
      ]
     },
     "metadata": {},
     "output_type": "display_data"
    }
   ],
   "source": [
    "#THIRD PLOT, OF EMISSIONS\n",
    "fig3 = plt.figure(figsize=(12, 8))\n",
    "fig3.add_subplot(1, 1, 1)\n",
    "ax4 = fig3.get_axes()[0]\n",
    "col = \"M\" \n",
    "ax4.plot(df.index, col, data=df, label=translate(col), linewidth=4, color=\"#1f77b4\")\n",
    "ax4.vlines(x=[6.5, 10], ymin=df[col].min(), ymax=df[col].max(), ls='--', color=\"grey\", lw=2)\n",
    "format_single_axis(ax4, x_label=\"Emission price\", y_label=translate(col))\n",
    "\n",
    "\n"
   ]
  },
  {
   "cell_type": "code",
   "execution_count": 38,
   "metadata": {},
   "outputs": [],
   "source": [
    "fig3.savefig(\"Emissions.pdf\", bbox_inches=\"tight\", transparent=True, facecolor=\"none\", edgecolor='none')"
   ]
  },
  {
   "cell_type": "code",
   "execution_count": null,
   "metadata": {},
   "outputs": [],
   "source": []
  },
  {
   "cell_type": "code",
   "execution_count": null,
   "metadata": {},
   "outputs": [],
   "source": []
  },
  {
   "cell_type": "code",
   "execution_count": null,
   "metadata": {},
   "outputs": [],
   "source": []
  },
  {
   "cell_type": "code",
   "execution_count": null,
   "metadata": {},
   "outputs": [],
   "source": []
  },
  {
   "cell_type": "code",
   "execution_count": null,
   "metadata": {},
   "outputs": [],
   "source": []
  },
  {
   "cell_type": "code",
   "execution_count": null,
   "metadata": {},
   "outputs": [],
   "source": []
  },
  {
   "cell_type": "code",
   "execution_count": null,
   "metadata": {},
   "outputs": [],
   "source": []
  }
 ],
 "metadata": {
  "kernelspec": {
   "display_name": "Python 3",
   "language": "python",
   "name": "python3"
  },
  "language_info": {
   "codemirror_mode": {
    "name": "ipython",
    "version": 3
   },
   "file_extension": ".py",
   "mimetype": "text/x-python",
   "name": "python",
   "nbconvert_exporter": "python",
   "pygments_lexer": "ipython3",
   "version": "3.7.4"
  }
 },
 "nbformat": 4,
 "nbformat_minor": 4
}
