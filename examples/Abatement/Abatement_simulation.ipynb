{
 "cells": [
  {
   "cell_type": "markdown",
   "metadata": {},
   "source": [
    "### Load packages etc, and load the child-class of gmspython, \"Abatement\", and load \"techdata_to_tree\" which converts a technology catalog into production trees"
   ]
  },
  {
   "cell_type": "code",
   "execution_count": 1,
   "metadata": {},
   "outputs": [],
   "source": [
    "clean_up=True # removes gams-related files in work-folder if true\n",
    "%run StdPackages.ipynb\n",
    "os.chdir(py['main'])\n",
    "import abatement, sys, ShockFunction\n",
    "os.chdir(curr)\n",
    "data_folder = os.getcwd()+'\\\\Data'\n",
    "gams_folder = data_folder + \"\\\\..\\\\gamsmodels\\\\Main\"\n",
    "# pickle_path = "
   ]
  },
  {
   "cell_type": "code",
   "execution_count": 2,
   "metadata": {},
   "outputs": [],
   "source": [
    "#NEW LOAD HERE before it works. Write m.export() in _calibration script.\n",
    "#m = abatement.abate(pickle_path=gams_folder+\"/gmspython_Abatement\", work_folder=work_folder)"
   ]
  },
  {
   "cell_type": "markdown",
   "metadata": {},
   "source": [
    "## A shock to the oil price\n",
    "We present graphically what happens when the oil price gradually increases (static model solution for each price).\n",
    "For this, we again use the sneaky solve, but we make sure to extract variables of interest for each iteration, in contrast to above where we were not interested in the solutions per se, but simply that the values of $\\sigma$ ended in the desired spots."
   ]
  },
  {
   "cell_type": "code",
   "execution_count": 121,
   "metadata": {},
   "outputs": [],
   "source": [
    "#mideleritid start fra starten\n",
    "#m.model.settings.databases[\"Abatement_0\"][\"sigma\"].vals.loc[:] = 0.1\n",
    "#m.model.settings.databases[\"Abatement_0\"][\"eta\"].vals.loc[:] = -0.1"
   ]
  },
  {
   "cell_type": "code",
   "execution_count": 122,
   "metadata": {},
   "outputs": [],
   "source": [
    "# m.write_and_run(name=\"calibrated\", add_checkpoint=\"calibrated\")"
   ]
  },
  {
   "cell_type": "code",
   "execution_count": 123,
   "metadata": {},
   "outputs": [
    {
     "data": {
      "text/plain": [
       "n\n",
       "C_CO2_1             0.50\n",
       "C_EH_1              1.20\n",
       "C_EH_2              1.20\n",
       "C_EH_3              1.20\n",
       "C_EH_base           0.01\n",
       "C_EL_1              1.20\n",
       "C_EL_2              1.20\n",
       "C_EL_3              1.20\n",
       "C_EL_4              1.20\n",
       "C_EL_5              1.20\n",
       "C_EL_base           0.01\n",
       "C_ER_1              1.20\n",
       "C_ER_2              1.20\n",
       "C_ER_base           0.01\n",
       "EH                  0.01\n",
       "EL                  0.01\n",
       "EOP_tau1            0.50\n",
       "ER                  0.01\n",
       "ID_1                0.01\n",
       "ID_2                0.01\n",
       "ID_3                0.01\n",
       "ID_4                0.01\n",
       "ID_5                0.01\n",
       "U_ID_C_EH_1_base    0.01\n",
       "U_ID_C_EH_2_base    0.01\n",
       "U_ID_C_EH_3_base    0.01\n",
       "U_ID_C_EL_1_base    0.01\n",
       "U_ID_C_EL_2_base    0.01\n",
       "U_ID_C_EL_3_base    0.01\n",
       "U_ID_C_EL_4_base    0.01\n",
       "U_ID_C_EL_5_base    0.01\n",
       "U_ID_C_ER_1_base    0.01\n",
       "U_ID_C_ER_2_base    0.01\n",
       "Name: sigma, dtype: float64"
      ]
     },
     "execution_count": 123,
     "metadata": {},
     "output_type": "execute_result"
    }
   ],
   "source": [
    "m.model_instances[\"calibrated\"].out_db.get(\"sigma\")"
   ]
  },
  {
   "cell_type": "code",
   "execution_count": 124,
   "metadata": {},
   "outputs": [],
   "source": [
    "out_db = m.model_instances[\"calibrated\"].out_db"
   ]
  },
  {
   "cell_type": "code",
   "execution_count": 125,
   "metadata": {},
   "outputs": [],
   "source": [
    "m.write_and_run(name=\"oilshock\")\n",
    "#db_out = m.model_instances[\"baseline\"].out_db"
   ]
  },
  {
   "cell_type": "code",
   "execution_count": 126,
   "metadata": {},
   "outputs": [],
   "source": [
    "#m.write_and_run(name='taxshock', add_checkpoint='taxshock', overwrite=True)\n",
    "mi = m.model_instances['oilshock']"
   ]
  },
  {
   "cell_type": "code",
   "execution_count": 127,
   "metadata": {},
   "outputs": [],
   "source": [
    "#mi.out_db.series.__dict__"
   ]
  },
  {
   "cell_type": "markdown",
   "metadata": {},
   "source": [
    "*2: Define structure of shock* "
   ]
  },
  {
   "cell_type": "code",
   "execution_count": 128,
   "metadata": {},
   "outputs": [],
   "source": [
    "db_end_of_loop = DataBase.GPM_database()"
   ]
  },
  {
   "cell_type": "code",
   "execution_count": 129,
   "metadata": {},
   "outputs": [],
   "source": [
    "cond = out_db.get(\"PwT\").index.str.contains(\"oil\")\n",
    "db_end_of_loop[\"PwT\"] = out_db.get(\"PwT\")[cond] + 12\n",
    "#end_prices[cond] = out_db.get(\"PwT\")[cond] + 5\n",
    "#end_prices = end_prices[cond]"
   ]
  },
  {
   "cell_type": "code",
   "execution_count": 130,
   "metadata": {},
   "outputs": [
    {
     "data": {
      "text/plain": [
       "n\n",
       "C_EH_base_oil           13.0\n",
       "C_EL_base_oil           13.0\n",
       "C_ER_base_oil           13.0\n",
       "ID_1_oil                13.0\n",
       "ID_2_oil                13.0\n",
       "ID_5_oil                13.0\n",
       "U_ID_C_EH_1_base_oil    13.0\n",
       "U_ID_C_EH_2_base_oil    13.0\n",
       "U_ID_C_EH_3_base_oil    13.0\n",
       "U_ID_C_EL_1_base_oil    13.0\n",
       "U_ID_C_EL_2_base_oil    13.0\n",
       "U_ID_C_EL_3_base_oil    13.0\n",
       "U_ID_C_EL_4_base_oil    13.0\n",
       "U_ID_C_EL_5_base_oil    13.0\n",
       "U_ID_C_ER_1_base_oil    13.0\n",
       "U_ID_C_ER_2_base_oil    13.0\n",
       "Name: PwT, dtype: float64"
      ]
     },
     "execution_count": 130,
     "metadata": {},
     "output_type": "execute_result"
    }
   ],
   "source": [
    "db_end_of_loop.series[\"PwT\"].vals"
   ]
  },
  {
   "cell_type": "code",
   "execution_count": 131,
   "metadata": {},
   "outputs": [],
   "source": [
    "#NY ME DDIREKTE\n",
    "#m.model_instances[\"oilshock\"].solve_sneakily(db_star=db_end_of_loop, from_cp=True, cp_init=m.checkpoints[\"calibrated\"])"
   ]
  },
  {
   "cell_type": "code",
   "execution_count": 132,
   "metadata": {},
   "outputs": [],
   "source": [
    "(shock_db, shock_kwargs) = ShockFunction.sneaky_db(out_db, db_end_of_loop, n_steps = 25, loop_name='oil_loop')"
   ]
  },
  {
   "cell_type": "markdown",
   "metadata": {},
   "source": [
    "*3: Define the solution we wish to store for each iteration (conditions argument is optional, but here we extract only the production sector goods):*"
   ]
  },
  {
   "cell_type": "code",
   "execution_count": 133,
   "metadata": {},
   "outputs": [
    {
     "data": {
      "text/plain": [
       "Index(['C_EH_base_oil', 'C_EL_base_oil', 'C_ER_base_oil', 'ID_1_oil',\n",
       "       'ID_2_oil', 'ID_5_oil', 'U_ID_C_EH_1_base_oil', 'U_ID_C_EH_2_base_oil',\n",
       "       'U_ID_C_EH_3_base_oil', 'U_ID_C_EL_1_base_oil', 'U_ID_C_EL_2_base_oil',\n",
       "       'U_ID_C_EL_3_base_oil', 'U_ID_C_EL_4_base_oil', 'U_ID_C_EL_5_base_oil',\n",
       "       'U_ID_C_ER_1_base_oil', 'U_ID_C_ER_2_base_oil'],\n",
       "      dtype='object', name='n')"
      ]
     },
     "execution_count": 133,
     "metadata": {},
     "output_type": "execute_result"
    }
   ],
   "source": [
    "shock_db.series[\"PwT_oil_loop_subset\"].vals"
   ]
  },
  {
   "cell_type": "code",
   "execution_count": 134,
   "metadata": {},
   "outputs": [],
   "source": [
    "store_sol = {'qD': {'domains': shock_kwargs['loop_name']}}"
   ]
  },
  {
   "cell_type": "markdown",
   "metadata": {},
   "source": [
    "*4: Create Shock instance*"
   ]
  },
  {
   "cell_type": "code",
   "execution_count": 135,
   "metadata": {},
   "outputs": [],
   "source": [
    "shock = mi.std_UEVAS_from_db(shock_db, loop_name=shock_kwargs['loop_name'], shock_name=shock_kwargs['shock_name'], store_sol=store_sol)\n",
    "#shock = mi.std_UEVAS_from_db(shock_db, loop_name=shock_kwargs['loop_name'], shock_name=shock_kwargs['shock_name'])\n",
    "#solve_sneakily skal have selve checkpointet\n",
    "#Gør noget så sneaky solve laver et sidste checkpoint"
   ]
  },
  {
   "cell_type": "markdown",
   "metadata": {},
   "source": [
    "*5: Execute shock from the 'calibrated' checkpoint i.e. the model state after the sigmas have been chosen:*"
   ]
  },
  {
   "cell_type": "code",
   "execution_count": 136,
   "metadata": {},
   "outputs": [],
   "source": [
    "mi.execute_shock_from_cp(shock=shock, cp=m.checkpoints['calibrated'])"
   ]
  },
  {
   "cell_type": "code",
   "execution_count": 137,
   "metadata": {},
   "outputs": [],
   "source": [
    "sol_qD = mi.out_db.series[\"sol_qD\"].vals"
   ]
  },
  {
   "cell_type": "code",
   "execution_count": 138,
   "metadata": {},
   "outputs": [],
   "source": [
    "#tech_names = [\"ID_thighest\", \"ID_thigher\", \"ID_tmedium\", \"ID_tlower\", \"ID_tlowest\"]\n",
    "#sol_qD.loc(axis=0)[\"oil_loop_1\", tech_names]"
   ]
  },
  {
   "cell_type": "code",
   "execution_count": 139,
   "metadata": {},
   "outputs": [],
   "source": [
    "sol_qD.reset_index().to_excel(os.getcwd() + \"\\\\oil_price_shock_\" + inputfile.split(\"_\")[-1], index=False)"
   ]
  },
  {
   "cell_type": "code",
   "execution_count": 140,
   "metadata": {},
   "outputs": [],
   "source": [
    "#m.model_instances[\"oilshock\"].solve_sneakily(db_star=db_end_of_loop, from_cp=True, cp_init=m.checkpoints[\"oilshock\"])"
   ]
  },
  {
   "cell_type": "markdown",
   "metadata": {},
   "source": [
    "The solution is stored as a parameter noted as \"sol_\"+ the name of the variable. In our case, the specific quantities are stored:"
   ]
  },
  {
   "cell_type": "markdown",
   "metadata": {},
   "source": [
    "### **3.1 Diagnostics (dated)**\n",
    "When the model cannot be solved, we run some diagnostics:"
   ]
  },
  {
   "cell_type": "code",
   "execution_count": null,
   "metadata": {},
   "outputs": [],
   "source": [
    "# for symbol in [\"PbT\", \"PwT\", \"qD\"]:\n",
    "#     start_vals = m.model_instances[\"baseline\"].out_db.series[\"load_\" + symbol].vals\n",
    "#     end_vals = m.model_instances[\"baseline\"].out_db.series[symbol].vals\n",
    "#     rel_changes = (end_vals - start_vals)/start_vals\n",
    "#     large_changes = rel_changes[~(rel_changes.between(-0.0001, 0.0001))]\n",
    "#     if len(large_changes) > 0:\n",
    "#         print(\"Large deviations for symbol \\n\" + symbol + \":\")\n",
    "#         print(large_changes, \"\\n\")\n",
    "#     else:\n",
    "#         print(\"No large deviations for symbol: \" + symbol + \".\\n\")"
   ]
  },
  {
   "cell_type": "code",
   "execution_count": null,
   "metadata": {},
   "outputs": [],
   "source": [
    "# from decimal import Decimal"
   ]
  },
  {
   "cell_type": "code",
   "execution_count": null,
   "metadata": {},
   "outputs": [],
   "source": [
    "# #Demands\n",
    "# print(Decimal(qD[\"U_EOP_tau1_1\"] - mu[(\"U_EOP_tau1_1\", \"C_CO2_1\")] * qS[\"C_CO2_1\"]))\n",
    "# print(Decimal(qD[\"EOP_tau1\"] - mu.loc[(\"U_EOP_tau1_1\", \"EOP_tau1\")] * qD[\"U_EOP_tau1_1\"]))\n",
    "# print(Decimal(qD[\"EOP_tau1_electricity\"] - mu[(\"EOP_tau1_electricity\", \"EOP_tau1\")] * qD[\"EOP_tau1\"]))\n",
    "# print(Decimal(qD[\"EOP_tau1_K\"] - mu[(\"EOP_tau1_K\", \"EOP_tau1\")] * qD[\"EOP_tau1\"]))\n",
    "# #zero profits\n",
    "# print(Decimal(qS[\"C_CO2_1\"]*PbT[\"C_CO2_1\"] - qD[\"U_EOP_tau1_1\"]*PwT[\"U_EOP_tau1_1\"]))\n",
    "# print(Decimal(qD[\"U_EOP_tau1_1\"]*PwT[\"U_EOP_tau1_1\"] - qD[\"EOP_tau1\"]*PwT[\"EOP_tau1\"]))\n",
    "# print(Decimal(qD[\"EOP_tau1\"]*PwT[\"EOP_tau1\"] - qD[\"EOP_tau1_electricity\"]*PwT[\"EOP_tau1_electricity\"] - qD[\"EOP_tau1_K\"]*PwT[\"EOP_tau1_K\"]))"
   ]
  },
  {
   "cell_type": "code",
   "execution_count": null,
   "metadata": {},
   "outputs": [],
   "source": []
  },
  {
   "cell_type": "code",
   "execution_count": null,
   "metadata": {},
   "outputs": [],
   "source": []
  },
  {
   "cell_type": "code",
   "execution_count": null,
   "metadata": {},
   "outputs": [],
   "source": []
  },
  {
   "cell_type": "code",
   "execution_count": null,
   "metadata": {},
   "outputs": [],
   "source": []
  },
  {
   "cell_type": "code",
   "execution_count": null,
   "metadata": {},
   "outputs": [],
   "source": []
  },
  {
   "cell_type": "code",
   "execution_count": null,
   "metadata": {},
   "outputs": [],
   "source": []
  },
  {
   "cell_type": "code",
   "execution_count": null,
   "metadata": {},
   "outputs": [],
   "source": []
  },
  {
   "cell_type": "code",
   "execution_count": null,
   "metadata": {},
   "outputs": [],
   "source": []
  },
  {
   "cell_type": "code",
   "execution_count": null,
   "metadata": {},
   "outputs": [],
   "source": []
  },
  {
   "cell_type": "code",
   "execution_count": null,
   "metadata": {},
   "outputs": [],
   "source": []
  },
  {
   "cell_type": "code",
   "execution_count": null,
   "metadata": {},
   "outputs": [],
   "source": []
  }
 ],
 "metadata": {
  "kernelspec": {
   "display_name": "Python 3",
   "language": "python",
   "name": "python3"
  },
  "language_info": {
   "codemirror_mode": {
    "name": "ipython",
    "version": 3
   },
   "file_extension": ".py",
   "mimetype": "text/x-python",
   "name": "python",
   "nbconvert_exporter": "python",
   "pygments_lexer": "ipython3",
   "version": "3.7.4"
  }
 },
 "nbformat": 4,
 "nbformat_minor": 4
}
