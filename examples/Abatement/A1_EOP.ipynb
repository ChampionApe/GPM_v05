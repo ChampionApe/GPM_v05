{
 "cells": [
  {
   "cell_type": "code",
   "execution_count": 1,
   "metadata": {},
   "outputs": [
    {
     "name": "stdout",
     "output_type": "stream",
     "text": [
      "The file_gams_py_gdb0.gdx is still active and was not deleted.\n",
      "The file_gams_py_gdb1.gdx is still active and was not deleted.\n"
     ]
    }
   ],
   "source": [
    "clean_up=True # removes gams-related files in work-folder if true\n",
    "%run StdPackages.ipynb\n",
    "os.chdir(directory['py'])\n",
    "import techdata_to_tree, sys, ShockFunction\n",
    "import abatement_EOP as abatement\n",
    "os.chdir(directory['curr'])\n",
    "def flatten_list(list_):\n",
    "    return [item for sublist in list_ for item in sublist]"
   ]
  },
  {
   "cell_type": "markdown",
   "metadata": {},
   "source": [
    "*Specify settings:*"
   ]
  },
  {
   "cell_type": "code",
   "execution_count": 2,
   "metadata": {},
   "outputs": [],
   "source": [
    "name = 'A1_EOP'\n",
    "f = {'tech': directory['data']+\"/techdata_dors_2.xlsx\",\n",
    "     'other': directory['data']+\"/Othdata_dors_2.xlsx\"}\n",
    "s = ['inputdisp','endofpipe','inputprices']\n",
    "m = ['ID','EOP'] \n",
    "e = {'M': 'vars','M_sets': 'sets'} # dictionary used to load emissions data\n",
    "other_trees = {'ID_Y': {'s': 'Y', 'read_data': {'Y': 'vars'}, 'Q2P': 'Q2P'}} # the key = tree name, s = sheet that specifies tree structure, read_data (if not None) specifies how to load data."
   ]
  },
  {
   "cell_type": "code",
   "execution_count": 3,
   "metadata": {},
   "outputs": [],
   "source": [
    "type_f = {'ID_EC': 'CES_norm',\n",
    "          'ID_CU': 'MNL',\n",
    "          'ID_TU': 'CET_norm',\n",
    "          'ID_TX': 'CES',\n",
    "          'ID_BU': 'linear_out',\n",
    "          'ID_BX': 'CES',\n",
    "          'EOP_CU': 'MNL',\n",
    "          'EOP_TU': 'CET_norm',\n",
    "          'EOP_TX': 'CES'}"
   ]
  },
  {
   "cell_type": "markdown",
   "metadata": {},
   "source": [
    "*Set up nesting tree:*"
   ]
  },
  {
   "cell_type": "code",
   "execution_count": 4,
   "metadata": {},
   "outputs": [],
   "source": [
    "%run ATree.ipynb"
   ]
  },
  {
   "cell_type": "markdown",
   "metadata": {},
   "source": [
    "## 1: Initialize model"
   ]
  },
  {
   "cell_type": "markdown",
   "metadata": {},
   "source": [
    "*Initialize with ID and EOP technologies:*"
   ]
  },
  {
   "cell_type": "code",
   "execution_count": 5,
   "metadata": {},
   "outputs": [],
   "source": [
    "gm = abatement.abate(nts=nts,tech=tech,work_folder=directory['work'],use_EOP=True,**{'data_folder':directory['gams'],'name': name})\n",
    "gm.add_aliases([('n','nnnn'),('n','nnnnn')])\n",
    "gm.model.database.update_all_sets(clean_up=False) "
   ]
  },
  {
   "cell_type": "markdown",
   "metadata": {},
   "source": [
    "*Provide initial values:*"
   ]
  },
  {
   "cell_type": "code",
   "execution_count": 6,
   "metadata": {},
   "outputs": [],
   "source": [
    "gm.initialize_variables_leontief()\n",
    "gm.initialize_variables(**{'check_variables': True})"
   ]
  },
  {
   "cell_type": "markdown",
   "metadata": {},
   "source": [
    "## 2: Solve model"
   ]
  },
  {
   "cell_type": "markdown",
   "metadata": {},
   "source": [
    "*Debugging:*"
   ]
  },
  {
   "cell_type": "code",
   "execution_count": 7,
   "metadata": {},
   "outputs": [],
   "source": [
    "# gm.model.database['testminobj'] = 0;"
   ]
  },
  {
   "cell_type": "markdown",
   "metadata": {},
   "source": [
    "#### 2.1: Baseline"
   ]
  },
  {
   "cell_type": "markdown",
   "metadata": {},
   "source": [
    "*Set up baseline model and solve:*"
   ]
  },
  {
   "cell_type": "code",
   "execution_count": 8,
   "metadata": {},
   "outputs": [],
   "source": [
    "gm.write_and_run(name='baseline_EOP')\n",
    "db0 = gm.model_instances['baseline_EOP'].out_db"
   ]
  },
  {
   "cell_type": "markdown",
   "metadata": {},
   "source": [
    "*Read back solution to main db:*"
   ]
  },
  {
   "cell_type": "code",
   "execution_count": 9,
   "metadata": {},
   "outputs": [],
   "source": [
    "gm.model.database.merge_dbs(gm.model.database,db0,'second')"
   ]
  },
  {
   "cell_type": "markdown",
   "metadata": {},
   "source": [
    "#### 2.2: ID calibrate"
   ]
  },
  {
   "cell_type": "code",
   "execution_count": 10,
   "metadata": {},
   "outputs": [],
   "source": [
    "gm.reset_settings()\n",
    "gm.setstate('ID_calibrate',init=False)\n",
    "gm.write_and_run(name='ID_calibrate',kwargs_init={'check_variables':True},overwrite=True)\n",
    "db_ID = gm.model_instances['ID_calibrate'].out_db"
   ]
  },
  {
   "cell_type": "markdown",
   "metadata": {},
   "source": [
    "#### 2.2: ID calibrate"
   ]
  },
  {
   "cell_type": "markdown",
   "metadata": {},
   "source": [
    "*Change to EOP calibration state and resolve:*"
   ]
  },
  {
   "cell_type": "code",
   "execution_count": 11,
   "metadata": {},
   "outputs": [],
   "source": [
    "gm.reset_settings()\n",
    "gm.setstate('EOP_calibrate',init=False)\n",
    "gm.write_and_run(name='EOP_calibrate',kwargs_init={'check_variables':True},overwrite=True)\n",
    "db_EOP = gm.model_instances['EOP_calibrate'].out_db"
   ]
  },
  {
   "cell_type": "code",
   "execution_count": 12,
   "metadata": {},
   "outputs": [],
   "source": [
    "def compare_plots(db0,db,var):\n",
    "    return pd.concat([db0.get(var).rename(f\"{var}, B\"),db.get(var).rename(f\"{var}, C\")],axis=1).plot.bar();"
   ]
  },
  {
   "cell_type": "code",
   "execution_count": 13,
   "metadata": {},
   "outputs": [
    {
     "data": {
      "text/plain": [
       "<AxesSubplot:xlabel='n'>"
      ]
     },
     "execution_count": 13,
     "metadata": {},
     "output_type": "execute_result"
    },
    {
     "data": {
      "image/png": "[encoded data removed]",
      "text/plain": [
       "<Figure size 576x396 with 1 Axes>"
      ]
     },
     "metadata": {},
     "output_type": "display_data"
    }
   ],
   "source": [
    "var = 'PwThat'\n",
    "compare_plots(db_ID,db_EOP,var)"
   ]
  },
  {
   "cell_type": "code",
   "execution_count": 17,
   "metadata": {},
   "outputs": [
    {
     "data": {
      "text/plain": [
       "z    n     \n",
       "CO2  EOP_t1    3.148355e-22\n",
       "     EOP_t2    2.959763e-10\n",
       "Name: currapp_EOP, dtype: float64"
      ]
     },
     "execution_count": 17,
     "metadata": {},
     "output_type": "execute_result"
    }
   ],
   "source": [
    "db_EOP.get('currapp_EOP')"
   ]
  },
  {
   "cell_type": "code",
   "execution_count": 17,
   "metadata": {},
   "outputs": [
    {
     "data": {
      "text/plain": [
       "z    n     \n",
       "CO2  EOP_t1    3.148355e-22\n",
       "     EOP_t2    2.959763e-10\n",
       "Name: currapp_EOP, dtype: float64"
      ]
     },
     "execution_count": 17,
     "metadata": {},
     "output_type": "execute_result"
    }
   ],
   "source": [
    "db_EOP.get('currapp_EOP')"
   ]
  },
  {
   "cell_type": "code",
   "execution_count": 14,
   "metadata": {},
   "outputs": [
    {
     "data": {
      "text/plain": [
       "<AxesSubplot:xlabel='n'>"
      ]
     },
     "execution_count": 14,
     "metadata": {},
     "output_type": "execute_result"
    },
    {
     "data": {
      "image/png": "[encoded data removed]",
      "text/plain": [
       "<Figure size 576x396 with 1 Axes>"
      ]
     },
     "metadata": {},
     "output_type": "display_data"
    }
   ],
   "source": [
    "var = 'qD'\n",
    "compare_plots(db_ID,db_EOP,var)"
   ]
  },
  {
   "cell_type": "markdown",
   "metadata": {},
   "source": [
    "*Adding the EOP module comes with two types of adjustments: First, there are completely new block of equations to be written. For instance, the solution to the tree structure problem. Second, there are adjustments that replace equations that are applied in the simple ID case:*\n",
    "\n",
    "To do:\n",
    "* Keep 'ID\\_sum', 'ID\\_Em', 'ID\\_calib\\_aux'.\n",
    "* Add EOP-ID module that computes aggregate use of inputs (qD[ai]) and the effective price of emissions (pMhat). In the model blocks, replace the ID\\_agg with this new one that does both.\n",
    "* Add EOP module that computes currapp.\n",
    "* Add specific EOP module that computes post-abatement emissions, the amount of abated emissions, and  the effective price on emission inputs PwThat.\n",
    "* Add EOP-ID module that computes the minobj for calibration purposes"
   ]
  },
  {
   "cell_type": "markdown",
   "metadata": {},
   "source": [
    "*Specifically:*"
   ]
  },
  {
   "cell_type": "markdown",
   "metadata": {},
   "source": [
    "* init\\_agg method adjusts according to state. \n",
    "* init\\_EOP\\_emissions class includes computation of PwThat for inputs (similar to ID class), as well as post-abatement emissions, effective price on emissions, and abated emissions.\n",
    "* init\\_EOP\\_calib_aux computes currapp\\_EOP.\n",
    "* init\\_minobj method adjusts according to state."
   ]
  }
 ],
 "metadata": {
  "kernelspec": {
   "display_name": "Python 3",
   "language": "python",
   "name": "python3"
  },
  "language_info": {
   "codemirror_mode": {
    "name": "ipython",
    "version": 3
   },
   "file_extension": ".py",
   "mimetype": "text/x-python",
   "name": "python",
   "nbconvert_exporter": "python",
   "pygments_lexer": "ipython3",
   "version": "3.7.9"
  }
 },
 "nbformat": 4,
 "nbformat_minor": 4
}
