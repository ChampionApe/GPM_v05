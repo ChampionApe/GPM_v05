{
 "cells": [
  {
   "cell_type": "code",
   "execution_count": 1,
   "metadata": {},
   "outputs": [],
   "source": [
    "clean_up=True # removes gams-related files in work-folder if true\n",
    "%run StdPackages.ipynb\n",
    "os.chdir(directory['py'])\n",
    "import techdata_to_tree, sys, ShockFunction\n",
    "import abatement_EOP as abatement\n",
    "os.chdir(directory['curr'])\n",
    "def flatten_list(list_):\n",
    "    return [item for sublist in list_ for item in sublist]"
   ]
  },
  {
   "cell_type": "markdown",
   "metadata": {},
   "source": [
    "*Specify settings:*"
   ]
  },
  {
   "cell_type": "code",
   "execution_count": 2,
   "metadata": {},
   "outputs": [],
   "source": [
    "name = 'A1_calib_test'\n",
    "f = {'tech': directory['data']+\"/techdata_dors_2.xlsx\",\n",
    "     'other': directory['data']+\"/Othdata_dors_2.xlsx\"}\n",
    "s = ['inputdisp','endofpipe','inputprices']\n",
    "m = ['ID','EOP'] \n",
    "e = {'M': 'vars','M_sets': 'sets'} # dictionary used to load emissions data\n",
    "other_trees = {'ID_Y': {'s': 'Y', 'read_data': {'Y': 'vars'}, 'Q2P': 'Q2P'}} # the key = tree name, s = sheet that specifies tree structure, read_data (if not None) specifies how to load data."
   ]
  },
  {
   "cell_type": "code",
   "execution_count": 3,
   "metadata": {},
   "outputs": [],
   "source": [
    "type_f = {'ID_EC': 'CES_norm',\n",
    "          'ID_CU': 'MNL',\n",
    "          'ID_TU': 'CET_norm',\n",
    "          'ID_TX': 'CES',\n",
    "          'ID_BU': 'linear_out',\n",
    "          'ID_BX': 'CES',\n",
    "          'EOP_CU': 'MNL',\n",
    "          'EOP_TU': 'CET_norm',\n",
    "          'EOP_TX': 'CES'}"
   ]
  },
  {
   "cell_type": "markdown",
   "metadata": {},
   "source": [
    "*Set up nesting tree:*"
   ]
  },
  {
   "cell_type": "code",
   "execution_count": 4,
   "metadata": {},
   "outputs": [],
   "source": [
    "%run ATree.ipynb"
   ]
  },
  {
   "cell_type": "markdown",
   "metadata": {},
   "source": [
    "## 1: Initialize model"
   ]
  },
  {
   "cell_type": "markdown",
   "metadata": {},
   "source": [
    "*Initialize with ID technologies:*"
   ]
  },
  {
   "cell_type": "code",
   "execution_count": 5,
   "metadata": {},
   "outputs": [],
   "source": [
    "gm = abatement.abate(nts=nts,tech=tech,work_folder=directory['work'],use_EOP=True,**{'data_folder':directory['gams'],'name': name})"
   ]
  },
  {
   "cell_type": "code",
   "execution_count": 6,
   "metadata": {},
   "outputs": [],
   "source": [
    "gm.add_aliases([('n','nnnn'),('n','nnnnn')])\n",
    "gm.model.database.update_all_sets(clean_up=False)"
   ]
  },
  {
   "cell_type": "markdown",
   "metadata": {},
   "source": [
    "*New mappings:*\n",
    "* M2C[z,n]: Mapping from emission type to component in EOP. \n",
    "* EOP\\_i2ai[n,nn]: Mapping to aggregate use of inputs in EOP. "
   ]
  },
  {
   "cell_type": "markdown",
   "metadata": {},
   "source": [
    "*Adding the EOP module comes with two types of adjustments: First, there are completely new block of equations to be written. For instance, the solution to the tree structure problem. Second, there are adjustments that replace equations that are applied in the simple ID case:*\n",
    "\n",
    "To do:\n",
    "* Keep 'ID\\_sum', 'ID\\_Em', 'ID\\_calib\\_aux'.\n",
    "* Add EOP module that computes PwThat for EOP inputs (similar to ID). \n",
    "* Add EOP-ID module that computes aggregate use of inputs (qD[ai]) and the effective price of emissions (pMhat). In the model blocks, replace the ID\\_agg with this new one that does both.\n",
    "* Add EOP module that computes currapp.\n",
    "* Add specific EOP module that computes post-abatement emissions, the effective price on emissions and the amount of abated emissions.\n",
    "* Add EOP-ID module that computes the minobj for calibration purposes"
   ]
  }
 ],
 "metadata": {
  "kernelspec": {
   "display_name": "Python 3",
   "language": "python",
   "name": "python3"
  },
  "language_info": {
   "codemirror_mode": {
    "name": "ipython",
    "version": 3
   },
   "file_extension": ".py",
   "mimetype": "text/x-python",
   "name": "python",
   "nbconvert_exporter": "python",
   "pygments_lexer": "ipython3",
   "version": "3.7.9"
  }
 },
 "nbformat": 4,
 "nbformat_minor": 4
}
