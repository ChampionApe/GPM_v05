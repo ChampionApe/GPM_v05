{
 "cells": [
  {
   "cell_type": "code",
   "execution_count": 1,
   "metadata": {},
   "outputs": [
    {
     "name": "stdout",
     "output_type": "stream",
     "text": [
      "The file_gams_py_gdb1.gdx is still active and was not deleted.\n"
     ]
    }
   ],
   "source": [
    "clean_up=True # removes gams-related files in work-folder if true\n",
    "%run StdPackages.ipynb\n",
    "os.chdir(directory['curr'])\n"
   ]
  },
  {
   "cell_type": "code",
   "execution_count": 2,
   "metadata": {},
   "outputs": [],
   "source": [
    "if True:\n",
    "    elec = True\n",
    "    currapp = False\n",
    "    catalog = \"main_catalog\"\n",
    "    from matplotlib.ticker import NullFormatter\n",
    "    from cycler import cycler\n",
    "    import warnings\n",
    "    warnings.filterwarnings(\"error\", category=UserWarning)\n",
    "    import seaborn as sns\n",
    "    sns.set_theme()"
   ]
  },
  {
   "cell_type": "code",
   "execution_count": 3,
   "metadata": {},
   "outputs": [],
   "source": [
    "explore = False"
   ]
  },
  {
   "cell_type": "markdown",
   "metadata": {},
   "source": [
    "## A rising price of emissions\n",
    "We present graphically what happens when the emission price gradually increases (static model solution for each price)."
   ]
  },
  {
   "cell_type": "code",
   "execution_count": 4,
   "metadata": {},
   "outputs": [],
   "source": [
    "x_var = \"pM\"\n",
    "if currapp:\n",
    "    currapp_string = \"_currapp\"\n",
    "else:\n",
    "    currapp_string = \"\"\n",
    "if elec:\n",
    "    elec_string = \"_elec\"\n",
    "else:\n",
    "    elec_string = \"\"\n",
    "if catalog == \"main_catalog\":\n",
    "    with (open(x_var + \"_\" + catalog + elec_string + \".pkl\", \"rb\")) as f:\n",
    "        df = pickle.load(f)\n",
    "elif catalog == \"categoryexperiment\":\n",
    "    df = {}\n",
    "    with open(x_var + \"_\" + \"categoryexperiment_ID\" + \".pkl\", \"rb\") as f:\n",
    "        df[\"ID\"] = pickle.load(f)\n",
    "    with open(x_var + \"_\" + \"categoryexperiment_EOP\" + \".pkl\", \"rb\") as f:\n",
    "        df[\"EOP\"] = pickle.load(f)"
   ]
  },
  {
   "cell_type": "code",
   "execution_count": 5,
   "metadata": {},
   "outputs": [],
   "source": [
    "#Calculate abated emissions\n",
    "if catalog in [\"main_catalog\", \"categoryexperiment_EOP\"]:\n",
    "    df[\"M0-M\"] = df[\"M0\"].iloc[0] - df[\"M\"]\n",
    "elif catalog in [\"categoryexperiment_ID\"]:\n",
    "    df[\"M0-M\"] = df[\"M0\"].iloc[0] - df[\"M0\"]\n",
    "elif catalog in [\"categoryexperiment\"]:\n",
    "    df[\"EOP\"][\"M0-M\"] = df[\"EOP\"][\"M0\"].iloc[0] - df[\"EOP\"][\"M\"]\n",
    "    df[\"ID\"][\"M0-M\"] = df[\"ID\"][\"M0\"].iloc[0] - df[\"ID\"][\"M0\"]"
   ]
  },
  {
   "cell_type": "code",
   "execution_count": 6,
   "metadata": {},
   "outputs": [],
   "source": [
    "def translate(col):    \n",
    "    translate = {\n",
    "        \"M0\":\"Emissions\",\n",
    "        \"pM\":\"Price of emissions\",\n",
    "        \"PwThat_basetech_EH_oil\":\"Effective oil price\",\n",
    "        \"PwThat_basetech_EH_electricity\":\"Effective electricity price\",\n",
    "        \"PwThat_basetech_EH_oil_linear\":\"Oil price without end-of-pipe\",\n",
    "        \"qD_basetech_EH_oil\":\"Oil use\",\n",
    "        \"qD_basetech_EH_electricity\":\"Electricity use\",\n",
    "        \"qD_U0_ID_C_EH_2\":\"Baseline technology\",\n",
    "        \"qD_U_ID_t2_1\":\"Clean technology\",\n",
    "        \"qD_U_ID_t1_2\":\"Semi-clean technology\",\n",
    "        \"qD_EH\":\"Energy service\",\n",
    "        \"qD_Y\":\"Y composite\",\n",
    "        \"M0_CO2\":\"CO2 Emissions\",\n",
    "        \"M0-M\":\"Abated emissions\",\n",
    "        \"PwThat_U_ID_t1_2\":\"Semi-clean technology\", \n",
    "        \"PwThat_U0_ID_C_EH_2\":\"Baseline technology\", \n",
    "        \"PwThat_U_ID_t2_1\":\"Clean technology\", \n",
    "        \"PwThat_C_EH_2\":\"Component with overlap\",\n",
    "        \"qD_C_EH_2\":\"Component with overlap\",\n",
    "        \"qD_oil\":\"Total oil use\",\n",
    "        \"qD_U_ID_t1_1\":\"Input-displacing technology\"\n",
    "    }\n",
    "    if col in translate:\n",
    "        return translate[col]\n",
    "    else:\n",
    "        return col\n",
    "\n",
    "def format_double_axes(ax, ax2, x_label=\"\", y_label=\"\", hide_ticks=True):\n",
    "    ax.set_xlabel(x_label, fontsize=9)\n",
    "    ax.set_ylabel(y_label, fontsize=9, rotation=90)\n",
    "#     ax.yaxis.set_label_coords(0.1,1.02)\n",
    "    if hide_ticks:\n",
    "        ax.get_xaxis().set_ticks([])\n",
    "#         ax2.get_yaxis().set_ticks([])\n",
    "#         ax.get_yaxis().set_ticks([])\n",
    "    ax.spines[\"left\"].set_visible(True)\n",
    "    ax.spines[\"bottom\"].set_visible(True)\n",
    "    ax.spines[\"left\"].set_linewidth(1)\n",
    "    ax.spines[\"left\"].set_edgecolor(\"k\")\n",
    "    ax.spines[\"bottom\"].set_edgecolor(\"k\")\n",
    "    ax.spines[\"bottom\"].set_linewidth(1)\n",
    "    ax.spines[\"right\"].set_visible(False)\n",
    "    ax.spines[\"top\"].set_visible(False)\n",
    "    ax2.grid(False)\n",
    "    #ax.set_axisbelow(True)\n",
    "    if hide_ticks:\n",
    "        ax.tick_params(labelleft=False)\n",
    "        ax2.tick_params(labelright=False)\n",
    "        ax.tick_params(axis='y', colors='white')\n",
    "        ax2.tick_params(axis='y', colors='white')\n",
    "    ax.grid(axis='y', color=\"lightgrey\", linewidth=1)\n",
    "        \n",
    "#         ax.get_yaxis().set_major_formatter(NullFormatter())\n",
    "\n",
    "def format_single_axis(axes, x_label=\"\", y_label=\"\", hide_ticks=True):\n",
    "    axes.set_xlabel(x_label, fontsize=9)\n",
    "    axes.set_ylabel(y_label, fontsize=9, rotation=90)\n",
    "#     axes.yaxis.set_label_coords(0.1,1.02)\n",
    "    if hide_ticks:\n",
    "        axes.get_xaxis().set_ticks([])\n",
    "#         axes.get_yaxis().set_ticks([])\n",
    "    axes.spines[\"left\"].set_visible(True)\n",
    "    axes.spines[\"bottom\"].set_visible(True)\n",
    "    axes.spines[\"left\"].set_linewidth(1)\n",
    "    axes.spines[\"left\"].set_edgecolor(\"k\")\n",
    "    axes.spines[\"bottom\"].set_edgecolor(\"k\")\n",
    "    axes.spines[\"bottom\"].set_linewidth(1)\n",
    "    axes.spines[\"right\"].set_visible(False)\n",
    "    axes.spines[\"top\"].set_visible(False)\n",
    "    if hide_ticks:\n",
    "        axes.tick_params(labelleft=False)\n",
    "#         axes.get_xaxis().set_major_formatter(NullFormatter())\n",
    "    #axes.set_axisbelow(True)\n",
    "    axes.grid(axis='y', color=\"lightgrey\", linewidth=1)\n",
    "    "
   ]
  },
  {
   "cell_type": "code",
   "execution_count": null,
   "metadata": {},
   "outputs": [],
   "source": []
  },
  {
   "cell_type": "code",
   "execution_count": 9,
   "metadata": {},
   "outputs": [],
   "source": [
    "if catalog == \"main_catalog\":\n",
    "    if not elec:\n",
    "        if currapp:\n",
    "            vlines = (df[[\"PwThat_U_EOP_t1_1\", \"PwThat_U_EOP_t2_1\"]].mean() - pd.Series([df[\"muG_C_CO2_1\"].mean(), df[\"muG_C_CO2_2\"].mean()], index=df[[\"PwThat_U_EOP_t1_1\", \"PwThat_U_EOP_t2_1\"]].columns)).to_list()\n",
    "        else:\n",
    "            try:\n",
    "                vlines = df[[\"PwThat_U_EOP_t1_1\", \"PwThat_U_EOP_t2_1\"]].mean().to_list()\n",
    "            except:\n",
    "                vlines = df[[\"PwThat_U_ID_t1_2\", \"PwThat_U_ID_t2_1\"]].mean().to_list()\n",
    "elif catalog == \"categoryexperiment_EOP\":\n",
    "    vlines = df[[\"PwThat_U_EOP_t1_1\"]].mean().to_list()\n",
    "elif catalog == \"categoryexperiment_ID\":\n",
    "    vlines = df[[\"PwThat_U_ID_t1_1\"]].mean().to_list()\n",
    "elif catalog == \"categoryexperiment\":\n",
    "    vlines = df[\"EOP\"][[\"PwThat_U_EOP_t1_1\"]].mean().to_list()"
   ]
  },
  {
   "cell_type": "code",
   "execution_count": 36,
   "metadata": {},
   "outputs": [
    {
     "data": {
      "image/png": "[encoded data removed]",
      "text/plain": [
       "<Figure size 360x252 with 1 Axes>"
      ]
     },
     "metadata": {},
     "output_type": "display_data"
    }
   ],
   "source": [
    "if elec:\n",
    "    fig = plt.figure(figsize=(5, 3.5))\n",
    "    fig.add_subplot(1,1,1)\n",
    "    ax = fig.get_axes()[0]\n",
    "    ax.plot(df.index, df.index, label=\"45 degrees\", linewidth=3)\n",
    "    col = \"PwThat_U_EOP_t1_1\"\n",
    "    ax.hlines(y=df[col].values[0], xmin=df.index.min(), xmax=df.index.max(), ls=\"--\", color=\"grey\", lw=2)\n",
    "    ax.plot(df.index, df[col], label=\"Cost of end-of-pipe technology 1\", linewidth=3)\n",
    "    col = \"PwThat_U_EOP_t2_1\"\n",
    "    ax.hlines(y=df[col].values[0], xmin=df.index.min(), xmax=df.index.max(), ls=\"--\", color=\"grey\", lw=2)\n",
    "    ax.plot(df.index, df[col], label=translate(col), linewidth=3)\n",
    "    #col = \"PwThat_basetech_EH_electricity\"\n",
    "    #ax2 = ax.twinx()\n",
    "    #ax.plot(df.index, df[col], label=translate(col), linewidth=3)\n",
    "    \n",
    "    lines, labels = ax.get_legend_handles_labels()\n",
    "#     lines = lines + ax2.get_legend_handles_labels()[0]\n",
    "#     labels = labels + ax2.get_legend_handles_labels()[1]\n",
    "    ax.legend(lines, labels, fontsize=7, loc=\"upper center\", bbox_to_anchor=(0.5, -0.1), frameon=True, handletextpad=1, handlelength=1.9, columnspacing=1)\n",
    "#     format_double_axes(ax, ax2, \"Price of emissions\", \"Oil price, oil usage\")\n",
    "    format_single_axis(ax, \"Price of emissions\", \"Prices\")\n",
    "    ax.set_autoscale_on(False)\n",
    "    ax.plot(ax.get_xlim()[0], ax.get_ylim()[1], \"^k\", clip_on=False, lw=2, markersize=10)\n",
    "    ax.plot(ax.get_xlim()[1], ax.get_ylim()[0], \">k\", clip_on=False, lw=2, markersize=10)\n",
    "    fig.savefig(\"prices_\" + catalog + elec_string + \".pdf\", bbox_inches=\"tight\", transparent=True, facecolor=\"none\", edgecolor='none')"
   ]
  },
  {
   "cell_type": "code",
   "execution_count": 39,
   "metadata": {},
   "outputs": [
    {
     "data": {
      "image/png": "[encoded data removed]",
      "text/plain": [
       "<Figure size 360x252 with 1 Axes>"
      ]
     },
     "metadata": {},
     "output_type": "display_data"
    }
   ],
   "source": [
    "if elec:\n",
    "    fig = plt.figure(figsize=(5, 3.5))\n",
    "    fig.add_subplot(1, 1, 1)\n",
    "    ax = fig.get_axes()[0]\n",
    "    col = \"M0-M\"\n",
    "    with warnings.catch_warnings():\n",
    "        warnings.simplefilter(\"ignore\") #Otherwise throws warning if the column is named \"M\"\n",
    "        #ax.plot(df.index, col, color=colors[0], data=df, label=translate(col), linewidth=4)\n",
    "        ax.plot(df.index, df[col], label=translate(col), linewidth=3)\n",
    "\n",
    "    #ax.vlines(x=vlines, ymin=df[col].min()*0.99, ymax=df[col].max()*1.01, ls='--', color=\"grey\", lw=2)\n",
    "    format_single_axis(ax, x_label=translate(df.index.name), y_label=translate(col))\n",
    "    ax.set_autoscale_on(False)\n",
    "    ax.plot(ax.get_xlim()[0], ax.get_ylim()[1], \"^k\", clip_on=False, lw=2, markersize=10)\n",
    "    ax.plot(ax.get_xlim()[1], ax.get_ylim()[0], \">k\", clip_on=False, lw=2, markersize=10)"
   ]
  },
  {
   "cell_type": "code",
   "execution_count": 38,
   "metadata": {},
   "outputs": [],
   "source": [
    "if not elec:\n",
    "    if catalog in [\"main_catalog\", \"categoryexperiment_ID\", \"categoryexperiment_EOP\"]:\n",
    "        #Emission figure\n",
    "        fig = plt.figure(figsize=(5, 3.5))\n",
    "        fig.add_subplot(1, 1, 1)\n",
    "        ax = fig.get_axes()[0]\n",
    "        col = \"M0-M\"\n",
    "        with warnings.catch_warnings():\n",
    "            warnings.simplefilter(\"ignore\") #Otherwise throws warning if the column is named \"M\"\n",
    "            #ax.plot(df.index, col, color=colors[0], data=df, label=translate(col), linewidth=4)\n",
    "            ax.plot(df.index, df[col], label=translate(col), linewidth=3)\n",
    "\n",
    "        ax.vlines(x=vlines, ymin=df[col].min()*0.99, ymax=df[col].max()*1.01, ls='--', color=\"grey\", lw=2)\n",
    "        format_single_axis(ax, x_label=translate(df.index.name), y_label=translate(col))\n",
    "        ax.set_autoscale_on(False)\n",
    "        ax.plot(ax.get_xlim()[0], ax.get_ylim()[1], \"^k\", clip_on=False, lw=2, markersize=10)\n",
    "        ax.plot(ax.get_xlim()[1], ax.get_ylim()[0], \">k\", clip_on=False, lw=2, markersize=10)\n",
    "        fig.savefig(\"AbatedEmissions_\" + catalog + currapp_string + \".pdf\", bbox_inches=\"tight\", transparent=True, facecolor=\"none\", edgecolor='none')\n",
    "        del fig, ax"
   ]
  },
  {
   "cell_type": "code",
   "execution_count": null,
   "metadata": {},
   "outputs": [],
   "source": [
    "if catalog == \"categoryexperiment\":\n",
    "    #Emission figure\n",
    "    fig = plt.figure(figsize=(2.95, 2.2))\n",
    "    fig.add_subplot(1, 1, 1)\n",
    "    ax = fig.get_axes()[0]\n",
    "    col = \"M0-M\"\n",
    "    ls = {\"ID\":\"-\", \"EOP\":\"--\"}\n",
    "    for i, module in enumerate([\"ID\", \"EOP\"]):\n",
    "        with warnings.catch_warnings():\n",
    "            warnings.simplefilter(\"ignore\") #Otherwise throws warning if the column is named \"M\"\n",
    "            #ax.plot(df.index, col, color=colors[0], data=df, label=translate(col), linewidth=4)\n",
    "            ax.plot(df[module].index, df[module][\"M0-M\"], color=colors[i], label=translate(col) + \", \" + module, linewidth=2, ls=ls[module])\n",
    "\n",
    "    ax.vlines(x=vlines, ymin=df[\"ID\"][col].min(), ymax=df[\"ID\"][col].max(), ls='--', color=\"grey\", lw=1, label=\"Unit cost\")\n",
    "    lines, labels = ax.get_legend_handles_labels()\n",
    "    ax.legend(lines, labels, fontsize=7, loc=\"upper center\", bbox_to_anchor=(0.5, -0.15), frameon=True, handletextpad=0.4, handlelength=1.9, columnspacing=1)\n",
    "\n",
    "    format_single_axis(ax, x_label=translate(df[\"ID\"].index.name), y_label=translate(col))\n",
    "    ax.set_autoscale_on(False)\n",
    "    ax.plot(ax.get_xlim()[0], ax.get_ylim()[1], \"^k\", clip_on=False, lw=2, markersize=5)\n",
    "    ax.plot(ax.get_xlim()[1], ax.get_ylim()[0], \">k\", clip_on=False, lw=2, markersize=5)\n",
    "    fig.savefig(\"AbatedEmissions_\" + catalog + \".pdf\", bbox_inches=\"tight\", transparent=True, facecolor=\"none\", edgecolor='none')\n",
    "    del fig, ax"
   ]
  },
  {
   "cell_type": "code",
   "execution_count": null,
   "metadata": {},
   "outputs": [],
   "source": [
    "if not elec:\n",
    "    if catalog in [\"main_catalog\", \"categoryexperiment_ID\", \"categoryexperiment_EOP\"]:\n",
    "        col = \"PwThat_basetech_EH_oil\"\n",
    "        slope = df[col].iloc[0:2].reset_index().diff().iloc[1, 1] / df[col].iloc[0:2].reset_index().diff().iloc[1, 0]\n",
    "        df[col + \"_linear\"] = pd.Series(((pd.Series(df[col].index) - df.index[0]) * (df[col].iloc[0:2].reset_index().diff().iloc[1, 1] / df[col].iloc[0:2].reset_index().diff().iloc[1, 0]) + df[col].iloc[0]).values, index=df.index)\n",
    "        #Figure with oil price and oil usage\n",
    "        fig = plt.figure(figsize=(5, 3.5))\n",
    "        fig.add_subplot(1, 1, 1)\n",
    "        ax = fig.get_axes()[0]\n",
    "        col = \"PwThat_basetech_EH_oil\"\n",
    "        assert col in df.columns\n",
    "        df[col + \"_linear\"] = pd.Series(((pd.Series(df[col].index) - df.index[0]) * (df[col].iloc[0:2].reset_index().diff().iloc[1, 1] / df[col].iloc[0:2].reset_index().diff().iloc[1, 0]) + df[col].iloc[0]).values, index=df.index)\n",
    "        ax.plot(df.index, col + \"_linear\", data=df, label=translate(col + \"_linear\"), linewidth=2, color=\"grey\")\n",
    "        ax.plot(df.index, col, data=df, label=translate(col), linewidth=3, color=colors[0])\n",
    "        ax2 = ax.twinx()\n",
    "        col = \"qD_oil\"\n",
    "        ax2.plot(df.index, col, data=df, label=translate(col), linewidth=3, color=colors[1])\n",
    "        ax2.vlines(x=vlines, ymin=df[col].min(), ymax=df[col].max(), ls='--', color=\"grey\", lw=2, label=\"Unit costs of end-of-pipe technologies\")\n",
    "        lines, labels = ax.get_legend_handles_labels()\n",
    "        lines = lines + ax2.get_legend_handles_labels()[0]\n",
    "        labels = labels + ax2.get_legend_handles_labels()[1]\n",
    "        ax.legend(lines, labels, fontsize=7, loc=\"upper center\", bbox_to_anchor=(0.5, -0.1), frameon=True, handletextpad=1, handlelength=1.9, columnspacing=1)\n",
    "        format_double_axes(ax, ax2, \"Price of emissions\", \"Oil price, oil usage\")\n",
    "        ax.set_autoscale_on(False)\n",
    "        ax.plot(ax.get_xlim()[0], ax.get_ylim()[1], \"^k\", clip_on=False, lw=2, markersize=10)\n",
    "        ax.plot(ax.get_xlim()[1], ax.get_ylim()[0], \">k\", clip_on=False, lw=2, markersize=10)\n",
    "        fig.savefig(\"oil_\" + catalog + currapp_string + \".pdf\", bbox_inches=\"tight\", transparent=True, facecolor=\"none\", edgecolor='none')\n",
    "        del fig, ax, ax2"
   ]
  },
  {
   "cell_type": "code",
   "execution_count": null,
   "metadata": {},
   "outputs": [],
   "source": [
    "if catalog in [\"categoryexperiment\"]:\n",
    "    fig = plt.figure(figsize=(2.95, 2.2))\n",
    "    fig.add_subplot(1, 1, 1)\n",
    "    ax = fig.get_axes()[0]\n",
    "    col = \"PwThat_basetech_EH_oil\"\n",
    "    ls = {\"ID\":\"-\", \"EOP\":\"--\"}\n",
    "    for i, module in enumerate([\"ID\", \"EOP\"]):\n",
    "        assert col in df[module].columns\n",
    "        ax.plot(df[module].index, col, data=df[module], label=translate(col) + \", \" + module, linewidth=2, ls=ls[module])\n",
    "    ax2 = ax.twinx()\n",
    "    col = \"qD_oil\"\n",
    "    for i, module in enumerate([\"ID\", \"EOP\"]):\n",
    "        ax2.plot(df[module].index, col, data=df[module], label=translate(col) + \", \" + module, linewidth=2, ls=ls[module])\n",
    "\n",
    "    ax2.vlines(x=vlines, ymin=df[\"ID\"][col].min(), ymax=df[\"ID\"][col].max(), ls='--', color=\"grey\", lw=1, label=\"Unit cost\")\n",
    "    lines, labels = ax.get_legend_handles_labels()\n",
    "    lines = lines + ax2.get_legend_handles_labels()[0]\n",
    "    labels = labels + ax2.get_legend_handles_labels()[1]\n",
    "    lines[0]._sizes = [30]\n",
    "    ax.legend(lines, labels, fontsize=7, loc=\"upper center\", bbox_to_anchor=(0.5, -0.15), frameon=True, ncol=2, handletextpad=0.4, handlelength=1.9, columnspacing=1)\n",
    "#     ax.legend().legendHandles[0]._sizes = [1]\n",
    "#     ax.legend().legendHandles[1]._sizes = [1]\n",
    "    format_double_axes(ax, ax2, \"Price of emissions\", \"Oil price, oil usage\")\n",
    "    ax.set_autoscale_on(False)\n",
    "    ax.plot(ax.get_xlim()[0], ax.get_ylim()[1], \"^k\", clip_on=False, lw=2, markersize=5)\n",
    "    ax.plot(ax.get_xlim()[1], ax.get_ylim()[0], \">k\", clip_on=False, lw=2, markersize=5)\n",
    "    fig.savefig(\"oil_\" + catalog + \".pdf\", bbox_inches=\"tight\", transparent=True, facecolor=\"none\", edgecolor='none')\n",
    "    del fig, ax, ax2"
   ]
  },
  {
   "cell_type": "markdown",
   "metadata": {},
   "source": [
    "\n",
    "Figure showing quantities in the MNL nest where the technology and the baseline compete"
   ]
  },
  {
   "cell_type": "code",
   "execution_count": 12,
   "metadata": {},
   "outputs": [
    {
     "data": {
      "image/png": "[encoded data removed]",
      "text/plain": [
       "<Figure size 360x252 with 1 Axes>"
      ]
     },
     "metadata": {},
     "output_type": "display_data"
    }
   ],
   "source": [
    "if catalog == \"main_catalog\":\n",
    "    fig = plt.figure(figsize=(5, 3.5))\n",
    "    fig.add_subplot(1, 1, 1)\n",
    "    ax = fig.get_axes()[0]\n",
    "\n",
    "    for i, col in enumerate([\"qD_U0_ID_C_EH_2\", \"qD_U_ID_t1_2\", \"qD_U_ID_t2_1\", \"qD_C_EH_2\"]):\n",
    "        assert col in df.columns\n",
    "        ax.plot(df.index, col, data=df, label=translate(col), linewidth=3)\n",
    "    ax.vlines(x=vlines, ymin=0, ymax=ax.get_ylim()[1]*0.95, ls='--', color=\"grey\", lw=2, label=\"Unit costs of end-of-pipe technologies\")\n",
    "    lines, labels = ax.get_legend_handles_labels()\n",
    "    # lines = lines + ax2.get_legend_handles_labels()[0]\n",
    "    # labels = labels + ax2.get_legend_handles_labels()[1]\n",
    "    ax.legend(lines, labels, fontsize=7, loc=\"upper center\", bbox_to_anchor=(0.5, -0.1), frameon=True, ncol=2, handletextpad=1, handlelength=1.9, columnspacing=1)\n",
    "    format_single_axis(ax, \"Price of emissions\", \"Quantities\")\n",
    "    ax.set_autoscale_on(False)\n",
    "    ax.plot(ax.get_xlim()[0], ax.get_ylim()[1], \"^k\", clip_on=False, lw=2, markersize=10)\n",
    "    ax.plot(ax.get_xlim()[1], ax.get_ylim()[0], \">k\", clip_on=False, lw=2, markersize=10)\n",
    "    fig.savefig(\"U_overlap_\" + catalog + currapp_string +\".pdf\", bbox_inches=\"tight\", transparent=True, facecolor=\"none\", edgecolor='none')\n",
    "    del fig, ax"
   ]
  },
  {
   "cell_type": "code",
   "execution_count": null,
   "metadata": {},
   "outputs": [],
   "source": [
    "if explore:\n",
    "    if catalog == \"main_catalog\":\n",
    "        fig = plt.figure(figsize=(12, 8))\n",
    "        fig.add_subplot(1, 1, 1)\n",
    "        ax = fig.get_axes()[0]\n",
    "        for i, col in enumerate([\"PwThat_U_ID_t1_2\", \"PwThat_U0_ID_C_EH_2\", \"PwThat_U_ID_t2_1\", \"PwThat_C_EH_2\"]):\n",
    "            assert col in df.columns\n",
    "            ax.plot(df.index, col, data=df, label=translate(col), linewidth=4, color=colors[i])\n",
    "        lines, labels = ax.get_legend_handles_labels()\n",
    "        ax.legend(lines, labels, fontsize=16, loc=\"center left\")\n",
    "        del fig, ax"
   ]
  },
  {
   "cell_type": "code",
   "execution_count": null,
   "metadata": {},
   "outputs": [],
   "source": [
    "if explore:\n",
    "    if catalog == \"main_catalog\":\n",
    "        fig = plt.figure(figsize=(12, 8))\n",
    "        fig.add_subplot(1, 1, 1)\n",
    "        ax = fig.get_axes()[0]\n",
    "        for i, col in enumerate([\"PwThat_U_ID_t2_1\", \"PwThat_U0_ID_C_EH_3\", \"PwThat_U_ID_t2_2\", \"PwThat_ID_t2\"]):\n",
    "            assert col in df.columns\n",
    "            ax.plot(df.index, col, data=df, label=translate(col), linewidth=4, color=colors[i])\n",
    "        lines, labels = ax.get_legend_handles_labels()\n",
    "        ax.legend(lines, labels, fontsize=16, loc=\"center left\")\n",
    "        del fig, ax"
   ]
  },
  {
   "cell_type": "code",
   "execution_count": null,
   "metadata": {},
   "outputs": [],
   "source": [
    "if explore:\n",
    "    if catalog == \"main_catalog\":\n",
    "        fig = plt.figure(figsize=(12, 8))\n",
    "        fig.add_subplot(1, 1, 1)\n",
    "        ax = fig.get_axes()[0]\n",
    "        for i, col in enumerate([\"qD_U_ID_t2_1\", \"qD_U0_ID_C_EH_3\", \"qD_U_ID_t2_2\", \"qD_ID_t2\"]):\n",
    "            assert col in df.columns\n",
    "            ax.plot(df.index, col, data=df, label=translate(col), linewidth=4, color=colors[i])\n",
    "        lines, labels = ax.get_legend_handles_labels()\n",
    "        ax.legend(lines, labels, fontsize=16, loc=\"center left\")"
   ]
  },
  {
   "cell_type": "code",
   "execution_count": null,
   "metadata": {},
   "outputs": [],
   "source": [
    "if catalog in [\"categoryexperiment_ID\", \"categoryexperiment_EOP\"]:\n",
    "    fig = plt.figure(figsize=(12, 8))\n",
    "    fig.add_subplot(1, 1, 1)\n",
    "    ax = fig.get_axes()[0]\n",
    "    if \"ID\" in catalog:\n",
    "        cols = [\"qD_C_EH_2\", \"qD_U0_ID_C_EH_2\", \"qD_U_ID_t1_1\"]\n",
    "    elif \"EOP\" in catalog:\n",
    "        cols = \"YO\"\n",
    "    for i, col in enumerate(cols):\n",
    "        assert col in df.columns\n",
    "        ax.plot(df.index, col, data=df, label=translate(col), linewidth=4, color=colors[i])\n",
    "    lines, labels = ax.get_legend_handles_labels()\n",
    "    ax.legend(lines, labels, fontsize=16, loc=\"center\", bbox_to_anchor=(0.5, -0.25))\n",
    "    format_single_axis(ax, \"Price of emissions\", \"Input-displacing technology\")\n",
    "    del fig, ax"
   ]
  },
  {
   "cell_type": "code",
   "execution_count": null,
   "metadata": {},
   "outputs": [],
   "source": []
  }
 ],
 "metadata": {
  "kernelspec": {
   "display_name": "Python 3",
   "language": "python",
   "name": "python3"
  },
  "language_info": {
   "codemirror_mode": {
    "name": "ipython",
    "version": 3
   },
   "file_extension": ".py",
   "mimetype": "text/x-python",
   "name": "python",
   "nbconvert_exporter": "python",
   "pygments_lexer": "ipython3",
   "version": "3.7.4"
  }
 },
 "nbformat": 4,
 "nbformat_minor": 4
}
