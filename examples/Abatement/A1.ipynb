{
 "cells": [
  {
   "cell_type": "code",
   "execution_count": 1,
   "metadata": {},
   "outputs": [],
   "source": [
    "clean_up=True # removes gams-related files in work-folder if true\n",
    "%run StdPackages.ipynb\n",
    "os.chdir(directory['py'])\n",
    "import Production,ShockFunction,ReadData\n",
    "os.chdir(directory['curr'])\n",
    "data_folder = os.getcwd()+'\\\\Data'\n",
    "gams_folder = os.getcwd()+'\\\\gamsmodels\\\\A1'"
   ]
  },
  {
   "cell_type": "markdown",
   "metadata": {},
   "source": [
    "# A very simple input-displacing model"
   ]
  },
  {
   "cell_type": "markdown",
   "metadata": {},
   "source": [
    "We consider the simple case with:\n",
    "* Two technologies, using a combination of two fuels and capital in a leontief-nest.\n",
    "* Technology $1$ produces two goods $(u1,u2)$. Technology $2$ produces one good $(u3)$. This nest is CET (normalized).\n",
    "* $u1$ is used to produce a component $C1$, goods $(u2,u3)$ are combined as component $C2$. This is MNL (normalized).\n",
    "* Components $(C1,C2)$ are combined into one good $E$. This is CES."
   ]
  },
  {
   "cell_type": "markdown",
   "metadata": {},
   "source": [
    "## 1: Trees"
   ]
  },
  {
   "cell_type": "markdown",
   "metadata": {},
   "source": [
    "*Data file:*"
   ]
  },
  {
   "cell_type": "code",
   "execution_count": 2,
   "metadata": {},
   "outputs": [],
   "source": [
    "data_file = 'TreeData.xlsx'"
   ]
  },
  {
   "cell_type": "markdown",
   "metadata": {},
   "source": [
    "*Main tree:*"
   ]
  },
  {
   "cell_type": "code",
   "execution_count": 3,
   "metadata": {},
   "outputs": [],
   "source": [
    "nt = nesting_tree.nesting_tree(name='A1')"
   ]
  },
  {
   "cell_type": "markdown",
   "metadata": {},
   "source": [
    "*Add Trees:*"
   ]
  },
  {
   "cell_type": "code",
   "execution_count": 4,
   "metadata": {},
   "outputs": [],
   "source": [
    "nt.add_tree(data_folder+'\\\\'+data_file,tree_name='T_inp',**{'sheet':'T'})\n",
    "nt.add_tree(data_folder+'\\\\'+data_file,tree_name='T_out',**{'sheet':'U', 'type_io':'output','type_f':'CET_norm'})\n",
    "nt.add_tree(data_folder+'\\\\'+data_file,tree_name='C',**{'sheet':'C', 'type_f':'MNL'})\n",
    "nt.add_tree(data_folder+'\\\\'+data_file,tree_name='E',**{'sheet':'E', 'type_f': 'CES_norm'})\n",
    "nt.run_all()"
   ]
  },
  {
   "cell_type": "markdown",
   "metadata": {},
   "source": [
    "*Read in data on variables as well:*"
   ]
  },
  {
   "cell_type": "code",
   "execution_count": 5,
   "metadata": {},
   "outputs": [],
   "source": [
    "[DataBase.GPM_database.merge_dbs(nt.database,excel2py.xl2PM.pm_from_workbook(data_folder+'\\\\'+data_file,{sheet:'vars'}),'first') for sheet in ('T','U','C','E')];"
   ]
  },
  {
   "cell_type": "markdown",
   "metadata": {},
   "source": [
    "## 2: Production module"
   ]
  },
  {
   "cell_type": "code",
   "execution_count": 13,
   "metadata": {},
   "outputs": [
    {
     "data": {
      "text/plain": [
       "MultiIndex([(  'U2', 'C2'),\n",
       "            ( 'ecn', 'T1'),\n",
       "            (  'U3', 'C2'),\n",
       "            ('o_T1', 'T1'),\n",
       "            (  'C1', 'E1'),\n",
       "            (  'U2', 'T1'),\n",
       "            (  'U3', 'T2'),\n",
       "            ('k_T1', 'T1'),\n",
       "            ('k_T2', 'T2'),\n",
       "            ('o_T2', 'T2'),\n",
       "            (  'U1', 'C1'),\n",
       "            (  'U1', 'T1'),\n",
       "            ('e_T2', 'T2'),\n",
       "            (  'C2', 'E1')],\n",
       "           names=['n', 'nn'])"
      ]
     },
     "execution_count": 13,
     "metadata": {},
     "output_type": "execute_result"
    }
   ],
   "source": [
    "gm.get('map_all')"
   ]
  },
  {
   "cell_type": "code",
   "execution_count": 7,
   "metadata": {},
   "outputs": [],
   "source": [
    "gm = Production.pr_static(nt=nt,work_folder=directory['work'],**{'data_folder':gams_folder,'name':'A1'})\n",
    "gm.write_and_run(kwargs_init={'check_variables':True})"
   ]
  },
  {
   "cell_type": "code",
   "execution_count": 7,
   "metadata": {},
   "outputs": [
    {
     "data": {
      "text/plain": [
       "(16.0, 1.0)"
      ]
     },
     "execution_count": 7,
     "metadata": {},
     "output_type": "execute_result"
    }
   ],
   "source": [
    "db = gm.model_instances['baseline'].out_db\n",
    "gm.model_instances['baseline'].modelstat,gm.model_instances['baseline'].solvestat"
   ]
  },
  {
   "cell_type": "code",
   "execution_count": 8,
   "metadata": {},
   "outputs": [
    {
     "data": {
      "image/png": "[encoded data removed]",
      "text/plain": [
       "<Figure size 288x216 with 1 Axes>"
      ]
     },
     "metadata": {},
     "output_type": "display_data"
    }
   ],
   "source": [
    "db.get('qD').plot.bar(figsize=(4,3));"
   ]
  },
  {
   "cell_type": "code",
   "execution_count": 9,
   "metadata": {},
   "outputs": [
    {
     "data": {
      "image/png": "[encoded data removed]",
      "text/plain": [
       "<Figure size 288x216 with 1 Axes>"
      ]
     },
     "metadata": {},
     "output_type": "display_data"
    }
   ],
   "source": [
    "db.get('PbT').plot.bar(figsize=(4,3));"
   ]
  }
 ],
 "metadata": {
  "kernelspec": {
   "display_name": "Python 3",
   "language": "python",
   "name": "python3"
  },
  "language_info": {
   "codemirror_mode": {
    "name": "ipython",
    "version": 3
   },
   "file_extension": ".py",
   "mimetype": "text/x-python",
   "name": "python",
   "nbconvert_exporter": "python",
   "pygments_lexer": "ipython3",
   "version": "3.7.9"
  }
 },
 "nbformat": 4,
 "nbformat_minor": 4
}
