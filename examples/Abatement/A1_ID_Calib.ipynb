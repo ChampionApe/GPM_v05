{
 "cells": [
  {
   "cell_type": "code",
   "execution_count": 1,
   "metadata": {},
   "outputs": [
    {
     "name": "stdout",
     "output_type": "stream",
     "text": [
      "The file_gams_py_gdb0.gdx is still active and was not deleted.\n",
      "The file_gams_py_gdb1.gdx is still active and was not deleted.\n"
     ]
    }
   ],
   "source": [
    "clean_up=True # removes gams-related files in work-folder if true\n",
    "%run StdPackages.ipynb\n",
    "os.chdir(directory['py'])\n",
    "import techdata_to_tree, sys, ShockFunction\n",
    "import abatement_ID_calib as abatement\n",
    "os.chdir(directory['curr'])\n",
    "def flatten_list(list_):\n",
    "    return [item for sublist in list_ for item in sublist]"
   ]
  },
  {
   "cell_type": "markdown",
   "metadata": {},
   "source": [
    "*Specify settings:*"
   ]
  },
  {
   "cell_type": "code",
   "execution_count": 2,
   "metadata": {},
   "outputs": [],
   "source": [
    "name = 'A1_calib_test'\n",
    "f = {'tech': directory['data']+\"/techdata_dors_2.xlsx\",\n",
    "     'other': directory['data']+\"/Othdata_dors_2.xlsx\"}\n",
    "s = ['inputdisp','endofpipe','inputprices']\n",
    "m = ['ID','EOP'] \n",
    "e = {'M': 'vars','M_sets': 'sets'} # dictionary used to load emissions data\n",
    "other_trees = {'ID_Y': {'s': 'Y', 'read_data': {'Y': 'vars'}, 'Q2P': 'Q2P'}} # the key = tree name, s = sheet that specifies tree structure, read_data (if not None) specifies how to load data."
   ]
  },
  {
   "cell_type": "code",
   "execution_count": 3,
   "metadata": {},
   "outputs": [],
   "source": [
    "type_f = {'ID_EC': 'CES_norm',\n",
    "          'ID_CU': 'MNL',\n",
    "          'ID_TU': 'CET_norm',\n",
    "          'ID_TX': 'CES',\n",
    "          'ID_BU': 'linear_out',\n",
    "          'ID_BX': 'CES',\n",
    "          'EOP_CU': 'MNL',\n",
    "          'EOP_TU': 'CET_norm',\n",
    "          'EOP_TX': 'CES'}"
   ]
  },
  {
   "cell_type": "markdown",
   "metadata": {},
   "source": [
    "*Set up nesting tree:*"
   ]
  },
  {
   "cell_type": "code",
   "execution_count": 4,
   "metadata": {},
   "outputs": [],
   "source": [
    "%run ATree.ipynb"
   ]
  },
  {
   "cell_type": "markdown",
   "metadata": {},
   "source": [
    "## 1: Initialize model"
   ]
  },
  {
   "cell_type": "markdown",
   "metadata": {},
   "source": [
    "*Set up gams model from tree:*"
   ]
  },
  {
   "cell_type": "code",
   "execution_count": 5,
   "metadata": {},
   "outputs": [
    {
     "ename": "KeyError",
     "evalue": "'current_coverages_split'",
     "output_type": "error",
     "traceback": [
      "\u001b[1;31m---------------------------------------------------------------------------\u001b[0m",
      "\u001b[1;31mKeyError\u001b[0m                                  Traceback (most recent call last)",
      "\u001b[1;32m<ipython-input-5-5bafc365f69d>\u001b[0m in \u001b[0;36m<module>\u001b[1;34m\u001b[0m\n\u001b[1;32m----> 1\u001b[1;33m \u001b[0mgm\u001b[0m \u001b[1;33m=\u001b[0m \u001b[0mabatement\u001b[0m\u001b[1;33m.\u001b[0m\u001b[0mabate\u001b[0m\u001b[1;33m(\u001b[0m\u001b[0mnt\u001b[0m\u001b[1;33m=\u001b[0m\u001b[0mnts\u001b[0m\u001b[1;33m[\u001b[0m\u001b[1;34m'ID'\u001b[0m\u001b[1;33m]\u001b[0m\u001b[1;33m,\u001b[0m\u001b[0mtech\u001b[0m\u001b[1;33m=\u001b[0m\u001b[0mtech\u001b[0m\u001b[1;33m,\u001b[0m\u001b[0mwork_folder\u001b[0m\u001b[1;33m=\u001b[0m\u001b[0mdirectory\u001b[0m\u001b[1;33m[\u001b[0m\u001b[1;34m'work'\u001b[0m\u001b[1;33m]\u001b[0m\u001b[1;33m,\u001b[0m\u001b[1;33m**\u001b[0m\u001b[1;33m{\u001b[0m\u001b[1;34m'data_folder'\u001b[0m\u001b[1;33m:\u001b[0m\u001b[0mdirectory\u001b[0m\u001b[1;33m[\u001b[0m\u001b[1;34m'gams'\u001b[0m\u001b[1;33m]\u001b[0m\u001b[1;33m,\u001b[0m\u001b[1;34m'name'\u001b[0m\u001b[1;33m:\u001b[0m \u001b[0mname\u001b[0m\u001b[1;33m}\u001b[0m\u001b[1;33m)\u001b[0m\u001b[1;33m\u001b[0m\u001b[1;33m\u001b[0m\u001b[0m\n\u001b[0m",
      "\u001b[1;32m~\\Documents\\GitHub\\GPM_v05\\py_main\\abatement_ID_calib.py\u001b[0m in \u001b[0;36m__init__\u001b[1;34m(self, nt, tech, pickle_path, work_folder, kwargs_ns, use_EOP, **kwargs_gs)\u001b[0m\n\u001b[0;32m     14\u001b[0m                         \u001b[1;32mfor\u001b[0m \u001b[0mtree\u001b[0m \u001b[1;32min\u001b[0m \u001b[0mnt\u001b[0m\u001b[1;33m.\u001b[0m\u001b[0mtrees\u001b[0m\u001b[1;33m.\u001b[0m\u001b[0mvalues\u001b[0m\u001b[1;33m(\u001b[0m\u001b[1;33m)\u001b[0m\u001b[1;33m:\u001b[0m\u001b[1;33m\u001b[0m\u001b[1;33m\u001b[0m\u001b[0m\n\u001b[0;32m     15\u001b[0m                                 \u001b[0mDataBase\u001b[0m\u001b[1;33m.\u001b[0m\u001b[0mGPM_database\u001b[0m\u001b[1;33m.\u001b[0m\u001b[0mmerge_dbs\u001b[0m\u001b[1;33m(\u001b[0m\u001b[0mself\u001b[0m\u001b[1;33m.\u001b[0m\u001b[0mmodel\u001b[0m\u001b[1;33m.\u001b[0m\u001b[0mdatabase\u001b[0m\u001b[1;33m,\u001b[0m\u001b[0mtree\u001b[0m\u001b[1;33m.\u001b[0m\u001b[0mdatabase\u001b[0m\u001b[1;33m,\u001b[0m\u001b[1;34m'first'\u001b[0m\u001b[1;33m)\u001b[0m\u001b[1;33m\u001b[0m\u001b[1;33m\u001b[0m\u001b[0m\n\u001b[1;32m---> 16\u001b[1;33m                         \u001b[0mself\u001b[0m\u001b[1;33m.\u001b[0m\u001b[0madd_sets\u001b[0m\u001b[1;33m(\u001b[0m\u001b[0mtech\u001b[0m\u001b[1;33m,\u001b[0m\u001b[0mkwargs_ns\u001b[0m\u001b[1;33m)\u001b[0m\u001b[1;33m\u001b[0m\u001b[1;33m\u001b[0m\u001b[0m\n\u001b[0m\u001b[0;32m     17\u001b[0m                         \u001b[0mself\u001b[0m\u001b[1;33m.\u001b[0m\u001b[0msetstate\u001b[0m\u001b[1;33m(\u001b[0m\u001b[1;34m'ID'\u001b[0m\u001b[1;33m,\u001b[0m\u001b[0minit\u001b[0m\u001b[1;33m=\u001b[0m\u001b[1;32mFalse\u001b[0m\u001b[1;33m)\u001b[0m\u001b[1;33m\u001b[0m\u001b[1;33m\u001b[0m\u001b[0m\n\u001b[0;32m     18\u001b[0m \u001b[1;33m\u001b[0m\u001b[0m\n",
      "\u001b[1;32m~\\Documents\\GitHub\\GPM_v05\\py_main\\abatement_ID_calib.py\u001b[0m in \u001b[0;36madd_sets\u001b[1;34m(self, tech, kwargs)\u001b[0m\n\u001b[0;32m     54\u001b[0m                 \u001b[0mself\u001b[0m\u001b[1;33m.\u001b[0m\u001b[0mns\u001b[0m\u001b[1;33m.\u001b[0m\u001b[0mupdate\u001b[0m\u001b[1;33m(\u001b[0m\u001b[1;33m{\u001b[0m\u001b[0ms\u001b[0m\u001b[1;33m:\u001b[0m \u001b[0mdf\u001b[0m\u001b[1;33m(\u001b[0m\u001b[0ms\u001b[0m\u001b[1;33m,\u001b[0m\u001b[0mkwargs\u001b[0m\u001b[1;33m)\u001b[0m \u001b[1;32mfor\u001b[0m \u001b[0ms\u001b[0m \u001b[1;32min\u001b[0m \u001b[1;33m[\u001b[0m\u001b[1;34m'ID_'\u001b[0m\u001b[1;33m+\u001b[0m\u001b[0mss\u001b[0m \u001b[1;32mfor\u001b[0m \u001b[0mss\u001b[0m \u001b[1;32min\u001b[0m \u001b[1;33m[\u001b[0m\u001b[1;34m't_all'\u001b[0m\u001b[1;33m,\u001b[0m\u001b[1;34m'ai'\u001b[0m\u001b[1;33m]\u001b[0m\u001b[1;33m]\u001b[0m\u001b[1;33m}\u001b[0m\u001b[1;33m)\u001b[0m\u001b[1;33m\u001b[0m\u001b[1;33m\u001b[0m\u001b[0m\n\u001b[0;32m     55\u001b[0m                 \u001b[0mself\u001b[0m\u001b[1;33m.\u001b[0m\u001b[0mns\u001b[0m\u001b[1;33m.\u001b[0m\u001b[0mupdate\u001b[0m\u001b[1;33m(\u001b[0m\u001b[1;33m{\u001b[0m\u001b[0ms\u001b[0m\u001b[1;33m:\u001b[0m \u001b[0mdf\u001b[0m\u001b[1;33m(\u001b[0m\u001b[0ms\u001b[0m\u001b[1;33m,\u001b[0m\u001b[0mkwargs\u001b[0m\u001b[1;33m)\u001b[0m \u001b[1;32mfor\u001b[0m \u001b[0ms\u001b[0m \u001b[1;32min\u001b[0m \u001b[1;33m[\u001b[0m\u001b[1;34m'ID_'\u001b[0m\u001b[1;33m+\u001b[0m\u001b[0mss\u001b[0m \u001b[1;32mfor\u001b[0m \u001b[0mss\u001b[0m \u001b[1;32min\u001b[0m \u001b[1;33m[\u001b[0m\u001b[1;34m'i2ai'\u001b[0m\u001b[1;33m,\u001b[0m\u001b[1;34m'i2t'\u001b[0m\u001b[1;33m,\u001b[0m\u001b[1;34m'u2t'\u001b[0m\u001b[1;33m,\u001b[0m\u001b[1;34m'e2u'\u001b[0m\u001b[1;33m,\u001b[0m\u001b[1;34m'e2t'\u001b[0m\u001b[1;33m,\u001b[0m\u001b[1;34m'e2ai2i'\u001b[0m\u001b[1;33m,\u001b[0m\u001b[1;34m'e2ai'\u001b[0m\u001b[1;33m,\u001b[0m\u001b[1;34m'mu_endoincalib'\u001b[0m\u001b[1;33m,\u001b[0m\u001b[1;34m'mu_exo'\u001b[0m\u001b[1;33m,\u001b[0m\u001b[1;34m'map_gamma'\u001b[0m\u001b[1;33m]\u001b[0m\u001b[1;33m]\u001b[0m\u001b[1;33m}\u001b[0m\u001b[1;33m)\u001b[0m\u001b[1;33m\u001b[0m\u001b[1;33m\u001b[0m\u001b[0m\n\u001b[1;32m---> 56\u001b[1;33m                 \u001b[1;33m[\u001b[0m\u001b[0mDataBase\u001b[0m\u001b[1;33m.\u001b[0m\u001b[0mGPM_database\u001b[0m\u001b[1;33m.\u001b[0m\u001b[0madd_or_merge\u001b[0m\u001b[1;33m(\u001b[0m\u001b[0mself\u001b[0m\u001b[1;33m.\u001b[0m\u001b[0mmodel\u001b[0m\u001b[1;33m.\u001b[0m\u001b[0mdatabase\u001b[0m\u001b[1;33m,\u001b[0m\u001b[0ms\u001b[0m\u001b[1;33m,\u001b[0m\u001b[1;34m'second'\u001b[0m\u001b[1;33m)\u001b[0m \u001b[1;32mfor\u001b[0m \u001b[0ms\u001b[0m \u001b[1;32min\u001b[0m \u001b[1;33m[\u001b[0m\u001b[0mtech\u001b[0m\u001b[1;33m[\u001b[0m\u001b[1;34m'ID'\u001b[0m\u001b[1;33m]\u001b[0m\u001b[1;33m[\u001b[0m\u001b[1;34m'mu'\u001b[0m\u001b[1;33m]\u001b[0m\u001b[1;33m,\u001b[0m \u001b[0mtech\u001b[0m\u001b[1;33m[\u001b[0m\u001b[1;34m'ID'\u001b[0m\u001b[1;33m]\u001b[0m\u001b[1;33m[\u001b[0m\u001b[1;34m'current_coverages_split'\u001b[0m\u001b[1;33m]\u001b[0m\u001b[1;33m,\u001b[0m \u001b[0mtech\u001b[0m\u001b[1;33m[\u001b[0m\u001b[1;34m'PwT'\u001b[0m\u001b[1;33m]\u001b[0m\u001b[1;33m,\u001b[0m \u001b[0mtech\u001b[0m\u001b[1;33m[\u001b[0m\u001b[1;34m\"ID\"\u001b[0m\u001b[1;33m]\u001b[0m\u001b[1;33m[\u001b[0m\u001b[1;34m\"current_applications\"\u001b[0m\u001b[1;33m]\u001b[0m\u001b[1;33m,\u001b[0m \u001b[0mtech\u001b[0m\u001b[1;33m[\u001b[0m\u001b[1;34m\"ID\"\u001b[0m\u001b[1;33m]\u001b[0m\u001b[1;33m[\u001b[0m\u001b[1;34m\"coverage_potentials\"\u001b[0m\u001b[1;33m]\u001b[0m\u001b[1;33m]\u001b[0m\u001b[1;33m]\u001b[0m\u001b[1;33m;\u001b[0m\u001b[1;33m\u001b[0m\u001b[1;33m\u001b[0m\u001b[0m\n\u001b[0m\u001b[0;32m     57\u001b[0m                 \u001b[1;31m# level sets:\u001b[0m\u001b[1;33m\u001b[0m\u001b[1;33m\u001b[0m\u001b[1;33m\u001b[0m\u001b[0m\n\u001b[0;32m     58\u001b[0m                 \u001b[0mself\u001b[0m\u001b[1;33m.\u001b[0m\u001b[0mmodel\u001b[0m\u001b[1;33m.\u001b[0m\u001b[0mdatabase\u001b[0m\u001b[1;33m[\u001b[0m\u001b[0mself\u001b[0m\u001b[1;33m.\u001b[0m\u001b[0mn\u001b[0m\u001b[1;33m(\u001b[0m\u001b[1;34m'ID_t_all'\u001b[0m\u001b[1;33m)\u001b[0m\u001b[1;33m]\u001b[0m \u001b[1;33m=\u001b[0m \u001b[0mself\u001b[0m\u001b[1;33m.\u001b[0m\u001b[0mget\u001b[0m\u001b[1;33m(\u001b[0m\u001b[1;34m'kno_ID_TX'\u001b[0m\u001b[1;33m)\u001b[0m\u001b[1;33m.\u001b[0m\u001b[0munion\u001b[0m\u001b[1;33m(\u001b[0m\u001b[0mself\u001b[0m\u001b[1;33m.\u001b[0m\u001b[0mget\u001b[0m\u001b[1;33m(\u001b[0m\u001b[1;34m'kno_ID_BX'\u001b[0m\u001b[1;33m)\u001b[0m\u001b[1;33m)\u001b[0m\u001b[1;33m\u001b[0m\u001b[1;33m\u001b[0m\u001b[0m\n",
      "\u001b[1;31mKeyError\u001b[0m: 'current_coverages_split'"
     ]
    }
   ],
   "source": [
    "gm = abatement.abate(nt=nts['ID'],tech=tech,work_folder=directory['work'],**{'data_folder':directory['gams'],'name': name})"
   ]
  },
  {
   "cell_type": "markdown",
   "metadata": {},
   "source": [
    "*Add a couple of extra aliases, and update sets with elements:*"
   ]
  },
  {
   "cell_type": "code",
   "execution_count": null,
   "metadata": {},
   "outputs": [],
   "source": [
    "gm.add_aliases([('n','nnnn'),('n','nnnnn')])\n",
    "gm.model.database.update_all_sets(clean_up=False)"
   ]
  },
  {
   "cell_type": "markdown",
   "metadata": {},
   "source": [
    "*Initialise variables at leontief levels, and fill out with simple standard values in potentially missing domains:*"
   ]
  },
  {
   "cell_type": "code",
   "execution_count": null,
   "metadata": {},
   "outputs": [],
   "source": [
    "gm.initialize_variables_leontief()\n",
    "gm.initialize_variables(**{'check_variables': True})"
   ]
  },
  {
   "cell_type": "markdown",
   "metadata": {},
   "source": [
    "## 2: Solve model"
   ]
  },
  {
   "cell_type": "markdown",
   "metadata": {},
   "source": [
    "*Set up baseline model and solve:*"
   ]
  },
  {
   "cell_type": "code",
   "execution_count": null,
   "metadata": {},
   "outputs": [],
   "source": [
    "gm.write_and_run(name='baseline')\n",
    "db0 = gm.model_instances['baseline'].out_db"
   ]
  },
  {
   "cell_type": "markdown",
   "metadata": {},
   "source": [
    "*Read back solution to main db:*"
   ]
  },
  {
   "cell_type": "code",
   "execution_count": null,
   "metadata": {},
   "outputs": [],
   "source": [
    "gm.model.database.merge_dbs(gm.model.database,db0,'second')"
   ]
  },
  {
   "cell_type": "markdown",
   "metadata": {},
   "source": [
    "*Change to calibration state and resolve:*"
   ]
  },
  {
   "cell_type": "code",
   "execution_count": null,
   "metadata": {},
   "outputs": [],
   "source": [
    "gm.reset_settings()\n",
    "gm.setstate('ID_calibrate',init=False)\n",
    "gm.write_and_run(name='ID_calibrate',kwargs_init={'check_variables':True},overwrite=True)\n",
    "db = gm.model_instances['ID_calibrate'].out_db"
   ]
  },
  {
   "cell_type": "markdown",
   "metadata": {},
   "source": [
    "*Print some... Note that if the ID technologies do not have any overlap with other technologies, the calibration procedure only has one possible solution; i.e. there are not any room for really minimizing the minobj.*"
   ]
  },
  {
   "cell_type": "code",
   "execution_count": null,
   "metadata": {},
   "outputs": [],
   "source": [
    "def compare_plots(db0,db,var):\n",
    "    return pd.concat([db0.get(var).rename(f\"{var}, B\"),db.get(var).rename(f\"{var}, C\")],axis=1).plot.bar();"
   ]
  },
  {
   "cell_type": "code",
   "execution_count": null,
   "metadata": {},
   "outputs": [],
   "source": [
    "var = 'PwThat'\n",
    "compare_plots(db0,db,var)"
   ]
  },
  {
   "cell_type": "code",
   "execution_count": null,
   "metadata": {},
   "outputs": [],
   "source": [
    "var = 'qD'\n",
    "compare_plots(db0,db,var)"
   ]
  },
  {
   "cell_type": "markdown",
   "metadata": {},
   "source": [
    "## 3: Test that the baseline model is also solved with the new calibrated values:"
   ]
  },
  {
   "cell_type": "markdown",
   "metadata": {},
   "source": [
    "## A: Additional equations"
   ]
  },
  {
   "cell_type": "markdown",
   "metadata": {},
   "source": [
    "### Current application"
   ]
  },
  {
   "cell_type": "markdown",
   "metadata": {},
   "source": [
    "* Define currapp[n,nn] as the share of energy-services covered by technology goods produced by technology $nn$ to satisfy the energy-service need $n$. In other words:\n",
    "\n",
    "$$\\begin{align}\n",
    "    \\text{currapp[n,nn]} =\\text{sum(nnn\\$(e2u[n,nnn]), qD[nnn])} / qD[n].\n",
    "\\end{align}$$\n",
    "\n",
    "* Define the technology shares $U/C$ as $s\\_uc[u,c]$ as the shares under the counterfactual scenario outlined in the article. Specifically:\n",
    "\n",
    "$$\\begin{align}\n",
    "    \\text{s_uc[n,nn]} &= \\dfrac{exp\\left(\\sigma[nn]\\left(PwThat[nn]-PwThat[n]\\right)\\right)\\mu[n,nn]}{sum\\left[nnn\\$(\\text{non-baseline}[nnn]), share[nnn]\\right]+sum\\left[nnn\\$(\\text{baseline}[nnn]) shareB[nnn]\\right]} \\\\ \n",
    "    \\sum share[nnn] &= sum\\left[nnn\\$\\left(u2c[nnn,nn]\\text{ and }bra\\_ID\\_TU[nnn]\\right), \\mu[nnn,nn] exp\\left(\\sigma[nn]\\left(PwThat[nn]-PwThat[nnn]\\right)\\right)\\right] \\\\ \n",
    "    \\sum shareB[nnn]&= sum\\left[nnn\\$\\left(u2c[nnn,nn]\\text{ and }bra\\_ID\\_BU[nnn]\\right), \\mu[nnn,nn] exp\\left(\\sigma[nn]\\left(PwThat[nn]-PwThatX[nnn]\\right)\\right)\\right]\n",
    "\\end{align}$$\n",
    "where the $share[nnn]$ is the MNL-like contribution from non-baseline goods in the relevant nest, and $shareB[nnn]$ is the MNL-like contribution from baseline goods. This price is adjusted here, to reflect a technology level ($\\tau$ instead of $U$) price:\n",
    "\n",
    "$$\\begin{align}\n",
    "    PwThatX[nnn] = sum\\left[nnnn\\$\\left(e2u[nnnn,n]\\right), sum(nnnnn\\$(u2t[n,nnnnn]), gamma\\_tau[nnnn,nnnnn]) * sum(nnnnn\\$\\left(u2t[nnn,nnnnn]\\right), PwThat[nnnnn])\\right]\n",
    "\\end{align}$$\n",
    "\n",
    "Here we have: $n$ = technology good, $nn$ = relevant component, $nnn$ = baseline good $U$ in the same nest as good $n$, $nnnn$ = relevant energy-service nest, and $nnnnn$ first identifies the relevant technology $(\\tau)$ to good $n$, and afterwards the relevant technology $(\\tau)$ to good $nnn$.\n",
    "\n",
    "Here, the first part identifies the relevant energy-service that good $U$ contributes to. The second part then first identifies the technology-specific component and picks out the $(e,\\tau)$ parameter in gamma\\_tau. This is multiplied by the baseline technology price. \n",
    "\n",
    "* Define the modified current application $currapp\\_mod[n,nn]$ level with $n$ = energy-service and $nn$=technology:\n",
    "\n",
    "$$\\begin{align}\n",
    "    \\text{currapp_mod[n,nn]} = \\text{sum([nnn,nnnn]\\$(u2t[nnn,nn] and c2e[nnnn,n]), s_uc[nnn,nnnn]*qD[nnnn]/qD[n])}\n",
    "\\end{align}$$\n",
    "\n",
    "This takes the hypothetical share $U/C$ and multiplies by the actual share $C/E$. "
   ]
  }
 ],
 "metadata": {
  "kernelspec": {
   "display_name": "Python 3",
   "language": "python",
   "name": "python3"
  },
  "language_info": {
   "codemirror_mode": {
    "name": "ipython",
    "version": 3
   },
   "file_extension": ".py",
   "mimetype": "text/x-python",
   "name": "python",
   "nbconvert_exporter": "python",
   "pygments_lexer": "ipython3",
   "version": "3.7.9"
  }
 },
 "nbformat": 4,
 "nbformat_minor": 4
}
