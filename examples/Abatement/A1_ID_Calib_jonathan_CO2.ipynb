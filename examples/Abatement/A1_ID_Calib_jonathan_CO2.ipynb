{
 "cells": [
  {
   "cell_type": "code",
   "execution_count": 1,
   "metadata": {},
   "outputs": [
    {
     "name": "stdout",
     "output_type": "stream",
     "text": [
      "The file_gams_py_gdb0.gdx is still active and was not deleted.\n",
      "The file_gams_py_gdb1.gdx is still active and was not deleted.\n",
      "The file_gams_py_gdb2.gdx is still active and was not deleted.\n",
      "The file_gams_py_gdb3.gdx is still active and was not deleted.\n"
     ]
    }
   ],
   "source": [
    "clean_up=True # removes gams-related files in work-folder if true\n",
    "%run StdPackages.ipynb\n",
    "os.chdir(directory['py'])\n",
    "import ShockFunction\n",
    "import abatement_EOP as abatement\n",
    "os.chdir(directory['curr'])"
   ]
  },
  {
   "cell_type": "code",
   "execution_count": 2,
   "metadata": {},
   "outputs": [],
   "source": [
    "def organize_sol_data(sols, x_var, nodes_to_save, node_to_shock, tech_catalog):\n",
    "    list_of_dfs = []\n",
    "    for var in sols:\n",
    "        if var == x_var:\n",
    "            continue\n",
    "        df = sols[var]\n",
    "        index_name = df.index.names[1]\n",
    "        if len(df.index.get_level_values(index_name).unique()) == 1:\n",
    "            only_one_series = True\n",
    "        else:\n",
    "            only_one_series = False\n",
    "        df = df.reset_index()\n",
    "        df2 = df.pivot_table(df.columns[-1], df.columns[0], df.columns[1]).reset_index()\n",
    "        if tech_catalog in nodes_to_save and not only_one_series:\n",
    "            df2 = df2[[x_var + \"_loop\"] + [c for c in nodes_to_save[tech_catalog] if c in df2.columns]]\n",
    "        df3 = df2.merge(sols[x_var].iloc[sols[x_var].index.get_level_values(1) == node_to_shock].reset_index().drop(columns=sols[x_var].index.names[1]), \\\n",
    "                        how=\"inner\", on=x_var+\"_loop\").drop(columns=x_var+\"_loop\")\n",
    "        df3 = df3.rename(columns={\"sol_\"+x_var:x_var}).set_index(x_var).sort_values(by=x_var)\n",
    "        if only_one_series:\n",
    "            df3.rename(columns={df3.columns[0]:var}, inplace=True)\n",
    "        else:\n",
    "            df3.rename(columns={key:var + \"_\"+ key for key in df3.columns}, inplace=True)\n",
    "        list_of_dfs.append(df3)\n",
    "    return list_of_dfs"
   ]
  },
  {
   "cell_type": "code",
   "execution_count": 3,
   "metadata": {},
   "outputs": [],
   "source": [
    "out = {}"
   ]
  },
  {
   "cell_type": "markdown",
   "metadata": {},
   "source": [
    "#### Load and setup"
   ]
  },
  {
   "cell_type": "code",
   "execution_count": 4,
   "metadata": {},
   "outputs": [],
   "source": [
    "#Load model\n",
    "catalog = \"main_catalog\"\n",
    "gm = abatement.abate(pickle_path=directory[\"gams\"] + \"/\" + catalog, work_folder=directory['work'])\n",
    "gm.reset_settings()\n"
   ]
  },
  {
   "cell_type": "code",
   "execution_count": 5,
   "metadata": {},
   "outputs": [],
   "source": [
    "name = \"CO2tax\"\n",
    "x_var = \"pM\"\n",
    "node_to_shock = \"CO2\""
   ]
  },
  {
   "cell_type": "code",
   "execution_count": 6,
   "metadata": {},
   "outputs": [],
   "source": [
    "db_end_of_loop = DataBase.GPM_database()"
   ]
  },
  {
   "cell_type": "code",
   "execution_count": 7,
   "metadata": {},
   "outputs": [],
   "source": [
    "db_end_of_loop[x_var] = gm.get(x_var).copy()\n",
    "db_end_of_loop[x_var].vals[node_to_shock] = db_end_of_loop[x_var].vals[node_to_shock]*25"
   ]
  },
  {
   "cell_type": "code",
   "execution_count": 8,
   "metadata": {},
   "outputs": [],
   "source": [
    "(shock_db, shock_kwargs) = ShockFunction.sneaky_db(gm.model.database, db_end_of_loop, n_steps = 150, loop_name=x_var + '_loop')"
   ]
  },
  {
   "cell_type": "code",
   "execution_count": 9,
   "metadata": {},
   "outputs": [],
   "source": [
    "store_sol = {\"M0\":{'domains': shock_kwargs['loop_name']}, \"PbT\":{'domains': shock_kwargs['loop_name']},\n",
    "             \"pM\":{'domains': shock_kwargs['loop_name']}, \"M\":{'domains': shock_kwargs['loop_name']},\n",
    "             \"PwThat\":{'domains': shock_kwargs['loop_name']}, \"qD\":{'domains': shock_kwargs['loop_name']}}"
   ]
  },
  {
   "cell_type": "code",
   "execution_count": 10,
   "metadata": {},
   "outputs": [],
   "source": [
    "gm.write_and_run(name=name, add_checkpoint=name)"
   ]
  },
  {
   "cell_type": "code",
   "execution_count": 11,
   "metadata": {},
   "outputs": [],
   "source": [
    "mi = gm.model_instances[name]\n",
    "shock = mi.std_UEVAS_from_db(shock_db, loop_name=shock_kwargs['loop_name'], shock_name=shock_kwargs['shock_name'], store_sol=store_sol)"
   ]
  },
  {
   "cell_type": "code",
   "execution_count": 12,
   "metadata": {},
   "outputs": [],
   "source": [
    "mi.execute_shock_from_cp(shock=shock, cp=gm.checkpoints[name])"
   ]
  },
  {
   "cell_type": "code",
   "execution_count": 13,
   "metadata": {},
   "outputs": [],
   "source": [
    "assert mi.out_db.get(mi.settings.name + \"_\" + gm.state + \"_\" + \"modelstat\")"
   ]
  },
  {
   "cell_type": "code",
   "execution_count": 14,
   "metadata": {},
   "outputs": [],
   "source": [
    "sols = {key:mi.out_db.series[\"sol_\" + key].vals for key in store_sol.keys()}\n",
    "nodes_to_save = {\n",
    "    \"techdata_dors_2\":[\"U_ID_t2_1\", \"U_EOP_t1_1\", \"U_EOP_t2_1\", \"U_ID_t1_1\", \"C_EL_1\", \"U0_ID_C_EL_1\", \"CO2\", \"basetech_EL\", \"basetech_EL_oil\", \"oil\"]\n",
    "}"
   ]
  },
  {
   "cell_type": "code",
   "execution_count": 15,
   "metadata": {},
   "outputs": [],
   "source": [
    "gm.model.database.merge_dbs(gm.model.database,mi.out_db,'second')"
   ]
  },
  {
   "cell_type": "code",
   "execution_count": 16,
   "metadata": {},
   "outputs": [],
   "source": [
    "out[name] = organize_sol_data(sols, x_var, nodes_to_save, node_to_shock, gm.model.settings.catalog)"
   ]
  },
  {
   "cell_type": "code",
   "execution_count": 17,
   "metadata": {},
   "outputs": [],
   "source": [
    "df_out = pd.concat(out[name], axis = 1)\n",
    "df_out.to_pickle(x_var + \"_\" + gm.model.settings.catalog + \".pkl\")"
   ]
  },
  {
   "cell_type": "code",
   "execution_count": null,
   "metadata": {},
   "outputs": [],
   "source": []
  },
  {
   "cell_type": "code",
   "execution_count": null,
   "metadata": {},
   "outputs": [],
   "source": []
  },
  {
   "cell_type": "code",
   "execution_count": 18,
   "metadata": {},
   "outputs": [
    {
     "data": {
      "text/plain": [
       "MultiIndex([( 'U0_ID_C0_EH',  'C0_EH'),\n",
       "            ('U0_ID_C_EH_1', 'C_EH_1'),\n",
       "            ('U0_ID_C_EH_2', 'C_EH_2'),\n",
       "            (   'U_ID_t1_1', 'C_EH_1'),\n",
       "            (   'U_ID_t2_1', 'C_EH_2')],\n",
       "           names=['n', 'nn'])"
      ]
     },
     "execution_count": 18,
     "metadata": {},
     "output_type": "execute_result"
    }
   ],
   "source": [
    "gm.get(\"map_ID_CU\")"
   ]
  }
 ],
 "metadata": {
  "kernelspec": {
   "display_name": "Python 3",
   "language": "python",
   "name": "python3"
  },
  "language_info": {
   "codemirror_mode": {
    "name": "ipython",
    "version": 3
   },
   "file_extension": ".py",
   "mimetype": "text/x-python",
   "name": "python",
   "nbconvert_exporter": "python",
   "pygments_lexer": "ipython3",
   "version": "3.7.4"
  }
 },
 "nbformat": 4,
 "nbformat_minor": 4
}
