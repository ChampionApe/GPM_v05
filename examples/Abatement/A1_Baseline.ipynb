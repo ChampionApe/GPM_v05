{
 "cells": [
  {
   "cell_type": "code",
   "execution_count": 1,
   "metadata": {},
   "outputs": [],
   "source": [
    "clean_up=True # removes gams-related files in work-folder if true\n",
    "%run StdPackages.ipynb\n",
    "os.chdir(directory['py'])\n",
    "import techdata_to_tree, sys, ShockFunction\n",
    "import abatement_EOP as abatement\n",
    "os.chdir(directory['curr'])\n",
    "def flatten_list(list_):\n",
    "    return [item for sublist in list_ for item in sublist]"
   ]
  },
  {
   "cell_type": "markdown",
   "metadata": {},
   "source": [
    "*Specify settings:*"
   ]
  },
  {
   "cell_type": "code",
   "execution_count": 2,
   "metadata": {},
   "outputs": [],
   "source": [
    "name = 'A1_test'\n",
    "f = {'tech': directory['data']+\"/techdata_dors_2.xlsx\",\n",
    "     'other': directory['data']+\"/Othdata_dors_2.xlsx\"}\n",
    "s = ['inputdisp','endofpipe','inputprices']\n",
    "m = ['ID','EOP'] \n",
    "e = {'M': 'vars','M_sets': 'sets'} # dictionary used to load emissions data\n",
    "other_trees = {'ID_Y': {'s': 'Y', 'read_data': {'Y': 'vars'}, 'Q2P': 'Q2P'}} # the key = tree name, s = sheet that specifies tree structure, read_data (if not None) specifies how to load data."
   ]
  },
  {
   "cell_type": "code",
   "execution_count": 3,
   "metadata": {},
   "outputs": [],
   "source": [
    "type_f = {'ID_EC': 'CES_norm',\n",
    "          'ID_CU': 'MNL',\n",
    "          'ID_TU': 'CET_norm',\n",
    "          'ID_TX': 'CES',\n",
    "          'ID_BU': 'linear_out',\n",
    "          'ID_BX': 'CES',\n",
    "          'EOP_CU': 'MNL',\n",
    "          'EOP_TU': 'CET_norm',\n",
    "          'EOP_TX': 'CES'}"
   ]
  },
  {
   "cell_type": "markdown",
   "metadata": {},
   "source": [
    "*Set up nesting tree:*"
   ]
  },
  {
   "cell_type": "code",
   "execution_count": 4,
   "metadata": {},
   "outputs": [],
   "source": [
    "%run ATree.ipynb"
   ]
  },
  {
   "cell_type": "markdown",
   "metadata": {},
   "source": [
    "## 1: Initialize model"
   ]
  },
  {
   "cell_type": "markdown",
   "metadata": {},
   "source": [
    "*Set up gams model from tree:*"
   ]
  },
  {
   "cell_type": "code",
   "execution_count": 7,
   "metadata": {},
   "outputs": [],
   "source": [
    "gm = abatement.abate(nts=nts,tech=tech,work_folder=directory['work'],**{'data_folder':directory['gams'],'name': name})"
   ]
  },
  {
   "cell_type": "markdown",
   "metadata": {},
   "source": [
    "*Add a couple of extra aliases, and update sets with elements:*"
   ]
  },
  {
   "cell_type": "code",
   "execution_count": 8,
   "metadata": {},
   "outputs": [],
   "source": [
    "gm.add_aliases([('n','nnnn'),('n','nnnnn')])\n",
    "gm.model.database.update_all_sets(clean_up=False)"
   ]
  },
  {
   "cell_type": "markdown",
   "metadata": {},
   "source": [
    "*Initialise variables at leontief levels, and fill out with simple standard values in potentially missing domains:*"
   ]
  },
  {
   "cell_type": "code",
   "execution_count": 9,
   "metadata": {},
   "outputs": [],
   "source": [
    "gm.initialize_variables_leontief()\n",
    "gm.initialize_variables(**{'check_variables': True})"
   ]
  },
  {
   "cell_type": "markdown",
   "metadata": {},
   "source": [
    "## 2: Baseline solution"
   ]
  },
  {
   "cell_type": "markdown",
   "metadata": {},
   "source": [
    "*Set up model and solve:*"
   ]
  },
  {
   "cell_type": "code",
   "execution_count": 8,
   "metadata": {},
   "outputs": [],
   "source": [
    "gm.write_and_run(name='baseline')\n",
    "db0 = gm.model_instances['baseline'].out_db"
   ]
  },
  {
   "cell_type": "markdown",
   "metadata": {},
   "source": [
    "*Print some?*"
   ]
  },
  {
   "cell_type": "code",
   "execution_count": 9,
   "metadata": {},
   "outputs": [
    {
     "data": {
      "image/png": "[encoded data removed]",
      "text/plain": [
       "<Figure size 576x396 with 1 Axes>"
      ]
     },
     "metadata": {},
     "output_type": "display_data"
    }
   ],
   "source": [
    "var = 'PwThat'\n",
    "db0.get(var).plot.bar();"
   ]
  },
  {
   "cell_type": "markdown",
   "metadata": {},
   "source": [
    "## A: Some debugging functions if there are problems with groups"
   ]
  },
  {
   "cell_type": "markdown",
   "metadata": {},
   "source": [
    "*Debugging of initial states:*"
   ]
  },
  {
   "cell_type": "code",
   "execution_count": 10,
   "metadata": {},
   "outputs": [],
   "source": [
    "debug = False\n",
    "if debug is True:\n",
    "    gm.initialize_variables(**{'check_variables': True})\n",
    "    from IPython.display import Markdown\n",
    "    # Test groupings:*\n",
    "    var = gm.default_variables[1]\n",
    "    display(Markdown(f\"**{var}+' exogenous:'**\"))\n",
    "    display(gm.var_exo(var))\n",
    "    display(Markdown(f\"**{var}+' endogenous:'**\"))\n",
    "    display(gm.var_endo(var))"
   ]
  },
  {
   "cell_type": "markdown",
   "metadata": {},
   "source": [
    "*Debugging of writing groups:*"
   ]
  },
  {
   "cell_type": "code",
   "execution_count": 10,
   "metadata": {},
   "outputs": [],
   "source": [
    "group = gm.model.settings.name+'_'+'g_ID_alwaysendo'\n",
    "debug_group = False\n",
    "if debug_group is True:\n",
    "    gm.initialize_variables(**{'check_variables':True})\n",
    "    if group in gm.exo_groups:\n",
    "        group_vals = gm.exo_groups[group] # corresponding group conditions \n",
    "    else:\n",
    "        group_vals = gm.endo_groups[group]\n",
    "    gm.model.groups[group] = group_vals # add to model.groups\n",
    "    gm.model.settings.get_conf('g_exo').update([group]) # add to exogenous groups\n",
    "    repo = None\n",
    "    self = gm.model\n",
    "    if repo is None:\n",
    "        repo = self.settings.data_folder\n",
    "    if not os.path.exists(repo):\n",
    "        os.makedirs(repo)\n",
    "    self.write_default_components()\n",
    "    self.default_export(repo)"
   ]
  },
  {
   "cell_type": "markdown",
   "metadata": {},
   "source": [
    "## B: Some details on added modules"
   ]
  },
  {
   "cell_type": "markdown",
   "metadata": {},
   "source": [
    "### ID sums:"
   ]
  },
  {
   "cell_type": "markdown",
   "metadata": {},
   "source": [
    "* Define the output share os[n,nn] as the share of output that technology $nn$ produces of energy-service type $n$. This should be defined as:\n",
    "\n",
    "$$\n",
    "\\begin{align}\n",
    "    \\text{os[n,nn]} = \\text{sum(nnn\\$(e2u[n,nnn] and u2t[nnn,nn]), qD[nnn]) / qD[nn]}.\n",
    "\\end{align}\n",
    "$$\n",
    "\n",
    "* Define variable qSumX[n,nn] defined as the use of aggregate input type $nn\\in (electricity,oil,inp3,K)$ used to produce energy service $n$. This is defined as:\n",
    "\n",
    "$$\\begin{align}\n",
    "    \\text{qSumX[n,nn]} = \\text{sum([nnn,nnnn]\\$(e2ai2i[n,nn,nnn] and e2t[n,nnnn] and i2t[nnn,nnnn]), qD[nnn] * os[n,nnnn])}\n",
    "\\end{align}$$\n",
    "* Here e2ai2i identifies the relevant quantities $qD[i]$ that are tied to relevant aggregate type of input, $e2t[e,t]$ identifies the correct output-share $os[t,e]$, and $i2t[i,t]$ ensures that only the relevant $i,t$ combinations are summed over.\n"
   ]
  },
  {
   "cell_type": "markdown",
   "metadata": {},
   "source": [
    "### ID emissions:"
   ]
  },
  {
   "cell_type": "markdown",
   "metadata": {},
   "source": [
    "Emissions accounting with only the input displacing module:\n",
    "* $M0[z]$ defines pre-emission abatement (equivalent to emissions without EOP module). This is defined over z (emission types).\n",
    "* $phi[z,n]$ defines mission intensities over aggregate input types ($n\\in ai[n]$).\n",
    "Pre abatement emissions are then defined as:\n",
    "\n",
    "$$\\begin{align}\n",
    "    M0[z] = sum(n$(ai[n]) phi[z,n] * qD[n]), \n",
    "\\end{align}$$\n",
    "* As long as the equation for the aggregate use of inputs in the sector (qD[n] for ai[n]) takes into account which modules are active, this equation stays the same across all states.\n",
    "\n",
    "* $PwThat[n]\\$(ID\\_inp[n]):$ defines the effective prices on inputs, taking the price on emissions taxes and abatement into account:\n",
    "\n",
    "$$\\begin{align}\n",
    "    PwThat[n] = PwT[n] + sum(z, phi[z,n] * pMhat[z]);\n",
    "\\end{align}$$\n",
    "\n",
    "* As long as we establish an equation for pMhat[z] (corrected emission prices) that depends on the type of state the model is in, this equation stays the same across all states. However, with the EOP module activated, there should be an equivalent equation defined for ($EOP\\_inp[n]$ and not $ID\\_inp[n]$)."
   ]
  },
  {
   "cell_type": "markdown",
   "metadata": {},
   "source": [
    "### ID Aggregates:"
   ]
  },
  {
   "cell_type": "markdown",
   "metadata": {},
   "source": [
    "* If the state is ID the aggregate use of inputs ($qD[n]\\$(ai[n])$) are defined from (we could let the namespace for 'ai' look up 'ID\\_ai' instead of 'ai' when the EOP set is not activated?)\n",
    "\n",
    "$$\\begin{align}\n",
    "    qD[n] = sum(nn\\$(ID\\_i2ai[nn,n]), qD[nn])\n",
    "\\end{align}$$\n",
    "\n",
    "* Without the EOP module, a second equation simply states that $pMhat = pM$. "
   ]
  }
 ],
 "metadata": {
  "kernelspec": {
   "display_name": "Python 3",
   "language": "python",
   "name": "python3"
  },
  "language_info": {
   "codemirror_mode": {
    "name": "ipython",
    "version": 3
   },
   "file_extension": ".py",
   "mimetype": "text/x-python",
   "name": "python",
   "nbconvert_exporter": "python",
   "pygments_lexer": "ipython3",
   "version": "3.7.9"
  }
 },
 "nbformat": 4,
 "nbformat_minor": 4
}
