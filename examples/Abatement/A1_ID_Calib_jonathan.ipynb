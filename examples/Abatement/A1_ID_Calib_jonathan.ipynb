{
 "cells": [
  {
   "cell_type": "code",
   "execution_count": 1,
   "metadata": {},
   "outputs": [
    {
     "name": "stdout",
     "output_type": "stream",
     "text": [
      "The file_gams_py_gdb0.gdx is still active and was not deleted.\n",
      "The file_gams_py_gdb2.gdx is still active and was not deleted.\n"
     ]
    }
   ],
   "source": [
    "clean_up=True # removes gams-related files in work-folder if true\n",
    "%run StdPackages.ipynb\n",
    "os.chdir(directory['py'])\n",
    "import techdata_to_tree, sys, ShockFunction\n",
    "import abatement_ID_calib as abatement\n",
    "os.chdir(directory['curr'])\n",
    "def flatten_list(list_):\n",
    "    return [item for sublist in list_ for item in sublist]"
   ]
  },
  {
   "cell_type": "markdown",
   "metadata": {},
   "source": [
    "## 1: Set up tree and read in data, akin to A1\\_ID\\_Calib"
   ]
  },
  {
   "cell_type": "markdown",
   "metadata": {},
   "source": [
    "*Read data:*"
   ]
  },
  {
   "cell_type": "code",
   "execution_count": 2,
   "metadata": {},
   "outputs": [],
   "source": [
    "inputfile = \"techdata_dors_2.xlsx\" # file\n",
    "inputoth  = 'Othdata_dors_2.xlsx'\n",
    "output = techdata_to_tree.load_techcats(pd.read_excel(directory['data'] + \"/\" + inputfile, sheet_name=[\"inputdisp\", \"endofpipe\", \"inputprices\"]))\n",
    "modules = [\"ID\", \"EOP\"] # modules to use"
   ]
  },
  {
   "cell_type": "markdown",
   "metadata": {},
   "source": [
    "*Set up trees:*"
   ]
  },
  {
   "cell_type": "code",
   "execution_count": 3,
   "metadata": {},
   "outputs": [],
   "source": [
    "nts = {m: nesting_tree.nesting_tree(name=m) for m in modules}"
   ]
  },
  {
   "cell_type": "markdown",
   "metadata": {},
   "source": [
    "#### 1.1: Input displacing tree"
   ]
  },
  {
   "cell_type": "code",
   "execution_count": 4,
   "metadata": {},
   "outputs": [],
   "source": [
    "nts[\"ID\"].add_tree(output[\"ID\"][\"upper_categories\"], tree_name = 'ID_EC', **{\"type_f\":\"CES_norm\"}) # E to C\n",
    "nts[\"ID\"].add_tree(output[\"ID\"][\"components\"], tree_name = \"ID_CU\", **{\"type_f\":\"MNL\"}) # C to U\n",
    "nts[\"ID\"].add_tree(output[\"ID\"][\"techs\"], tree_name=\"ID_TU\", **{'type_io': 'output', 'type_f': 'CET_norm'}) # U to T\n",
    "nts[\"ID\"].add_tree(output[\"ID\"][\"techs_inputs\"], tree_name=\"ID_TX\") # T to inputs X\n",
    "nts[\"ID\"].add_tree(output[\"ID\"][\"basetechs\"], tree_name=\"ID_BU\", **{\"type_io\":\"output\", \"type_f\":\"linear_out\"}) # baseline technologies\n",
    "nts[\"ID\"].add_tree(output[\"ID\"][\"basetech_inputs\"], tree_name=\"ID_BX\")"
   ]
  },
  {
   "cell_type": "markdown",
   "metadata": {},
   "source": [
    "#### 1.2: End of pipe tree"
   ]
  },
  {
   "cell_type": "code",
   "execution_count": 5,
   "metadata": {},
   "outputs": [],
   "source": [
    "nts[\"EOP\"].add_tree(output[\"EOP\"][\"components\"], tree_name = \"EOP_CU\", **{\"type_f\":\"MNL\"}) # C to U\n",
    "nts[\"EOP\"].add_tree(output[\"EOP\"][\"techs\"], tree_name=\"EOP_TU\", **{'type_io': 'output', 'type_f': 'CET_norm'}) # T to U \n",
    "nts[\"EOP\"].add_tree(output[\"EOP\"][\"techs_inputs\"], tree_name=\"EOP_TX\") # T to inputs X"
   ]
  },
  {
   "cell_type": "markdown",
   "metadata": {},
   "source": [
    "#### 1.3: Trees related to final goods and emissions account"
   ]
  },
  {
   "cell_type": "markdown",
   "metadata": {},
   "source": [
    "*Read in tree and data from xlsx:*"
   ]
  },
  {
   "cell_type": "code",
   "execution_count": 6,
   "metadata": {},
   "outputs": [],
   "source": [
    "nts['ID'].add_tree(directory['data']+'\\\\'+inputoth,tree_name='ID_Y',**{'sheet':'Y'})\n",
    "DataBase.GPM_database.merge_dbs(nts['ID'].trees['ID_Y'].database,excel2py.xl2PM.pm_from_workbook(directory['data']+'\\\\'+inputoth,{'Y': 'vars'}), 'first')"
   ]
  },
  {
   "cell_type": "markdown",
   "metadata": {},
   "source": [
    "*Add new Q2P:*"
   ]
  },
  {
   "cell_type": "code",
   "execution_count": 7,
   "metadata": {},
   "outputs": [],
   "source": [
    "output['ID']['Q2P'] = output['ID']['Q2P'].append(excel2py.xl2PM.pm_from_workbook(directory['data']+'\\\\'+inputoth,{'Q2P': 'maps'}).database['Q2P'].vals)"
   ]
  },
  {
   "cell_type": "markdown",
   "metadata": {},
   "source": [
    "#### 1.3: Namespaces"
   ]
  },
  {
   "cell_type": "markdown",
   "metadata": {},
   "source": [
    "*Give modules local namespaces:*"
   ]
  },
  {
   "cell_type": "code",
   "execution_count": 8,
   "metadata": {},
   "outputs": [],
   "source": [
    "standard_sets = ('inp','out','int','wT','map_all','kno_out','kno_inp')\n",
    "for module in modules:\n",
    "    namespace = {k: module + '_' + k for k in standard_sets}\n",
    "    nts[module].run_all(**namespace)\n",
    "    #Also replaces keys with module-specific names, i.e. changes 'inp' to 'ID_inp' in the attributes/keys.\n",
    "    for std_set in standard_sets:\n",
    "        if hasattr(nts[module], std_set):\n",
    "            setattr(nts[module], module + \"_\" + std_set, getattr(nts[module], std_set))\n",
    "            delattr(nts[module], std_set)"
   ]
  },
  {
   "cell_type": "markdown",
   "metadata": {},
   "source": [
    "*Add emissions data:*"
   ]
  },
  {
   "cell_type": "code",
   "execution_count": 9,
   "metadata": {},
   "outputs": [],
   "source": [
    "DataBase.GPM_database.merge_dbs(nts['ID'].database,excel2py.xl2PM.pm_from_workbook(directory['data']+'\\\\'+inputoth, {'M': 'vars','M_sets': 'sets'}),'first')"
   ]
  },
  {
   "cell_type": "markdown",
   "metadata": {},
   "source": [
    "## 2: Initialize model"
   ]
  },
  {
   "cell_type": "markdown",
   "metadata": {},
   "source": [
    "*Initialize:*"
   ]
  },
  {
   "cell_type": "code",
   "execution_count": 10,
   "metadata": {},
   "outputs": [],
   "source": [
    "gm = abatement.abate(nt=nts['ID'],tech=output,work_folder=directory['work'],**{'data_folder':directory['gams'],'name': 'atest'})"
   ]
  },
  {
   "cell_type": "markdown",
   "metadata": {},
   "source": [
    "*Add a couple of extra aliases, and update sets with elements:*"
   ]
  },
  {
   "cell_type": "code",
   "execution_count": 11,
   "metadata": {},
   "outputs": [],
   "source": [
    "gm.add_aliases([('n','nnnn'),('n','nnnnn')])\n",
    "gm.model.database.update_all_sets(clean_up=False)"
   ]
  },
  {
   "cell_type": "code",
   "execution_count": 12,
   "metadata": {},
   "outputs": [],
   "source": [
    "gm.initialize_variables_leontief()\n",
    "gm.initialize_variables(**{'check_variables': True})"
   ]
  },
  {
   "cell_type": "code",
   "execution_count": 13,
   "metadata": {},
   "outputs": [],
   "source": [
    "db_star = DataBase.GPM_database(**{'name': 'db_star'})\n",
    "sigma_star = gm.get(\"sigma\").copy()\n",
    "eta_star = gm.get(\"eta\").copy()\n",
    "\n",
    "eta_star[:] = -3\n",
    "sigma_star[gm.get(\"kno_ID_CU\")] = 0.4\n",
    "sigma_star[gm.get(\"kno_no_ID_BX\")] = 0.5\n",
    "sigma_star[\"Y\"] = 0.2\n",
    "\n",
    "db_star[\"sigma\"] = sigma_star\n",
    "db_star[\"eta\"] = eta_star"
   ]
  },
  {
   "cell_type": "code",
   "execution_count": 14,
   "metadata": {},
   "outputs": [],
   "source": [
    "name='v0'\n",
    "gm.write_and_run(name=name, add_checkpoint=name)\n",
    "gm.checkpoints['v1'] = gm.model_instances[name].ws.add_checkpoint()\n",
    "\n",
    "gm.model_instances[name].solve_sneakily(db_star=db_star,from_cp = True, cp_init = gm.checkpoints[name], options_run={'checkpoint': gm.checkpoints['v1']})\n",
    "\n",
    "gm.model.database.merge_dbs(gm.model.database,gm.model_instances['v0'].out_db,'second')"
   ]
  },
  {
   "cell_type": "code",
   "execution_count": 15,
   "metadata": {},
   "outputs": [],
   "source": [
    "db_star = DataBase.GPM_database(**{'name': 'db_star'})\n",
    "sigma_star = gm.get(\"sigma\").copy()\n",
    "sigma_star[gm.get(\"kno_ID_CU\")] = 0.87\n",
    "db_star[\"sigma\"] = sigma_star"
   ]
  },
  {
   "cell_type": "code",
   "execution_count": 16,
   "metadata": {},
   "outputs": [],
   "source": [
    "(shock_db, shock_kwargs) = ShockFunction.sneaky_db(gm.model.database, db_star, n_steps = 80, loop_name='sigma_loop')"
   ]
  },
  {
   "cell_type": "code",
   "execution_count": 17,
   "metadata": {},
   "outputs": [],
   "source": [
    "store_sol = {\"PwThat\":{'domains': shock_kwargs['loop_name']}, \"qD\":{'domains': shock_kwargs['loop_name']}, \"sigma\":{'domains': shock_kwargs['loop_name']}}"
   ]
  },
  {
   "cell_type": "code",
   "execution_count": 18,
   "metadata": {},
   "outputs": [],
   "source": [
    "mi = gm.model_instances[name]"
   ]
  },
  {
   "cell_type": "code",
   "execution_count": 19,
   "metadata": {},
   "outputs": [],
   "source": [
    "shock = mi.std_UEVAS_from_db(shock_db, loop_name=shock_kwargs['loop_name'], shock_name=shock_kwargs['shock_name'], store_sol=store_sol)"
   ]
  },
  {
   "cell_type": "code",
   "execution_count": 20,
   "metadata": {},
   "outputs": [],
   "source": [
    "mi.execute_shock_from_cp(shock=shock, cp=gm.checkpoints['v1'])"
   ]
  },
  {
   "cell_type": "code",
   "execution_count": 21,
   "metadata": {},
   "outputs": [
    {
     "data": {
      "text/plain": [
       "sigma_loop     n                \n",
       "sigma_loop_1   Y_K                   1.000000\n",
       "               U_ID_t2_1            25.826206\n",
       "               C0_EL                 1.348010\n",
       "               ID_t2                25.826206\n",
       "               ID_t2_K               1.000000\n",
       "                                      ...    \n",
       "sigma_loop_80  Y                     1.565228\n",
       "               basetech_EL_inp3      1.000000\n",
       "               C_EL_1                0.134801\n",
       "               ID_t2_electricity     1.000000\n",
       "               basetech_EL           1.482811\n",
       "Name: sol_PwThat, Length: 1520, dtype: float64"
      ]
     },
     "execution_count": 21,
     "metadata": {},
     "output_type": "execute_result"
    }
   ],
   "source": [
    "mi.out_db.series[\"sol_PwThat\"].vals"
   ]
  },
  {
   "cell_type": "code",
   "execution_count": 23,
   "metadata": {},
   "outputs": [],
   "source": [
    "gm.model.settings.tech_catalog = \"techdata_dors_2\"\n",
    "nodes_to_save = {\n",
    "    \"techdata_dors_2\":[\"ID_t2\", \"U_ID_t2_1\", \"C_EL_1\"]\n",
    "}"
   ]
  },
  {
   "cell_type": "code",
   "execution_count": 24,
   "metadata": {},
   "outputs": [],
   "source": [
    "sols = {key:mi.out_db.series[\"sol_\" + key].vals for key in store_sol.keys()}"
   ]
  },
  {
   "cell_type": "code",
   "execution_count": 31,
   "metadata": {},
   "outputs": [
    {
     "data": {
      "text/html": [
       "<div>\n",
       "<style scoped>\n",
       "    .dataframe tbody tr th:only-of-type {\n",
       "        vertical-align: middle;\n",
       "    }\n",
       "\n",
       "    .dataframe tbody tr th {\n",
       "        vertical-align: top;\n",
       "    }\n",
       "\n",
       "    .dataframe thead th {\n",
       "        text-align: right;\n",
       "    }\n",
       "</style>\n",
       "<table border=\"1\" class=\"dataframe\">\n",
       "  <thead>\n",
       "    <tr style=\"text-align: right;\">\n",
       "      <th></th>\n",
       "      <th>sigma_loop</th>\n",
       "      <th>n</th>\n",
       "      <th>sol_qD</th>\n",
       "    </tr>\n",
       "  </thead>\n",
       "  <tbody>\n",
       "    <tr>\n",
       "      <th>0</th>\n",
       "      <td>sigma_loop_1</td>\n",
       "      <td>Y</td>\n",
       "      <td>1.209008e+02</td>\n",
       "    </tr>\n",
       "    <tr>\n",
       "      <th>1</th>\n",
       "      <td>sigma_loop_1</td>\n",
       "      <td>C_EL_1</td>\n",
       "      <td>4.652260e+00</td>\n",
       "    </tr>\n",
       "    <tr>\n",
       "      <th>2</th>\n",
       "      <td>sigma_loop_1</td>\n",
       "      <td>basetech_EL_oil</td>\n",
       "      <td>1.565134e+01</td>\n",
       "    </tr>\n",
       "    <tr>\n",
       "      <th>3</th>\n",
       "      <td>sigma_loop_1</td>\n",
       "      <td>Y_electricity</td>\n",
       "      <td>3.305862e+01</td>\n",
       "    </tr>\n",
       "    <tr>\n",
       "      <th>4</th>\n",
       "      <td>sigma_loop_1</td>\n",
       "      <td>basetech_EL_inp3</td>\n",
       "      <td>2.928098e+01</td>\n",
       "    </tr>\n",
       "    <tr>\n",
       "      <th>...</th>\n",
       "      <td>...</td>\n",
       "      <td>...</td>\n",
       "      <td>...</td>\n",
       "    </tr>\n",
       "    <tr>\n",
       "      <th>1835</th>\n",
       "      <td>sigma_loop_80</td>\n",
       "      <td>U0_ID_C0_EL</td>\n",
       "      <td>4.091767e+01</td>\n",
       "    </tr>\n",
       "    <tr>\n",
       "      <th>1836</th>\n",
       "      <td>sigma_loop_80</td>\n",
       "      <td>electricity</td>\n",
       "      <td>6.233982e+01</td>\n",
       "    </tr>\n",
       "    <tr>\n",
       "      <th>1837</th>\n",
       "      <td>sigma_loop_80</td>\n",
       "      <td>basetech_EL_electricity</td>\n",
       "      <td>2.928123e+01</td>\n",
       "    </tr>\n",
       "    <tr>\n",
       "      <th>1838</th>\n",
       "      <td>sigma_loop_80</td>\n",
       "      <td>Y_oil</td>\n",
       "      <td>2.573183e+01</td>\n",
       "    </tr>\n",
       "    <tr>\n",
       "      <th>1839</th>\n",
       "      <td>sigma_loop_80</td>\n",
       "      <td>ID_t2_K</td>\n",
       "      <td>9.955030e-09</td>\n",
       "    </tr>\n",
       "  </tbody>\n",
       "</table>\n",
       "<p>1840 rows × 3 columns</p>\n",
       "</div>"
      ],
      "text/plain": [
       "         sigma_loop                        n        sol_qD\n",
       "0      sigma_loop_1                        Y  1.209008e+02\n",
       "1      sigma_loop_1                   C_EL_1  4.652260e+00\n",
       "2      sigma_loop_1          basetech_EL_oil  1.565134e+01\n",
       "3      sigma_loop_1            Y_electricity  3.305862e+01\n",
       "4      sigma_loop_1         basetech_EL_inp3  2.928098e+01\n",
       "...             ...                      ...           ...\n",
       "1835  sigma_loop_80              U0_ID_C0_EL  4.091767e+01\n",
       "1836  sigma_loop_80              electricity  6.233982e+01\n",
       "1837  sigma_loop_80  basetech_EL_electricity  2.928123e+01\n",
       "1838  sigma_loop_80                    Y_oil  2.573183e+01\n",
       "1839  sigma_loop_80                  ID_t2_K  9.955030e-09\n",
       "\n",
       "[1840 rows x 3 columns]"
      ]
     },
     "execution_count": 31,
     "metadata": {},
     "output_type": "execute_result"
    }
   ],
   "source": [
    "sols[\"qD\"].reset_index()"
   ]
  },
  {
   "cell_type": "code",
   "execution_count": 25,
   "metadata": {},
   "outputs": [],
   "source": [
    "out = []\n",
    "x_var = \"sigma\"\n",
    "for var in sols.keys():\n",
    "    if var == x_var:\n",
    "        continue\n",
    "    df = sols[var]\n",
    "    if len(df.index.get_level_values(\"n\").unique()) == 1:\n",
    "        only_one_series = True\n",
    "    else:\n",
    "        only_one_series = False\n",
    "    df = df.reset_index()\n",
    "    df2 = df.pivot_table(df.columns[-1], df.columns[0], df.columns[1]).reset_index()\n",
    "    if gm.model.settings.tech_catalog in nodes_to_save and not only_one_series:\n",
    "        df2 = df2[[\"sigma_loop\"] + [c for c in nodes_to_save[gm.model.settings.tech_catalog] if c in df2.columns]]\n",
    "    df3 = df2.merge(sols[\"sigma\"].reset_index().drop(columns=\"n\"), how=\"inner\", on=\"sigma_loop\").drop(columns=\"sigma_loop\")\n",
    "    df3 = df3.rename(columns={\"sol_sigma\":\"sigma\"}).set_index(\"sigma\").sort_values(by=\"sigma\")\n",
    "    if only_one_series:\n",
    "        df3.rename(columns={df3.columns[0]:var}, inplace=True)\n",
    "    else:\n",
    "        df3.rename(columns={key:var + \"_\" + key for key in df3.columns}, inplace=True)\n",
    "    out.append(df3)"
   ]
  },
  {
   "cell_type": "code",
   "execution_count": 34,
   "metadata": {},
   "outputs": [
    {
     "data": {
      "text/plain": [
       "Float64Index([              0.01,               0.01,               0.01,\n",
       "                            0.01,               0.01,               0.01,\n",
       "                            0.01,               0.01,               0.01,\n",
       "                            0.01,\n",
       "              ...\n",
       "              0.8462025316455697, 0.8462025316455697, 0.8521518987341772,\n",
       "              0.8521518987341772, 0.8581012658227849, 0.8581012658227849,\n",
       "              0.8640506329113924, 0.8640506329113924,               0.87,\n",
       "                            0.87],\n",
       "             dtype='float64', name='sigma', length=560)"
      ]
     },
     "execution_count": 34,
     "metadata": {},
     "output_type": "execute_result"
    }
   ],
   "source": [
    "df3.index"
   ]
  },
  {
   "cell_type": "code",
   "execution_count": 27,
   "metadata": {},
   "outputs": [
    {
     "data": {
      "text/html": [
       "<div>\n",
       "<style scoped>\n",
       "    .dataframe tbody tr th:only-of-type {\n",
       "        vertical-align: middle;\n",
       "    }\n",
       "\n",
       "    .dataframe tbody tr th {\n",
       "        vertical-align: top;\n",
       "    }\n",
       "\n",
       "    .dataframe thead th {\n",
       "        text-align: right;\n",
       "    }\n",
       "</style>\n",
       "<table border=\"1\" class=\"dataframe\">\n",
       "  <thead>\n",
       "    <tr style=\"text-align: right;\">\n",
       "      <th></th>\n",
       "      <th>PwThat_ID_t2</th>\n",
       "      <th>PwThat_U_ID_t2_1</th>\n",
       "      <th>PwThat_C_EL_1</th>\n",
       "      <th>qD_ID_t2</th>\n",
       "      <th>qD_U_ID_t2_1</th>\n",
       "      <th>qD_C_EL_1</th>\n",
       "    </tr>\n",
       "    <tr>\n",
       "      <th>sigma</th>\n",
       "      <th></th>\n",
       "      <th></th>\n",
       "      <th></th>\n",
       "      <th></th>\n",
       "      <th></th>\n",
       "      <th></th>\n",
       "    </tr>\n",
       "  </thead>\n",
       "  <tbody>\n",
       "    <tr>\n",
       "      <th>0.010000</th>\n",
       "      <td>25.826206</td>\n",
       "      <td>25.826206</td>\n",
       "      <td>0.134801</td>\n",
       "      <td>2.136059e-08</td>\n",
       "      <td>2.136059e-08</td>\n",
       "      <td>4.652307</td>\n",
       "    </tr>\n",
       "    <tr>\n",
       "      <th>0.010000</th>\n",
       "      <td>25.826206</td>\n",
       "      <td>25.826206</td>\n",
       "      <td>0.134801</td>\n",
       "      <td>4.586883e-08</td>\n",
       "      <td>4.586883e-08</td>\n",
       "      <td>4.652307</td>\n",
       "    </tr>\n",
       "    <tr>\n",
       "      <th>0.010000</th>\n",
       "      <td>25.826206</td>\n",
       "      <td>25.826206</td>\n",
       "      <td>0.134801</td>\n",
       "      <td>4.586883e-08</td>\n",
       "      <td>4.586883e-08</td>\n",
       "      <td>4.652307</td>\n",
       "    </tr>\n",
       "    <tr>\n",
       "      <th>0.010000</th>\n",
       "      <td>25.826206</td>\n",
       "      <td>25.826206</td>\n",
       "      <td>0.134801</td>\n",
       "      <td>3.936741e-08</td>\n",
       "      <td>3.936741e-08</td>\n",
       "      <td>4.652307</td>\n",
       "    </tr>\n",
       "    <tr>\n",
       "      <th>0.010000</th>\n",
       "      <td>25.826206</td>\n",
       "      <td>25.826206</td>\n",
       "      <td>0.134801</td>\n",
       "      <td>3.936741e-08</td>\n",
       "      <td>3.936741e-08</td>\n",
       "      <td>4.652307</td>\n",
       "    </tr>\n",
       "    <tr>\n",
       "      <th>...</th>\n",
       "      <td>...</td>\n",
       "      <td>...</td>\n",
       "      <td>...</td>\n",
       "      <td>...</td>\n",
       "      <td>...</td>\n",
       "      <td>...</td>\n",
       "    </tr>\n",
       "    <tr>\n",
       "      <th>0.858101</th>\n",
       "      <td>25.826206</td>\n",
       "      <td>25.826206</td>\n",
       "      <td>0.134801</td>\n",
       "      <td>4.015233e-10</td>\n",
       "      <td>4.015233e-10</td>\n",
       "      <td>4.652307</td>\n",
       "    </tr>\n",
       "    <tr>\n",
       "      <th>0.864051</th>\n",
       "      <td>25.826206</td>\n",
       "      <td>25.826206</td>\n",
       "      <td>0.134801</td>\n",
       "      <td>4.015233e-10</td>\n",
       "      <td>4.015233e-10</td>\n",
       "      <td>4.652307</td>\n",
       "    </tr>\n",
       "    <tr>\n",
       "      <th>0.864051</th>\n",
       "      <td>25.826206</td>\n",
       "      <td>25.826206</td>\n",
       "      <td>0.134801</td>\n",
       "      <td>4.015233e-10</td>\n",
       "      <td>4.015233e-10</td>\n",
       "      <td>4.652307</td>\n",
       "    </tr>\n",
       "    <tr>\n",
       "      <th>0.870000</th>\n",
       "      <td>25.826206</td>\n",
       "      <td>25.826206</td>\n",
       "      <td>0.134801</td>\n",
       "      <td>4.015233e-10</td>\n",
       "      <td>4.015233e-10</td>\n",
       "      <td>4.652307</td>\n",
       "    </tr>\n",
       "    <tr>\n",
       "      <th>0.870000</th>\n",
       "      <td>25.826206</td>\n",
       "      <td>25.826206</td>\n",
       "      <td>0.134801</td>\n",
       "      <td>4.015233e-10</td>\n",
       "      <td>4.015233e-10</td>\n",
       "      <td>4.652307</td>\n",
       "    </tr>\n",
       "  </tbody>\n",
       "</table>\n",
       "<p>560 rows × 6 columns</p>\n",
       "</div>"
      ],
      "text/plain": [
       "          PwThat_ID_t2  PwThat_U_ID_t2_1  PwThat_C_EL_1      qD_ID_t2  \\\n",
       "sigma                                                                   \n",
       "0.010000     25.826206         25.826206       0.134801  2.136059e-08   \n",
       "0.010000     25.826206         25.826206       0.134801  4.586883e-08   \n",
       "0.010000     25.826206         25.826206       0.134801  4.586883e-08   \n",
       "0.010000     25.826206         25.826206       0.134801  3.936741e-08   \n",
       "0.010000     25.826206         25.826206       0.134801  3.936741e-08   \n",
       "...                ...               ...            ...           ...   \n",
       "0.858101     25.826206         25.826206       0.134801  4.015233e-10   \n",
       "0.864051     25.826206         25.826206       0.134801  4.015233e-10   \n",
       "0.864051     25.826206         25.826206       0.134801  4.015233e-10   \n",
       "0.870000     25.826206         25.826206       0.134801  4.015233e-10   \n",
       "0.870000     25.826206         25.826206       0.134801  4.015233e-10   \n",
       "\n",
       "          qD_U_ID_t2_1  qD_C_EL_1  \n",
       "sigma                              \n",
       "0.010000  2.136059e-08   4.652307  \n",
       "0.010000  4.586883e-08   4.652307  \n",
       "0.010000  4.586883e-08   4.652307  \n",
       "0.010000  3.936741e-08   4.652307  \n",
       "0.010000  3.936741e-08   4.652307  \n",
       "...                ...        ...  \n",
       "0.858101  4.015233e-10   4.652307  \n",
       "0.864051  4.015233e-10   4.652307  \n",
       "0.864051  4.015233e-10   4.652307  \n",
       "0.870000  4.015233e-10   4.652307  \n",
       "0.870000  4.015233e-10   4.652307  \n",
       "\n",
       "[560 rows x 6 columns]"
      ]
     },
     "execution_count": 27,
     "metadata": {},
     "output_type": "execute_result"
    }
   ],
   "source": [
    "df = pd.concat(out, axis=1)\n",
    "df"
   ]
  },
  {
   "cell_type": "code",
   "execution_count": null,
   "metadata": {},
   "outputs": [],
   "source": []
  },
  {
   "cell_type": "code",
   "execution_count": null,
   "metadata": {},
   "outputs": [],
   "source": []
  },
  {
   "cell_type": "code",
   "execution_count": null,
   "metadata": {},
   "outputs": [],
   "source": []
  },
  {
   "cell_type": "code",
   "execution_count": null,
   "metadata": {},
   "outputs": [],
   "source": []
  },
  {
   "cell_type": "code",
   "execution_count": null,
   "metadata": {},
   "outputs": [],
   "source": []
  },
  {
   "cell_type": "markdown",
   "metadata": {},
   "source": [
    "## A: Additional equations"
   ]
  },
  {
   "cell_type": "markdown",
   "metadata": {},
   "source": [
    "### Current application"
   ]
  },
  {
   "cell_type": "markdown",
   "metadata": {},
   "source": [
    "* Define currapp\\_ID[n,nn] as the share of energy-services covered by technology goods produced by technology $nn$ to satisfy the energy-service need $n$. In other words:\n",
    "\n",
    "$$\\begin{align}\n",
    "    \\text{currapp_ID[n,nn]} =\\text{sum(nnn\\$(e2t[n,nn] and e2u[n,nnn]), qD[nnn])} / qD[n].\n",
    "\\end{align}$$"
   ]
  },
  {
   "cell_type": "code",
   "execution_count": null,
   "metadata": {},
   "outputs": [],
   "source": []
  }
 ],
 "metadata": {
  "kernelspec": {
   "display_name": "Python 3",
   "language": "python",
   "name": "python3"
  },
  "language_info": {
   "codemirror_mode": {
    "name": "ipython",
    "version": 3
   },
   "file_extension": ".py",
   "mimetype": "text/x-python",
   "name": "python",
   "nbconvert_exporter": "python",
   "pygments_lexer": "ipython3",
   "version": "3.7.4"
  }
 },
 "nbformat": 4,
 "nbformat_minor": 4
}
