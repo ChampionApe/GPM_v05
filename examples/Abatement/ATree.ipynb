{
 "cells": [
  {
   "cell_type": "markdown",
   "metadata": {},
   "source": [
    "*NB: This is an auxiliary notebook used to create a nesting tree for the abatement module, cf. A1\\_Baseline.ipynb.*"
   ]
  },
  {
   "cell_type": "markdown",
   "metadata": {},
   "source": [
    "*Read in tech data and arrange:*"
   ]
  },
  {
   "cell_type": "code",
   "execution_count": 4,
   "metadata": {},
   "outputs": [],
   "source": [
    "tech = techdata_to_tree.load_techcats(pd.read_excel(f['tech'], sheet_name=s))"
   ]
  },
  {
   "cell_type": "markdown",
   "metadata": {},
   "source": [
    "*Create nesting trees:*"
   ]
  },
  {
   "cell_type": "code",
   "execution_count": 5,
   "metadata": {},
   "outputs": [],
   "source": [
    "nts = {mm: nesting_tree.nesting_tree(name=mm) for mm in m}"
   ]
  },
  {
   "cell_type": "markdown",
   "metadata": {},
   "source": [
    "#### 1.1: Input displacing tree"
   ]
  },
  {
   "cell_type": "code",
   "execution_count": 6,
   "metadata": {},
   "outputs": [],
   "source": [
    "nts[\"ID\"].add_tree(tech[\"ID\"][\"upper_categories\"], tree_name = 'ID_EC', **{\"type_f\":type_f['ID_EC']}) # E to C\n",
    "nts[\"ID\"].add_tree(tech[\"ID\"][\"components\"], tree_name = \"ID_CU\", **{\"type_f\":type_f['ID_CU']}) # C to U\n",
    "nts[\"ID\"].add_tree(tech[\"ID\"][\"techs\"], tree_name=\"ID_TU\", **{'type_io': 'output', 'type_f': type_f['ID_TU']}) # U to T\n",
    "nts[\"ID\"].add_tree(tech[\"ID\"][\"techs_inputs\"], tree_name=\"ID_TX\", **{'type_f': type_f['ID_TX']}) # T to inputs X\n",
    "nts[\"ID\"].add_tree(tech[\"ID\"][\"basetechs\"], tree_name=\"ID_BU\", **{\"type_io\":\"output\", \"type_f\":type_f['ID_BU']}) # baseline technologies\n",
    "nts[\"ID\"].add_tree(tech[\"ID\"][\"basetech_inputs\"], tree_name=\"ID_BX\", **{'type_f': type_f['ID_BX']})"
   ]
  },
  {
   "cell_type": "markdown",
   "metadata": {},
   "source": [
    "#### 1.2: End of pipe tree"
   ]
  },
  {
   "cell_type": "code",
   "execution_count": 7,
   "metadata": {},
   "outputs": [],
   "source": [
    "if 'EOP' in m:\n",
    "    nts[\"EOP\"].add_tree(tech[\"EOP\"][\"components\"], tree_name = \"EOP_CU\", **{\"type_f\":type_f['EOP_CU']}) # C to U\n",
    "    nts[\"EOP\"].add_tree(tech[\"EOP\"][\"techs\"], tree_name=\"EOP_TU\", **{'type_io': 'output', 'type_f': type_f['EOP_TU']}) # T to U \n",
    "    nts[\"EOP\"].add_tree(tech[\"EOP\"][\"techs_inputs\"], tree_name=\"EOP_TX\", **{'type_f': type_f['EOP_TX']}) # T to inputs X"
   ]
  },
  {
   "cell_type": "markdown",
   "metadata": {},
   "source": [
    "#### 1.3: Trees related to final goods and emissions account"
   ]
  },
  {
   "cell_type": "markdown",
   "metadata": {},
   "source": [
    "*Read in tree and data from xlsx:*\n",
    "* If 'read\\_data' is specified in the other trees this is used to read in data from the f['other'] excel file.\n",
    "* If 'Q2P' is specified the value is used to specify which sheet in f['other'] specifies the Q2P mapping."
   ]
  },
  {
   "cell_type": "code",
   "execution_count": 8,
   "metadata": {},
   "outputs": [],
   "source": [
    "for n,tree in other_trees.items():\n",
    "    nts['ID'].add_tree(f['other'],tree_name=n,**{'sheet': tree['s']})\n",
    "    if 'read_data' in tree:\n",
    "        DataBase.GPM_database.merge_dbs(nts['ID'].trees[n].database,excel2py.xl2PM.pm_from_workbook(f['other'],tree['read_data']), 'first')\n",
    "    if 'Q2P' in tree:\n",
    "        tech['ID']['Q2P'] = tech['ID']['Q2P'].append(excel2py.xl2PM.pm_from_workbook(f['other'],{tree['Q2P']: 'maps'}).database['Q2P'].vals)"
   ]
  },
  {
   "cell_type": "markdown",
   "metadata": {},
   "source": [
    "#### 1.4: Namespaces"
   ]
  },
  {
   "cell_type": "markdown",
   "metadata": {},
   "source": [
    "*Give modules local namespaces:*"
   ]
  },
  {
   "cell_type": "code",
   "execution_count": 9,
   "metadata": {},
   "outputs": [],
   "source": [
    "standard_sets = ('inp','out','int','wT','map_all','kno_out','kno_inp')\n",
    "for mm in m:\n",
    "    namespace = {k: mm + '_' + k for k in standard_sets}\n",
    "    nts[mm].run_all(**namespace)\n",
    "    #Also replaces keys with module-specific names, i.e. changes 'inp' to 'ID_inp' in the attributes/keys.\n",
    "    for std_set in standard_sets:\n",
    "        if hasattr(nts[mm], std_set):\n",
    "            setattr(nts[mm], mm + \"_\" + std_set, getattr(nts[mm], std_set))\n",
    "            delattr(nts[mm], std_set)"
   ]
  },
  {
   "cell_type": "markdown",
   "metadata": {},
   "source": [
    "*Add emissions data:*"
   ]
  },
  {
   "cell_type": "code",
   "execution_count": 13,
   "metadata": {},
   "outputs": [
    {
     "name": "stdout",
     "output_type": "stream",
     "text": [
      "No emissions data were read\n"
     ]
    }
   ],
   "source": [
    "try:\n",
    "    DataBase.GPM_database.merge_dbs(nts['ID'].database,excel2py.xl2PM.pm_from_workbook(f['other'], e),'first')\n",
    "except NameError:\n",
    "    print('No emissions data were read; default values are supplied by abatement model')"
   ]
  }
 ],
 "metadata": {
  "kernelspec": {
   "display_name": "Python 3 (ipykernel)",
   "language": "python",
   "name": "python3"
  },
  "language_info": {
   "codemirror_mode": {
    "name": "ipython",
    "version": 3
   },
   "file_extension": ".py",
   "mimetype": "text/x-python",
   "name": "python",
   "nbconvert_exporter": "python",
   "pygments_lexer": "ipython3",
   "version": "3.9.7"
  }
 },
 "nbformat": 4,
 "nbformat_minor": 4
}
