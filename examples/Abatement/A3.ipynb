{
 "cells": [
  {
   "cell_type": "code",
   "execution_count": 1,
   "metadata": {},
   "outputs": [],
   "source": [
    "clean_up=True # removes gams-related files in work-folder if true\n",
    "%run StdPackages.ipynb\n",
    "os.chdir(directory['py'])\n",
    "import techdata_to_tree, sys, ShockFunction\n",
    "import abatement_EOP_new as abatement\n",
    "os.chdir(directory['curr'])"
   ]
  },
  {
   "cell_type": "markdown",
   "metadata": {},
   "source": [
    "*Specify settings:*"
   ]
  },
  {
   "cell_type": "code",
   "execution_count": 2,
   "metadata": {},
   "outputs": [],
   "source": [
    "name = 'A3'\n",
    "# catalogue = 'dors_2'\n",
    "catalogue = 'C2'\n",
    "f = {'tech': directory['data']+f\"/techdata_{catalogue}.xlsx\",\n",
    "     'other': directory['data']+f\"/Othdata_{catalogue}.xlsx\"}\n",
    "s = ['inputdisp','endofpipe','inputprices']\n",
    "m = ['ID','EOP'] \n",
    "e = {'M': 'vars','M_sets': 'sets'} # dictionary used to load emissions data\n",
    "other_trees = {'ID_Y': {'s': 'Y', 'read_data': {'Y': 'vars'}, 'Q2P': 'Q2P'}} # the key = tree name, s = sheet that specifies tree structure, read_data (if not None) specifies how to load data."
   ]
  },
  {
   "cell_type": "code",
   "execution_count": 3,
   "metadata": {},
   "outputs": [],
   "source": [
    "type_f = {'ID_EC': 'CES_norm',\n",
    "          'ID_CU': 'MNL',\n",
    "          'ID_TU': 'CET_norm',\n",
    "          'ID_TX': 'CES',\n",
    "          'ID_BU': 'linear_out',\n",
    "          'ID_BX': 'CES',\n",
    "          'EOP_CU': 'MNL',\n",
    "          'EOP_TU': 'CET_norm',\n",
    "          'EOP_TX': 'CES'}"
   ]
  },
  {
   "cell_type": "markdown",
   "metadata": {},
   "source": [
    "*Set up nesting tree:*"
   ]
  },
  {
   "cell_type": "code",
   "execution_count": 4,
   "metadata": {},
   "outputs": [],
   "source": [
    "%run ATree.ipynb"
   ]
  },
  {
   "cell_type": "markdown",
   "metadata": {},
   "source": [
    "## 1: Initialize model"
   ]
  },
  {
   "cell_type": "markdown",
   "metadata": {},
   "source": [
    "*Initialize with ID and EOP technologies:*"
   ]
  },
  {
   "cell_type": "code",
   "execution_count": 5,
   "metadata": {},
   "outputs": [],
   "source": [
    "gm = abatement.abate(nts=nts,tech=tech,work_folder=directory['work'],use_EOP=True,**{'data_folder':directory['gams'],'name': name})\n",
    "gm.add_aliases([('n','nnnn'),('n','nnnnn')])\n",
    "gm.model.database.update_all_sets(clean_up=False) "
   ]
  },
  {
   "cell_type": "markdown",
   "metadata": {},
   "source": [
    "*Provide initial values:*"
   ]
  },
  {
   "cell_type": "code",
   "execution_count": 6,
   "metadata": {},
   "outputs": [],
   "source": [
    "gm.initialize_variables_leontief()\n",
    "gm.initialize_variables(**{'check_variables': True})"
   ]
  },
  {
   "cell_type": "markdown",
   "metadata": {},
   "source": [
    "## 2: Solve model"
   ]
  },
  {
   "cell_type": "code",
   "execution_count": 7,
   "metadata": {},
   "outputs": [],
   "source": [
    "with open(os.getcwd()+'\\\\conopt_ExtraPivot.opt',\"r\") as f:\n",
    "    kwargs_mi = {'opt_file': f.read()}"
   ]
  },
  {
   "cell_type": "markdown",
   "metadata": {},
   "source": [
    "*Debugging:*"
   ]
  },
  {
   "cell_type": "code",
   "execution_count": 8,
   "metadata": {},
   "outputs": [],
   "source": [
    "# gm.model.database['testminobj'] = 0;"
   ]
  },
  {
   "cell_type": "code",
   "execution_count": 9,
   "metadata": {},
   "outputs": [],
   "source": [
    "gm.model.database['gamma_tau'] = pd.Series(1,index = gm.get('gamma_tau').index,name='gamma_tau')"
   ]
  },
  {
   "cell_type": "markdown",
   "metadata": {},
   "source": [
    "#### 2.1: EOP"
   ]
  },
  {
   "cell_type": "markdown",
   "metadata": {},
   "source": [
    "*Set up baseline model and solve:*"
   ]
  },
  {
   "cell_type": "code",
   "execution_count": 10,
   "metadata": {},
   "outputs": [],
   "source": [
    "gm.write_and_run(name='EOP',kwargs_mi=kwargs_mi)\n",
    "db_EOP = gm.model_instances['EOP'].out_db"
   ]
  },
  {
   "cell_type": "markdown",
   "metadata": {},
   "source": [
    "*Read back solution to main db:*"
   ]
  },
  {
   "cell_type": "code",
   "execution_count": 11,
   "metadata": {},
   "outputs": [],
   "source": [
    "gm.model.database.merge_dbs(gm.model.database,db_EOP,'second')"
   ]
  },
  {
   "cell_type": "markdown",
   "metadata": {},
   "source": [
    "#### 2.2: ID calibrate"
   ]
  },
  {
   "cell_type": "code",
   "execution_count": 12,
   "metadata": {},
   "outputs": [
    {
     "name": "stdout",
     "output_type": "stream",
     "text": [
      "--- Job CollectAndRun.gmy Start 09/13/21 17:23:55 29.1.0 rbb4180b WEX-WEI x86 64bit/MS Windows\n",
      "--- GAMS Parameters defined\n",
      "    LP CONOPT4\n",
      "    MIP CPLEX\n",
      "    RMIP CONOPT4\n",
      "    NLP CONOPT4\n",
      "    MCP PATH\n",
      "    MPEC NLPEC\n",
      "    RMPEC NLPEC\n",
      "    CNS CONOPT4\n",
      "    DNLP CONOPT4\n",
      "    RMINLP CONOPT4\n",
      "    MINLP DICOPT\n",
      "    QCP CONOPT4\n",
      "    MIQCP SBB\n",
      "    RMIQCP CONOPT4\n",
      "    EMP JAMS\n",
      "    Input C:\\Users\\sxj477\\Documents\\GitHub\\GPM_v05\\work_folder\\CollectAndRun.gmy\n",
      "    Output C:\\Users\\sxj477\\Documents\\GitHub\\GPM_v05\\work_folder\\_gams_py_gjo1.lst\n",
      "    ScrDir C:\\Users\\sxj477\\Documents\\GitHub\\GPM_v05\\work_folder\\225a\\\n",
      "    SysDir C:\\GAMS\\win64\\29.1\\\n",
      "    CurDir C:\\Users\\sxj477\\Documents\\GitHub\\GPM_v05\\work_folder\\\n",
      "    LogOption 3\n",
      "    LogFile C:\\Users\\sxj477\\Documents\\GitHub\\GPM_v05\\work_folder\\_gams_py_gjo1.log\n",
      "    GDX C:\\Users\\sxj477\\Documents\\GitHub\\GPM_v05\\work_folder\\_gams_py_gdb1.gdx\n",
      "    --ID_0 ID_0\n",
      "GAMS 29.1.0   Copyright (C) 1987-2019 GAMS Development. All rights reserved\n",
      "Licensee: Medium MUD - 10 User License                   G200108/0001CA-WIN\n",
      "          DREAM, Danish Rational Economic Agents Model                DC620\n",
      "          License Admin: Martin K. Bonde, mkb@dreammodel.dk                \n",
      "--- Starting compilation\n",
      "--- CollectAndRun.gmy(174) 2 Mb\n",
      "--- GDXin=C:\\Users\\sxj477\\Documents\\GitHub\\GPM_v05\\work_folder\\ID_0.gdx\n",
      "--- CollectAndRun.gmy(338) 3 Mb\n",
      "--- GDXin=C:\\Users\\sxj477\\Documents\\GitHub\\GPM_v05\\work_folder\\ID_0.gdx\n",
      "--- CollectAndRun.gmy(1362) 3 Mb\n",
      "--- Starting execution: elapsed 0:00:00.048\n",
      "--- CollectAndRun.gmy(535) 4 Mb\n",
      "--- GDXin=C:\\Users\\sxj477\\Documents\\GitHub\\GPM_v05\\work_folder\\ID_0.gdx\n",
      "--- CollectAndRun.gmy(580) 4 Mb\n",
      "--- GDXin=C:\\Users\\sxj477\\Documents\\GitHub\\GPM_v05\\work_folder\\ID_0.gdx\n",
      "--- CollectAndRun.gmy(610) 4 Mb\n",
      "--- GDXin=C:\\Users\\sxj477\\Documents\\GitHub\\GPM_v05\\work_folder\\ID_0.gdx\n",
      "--- CollectAndRun.gmy(647) 4 Mb\n",
      "--- GDXin=C:\\Users\\sxj477\\Documents\\GitHub\\GPM_v05\\work_folder\\ID_0.gdx\n",
      "--- CollectAndRun.gmy(696) 4 Mb\n",
      "--- GDXin=C:\\Users\\sxj477\\Documents\\GitHub\\GPM_v05\\work_folder\\ID_0.gdx\n",
      "--- CollectAndRun.gmy(734) 4 Mb\n",
      "--- GDXin=C:\\Users\\sxj477\\Documents\\GitHub\\GPM_v05\\work_folder\\ID_0.gdx\n",
      "--- CollectAndRun.gmy(783) 4 Mb\n",
      "--- GDXin=C:\\Users\\sxj477\\Documents\\GitHub\\GPM_v05\\work_folder\\ID_0.gdx\n",
      "--- CollectAndRun.gmy(837) 4 Mb\n",
      "--- GDXin=C:\\Users\\sxj477\\Documents\\GitHub\\GPM_v05\\work_folder\\ID_0.gdx\n",
      "--- CollectAndRun.gmy(876) 4 Mb\n",
      "--- GDXin=C:\\Users\\sxj477\\Documents\\GitHub\\GPM_v05\\work_folder\\ID_0.gdx\n",
      "--- CollectAndRun.gmy(909) 4 Mb\n",
      "--- GDXin=C:\\Users\\sxj477\\Documents\\GitHub\\GPM_v05\\work_folder\\ID_0.gdx\n",
      "--- CollectAndRun.gmy(1359) 4 Mb\n",
      "--- Generating NLP model A3_ID_calibrate\n",
      "--- CollectAndRun.gmy(1360) 6 Mb\n",
      "---   118 rows  192 columns  625 non-zeroes\n",
      "---   1,279 nl-code  478 nl-non-zeroes\n",
      "--- CollectAndRun.gmy(1360) 4 Mb\n",
      "--- Executing CONOPT4: elapsed 0:00:00.099\n",
      "\n",
      "CONOPT 4         29.1.0 rbb4180b Released Nov 15, 2019 WEI x86 64bit/MS Window\n",
      "Reading parameter(s) from \"C:\\Users\\sxj477\\Documents\\GitHub\\GPM_v05\\work_folder\\conopt4.opt\"\n",
      ">>  # Tell the solver that the system is square\n",
      ">>  # lssqrs = t\n",
      ">>  # Keep searching for a solution even if a bound is hit (due to non linearities)\n",
      ">>  lmmxsf = 1\n",
      ">>  # Time limit in seconds\n",
      ">>  rvtime = 1000000 \n",
      ">>  reslim = 1000000\n",
      ">>  # Limit for slow progress, Range: [12,MAXINT], Default: 12\n",
      ">>  # lfnicr = 100\n",
      ">>  # Optimality tolerance for reduced gradient\n",
      ">>  #  RTREDG = 1.e-9\n",
      ">>  # Absolute pivot tolerance, Range: [2.2e-16, 1.e-7], Default: 1.e-10\n",
      ">>  rtpiva = 2.22044605e-16\n",
      ">>  Threads=4\n",
      ">>  THREADF=4\n",
      "Finished reading from \"C:\\Users\\sxj477\\Documents\\GitHub\\GPM_v05\\work_folder\\conopt4.opt\"\n",
      " \n",
      " \n",
      "    C O N O P T   version 4.15\n",
      "    Copyright (C) ARKI Consulting and Development A/S\n",
      "                  Bagsvaerdvej 246 A\n",
      "                  DK-2880 Bagsvaerd, Denmark\n",
      "    Licensed to:  GAMS/CONOPT OEM License\n",
      " \n",
      "    Will use up to 4 threads.\n",
      " \n",
      " \n",
      "    The user model has 118 constraints and 192 variables\n",
      "    with 625 Jacobian elements, 478 of which are nonlinear.\n",
      " \n",
      "    Iter Phase   Ninf   Infeasibility   RGmax      NSB   Step  InItr MX OK\n",
      "       0   0          3.3888892889E+01 (Input point)\n",
      " \n",
      "    The pre-triangular part of the model has 20 constraints and 89 variables.\n",
      "    The post-triangular part of the model has 5 constraints and variables.\n",
      "    There are 26 definitional constraints and defined variables.\n",
      " \n",
      "    Preprocessed model has 67 constraints and 72 variables\n",
      "    with 349 Jacobian elements, 295 of which are nonlinear.\n",
      " \n",
      "    Iter Phase   Ninf   Infeasibility   RGmax      NSB   Step  InItr MX OK\n",
      "                      4.0004248052E-06 (Full preprocessed model)\n",
      "                      5.0020753123E-07 (After scaling)\n",
      "                      1.6013041665E-07 (After adjusting individual variables)\n",
      " \n",
      " ** Feasible solution. Value of objective =    34.8888888889\n",
      " \n",
      "    Iter Phase   Ninf     Objective     RGmax      NSB   Step  InItr MX OK\n",
      "       6   4          3.4882176736E+01 1.7E-02       5 2.8E-03     1 F  F\n",
      " \n",
      " ** Fatal Error **  Function evaluation error while reducing tolerances.\n",
      " \n",
      "--- Restarting execution\n",
      "--- CollectAndRun.gmy(1360) 2 Mb\n",
      "--- Reading solution for model A3_ID_calibrate\n",
      "--- CollectAndRun.gmy(1361) 3 Mb\n",
      "--- GDX File C:\\Users\\sxj477\\Documents\\GitHub\\GPM_v05\\work_folder\\_gams_py_gdb1.gdx\n",
      "*** Status: Normal completion\n",
      "--- Job CollectAndRun.gmy Stop 09/13/21 17:23:55 elapsed 0:00:00.447\n"
     ]
    }
   ],
   "source": [
    "gm.reset_settings()\n",
    "gm.setstate('ID_calibrate',init=False)\n",
    "gm.write_and_run(name='ID_calibrate',kwargs_init={'check_variables':True},options_run={'output':sys.stdout},overwrite=True,kwargs_mi=kwargs_mi)\n",
    "db_ID_C = gm.model_instances['ID_calibrate'].out_db"
   ]
  },
  {
   "cell_type": "markdown",
   "metadata": {},
   "source": [
    "#### 2.3: EOP calibrate"
   ]
  },
  {
   "cell_type": "markdown",
   "metadata": {},
   "source": [
    "*Change to EOP calibration state and resolve:*"
   ]
  },
  {
   "cell_type": "code",
   "execution_count": 12,
   "metadata": {},
   "outputs": [],
   "source": [
    "gm.reset_settings()\n",
    "gm.setstate('EOP_calibrate',init=False)\n",
    "gm.write_and_run(name='EOP_calibrate',kwargs_init={'check_variables':True},overwrite=True,kwargs_mi=kwargs_mi)\n",
    "db_EOP_C = gm.model_instances['EOP_calibrate'].out_db"
   ]
  },
  {
   "cell_type": "markdown",
   "metadata": {},
   "source": [
    "## A: Sneaky solve with non-default solve statement"
   ]
  },
  {
   "cell_type": "markdown",
   "metadata": {},
   "source": [
    "*Reset to EOP state:*"
   ]
  },
  {
   "cell_type": "code",
   "execution_count": 13,
   "metadata": {},
   "outputs": [],
   "source": [
    "gm.reset_settings()\n",
    "gm.setstate('EOP',init=False)\n",
    "gm.write_and_run(name='EOP',kwargs_init={'check_variables':True},overwrite=True,kwargs_mi=kwargs_mi)"
   ]
  },
  {
   "cell_type": "markdown",
   "metadata": {},
   "source": [
    "*set up target database:*"
   ]
  },
  {
   "cell_type": "code",
   "execution_count": 14,
   "metadata": {},
   "outputs": [],
   "source": [
    "db_star = DataBase.GPM_database()\n",
    "db_star['sigmaG'] = gm.get('sigmaG')/10\n",
    "db_star['sigma'] = pd.Series(5, index = gm.get('kno_ID_CU'),name='sigma')"
   ]
  },
  {
   "cell_type": "code",
   "execution_count": 15,
   "metadata": {},
   "outputs": [
    {
     "data": {
      "text/plain": [
       "{'Modelstat': 16.0, 'Solvestat': 1.0}"
      ]
     },
     "execution_count": 15,
     "metadata": {},
     "output_type": "execute_result"
    }
   ],
   "source": [
    "gm.model_instances['EOP'].solve_sneakily(db_star=db_star)"
   ]
  },
  {
   "cell_type": "code",
   "execution_count": 16,
   "metadata": {},
   "outputs": [],
   "source": [
    "db = gm.model_instances['EOP'].out_db"
   ]
  },
  {
   "cell_type": "markdown",
   "metadata": {},
   "source": [
    "*Solve sneakily:*"
   ]
  },
  {
   "cell_type": "code",
   "execution_count": 17,
   "metadata": {},
   "outputs": [],
   "source": [
    "# gm.model_instances['EOP_calibrate'].solve_sneakily(db_star=db_star, kwargs_shock = {'solvetext': gm.model.settings.get_conf('solve')})"
   ]
  },
  {
   "cell_type": "markdown",
   "metadata": {},
   "source": [
    "*Set up baseline model and solve:*"
   ]
  },
  {
   "cell_type": "code",
   "execution_count": 18,
   "metadata": {},
   "outputs": [],
   "source": [
    "# gm.write_and_run(name='EOP',kwargs_mi=kwargs_mi)\n",
    "# db_EOP = gm.model_instances['EOP'].out_db"
   ]
  }
 ],
 "metadata": {
  "kernelspec": {
   "display_name": "Python 3",
   "language": "python",
   "name": "python3"
  },
  "language_info": {
   "codemirror_mode": {
    "name": "ipython",
    "version": 3
   },
   "file_extension": ".py",
   "mimetype": "text/x-python",
   "name": "python",
   "nbconvert_exporter": "python",
   "pygments_lexer": "ipython3",
   "version": "3.7.9"
  }
 },
 "nbformat": 4,
 "nbformat_minor": 4
}
