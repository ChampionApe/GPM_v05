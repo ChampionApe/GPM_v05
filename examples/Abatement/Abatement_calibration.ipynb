{
 "cells": [
  {
   "cell_type": "markdown",
   "metadata": {},
   "source": [
    "### Load packages etc, and load the child-class of gmspython, \"Abatement\", and load \"techdata_to_tree\" which converts a technology catalog into production trees"
   ]
  },
  {
   "cell_type": "code",
   "execution_count": 1,
   "metadata": {},
   "outputs": [
    {
     "name": "stdout",
     "output_type": "stream",
     "text": [
      "The fileAbatement_0.gdx is still active and was not deleted.\n",
      "The file_gams_py_gdb0.gdx is still active and was not deleted.\n"
     ]
    }
   ],
   "source": [
    "clean_up=True # removes gams-related files in work-folder if true\n",
    "%run StdPackages.ipynb\n",
    "os.chdir(py['main'])\n",
    "import abatement, sys, ShockFunction\n",
    "os.chdir(curr)\n",
    "data_folder = os.getcwd()+'\\\\Data'\n",
    "gams_folder = data_folder + \"\\\\..\\\\gamsmodels\\\\Main\"\n",
    "# pickle_path = "
   ]
  },
  {
   "cell_type": "code",
   "execution_count": 2,
   "metadata": {},
   "outputs": [],
   "source": [
    "m = abatement.abate(pickle_path=gams_folder+\"/gmspython_Abatement\", work_folder=work_folder)"
   ]
  },
  {
   "cell_type": "code",
   "execution_count": 3,
   "metadata": {},
   "outputs": [],
   "source": [
    "n = m.EOP"
   ]
  },
  {
   "cell_type": "code",
   "execution_count": 5,
   "metadata": {},
   "outputs": [],
   "source": [
    "n.add_symbols(m.model.database, m.ns)"
   ]
  },
  {
   "cell_type": "code",
   "execution_count": 6,
   "metadata": {},
   "outputs": [],
   "source": [
    "n.add_conditions()"
   ]
  },
  {
   "cell_type": "code",
   "execution_count": 5,
   "metadata": {},
   "outputs": [
    {
     "data": {
      "text/plain": [
       "{'load_level': '$FUNCTION load_level({group}, {gdx}):\\n  $offlisting\\n  $GROUP __load_group {group};\\n  $LOOP __load_group:\\n    parameter load_{name}{sets} \"\";\\n    load_{name}{sets}$({conditions}) = 0;\\n  $ENDLOOP\\n  execute_load {gdx} $LOOP __load_group: load_{name}={name}.l $ENDLOOP;\\n  $LOOP __load_group:\\n    {name}.l{sets}$({conditions}) = load_{name}{sets};\\n  $ENDLOOP\\n  $onlisting\\n$ENDFUNCTION',\n",
       " 'load_fixed': '$FUNCTION load_fixed({group}, {gdx}):\\n  $offlisting\\n  $GROUP __load_group {group};\\n  $LOOP __load_group:\\n    parameter load_{name}{sets} \"\";\\n    load_{name}{sets}$({conditions}) = 0;\\n  $ENDLOOP\\n  execute_load {gdx} $LOOP __load_group: load_{name}={name}.l $ENDLOOP;\\n  $LOOP __load_group:\\n    {name}.fx{sets}$({conditions}) = load_{name}{sets};\\n  $ENDLOOP\\n  $onlisting\\n$ENDFUNCTION',\n",
       " 'std_pdf': '$FUNCTION std_pdf({x}): ((1/(sqrt(2*Pi)))*exp(-(Sqr({x}))/2)) $ENDFUNCTION'}"
      ]
     },
     "execution_count": 5,
     "metadata": {},
     "output_type": "execute_result"
    }
   ],
   "source": [
    "m.model.functions"
   ]
  },
  {
   "cell_type": "code",
   "execution_count": 3,
   "metadata": {},
   "outputs": [],
   "source": [
    "m.model.functions = {\"std_pdf\":\"$FUNCTION std_pdf({x}): ((1/(sqrt(2*Pi)))*exp(-(Sqr({x}))/2)) $ENDFUNCTION\"}"
   ]
  },
  {
   "cell_type": "code",
   "execution_count": 4,
   "metadata": {},
   "outputs": [],
   "source": [
    "m.model.write_default_components()"
   ]
  },
  {
   "cell_type": "code",
   "execution_count": 3,
   "metadata": {},
   "outputs": [
    {
     "ename": "TypeError",
     "evalue": "'NoneType' object does not support item assignment",
     "output_type": "error",
     "traceback": [
      "\u001b[1;31m---------------------------------------------------------------------------\u001b[0m",
      "\u001b[1;31mTypeError\u001b[0m                                 Traceback (most recent call last)",
      "\u001b[1;32m<ipython-input-3-9ab29d712ed3>\u001b[0m in \u001b[0;36m<module>\u001b[1;34m\u001b[0m\n\u001b[1;32m----> 1\u001b[1;33m \u001b[0mm\u001b[0m\u001b[1;33m.\u001b[0m\u001b[0mmodel\u001b[0m\u001b[1;33m.\u001b[0m\u001b[0mfunctions\u001b[0m\u001b[1;33m[\u001b[0m\u001b[1;34m\"std_pdf\"\u001b[0m\u001b[1;33m]\u001b[0m \u001b[1;33m=\u001b[0m \u001b[1;34m\"$FUNCTION std_pdf({x}): ((1/(sqrt(2*Pi)))*exp(-(Sqr({x}))/2)) $ENDFUNCTION\"\u001b[0m\u001b[1;33m\u001b[0m\u001b[1;33m\u001b[0m\u001b[0m\n\u001b[0m",
      "\u001b[1;31mTypeError\u001b[0m: 'NoneType' object does not support item assignment"
     ]
    }
   ],
   "source": [
    "m.model.functions[\"std_pdf\"] = \"$FUNCTION std_pdf({x}): ((1/(sqrt(2*Pi)))*exp(-(Sqr({x}))/2)) $ENDFUNCTION\""
   ]
  },
  {
   "cell_type": "code",
   "execution_count": 4,
   "metadata": {},
   "outputs": [
    {
     "name": "stdout",
     "output_type": "stream",
     "text": [
      "E_preabatementM_EOP[n]$(M_subset[n])..\tM0[n] =E= sum(nn$sumXaggs[nn], phi[n,nn]*qsumX[nn]);\n",
      "\tE_postabatementM_EOP[n]$(M_subset[n])..\tM[n] =E= M0[n] - sum(nn$map_M2C[n,nn], qS[nn]);\n",
      "\tE_endogenous_abatementC_EOP[n]$(EOP_C_subset[n])..\tqS[n] =E= sum(nn$map_M2C[nn,n], M0[nn] * theta[n] * errorf((pM[nn] - PbT[n] + muG[n])/(sigmaG[n])));\n",
      "\tE_adjusted_inputprice_EOP[n]$(inp[n])..\tPwThat[n] =E= PwT[n] + sum(nn$map_M2X[nn,n], phi[nn,n] * pMhat[nn]);\n",
      "\tE_adjusted_emission_price_EOP[n]$(M_subset[n])..\tpMhat[n] =E= pM[n]*(1 - sum(nn$map_M2C[n,nn], theta[nn] * errorf( (pM[n] - PbT[nn] + muG[nn]) / (sigmaG[nn])))) + \n",
      " sum(nn$map_M2C[n,nn], errorf( (pM[n] - PbT[nn] + muG[nn]) / (sigmaG[nn])) * (PbT[nn] + muG[nn] - Sqr(sigmaG[nn]) * (std_pdf[(pM[n] - PbT[nn] - muG[nn])/sigmaG[nn]] / errorf((pM[n] - PbT[nn] - muG[nn])/sigmaG[nn]))));\n"
     ]
    }
   ],
   "source": [
    "print(n.run(\"EOP\"))"
   ]
  },
  {
   "cell_type": "code",
   "execution_count": 5,
   "metadata": {},
   "outputs": [
    {
     "data": {
      "text/plain": [
       "n\n",
       "ID_1_electricity         1\n",
       "ID_1_oil                 1\n",
       "ID_1_K                   1\n",
       "ID_2_electricity         1\n",
       "ID_2_oil                 1\n",
       "ID_2_K                   1\n",
       "ID_3_inp3                1\n",
       "ID_3_inp4                1\n",
       "ID_3_inp5                2\n",
       "ID_3_K                   1\n",
       "ID_4_electricity         1\n",
       "ID_4_inp3                1\n",
       "ID_4_inp5                2\n",
       "ID_4_K                   1\n",
       "ID_5_oil                 1\n",
       "ID_5_inp4                1\n",
       "ID_5_K                   1\n",
       "EOP_t1_K                 1\n",
       "EOP_t2_electricity       1\n",
       "EOP_t2_K                 1\n",
       "EOP_t3_inp3              1\n",
       "EOP_t3_inp4              1\n",
       "EOP_t3_inp5              2\n",
       "EOP_t3_K                 1\n",
       "EOP_t4_inp4              1\n",
       "EOP_t4_K                 1\n",
       "EOP_t5_inp5              2\n",
       "EOP_t5_K                 1\n",
       "U_ID_C_EL_1_base_oil     1\n",
       "U_ID_C_EL_2_base_oil     1\n",
       "U_ID_C_EL_2_base_inp3    1\n",
       "U_ID_C_EL_3_base_oil     1\n",
       "U_ID_C_EL_3_base_inp3    1\n",
       "U_ID_C_EL_3_base_inp4    1\n",
       "U_ID_C_EH_1_base_inp3    1\n",
       "U_ID_C_EL_4_base_inp4    1\n",
       "Name: PwT, dtype: int64"
      ]
     },
     "execution_count": 5,
     "metadata": {},
     "output_type": "execute_result"
    }
   ],
   "source": [
    "m.var_exo(\"PwT\")"
   ]
  },
  {
   "cell_type": "code",
   "execution_count": 6,
   "metadata": {},
   "outputs": [
    {
     "data": {
      "text/plain": [
       "Index(['U_ID_C_EL_2_base_inp3', 'ID_2_electricity', 'U_ID_C_EH_1_base_inp3',\n",
       "       'U_ID_C_EL_3_base_inp4', 'EOP_t5_K', 'ID_1_K', 'IO_tech_K',\n",
       "       'IO_tech_inp3', 'ID_3_inp4', 'ID_5_inp4', 'IO_tech_inp5', 'EOP_t2_K',\n",
       "       'EOP_t5_inp5', 'ID_4_inp3', 'EOP_t3_inp5', 'ID_4_K', 'IO_tech_inp4',\n",
       "       'EOP_t2_electricity', 'ID_2_K', 'EOP_t4_K', 'ID_4_electricity',\n",
       "       'U_ID_C_EL_3_base_inp3', 'EOP_t4_inp4', 'ID_1_electricity', 'ID_3_K',\n",
       "       'ID_5_K', 'U_ID_C_EL_2_base_oil', 'IO_tech_oil', 'ID_4_inp5',\n",
       "       'U_ID_C_EL_3_base_oil', 'EOP_t3_inp3', 'U_ID_C_EL_1_base_oil',\n",
       "       'IO_tech_electricity', 'ID_3_inp3', 'EOP_t3_K', 'U_ID_C_EL_4_base_inp4',\n",
       "       'ID_5_oil', 'ID_1_oil', 'EOP_t3_inp4', 'ID_2_oil', 'EOP_t1_K',\n",
       "       'ID_3_inp5'],\n",
       "      dtype='object', name='n')"
      ]
     },
     "execution_count": 6,
     "metadata": {},
     "output_type": "execute_result"
    }
   ],
   "source": [
    "m.get(\"inp\")"
   ]
  },
  {
   "cell_type": "code",
   "execution_count": 3,
   "metadata": {},
   "outputs": [],
   "source": [
    "m.write_and_run()"
   ]
  },
  {
   "cell_type": "code",
   "execution_count": 4,
   "metadata": {},
   "outputs": [],
   "source": [
    "# m.model.settings.databases[\"Abatement_0\"][\"sigma\"].vals.loc[:] = 0.0001\n",
    "# m.model.settings.databases[\"Abatement_0\"][\"eta\"].vals.loc[:] = -0.0001\n",
    "\n",
    "m.write_and_run(kwargs_init={'check_variables':True})\n",
    "if m.model_instances[\"baseline\"].modelstat == 16.0:\n",
    "    print(\"\\nSuccess! The modelstat was 16.0\")"
   ]
  },
  {
   "cell_type": "markdown",
   "metadata": {},
   "source": [
    "#### Sneaky solve to adjust sigmas into desired values"
   ]
  },
  {
   "cell_type": "markdown",
   "metadata": {},
   "source": [
    "The model could be solved using elasticities of 0.0001. Let's check if it can be solved when these are set to higher numbers, implying a solution farther from the starting values (which, as mentioned, were set based on Leontief)."
   ]
  },
  {
   "cell_type": "code",
   "execution_count": 4,
   "metadata": {},
   "outputs": [],
   "source": [
    "# condition = m.model.settings.databases[\"Abatement\"][\"sigma\"].vals.index.str.startswith(\"C_E\") & ~m.model.settings.databases[\"Abatement\"][\"sigma\"].vals.index.str.contains(\"base\")"
   ]
  },
  {
   "cell_type": "code",
   "execution_count": 7,
   "metadata": {},
   "outputs": [
    {
     "data": {
      "text/plain": [
       "n\n",
       "EOP_t1   -0.0001\n",
       "EOP_t2   -0.0001\n",
       "Name: eta, dtype: float64"
      ]
     },
     "execution_count": 7,
     "metadata": {},
     "output_type": "execute_result"
    }
   ],
   "source": []
  },
  {
   "cell_type": "code",
   "execution_count": 7,
   "metadata": {},
   "outputs": [],
   "source": [
    "#Sigmas in MNL nests of end-of-pipe cannot be Leontief, because share-parameters are inconsistent with quantities, and so we need prices to compensate.\n"
   ]
  },
  {
   "cell_type": "code",
   "execution_count": null,
   "metadata": {},
   "outputs": [],
   "source": [
    "for sigma_val in range(0, 150, 10):\n",
    "    sigma_val = sigma_val/100\n",
    "    if sigma_val == 0:\n",
    "        sigma_val = 0.0001\n",
    "#     for MNL_sigma in [0.1, 1]:\n",
    "\n",
    "    #Set values\n",
    "    #m.model.settings.databases[\"Abatement\"][\"sigma\"].vals.loc[condition] = MNL_sigma\n",
    "    #m.model.settings.databases[\"Abatement\"][\"sigma\"].vals.loc[~condition] = sigma_val\n",
    "#     m.get(\"sigma\")[[t for t in m.get(\"sigma\").index if t not in m.get(\"EOP_C_subset\")]] = sigma_val\n",
    "#         m.model.settings.databases[\"Abatement_0\"][\"sigma\"].vals.loc[:] = sigma_val\n",
    "#         m.model.settings.databases[\"Abatement_0\"][\"eta\"].vals.loc[:] = -sigma_val\n",
    "    m.get(\"sigma\")[m.get(\"EOP_C_subset\")] = sigma_val\n",
    "    m.get(\"eta\")[m.get(\"eta\").index.str.startswith(\"EOP\")] = -sigma_val\n",
    "\n",
    "    #Try to solve\n",
    "    m.write_and_run()\n",
    "\n",
    "    #How did it go?\n",
    "    if m.model_instances[\"baseline\"].modelstat == 16.0:\n",
    "        print(\"\\nSUCCESS:\")\n",
    "        print(\"Sigma/eta:\", round(sigma_val, 4))\n",
    "        #print(\"Sigma/eta (MNL):\", round(MNL_val, 4))\n",
    "    else:\n",
    "        print(\"\\nFAIL:\")\n",
    "        print(\"Sigma/eta:\", round(sigma_val, 4))\n",
    "        #print(\"Sigma/eta: (MNL)\", round(MNL_sigma, 4))"
   ]
  },
  {
   "cell_type": "markdown",
   "metadata": {},
   "source": [
    "As can be seen, the model cannot be solved when the elasticities get too large. To accomodate this, we replace each iteration's starting values with the previous iteration's solution, while gradually increasing $\\sigma$ and $\\mu$.\n",
    "This allows us to set these to (hopefully) any value. This \"gradual changing of parameters\" is called 'sneaky solve'. :)"
   ]
  },
  {
   "cell_type": "markdown",
   "metadata": {},
   "source": [
    "### Sneaky solve: Gradual increase in sigma"
   ]
  },
  {
   "cell_type": "code",
   "execution_count": 9,
   "metadata": {},
   "outputs": [],
   "source": [
    "db_star = DataBase.GPM_database()"
   ]
  },
  {
   "cell_type": "code",
   "execution_count": 10,
   "metadata": {},
   "outputs": [],
   "source": [
    "sigma_star = m.get(\"sigma\").copy()\n",
    "eta_star = m.get(\"eta\").copy()"
   ]
  },
  {
   "cell_type": "code",
   "execution_count": 11,
   "metadata": {},
   "outputs": [],
   "source": [
    "#Energy services combine their underlying components with mild substitution possibilities\n",
    "sigma_star[m.get(\"kno_ID_EC\")] = 0.5"
   ]
  },
  {
   "cell_type": "code",
   "execution_count": 14,
   "metadata": {},
   "outputs": [],
   "source": [
    "#All CET splits get more substitution\n",
    "eta_star[:] = -2"
   ]
  },
  {
   "cell_type": "code",
   "execution_count": 15,
   "metadata": {},
   "outputs": [],
   "source": [
    "#The IO technology treats its outputs as perfect substitutes. This ensures they have the same price in equiliibrum.\n",
    "eta_star[\"IO_tech\"] = -10"
   ]
  },
  {
   "cell_type": "code",
   "execution_count": 16,
   "metadata": {},
   "outputs": [],
   "source": [
    "#Components have a large degree of substitution between overlapping technology goods:\n",
    "sigma_star[m.get(\"kno_ID_CU\")] = 5"
   ]
  },
  {
   "cell_type": "code",
   "execution_count": 17,
   "metadata": {},
   "outputs": [],
   "source": [
    "db_star[\"sigma\"] = sigma_star\n",
    "db_star[\"eta\"] = eta_star"
   ]
  },
  {
   "cell_type": "markdown",
   "metadata": {},
   "source": [
    "Run again, while adding a checkpoint that we can use afterwards"
   ]
  },
  {
   "cell_type": "code",
   "execution_count": 18,
   "metadata": {},
   "outputs": [
    {
     "data": {
      "text/plain": [
       "{}"
      ]
     },
     "execution_count": 18,
     "metadata": {},
     "output_type": "execute_result"
    }
   ],
   "source": [
    "m.checkpoints"
   ]
  },
  {
   "cell_type": "code",
   "execution_count": 19,
   "metadata": {},
   "outputs": [
    {
     "data": {
      "text/plain": [
       "{'baseline': <DB2Gams_l3.gams_model at 0x22937c08348>}"
      ]
     },
     "execution_count": 19,
     "metadata": {},
     "output_type": "execute_result"
    }
   ],
   "source": [
    "m.model_instances"
   ]
  },
  {
   "cell_type": "code",
   "execution_count": 20,
   "metadata": {},
   "outputs": [],
   "source": [
    "name = \"sneaky\"\n",
    "#Fejler med noget \"delimiter\" fejl\n",
    "#m.write_and_run(name=\"test\", add_checkpoint=\"test\", options_add={\"checkpoint\":m.checkpoints[\"leontief\"]})\n",
    "m.write_and_run(name=name, add_checkpoint=\"leontief\")"
   ]
  },
  {
   "cell_type": "code",
   "execution_count": 21,
   "metadata": {},
   "outputs": [],
   "source": [
    "m.checkpoints[name] = m.model_instances[name].ws.add_checkpoint()"
   ]
  },
  {
   "cell_type": "code",
   "execution_count": 22,
   "metadata": {},
   "outputs": [
    {
     "data": {
      "text/plain": [
       "{'leontief': <gams.execution.GamsCheckpoint at 0x22937b25b88>,\n",
       " 'sneaky': <gams.execution.GamsCheckpoint at 0x22937fa6248>}"
      ]
     },
     "execution_count": 22,
     "metadata": {},
     "output_type": "execute_result"
    }
   ],
   "source": [
    "m.checkpoints"
   ]
  },
  {
   "cell_type": "markdown",
   "metadata": {},
   "source": [
    "Solve sneakily, gradually increasing sigmas towards their desired values (which themselves are stated in `db_star`)"
   ]
  },
  {
   "cell_type": "code",
   "execution_count": 23,
   "metadata": {},
   "outputs": [
    {
     "data": {
      "text/plain": [
       "{'Modelstat': 16.0, 'Solvestat': 1.0}"
      ]
     },
     "execution_count": 23,
     "metadata": {},
     "output_type": "execute_result"
    }
   ],
   "source": [
    "m.model_instances[name].solve_sneakily(db_star=db_star, from_cp=True, cp_init=m.checkpoints[\"leontief\"], options_run={\"checkpoint\":m.checkpoints[name]})"
   ]
  },
  {
   "cell_type": "code",
   "execution_count": 24,
   "metadata": {},
   "outputs": [],
   "source": [
    "mi = m.model_instances[name]\n",
    "# newjob = mi.ws.add_job_from_string(\"sets a,b;\",**{'checkpoint': m.checkpoints[name]})\n",
    "# newjob.run()"
   ]
  },
  {
   "cell_type": "markdown",
   "metadata": {},
   "source": [
    "Check if the model ran succesfully:"
   ]
  },
  {
   "cell_type": "code",
   "execution_count": 25,
   "metadata": {},
   "outputs": [
    {
     "name": "stdout",
     "output_type": "stream",
     "text": [
      "Ran successfully with modelstat 16.0\n"
     ]
    }
   ],
   "source": [
    "if m.model_instances[name].out_db.series[\"Abatement_B_modelstat\"].vals == 16:\n",
    "    print(\"Ran successfully with modelstat \" + str(m.model_instances[name].out_db.series[\"Abatement_B_modelstat\"].vals))"
   ]
  },
  {
   "cell_type": "markdown",
   "metadata": {},
   "source": [
    "The changes in e.g. demanded quantities, from the initial point (the solution where sigmas were ~0) are:"
   ]
  },
  {
   "cell_type": "code",
   "execution_count": 26,
   "metadata": {},
   "outputs": [
    {
     "data": {
      "text/plain": [
       "n\n",
       "C_EH_1                   1.018307\n",
       "C_EH_2                  -0.086536\n",
       "C_EH_3                  -0.168528\n",
       "C_EH_base               -0.763243\n",
       "C_EL_1                   0.279783\n",
       "                           ...   \n",
       "U_ID_C_EL_4_base         2.729239\n",
       "U_ID_C_EL_4_base_inp4    2.729239\n",
       "U_ID_C_EL_5_base         0.882456\n",
       "U_ID_C_ER_1_base         0.945925\n",
       "U_ID_C_ER_2_base         0.949993\n",
       "Name: qD, Length: 99, dtype: float64"
      ]
     },
     "execution_count": 26,
     "metadata": {},
     "output_type": "execute_result"
    }
   ],
   "source": [
    "m.model_instances[name].out_db[\"qD\"].vals - m.get(\"qD\")"
   ]
  },
  {
   "cell_type": "markdown",
   "metadata": {},
   "source": [
    "while demand itself ended in the following quantities:"
   ]
  },
  {
   "cell_type": "code",
   "execution_count": 27,
   "metadata": {},
   "outputs": [
    {
     "data": {
      "text/plain": [
       "n\n",
       "U_ID_C_EL_1_base         5.279783e+00\n",
       "ID_5_inp4                5.394925e-09\n",
       "ID_2_electricity         8.015852e-11\n",
       "U_ID_C_ER_2_base         3.949993e+00\n",
       "U_ID_C_EH_1_base_inp3    1.601831e+01\n",
       "                             ...     \n",
       "EOP_t3_K                 3.700596e+02\n",
       "U_EOP_t1_2               5.543436e+01\n",
       "ID_1                     6.565749e-09\n",
       "U_EOP_t2_2               1.000000e+02\n",
       "C_EH_base                7.623676e+01\n",
       "Name: qD, Length: 99, dtype: float64"
      ]
     },
     "execution_count": 27,
     "metadata": {},
     "output_type": "execute_result"
    }
   ],
   "source": [
    "m.model_instances[name].out_db[\"qD\"].vals"
   ]
  },
  {
   "cell_type": "markdown",
   "metadata": {},
   "source": [
    "And let's confirm that our sigmas actually ended in the desired spots:"
   ]
  },
  {
   "cell_type": "code",
   "execution_count": 28,
   "metadata": {},
   "outputs": [
    {
     "data": {
      "text/plain": [
       "n\n",
       "U_ID_C_EL_1_base    0.0001\n",
       "C_SO2_1             2.0000\n",
       "ID_5_inp4           0.0000\n",
       "sum_inp4            0.0000\n",
       "ER                  0.5000\n",
       "                     ...  \n",
       "U_EOP_t1_2          0.0000\n",
       "ID_1                0.0001\n",
       "CO2                 0.0000\n",
       "U_EOP_t2_2          0.0000\n",
       "C_EH_base           0.0000\n",
       "Name: sigma, Length: 128, dtype: float64"
      ]
     },
     "execution_count": 28,
     "metadata": {},
     "output_type": "execute_result"
    }
   ],
   "source": [
    "m.model_instances[name].out_db[\"sigma\"].vals"
   ]
  },
  {
   "cell_type": "code",
   "execution_count": 29,
   "metadata": {},
   "outputs": [],
   "source": [
    "db = m.model_instances['sneaky'].out_db\n",
    "m.model.database.merge_dbs(m.model.database,db,'second')\n",
    "m.reset_settings()"
   ]
  },
  {
   "cell_type": "code",
   "execution_count": 30,
   "metadata": {},
   "outputs": [],
   "source": [
    "m.setstate(\"calibrate\")"
   ]
  },
  {
   "cell_type": "code",
   "execution_count": 33,
   "metadata": {},
   "outputs": [
    {
     "name": "stdout",
     "output_type": "stream",
     "text": [
      "Failed.\n"
     ]
    }
   ],
   "source": [
    "# m.model.settings.databases[\"Abatement_0\"][\"sigma\"].vals.loc[:] = 0.0001\n",
    "# m.model.settings.databases[\"Abatement_0\"][\"eta\"].vals.loc[:] = -0.0001\n",
    "#m.model.settings.databases[\"Abatement\"][\"sigma\"].vals[condition] = 0.2\n",
    "#m.write_and_run(options_run={'output':sys.stdout})\n",
    "m.write_and_run(overwrite=True)\n",
    "if m.model_instances[\"baseline\"].modelstat == 2.0:\n",
    "    print(\"\\nNPL problem solved successfully! The modelstat was 2.0\")\n",
    "else:\n",
    "    print(\"Failed.\")"
   ]
  },
  {
   "cell_type": "markdown",
   "metadata": {},
   "source": [
    "## A shock to the oil price\n",
    "We present graphically what happens when the oil price gradually increases (static model solution for each price).\n",
    "For this, we again use the sneaky solve, but we make sure to extract variables of interest for each iteration, in contrast to above where we were not interested in the solutions per se, but simply that the values of $\\sigma$ ended in the desired spots."
   ]
  },
  {
   "cell_type": "code",
   "execution_count": 121,
   "metadata": {},
   "outputs": [],
   "source": [
    "#mideleritid start fra starten\n",
    "#m.model.settings.databases[\"Abatement_0\"][\"sigma\"].vals.loc[:] = 0.1\n",
    "#m.model.settings.databases[\"Abatement_0\"][\"eta\"].vals.loc[:] = -0.1"
   ]
  },
  {
   "cell_type": "code",
   "execution_count": 122,
   "metadata": {},
   "outputs": [],
   "source": [
    "# m.write_and_run(name=\"calibrated\", add_checkpoint=\"calibrated\")"
   ]
  },
  {
   "cell_type": "code",
   "execution_count": 123,
   "metadata": {},
   "outputs": [
    {
     "data": {
      "text/plain": [
       "n\n",
       "C_CO2_1             0.50\n",
       "C_EH_1              1.20\n",
       "C_EH_2              1.20\n",
       "C_EH_3              1.20\n",
       "C_EH_base           0.01\n",
       "C_EL_1              1.20\n",
       "C_EL_2              1.20\n",
       "C_EL_3              1.20\n",
       "C_EL_4              1.20\n",
       "C_EL_5              1.20\n",
       "C_EL_base           0.01\n",
       "C_ER_1              1.20\n",
       "C_ER_2              1.20\n",
       "C_ER_base           0.01\n",
       "EH                  0.01\n",
       "EL                  0.01\n",
       "EOP_tau1            0.50\n",
       "ER                  0.01\n",
       "ID_1                0.01\n",
       "ID_2                0.01\n",
       "ID_3                0.01\n",
       "ID_4                0.01\n",
       "ID_5                0.01\n",
       "U_ID_C_EH_1_base    0.01\n",
       "U_ID_C_EH_2_base    0.01\n",
       "U_ID_C_EH_3_base    0.01\n",
       "U_ID_C_EL_1_base    0.01\n",
       "U_ID_C_EL_2_base    0.01\n",
       "U_ID_C_EL_3_base    0.01\n",
       "U_ID_C_EL_4_base    0.01\n",
       "U_ID_C_EL_5_base    0.01\n",
       "U_ID_C_ER_1_base    0.01\n",
       "U_ID_C_ER_2_base    0.01\n",
       "Name: sigma, dtype: float64"
      ]
     },
     "execution_count": 123,
     "metadata": {},
     "output_type": "execute_result"
    }
   ],
   "source": [
    "m.model_instances[\"calibrated\"].out_db.get(\"sigma\")"
   ]
  },
  {
   "cell_type": "code",
   "execution_count": 124,
   "metadata": {},
   "outputs": [],
   "source": [
    "out_db = m.model_instances[\"calibrated\"].out_db"
   ]
  },
  {
   "cell_type": "code",
   "execution_count": 125,
   "metadata": {},
   "outputs": [],
   "source": [
    "m.write_and_run(name=\"oilshock\")\n",
    "#db_out = m.model_instances[\"baseline\"].out_db"
   ]
  },
  {
   "cell_type": "code",
   "execution_count": 126,
   "metadata": {},
   "outputs": [],
   "source": [
    "#m.write_and_run(name='taxshock', add_checkpoint='taxshock', overwrite=True)\n",
    "mi = m.model_instances['oilshock']"
   ]
  },
  {
   "cell_type": "code",
   "execution_count": 127,
   "metadata": {},
   "outputs": [],
   "source": [
    "#mi.out_db.series.__dict__"
   ]
  },
  {
   "cell_type": "markdown",
   "metadata": {},
   "source": [
    "*2: Define structure of shock* "
   ]
  },
  {
   "cell_type": "code",
   "execution_count": 128,
   "metadata": {},
   "outputs": [],
   "source": [
    "db_end_of_loop = DataBase.GPM_database()"
   ]
  },
  {
   "cell_type": "code",
   "execution_count": 129,
   "metadata": {},
   "outputs": [],
   "source": [
    "cond = out_db.get(\"PwT\").index.str.contains(\"oil\")\n",
    "db_end_of_loop[\"PwT\"] = out_db.get(\"PwT\")[cond] + 12\n",
    "#end_prices[cond] = out_db.get(\"PwT\")[cond] + 5\n",
    "#end_prices = end_prices[cond]"
   ]
  },
  {
   "cell_type": "code",
   "execution_count": 130,
   "metadata": {},
   "outputs": [
    {
     "data": {
      "text/plain": [
       "n\n",
       "C_EH_base_oil           13.0\n",
       "C_EL_base_oil           13.0\n",
       "C_ER_base_oil           13.0\n",
       "ID_1_oil                13.0\n",
       "ID_2_oil                13.0\n",
       "ID_5_oil                13.0\n",
       "U_ID_C_EH_1_base_oil    13.0\n",
       "U_ID_C_EH_2_base_oil    13.0\n",
       "U_ID_C_EH_3_base_oil    13.0\n",
       "U_ID_C_EL_1_base_oil    13.0\n",
       "U_ID_C_EL_2_base_oil    13.0\n",
       "U_ID_C_EL_3_base_oil    13.0\n",
       "U_ID_C_EL_4_base_oil    13.0\n",
       "U_ID_C_EL_5_base_oil    13.0\n",
       "U_ID_C_ER_1_base_oil    13.0\n",
       "U_ID_C_ER_2_base_oil    13.0\n",
       "Name: PwT, dtype: float64"
      ]
     },
     "execution_count": 130,
     "metadata": {},
     "output_type": "execute_result"
    }
   ],
   "source": [
    "db_end_of_loop.series[\"PwT\"].vals"
   ]
  },
  {
   "cell_type": "code",
   "execution_count": 131,
   "metadata": {},
   "outputs": [],
   "source": [
    "#NY ME DDIREKTE\n",
    "#m.model_instances[\"oilshock\"].solve_sneakily(db_star=db_end_of_loop, from_cp=True, cp_init=m.checkpoints[\"calibrated\"])"
   ]
  },
  {
   "cell_type": "code",
   "execution_count": 132,
   "metadata": {},
   "outputs": [],
   "source": [
    "(shock_db, shock_kwargs) = ShockFunction.sneaky_db(out_db, db_end_of_loop, n_steps = 25, loop_name='oil_loop')"
   ]
  },
  {
   "cell_type": "markdown",
   "metadata": {},
   "source": [
    "*3: Define the solution we wish to store for each iteration (conditions argument is optional, but here we extract only the production sector goods):*"
   ]
  },
  {
   "cell_type": "code",
   "execution_count": 133,
   "metadata": {},
   "outputs": [
    {
     "data": {
      "text/plain": [
       "Index(['C_EH_base_oil', 'C_EL_base_oil', 'C_ER_base_oil', 'ID_1_oil',\n",
       "       'ID_2_oil', 'ID_5_oil', 'U_ID_C_EH_1_base_oil', 'U_ID_C_EH_2_base_oil',\n",
       "       'U_ID_C_EH_3_base_oil', 'U_ID_C_EL_1_base_oil', 'U_ID_C_EL_2_base_oil',\n",
       "       'U_ID_C_EL_3_base_oil', 'U_ID_C_EL_4_base_oil', 'U_ID_C_EL_5_base_oil',\n",
       "       'U_ID_C_ER_1_base_oil', 'U_ID_C_ER_2_base_oil'],\n",
       "      dtype='object', name='n')"
      ]
     },
     "execution_count": 133,
     "metadata": {},
     "output_type": "execute_result"
    }
   ],
   "source": [
    "shock_db.series[\"PwT_oil_loop_subset\"].vals"
   ]
  },
  {
   "cell_type": "code",
   "execution_count": 134,
   "metadata": {},
   "outputs": [],
   "source": [
    "store_sol = {'qD': {'domains': shock_kwargs['loop_name']}}"
   ]
  },
  {
   "cell_type": "markdown",
   "metadata": {},
   "source": [
    "*4: Create Shock instance*"
   ]
  },
  {
   "cell_type": "code",
   "execution_count": 135,
   "metadata": {},
   "outputs": [],
   "source": [
    "shock = mi.std_UEVAS_from_db(shock_db, loop_name=shock_kwargs['loop_name'], shock_name=shock_kwargs['shock_name'], store_sol=store_sol)\n",
    "#shock = mi.std_UEVAS_from_db(shock_db, loop_name=shock_kwargs['loop_name'], shock_name=shock_kwargs['shock_name'])\n",
    "#solve_sneakily skal have selve checkpointet\n",
    "#Gør noget så sneaky solve laver et sidste checkpoint"
   ]
  },
  {
   "cell_type": "markdown",
   "metadata": {},
   "source": [
    "*5: Execute shock from the 'calibrated' checkpoint i.e. the model state after the sigmas have been chosen:*"
   ]
  },
  {
   "cell_type": "code",
   "execution_count": 136,
   "metadata": {},
   "outputs": [],
   "source": [
    "mi.execute_shock_from_cp(shock=shock, cp=m.checkpoints['calibrated'])"
   ]
  },
  {
   "cell_type": "code",
   "execution_count": 137,
   "metadata": {},
   "outputs": [],
   "source": [
    "sol_qD = mi.out_db.series[\"sol_qD\"].vals"
   ]
  },
  {
   "cell_type": "code",
   "execution_count": 138,
   "metadata": {},
   "outputs": [],
   "source": [
    "#tech_names = [\"ID_thighest\", \"ID_thigher\", \"ID_tmedium\", \"ID_tlower\", \"ID_tlowest\"]\n",
    "#sol_qD.loc(axis=0)[\"oil_loop_1\", tech_names]"
   ]
  },
  {
   "cell_type": "code",
   "execution_count": 139,
   "metadata": {},
   "outputs": [],
   "source": [
    "sol_qD.reset_index().to_excel(os.getcwd() + \"\\\\oil_price_shock_\" + inputfile.split(\"_\")[-1], index=False)"
   ]
  },
  {
   "cell_type": "code",
   "execution_count": 140,
   "metadata": {},
   "outputs": [],
   "source": [
    "#m.model_instances[\"oilshock\"].solve_sneakily(db_star=db_end_of_loop, from_cp=True, cp_init=m.checkpoints[\"oilshock\"])"
   ]
  },
  {
   "cell_type": "markdown",
   "metadata": {},
   "source": [
    "The solution is stored as a parameter noted as \"sol_\"+ the name of the variable. In our case, the specific quantities are stored:"
   ]
  },
  {
   "cell_type": "markdown",
   "metadata": {},
   "source": [
    "### **3.1 Diagnostics (dated)**\n",
    "When the model cannot be solved, we run some diagnostics:"
   ]
  },
  {
   "cell_type": "code",
   "execution_count": null,
   "metadata": {},
   "outputs": [],
   "source": [
    "# for symbol in [\"PbT\", \"PwT\", \"qD\"]:\n",
    "#     start_vals = m.model_instances[\"baseline\"].out_db.series[\"load_\" + symbol].vals\n",
    "#     end_vals = m.model_instances[\"baseline\"].out_db.series[symbol].vals\n",
    "#     rel_changes = (end_vals - start_vals)/start_vals\n",
    "#     large_changes = rel_changes[~(rel_changes.between(-0.0001, 0.0001))]\n",
    "#     if len(large_changes) > 0:\n",
    "#         print(\"Large deviations for symbol \\n\" + symbol + \":\")\n",
    "#         print(large_changes, \"\\n\")\n",
    "#     else:\n",
    "#         print(\"No large deviations for symbol: \" + symbol + \".\\n\")"
   ]
  },
  {
   "cell_type": "code",
   "execution_count": null,
   "metadata": {},
   "outputs": [],
   "source": [
    "# from decimal import Decimal"
   ]
  },
  {
   "cell_type": "code",
   "execution_count": null,
   "metadata": {},
   "outputs": [],
   "source": [
    "# #Demands\n",
    "# print(Decimal(qD[\"U_EOP_tau1_1\"] - mu[(\"U_EOP_tau1_1\", \"C_CO2_1\")] * qS[\"C_CO2_1\"]))\n",
    "# print(Decimal(qD[\"EOP_tau1\"] - mu.loc[(\"U_EOP_tau1_1\", \"EOP_tau1\")] * qD[\"U_EOP_tau1_1\"]))\n",
    "# print(Decimal(qD[\"EOP_tau1_electricity\"] - mu[(\"EOP_tau1_electricity\", \"EOP_tau1\")] * qD[\"EOP_tau1\"]))\n",
    "# print(Decimal(qD[\"EOP_tau1_K\"] - mu[(\"EOP_tau1_K\", \"EOP_tau1\")] * qD[\"EOP_tau1\"]))\n",
    "# #zero profits\n",
    "# print(Decimal(qS[\"C_CO2_1\"]*PbT[\"C_CO2_1\"] - qD[\"U_EOP_tau1_1\"]*PwT[\"U_EOP_tau1_1\"]))\n",
    "# print(Decimal(qD[\"U_EOP_tau1_1\"]*PwT[\"U_EOP_tau1_1\"] - qD[\"EOP_tau1\"]*PwT[\"EOP_tau1\"]))\n",
    "# print(Decimal(qD[\"EOP_tau1\"]*PwT[\"EOP_tau1\"] - qD[\"EOP_tau1_electricity\"]*PwT[\"EOP_tau1_electricity\"] - qD[\"EOP_tau1_K\"]*PwT[\"EOP_tau1_K\"]))"
   ]
  },
  {
   "cell_type": "code",
   "execution_count": null,
   "metadata": {},
   "outputs": [],
   "source": []
  },
  {
   "cell_type": "code",
   "execution_count": null,
   "metadata": {},
   "outputs": [],
   "source": []
  },
  {
   "cell_type": "code",
   "execution_count": null,
   "metadata": {},
   "outputs": [],
   "source": []
  },
  {
   "cell_type": "code",
   "execution_count": null,
   "metadata": {},
   "outputs": [],
   "source": []
  },
  {
   "cell_type": "code",
   "execution_count": null,
   "metadata": {},
   "outputs": [],
   "source": []
  },
  {
   "cell_type": "code",
   "execution_count": null,
   "metadata": {},
   "outputs": [],
   "source": []
  },
  {
   "cell_type": "code",
   "execution_count": null,
   "metadata": {},
   "outputs": [],
   "source": []
  },
  {
   "cell_type": "code",
   "execution_count": null,
   "metadata": {},
   "outputs": [],
   "source": []
  },
  {
   "cell_type": "code",
   "execution_count": null,
   "metadata": {},
   "outputs": [],
   "source": []
  },
  {
   "cell_type": "code",
   "execution_count": null,
   "metadata": {},
   "outputs": [],
   "source": []
  },
  {
   "cell_type": "code",
   "execution_count": null,
   "metadata": {},
   "outputs": [],
   "source": []
  }
 ],
 "metadata": {
  "kernelspec": {
   "display_name": "Python 3",
   "language": "python",
   "name": "python3"
  },
  "language_info": {
   "codemirror_mode": {
    "name": "ipython",
    "version": 3
   },
   "file_extension": ".py",
   "mimetype": "text/x-python",
   "name": "python",
   "nbconvert_exporter": "python",
   "pygments_lexer": "ipython3",
   "version": "3.7.4"
  }
 },
 "nbformat": 4,
 "nbformat_minor": 4
}
