{
 "cells": [
  {
   "cell_type": "markdown",
   "metadata": {},
   "source": [
    "### Load packages etc, and load the child-class of gmspython, \"Abatement\", and load \"techdata_to_tree\" which converts a technology catalog into production trees"
   ]
  },
  {
   "cell_type": "code",
   "execution_count": 1,
   "metadata": {},
   "outputs": [
    {
     "name": "stdout",
     "output_type": "stream",
     "text": [
      "The file_gams_py_gdb0.gdx is still active and was not deleted.\n",
      "The file_gams_py_gdb2.gdx is still active and was not deleted.\n",
      "The file_gams_py_gdb3.gdx is still active and was not deleted.\n"
     ]
    }
   ],
   "source": [
    "clean_up=True # removes gams-related files in work-folder if true\n",
    "%run StdPackages.ipynb\n",
    "os.chdir(py['main'])\n",
    "import abatement, sys, ShockFunction\n",
    "os.chdir(curr)\n",
    "data_folder = os.getcwd()+'\\\\Data'\n",
    "gams_folder = data_folder + \"\\\\..\\\\gamsmodels\\\\Main\"\n",
    "# pickle_path = "
   ]
  },
  {
   "cell_type": "code",
   "execution_count": 2,
   "metadata": {},
   "outputs": [],
   "source": [
    "m = abatement.abate(pickle_path=gams_folder+\"/gmspython_Abatement\", work_folder=work_folder)"
   ]
  },
  {
   "cell_type": "code",
   "execution_count": 3,
   "metadata": {},
   "outputs": [],
   "source": [
    "m.model.functions = {\"std_pdf\":\"$FUNCTION std_pdf({x}): ((1/(sqrt(2*Pi)))*exp(-(Sqr({x}))/2)) $ENDFUNCTION\"}"
   ]
  },
  {
   "cell_type": "code",
   "execution_count": 4,
   "metadata": {},
   "outputs": [],
   "source": [
    "m.setstate(\"EOP\")"
   ]
  },
  {
   "cell_type": "code",
   "execution_count": 5,
   "metadata": {},
   "outputs": [],
   "source": [
    "m.reset_settings()"
   ]
  },
  {
   "cell_type": "code",
   "execution_count": 6,
   "metadata": {},
   "outputs": [],
   "source": [
    "m.write_and_run(name=\"first\")"
   ]
  },
  {
   "cell_type": "code",
   "execution_count": 7,
   "metadata": {},
   "outputs": [
    {
     "data": {
      "text/plain": [
       "{'execute_name': 'CollectAndRun.gms',\n",
       " 'name': 'gmodel',\n",
       " 'settings': <DB2Gams_l2.gams_settings at 0x12352654188>,\n",
       " 'export_settings': {'dropattrs': ['settings', 'opt', 'job'],\n",
       "  'pklattrs': {'settings': 'gams_settings'},\n",
       "  'opt': 'conopt4.opt'},\n",
       " 'opt': <gams.options.GamsOptions at 0x123526d4b08>,\n",
       " 'opt_file': 'conopt4.opt',\n",
       " 'import_settings': {},\n",
       " 'job': <gams.execution.GamsJob at 0x123526d4ac8>,\n",
       " 'out_db': <DataBase.GPM_database at 0x123526cfe08>,\n",
       " 'modelstat': 16.0,\n",
       " 'solvestat': 1.0}"
      ]
     },
     "execution_count": 7,
     "metadata": {},
     "output_type": "execute_result"
    }
   ],
   "source": [
    "m.model_instances[\"first\"].__dict__"
   ]
  },
  {
   "cell_type": "code",
   "execution_count": 8,
   "metadata": {},
   "outputs": [
    {
     "data": {
      "text/plain": [
       "n\n",
       "ID_4_EL    0.009995\n",
       "ID_1_EL    0.019993\n",
       "ID_5_ER    0.009996\n",
       "ID_5_EH    0.019993\n",
       "ID_4_EH    0.009995\n",
       "ID_4_ER    0.009995\n",
       "ID_3_EL    0.019989\n",
       "ID_2_EH    0.029986\n",
       "Name: currapp_ID, dtype: float64"
      ]
     },
     "execution_count": 8,
     "metadata": {},
     "output_type": "execute_result"
    }
   ],
   "source": [
    "m.model_instances[\"first\"].out_db.get(\"currapp_ID\")"
   ]
  },
  {
   "cell_type": "code",
   "execution_count": 9,
   "metadata": {},
   "outputs": [
    {
     "data": {
      "text/plain": [
       "n\n",
       "ID_1_EL    0.05\n",
       "ID_2_EH    0.05\n",
       "ID_3_EL    0.05\n",
       "ID_4_EL    0.05\n",
       "ID_4_EH    0.05\n",
       "ID_4_ER    0.05\n",
       "ID_5_EH    0.05\n",
       "ID_5_ER    0.05\n",
       "Name: currapp_ID, dtype: float64"
      ]
     },
     "execution_count": 9,
     "metadata": {},
     "output_type": "execute_result"
    }
   ],
   "source": [
    "m.get(\"currapp_ID\")"
   ]
  },
  {
   "cell_type": "code",
   "execution_count": 10,
   "metadata": {},
   "outputs": [
    {
     "data": {
      "text/plain": [
       "n     nn\n",
       "ID_1  EL    0.5\n",
       "ID_2  EH    0.5\n",
       "ID_3  EL    0.5\n",
       "ID_4  EL    0.5\n",
       "      EH    0.5\n",
       "      ER    0.5\n",
       "ID_5  EH    0.5\n",
       "      ER    0.5\n",
       "Name: gamma_tau, dtype: float64"
      ]
     },
     "execution_count": 10,
     "metadata": {},
     "output_type": "execute_result"
    }
   ],
   "source": [
    "m.get(\"gamma_tau\")"
   ]
  },
  {
   "cell_type": "code",
   "execution_count": 11,
   "metadata": {},
   "outputs": [],
   "source": [
    "# m.setstate(\"ID\")\n",
    "# m.reset_settings()"
   ]
  },
  {
   "cell_type": "code",
   "execution_count": 12,
   "metadata": {},
   "outputs": [],
   "source": [
    "# # m.model.settings.databases[\"Abatement_0\"][\"sigma\"].vals.loc[:] = 0.0001\n",
    "# # m.model.settings.databases[\"Abatement_0\"][\"eta\"].vals.loc[:] = -0.0001\n",
    "\n",
    "# m.write_and_run(name=\"ID\", kwargs_init={'check_variables':True})\n",
    "# if m.model_instances[\"ID\"].modelstat == 16.0:\n",
    "#     print(\"\\nSuccess! The modelstat was 16.0\")"
   ]
  },
  {
   "cell_type": "code",
   "execution_count": 13,
   "metadata": {},
   "outputs": [
    {
     "data": {
      "text/plain": [
       "{'first': <DB2Gams_l3.gams_model at 0x1234ec63188>}"
      ]
     },
     "execution_count": 13,
     "metadata": {},
     "output_type": "execute_result"
    }
   ],
   "source": [
    "m.model_instances"
   ]
  },
  {
   "cell_type": "markdown",
   "metadata": {},
   "source": [
    "#### Sneaky solve to adjust sigmas into desired values"
   ]
  },
  {
   "cell_type": "markdown",
   "metadata": {},
   "source": [
    "The model could be solved using elasticities of 0.0001. Let's check if it can be solved when these are set to higher numbers, implying a solution farther from the starting values (which, as mentioned, were set based on Leontief)."
   ]
  },
  {
   "cell_type": "code",
   "execution_count": 14,
   "metadata": {},
   "outputs": [],
   "source": [
    "# condition = m.model.settings.databases[\"Abatement\"][\"sigma\"].vals.index.str.startswith(\"C_E\") & ~m.model.settings.databases[\"Abatement\"][\"sigma\"].vals.index.str.contains(\"base\")"
   ]
  },
  {
   "cell_type": "code",
   "execution_count": null,
   "metadata": {},
   "outputs": [],
   "source": []
  },
  {
   "cell_type": "code",
   "execution_count": 15,
   "metadata": {},
   "outputs": [],
   "source": [
    "#Sigmas in MNL nests of end-of-pipe cannot be Leontief, because share-parameters are inconsistent with quantities, and so we need prices to compensate.\n"
   ]
  },
  {
   "cell_type": "code",
   "execution_count": 16,
   "metadata": {},
   "outputs": [],
   "source": [
    "# for sigma_val in range(0, 450, 10):\n",
    "#     sigma_val = sigma_val/100\n",
    "#     if sigma_val == 0:\n",
    "#         sigma_val = 0.0001\n",
    "# #     for MNL_sigma in [0.1, 1]:\n",
    "\n",
    "#     #Set values\n",
    "#     #m.model.settings.databases[\"Abatement\"][\"sigma\"].vals.loc[condition] = MNL_sigma\n",
    "#     #m.model.settings.databases[\"Abatement\"][\"sigma\"].vals.loc[~condition] = sigma_val\n",
    "# #     m.get(\"sigma\")[[t for t in m.get(\"sigma\").index if t not in m.get(\"EOP_C_subset\")]] = sigma_val\n",
    "#     m.model.settings.databases[\"ID_0\"][\"sigma\"].vals.loc[:] = sigma_val\n",
    "#     m.model.settings.databases[\"ID_0\"][\"eta\"].vals.loc[:] = -sigma_val\n",
    "# #     m.get(\"sigma\")[m.get(\"EOP_C_subset\")] = sigma_val\n",
    "# #     m.get(\"eta\")[m.get(\"eta\").index.str.startswith(\"EOP\")] = -sigma_val\n",
    "\n",
    "#     #Try to solve\n",
    "#     m.write_and_run()\n",
    "\n",
    "#     #How did it go?\n",
    "#     if m.model_instances[\"baseline\"].modelstat == 16.0:\n",
    "#         print(\"\\nSUCCESS:\")\n",
    "#         print(\"Sigma/eta:\", round(sigma_val, 4))\n",
    "#         #print(\"Sigma/eta (MNL):\", round(MNL_val, 4))\n",
    "#     else:\n",
    "#         print(\"\\nFAIL:\")\n",
    "#         print(\"Sigma/eta:\", round(sigma_val, 4))\n",
    "#         #print(\"Sigma/eta: (MNL)\", round(MNL_sigma, 4))"
   ]
  },
  {
   "cell_type": "markdown",
   "metadata": {},
   "source": [
    "As can be seen, the model cannot be solved when the elasticities get too large. To accomodate this, we replace each iteration's starting values with the previous iteration's solution, while gradually increasing $\\sigma$ and $\\mu$.\n",
    "This allows us to set these to (hopefully) any value. This \"gradual changing of parameters\" is called 'sneaky solve'. :)"
   ]
  },
  {
   "cell_type": "markdown",
   "metadata": {},
   "source": [
    "### Sneaky solve: Gradual increase in sigma"
   ]
  },
  {
   "cell_type": "code",
   "execution_count": 17,
   "metadata": {},
   "outputs": [],
   "source": [
    "db_star = DataBase.GPM_database()"
   ]
  },
  {
   "cell_type": "code",
   "execution_count": 18,
   "metadata": {},
   "outputs": [],
   "source": [
    "sigma_star = m.get(\"sigma\").copy()\n",
    "eta_star = m.get(\"eta\").copy()\n",
    "mu_star = m.get(\"mu\").copy()"
   ]
  },
  {
   "cell_type": "code",
   "execution_count": 19,
   "metadata": {},
   "outputs": [],
   "source": [
    "#Energy services combine their underlying components with mild substitution possibilities\n",
    "# sigma_star[m.get(\"kno_ID_EC\")] = 0.1"
   ]
  },
  {
   "cell_type": "code",
   "execution_count": 20,
   "metadata": {},
   "outputs": [],
   "source": [
    "#All CET splits get more substitution\n",
    "eta_star[:] = -2"
   ]
  },
  {
   "cell_type": "code",
   "execution_count": 21,
   "metadata": {},
   "outputs": [],
   "source": [
    "#The IO technology treats its outputs as perfect substitutes. This ensures they have the same price in equiliibrum.\n",
    "#eta_star[m.get(\"kno_no_ID_BX\")] = -10"
   ]
  },
  {
   "cell_type": "code",
   "execution_count": 22,
   "metadata": {},
   "outputs": [],
   "source": [
    "#Components have a large degree of substitution between overlapping technology goods:\n",
    "sigma_star[m.get(\"kno_ID_CU\")] = 0.9"
   ]
  },
  {
   "cell_type": "code",
   "execution_count": 23,
   "metadata": {},
   "outputs": [],
   "source": [
    "sigma_star[m.get(\"kno_no_ID_BX\")] = 0.5\n",
    "sigma_star[\"Y\"] = 0.2"
   ]
  },
  {
   "cell_type": "code",
   "execution_count": 24,
   "metadata": {},
   "outputs": [],
   "source": [
    "#gammas should be 1 from the beginning, so that baseline U has same prices as their baseline technology. \n",
    "#the share parameter of all baseline technology goods U in the C->U nests should be 1.\n",
    "#U0->C\n",
    "mu_star[mu_star.index.get_level_values(0).isin(m.get(\"bra_no_ID_BU\")) & mu_star.index.get_level_values(1).isin(m.get(\"kno_no_ID_CU\"))] = 1.0\n",
    "#gammas, B->U0\n",
    "mu_star[m.get(\"map_ID_BU\")] = 1.0"
   ]
  },
  {
   "cell_type": "code",
   "execution_count": 25,
   "metadata": {},
   "outputs": [],
   "source": [
    "db_star[\"sigma\"] = sigma_star\n",
    "db_star[\"eta\"] = eta_star\n",
    "# db_star[\"mu\"] = mu_star"
   ]
  },
  {
   "cell_type": "markdown",
   "metadata": {},
   "source": [
    "Run again, while adding a checkpoint that we can use afterwards"
   ]
  },
  {
   "cell_type": "code",
   "execution_count": 26,
   "metadata": {},
   "outputs": [
    {
     "data": {
      "text/plain": [
       "{}"
      ]
     },
     "execution_count": 26,
     "metadata": {},
     "output_type": "execute_result"
    }
   ],
   "source": [
    "m.checkpoints"
   ]
  },
  {
   "cell_type": "code",
   "execution_count": 27,
   "metadata": {},
   "outputs": [
    {
     "data": {
      "text/plain": [
       "{'first': <DB2Gams_l3.gams_model at 0x1234ec63188>}"
      ]
     },
     "execution_count": 27,
     "metadata": {},
     "output_type": "execute_result"
    }
   ],
   "source": [
    "m.model_instances"
   ]
  },
  {
   "cell_type": "code",
   "execution_count": 28,
   "metadata": {},
   "outputs": [],
   "source": [
    "name = \"sneaky\"\n",
    "#Fejler med noget \"delimiter\" fejl\n",
    "#m.write_and_run(name=\"test\", add_checkpoint=\"test\", options_add={\"checkpoint\":m.checkpoints[\"leontief\"]})\n",
    "m.write_and_run(name=name, add_checkpoint=\"leontief\")"
   ]
  },
  {
   "cell_type": "code",
   "execution_count": 29,
   "metadata": {},
   "outputs": [],
   "source": [
    "m.checkpoints[name] = m.model_instances[name].ws.add_checkpoint()"
   ]
  },
  {
   "cell_type": "code",
   "execution_count": 30,
   "metadata": {},
   "outputs": [
    {
     "data": {
      "text/plain": [
       "{'leontief': <gams.execution.GamsCheckpoint at 0x1235286d848>,\n",
       " 'sneaky': <gams.execution.GamsCheckpoint at 0x12353927d48>}"
      ]
     },
     "execution_count": 30,
     "metadata": {},
     "output_type": "execute_result"
    }
   ],
   "source": [
    "m.checkpoints"
   ]
  },
  {
   "cell_type": "markdown",
   "metadata": {},
   "source": [
    "Solve sneakily, gradually increasing sigmas towards their desired values (which themselves are stated in `db_star`)"
   ]
  },
  {
   "cell_type": "code",
   "execution_count": 31,
   "metadata": {},
   "outputs": [
    {
     "data": {
      "text/plain": [
       "{'Modelstat': 16.0, 'Solvestat': 1.0}"
      ]
     },
     "execution_count": 31,
     "metadata": {},
     "output_type": "execute_result"
    }
   ],
   "source": [
    "m.model_instances[name].solve_sneakily(db_star=db_star, from_cp=True, cp_init=m.checkpoints[\"leontief\"], \\\n",
    "                                       options_run={\"checkpoint\":m.checkpoints[name]}, kwargs_shock={\"n_steps\":99})"
   ]
  },
  {
   "cell_type": "code",
   "execution_count": 32,
   "metadata": {},
   "outputs": [],
   "source": [
    "mi = m.model_instances[name]\n",
    "# newjob = mi.ws.add_job_from_string(\"sets a,b;\",**{'checkpoint': m.checkpoints[name]})\n",
    "# newjob.run()"
   ]
  },
  {
   "cell_type": "markdown",
   "metadata": {},
   "source": [
    "Check if the model ran succesfully:"
   ]
  },
  {
   "cell_type": "code",
   "execution_count": 33,
   "metadata": {},
   "outputs": [],
   "source": [
    "modelstat = [t for t in m.model_instances[name].out_db.symbols.keys() if \"modelstat\" in t][0]\n",
    "solvestat = [t for t in m.model_instances[name].out_db.symbols.keys() if \"solvestat\" in t][0]"
   ]
  },
  {
   "cell_type": "code",
   "execution_count": 34,
   "metadata": {},
   "outputs": [
    {
     "name": "stdout",
     "output_type": "stream",
     "text": [
      "Ran successfully with modelstat 16.0\n",
      "Solvestat was 1.0\n"
     ]
    }
   ],
   "source": [
    "if m.model_instances[name].out_db.series[modelstat].vals == 16:\n",
    "    print(\"Ran successfully with modelstat \" + str(m.model_instances[name].out_db.series[modelstat].vals))\n",
    "    print(\"Solvestat was \" + str(m.model_instances[name].out_db.series[solvestat].vals))"
   ]
  },
  {
   "cell_type": "code",
   "execution_count": null,
   "metadata": {},
   "outputs": [],
   "source": []
  },
  {
   "cell_type": "code",
   "execution_count": 35,
   "metadata": {},
   "outputs": [
    {
     "data": {
      "text/plain": [
       "n\n",
       "ID_4_EL    0.000051\n",
       "ID_1_EL    0.000327\n",
       "ID_5_ER    0.000169\n",
       "ID_5_EH    0.000346\n",
       "ID_4_EH    0.000052\n",
       "ID_4_ER    0.000055\n",
       "ID_3_EL    0.000082\n",
       "ID_2_EH    0.000197\n",
       "Name: currapp_ID, dtype: float64"
      ]
     },
     "execution_count": 35,
     "metadata": {},
     "output_type": "execute_result"
    }
   ],
   "source": [
    "m.model_instances[name].out_db.get(\"currapp_ID\")"
   ]
  },
  {
   "cell_type": "markdown",
   "metadata": {},
   "source": [
    "The changes in e.g. demanded quantities, from the initial point (the solution where sigmas were ~0) are:"
   ]
  },
  {
   "cell_type": "code",
   "execution_count": 36,
   "metadata": {},
   "outputs": [
    {
     "data": {
      "text/plain": [
       "n\n",
       "C0_EH                      5.161799\n",
       "C0_EL                      7.316657\n",
       "C0_ER                      0.421979\n",
       "C_EH_1                     1.008450\n",
       "C_EH_2                     0.202173\n",
       "                             ...   \n",
       "basetech_ER_electricity    0.293157\n",
       "basetech_ER_inp3          -4.288440\n",
       "basetech_ER_inp4           0.696080\n",
       "basetech_ER_inp5          -4.291720\n",
       "basetech_ER_oil           -0.091207\n",
       "Name: qD, Length: 118, dtype: float64"
      ]
     },
     "execution_count": 36,
     "metadata": {},
     "output_type": "execute_result"
    }
   ],
   "source": [
    "m.model_instances[name].out_db[\"qD\"].vals - m.get(\"qD\")"
   ]
  },
  {
   "cell_type": "markdown",
   "metadata": {},
   "source": [
    "while demand itself ended in the following quantities:"
   ]
  },
  {
   "cell_type": "code",
   "execution_count": 37,
   "metadata": {},
   "outputs": [
    {
     "data": {
      "text/plain": [
       "n\n",
       "ID_1_K           0.146532\n",
       "EOP_t4_inp4      0.079870\n",
       "U_ID_3_1         0.001242\n",
       "ID_4             0.016656\n",
       "EOP_t1           0.033813\n",
       "                  ...    \n",
       "U0_ID_C_EL_5     3.311281\n",
       "C_EL_4          19.345173\n",
       "C_EL_2           2.764032\n",
       "C0_ER           93.421979\n",
       "ID_2             0.028538\n",
       "Name: qD, Length: 118, dtype: float64"
      ]
     },
     "execution_count": 37,
     "metadata": {},
     "output_type": "execute_result"
    }
   ],
   "source": [
    "m.model_instances[name].out_db[\"qD\"].vals"
   ]
  },
  {
   "cell_type": "markdown",
   "metadata": {},
   "source": [
    "And let's confirm that our sigmas actually ended in the desired spots:"
   ]
  },
  {
   "cell_type": "code",
   "execution_count": 38,
   "metadata": {},
   "outputs": [
    {
     "data": {
      "text/plain": [
       "n\n",
       "ID_4           0.0001\n",
       "EOP_t1         0.0001\n",
       "basetech_ER    0.5000\n",
       "EH             0.0001\n",
       "C0_EL          0.9000\n",
       "basetech_EL    0.5000\n",
       "C_NOX_4        2.0000\n",
       "C_SO2_2        2.0000\n",
       "Y              0.2000\n",
       "ER             0.0001\n",
       "C_ER_2         0.9000\n",
       "basetech_EH    0.5000\n",
       "C_EH_3         0.9000\n",
       "EL             0.0001\n",
       "C0_EH          0.9000\n",
       "ID_1           0.0001\n",
       "C_NOX_1        2.0000\n",
       "ID_3           0.0001\n",
       "C_NOX_2        2.0000\n",
       "C_SO2_1        2.0000\n",
       "C_EL_5         0.9000\n",
       "ID_5           0.0001\n",
       "C_EL_1         0.9000\n",
       "C_EH_2         0.9000\n",
       "EOP_t4         0.0001\n",
       "C_CO2_1        2.0000\n",
       "C_EL_3         0.9000\n",
       "C_NOX_3        2.0000\n",
       "EOP_t5         0.0001\n",
       "EOP_t3         0.0001\n",
       "EOP_t2         0.0001\n",
       "C_EH_1         0.9000\n",
       "C_ER_1         0.9000\n",
       "C_EL_4         0.9000\n",
       "C_EL_2         0.9000\n",
       "C_SO2_3        2.0000\n",
       "C0_ER          0.9000\n",
       "ID_2           0.0001\n",
       "Name: sigma, dtype: float64"
      ]
     },
     "execution_count": 38,
     "metadata": {},
     "output_type": "execute_result"
    }
   ],
   "source": [
    "m.model_instances[name].out_db[\"sigma\"].vals"
   ]
  },
  {
   "cell_type": "code",
   "execution_count": 39,
   "metadata": {},
   "outputs": [],
   "source": [
    "#Save the final values from the sneaky loop\n",
    "db = m.model_instances['sneaky'].out_db\n",
    "m.model.database.merge_dbs(m.model.database,db,'second')"
   ]
  },
  {
   "cell_type": "code",
   "execution_count": 40,
   "metadata": {},
   "outputs": [],
   "source": [
    "m.reset_settings()\n",
    "# m.setstate(\"EOP\")\n",
    "# m.write_and_run(name=\"with_substitution\", overwrite=True)"
   ]
  },
  {
   "cell_type": "code",
   "execution_count": 41,
   "metadata": {},
   "outputs": [],
   "source": [
    "# m.get(\"currapp_ID_modified\")\n",
    "\n",
    "# m.model_instances[\"with_substitution\"].out_db.get(\"currapp_ID_modified\")\n",
    "\n",
    "# inputfile = False\n",
    "# if inputfile == \"techdata_new2ID_only_simple_onewith2E.xlsx\":\n",
    "#     numerator = m.get(\"mu\")[\"U_ID_t3_2\", \"C_EL_4\"] * math.exp((m.get(\"PwThat\")[\"C_EL_4\"] - m.get(\"PwThat\")[\"U_ID_t3_2\"])*m.get(\"sigma\")[\"C_EL_4\"])\n",
    "#     denominator_1 = m.get(\"mu\")[\"U_ID_t3_2\", \"C_EL_4\"] * math.exp((m.get(\"PwThat\")[\"C_EL_4\"] - m.get(\"PwThat\")[\"U_ID_t3_2\"])*m.get(\"sigma\")[\"C_EL_4\"])\n",
    "#     denominator_2 = m.get(\"mu\")[\"U0_ID_C_EL_4\", \"C_EL_4\"] * math.exp((m.get(\"PwThat\")[\"C_EL_4\"] - \n",
    "#                                                                   (m.get(\"gamma_tau\")[\"ID_t3\"] * m.get(\"PwThat\")[\"basetech_EL\"]))*m.get(\"sigma\")[\"C_EL_4\"])\n",
    "#     CoverE = m.get(\"qD\")[\"C_EL_4\"]/m.get(\"qD\")[\"EL\"]\n",
    "#     number = (numerator / (denominator_1 + denominator_2) * CoverE)\n",
    "#     if round(number, 8) == round(m.get(\"currapp_ID_modified\")[\"ID_t3_EL\"], 8):\n",
    "#         print(\"Yes\")\n",
    "#     else:\n",
    "#         print(number)\n",
    "#         print(m.get(\"currapp_ID_modified\")[\"ID_t3_EL\"])"
   ]
  },
  {
   "cell_type": "code",
   "execution_count": 42,
   "metadata": {},
   "outputs": [],
   "source": [
    "#Replace current applications (modified) with the ones we ended with for now:\n",
    "db = DataBase.GPM_database()\n",
    "db[\"currapp_ID_modified\"] = m.get(\"currapp_ID\").copy()\n",
    "m.model.database.merge_dbs(m.model.database, db, 'second')"
   ]
  },
  {
   "cell_type": "code",
   "execution_count": 43,
   "metadata": {},
   "outputs": [],
   "source": [
    "m.reset_settings()"
   ]
  },
  {
   "cell_type": "code",
   "execution_count": 44,
   "metadata": {},
   "outputs": [],
   "source": [
    "m.setstate(\"EOPcalibrate\")"
   ]
  },
  {
   "cell_type": "code",
   "execution_count": 46,
   "metadata": {},
   "outputs": [
    {
     "name": "stdout",
     "output_type": "stream",
     "text": [
      "\n",
      "NPL problem solved successfully! The modelstat was 2.0\n"
     ]
    }
   ],
   "source": [
    "# m.model.settings.databases[\"Abatement_0\"][\"sigma\"].vals.loc[:] = 0.0001\n",
    "# m.model.settings.databases[\"Abatement_0\"][\"eta\"].vals.loc[:] = -0.0001\n",
    "#m.model.settings.databases[\"Abatement\"][\"sigma\"].vals[condition] = 0.2\n",
    "#m.write_and_run(options_run={'output':sys.stdout})\n",
    "m.write_and_run(name=\"calib\", overwrite=True)\n",
    "if m.model_instances[\"calib\"].modelstat == 2.0:\n",
    "    print(\"\\nNPL problem solved successfully! The modelstat was 2.0\")\n",
    "else:\n",
    "    print(\"Failed, loser\")"
   ]
  },
  {
   "cell_type": "code",
   "execution_count": 47,
   "metadata": {},
   "outputs": [
    {
     "data": {
      "text/plain": [
       "2.0"
      ]
     },
     "execution_count": 47,
     "metadata": {},
     "output_type": "execute_result"
    }
   ],
   "source": [
    "m.model_instances[\"calib\"].modelstat"
   ]
  },
  {
   "cell_type": "markdown",
   "metadata": {},
   "source": [
    "## A shock to the oil price\n",
    "We present graphically what happens when the oil price gradually increases (static model solution for each price).\n",
    "For this, we again use the sneaky solve, but we make sure to extract variables of interest for each iteration, in contrast to above where we were not interested in the solutions per se, but simply that the values of $\\sigma$ ended in the desired spots."
   ]
  },
  {
   "cell_type": "code",
   "execution_count": 48,
   "metadata": {},
   "outputs": [],
   "source": [
    "#mideleritid start fra starten\n",
    "#m.model.settings.databases[\"Abatement_0\"][\"sigma\"].vals.loc[:] = 0.1\n",
    "#m.model.settings.databases[\"Abatement_0\"][\"eta\"].vals.loc[:] = -0.1"
   ]
  },
  {
   "cell_type": "code",
   "execution_count": 49,
   "metadata": {},
   "outputs": [],
   "source": [
    "# m.write_and_run(name=\"calibrated\", add_checkpoint=\"calibrated\")"
   ]
  },
  {
   "cell_type": "code",
   "execution_count": 50,
   "metadata": {},
   "outputs": [
    {
     "ename": "KeyError",
     "evalue": "'calibrated'",
     "output_type": "error",
     "traceback": [
      "\u001b[1;31m---------------------------------------------------------------------------\u001b[0m",
      "\u001b[1;31mKeyError\u001b[0m                                  Traceback (most recent call last)",
      "\u001b[1;32m<ipython-input-50-88bae4d6c52e>\u001b[0m in \u001b[0;36m<module>\u001b[1;34m\u001b[0m\n\u001b[1;32m----> 1\u001b[1;33m \u001b[0mm\u001b[0m\u001b[1;33m.\u001b[0m\u001b[0mmodel_instances\u001b[0m\u001b[1;33m[\u001b[0m\u001b[1;34m\"calibrated\"\u001b[0m\u001b[1;33m]\u001b[0m\u001b[1;33m.\u001b[0m\u001b[0mout_db\u001b[0m\u001b[1;33m.\u001b[0m\u001b[0mget\u001b[0m\u001b[1;33m(\u001b[0m\u001b[1;34m\"sigma\"\u001b[0m\u001b[1;33m)\u001b[0m\u001b[1;33m\u001b[0m\u001b[1;33m\u001b[0m\u001b[0m\n\u001b[0m",
      "\u001b[1;31mKeyError\u001b[0m: 'calibrated'"
     ]
    }
   ],
   "source": [
    "m.model_instances[\"calibrated\"].out_db.get(\"sigma\")"
   ]
  },
  {
   "cell_type": "code",
   "execution_count": null,
   "metadata": {},
   "outputs": [],
   "source": [
    "out_db = m.model_instances[\"calibrated\"].out_db"
   ]
  },
  {
   "cell_type": "code",
   "execution_count": null,
   "metadata": {},
   "outputs": [],
   "source": [
    "m.write_and_run(name=\"oilshock\")\n",
    "#db_out = m.model_instances[\"baseline\"].out_db"
   ]
  },
  {
   "cell_type": "code",
   "execution_count": null,
   "metadata": {},
   "outputs": [],
   "source": [
    "#m.write_and_run(name='taxshock', add_checkpoint='taxshock', overwrite=True)\n",
    "mi = m.model_instances['oilshock']"
   ]
  },
  {
   "cell_type": "code",
   "execution_count": null,
   "metadata": {},
   "outputs": [],
   "source": [
    "#mi.out_db.series.__dict__"
   ]
  },
  {
   "cell_type": "markdown",
   "metadata": {},
   "source": [
    "*2: Define structure of shock* "
   ]
  },
  {
   "cell_type": "code",
   "execution_count": null,
   "metadata": {},
   "outputs": [],
   "source": [
    "db_end_of_loop = DataBase.GPM_database()"
   ]
  },
  {
   "cell_type": "code",
   "execution_count": null,
   "metadata": {},
   "outputs": [],
   "source": [
    "cond = out_db.get(\"PwT\").index.str.contains(\"oil\")\n",
    "db_end_of_loop[\"PwT\"] = out_db.get(\"PwT\")[cond] + 12\n",
    "#end_prices[cond] = out_db.get(\"PwT\")[cond] + 5\n",
    "#end_prices = end_prices[cond]"
   ]
  },
  {
   "cell_type": "code",
   "execution_count": null,
   "metadata": {},
   "outputs": [],
   "source": [
    "db_end_of_loop.series[\"PwT\"].vals"
   ]
  },
  {
   "cell_type": "code",
   "execution_count": null,
   "metadata": {},
   "outputs": [],
   "source": [
    "#NY ME DDIREKTE\n",
    "#m.model_instances[\"oilshock\"].solve_sneakily(db_star=db_end_of_loop, from_cp=True, cp_init=m.checkpoints[\"calibrated\"])"
   ]
  },
  {
   "cell_type": "code",
   "execution_count": null,
   "metadata": {},
   "outputs": [],
   "source": [
    "(shock_db, shock_kwargs) = ShockFunction.sneaky_db(out_db, db_end_of_loop, n_steps = 25, loop_name='oil_loop')"
   ]
  },
  {
   "cell_type": "markdown",
   "metadata": {},
   "source": [
    "*3: Define the solution we wish to store for each iteration (conditions argument is optional, but here we extract only the production sector goods):*"
   ]
  },
  {
   "cell_type": "code",
   "execution_count": 133,
   "metadata": {},
   "outputs": [
    {
     "data": {
      "text/plain": [
       "Index(['C_EH_base_oil', 'C_EL_base_oil', 'C_ER_base_oil', 'ID_1_oil',\n",
       "       'ID_2_oil', 'ID_5_oil', 'U_ID_C_EH_1_base_oil', 'U_ID_C_EH_2_base_oil',\n",
       "       'U_ID_C_EH_3_base_oil', 'U_ID_C_EL_1_base_oil', 'U_ID_C_EL_2_base_oil',\n",
       "       'U_ID_C_EL_3_base_oil', 'U_ID_C_EL_4_base_oil', 'U_ID_C_EL_5_base_oil',\n",
       "       'U_ID_C_ER_1_base_oil', 'U_ID_C_ER_2_base_oil'],\n",
       "      dtype='object', name='n')"
      ]
     },
     "execution_count": 133,
     "metadata": {},
     "output_type": "execute_result"
    }
   ],
   "source": [
    "shock_db.series[\"PwT_oil_loop_subset\"].vals"
   ]
  },
  {
   "cell_type": "code",
   "execution_count": 134,
   "metadata": {},
   "outputs": [],
   "source": [
    "store_sol = {'qD': {'domains': shock_kwargs['loop_name']}}"
   ]
  },
  {
   "cell_type": "markdown",
   "metadata": {},
   "source": [
    "*4: Create Shock instance*"
   ]
  },
  {
   "cell_type": "code",
   "execution_count": 135,
   "metadata": {},
   "outputs": [],
   "source": [
    "shock = mi.std_UEVAS_from_db(shock_db, loop_name=shock_kwargs['loop_name'], shock_name=shock_kwargs['shock_name'], store_sol=store_sol)\n",
    "#shock = mi.std_UEVAS_from_db(shock_db, loop_name=shock_kwargs['loop_name'], shock_name=shock_kwargs['shock_name'])\n",
    "#solve_sneakily skal have selve checkpointet\n",
    "#Gør noget så sneaky solve laver et sidste checkpoint"
   ]
  },
  {
   "cell_type": "markdown",
   "metadata": {},
   "source": [
    "*5: Execute shock from the 'calibrated' checkpoint i.e. the model state after the sigmas have been chosen:*"
   ]
  },
  {
   "cell_type": "code",
   "execution_count": 136,
   "metadata": {},
   "outputs": [],
   "source": [
    "mi.execute_shock_from_cp(shock=shock, cp=m.checkpoints['calibrated'])"
   ]
  },
  {
   "cell_type": "code",
   "execution_count": 137,
   "metadata": {},
   "outputs": [],
   "source": [
    "sol_qD = mi.out_db.series[\"sol_qD\"].vals"
   ]
  },
  {
   "cell_type": "code",
   "execution_count": 138,
   "metadata": {},
   "outputs": [],
   "source": [
    "#tech_names = [\"ID_thighest\", \"ID_thigher\", \"ID_tmedium\", \"ID_tlower\", \"ID_tlowest\"]\n",
    "#sol_qD.loc(axis=0)[\"oil_loop_1\", tech_names]"
   ]
  },
  {
   "cell_type": "code",
   "execution_count": 139,
   "metadata": {},
   "outputs": [],
   "source": [
    "sol_qD.reset_index().to_excel(os.getcwd() + \"\\\\oil_price_shock_\" + inputfile.split(\"_\")[-1], index=False)"
   ]
  },
  {
   "cell_type": "code",
   "execution_count": 140,
   "metadata": {},
   "outputs": [],
   "source": [
    "#m.model_instances[\"oilshock\"].solve_sneakily(db_star=db_end_of_loop, from_cp=True, cp_init=m.checkpoints[\"oilshock\"])"
   ]
  },
  {
   "cell_type": "markdown",
   "metadata": {},
   "source": [
    "The solution is stored as a parameter noted as \"sol_\"+ the name of the variable. In our case, the specific quantities are stored:"
   ]
  },
  {
   "cell_type": "markdown",
   "metadata": {},
   "source": [
    "### **3.1 Diagnostics (dated)**\n",
    "When the model cannot be solved, we run some diagnostics:"
   ]
  },
  {
   "cell_type": "code",
   "execution_count": null,
   "metadata": {},
   "outputs": [],
   "source": [
    "# for symbol in [\"PbT\", \"PwT\", \"qD\"]:\n",
    "#     start_vals = m.model_instances[\"baseline\"].out_db.series[\"load_\" + symbol].vals\n",
    "#     end_vals = m.model_instances[\"baseline\"].out_db.series[symbol].vals\n",
    "#     rel_changes = (end_vals - start_vals)/start_vals\n",
    "#     large_changes = rel_changes[~(rel_changes.between(-0.0001, 0.0001))]\n",
    "#     if len(large_changes) > 0:\n",
    "#         print(\"Large deviations for symbol \\n\" + symbol + \":\")\n",
    "#         print(large_changes, \"\\n\")\n",
    "#     else:\n",
    "#         print(\"No large deviations for symbol: \" + symbol + \".\\n\")"
   ]
  },
  {
   "cell_type": "code",
   "execution_count": null,
   "metadata": {},
   "outputs": [],
   "source": [
    "# from decimal import Decimal"
   ]
  },
  {
   "cell_type": "code",
   "execution_count": null,
   "metadata": {},
   "outputs": [],
   "source": [
    "# #Demands\n",
    "# print(Decimal(qD[\"U_EOP_tau1_1\"] - mu[(\"U_EOP_tau1_1\", \"C_CO2_1\")] * qS[\"C_CO2_1\"]))\n",
    "# print(Decimal(qD[\"EOP_tau1\"] - mu.loc[(\"U_EOP_tau1_1\", \"EOP_tau1\")] * qD[\"U_EOP_tau1_1\"]))\n",
    "# print(Decimal(qD[\"EOP_tau1_electricity\"] - mu[(\"EOP_tau1_electricity\", \"EOP_tau1\")] * qD[\"EOP_tau1\"]))\n",
    "# print(Decimal(qD[\"EOP_tau1_K\"] - mu[(\"EOP_tau1_K\", \"EOP_tau1\")] * qD[\"EOP_tau1\"]))\n",
    "# #zero profits\n",
    "# print(Decimal(qS[\"C_CO2_1\"]*PbT[\"C_CO2_1\"] - qD[\"U_EOP_tau1_1\"]*PwT[\"U_EOP_tau1_1\"]))\n",
    "# print(Decimal(qD[\"U_EOP_tau1_1\"]*PwT[\"U_EOP_tau1_1\"] - qD[\"EOP_tau1\"]*PwT[\"EOP_tau1\"]))\n",
    "# print(Decimal(qD[\"EOP_tau1\"]*PwT[\"EOP_tau1\"] - qD[\"EOP_tau1_electricity\"]*PwT[\"EOP_tau1_electricity\"] - qD[\"EOP_tau1_K\"]*PwT[\"EOP_tau1_K\"]))"
   ]
  },
  {
   "cell_type": "code",
   "execution_count": null,
   "metadata": {},
   "outputs": [],
   "source": []
  },
  {
   "cell_type": "code",
   "execution_count": null,
   "metadata": {},
   "outputs": [],
   "source": []
  },
  {
   "cell_type": "code",
   "execution_count": null,
   "metadata": {},
   "outputs": [],
   "source": []
  },
  {
   "cell_type": "code",
   "execution_count": null,
   "metadata": {},
   "outputs": [],
   "source": []
  },
  {
   "cell_type": "code",
   "execution_count": null,
   "metadata": {},
   "outputs": [],
   "source": []
  },
  {
   "cell_type": "code",
   "execution_count": null,
   "metadata": {},
   "outputs": [],
   "source": []
  },
  {
   "cell_type": "code",
   "execution_count": null,
   "metadata": {},
   "outputs": [],
   "source": []
  },
  {
   "cell_type": "code",
   "execution_count": null,
   "metadata": {},
   "outputs": [],
   "source": []
  },
  {
   "cell_type": "code",
   "execution_count": null,
   "metadata": {},
   "outputs": [],
   "source": []
  },
  {
   "cell_type": "code",
   "execution_count": null,
   "metadata": {},
   "outputs": [],
   "source": []
  },
  {
   "cell_type": "code",
   "execution_count": null,
   "metadata": {},
   "outputs": [],
   "source": []
  }
 ],
 "metadata": {
  "kernelspec": {
   "display_name": "Python 3",
   "language": "python",
   "name": "python3"
  },
  "language_info": {
   "codemirror_mode": {
    "name": "ipython",
    "version": 3
   },
   "file_extension": ".py",
   "mimetype": "text/x-python",
   "name": "python",
   "nbconvert_exporter": "python",
   "pygments_lexer": "ipython3",
   "version": "3.7.4"
  }
 },
 "nbformat": 4,
 "nbformat_minor": 4
}
