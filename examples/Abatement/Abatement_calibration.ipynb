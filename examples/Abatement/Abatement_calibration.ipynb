{
 "cells": [
  {
   "cell_type": "markdown",
   "metadata": {},
   "source": [
    "### Load packages etc, and load the child-class of gmspython, \"Abatement\", and load \"techdata_to_tree\" which converts a technology catalog into production trees"
   ]
  },
  {
   "cell_type": "code",
   "execution_count": 1,
   "metadata": {},
   "outputs": [
    {
     "name": "stdout",
     "output_type": "stream",
     "text": [
      "The file_gams_py_gdb0.gdx is still active and was not deleted.\n",
      "The file_gams_py_gdb1.gdx is still active and was not deleted.\n",
      "The file_gams_py_gdb3.gdx is still active and was not deleted.\n"
     ]
    }
   ],
   "source": [
    "clean_up=True # removes gams-related files in work-folder if true\n",
    "%run StdPackages.ipynb\n",
    "os.chdir(py['main'])\n",
    "import abatement, sys, ShockFunction\n",
    "os.chdir(curr)\n",
    "data_folder = os.getcwd()+'\\\\Data'\n",
    "gams_folder = data_folder + \"\\\\..\\\\gamsmodels\\\\Main\""
   ]
  },
  {
   "cell_type": "code",
   "execution_count": 2,
   "metadata": {},
   "outputs": [],
   "source": [
    "m = abatement.abate(pickle_path=gams_folder+\"/gmspython_Abatement\", work_folder=work_folder)"
   ]
  },
  {
   "cell_type": "code",
   "execution_count": 3,
   "metadata": {},
   "outputs": [],
   "source": [
    "m.model.functions = {\"std_pdf\":\"$FUNCTION std_pdf({x}): ((1/(sqrt(2*Pi)))*exp(-(Sqr({x}))/2)) $ENDFUNCTION\"}"
   ]
  },
  {
   "cell_type": "code",
   "execution_count": 4,
   "metadata": {},
   "outputs": [],
   "source": [
    "m.setstate(\"EOP\")"
   ]
  },
  {
   "cell_type": "code",
   "execution_count": 5,
   "metadata": {},
   "outputs": [],
   "source": [
    "m.reset_settings()"
   ]
  },
  {
   "cell_type": "code",
   "execution_count": 6,
   "metadata": {},
   "outputs": [],
   "source": [
    "m.write_and_run(name=\"first\")"
   ]
  },
  {
   "cell_type": "code",
   "execution_count": 7,
   "metadata": {},
   "outputs": [
    {
     "data": {
      "text/plain": [
       "{'execute_name': 'CollectAndRun.gms',\n",
       " 'name': 'gmodel',\n",
       " 'settings': <DB2Gams_l2.gams_settings at 0x28bdf26e448>,\n",
       " 'export_settings': {'dropattrs': ['settings', 'opt', 'job'],\n",
       "  'pklattrs': {'settings': 'gams_settings'},\n",
       "  'opt': 'conopt4.opt'},\n",
       " 'opt': <gams.options.GamsOptions at 0x28be2cf1148>,\n",
       " 'opt_file': 'conopt4.opt',\n",
       " 'import_settings': {},\n",
       " 'job': <gams.execution.GamsJob at 0x28be2cf1248>,\n",
       " 'out_db': <DataBase.GPM_database at 0x28be2d03a08>,\n",
       " 'modelstat': 16.0,\n",
       " 'solvestat': 1.0}"
      ]
     },
     "execution_count": 7,
     "metadata": {},
     "output_type": "execute_result"
    }
   ],
   "source": [
    "m.model_instances[\"first\"].__dict__"
   ]
  },
  {
   "cell_type": "code",
   "execution_count": 8,
   "metadata": {},
   "outputs": [],
   "source": [
    "# m.setstate(\"ID\")\n",
    "# m.reset_settings()"
   ]
  },
  {
   "cell_type": "code",
   "execution_count": 9,
   "metadata": {},
   "outputs": [],
   "source": [
    "# # m.model.settings.databases[\"Abatement_0\"][\"sigma\"].vals.loc[:] = 0.0001\n",
    "# # m.model.settings.databases[\"Abatement_0\"][\"eta\"].vals.loc[:] = -0.0001\n",
    "\n",
    "# m.write_and_run(name=\"ID\", kwargs_init={'check_variables':True})\n",
    "# if m.model_instances[\"ID\"].modelstat == 16.0:\n",
    "#     print(\"\\nSuccess! The modelstat was 16.0\")"
   ]
  },
  {
   "cell_type": "code",
   "execution_count": 10,
   "metadata": {},
   "outputs": [
    {
     "data": {
      "text/plain": [
       "{'first': <DB2Gams_l3.gams_model at 0x28bdf25d248>}"
      ]
     },
     "execution_count": 10,
     "metadata": {},
     "output_type": "execute_result"
    }
   ],
   "source": [
    "m.model_instances"
   ]
  },
  {
   "cell_type": "markdown",
   "metadata": {},
   "source": [
    "#### Sneaky solve to adjust sigmas into desired values"
   ]
  },
  {
   "cell_type": "markdown",
   "metadata": {},
   "source": [
    "The model could be solved using elasticities of 0.0001. Let's check if it can be solved when these are set to higher numbers, implying a solution farther from the starting values (which, as mentioned, were set based on Leontief)."
   ]
  },
  {
   "cell_type": "code",
   "execution_count": 11,
   "metadata": {},
   "outputs": [],
   "source": [
    "# condition = m.model.settings.databases[\"Abatement\"][\"sigma\"].vals.index.str.startswith(\"C_E\") & ~m.model.settings.databases[\"Abatement\"][\"sigma\"].vals.index.str.contains(\"base\")"
   ]
  },
  {
   "cell_type": "code",
   "execution_count": 12,
   "metadata": {},
   "outputs": [],
   "source": [
    "#Sigmas in MNL nests of end-of-pipe cannot be Leontief, because share-parameters are inconsistent with quantities, and so we need prices to compensate.\n"
   ]
  },
  {
   "cell_type": "code",
   "execution_count": 13,
   "metadata": {},
   "outputs": [],
   "source": [
    "# for sigma_val in range(0, 450, 10):\n",
    "#     sigma_val = sigma_val/100\n",
    "#     if sigma_val == 0:\n",
    "#         sigma_val = 0.0001\n",
    "# #     for MNL_sigma in [0.1, 1]:\n",
    "\n",
    "#     #Set values\n",
    "#     #m.model.settings.databases[\"Abatement\"][\"sigma\"].vals.loc[condition] = MNL_sigma\n",
    "#     #m.model.settings.databases[\"Abatement\"][\"sigma\"].vals.loc[~condition] = sigma_val\n",
    "# #     m.get(\"sigma\")[[t for t in m.get(\"sigma\").index if t not in m.get(\"EOP_C_subset\")]] = sigma_val\n",
    "#     m.model.settings.databases[\"ID_0\"][\"sigma\"].vals.loc[:] = sigma_val\n",
    "#     m.model.settings.databases[\"ID_0\"][\"eta\"].vals.loc[:] = -sigma_val\n",
    "# #     m.get(\"sigma\")[m.get(\"EOP_C_subset\")] = sigma_val\n",
    "# #     m.get(\"eta\")[m.get(\"eta\").index.str.startswith(\"EOP\")] = -sigma_val\n",
    "\n",
    "#     #Try to solve\n",
    "#     m.write_and_run()\n",
    "\n",
    "#     #How did it go?\n",
    "#     if m.model_instances[\"baseline\"].modelstat == 16.0:\n",
    "#         print(\"\\nSUCCESS:\")\n",
    "#         print(\"Sigma/eta:\", round(sigma_val, 4))\n",
    "#         #print(\"Sigma/eta (MNL):\", round(MNL_val, 4))\n",
    "#     else:\n",
    "#         print(\"\\nFAIL:\")\n",
    "#         print(\"Sigma/eta:\", round(sigma_val, 4))\n",
    "#         #print(\"Sigma/eta: (MNL)\", round(MNL_sigma, 4))"
   ]
  },
  {
   "cell_type": "markdown",
   "metadata": {},
   "source": [
    "As can be seen, the model cannot be solved when the elasticities get too large. To accomodate this, we replace each iteration's starting values with the previous iteration's solution, while gradually increasing $\\sigma$ and $\\mu$.\n",
    "This allows us to set these to (hopefully) any value. This \"gradual changing of parameters\" is called 'sneaky solve'. :)"
   ]
  },
  {
   "cell_type": "markdown",
   "metadata": {},
   "source": [
    "### Sneaky solve: Gradual increase in sigma"
   ]
  },
  {
   "cell_type": "code",
   "execution_count": 14,
   "metadata": {},
   "outputs": [],
   "source": [
    "db_star = DataBase.GPM_database(**{'name': 'somerandomname'})"
   ]
  },
  {
   "cell_type": "code",
   "execution_count": 15,
   "metadata": {},
   "outputs": [],
   "source": [
    "sigma_star = m.get(\"sigma\").copy()\n",
    "eta_star = m.get(\"eta\").copy()\n",
    "mu_star = m.get(\"mu\").copy()\n",
    "# sigmaG_star = m.get(\"sigmaG\").copy()"
   ]
  },
  {
   "cell_type": "code",
   "execution_count": 16,
   "metadata": {},
   "outputs": [],
   "source": [
    "#Energy services combine their underlying components with mild substitution possibilities\n",
    "# sigma_star[m.get(\"kno_ID_EC\")] = 0.1"
   ]
  },
  {
   "cell_type": "code",
   "execution_count": 17,
   "metadata": {},
   "outputs": [],
   "source": [
    "#All CET splits get more substitution\n",
    "eta_star[:] = -2"
   ]
  },
  {
   "cell_type": "code",
   "execution_count": 18,
   "metadata": {},
   "outputs": [],
   "source": [
    "#The IO technology treats its outputs as perfect substitutes. This ensures they have the same price in equiliibrum.\n",
    "#eta_star[m.get(\"kno_no_ID_BX\")] = -10"
   ]
  },
  {
   "cell_type": "code",
   "execution_count": 19,
   "metadata": {},
   "outputs": [],
   "source": [
    "#Components have a large degree of substitution between overlapping technology goods:\n",
    "sigma_star[m.get(\"kno_ID_CU\")] = 0.9 #Virker ikke når denne sættes til 1.3"
   ]
  },
  {
   "cell_type": "code",
   "execution_count": 20,
   "metadata": {},
   "outputs": [],
   "source": [
    "sigma_star[m.get(\"kno_no_ID_BX\")] = 0.5\n",
    "sigma_star[\"Y\"] = 0.2"
   ]
  },
  {
   "cell_type": "code",
   "execution_count": 21,
   "metadata": {},
   "outputs": [],
   "source": [
    "#gammas should be 1 from the beginning, so that baseline U has same prices as their baseline technology. \n",
    "#the share parameter of all baseline technology goods U in the C->U nests should be 1.\n",
    "#U0->C\n",
    "mu_star[mu_star.index.get_level_values(0).isin(m.get(\"bra_no_ID_BU\")) & mu_star.index.get_level_values(1).isin(m.get(\"kno_no_ID_CU\"))] = 1.0\n",
    "#gammas, B->U0\n",
    "mu_star[m.get(\"map_ID_BU\")] = 1.0"
   ]
  },
  {
   "cell_type": "code",
   "execution_count": 22,
   "metadata": {},
   "outputs": [],
   "source": [
    "#Make adoption of end-of-pipe techs closer to discrete:\n",
    "# sigmaG_star = m.get(\"sigmaG\")"
   ]
  },
  {
   "cell_type": "code",
   "execution_count": 23,
   "metadata": {},
   "outputs": [],
   "source": [
    "db_star[\"sigma\"] = sigma_star\n",
    "db_star[\"eta\"] = eta_star\n",
    "# db_star[\"mu\"] = mu_star"
   ]
  },
  {
   "cell_type": "markdown",
   "metadata": {},
   "source": [
    "Run again, while adding a checkpoint that we can use afterwards"
   ]
  },
  {
   "cell_type": "code",
   "execution_count": 24,
   "metadata": {},
   "outputs": [],
   "source": [
    "name='v0'\n",
    "m.write_and_run(name=name, add_checkpoint=name)\n",
    "m.checkpoints['v1'] = m.model_instances[name].ws.add_checkpoint()"
   ]
  },
  {
   "cell_type": "code",
   "execution_count": 25,
   "metadata": {},
   "outputs": [
    {
     "data": {
      "text/plain": [
       "{'Modelstat': 16.0, 'Solvestat': 1.0}"
      ]
     },
     "execution_count": 25,
     "metadata": {},
     "output_type": "execute_result"
    }
   ],
   "source": [
    "m.model_instances[name].solve_sneakily(db_star=db_star,from_cp = True, cp_init = m.checkpoints[name], options_run={'checkpoint': m.checkpoints['v1']})"
   ]
  },
  {
   "cell_type": "code",
   "execution_count": 27,
   "metadata": {},
   "outputs": [],
   "source": [
    "name = \"first\"\n",
    "#Fejler med noget \"delimiter\" fejl\n",
    "#m.write_and_run(name=\"test\", add_checkpoint=\"test\", options_add={\"checkpoint\":m.checkpoints[\"leontief\"]})\n",
    "m.write_and_run(name=name, add_checkpoint=\"leontief\")"
   ]
  },
  {
   "cell_type": "code",
   "execution_count": 27,
   "metadata": {},
   "outputs": [],
   "source": [
    "m.checkpoints[name] = m.model_instances[name].ws.add_checkpoint()"
   ]
  },
  {
   "cell_type": "markdown",
   "metadata": {},
   "source": [
    "Solve sneakily, gradually increasing sigmas towards their desired values (which themselves are stated in `db_star`)"
   ]
  },
  {
   "cell_type": "code",
   "execution_count": 28,
   "metadata": {},
   "outputs": [
    {
     "data": {
      "text/plain": [
       "{'Modelstat': 16.0, 'Solvestat': 1.0}"
      ]
     },
     "execution_count": 28,
     "metadata": {},
     "output_type": "execute_result"
    }
   ],
   "source": [
    "m.model_instances[name].solve_sneakily(db_star=db_star, options_run={\"checkpoint\":m.checkpoints[name]}, kwargs_shock={\"n_steps\":99})"
   ]
  },
  {
   "cell_type": "code",
   "execution_count": 29,
   "metadata": {},
   "outputs": [],
   "source": [
    "mi = m.model_instances[name]\n",
    "# newjob = mi.ws.add_job_from_string(\"sets a,b;\",**{'checkpoint': m.checkpoints[name]})\n",
    "# newjob.run()"
   ]
  },
  {
   "cell_type": "markdown",
   "metadata": {},
   "source": [
    "Check if the model ran succesfully:"
   ]
  },
  {
   "cell_type": "code",
   "execution_count": 32,
   "metadata": {},
   "outputs": [],
   "source": [
    "modelstat = [t for t in m.model_instances[name].out_db.symbols.keys() if \"modelstat\" in t][0]\n",
    "solvestat = [t for t in m.model_instances[name].out_db.symbols.keys() if \"solvestat\" in t][0]"
   ]
  },
  {
   "cell_type": "code",
   "execution_count": 33,
   "metadata": {},
   "outputs": [
    {
     "name": "stdout",
     "output_type": "stream",
     "text": [
      "Ran successfully with modelstat 16.0\n",
      "Solvestat was 1.0\n"
     ]
    }
   ],
   "source": [
    "if m.model_instances[name].out_db.series[modelstat].vals == 16:\n",
    "    print(\"Ran successfully with modelstat \" + str(m.model_instances[name].out_db.series[modelstat].vals))\n",
    "    print(\"Solvestat was \" + str(m.model_instances[name].out_db.series[solvestat].vals))"
   ]
  },
  {
   "cell_type": "code",
   "execution_count": null,
   "metadata": {},
   "outputs": [],
   "source": []
  },
  {
   "cell_type": "code",
   "execution_count": 34,
   "metadata": {},
   "outputs": [
    {
     "data": {
      "text/plain": [
       "n\n",
       "ID_t2_EL    0.009977\n",
       "Name: currapp_ID, dtype: float64"
      ]
     },
     "execution_count": 34,
     "metadata": {},
     "output_type": "execute_result"
    }
   ],
   "source": [
    "m.model_instances[name].out_db.get(\"currapp_ID\")"
   ]
  },
  {
   "cell_type": "markdown",
   "metadata": {},
   "source": [
    "The changes in e.g. demanded quantities, from the initial point (the solution where sigmas were ~0) are:"
   ]
  },
  {
   "cell_type": "code",
   "execution_count": 36,
   "metadata": {},
   "outputs": [
    {
     "data": {
      "text/plain": [
       "n\n",
       "C0_EL                        8.818376\n",
       "C_EL_1                       1.605442\n",
       "C_EL_2                       5.613647\n",
       "EL                          16.037464\n",
       "EOP_t2                     -99.999996\n",
       "EOP_t2_K                  -549.999979\n",
       "EOP_t2_inp3                -99.999996\n",
       "ID_t1                       -0.999766\n",
       "ID_t1_K                     -8.997897\n",
       "ID_t1_electricity           -0.999766\n",
       "ID_t2                       -1.000000\n",
       "ID_t2_K                    -24.000000\n",
       "ID_t2_electricity           -1.000000\n",
       "U0_ID_C0_EL                  8.818376\n",
       "U0_ID_C_EL_1                 2.605442\n",
       "U0_ID_C_EL_2                 6.613413\n",
       "U_EOP_t2_1                 -99.999996\n",
       "U_ID_t1_1                   -0.999766\n",
       "U_ID_t2_1                   -1.000000\n",
       "Y                            0.000000\n",
       "Y_in_K                       6.490362\n",
       "Y_in_electricity             6.490362\n",
       "Y_in_inp3                    6.490362\n",
       "Y_in_oil                   -17.083457\n",
       "basetech_EL                -47.027391\n",
       "basetech_EL_K               -8.987527\n",
       "basetech_EL_electricity     -8.987527\n",
       "basetech_EL_inp3            -8.987527\n",
       "basetech_EL_oil            -16.201335\n",
       "Name: qD, dtype: float64"
      ]
     },
     "execution_count": 36,
     "metadata": {},
     "output_type": "execute_result"
    }
   ],
   "source": [
    "m.model_instances[name].out_db[\"qD\"].vals - m.get(\"qD\")"
   ]
  },
  {
   "cell_type": "markdown",
   "metadata": {},
   "source": [
    "while demand itself ended in the following quantities:"
   ]
  },
  {
   "cell_type": "code",
   "execution_count": 38,
   "metadata": {},
   "outputs": [
    {
     "data": {
      "text/plain": [
       "n\n",
       "EOP_t2                     3.840366e-06\n",
       "basetech_EL_oil            8.298665e+00\n",
       "C_EL_1                     1.160544e+01\n",
       "basetech_EL_electricity    1.551247e+01\n",
       "EOP_t2_inp3                3.841085e-06\n",
       "C_EL_2                     4.061365e+01\n",
       "U_ID_t1_1                  2.336630e-04\n",
       "U0_ID_C_EL_1               1.160544e+01\n",
       "ID_t1                      2.336630e-04\n",
       "basetech_EL_inp3           1.551247e+01\n",
       "ID_t1_electricity          2.337169e-04\n",
       "U_ID_t2_1                  2.448160e-10\n",
       "basetech_EL                5.097261e+01\n",
       "C0_EL                      6.381838e+01\n",
       "Y_in_electricity           1.064904e+02\n",
       "ID_t2_electricity          2.448948e-10\n",
       "Y                          5.000000e+02\n",
       "EL                         1.160375e+02\n",
       "ID_t2                      2.448160e-10\n",
       "ID_t2_K                    5.877475e-09\n",
       "ID_t1_K                    2.103452e-03\n",
       "basetech_EL_K              1.551247e+01\n",
       "EOP_t2_K                   2.112596e-05\n",
       "Y_in_K                     1.064904e+02\n",
       "Y_in_oil                   8.291654e+01\n",
       "U0_ID_C_EL_2               4.061341e+01\n",
       "U0_ID_C0_EL                6.381838e+01\n",
       "U_EOP_t2_1                 3.840366e-06\n",
       "Y_in_inp3                  1.064904e+02\n",
       "Name: qD, dtype: float64"
      ]
     },
     "execution_count": 38,
     "metadata": {},
     "output_type": "execute_result"
    }
   ],
   "source": [
    "m.model_instances[name].out_db[\"qD\"].vals"
   ]
  },
  {
   "cell_type": "markdown",
   "metadata": {},
   "source": [
    "And let's confirm that our sigmas actually ended in the desired spots:"
   ]
  },
  {
   "cell_type": "code",
   "execution_count": 39,
   "metadata": {},
   "outputs": [
    {
     "data": {
      "text/plain": [
       "n\n",
       "EOP_t2         0.0001\n",
       "C_EL_1         0.9000\n",
       "C_EL_2         0.9000\n",
       "ID_t1          0.0001\n",
       "basetech_EL    0.5000\n",
       "C0_EL          0.9000\n",
       "C_CO2_1        2.0000\n",
       "Y              0.2000\n",
       "EL             0.0001\n",
       "ID_t2          0.0001\n",
       "Name: sigma, dtype: float64"
      ]
     },
     "execution_count": 39,
     "metadata": {},
     "output_type": "execute_result"
    }
   ],
   "source": [
    "m.model_instances[name].out_db[\"sigma\"].vals"
   ]
  },
  {
   "cell_type": "code",
   "execution_count": 40,
   "metadata": {},
   "outputs": [],
   "source": [
    "#Save the final values from the sneaky loop\n",
    "db = m.model_instances['sneaky'].out_db\n",
    "m.model.database.merge_dbs(m.model.database,db,'second')"
   ]
  },
  {
   "cell_type": "code",
   "execution_count": 28,
   "metadata": {},
   "outputs": [],
   "source": [
    "m.reset_settings()\n",
    "# m.setstate(\"EOP\")\n",
    "# m.write_and_run(name=\"with_substitution\", overwrite=True)"
   ]
  },
  {
   "cell_type": "code",
   "execution_count": 29,
   "metadata": {},
   "outputs": [
    {
     "data": {
      "text/plain": [
       "'C:\\\\Users\\\\zgr679\\\\Documents\\\\GitHub\\\\GPM_v05\\\\examples\\\\Abatement\\\\Data\\\\..\\\\gamsmodels\\\\Main\\\\gmspython_Abatement'"
      ]
     },
     "execution_count": 29,
     "metadata": {},
     "output_type": "execute_result"
    }
   ],
   "source": [
    "#midlertidigt stop her. Behøver ikke kalibrering for at lave figurer. \n",
    "m.export()"
   ]
  },
  {
   "cell_type": "code",
   "execution_count": 43,
   "metadata": {},
   "outputs": [],
   "source": [
    "# m.get(\"currapp_ID_modified\")\n",
    "\n",
    "# m.model_instances[\"with_substitution\"].out_db.get(\"currapp_ID_modified\")\n",
    "\n",
    "# inputfile = False\n",
    "# if inputfile == \"techdata_new2ID_only_simple_onewith2E.xlsx\":\n",
    "#     numerator = m.get(\"mu\")[\"U_ID_t3_2\", \"C_EL_4\"] * math.exp((m.get(\"PwThat\")[\"C_EL_4\"] - m.get(\"PwThat\")[\"U_ID_t3_2\"])*m.get(\"sigma\")[\"C_EL_4\"])\n",
    "#     denominator_1 = m.get(\"mu\")[\"U_ID_t3_2\", \"C_EL_4\"] * math.exp((m.get(\"PwThat\")[\"C_EL_4\"] - m.get(\"PwThat\")[\"U_ID_t3_2\"])*m.get(\"sigma\")[\"C_EL_4\"])\n",
    "#     denominator_2 = m.get(\"mu\")[\"U0_ID_C_EL_4\", \"C_EL_4\"] * math.exp((m.get(\"PwThat\")[\"C_EL_4\"] - \n",
    "#                                                                   (m.get(\"gamma_tau\")[\"ID_t3\"] * m.get(\"PwThat\")[\"basetech_EL\"]))*m.get(\"sigma\")[\"C_EL_4\"])\n",
    "#     CoverE = m.get(\"qD\")[\"C_EL_4\"]/m.get(\"qD\")[\"EL\"]\n",
    "#     number = (numerator / (denominator_1 + denominator_2) * CoverE)\n",
    "#     if round(number, 8) == round(m.get(\"currapp_ID_modified\")[\"ID_t3_EL\"], 8):\n",
    "#         print(\"Yes\")\n",
    "#     else:\n",
    "#         print(number)\n",
    "#         print(m.get(\"currapp_ID_modified\")[\"ID_t3_EL\"])"
   ]
  },
  {
   "cell_type": "code",
   "execution_count": 44,
   "metadata": {},
   "outputs": [],
   "source": [
    "#Replace current applications (modified) with the ones we ended with for now:\n",
    "db = DataBase.GPM_database()\n",
    "db[\"currapp_ID_modified\"] = m.get(\"currapp_ID\").copy()\n",
    "m.model.database.merge_dbs(m.model.database, db, 'second')"
   ]
  },
  {
   "cell_type": "code",
   "execution_count": 45,
   "metadata": {},
   "outputs": [],
   "source": [
    "m.reset_settings()"
   ]
  },
  {
   "cell_type": "code",
   "execution_count": 46,
   "metadata": {},
   "outputs": [],
   "source": [
    "m.setstate(\"EOPcalibrate\")"
   ]
  },
  {
   "cell_type": "code",
   "execution_count": 47,
   "metadata": {},
   "outputs": [
    {
     "name": "stdout",
     "output_type": "stream",
     "text": [
      "\n",
      "NPL problem solved successfully! The modelstat was 2.0\n"
     ]
    }
   ],
   "source": [
    "# m.model.settings.databases[\"Abatement_0\"][\"sigma\"].vals.loc[:] = 0.0001\n",
    "# m.model.settings.databases[\"Abatement_0\"][\"eta\"].vals.loc[:] = -0.0001\n",
    "#m.model.settings.databases[\"Abatement\"][\"sigma\"].vals[condition] = 0.2\n",
    "#m.write_and_run(options_run={'output':sys.stdout})\n",
    "m.write_and_run(name=\"calib\", overwrite=True)\n",
    "if m.model_instances[\"calib\"].modelstat == 2.0:\n",
    "    print(\"\\nNPL problem solved successfully! The modelstat was 2.0\")\n",
    "else:\n",
    "    print(\"Failed, loser\")"
   ]
  },
  {
   "cell_type": "code",
   "execution_count": 48,
   "metadata": {},
   "outputs": [
    {
     "data": {
      "text/plain": [
       "'C:\\\\Users\\\\zgr679\\\\Documents\\\\GitHub\\\\GPM_v05\\\\examples\\\\Abatement\\\\Data\\\\..\\\\gamsmodels\\\\Main\\\\gmspython_Abatement'"
      ]
     },
     "execution_count": 48,
     "metadata": {},
     "output_type": "execute_result"
    }
   ],
   "source": [
    "m.export()"
   ]
  },
  {
   "cell_type": "code",
   "execution_count": null,
   "metadata": {},
   "outputs": [],
   "source": []
  }
 ],
 "metadata": {
  "kernelspec": {
   "display_name": "Python 3",
   "language": "python",
   "name": "python3"
  },
  "language_info": {
   "codemirror_mode": {
    "name": "ipython",
    "version": 3
   },
   "file_extension": ".py",
   "mimetype": "text/x-python",
   "name": "python",
   "nbconvert_exporter": "python",
   "pygments_lexer": "ipython3",
   "version": "3.7.9"
  }
 },
 "nbformat": 4,
 "nbformat_minor": 4
}
