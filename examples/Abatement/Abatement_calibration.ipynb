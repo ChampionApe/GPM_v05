{
 "cells": [
  {
   "cell_type": "markdown",
   "metadata": {},
   "source": [
    "### Load packages etc, and load the child-class of gmspython, \"Abatement\", and load \"techdata_to_tree\" which converts a technology catalog into production trees"
   ]
  },
  {
   "cell_type": "code",
   "execution_count": 1,
   "metadata": {},
   "outputs": [
    {
     "name": "stdout",
     "output_type": "stream",
     "text": [
      "The file_gams_py_gdb1.gdx is still active and was not deleted.\n"
     ]
    }
   ],
   "source": [
    "clean_up=True # removes gams-related files in work-folder if true\n",
    "%run StdPackages.ipynb\n",
    "os.chdir(py['main'])\n",
    "import abatement, sys, ShockFunction\n",
    "os.chdir(curr)\n",
    "data_folder = os.getcwd()+'\\\\Data'\n",
    "gams_folder = data_folder + \"\\\\..\\\\gamsmodels\\\\Main\"\n",
    "# pickle_path = "
   ]
  },
  {
   "cell_type": "code",
   "execution_count": 2,
   "metadata": {},
   "outputs": [],
   "source": [
    "m = abatement.abate(pickle_path=gams_folder+\"/gmspython_Abatement\", work_folder=work_folder)"
   ]
  },
  {
   "cell_type": "code",
   "execution_count": 3,
   "metadata": {},
   "outputs": [],
   "source": [
    "m.initialize_variables()"
   ]
  },
  {
   "cell_type": "code",
   "execution_count": 4,
   "metadata": {},
   "outputs": [],
   "source": [
    "m.use_EOP = True"
   ]
  },
  {
   "cell_type": "code",
   "execution_count": 5,
   "metadata": {},
   "outputs": [],
   "source": [
    "m.add_blocks()"
   ]
  },
  {
   "cell_type": "code",
   "execution_count": 6,
   "metadata": {},
   "outputs": [
    {
     "data": {
      "text/plain": [
       "{'M_Abatement_EOP',\n",
       " 'M_Abatement_emissionaccounts',\n",
       " 'M_Abatement_simplesumU',\n",
       " 'M_Abatement_simplesumX_EOP',\n",
       " 'M_EOP_CU',\n",
       " 'M_EOP_TU',\n",
       " 'M_EOP_TX',\n",
       " 'M_ID_CU',\n",
       " 'M_ID_EC',\n",
       " 'M_ID_IOCU',\n",
       " 'M_ID_IOX',\n",
       " 'M_ID_TU',\n",
       " 'M_ID_TX',\n",
       " 'M_ID_UbaseX'}"
      ]
     },
     "execution_count": 6,
     "metadata": {},
     "output_type": "execute_result"
    }
   ],
   "source": [
    "m.mblocks"
   ]
  },
  {
   "cell_type": "code",
   "execution_count": 3,
   "metadata": {},
   "outputs": [],
   "source": [
    "m.use_EOP = True"
   ]
  },
  {
   "cell_type": "code",
   "execution_count": 8,
   "metadata": {},
   "outputs": [
    {
     "ename": "TypeError",
     "evalue": "unhashable type: 'set'",
     "output_type": "error",
     "traceback": [
      "\u001b[1;31m---------------------------------------------------------------------------\u001b[0m",
      "\u001b[1;31mTypeError\u001b[0m                                 Traceback (most recent call last)",
      "\u001b[1;32m<ipython-input-8-8eb59319fd72>\u001b[0m in \u001b[0;36m<module>\u001b[1;34m\u001b[0m\n\u001b[1;32m----> 1\u001b[1;33m \u001b[0mm\u001b[0m\u001b[1;33m.\u001b[0m\u001b[0mmblocks\u001b[0m\u001b[1;33m\u001b[0m\u001b[1;33m\u001b[0m\u001b[0m\n\u001b[0m",
      "\u001b[1;32m~\\Documents\\GitHub\\GPM_v05\\py_main\\abatement.py\u001b[0m in \u001b[0;36mmblocks\u001b[1;34m(self)\u001b[0m\n\u001b[0;32m    247\u001b[0m                 \u001b[1;32mif\u001b[0m \u001b[0mself\u001b[0m\u001b[1;33m.\u001b[0m\u001b[0mstate\u001b[0m \u001b[1;33m==\u001b[0m \u001b[1;34m\"calibrate\"\u001b[0m\u001b[1;33m:\u001b[0m\u001b[1;33m\u001b[0m\u001b[1;33m\u001b[0m\u001b[0m\n\u001b[0;32m    248\u001b[0m                         \u001b[0mblocks\u001b[0m \u001b[1;33m+=\u001b[0m \u001b[1;33m[\u001b[0m\u001b[1;34mf\"M_{self.model.settings.name}_minobj\"\u001b[0m\u001b[1;33m]\u001b[0m\u001b[1;33m\u001b[0m\u001b[1;33m\u001b[0m\u001b[0m\n\u001b[1;32m--> 249\u001b[1;33m                 \u001b[1;32mreturn\u001b[0m \u001b[0mset\u001b[0m\u001b[1;33m(\u001b[0m\u001b[0mblocks\u001b[0m\u001b[1;33m)\u001b[0m\u001b[1;33m\u001b[0m\u001b[1;33m\u001b[0m\u001b[0m\n\u001b[0m\u001b[0;32m    250\u001b[0m \u001b[1;33m\u001b[0m\u001b[0m\n\u001b[0;32m    251\u001b[0m         \u001b[1;32mdef\u001b[0m \u001b[0minit_simplesumU\u001b[0m\u001b[1;33m(\u001b[0m\u001b[0mself\u001b[0m\u001b[1;33m,\u001b[0m\u001b[0mmodule\u001b[0m\u001b[1;33m=\u001b[0m\u001b[1;34m\"ID\"\u001b[0m\u001b[1;33m)\u001b[0m\u001b[1;33m:\u001b[0m\u001b[1;33m\u001b[0m\u001b[1;33m\u001b[0m\u001b[0m\n",
      "\u001b[1;31mTypeError\u001b[0m: unhashable type: 'set'"
     ]
    }
   ],
   "source": [
    "m.mblocks"
   ]
  },
  {
   "cell_type": "code",
   "execution_count": 6,
   "metadata": {},
   "outputs": [
    {
     "ename": "TypeError",
     "evalue": "unhashable type: 'set'",
     "output_type": "error",
     "traceback": [
      "\u001b[1;31m---------------------------------------------------------------------------\u001b[0m",
      "\u001b[1;31mTypeError\u001b[0m                                 Traceback (most recent call last)",
      "\u001b[1;32m<ipython-input-6-8eb59319fd72>\u001b[0m in \u001b[0;36m<module>\u001b[1;34m\u001b[0m\n\u001b[1;32m----> 1\u001b[1;33m \u001b[0mm\u001b[0m\u001b[1;33m.\u001b[0m\u001b[0mmblocks\u001b[0m\u001b[1;33m\u001b[0m\u001b[1;33m\u001b[0m\u001b[0m\n\u001b[0m",
      "\u001b[1;32m~\\Documents\\GitHub\\GPM_v05\\py_main\\abatement.py\u001b[0m in \u001b[0;36mmblocks\u001b[1;34m(self)\u001b[0m\n\u001b[0;32m    247\u001b[0m                 \u001b[1;32mif\u001b[0m \u001b[0mself\u001b[0m\u001b[1;33m.\u001b[0m\u001b[0mstate\u001b[0m \u001b[1;33m==\u001b[0m \u001b[1;34m\"calibrate\"\u001b[0m\u001b[1;33m:\u001b[0m\u001b[1;33m\u001b[0m\u001b[1;33m\u001b[0m\u001b[0m\n\u001b[0;32m    248\u001b[0m                         \u001b[0mblocks\u001b[0m \u001b[1;33m+=\u001b[0m \u001b[1;33m[\u001b[0m\u001b[1;34mf\"M_{self.model.settings.name}_minobj\"\u001b[0m\u001b[1;33m]\u001b[0m\u001b[1;33m\u001b[0m\u001b[1;33m\u001b[0m\u001b[0m\n\u001b[1;32m--> 249\u001b[1;33m                 \u001b[1;32mreturn\u001b[0m \u001b[0mset\u001b[0m\u001b[1;33m(\u001b[0m\u001b[0mblocks\u001b[0m\u001b[1;33m)\u001b[0m\u001b[1;33m\u001b[0m\u001b[1;33m\u001b[0m\u001b[0m\n\u001b[0m\u001b[0;32m    250\u001b[0m \u001b[1;33m\u001b[0m\u001b[0m\n\u001b[0;32m    251\u001b[0m         \u001b[1;32mdef\u001b[0m \u001b[0minit_simplesumU\u001b[0m\u001b[1;33m(\u001b[0m\u001b[0mself\u001b[0m\u001b[1;33m,\u001b[0m\u001b[0mmodule\u001b[0m\u001b[1;33m=\u001b[0m\u001b[1;34m\"ID\"\u001b[0m\u001b[1;33m)\u001b[0m\u001b[1;33m:\u001b[0m\u001b[1;33m\u001b[0m\u001b[1;33m\u001b[0m\u001b[0m\n",
      "\u001b[1;31mTypeError\u001b[0m: unhashable type: 'set'"
     ]
    }
   ],
   "source": [
    "m.mblocks"
   ]
  },
  {
   "cell_type": "code",
   "execution_count": 9,
   "metadata": {},
   "outputs": [],
   "source": [
    "m.model.functions = {\"std_pdf\":\"$FUNCTION std_pdf({x}): ((1/(sqrt(2*Pi)))*exp(-(Sqr({x}))/2)) $ENDFUNCTION\"}"
   ]
  },
  {
   "cell_type": "code",
   "execution_count": 17,
   "metadata": {},
   "outputs": [
    {
     "name": "stdout",
     "output_type": "stream",
     "text": [
      "{'M_ID_EC': 'E_zp_out_ID_EC[n]$(ID_out_ID_EC[n])..\\tPbT[n]*qS[n] =E= sum(nn$(map_ID_EC[nn,n]), qD[nn]*PwThat[nn]);\\n\\tE_zp_nout_ID_EC[n]$(kno_no_ID_EC[n])..\\tPwThat[n]*qD[n] =E= sum(nn$(map_ID_EC[nn,n]), qD[nn]*PwThat[nn]);\\n\\tE_q_out_ID_EC[n]$(bra_o_ID_EC[n])..\\tqD[n] =E= sum(nn$(map_ID_EC[n,nn]), mu[n,nn] * (PbT[nn]/PwThat[n])**(sigma[nn]) * qS[nn] / sum(nnn$(map_ID_EC[nnn,nn]), mu[nnn,nn] * (PbT[nn]/PwThat[nnn])**(sigma[nn])));\\n\\tE_q_nout_ID_EC[n]$(bra_no_ID_EC[n])..\\tqD[n] =E= sum(nn$(map_ID_EC[n,nn]), mu[n,nn] * (PwThat[nn]/PwThat[n])**(sigma[nn]) * qD[nn] / sum(nnn$(map_ID_EC[nnn,nn]), mu[nnn,nn] * (PwThat[nn]/PwThat[nnn])**(sigma[nn])));', 'M_ID_CU': 'E_zp_out_ID_CU[n]$(ID_out_ID_CU[n])..\\tPbT[n]*qS[n] =E= sum(nn$(map_ID_CU[nn,n]), qD[nn]*PwThat[nn]);\\n\\tE_zp_nout_ID_CU[n]$(kno_no_ID_CU[n])..\\tPwThat[n]*qD[n] =E= sum(nn$(map_ID_CU[nn,n]), qD[nn]*PwThat[nn]);\\n\\tE_q_out_ID_CU[n]$(bra_o_ID_CU[n])..\\tqD[n] =E= sum(nn$(map_ID_CU[n,nn]), mu[n,nn] * exp((PbT[nn]-PwThat[n])*sigma[nn]) * qS[nn]/ sum(nnn$(map_ID_CU[nnn,nn]), mu[nnn,nn]*exp((PbT[nn]-PwThat[nnn])*sigma[nn])));\\n\\tE_q_nout_ID_CU[n]$(bra_no_ID_CU[n])..\\tqD[n] =E= sum(nn$(map_ID_CU[n,nn]), mu[n,nn] * exp((PwThat[nn]-PwThat[n])*sigma[nn]) * qD[nn]/ sum(nnn$(map_ID_CU[nnn,nn]), mu[nnn,nn]*exp((PwThat[nn]-PwThat[nnn])*sigma[nn])));', 'M_ID_TU': 'E_zp_ID_TU[n]$(kno_ID_TU[n])..\\tPwThat[n]*qD[n] =E= sum(nn$(map_ID_TU[nn,n] and ID_out[nn]), qS[nn]*PbT[nn])+sum(nn$(map_ID_TU[nn,n] and not ID_out[nn]), qD[nn]*PwThat[nn]);\\n\\tE_q_out_ID_TU[n]$(bra_o_ID_TU[n])..\\tqS[n] =E= sum(nn$(map_ID_TU[n,nn]), mu[n,nn] * (PbT[n]/PwThat[nn])**(-eta[nn]) * qD[nn]/(sum(nnn$(map_ID_TU[nnn,nn] and ID_out[nnn]), mu[nnn,nn]*(PbT[nnn]/PwThat[nn])**(-eta[nn]))+sum(nnn$(map_ID_TU[nnn,nn] and not ID_out[nnn]), mu[nnn,nn]*(PwThat[nnn]/PwThat[nn])**(-eta[nn]))));\\n\\tE_q_nout_ID_TU[n]$(bra_no_ID_TU[n])..\\tqD[n] =E= sum(nn$(map_ID_TU[n,nn]), mu[n,nn] * (PwThat[n]/PwThat[nn])**(-eta[nn]) * qD[nn]/(sum(nnn$(map_ID_TU[nnn,nn] and ID_out[nnn]), mu[nnn,nn]*(PbT[nnn]/PwThat[nn])**(-eta[nn]))+sum(nnn$(map_ID_TU[nnn,nn] and not ID_out[nnn]), mu[nnn,nn]*(PwThat[nnn]/PwThat[nn])**(-eta[nn]))));', 'M_ID_TX': 'E_zp_out_ID_TX[n]$(ID_out_ID_TX[n])..\\tPbT[n]*qS[n] =E= sum(nn$(map_ID_TX[nn,n]), qD[nn]*PwThat[nn]);\\n\\tE_zp_nout_ID_TX[n]$(kno_no_ID_TX[n])..\\tPwThat[n]*qD[n] =E= sum(nn$(map_ID_TX[nn,n]), qD[nn]*PwThat[nn]);\\n\\tE_q_out_ID_TX[n]$(bra_o_ID_TX[n])..\\tqD[n] =E= sum(nn$(map_ID_TX[n,nn]), mu[n,nn] * (PbT[nn]/PwThat[n])**(sigma[nn]) * qS[nn]);\\n\\tE_q_nout_ID_TX[n]$(bra_no_ID_TX[n])..\\tqD[n] =E= sum(nn$(map_ID_TX[n,nn]), mu[n,nn] * (PwThat[nn]/PwThat[n])**(sigma[nn]) * qD[nn]);', 'M_ID_IOCU': 'E_zp_ID_IOCU[n]$(kno_ID_IOCU[n])..\\tPwThat[n]*qD[n] =E= sum(nn$(map_ID_IOCU[nn,n] and ID_out[nn]), qS[nn]*PbT[nn])+sum(nn$(map_ID_IOCU[nn,n] and not ID_out[nn]), qD[nn]*PwThat[nn]);\\n\\tE_q_out_ID_IOCU[n]$(bra_o_ID_IOCU[n])..\\tqS[n] =E= sum(nn$(map_ID_IOCU[n,nn]), mu[n,nn] * (PbT[n]/PwThat[nn])**(-eta[nn]) * qD[nn]/(sum(nnn$(map_ID_IOCU[nnn,nn] and ID_out[nnn]), mu[nnn,nn]*(PbT[nnn]/PwThat[nn])**(-eta[nn]))+sum(nnn$(map_ID_IOCU[nnn,nn] and not ID_out[nnn]), mu[nnn,nn]*(PwThat[nnn]/PwThat[nn])**(-eta[nn]))));\\n\\tE_q_nout_ID_IOCU[n]$(bra_no_ID_IOCU[n])..\\tqD[n] =E= sum(nn$(map_ID_IOCU[n,nn]), mu[n,nn] * (PwThat[n]/PwThat[nn])**(-eta[nn]) * qD[nn]/(sum(nnn$(map_ID_IOCU[nnn,nn] and ID_out[nnn]), mu[nnn,nn]*(PbT[nnn]/PwThat[nn])**(-eta[nn]))+sum(nnn$(map_ID_IOCU[nnn,nn] and not ID_out[nnn]), mu[nnn,nn]*(PwThat[nnn]/PwThat[nn])**(-eta[nn]))));', 'M_ID_IOX': 'E_zp_out_ID_IOX[n]$(ID_out_ID_IOX[n])..\\tPbT[n]*qS[n] =E= sum(nn$(map_ID_IOX[nn,n]), qD[nn]*PwThat[nn]);\\n\\tE_zp_nout_ID_IOX[n]$(kno_no_ID_IOX[n])..\\tPwThat[n]*qD[n] =E= sum(nn$(map_ID_IOX[nn,n]), qD[nn]*PwThat[nn]);\\n\\tE_q_out_ID_IOX[n]$(bra_o_ID_IOX[n])..\\tqD[n] =E= sum(nn$(map_ID_IOX[n,nn]), mu[n,nn] * (PbT[nn]/PwThat[n])**(sigma[nn]) * qS[nn]);\\n\\tE_q_nout_ID_IOX[n]$(bra_no_ID_IOX[n])..\\tqD[n] =E= sum(nn$(map_ID_IOX[n,nn]), mu[n,nn] * (PwThat[nn]/PwThat[n])**(sigma[nn]) * qD[nn]);', 'M_ID_UbaseX': 'E_zp_out_ID_UbaseX[n]$(ID_out_ID_UbaseX[n])..\\tPbT[n]*qS[n] =E= sum(nn$(map_ID_UbaseX[nn,n]), qD[nn]*PwThat[nn]);\\n\\tE_zp_nout_ID_UbaseX[n]$(kno_no_ID_UbaseX[n])..\\tPwThat[n]*qD[n] =E= sum(nn$(map_ID_UbaseX[nn,n]), qD[nn]*PwThat[nn]);\\n\\tE_q_out_ID_UbaseX[n]$(bra_o_ID_UbaseX[n])..\\tqD[n] =E= sum(nn$(map_ID_UbaseX[n,nn]), mu[n,nn] * (PbT[nn]/PwThat[n])**(sigma[nn]) * qS[nn]);\\n\\tE_q_nout_ID_UbaseX[n]$(bra_no_ID_UbaseX[n])..\\tqD[n] =E= sum(nn$(map_ID_UbaseX[n,nn]), mu[n,nn] * (PwThat[nn]/PwThat[n])**(sigma[nn]) * qD[nn]);', 'M_Abatement_simplesum': 'E_sumU_ID[n]$(ID_sumUaggs[n])..\\tqsumU[n] =E= sum(nn$(ID_sumU2U[n,nn]), qD[nn]);\\n\\tE_sumX_ID[n]$(ID_sumXaggs[n])..\\tqsumX[n] =E= sum(nn$(ID_sumX2X[n,nn]), qD[nn]);', 'M_Abatement_emissionaccounts': 'E_preabatementM_emission_accounts[n]$(M_subset[n])..\\tM0[n] =E= sum(nn$(ID_sumXaggs[nn]), phi[n,nn]*qsumX[nn]);\\n\\tE_adjusted_inputprice_emission_accounts[n]$(ID_inp[n])..\\tPwThat[n] =E= PwT[n] + sum(nn$(map_M2X[nn,n]), phi[nn,n] * pMhat[nn]);'}\n"
     ]
    }
   ],
   "source": [
    "print(m.blocktext)"
   ]
  },
  {
   "cell_type": "code",
   "execution_count": 11,
   "metadata": {},
   "outputs": [
    {
     "data": {
      "text/plain": [
       "{'ID_EC': {'name': 'ID_EC',\n",
       "  'type_io': 'input',\n",
       "  'version': 'std',\n",
       "  'n': 'n',\n",
       "  'nn': 'nn',\n",
       "  'nnn': 'nnn',\n",
       "  'map_': 'map_ID_EC',\n",
       "  'temp_namespace': None,\n",
       "  'type_f': 'CES_norm',\n",
       "  'tree_out': 'ID_out_ID_EC',\n",
       "  'knots': 'kno_ID_EC',\n",
       "  'kno_no': 'kno_no_ID_EC',\n",
       "  'bra_o': 'bra_o_ID_EC',\n",
       "  'bra_no': 'bra_no_ID_EC'},\n",
       " 'ID_CU': {'name': 'ID_CU',\n",
       "  'type_io': 'input',\n",
       "  'version': 'std',\n",
       "  'n': 'n',\n",
       "  'nn': 'nn',\n",
       "  'nnn': 'nnn',\n",
       "  'map_': 'map_ID_CU',\n",
       "  'temp_namespace': None,\n",
       "  'type_f': 'MNL',\n",
       "  'tree_out': 'ID_out_ID_CU',\n",
       "  'knots': 'kno_ID_CU',\n",
       "  'kno_no': 'kno_no_ID_CU',\n",
       "  'bra_o': 'bra_o_ID_CU',\n",
       "  'bra_no': 'bra_no_ID_CU'},\n",
       " 'ID_TU': {'name': 'ID_TU',\n",
       "  'type_io': 'output',\n",
       "  'version': 'std',\n",
       "  'n': 'n',\n",
       "  'nn': 'nn',\n",
       "  'nnn': 'nnn',\n",
       "  'map_': 'map_ID_TU',\n",
       "  'temp_namespace': None,\n",
       "  'type_f': 'CET_norm',\n",
       "  'tree_out': 'ID_out_ID_TU',\n",
       "  'knots': 'kno_ID_TU',\n",
       "  'kno_no': 'kno_no_ID_TU',\n",
       "  'bra_o': 'bra_o_ID_TU',\n",
       "  'bra_no': 'bra_no_ID_TU'},\n",
       " 'ID_TX': {'name': 'ID_TX',\n",
       "  'type_io': 'input',\n",
       "  'version': 'std',\n",
       "  'n': 'n',\n",
       "  'nn': 'nn',\n",
       "  'nnn': 'nnn',\n",
       "  'map_': 'map_ID_TX',\n",
       "  'temp_namespace': None,\n",
       "  'type_f': 'CES',\n",
       "  'tree_out': 'ID_out_ID_TX',\n",
       "  'knots': 'kno_ID_TX',\n",
       "  'kno_no': 'kno_no_ID_TX',\n",
       "  'bra_o': 'bra_o_ID_TX',\n",
       "  'bra_no': 'bra_no_ID_TX'},\n",
       " 'ID_IOCU': {'name': 'ID_IOCU',\n",
       "  'type_io': 'output',\n",
       "  'version': 'std',\n",
       "  'n': 'n',\n",
       "  'nn': 'nn',\n",
       "  'nnn': 'nnn',\n",
       "  'map_': 'map_ID_IOCU',\n",
       "  'temp_namespace': None,\n",
       "  'type_f': 'CET_norm',\n",
       "  'tree_out': 'ID_out_ID_IOCU',\n",
       "  'knots': 'kno_ID_IOCU',\n",
       "  'kno_no': 'kno_no_ID_IOCU',\n",
       "  'bra_o': 'bra_o_ID_IOCU',\n",
       "  'bra_no': 'bra_no_ID_IOCU'},\n",
       " 'ID_IOX': {'name': 'ID_IOX',\n",
       "  'type_io': 'input',\n",
       "  'version': 'std',\n",
       "  'n': 'n',\n",
       "  'nn': 'nn',\n",
       "  'nnn': 'nnn',\n",
       "  'map_': 'map_ID_IOX',\n",
       "  'temp_namespace': None,\n",
       "  'type_f': 'CES',\n",
       "  'tree_out': 'ID_out_ID_IOX',\n",
       "  'knots': 'kno_ID_IOX',\n",
       "  'kno_no': 'kno_no_ID_IOX',\n",
       "  'bra_o': 'bra_o_ID_IOX',\n",
       "  'bra_no': 'bra_no_ID_IOX'},\n",
       " 'ID_UbaseX': {'name': 'ID_UbaseX',\n",
       "  'type_io': 'input',\n",
       "  'version': 'std',\n",
       "  'n': 'n',\n",
       "  'nn': 'nn',\n",
       "  'nnn': 'nnn',\n",
       "  'map_': 'map_ID_UbaseX',\n",
       "  'temp_namespace': None,\n",
       "  'type_f': 'CES',\n",
       "  'tree_out': 'ID_out_ID_UbaseX',\n",
       "  'knots': 'kno_ID_UbaseX',\n",
       "  'kno_no': 'kno_no_ID_UbaseX',\n",
       "  'bra_o': 'bra_o_ID_UbaseX',\n",
       "  'bra_no': 'bra_no_ID_UbaseX'},\n",
       " 'EOP_CU': {'name': 'EOP_CU',\n",
       "  'type_io': 'input',\n",
       "  'version': 'std',\n",
       "  'n': 'n',\n",
       "  'nn': 'nn',\n",
       "  'nnn': 'nnn',\n",
       "  'map_': 'map_EOP_CU',\n",
       "  'temp_namespace': None,\n",
       "  'type_f': 'CES',\n",
       "  'tree_out': 'EOP_out_EOP_CU',\n",
       "  'knots': 'kno_EOP_CU',\n",
       "  'kno_no': 'kno_no_EOP_CU',\n",
       "  'bra_o': 'bra_o_EOP_CU',\n",
       "  'bra_no': 'bra_no_EOP_CU'},\n",
       " 'EOP_TU': {'name': 'EOP_TU',\n",
       "  'type_io': 'output',\n",
       "  'version': 'std',\n",
       "  'n': 'n',\n",
       "  'nn': 'nn',\n",
       "  'nnn': 'nnn',\n",
       "  'map_': 'map_EOP_TU',\n",
       "  'temp_namespace': None,\n",
       "  'type_f': 'CET_norm',\n",
       "  'tree_out': 'EOP_out_EOP_TU',\n",
       "  'knots': 'kno_EOP_TU',\n",
       "  'kno_no': 'kno_no_EOP_TU',\n",
       "  'bra_o': 'bra_o_EOP_TU',\n",
       "  'bra_no': 'bra_no_EOP_TU'},\n",
       " 'EOP_TX': {'name': 'EOP_TX',\n",
       "  'type_io': 'input',\n",
       "  'version': 'std',\n",
       "  'n': 'n',\n",
       "  'nn': 'nn',\n",
       "  'nnn': 'nnn',\n",
       "  'map_': 'map_EOP_TX',\n",
       "  'temp_namespace': None,\n",
       "  'type_f': 'CES',\n",
       "  'tree_out': 'EOP_out_EOP_TX',\n",
       "  'knots': 'kno_EOP_TX',\n",
       "  'kno_no': 'kno_no_EOP_TX',\n",
       "  'bra_o': 'bra_o_EOP_TX',\n",
       "  'bra_no': 'bra_no_EOP_TX'}}"
      ]
     },
     "execution_count": 11,
     "metadata": {},
     "output_type": "execute_result"
    }
   ],
   "source": [
    "m.ns_local"
   ]
  },
  {
   "cell_type": "code",
   "execution_count": 10,
   "metadata": {},
   "outputs": [
    {
     "ename": "KeyError",
     "evalue": "('M_EOP_TU', ' is not a valid equation, block of equations, or model')",
     "output_type": "error",
     "traceback": [
      "\u001b[1;31m---------------------------------------------------------------------------\u001b[0m",
      "\u001b[1;31mKeyError\u001b[0m                                  Traceback (most recent call last)",
      "\u001b[1;32m<ipython-input-10-08a11aaeb865>\u001b[0m in \u001b[0;36m<module>\u001b[1;34m\u001b[0m\n\u001b[1;32m----> 1\u001b[1;33m \u001b[0mm\u001b[0m\u001b[1;33m.\u001b[0m\u001b[0mwrite_and_run\u001b[0m\u001b[1;33m(\u001b[0m\u001b[1;33m)\u001b[0m\u001b[1;33m\u001b[0m\u001b[1;33m\u001b[0m\u001b[0m\n\u001b[0m",
      "\u001b[1;32m~\\Documents\\GitHub\\GPM_v05\\py_main\\gmspython.py\u001b[0m in \u001b[0;36mwrite_and_run\u001b[1;34m(self, name, options_add, add_checkpoint, write, overwrite, kwargs_init, kwargs_groups, kwargs_blocks, kwargs_write)\u001b[0m\n\u001b[0;32m    174\u001b[0m                         \u001b[0mself\u001b[0m\u001b[1;33m.\u001b[0m\u001b[0mwrite\u001b[0m\u001b[1;33m(\u001b[0m\u001b[0mkwargs_init\u001b[0m\u001b[1;33m=\u001b[0m\u001b[0mkwargs_init\u001b[0m\u001b[1;33m,\u001b[0m\u001b[0mkwargs_groups\u001b[0m\u001b[1;33m=\u001b[0m\u001b[0mkwargs_groups\u001b[0m\u001b[1;33m,\u001b[0m\u001b[0mkwargs_blocks\u001b[0m\u001b[1;33m=\u001b[0m\u001b[0mkwargs_blocks\u001b[0m\u001b[1;33m)\u001b[0m\u001b[1;33m\u001b[0m\u001b[1;33m\u001b[0m\u001b[0m\n\u001b[0;32m    175\u001b[0m                 \u001b[1;33m[\u001b[0m\u001b[0mdb\u001b[0m\u001b[1;33m.\u001b[0m\u001b[0mmerge_internal\u001b[0m\u001b[1;33m(\u001b[0m\u001b[1;33m)\u001b[0m \u001b[1;32mfor\u001b[0m \u001b[0mdb\u001b[0m \u001b[1;32min\u001b[0m \u001b[0mself\u001b[0m\u001b[1;33m.\u001b[0m\u001b[0mmodel\u001b[0m\u001b[1;33m.\u001b[0m\u001b[0msettings\u001b[0m\u001b[1;33m.\u001b[0m\u001b[0mdatabases\u001b[0m\u001b[1;33m.\u001b[0m\u001b[0mvalues\u001b[0m\u001b[1;33m(\u001b[0m\u001b[1;33m)\u001b[0m\u001b[1;33m]\u001b[0m\u001b[1;33m;\u001b[0m\u001b[1;33m\u001b[0m\u001b[1;33m\u001b[0m\u001b[0m\n\u001b[1;32m--> 176\u001b[1;33m                 \u001b[0mself\u001b[0m\u001b[1;33m.\u001b[0m\u001b[0mrun\u001b[0m\u001b[1;33m(\u001b[0m\u001b[0mname\u001b[0m\u001b[1;33m,\u001b[0m\u001b[0moptions_add\u001b[0m\u001b[1;33m=\u001b[0m\u001b[0moptions_add\u001b[0m\u001b[1;33m,\u001b[0m\u001b[0madd_checkpoint\u001b[0m\u001b[1;33m=\u001b[0m\u001b[0madd_checkpoint\u001b[0m\u001b[1;33m,\u001b[0m\u001b[0mkwargs_db\u001b[0m\u001b[1;33m=\u001b[0m\u001b[1;33m{\u001b[0m\u001b[1;34m'name'\u001b[0m\u001b[1;33m:\u001b[0m\u001b[0mname\u001b[0m\u001b[1;33m}\u001b[0m\u001b[1;33m,\u001b[0m\u001b[0moverwrite\u001b[0m\u001b[1;33m=\u001b[0m\u001b[0moverwrite\u001b[0m\u001b[1;33m,\u001b[0m\u001b[0mkwargs_write\u001b[0m\u001b[1;33m=\u001b[0m\u001b[0mkwargs_write\u001b[0m\u001b[1;33m)\u001b[0m\u001b[1;33m\u001b[0m\u001b[1;33m\u001b[0m\u001b[0m\n\u001b[0m\u001b[0;32m    177\u001b[0m \u001b[1;33m\u001b[0m\u001b[0m\n\u001b[0;32m    178\u001b[0m         \u001b[1;32mdef\u001b[0m \u001b[0mrun\u001b[0m\u001b[1;33m(\u001b[0m\u001b[0mself\u001b[0m\u001b[1;33m,\u001b[0m\u001b[0mname\u001b[0m\u001b[1;33m,\u001b[0m\u001b[0moptions_add\u001b[0m\u001b[1;33m=\u001b[0m\u001b[1;33m{\u001b[0m\u001b[1;33m}\u001b[0m\u001b[1;33m,\u001b[0m\u001b[0moptions_run\u001b[0m\u001b[1;33m=\u001b[0m\u001b[1;33m{\u001b[0m\u001b[1;33m}\u001b[0m\u001b[1;33m,\u001b[0m\u001b[0madd_checkpoint\u001b[0m\u001b[1;33m=\u001b[0m\u001b[1;32mFalse\u001b[0m\u001b[1;33m,\u001b[0m\u001b[0moverwrite\u001b[0m\u001b[1;33m=\u001b[0m\u001b[1;32mFalse\u001b[0m\u001b[1;33m,\u001b[0m\u001b[0mkwargs_db\u001b[0m\u001b[1;33m=\u001b[0m\u001b[1;33m{\u001b[0m\u001b[1;33m}\u001b[0m\u001b[1;33m,\u001b[0m\u001b[0mkwargs_write\u001b[0m\u001b[1;33m=\u001b[0m\u001b[1;33m{\u001b[0m\u001b[1;33m}\u001b[0m\u001b[1;33m)\u001b[0m\u001b[1;33m:\u001b[0m\u001b[1;33m\u001b[0m\u001b[1;33m\u001b[0m\u001b[0m\n",
      "\u001b[1;32m~\\Documents\\GitHub\\GPM_v05\\py_main\\gmspython.py\u001b[0m in \u001b[0;36mrun\u001b[1;34m(self, name, options_add, options_run, add_checkpoint, overwrite, kwargs_db, kwargs_write)\u001b[0m\n\u001b[0;32m    181\u001b[0m                         \u001b[0mself\u001b[0m\u001b[1;33m.\u001b[0m\u001b[0mcheckpoints\u001b[0m\u001b[1;33m[\u001b[0m\u001b[0madd_checkpoint\u001b[0m\u001b[1;33m]\u001b[0m \u001b[1;33m=\u001b[0m \u001b[0mself\u001b[0m\u001b[1;33m.\u001b[0m\u001b[0mmodel_instances\u001b[0m\u001b[1;33m[\u001b[0m\u001b[0mname\u001b[0m\u001b[1;33m]\u001b[0m\u001b[1;33m.\u001b[0m\u001b[0mws\u001b[0m\u001b[1;33m.\u001b[0m\u001b[0madd_checkpoint\u001b[0m\u001b[1;33m(\u001b[0m\u001b[1;33m)\u001b[0m\u001b[1;33m\u001b[0m\u001b[1;33m\u001b[0m\u001b[0m\n\u001b[0;32m    182\u001b[0m                         \u001b[0moptions_run\u001b[0m \u001b[1;33m=\u001b[0m \u001b[1;33m{\u001b[0m\u001b[1;33m**\u001b[0m\u001b[0moptions_run\u001b[0m\u001b[1;33m,\u001b[0m \u001b[1;33m**\u001b[0m\u001b[1;33m{\u001b[0m\u001b[1;34m'checkpoint'\u001b[0m\u001b[1;33m:\u001b[0m \u001b[0mself\u001b[0m\u001b[1;33m.\u001b[0m\u001b[0mcheckpoints\u001b[0m\u001b[1;33m[\u001b[0m\u001b[0madd_checkpoint\u001b[0m\u001b[1;33m]\u001b[0m\u001b[1;33m}\u001b[0m\u001b[1;33m}\u001b[0m\u001b[1;33m\u001b[0m\u001b[1;33m\u001b[0m\u001b[0m\n\u001b[1;32m--> 183\u001b[1;33m                 \u001b[0mself\u001b[0m\u001b[1;33m.\u001b[0m\u001b[0mmodel_instances\u001b[0m\u001b[1;33m[\u001b[0m\u001b[0mname\u001b[0m\u001b[1;33m]\u001b[0m\u001b[1;33m.\u001b[0m\u001b[0mrun\u001b[0m\u001b[1;33m(\u001b[0m\u001b[0moverwrite\u001b[0m\u001b[1;33m=\u001b[0m\u001b[0moverwrite\u001b[0m\u001b[1;33m,\u001b[0m\u001b[0mkwargs_write\u001b[0m\u001b[1;33m=\u001b[0m\u001b[0mkwargs_write\u001b[0m\u001b[1;33m,\u001b[0m\u001b[0moptions_add\u001b[0m \u001b[1;33m=\u001b[0m \u001b[0moptions_add\u001b[0m\u001b[1;33m,\u001b[0m \u001b[0moptions_run\u001b[0m \u001b[1;33m=\u001b[0m \u001b[0moptions_run\u001b[0m\u001b[1;33m,\u001b[0m\u001b[0mkwargs_db\u001b[0m\u001b[1;33m=\u001b[0m\u001b[0mkwargs_db\u001b[0m\u001b[1;33m)\u001b[0m\u001b[1;33m\u001b[0m\u001b[1;33m\u001b[0m\u001b[0m\n\u001b[0m\u001b[0;32m    184\u001b[0m \u001b[1;33m\u001b[0m\u001b[0m\n\u001b[0;32m    185\u001b[0m         \u001b[1;32mdef\u001b[0m \u001b[0mmodel_instance\u001b[0m\u001b[1;33m(\u001b[0m\u001b[0mself\u001b[0m\u001b[1;33m,\u001b[0m\u001b[0mname\u001b[0m\u001b[1;33m=\u001b[0m\u001b[1;34m'temp'\u001b[0m\u001b[1;33m)\u001b[0m\u001b[1;33m:\u001b[0m\u001b[1;33m\u001b[0m\u001b[1;33m\u001b[0m\u001b[0m\n",
      "\u001b[1;32m~\\Documents\\GitHub\\GPM_v05\\py_main\\DB2Gams_l3.py\u001b[0m in \u001b[0;36mrun\u001b[1;34m(self, run_from_job, overwrite, kwargs_write, options_add, options_run, kwargs_db)\u001b[0m\n\u001b[0;32m     69\u001b[0m                 \u001b[1;32mif\u001b[0m \u001b[0mrun_from_job\u001b[0m \u001b[1;32mis\u001b[0m \u001b[1;32mFalse\u001b[0m\u001b[1;33m:\u001b[0m\u001b[1;33m\u001b[0m\u001b[1;33m\u001b[0m\u001b[0m\n\u001b[0;32m     70\u001b[0m                         \u001b[0mself\u001b[0m\u001b[1;33m.\u001b[0m\u001b[0mmodel_instance\u001b[0m\u001b[1;33m(\u001b[0m\u001b[0moverwrite\u001b[0m\u001b[1;33m=\u001b[0m\u001b[0moverwrite\u001b[0m\u001b[1;33m,\u001b[0m\u001b[1;33m**\u001b[0m\u001b[0mkwargs_write\u001b[0m\u001b[1;33m)\u001b[0m\u001b[1;33m\u001b[0m\u001b[1;33m\u001b[0m\u001b[0m\n\u001b[1;32m---> 71\u001b[1;33m                         \u001b[0mself\u001b[0m\u001b[1;33m.\u001b[0m\u001b[0madd_job\u001b[0m\u001b[1;33m(\u001b[0m\u001b[0moptions_add\u001b[0m\u001b[1;33m)\u001b[0m\u001b[1;33m\u001b[0m\u001b[1;33m\u001b[0m\u001b[0m\n\u001b[0m\u001b[0;32m     72\u001b[0m                 \u001b[0mself\u001b[0m\u001b[1;33m.\u001b[0m\u001b[0mrun_job\u001b[0m\u001b[1;33m(\u001b[0m\u001b[0moptions_run\u001b[0m\u001b[1;33m)\u001b[0m\u001b[1;33m\u001b[0m\u001b[1;33m\u001b[0m\u001b[0m\n\u001b[0;32m     73\u001b[0m                 \u001b[0mself\u001b[0m\u001b[1;33m.\u001b[0m\u001b[0mout_db\u001b[0m \u001b[1;33m=\u001b[0m \u001b[0mDataBase\u001b[0m\u001b[1;33m.\u001b[0m\u001b[0mGPM_database\u001b[0m\u001b[1;33m(\u001b[0m\u001b[0mworkspace\u001b[0m\u001b[1;33m=\u001b[0m\u001b[0mself\u001b[0m\u001b[1;33m.\u001b[0m\u001b[0msettings\u001b[0m\u001b[1;33m.\u001b[0m\u001b[0mws\u001b[0m\u001b[1;33m,\u001b[0m\u001b[0mdb\u001b[0m\u001b[1;33m=\u001b[0m\u001b[0mself\u001b[0m\u001b[1;33m.\u001b[0m\u001b[0mjob\u001b[0m\u001b[1;33m.\u001b[0m\u001b[0mout_db\u001b[0m\u001b[1;33m,\u001b[0m\u001b[1;33m**\u001b[0m\u001b[0mkwargs_db\u001b[0m\u001b[1;33m)\u001b[0m\u001b[1;33m\u001b[0m\u001b[1;33m\u001b[0m\u001b[0m\n",
      "\u001b[1;32m~\\Documents\\GitHub\\GPM_v05\\py_main\\DB2Gams_l3.py\u001b[0m in \u001b[0;36madd_job\u001b[1;34m(self, options)\u001b[0m\n\u001b[0;32m    100\u001b[0m                 \u001b[0musing\u001b[0m \u001b[0mPrecompiler\u001b[0m \u001b[1;32mfrom\u001b[0m \u001b[0mthe\u001b[0m \u001b[0mdreamtools\u001b[0m \u001b[0mpackage\u001b[0m\u001b[1;33m.\u001b[0m \u001b[0mThe\u001b[0m \u001b[0mGamsJob\u001b[0m \u001b[1;32mis\u001b[0m \u001b[0madded\u001b[0m \u001b[1;32mas\u001b[0m \u001b[0man\u001b[0m \u001b[0mattribute\u001b[0m \u001b[0mself\u001b[0m\u001b[1;33m.\u001b[0m\u001b[0mjob\u001b[0m\u001b[1;33m.\u001b[0m\u001b[1;33m\u001b[0m\u001b[1;33m\u001b[0m\u001b[0m\n\u001b[0;32m    101\u001b[0m \t\t\"\"\"\n\u001b[1;32m--> 102\u001b[1;33m                 \u001b[0mself\u001b[0m\u001b[1;33m.\u001b[0m\u001b[0mcompile_collect_file\u001b[0m\u001b[1;33m(\u001b[0m\u001b[1;33m)\u001b[0m\u001b[1;33m\u001b[0m\u001b[1;33m\u001b[0m\u001b[0m\n\u001b[0m\u001b[0;32m    103\u001b[0m                 \u001b[0mself\u001b[0m\u001b[1;33m.\u001b[0m\u001b[0mjob\u001b[0m \u001b[1;33m=\u001b[0m \u001b[0mself\u001b[0m\u001b[1;33m.\u001b[0m\u001b[0mws\u001b[0m\u001b[1;33m.\u001b[0m\u001b[0madd_job_from_file\u001b[0m\u001b[1;33m(\u001b[0m\u001b[0mself\u001b[0m\u001b[1;33m.\u001b[0m\u001b[0mwork_folder\u001b[0m\u001b[1;33m+\u001b[0m\u001b[1;34m'\\\\'\u001b[0m\u001b[1;33m+\u001b[0m\u001b[0mend_w_gms\u001b[0m\u001b[1;33m(\u001b[0m\u001b[0mself\u001b[0m\u001b[1;33m.\u001b[0m\u001b[0msettings\u001b[0m\u001b[1;33m.\u001b[0m\u001b[0mcollect_file\u001b[0m\u001b[1;33m)\u001b[0m\u001b[1;33m.\u001b[0m\u001b[0mreplace\u001b[0m\u001b[1;33m(\u001b[0m\u001b[1;34m'.gms'\u001b[0m\u001b[1;33m,\u001b[0m\u001b[1;34m'.gmy'\u001b[0m\u001b[1;33m)\u001b[0m\u001b[1;33m,\u001b[0m\u001b[1;33m**\u001b[0m\u001b[0moptions\u001b[0m\u001b[1;33m)\u001b[0m\u001b[1;33m\u001b[0m\u001b[1;33m\u001b[0m\u001b[0m\n\u001b[0;32m    104\u001b[0m                 \u001b[1;32mreturn\u001b[0m \u001b[0mself\u001b[0m\u001b[1;33m.\u001b[0m\u001b[0mjob\u001b[0m\u001b[1;33m\u001b[0m\u001b[1;33m\u001b[0m\u001b[0m\n",
      "\u001b[1;32m~\\Documents\\GitHub\\GPM_v05\\py_main\\DB2Gams_l3.py\u001b[0m in \u001b[0;36mcompile_collect_file\u001b[1;34m(self)\u001b[0m\n\u001b[0;32m    170\u001b[0m         \u001b[1;32mdef\u001b[0m \u001b[0mcompile_collect_file\u001b[0m\u001b[1;33m(\u001b[0m\u001b[0mself\u001b[0m\u001b[1;33m)\u001b[0m\u001b[1;33m:\u001b[0m\u001b[1;33m\u001b[0m\u001b[1;33m\u001b[0m\u001b[0m\n\u001b[0;32m    171\u001b[0m                 \u001b[1;32mwith\u001b[0m \u001b[0mopen\u001b[0m\u001b[1;33m(\u001b[0m\u001b[0mself\u001b[0m\u001b[1;33m.\u001b[0m\u001b[0mwork_folder\u001b[0m\u001b[1;33m+\u001b[0m\u001b[1;34m'\\\\'\u001b[0m\u001b[1;33m+\u001b[0m\u001b[0mend_w_gms\u001b[0m\u001b[1;33m(\u001b[0m\u001b[0mself\u001b[0m\u001b[1;33m.\u001b[0m\u001b[0msettings\u001b[0m\u001b[1;33m.\u001b[0m\u001b[0mcollect_file\u001b[0m\u001b[1;33m)\u001b[0m\u001b[1;33m.\u001b[0m\u001b[0mreplace\u001b[0m\u001b[1;33m(\u001b[0m\u001b[1;34m'.gms'\u001b[0m\u001b[1;33m,\u001b[0m\u001b[1;34m'.gmy'\u001b[0m\u001b[1;33m)\u001b[0m\u001b[1;33m,\u001b[0m \u001b[1;34m\"w\"\u001b[0m\u001b[1;33m)\u001b[0m \u001b[1;32mas\u001b[0m \u001b[0mfile\u001b[0m\u001b[1;33m:\u001b[0m\u001b[1;33m\u001b[0m\u001b[1;33m\u001b[0m\u001b[0m\n\u001b[1;32m--> 172\u001b[1;33m                         \u001b[0mfile\u001b[0m\u001b[1;33m.\u001b[0m\u001b[0mwrite\u001b[0m\u001b[1;33m(\u001b[0m\u001b[0mPrecompiler\u001b[0m\u001b[1;33m(\u001b[0m\u001b[0mself\u001b[0m\u001b[1;33m.\u001b[0m\u001b[0mwork_folder\u001b[0m\u001b[1;33m+\u001b[0m\u001b[1;34m'\\\\'\u001b[0m\u001b[1;33m+\u001b[0m\u001b[0mend_w_gms\u001b[0m\u001b[1;33m(\u001b[0m\u001b[0mself\u001b[0m\u001b[1;33m.\u001b[0m\u001b[0msettings\u001b[0m\u001b[1;33m.\u001b[0m\u001b[0mcollect_file\u001b[0m\u001b[1;33m)\u001b[0m\u001b[1;33m)\u001b[0m\u001b[1;33m(\u001b[0m\u001b[1;33m)\u001b[0m\u001b[1;33m)\u001b[0m\u001b[1;33m\u001b[0m\u001b[1;33m\u001b[0m\u001b[0m\n\u001b[0m\u001b[0;32m    173\u001b[0m                 \u001b[1;32mreturn\u001b[0m \u001b[0mself\u001b[0m\u001b[1;33m.\u001b[0m\u001b[0mwork_folder\u001b[0m\u001b[1;33m+\u001b[0m\u001b[1;34m'\\\\'\u001b[0m\u001b[1;33m+\u001b[0m\u001b[0mend_w_gms\u001b[0m\u001b[1;33m(\u001b[0m\u001b[0mself\u001b[0m\u001b[1;33m.\u001b[0m\u001b[0msettings\u001b[0m\u001b[1;33m.\u001b[0m\u001b[0mcollect_file\u001b[0m\u001b[1;33m)\u001b[0m\u001b[1;33m.\u001b[0m\u001b[0mreplace\u001b[0m\u001b[1;33m(\u001b[0m\u001b[1;34m'.gms'\u001b[0m\u001b[1;33m,\u001b[0m\u001b[1;34m'.gmy'\u001b[0m\u001b[1;33m)\u001b[0m\u001b[1;33m\u001b[0m\u001b[1;33m\u001b[0m\u001b[0m\n\u001b[0;32m    174\u001b[0m \u001b[1;33m\u001b[0m\u001b[0m\n",
      "\u001b[1;32m~\\AppData\\Local\\Continuum\\anaconda3\\lib\\site-packages\\dreamtools\\gamY\\gamY.py\u001b[0m in \u001b[0;36m__call__\u001b[1;34m(self)\u001b[0m\n\u001b[0;32m    248\u001b[0m       \u001b[0mtext\u001b[0m \u001b[1;33m=\u001b[0m \u001b[1;34m\"$ONEOLCOM\\n$EOLCOM #\\n\\n\"\u001b[0m \u001b[1;33m+\u001b[0m \u001b[0mtext\u001b[0m  \u001b[1;31m# Add option for # comments if this is the first file being run\u001b[0m\u001b[1;33m\u001b[0m\u001b[1;33m\u001b[0m\u001b[0m\n\u001b[0;32m    249\u001b[0m     \u001b[0mself\u001b[0m\u001b[1;33m.\u001b[0m\u001b[0mprocessed_text\u001b[0m \u001b[1;33m=\u001b[0m \u001b[1;34m\"\"\u001b[0m\u001b[1;33m\u001b[0m\u001b[1;33m\u001b[0m\u001b[0m\n\u001b[1;32m--> 250\u001b[1;33m     \u001b[0mtext\u001b[0m \u001b[1;33m=\u001b[0m \u001b[0mself\u001b[0m\u001b[1;33m.\u001b[0m\u001b[0mparse\u001b[0m\u001b[1;33m(\u001b[0m\u001b[0mtext\u001b[0m\u001b[1;33m,\u001b[0m \u001b[0mtop_level\u001b[0m\u001b[1;33m=\u001b[0m\u001b[1;32mTrue\u001b[0m\u001b[1;33m)\u001b[0m\u001b[1;33m\u001b[0m\u001b[1;33m\u001b[0m\u001b[0m\n\u001b[0m\u001b[0;32m    251\u001b[0m     \u001b[0mtext\u001b[0m \u001b[1;33m=\u001b[0m \u001b[0mself\u001b[0m\u001b[1;33m.\u001b[0m\u001b[0mprocessed_text\u001b[0m \u001b[1;33m+\u001b[0m \u001b[0mtext\u001b[0m\u001b[1;33m\u001b[0m\u001b[1;33m\u001b[0m\u001b[0m\n\u001b[0;32m    252\u001b[0m     \u001b[0mtext\u001b[0m \u001b[1;33m=\u001b[0m \u001b[0mself\u001b[0m\u001b[1;33m.\u001b[0m\u001b[0mdedent_dollar\u001b[0m\u001b[1;33m(\u001b[0m\u001b[0mtext\u001b[0m\u001b[1;33m)\u001b[0m\u001b[1;33m\u001b[0m\u001b[1;33m\u001b[0m\u001b[0m\n",
      "\u001b[1;32m~\\AppData\\Local\\Continuum\\anaconda3\\lib\\site-packages\\dreamtools\\gamY\\gamY.py\u001b[0m in \u001b[0;36mparse\u001b[1;34m(self, text, top_level)\u001b[0m\n\u001b[0;32m    270\u001b[0m           \u001b[0mtext\u001b[0m \u001b[1;33m=\u001b[0m \u001b[0mtext\u001b[0m\u001b[1;33m.\u001b[0m\u001b[0mreplace\u001b[0m\u001b[1;33m(\u001b[0m\u001b[0mmatch\u001b[0m\u001b[1;33m.\u001b[0m\u001b[0mgroup\u001b[0m\u001b[1;33m(\u001b[0m\u001b[1;36m0\u001b[0m\u001b[1;33m)\u001b[0m\u001b[1;33m,\u001b[0m \u001b[0mself\u001b[0m\u001b[1;33m.\u001b[0m\u001b[0mprocess_command\u001b[0m\u001b[1;33m(\u001b[0m\u001b[0mmatch\u001b[0m\u001b[1;33m.\u001b[0m\u001b[0mgroup\u001b[0m\u001b[1;33m(\u001b[0m\u001b[1;36m0\u001b[0m\u001b[1;33m)\u001b[0m\u001b[1;33m)\u001b[0m\u001b[1;33m,\u001b[0m \u001b[1;36m1\u001b[0m\u001b[1;33m)\u001b[0m\u001b[1;33m\u001b[0m\u001b[1;33m\u001b[0m\u001b[0m\n\u001b[0;32m    271\u001b[0m         \u001b[1;32melse\u001b[0m\u001b[1;33m:\u001b[0m\u001b[1;33m\u001b[0m\u001b[1;33m\u001b[0m\u001b[0m\n\u001b[1;32m--> 272\u001b[1;33m           \u001b[0mtext\u001b[0m \u001b[1;33m=\u001b[0m \u001b[0mtext\u001b[0m\u001b[1;33m.\u001b[0m\u001b[0mreplace\u001b[0m\u001b[1;33m(\u001b[0m\u001b[0mmatch\u001b[0m\u001b[1;33m.\u001b[0m\u001b[0mgroup\u001b[0m\u001b[1;33m(\u001b[0m\u001b[1;36m0\u001b[0m\u001b[1;33m)\u001b[0m\u001b[1;33m,\u001b[0m \u001b[0mself\u001b[0m\u001b[1;33m.\u001b[0m\u001b[0mparse\u001b[0m\u001b[1;33m(\u001b[0m\u001b[0mmatch\u001b[0m\u001b[1;33m.\u001b[0m\u001b[0mgroup\u001b[0m\u001b[1;33m(\u001b[0m\u001b[1;36m0\u001b[0m\u001b[1;33m)\u001b[0m\u001b[1;33m)\u001b[0m\u001b[1;33m,\u001b[0m \u001b[1;36m1\u001b[0m\u001b[1;33m)\u001b[0m  \u001b[1;31m# Recursively parse\u001b[0m\u001b[1;33m\u001b[0m\u001b[1;33m\u001b[0m\u001b[0m\n\u001b[0m\u001b[0;32m    273\u001b[0m       \u001b[1;32melse\u001b[0m\u001b[1;33m:\u001b[0m\u001b[1;33m\u001b[0m\u001b[1;33m\u001b[0m\u001b[0m\n\u001b[0;32m    274\u001b[0m         \u001b[1;32mreturn\u001b[0m \u001b[0mself\u001b[0m\u001b[1;33m.\u001b[0m\u001b[0mprocess_command\u001b[0m\u001b[1;33m(\u001b[0m\u001b[0mtext\u001b[0m\u001b[1;33m)\u001b[0m  \u001b[1;31m# Process commands when inner scope of recursion is reached\u001b[0m\u001b[1;33m\u001b[0m\u001b[1;33m\u001b[0m\u001b[0m\n",
      "\u001b[1;32m~\\AppData\\Local\\Continuum\\anaconda3\\lib\\site-packages\\dreamtools\\gamY\\gamY.py\u001b[0m in \u001b[0;36mparse\u001b[1;34m(self, text, top_level)\u001b[0m\n\u001b[0;32m    270\u001b[0m           \u001b[0mtext\u001b[0m \u001b[1;33m=\u001b[0m \u001b[0mtext\u001b[0m\u001b[1;33m.\u001b[0m\u001b[0mreplace\u001b[0m\u001b[1;33m(\u001b[0m\u001b[0mmatch\u001b[0m\u001b[1;33m.\u001b[0m\u001b[0mgroup\u001b[0m\u001b[1;33m(\u001b[0m\u001b[1;36m0\u001b[0m\u001b[1;33m)\u001b[0m\u001b[1;33m,\u001b[0m \u001b[0mself\u001b[0m\u001b[1;33m.\u001b[0m\u001b[0mprocess_command\u001b[0m\u001b[1;33m(\u001b[0m\u001b[0mmatch\u001b[0m\u001b[1;33m.\u001b[0m\u001b[0mgroup\u001b[0m\u001b[1;33m(\u001b[0m\u001b[1;36m0\u001b[0m\u001b[1;33m)\u001b[0m\u001b[1;33m)\u001b[0m\u001b[1;33m,\u001b[0m \u001b[1;36m1\u001b[0m\u001b[1;33m)\u001b[0m\u001b[1;33m\u001b[0m\u001b[1;33m\u001b[0m\u001b[0m\n\u001b[0;32m    271\u001b[0m         \u001b[1;32melse\u001b[0m\u001b[1;33m:\u001b[0m\u001b[1;33m\u001b[0m\u001b[1;33m\u001b[0m\u001b[0m\n\u001b[1;32m--> 272\u001b[1;33m           \u001b[0mtext\u001b[0m \u001b[1;33m=\u001b[0m \u001b[0mtext\u001b[0m\u001b[1;33m.\u001b[0m\u001b[0mreplace\u001b[0m\u001b[1;33m(\u001b[0m\u001b[0mmatch\u001b[0m\u001b[1;33m.\u001b[0m\u001b[0mgroup\u001b[0m\u001b[1;33m(\u001b[0m\u001b[1;36m0\u001b[0m\u001b[1;33m)\u001b[0m\u001b[1;33m,\u001b[0m \u001b[0mself\u001b[0m\u001b[1;33m.\u001b[0m\u001b[0mparse\u001b[0m\u001b[1;33m(\u001b[0m\u001b[0mmatch\u001b[0m\u001b[1;33m.\u001b[0m\u001b[0mgroup\u001b[0m\u001b[1;33m(\u001b[0m\u001b[1;36m0\u001b[0m\u001b[1;33m)\u001b[0m\u001b[1;33m)\u001b[0m\u001b[1;33m,\u001b[0m \u001b[1;36m1\u001b[0m\u001b[1;33m)\u001b[0m  \u001b[1;31m# Recursively parse\u001b[0m\u001b[1;33m\u001b[0m\u001b[1;33m\u001b[0m\u001b[0m\n\u001b[0m\u001b[0;32m    273\u001b[0m       \u001b[1;32melse\u001b[0m\u001b[1;33m:\u001b[0m\u001b[1;33m\u001b[0m\u001b[1;33m\u001b[0m\u001b[0m\n\u001b[0;32m    274\u001b[0m         \u001b[1;32mreturn\u001b[0m \u001b[0mself\u001b[0m\u001b[1;33m.\u001b[0m\u001b[0mprocess_command\u001b[0m\u001b[1;33m(\u001b[0m\u001b[0mtext\u001b[0m\u001b[1;33m)\u001b[0m  \u001b[1;31m# Process commands when inner scope of recursion is reached\u001b[0m\u001b[1;33m\u001b[0m\u001b[1;33m\u001b[0m\u001b[0m\n",
      "\u001b[1;32m~\\AppData\\Local\\Continuum\\anaconda3\\lib\\site-packages\\dreamtools\\gamY\\gamY.py\u001b[0m in \u001b[0;36mparse\u001b[1;34m(self, text, top_level)\u001b[0m\n\u001b[0;32m    272\u001b[0m           \u001b[0mtext\u001b[0m \u001b[1;33m=\u001b[0m \u001b[0mtext\u001b[0m\u001b[1;33m.\u001b[0m\u001b[0mreplace\u001b[0m\u001b[1;33m(\u001b[0m\u001b[0mmatch\u001b[0m\u001b[1;33m.\u001b[0m\u001b[0mgroup\u001b[0m\u001b[1;33m(\u001b[0m\u001b[1;36m0\u001b[0m\u001b[1;33m)\u001b[0m\u001b[1;33m,\u001b[0m \u001b[0mself\u001b[0m\u001b[1;33m.\u001b[0m\u001b[0mparse\u001b[0m\u001b[1;33m(\u001b[0m\u001b[0mmatch\u001b[0m\u001b[1;33m.\u001b[0m\u001b[0mgroup\u001b[0m\u001b[1;33m(\u001b[0m\u001b[1;36m0\u001b[0m\u001b[1;33m)\u001b[0m\u001b[1;33m)\u001b[0m\u001b[1;33m,\u001b[0m \u001b[1;36m1\u001b[0m\u001b[1;33m)\u001b[0m  \u001b[1;31m# Recursively parse\u001b[0m\u001b[1;33m\u001b[0m\u001b[1;33m\u001b[0m\u001b[0m\n\u001b[0;32m    273\u001b[0m       \u001b[1;32melse\u001b[0m\u001b[1;33m:\u001b[0m\u001b[1;33m\u001b[0m\u001b[1;33m\u001b[0m\u001b[0m\n\u001b[1;32m--> 274\u001b[1;33m         \u001b[1;32mreturn\u001b[0m \u001b[0mself\u001b[0m\u001b[1;33m.\u001b[0m\u001b[0mprocess_command\u001b[0m\u001b[1;33m(\u001b[0m\u001b[0mtext\u001b[0m\u001b[1;33m)\u001b[0m  \u001b[1;31m# Process commands when inner scope of recursion is reached\u001b[0m\u001b[1;33m\u001b[0m\u001b[1;33m\u001b[0m\u001b[0m\n\u001b[0m\u001b[0;32m    275\u001b[0m \u001b[1;33m\u001b[0m\u001b[0m\n\u001b[0;32m    276\u001b[0m   \u001b[1;32mdef\u001b[0m \u001b[0mround_parentheses\u001b[0m\u001b[1;33m(\u001b[0m\u001b[0mself\u001b[0m\u001b[1;33m,\u001b[0m \u001b[0mtext\u001b[0m\u001b[1;33m)\u001b[0m\u001b[1;33m:\u001b[0m\u001b[1;33m\u001b[0m\u001b[1;33m\u001b[0m\u001b[0m\n",
      "\u001b[1;32m~\\AppData\\Local\\Continuum\\anaconda3\\lib\\site-packages\\dreamtools\\gamY\\gamY.py\u001b[0m in \u001b[0;36mprocess_command\u001b[1;34m(self, text)\u001b[0m\n\u001b[0;32m    282\u001b[0m       \u001b[1;32mif\u001b[0m \u001b[0mmatch\u001b[0m\u001b[1;33m:\u001b[0m\u001b[1;33m\u001b[0m\u001b[1;33m\u001b[0m\u001b[0m\n\u001b[0;32m    283\u001b[0m         \u001b[1;31m#  print(\"***MATCH***\", command)\u001b[0m\u001b[1;33m\u001b[0m\u001b[1;33m\u001b[0m\u001b[1;33m\u001b[0m\u001b[0m\n\u001b[1;32m--> 284\u001b[1;33m         \u001b[0mtext\u001b[0m \u001b[1;33m=\u001b[0m \u001b[0mtext\u001b[0m\u001b[1;33m.\u001b[0m\u001b[0mreplace\u001b[0m\u001b[1;33m(\u001b[0m\u001b[0mmatch\u001b[0m\u001b[1;33m.\u001b[0m\u001b[0mgroup\u001b[0m\u001b[1;33m(\u001b[0m\u001b[1;36m0\u001b[0m\u001b[1;33m)\u001b[0m\u001b[1;33m,\u001b[0m \u001b[0mfunc\u001b[0m\u001b[1;33m(\u001b[0m\u001b[0mmatch\u001b[0m\u001b[1;33m,\u001b[0m \u001b[0mtext\u001b[0m\u001b[1;33m)\u001b[0m\u001b[1;33m,\u001b[0m \u001b[1;36m1\u001b[0m\u001b[1;33m)\u001b[0m\u001b[1;33m\u001b[0m\u001b[1;33m\u001b[0m\u001b[0m\n\u001b[0m\u001b[0;32m    285\u001b[0m     \u001b[1;32mreturn\u001b[0m \u001b[0mtext\u001b[0m\u001b[1;33m\u001b[0m\u001b[1;33m\u001b[0m\u001b[0m\n\u001b[0;32m    286\u001b[0m \u001b[1;33m\u001b[0m\u001b[0m\n",
      "\u001b[1;32m~\\AppData\\Local\\Continuum\\anaconda3\\lib\\site-packages\\dreamtools\\gamY\\gamY.py\u001b[0m in \u001b[0;36mimport_file\u001b[1;34m(self, match, text)\u001b[0m\n\u001b[0;32m    470\u001b[0m       \u001b[1;32mtry\u001b[0m\u001b[1;33m:\u001b[0m\u001b[1;33m\u001b[0m\u001b[1;33m\u001b[0m\u001b[0m\n\u001b[0;32m    471\u001b[0m         \u001b[1;32mwith\u001b[0m \u001b[0mopen\u001b[0m\u001b[1;33m(\u001b[0m\u001b[0mfile_name\u001b[0m\u001b[1;33m,\u001b[0m \u001b[1;34m\"r\"\u001b[0m\u001b[1;33m)\u001b[0m \u001b[1;32mas\u001b[0m \u001b[0mf\u001b[0m\u001b[1;33m:\u001b[0m\u001b[1;33m\u001b[0m\u001b[1;33m\u001b[0m\u001b[0m\n\u001b[1;32m--> 472\u001b[1;33m           \u001b[0mreplacement_text\u001b[0m \u001b[1;33m+=\u001b[0m \u001b[0mself\u001b[0m\u001b[1;33m.\u001b[0m\u001b[0mparse\u001b[0m\u001b[1;33m(\u001b[0m\u001b[1;34m\"\\n\"\u001b[0m\u001b[1;33m+\u001b[0m\u001b[0mf\u001b[0m\u001b[1;33m.\u001b[0m\u001b[0mread\u001b[0m\u001b[1;33m(\u001b[0m\u001b[1;33m)\u001b[0m\u001b[1;33m)\u001b[0m\u001b[1;33m\u001b[0m\u001b[1;33m\u001b[0m\u001b[0m\n\u001b[0m\u001b[0;32m    473\u001b[0m       \u001b[1;32mexcept\u001b[0m \u001b[0mFileNotFoundError\u001b[0m\u001b[1;33m:\u001b[0m\u001b[1;33m\u001b[0m\u001b[1;33m\u001b[0m\u001b[0m\n\u001b[0;32m    474\u001b[0m         \u001b[0mreplacement_text\u001b[0m \u001b[1;33m+=\u001b[0m \u001b[0mself\u001b[0m\u001b[1;33m.\u001b[0m\u001b[0mwarning\u001b[0m\u001b[1;33m(\u001b[0m\u001b[1;34mf\"File was found, but could not be read: '{file_name}'\"\u001b[0m\u001b[1;33m)\u001b[0m\u001b[1;33m\u001b[0m\u001b[1;33m\u001b[0m\u001b[0m\n",
      "\u001b[1;32m~\\AppData\\Local\\Continuum\\anaconda3\\lib\\site-packages\\dreamtools\\gamY\\gamY.py\u001b[0m in \u001b[0;36mparse\u001b[1;34m(self, text, top_level)\u001b[0m\n\u001b[0;32m    270\u001b[0m           \u001b[0mtext\u001b[0m \u001b[1;33m=\u001b[0m \u001b[0mtext\u001b[0m\u001b[1;33m.\u001b[0m\u001b[0mreplace\u001b[0m\u001b[1;33m(\u001b[0m\u001b[0mmatch\u001b[0m\u001b[1;33m.\u001b[0m\u001b[0mgroup\u001b[0m\u001b[1;33m(\u001b[0m\u001b[1;36m0\u001b[0m\u001b[1;33m)\u001b[0m\u001b[1;33m,\u001b[0m \u001b[0mself\u001b[0m\u001b[1;33m.\u001b[0m\u001b[0mprocess_command\u001b[0m\u001b[1;33m(\u001b[0m\u001b[0mmatch\u001b[0m\u001b[1;33m.\u001b[0m\u001b[0mgroup\u001b[0m\u001b[1;33m(\u001b[0m\u001b[1;36m0\u001b[0m\u001b[1;33m)\u001b[0m\u001b[1;33m)\u001b[0m\u001b[1;33m,\u001b[0m \u001b[1;36m1\u001b[0m\u001b[1;33m)\u001b[0m\u001b[1;33m\u001b[0m\u001b[1;33m\u001b[0m\u001b[0m\n\u001b[0;32m    271\u001b[0m         \u001b[1;32melse\u001b[0m\u001b[1;33m:\u001b[0m\u001b[1;33m\u001b[0m\u001b[1;33m\u001b[0m\u001b[0m\n\u001b[1;32m--> 272\u001b[1;33m           \u001b[0mtext\u001b[0m \u001b[1;33m=\u001b[0m \u001b[0mtext\u001b[0m\u001b[1;33m.\u001b[0m\u001b[0mreplace\u001b[0m\u001b[1;33m(\u001b[0m\u001b[0mmatch\u001b[0m\u001b[1;33m.\u001b[0m\u001b[0mgroup\u001b[0m\u001b[1;33m(\u001b[0m\u001b[1;36m0\u001b[0m\u001b[1;33m)\u001b[0m\u001b[1;33m,\u001b[0m \u001b[0mself\u001b[0m\u001b[1;33m.\u001b[0m\u001b[0mparse\u001b[0m\u001b[1;33m(\u001b[0m\u001b[0mmatch\u001b[0m\u001b[1;33m.\u001b[0m\u001b[0mgroup\u001b[0m\u001b[1;33m(\u001b[0m\u001b[1;36m0\u001b[0m\u001b[1;33m)\u001b[0m\u001b[1;33m)\u001b[0m\u001b[1;33m,\u001b[0m \u001b[1;36m1\u001b[0m\u001b[1;33m)\u001b[0m  \u001b[1;31m# Recursively parse\u001b[0m\u001b[1;33m\u001b[0m\u001b[1;33m\u001b[0m\u001b[0m\n\u001b[0m\u001b[0;32m    273\u001b[0m       \u001b[1;32melse\u001b[0m\u001b[1;33m:\u001b[0m\u001b[1;33m\u001b[0m\u001b[1;33m\u001b[0m\u001b[0m\n\u001b[0;32m    274\u001b[0m         \u001b[1;32mreturn\u001b[0m \u001b[0mself\u001b[0m\u001b[1;33m.\u001b[0m\u001b[0mprocess_command\u001b[0m\u001b[1;33m(\u001b[0m\u001b[0mtext\u001b[0m\u001b[1;33m)\u001b[0m  \u001b[1;31m# Process commands when inner scope of recursion is reached\u001b[0m\u001b[1;33m\u001b[0m\u001b[1;33m\u001b[0m\u001b[0m\n",
      "\u001b[1;32m~\\AppData\\Local\\Continuum\\anaconda3\\lib\\site-packages\\dreamtools\\gamY\\gamY.py\u001b[0m in \u001b[0;36mparse\u001b[1;34m(self, text, top_level)\u001b[0m\n\u001b[0;32m    270\u001b[0m           \u001b[0mtext\u001b[0m \u001b[1;33m=\u001b[0m \u001b[0mtext\u001b[0m\u001b[1;33m.\u001b[0m\u001b[0mreplace\u001b[0m\u001b[1;33m(\u001b[0m\u001b[0mmatch\u001b[0m\u001b[1;33m.\u001b[0m\u001b[0mgroup\u001b[0m\u001b[1;33m(\u001b[0m\u001b[1;36m0\u001b[0m\u001b[1;33m)\u001b[0m\u001b[1;33m,\u001b[0m \u001b[0mself\u001b[0m\u001b[1;33m.\u001b[0m\u001b[0mprocess_command\u001b[0m\u001b[1;33m(\u001b[0m\u001b[0mmatch\u001b[0m\u001b[1;33m.\u001b[0m\u001b[0mgroup\u001b[0m\u001b[1;33m(\u001b[0m\u001b[1;36m0\u001b[0m\u001b[1;33m)\u001b[0m\u001b[1;33m)\u001b[0m\u001b[1;33m,\u001b[0m \u001b[1;36m1\u001b[0m\u001b[1;33m)\u001b[0m\u001b[1;33m\u001b[0m\u001b[1;33m\u001b[0m\u001b[0m\n\u001b[0;32m    271\u001b[0m         \u001b[1;32melse\u001b[0m\u001b[1;33m:\u001b[0m\u001b[1;33m\u001b[0m\u001b[1;33m\u001b[0m\u001b[0m\n\u001b[1;32m--> 272\u001b[1;33m           \u001b[0mtext\u001b[0m \u001b[1;33m=\u001b[0m \u001b[0mtext\u001b[0m\u001b[1;33m.\u001b[0m\u001b[0mreplace\u001b[0m\u001b[1;33m(\u001b[0m\u001b[0mmatch\u001b[0m\u001b[1;33m.\u001b[0m\u001b[0mgroup\u001b[0m\u001b[1;33m(\u001b[0m\u001b[1;36m0\u001b[0m\u001b[1;33m)\u001b[0m\u001b[1;33m,\u001b[0m \u001b[0mself\u001b[0m\u001b[1;33m.\u001b[0m\u001b[0mparse\u001b[0m\u001b[1;33m(\u001b[0m\u001b[0mmatch\u001b[0m\u001b[1;33m.\u001b[0m\u001b[0mgroup\u001b[0m\u001b[1;33m(\u001b[0m\u001b[1;36m0\u001b[0m\u001b[1;33m)\u001b[0m\u001b[1;33m)\u001b[0m\u001b[1;33m,\u001b[0m \u001b[1;36m1\u001b[0m\u001b[1;33m)\u001b[0m  \u001b[1;31m# Recursively parse\u001b[0m\u001b[1;33m\u001b[0m\u001b[1;33m\u001b[0m\u001b[0m\n\u001b[0m\u001b[0;32m    273\u001b[0m       \u001b[1;32melse\u001b[0m\u001b[1;33m:\u001b[0m\u001b[1;33m\u001b[0m\u001b[1;33m\u001b[0m\u001b[0m\n\u001b[0;32m    274\u001b[0m         \u001b[1;32mreturn\u001b[0m \u001b[0mself\u001b[0m\u001b[1;33m.\u001b[0m\u001b[0mprocess_command\u001b[0m\u001b[1;33m(\u001b[0m\u001b[0mtext\u001b[0m\u001b[1;33m)\u001b[0m  \u001b[1;31m# Process commands when inner scope of recursion is reached\u001b[0m\u001b[1;33m\u001b[0m\u001b[1;33m\u001b[0m\u001b[0m\n",
      "\u001b[1;32m~\\AppData\\Local\\Continuum\\anaconda3\\lib\\site-packages\\dreamtools\\gamY\\gamY.py\u001b[0m in \u001b[0;36mparse\u001b[1;34m(self, text, top_level)\u001b[0m\n\u001b[0;32m    272\u001b[0m           \u001b[0mtext\u001b[0m \u001b[1;33m=\u001b[0m \u001b[0mtext\u001b[0m\u001b[1;33m.\u001b[0m\u001b[0mreplace\u001b[0m\u001b[1;33m(\u001b[0m\u001b[0mmatch\u001b[0m\u001b[1;33m.\u001b[0m\u001b[0mgroup\u001b[0m\u001b[1;33m(\u001b[0m\u001b[1;36m0\u001b[0m\u001b[1;33m)\u001b[0m\u001b[1;33m,\u001b[0m \u001b[0mself\u001b[0m\u001b[1;33m.\u001b[0m\u001b[0mparse\u001b[0m\u001b[1;33m(\u001b[0m\u001b[0mmatch\u001b[0m\u001b[1;33m.\u001b[0m\u001b[0mgroup\u001b[0m\u001b[1;33m(\u001b[0m\u001b[1;36m0\u001b[0m\u001b[1;33m)\u001b[0m\u001b[1;33m)\u001b[0m\u001b[1;33m,\u001b[0m \u001b[1;36m1\u001b[0m\u001b[1;33m)\u001b[0m  \u001b[1;31m# Recursively parse\u001b[0m\u001b[1;33m\u001b[0m\u001b[1;33m\u001b[0m\u001b[0m\n\u001b[0;32m    273\u001b[0m       \u001b[1;32melse\u001b[0m\u001b[1;33m:\u001b[0m\u001b[1;33m\u001b[0m\u001b[1;33m\u001b[0m\u001b[0m\n\u001b[1;32m--> 274\u001b[1;33m         \u001b[1;32mreturn\u001b[0m \u001b[0mself\u001b[0m\u001b[1;33m.\u001b[0m\u001b[0mprocess_command\u001b[0m\u001b[1;33m(\u001b[0m\u001b[0mtext\u001b[0m\u001b[1;33m)\u001b[0m  \u001b[1;31m# Process commands when inner scope of recursion is reached\u001b[0m\u001b[1;33m\u001b[0m\u001b[1;33m\u001b[0m\u001b[0m\n\u001b[0m\u001b[0;32m    275\u001b[0m \u001b[1;33m\u001b[0m\u001b[0m\n\u001b[0;32m    276\u001b[0m   \u001b[1;32mdef\u001b[0m \u001b[0mround_parentheses\u001b[0m\u001b[1;33m(\u001b[0m\u001b[0mself\u001b[0m\u001b[1;33m,\u001b[0m \u001b[0mtext\u001b[0m\u001b[1;33m)\u001b[0m\u001b[1;33m:\u001b[0m\u001b[1;33m\u001b[0m\u001b[1;33m\u001b[0m\u001b[0m\n",
      "\u001b[1;32m~\\AppData\\Local\\Continuum\\anaconda3\\lib\\site-packages\\dreamtools\\gamY\\gamY.py\u001b[0m in \u001b[0;36mprocess_command\u001b[1;34m(self, text)\u001b[0m\n\u001b[0;32m    282\u001b[0m       \u001b[1;32mif\u001b[0m \u001b[0mmatch\u001b[0m\u001b[1;33m:\u001b[0m\u001b[1;33m\u001b[0m\u001b[1;33m\u001b[0m\u001b[0m\n\u001b[0;32m    283\u001b[0m         \u001b[1;31m#  print(\"***MATCH***\", command)\u001b[0m\u001b[1;33m\u001b[0m\u001b[1;33m\u001b[0m\u001b[1;33m\u001b[0m\u001b[0m\n\u001b[1;32m--> 284\u001b[1;33m         \u001b[0mtext\u001b[0m \u001b[1;33m=\u001b[0m \u001b[0mtext\u001b[0m\u001b[1;33m.\u001b[0m\u001b[0mreplace\u001b[0m\u001b[1;33m(\u001b[0m\u001b[0mmatch\u001b[0m\u001b[1;33m.\u001b[0m\u001b[0mgroup\u001b[0m\u001b[1;33m(\u001b[0m\u001b[1;36m0\u001b[0m\u001b[1;33m)\u001b[0m\u001b[1;33m,\u001b[0m \u001b[0mfunc\u001b[0m\u001b[1;33m(\u001b[0m\u001b[0mmatch\u001b[0m\u001b[1;33m,\u001b[0m \u001b[0mtext\u001b[0m\u001b[1;33m)\u001b[0m\u001b[1;33m,\u001b[0m \u001b[1;36m1\u001b[0m\u001b[1;33m)\u001b[0m\u001b[1;33m\u001b[0m\u001b[1;33m\u001b[0m\u001b[0m\n\u001b[0m\u001b[0;32m    285\u001b[0m     \u001b[1;32mreturn\u001b[0m \u001b[0mtext\u001b[0m\u001b[1;33m\u001b[0m\u001b[1;33m\u001b[0m\u001b[0m\n\u001b[0;32m    286\u001b[0m \u001b[1;33m\u001b[0m\u001b[0m\n",
      "\u001b[1;32m~\\AppData\\Local\\Continuum\\anaconda3\\lib\\site-packages\\dreamtools\\gamY\\gamY.py\u001b[0m in \u001b[0;36mmodel_define\u001b[1;34m(self, match, text)\u001b[0m\n\u001b[0;32m    666\u001b[0m           \u001b[0mnew_model\u001b[0m\u001b[1;33m[\u001b[0m\u001b[0mname\u001b[0m\u001b[1;33m]\u001b[0m \u001b[1;33m=\u001b[0m \u001b[0mequations\u001b[0m\u001b[1;33m[\u001b[0m\u001b[0mname\u001b[0m\u001b[1;33m]\u001b[0m\u001b[1;33m\u001b[0m\u001b[1;33m\u001b[0m\u001b[0m\n\u001b[0;32m    667\u001b[0m       \u001b[1;32melse\u001b[0m\u001b[1;33m:\u001b[0m\u001b[1;33m\u001b[0m\u001b[1;33m\u001b[0m\u001b[0m\n\u001b[1;32m--> 668\u001b[1;33m         \u001b[1;32mraise\u001b[0m \u001b[0mKeyError\u001b[0m\u001b[1;33m(\u001b[0m\u001b[0mname\u001b[0m\u001b[1;33m,\u001b[0m \u001b[1;34m\" is not a valid equation, block of equations, or model\"\u001b[0m\u001b[1;33m)\u001b[0m\u001b[1;33m\u001b[0m\u001b[1;33m\u001b[0m\u001b[0m\n\u001b[0m\u001b[0;32m    669\u001b[0m \u001b[1;33m\u001b[0m\u001b[0m\n\u001b[0;32m    670\u001b[0m     \u001b[1;32mfor\u001b[0m \u001b[0meq\u001b[0m \u001b[1;32min\u001b[0m \u001b[0mnew_model\u001b[0m\u001b[1;33m.\u001b[0m\u001b[0mvalues\u001b[0m\u001b[1;33m(\u001b[0m\u001b[1;33m)\u001b[0m\u001b[1;33m:\u001b[0m\u001b[1;33m\u001b[0m\u001b[1;33m\u001b[0m\u001b[0m\n",
      "\u001b[1;31mKeyError\u001b[0m: ('M_EOP_TU', ' is not a valid equation, block of equations, or model')"
     ]
    }
   ],
   "source": [
    "m.write_and_run()"
   ]
  },
  {
   "cell_type": "code",
   "execution_count": 10,
   "metadata": {},
   "outputs": [
    {
     "name": "stdout",
     "output_type": "stream",
     "text": [
      "\n",
      "Success! The modelstat was 16.0\n"
     ]
    }
   ],
   "source": [
    "# m.model.settings.databases[\"Abatement_0\"][\"sigma\"].vals.loc[:] = 0.0001\n",
    "# m.model.settings.databases[\"Abatement_0\"][\"eta\"].vals.loc[:] = -0.0001\n",
    "\n",
    "m.write_and_run(kwargs_init={'check_variables':True})\n",
    "if m.model_instances[\"baseline\"].modelstat == 16.0:\n",
    "    print(\"\\nSuccess! The modelstat was 16.0\")"
   ]
  },
  {
   "cell_type": "markdown",
   "metadata": {},
   "source": [
    "#### Sneaky solve to adjust sigmas into desired values"
   ]
  },
  {
   "cell_type": "markdown",
   "metadata": {},
   "source": [
    "The model could be solved using elasticities of 0.0001. Let's check if it can be solved when these are set to higher numbers, implying a solution farther from the starting values (which, as mentioned, were set based on Leontief)."
   ]
  },
  {
   "cell_type": "code",
   "execution_count": 9,
   "metadata": {},
   "outputs": [],
   "source": [
    "# condition = m.model.settings.databases[\"Abatement\"][\"sigma\"].vals.index.str.startswith(\"C_E\") & ~m.model.settings.databases[\"Abatement\"][\"sigma\"].vals.index.str.contains(\"base\")"
   ]
  },
  {
   "cell_type": "code",
   "execution_count": null,
   "metadata": {},
   "outputs": [],
   "source": []
  },
  {
   "cell_type": "code",
   "execution_count": 10,
   "metadata": {},
   "outputs": [],
   "source": [
    "#Sigmas in MNL nests of end-of-pipe cannot be Leontief, because share-parameters are inconsistent with quantities, and so we need prices to compensate.\n"
   ]
  },
  {
   "cell_type": "code",
   "execution_count": 11,
   "metadata": {},
   "outputs": [
    {
     "data": {
      "text/plain": [
       "{'ID_0': <DataBase.GPM_database at 0x1d5e12b7b88>}"
      ]
     },
     "execution_count": 11,
     "metadata": {},
     "output_type": "execute_result"
    }
   ],
   "source": [
    "m.model.settings.databases"
   ]
  },
  {
   "cell_type": "code",
   "execution_count": 12,
   "metadata": {},
   "outputs": [
    {
     "name": "stdout",
     "output_type": "stream",
     "text": [
      "\n",
      "FAIL:\n",
      "Sigma/eta: 0.0001\n",
      "\n",
      "FAIL:\n",
      "Sigma/eta: 0.1\n",
      "\n",
      "FAIL:\n",
      "Sigma/eta: 0.2\n",
      "\n",
      "FAIL:\n",
      "Sigma/eta: 0.3\n",
      "\n",
      "FAIL:\n",
      "Sigma/eta: 0.4\n",
      "\n",
      "FAIL:\n",
      "Sigma/eta: 0.5\n",
      "\n",
      "FAIL:\n",
      "Sigma/eta: 0.6\n",
      "\n",
      "FAIL:\n",
      "Sigma/eta: 0.7\n",
      "\n",
      "FAIL:\n",
      "Sigma/eta: 0.8\n",
      "\n",
      "FAIL:\n",
      "Sigma/eta: 0.9\n",
      "\n",
      "FAIL:\n",
      "Sigma/eta: 1.0\n",
      "\n",
      "FAIL:\n",
      "Sigma/eta: 1.1\n",
      "\n",
      "FAIL:\n",
      "Sigma/eta: 1.2\n",
      "\n",
      "FAIL:\n",
      "Sigma/eta: 1.3\n",
      "\n",
      "FAIL:\n",
      "Sigma/eta: 1.4\n",
      "\n",
      "FAIL:\n",
      "Sigma/eta: 1.5\n",
      "\n",
      "FAIL:\n",
      "Sigma/eta: 1.6\n",
      "\n",
      "FAIL:\n",
      "Sigma/eta: 1.7\n",
      "\n",
      "FAIL:\n",
      "Sigma/eta: 1.8\n",
      "\n",
      "FAIL:\n",
      "Sigma/eta: 1.9\n",
      "\n",
      "FAIL:\n",
      "Sigma/eta: 2.0\n",
      "\n",
      "FAIL:\n",
      "Sigma/eta: 2.1\n",
      "\n",
      "FAIL:\n",
      "Sigma/eta: 2.2\n",
      "\n",
      "FAIL:\n",
      "Sigma/eta: 2.3\n",
      "\n",
      "FAIL:\n",
      "Sigma/eta: 2.4\n",
      "\n",
      "FAIL:\n",
      "Sigma/eta: 2.5\n",
      "\n",
      "FAIL:\n",
      "Sigma/eta: 2.6\n",
      "\n",
      "FAIL:\n",
      "Sigma/eta: 2.7\n",
      "\n",
      "FAIL:\n",
      "Sigma/eta: 2.8\n",
      "\n",
      "FAIL:\n",
      "Sigma/eta: 2.9\n",
      "\n",
      "FAIL:\n",
      "Sigma/eta: 3.0\n",
      "\n",
      "FAIL:\n",
      "Sigma/eta: 3.1\n",
      "\n",
      "FAIL:\n",
      "Sigma/eta: 3.2\n",
      "\n",
      "FAIL:\n",
      "Sigma/eta: 3.3\n",
      "\n",
      "FAIL:\n",
      "Sigma/eta: 3.4\n",
      "\n",
      "FAIL:\n",
      "Sigma/eta: 3.5\n",
      "\n",
      "FAIL:\n",
      "Sigma/eta: 3.6\n",
      "\n",
      "FAIL:\n",
      "Sigma/eta: 3.7\n",
      "\n",
      "FAIL:\n",
      "Sigma/eta: 3.8\n",
      "\n",
      "FAIL:\n",
      "Sigma/eta: 3.9\n",
      "\n",
      "FAIL:\n",
      "Sigma/eta: 4.0\n",
      "\n",
      "FAIL:\n",
      "Sigma/eta: 4.1\n",
      "\n",
      "FAIL:\n",
      "Sigma/eta: 4.2\n",
      "\n",
      "FAIL:\n",
      "Sigma/eta: 4.3\n",
      "\n",
      "FAIL:\n",
      "Sigma/eta: 4.4\n"
     ]
    }
   ],
   "source": [
    "for sigma_val in range(0, 450, 10):\n",
    "    sigma_val = sigma_val/100\n",
    "    if sigma_val == 0:\n",
    "        sigma_val = 0.0001\n",
    "#     for MNL_sigma in [0.1, 1]:\n",
    "\n",
    "    #Set values\n",
    "    #m.model.settings.databases[\"Abatement\"][\"sigma\"].vals.loc[condition] = MNL_sigma\n",
    "    #m.model.settings.databases[\"Abatement\"][\"sigma\"].vals.loc[~condition] = sigma_val\n",
    "#     m.get(\"sigma\")[[t for t in m.get(\"sigma\").index if t not in m.get(\"EOP_C_subset\")]] = sigma_val\n",
    "    m.model.settings.databases[\"ID_0\"][\"sigma\"].vals.loc[:] = sigma_val\n",
    "    m.model.settings.databases[\"ID_0\"][\"eta\"].vals.loc[:] = -sigma_val\n",
    "#     m.get(\"sigma\")[m.get(\"EOP_C_subset\")] = sigma_val\n",
    "#     m.get(\"eta\")[m.get(\"eta\").index.str.startswith(\"EOP\")] = -sigma_val\n",
    "\n",
    "    #Try to solve\n",
    "    m.write_and_run()\n",
    "\n",
    "    #How did it go?\n",
    "    if m.model_instances[\"baseline\"].modelstat == 16.0:\n",
    "        print(\"\\nSUCCESS:\")\n",
    "        print(\"Sigma/eta:\", round(sigma_val, 4))\n",
    "        #print(\"Sigma/eta (MNL):\", round(MNL_val, 4))\n",
    "    else:\n",
    "        print(\"\\nFAIL:\")\n",
    "        print(\"Sigma/eta:\", round(sigma_val, 4))\n",
    "        #print(\"Sigma/eta: (MNL)\", round(MNL_sigma, 4))"
   ]
  },
  {
   "cell_type": "markdown",
   "metadata": {},
   "source": [
    "As can be seen, the model cannot be solved when the elasticities get too large. To accomodate this, we replace each iteration's starting values with the previous iteration's solution, while gradually increasing $\\sigma$ and $\\mu$.\n",
    "This allows us to set these to (hopefully) any value. This \"gradual changing of parameters\" is called 'sneaky solve'. :)"
   ]
  },
  {
   "cell_type": "markdown",
   "metadata": {},
   "source": [
    "### Sneaky solve: Gradual increase in sigma"
   ]
  },
  {
   "cell_type": "code",
   "execution_count": 9,
   "metadata": {},
   "outputs": [],
   "source": [
    "db_star = DataBase.GPM_database()"
   ]
  },
  {
   "cell_type": "code",
   "execution_count": 10,
   "metadata": {},
   "outputs": [],
   "source": [
    "sigma_star = m.get(\"sigma\").copy()\n",
    "eta_star = m.get(\"eta\").copy()"
   ]
  },
  {
   "cell_type": "code",
   "execution_count": 11,
   "metadata": {},
   "outputs": [],
   "source": [
    "#Energy services combine their underlying components with mild substitution possibilities\n",
    "sigma_star[m.get(\"kno_ID_EC\")] = 0.5"
   ]
  },
  {
   "cell_type": "code",
   "execution_count": 14,
   "metadata": {},
   "outputs": [],
   "source": [
    "#All CET splits get more substitution\n",
    "eta_star[:] = -2"
   ]
  },
  {
   "cell_type": "code",
   "execution_count": 15,
   "metadata": {},
   "outputs": [],
   "source": [
    "#The IO technology treats its outputs as perfect substitutes. This ensures they have the same price in equiliibrum.\n",
    "eta_star[\"IO_tech\"] = -10"
   ]
  },
  {
   "cell_type": "code",
   "execution_count": 16,
   "metadata": {},
   "outputs": [],
   "source": [
    "#Components have a large degree of substitution between overlapping technology goods:\n",
    "sigma_star[m.get(\"kno_ID_CU\")] = 5"
   ]
  },
  {
   "cell_type": "code",
   "execution_count": 17,
   "metadata": {},
   "outputs": [],
   "source": [
    "db_star[\"sigma\"] = sigma_star\n",
    "db_star[\"eta\"] = eta_star"
   ]
  },
  {
   "cell_type": "markdown",
   "metadata": {},
   "source": [
    "Run again, while adding a checkpoint that we can use afterwards"
   ]
  },
  {
   "cell_type": "code",
   "execution_count": 18,
   "metadata": {},
   "outputs": [
    {
     "data": {
      "text/plain": [
       "{}"
      ]
     },
     "execution_count": 18,
     "metadata": {},
     "output_type": "execute_result"
    }
   ],
   "source": [
    "m.checkpoints"
   ]
  },
  {
   "cell_type": "code",
   "execution_count": 19,
   "metadata": {},
   "outputs": [
    {
     "data": {
      "text/plain": [
       "{'baseline': <DB2Gams_l3.gams_model at 0x22937c08348>}"
      ]
     },
     "execution_count": 19,
     "metadata": {},
     "output_type": "execute_result"
    }
   ],
   "source": [
    "m.model_instances"
   ]
  },
  {
   "cell_type": "code",
   "execution_count": 20,
   "metadata": {},
   "outputs": [],
   "source": [
    "name = \"sneaky\"\n",
    "#Fejler med noget \"delimiter\" fejl\n",
    "#m.write_and_run(name=\"test\", add_checkpoint=\"test\", options_add={\"checkpoint\":m.checkpoints[\"leontief\"]})\n",
    "m.write_and_run(name=name, add_checkpoint=\"leontief\")"
   ]
  },
  {
   "cell_type": "code",
   "execution_count": 21,
   "metadata": {},
   "outputs": [],
   "source": [
    "m.checkpoints[name] = m.model_instances[name].ws.add_checkpoint()"
   ]
  },
  {
   "cell_type": "code",
   "execution_count": 22,
   "metadata": {},
   "outputs": [
    {
     "data": {
      "text/plain": [
       "{'leontief': <gams.execution.GamsCheckpoint at 0x22937b25b88>,\n",
       " 'sneaky': <gams.execution.GamsCheckpoint at 0x22937fa6248>}"
      ]
     },
     "execution_count": 22,
     "metadata": {},
     "output_type": "execute_result"
    }
   ],
   "source": [
    "m.checkpoints"
   ]
  },
  {
   "cell_type": "markdown",
   "metadata": {},
   "source": [
    "Solve sneakily, gradually increasing sigmas towards their desired values (which themselves are stated in `db_star`)"
   ]
  },
  {
   "cell_type": "code",
   "execution_count": 23,
   "metadata": {},
   "outputs": [
    {
     "data": {
      "text/plain": [
       "{'Modelstat': 16.0, 'Solvestat': 1.0}"
      ]
     },
     "execution_count": 23,
     "metadata": {},
     "output_type": "execute_result"
    }
   ],
   "source": [
    "m.model_instances[name].solve_sneakily(db_star=db_star, from_cp=True, cp_init=m.checkpoints[\"leontief\"], options_run={\"checkpoint\":m.checkpoints[name]})"
   ]
  },
  {
   "cell_type": "code",
   "execution_count": 24,
   "metadata": {},
   "outputs": [],
   "source": [
    "mi = m.model_instances[name]\n",
    "# newjob = mi.ws.add_job_from_string(\"sets a,b;\",**{'checkpoint': m.checkpoints[name]})\n",
    "# newjob.run()"
   ]
  },
  {
   "cell_type": "markdown",
   "metadata": {},
   "source": [
    "Check if the model ran succesfully:"
   ]
  },
  {
   "cell_type": "code",
   "execution_count": 25,
   "metadata": {},
   "outputs": [
    {
     "name": "stdout",
     "output_type": "stream",
     "text": [
      "Ran successfully with modelstat 16.0\n"
     ]
    }
   ],
   "source": [
    "if m.model_instances[name].out_db.series[\"Abatement_B_modelstat\"].vals == 16:\n",
    "    print(\"Ran successfully with modelstat \" + str(m.model_instances[name].out_db.series[\"Abatement_B_modelstat\"].vals))"
   ]
  },
  {
   "cell_type": "markdown",
   "metadata": {},
   "source": [
    "The changes in e.g. demanded quantities, from the initial point (the solution where sigmas were ~0) are:"
   ]
  },
  {
   "cell_type": "code",
   "execution_count": 26,
   "metadata": {},
   "outputs": [
    {
     "data": {
      "text/plain": [
       "n\n",
       "C_EH_1                   1.018307\n",
       "C_EH_2                  -0.086536\n",
       "C_EH_3                  -0.168528\n",
       "C_EH_base               -0.763243\n",
       "C_EL_1                   0.279783\n",
       "                           ...   \n",
       "U_ID_C_EL_4_base         2.729239\n",
       "U_ID_C_EL_4_base_inp4    2.729239\n",
       "U_ID_C_EL_5_base         0.882456\n",
       "U_ID_C_ER_1_base         0.945925\n",
       "U_ID_C_ER_2_base         0.949993\n",
       "Name: qD, Length: 99, dtype: float64"
      ]
     },
     "execution_count": 26,
     "metadata": {},
     "output_type": "execute_result"
    }
   ],
   "source": [
    "m.model_instances[name].out_db[\"qD\"].vals - m.get(\"qD\")"
   ]
  },
  {
   "cell_type": "markdown",
   "metadata": {},
   "source": [
    "while demand itself ended in the following quantities:"
   ]
  },
  {
   "cell_type": "code",
   "execution_count": 27,
   "metadata": {},
   "outputs": [
    {
     "data": {
      "text/plain": [
       "n\n",
       "U_ID_C_EL_1_base         5.279783e+00\n",
       "ID_5_inp4                5.394925e-09\n",
       "ID_2_electricity         8.015852e-11\n",
       "U_ID_C_ER_2_base         3.949993e+00\n",
       "U_ID_C_EH_1_base_inp3    1.601831e+01\n",
       "                             ...     \n",
       "EOP_t3_K                 3.700596e+02\n",
       "U_EOP_t1_2               5.543436e+01\n",
       "ID_1                     6.565749e-09\n",
       "U_EOP_t2_2               1.000000e+02\n",
       "C_EH_base                7.623676e+01\n",
       "Name: qD, Length: 99, dtype: float64"
      ]
     },
     "execution_count": 27,
     "metadata": {},
     "output_type": "execute_result"
    }
   ],
   "source": [
    "m.model_instances[name].out_db[\"qD\"].vals"
   ]
  },
  {
   "cell_type": "markdown",
   "metadata": {},
   "source": [
    "And let's confirm that our sigmas actually ended in the desired spots:"
   ]
  },
  {
   "cell_type": "code",
   "execution_count": 28,
   "metadata": {},
   "outputs": [
    {
     "data": {
      "text/plain": [
       "n\n",
       "U_ID_C_EL_1_base    0.0001\n",
       "C_SO2_1             2.0000\n",
       "ID_5_inp4           0.0000\n",
       "sum_inp4            0.0000\n",
       "ER                  0.5000\n",
       "                     ...  \n",
       "U_EOP_t1_2          0.0000\n",
       "ID_1                0.0001\n",
       "CO2                 0.0000\n",
       "U_EOP_t2_2          0.0000\n",
       "C_EH_base           0.0000\n",
       "Name: sigma, Length: 128, dtype: float64"
      ]
     },
     "execution_count": 28,
     "metadata": {},
     "output_type": "execute_result"
    }
   ],
   "source": [
    "m.model_instances[name].out_db[\"sigma\"].vals"
   ]
  },
  {
   "cell_type": "code",
   "execution_count": 29,
   "metadata": {},
   "outputs": [],
   "source": [
    "db = m.model_instances['sneaky'].out_db\n",
    "m.model.database.merge_dbs(m.model.database,db,'second')\n",
    "m.reset_settings()"
   ]
  },
  {
   "cell_type": "code",
   "execution_count": 30,
   "metadata": {},
   "outputs": [],
   "source": [
    "m.setstate(\"calibrate\")"
   ]
  },
  {
   "cell_type": "code",
   "execution_count": 33,
   "metadata": {},
   "outputs": [
    {
     "name": "stdout",
     "output_type": "stream",
     "text": [
      "Failed.\n"
     ]
    }
   ],
   "source": [
    "# m.model.settings.databases[\"Abatement_0\"][\"sigma\"].vals.loc[:] = 0.0001\n",
    "# m.model.settings.databases[\"Abatement_0\"][\"eta\"].vals.loc[:] = -0.0001\n",
    "#m.model.settings.databases[\"Abatement\"][\"sigma\"].vals[condition] = 0.2\n",
    "#m.write_and_run(options_run={'output':sys.stdout})\n",
    "m.write_and_run(overwrite=True)\n",
    "if m.model_instances[\"baseline\"].modelstat == 2.0:\n",
    "    print(\"\\nNPL problem solved successfully! The modelstat was 2.0\")\n",
    "else:\n",
    "    print(\"Failed.\")"
   ]
  },
  {
   "cell_type": "markdown",
   "metadata": {},
   "source": [
    "## A shock to the oil price\n",
    "We present graphically what happens when the oil price gradually increases (static model solution for each price).\n",
    "For this, we again use the sneaky solve, but we make sure to extract variables of interest for each iteration, in contrast to above where we were not interested in the solutions per se, but simply that the values of $\\sigma$ ended in the desired spots."
   ]
  },
  {
   "cell_type": "code",
   "execution_count": 121,
   "metadata": {},
   "outputs": [],
   "source": [
    "#mideleritid start fra starten\n",
    "#m.model.settings.databases[\"Abatement_0\"][\"sigma\"].vals.loc[:] = 0.1\n",
    "#m.model.settings.databases[\"Abatement_0\"][\"eta\"].vals.loc[:] = -0.1"
   ]
  },
  {
   "cell_type": "code",
   "execution_count": 122,
   "metadata": {},
   "outputs": [],
   "source": [
    "# m.write_and_run(name=\"calibrated\", add_checkpoint=\"calibrated\")"
   ]
  },
  {
   "cell_type": "code",
   "execution_count": 123,
   "metadata": {},
   "outputs": [
    {
     "data": {
      "text/plain": [
       "n\n",
       "C_CO2_1             0.50\n",
       "C_EH_1              1.20\n",
       "C_EH_2              1.20\n",
       "C_EH_3              1.20\n",
       "C_EH_base           0.01\n",
       "C_EL_1              1.20\n",
       "C_EL_2              1.20\n",
       "C_EL_3              1.20\n",
       "C_EL_4              1.20\n",
       "C_EL_5              1.20\n",
       "C_EL_base           0.01\n",
       "C_ER_1              1.20\n",
       "C_ER_2              1.20\n",
       "C_ER_base           0.01\n",
       "EH                  0.01\n",
       "EL                  0.01\n",
       "EOP_tau1            0.50\n",
       "ER                  0.01\n",
       "ID_1                0.01\n",
       "ID_2                0.01\n",
       "ID_3                0.01\n",
       "ID_4                0.01\n",
       "ID_5                0.01\n",
       "U_ID_C_EH_1_base    0.01\n",
       "U_ID_C_EH_2_base    0.01\n",
       "U_ID_C_EH_3_base    0.01\n",
       "U_ID_C_EL_1_base    0.01\n",
       "U_ID_C_EL_2_base    0.01\n",
       "U_ID_C_EL_3_base    0.01\n",
       "U_ID_C_EL_4_base    0.01\n",
       "U_ID_C_EL_5_base    0.01\n",
       "U_ID_C_ER_1_base    0.01\n",
       "U_ID_C_ER_2_base    0.01\n",
       "Name: sigma, dtype: float64"
      ]
     },
     "execution_count": 123,
     "metadata": {},
     "output_type": "execute_result"
    }
   ],
   "source": [
    "m.model_instances[\"calibrated\"].out_db.get(\"sigma\")"
   ]
  },
  {
   "cell_type": "code",
   "execution_count": 124,
   "metadata": {},
   "outputs": [],
   "source": [
    "out_db = m.model_instances[\"calibrated\"].out_db"
   ]
  },
  {
   "cell_type": "code",
   "execution_count": 125,
   "metadata": {},
   "outputs": [],
   "source": [
    "m.write_and_run(name=\"oilshock\")\n",
    "#db_out = m.model_instances[\"baseline\"].out_db"
   ]
  },
  {
   "cell_type": "code",
   "execution_count": 126,
   "metadata": {},
   "outputs": [],
   "source": [
    "#m.write_and_run(name='taxshock', add_checkpoint='taxshock', overwrite=True)\n",
    "mi = m.model_instances['oilshock']"
   ]
  },
  {
   "cell_type": "code",
   "execution_count": 127,
   "metadata": {},
   "outputs": [],
   "source": [
    "#mi.out_db.series.__dict__"
   ]
  },
  {
   "cell_type": "markdown",
   "metadata": {},
   "source": [
    "*2: Define structure of shock* "
   ]
  },
  {
   "cell_type": "code",
   "execution_count": 128,
   "metadata": {},
   "outputs": [],
   "source": [
    "db_end_of_loop = DataBase.GPM_database()"
   ]
  },
  {
   "cell_type": "code",
   "execution_count": 129,
   "metadata": {},
   "outputs": [],
   "source": [
    "cond = out_db.get(\"PwT\").index.str.contains(\"oil\")\n",
    "db_end_of_loop[\"PwT\"] = out_db.get(\"PwT\")[cond] + 12\n",
    "#end_prices[cond] = out_db.get(\"PwT\")[cond] + 5\n",
    "#end_prices = end_prices[cond]"
   ]
  },
  {
   "cell_type": "code",
   "execution_count": 130,
   "metadata": {},
   "outputs": [
    {
     "data": {
      "text/plain": [
       "n\n",
       "C_EH_base_oil           13.0\n",
       "C_EL_base_oil           13.0\n",
       "C_ER_base_oil           13.0\n",
       "ID_1_oil                13.0\n",
       "ID_2_oil                13.0\n",
       "ID_5_oil                13.0\n",
       "U_ID_C_EH_1_base_oil    13.0\n",
       "U_ID_C_EH_2_base_oil    13.0\n",
       "U_ID_C_EH_3_base_oil    13.0\n",
       "U_ID_C_EL_1_base_oil    13.0\n",
       "U_ID_C_EL_2_base_oil    13.0\n",
       "U_ID_C_EL_3_base_oil    13.0\n",
       "U_ID_C_EL_4_base_oil    13.0\n",
       "U_ID_C_EL_5_base_oil    13.0\n",
       "U_ID_C_ER_1_base_oil    13.0\n",
       "U_ID_C_ER_2_base_oil    13.0\n",
       "Name: PwT, dtype: float64"
      ]
     },
     "execution_count": 130,
     "metadata": {},
     "output_type": "execute_result"
    }
   ],
   "source": [
    "db_end_of_loop.series[\"PwT\"].vals"
   ]
  },
  {
   "cell_type": "code",
   "execution_count": 131,
   "metadata": {},
   "outputs": [],
   "source": [
    "#NY ME DDIREKTE\n",
    "#m.model_instances[\"oilshock\"].solve_sneakily(db_star=db_end_of_loop, from_cp=True, cp_init=m.checkpoints[\"calibrated\"])"
   ]
  },
  {
   "cell_type": "code",
   "execution_count": 132,
   "metadata": {},
   "outputs": [],
   "source": [
    "(shock_db, shock_kwargs) = ShockFunction.sneaky_db(out_db, db_end_of_loop, n_steps = 25, loop_name='oil_loop')"
   ]
  },
  {
   "cell_type": "markdown",
   "metadata": {},
   "source": [
    "*3: Define the solution we wish to store for each iteration (conditions argument is optional, but here we extract only the production sector goods):*"
   ]
  },
  {
   "cell_type": "code",
   "execution_count": 133,
   "metadata": {},
   "outputs": [
    {
     "data": {
      "text/plain": [
       "Index(['C_EH_base_oil', 'C_EL_base_oil', 'C_ER_base_oil', 'ID_1_oil',\n",
       "       'ID_2_oil', 'ID_5_oil', 'U_ID_C_EH_1_base_oil', 'U_ID_C_EH_2_base_oil',\n",
       "       'U_ID_C_EH_3_base_oil', 'U_ID_C_EL_1_base_oil', 'U_ID_C_EL_2_base_oil',\n",
       "       'U_ID_C_EL_3_base_oil', 'U_ID_C_EL_4_base_oil', 'U_ID_C_EL_5_base_oil',\n",
       "       'U_ID_C_ER_1_base_oil', 'U_ID_C_ER_2_base_oil'],\n",
       "      dtype='object', name='n')"
      ]
     },
     "execution_count": 133,
     "metadata": {},
     "output_type": "execute_result"
    }
   ],
   "source": [
    "shock_db.series[\"PwT_oil_loop_subset\"].vals"
   ]
  },
  {
   "cell_type": "code",
   "execution_count": 134,
   "metadata": {},
   "outputs": [],
   "source": [
    "store_sol = {'qD': {'domains': shock_kwargs['loop_name']}}"
   ]
  },
  {
   "cell_type": "markdown",
   "metadata": {},
   "source": [
    "*4: Create Shock instance*"
   ]
  },
  {
   "cell_type": "code",
   "execution_count": 135,
   "metadata": {},
   "outputs": [],
   "source": [
    "shock = mi.std_UEVAS_from_db(shock_db, loop_name=shock_kwargs['loop_name'], shock_name=shock_kwargs['shock_name'], store_sol=store_sol)\n",
    "#shock = mi.std_UEVAS_from_db(shock_db, loop_name=shock_kwargs['loop_name'], shock_name=shock_kwargs['shock_name'])\n",
    "#solve_sneakily skal have selve checkpointet\n",
    "#Gør noget så sneaky solve laver et sidste checkpoint"
   ]
  },
  {
   "cell_type": "markdown",
   "metadata": {},
   "source": [
    "*5: Execute shock from the 'calibrated' checkpoint i.e. the model state after the sigmas have been chosen:*"
   ]
  },
  {
   "cell_type": "code",
   "execution_count": 136,
   "metadata": {},
   "outputs": [],
   "source": [
    "mi.execute_shock_from_cp(shock=shock, cp=m.checkpoints['calibrated'])"
   ]
  },
  {
   "cell_type": "code",
   "execution_count": 137,
   "metadata": {},
   "outputs": [],
   "source": [
    "sol_qD = mi.out_db.series[\"sol_qD\"].vals"
   ]
  },
  {
   "cell_type": "code",
   "execution_count": 138,
   "metadata": {},
   "outputs": [],
   "source": [
    "#tech_names = [\"ID_thighest\", \"ID_thigher\", \"ID_tmedium\", \"ID_tlower\", \"ID_tlowest\"]\n",
    "#sol_qD.loc(axis=0)[\"oil_loop_1\", tech_names]"
   ]
  },
  {
   "cell_type": "code",
   "execution_count": 139,
   "metadata": {},
   "outputs": [],
   "source": [
    "sol_qD.reset_index().to_excel(os.getcwd() + \"\\\\oil_price_shock_\" + inputfile.split(\"_\")[-1], index=False)"
   ]
  },
  {
   "cell_type": "code",
   "execution_count": 140,
   "metadata": {},
   "outputs": [],
   "source": [
    "#m.model_instances[\"oilshock\"].solve_sneakily(db_star=db_end_of_loop, from_cp=True, cp_init=m.checkpoints[\"oilshock\"])"
   ]
  },
  {
   "cell_type": "markdown",
   "metadata": {},
   "source": [
    "The solution is stored as a parameter noted as \"sol_\"+ the name of the variable. In our case, the specific quantities are stored:"
   ]
  },
  {
   "cell_type": "markdown",
   "metadata": {},
   "source": [
    "### **3.1 Diagnostics (dated)**\n",
    "When the model cannot be solved, we run some diagnostics:"
   ]
  },
  {
   "cell_type": "code",
   "execution_count": null,
   "metadata": {},
   "outputs": [],
   "source": [
    "# for symbol in [\"PbT\", \"PwT\", \"qD\"]:\n",
    "#     start_vals = m.model_instances[\"baseline\"].out_db.series[\"load_\" + symbol].vals\n",
    "#     end_vals = m.model_instances[\"baseline\"].out_db.series[symbol].vals\n",
    "#     rel_changes = (end_vals - start_vals)/start_vals\n",
    "#     large_changes = rel_changes[~(rel_changes.between(-0.0001, 0.0001))]\n",
    "#     if len(large_changes) > 0:\n",
    "#         print(\"Large deviations for symbol \\n\" + symbol + \":\")\n",
    "#         print(large_changes, \"\\n\")\n",
    "#     else:\n",
    "#         print(\"No large deviations for symbol: \" + symbol + \".\\n\")"
   ]
  },
  {
   "cell_type": "code",
   "execution_count": null,
   "metadata": {},
   "outputs": [],
   "source": [
    "# from decimal import Decimal"
   ]
  },
  {
   "cell_type": "code",
   "execution_count": null,
   "metadata": {},
   "outputs": [],
   "source": [
    "# #Demands\n",
    "# print(Decimal(qD[\"U_EOP_tau1_1\"] - mu[(\"U_EOP_tau1_1\", \"C_CO2_1\")] * qS[\"C_CO2_1\"]))\n",
    "# print(Decimal(qD[\"EOP_tau1\"] - mu.loc[(\"U_EOP_tau1_1\", \"EOP_tau1\")] * qD[\"U_EOP_tau1_1\"]))\n",
    "# print(Decimal(qD[\"EOP_tau1_electricity\"] - mu[(\"EOP_tau1_electricity\", \"EOP_tau1\")] * qD[\"EOP_tau1\"]))\n",
    "# print(Decimal(qD[\"EOP_tau1_K\"] - mu[(\"EOP_tau1_K\", \"EOP_tau1\")] * qD[\"EOP_tau1\"]))\n",
    "# #zero profits\n",
    "# print(Decimal(qS[\"C_CO2_1\"]*PbT[\"C_CO2_1\"] - qD[\"U_EOP_tau1_1\"]*PwT[\"U_EOP_tau1_1\"]))\n",
    "# print(Decimal(qD[\"U_EOP_tau1_1\"]*PwT[\"U_EOP_tau1_1\"] - qD[\"EOP_tau1\"]*PwT[\"EOP_tau1\"]))\n",
    "# print(Decimal(qD[\"EOP_tau1\"]*PwT[\"EOP_tau1\"] - qD[\"EOP_tau1_electricity\"]*PwT[\"EOP_tau1_electricity\"] - qD[\"EOP_tau1_K\"]*PwT[\"EOP_tau1_K\"]))"
   ]
  },
  {
   "cell_type": "code",
   "execution_count": null,
   "metadata": {},
   "outputs": [],
   "source": []
  },
  {
   "cell_type": "code",
   "execution_count": null,
   "metadata": {},
   "outputs": [],
   "source": []
  },
  {
   "cell_type": "code",
   "execution_count": null,
   "metadata": {},
   "outputs": [],
   "source": []
  },
  {
   "cell_type": "code",
   "execution_count": null,
   "metadata": {},
   "outputs": [],
   "source": []
  },
  {
   "cell_type": "code",
   "execution_count": null,
   "metadata": {},
   "outputs": [],
   "source": []
  },
  {
   "cell_type": "code",
   "execution_count": null,
   "metadata": {},
   "outputs": [],
   "source": []
  },
  {
   "cell_type": "code",
   "execution_count": null,
   "metadata": {},
   "outputs": [],
   "source": []
  },
  {
   "cell_type": "code",
   "execution_count": null,
   "metadata": {},
   "outputs": [],
   "source": []
  },
  {
   "cell_type": "code",
   "execution_count": null,
   "metadata": {},
   "outputs": [],
   "source": []
  },
  {
   "cell_type": "code",
   "execution_count": null,
   "metadata": {},
   "outputs": [],
   "source": []
  },
  {
   "cell_type": "code",
   "execution_count": null,
   "metadata": {},
   "outputs": [],
   "source": []
  }
 ],
 "metadata": {
  "kernelspec": {
   "display_name": "Python 3",
   "language": "python",
   "name": "python3"
  },
  "language_info": {
   "codemirror_mode": {
    "name": "ipython",
    "version": 3
   },
   "file_extension": ".py",
   "mimetype": "text/x-python",
   "name": "python",
   "nbconvert_exporter": "python",
   "pygments_lexer": "ipython3",
   "version": "3.7.4"
  }
 },
 "nbformat": 4,
 "nbformat_minor": 4
}
