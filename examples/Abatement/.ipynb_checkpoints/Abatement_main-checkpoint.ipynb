{
 "cells": [
  {
   "cell_type": "markdown",
   "metadata": {},
   "source": [
    "### Load packages etc, and load the child-class of gmspython, \"Abatement\", and load \"techdata_to_tree\" which converts a technology catalog into production trees"
   ]
  },
  {
   "cell_type": "code",
   "execution_count": 2,
   "metadata": {},
   "outputs": [
    {
     "ename": "IndexError",
     "evalue": "list index out of range",
     "output_type": "error",
     "traceback": [
      "\u001b[1;31m---------------------------------------------------------------------------\u001b[0m",
      "\u001b[1;31mIndexError\u001b[0m                                Traceback (most recent call last)",
      "\u001b[1;32m~\\Documents\\GitHub\\GPM_v05\\examples\\Abatement\\StdPackages.ipynb\u001b[0m in \u001b[0;36m<module>\u001b[1;34m\u001b[0m\n\u001b[0;32m      2\u001b[0m \u001b[0mcurr\u001b[0m \u001b[1;33m=\u001b[0m \u001b[0mos\u001b[0m\u001b[1;33m.\u001b[0m\u001b[0mgetcwd\u001b[0m\u001b[1;33m(\u001b[0m\u001b[1;33m)\u001b[0m\u001b[1;33m\u001b[0m\u001b[1;33m\u001b[0m\u001b[0m\n\u001b[0;32m      3\u001b[0m \u001b[0mmain\u001b[0m \u001b[1;33m=\u001b[0m \u001b[0mos\u001b[0m\u001b[1;33m.\u001b[0m\u001b[0mgetcwd\u001b[0m\u001b[1;33m(\u001b[0m\u001b[1;33m)\u001b[0m\u001b[1;33m.\u001b[0m\u001b[0msplit\u001b[0m\u001b[1;33m(\u001b[0m\u001b[1;34m'GPM_v4'\u001b[0m\u001b[1;33m)\u001b[0m\u001b[1;33m[\u001b[0m\u001b[1;36m0\u001b[0m\u001b[1;33m]\u001b[0m\u001b[1;33m+\u001b[0m\u001b[1;34m'GPM_v4'\u001b[0m\u001b[1;33m\u001b[0m\u001b[1;33m\u001b[0m\u001b[0m\n\u001b[1;32m----> 4\u001b[1;33m \u001b[0mproject\u001b[0m \u001b[1;33m=\u001b[0m \u001b[0mmain\u001b[0m\u001b[1;33m+\u001b[0m\u001b[1;34m'\\\\'\u001b[0m\u001b[1;33m+\u001b[0m\u001b[0mos\u001b[0m\u001b[1;33m.\u001b[0m\u001b[0mgetcwd\u001b[0m\u001b[1;33m(\u001b[0m\u001b[1;33m)\u001b[0m\u001b[1;33m.\u001b[0m\u001b[0msplit\u001b[0m\u001b[1;33m(\u001b[0m\u001b[1;34m'GPM_v4'\u001b[0m\u001b[1;33m)\u001b[0m\u001b[1;33m[\u001b[0m\u001b[1;36m1\u001b[0m\u001b[1;33m]\u001b[0m\u001b[1;33m.\u001b[0m\u001b[0msplit\u001b[0m\u001b[1;33m(\u001b[0m\u001b[1;34m'\\\\'\u001b[0m\u001b[1;33m)\u001b[0m\u001b[1;33m[\u001b[0m\u001b[1;36m1\u001b[0m\u001b[1;33m]\u001b[0m\u001b[1;33m\u001b[0m\u001b[1;33m\u001b[0m\u001b[0m\n\u001b[0m\u001b[0;32m      5\u001b[0m \u001b[0mwork_folder\u001b[0m \u001b[1;33m=\u001b[0m \u001b[0mmain\u001b[0m\u001b[1;33m+\u001b[0m\u001b[1;34m'\\\\work_folder'\u001b[0m\u001b[1;33m\u001b[0m\u001b[1;33m\u001b[0m\u001b[0m\n\u001b[0;32m      6\u001b[0m \u001b[0mpy\u001b[0m \u001b[1;33m=\u001b[0m \u001b[1;33m{\u001b[0m\u001b[1;33m}\u001b[0m\u001b[1;33m\u001b[0m\u001b[1;33m\u001b[0m\u001b[0m\n",
      "\u001b[1;31mIndexError\u001b[0m: list index out of range"
     ]
    },
    {
     "ename": "IndexError",
     "evalue": "list index out of range",
     "output_type": "error",
     "traceback": [
      "\u001b[1;31m---------------------------------------------------------------------------\u001b[0m",
      "\u001b[1;31mIndexError\u001b[0m                                Traceback (most recent call last)",
      "\u001b[1;32m<ipython-input-2-f9a12fe6089b>\u001b[0m in \u001b[0;36m<module>\u001b[1;34m\u001b[0m\n\u001b[0;32m      1\u001b[0m \u001b[0mclean_up\u001b[0m\u001b[1;33m=\u001b[0m\u001b[1;32mTrue\u001b[0m \u001b[1;31m# removes gams-related files in work-folder if true\u001b[0m\u001b[1;33m\u001b[0m\u001b[1;33m\u001b[0m\u001b[0m\n\u001b[1;32m----> 2\u001b[1;33m \u001b[0mget_ipython\u001b[0m\u001b[1;33m(\u001b[0m\u001b[1;33m)\u001b[0m\u001b[1;33m.\u001b[0m\u001b[0mrun_line_magic\u001b[0m\u001b[1;33m(\u001b[0m\u001b[1;34m'run'\u001b[0m\u001b[1;33m,\u001b[0m \u001b[1;34m'StdPackages.ipynb'\u001b[0m\u001b[1;33m)\u001b[0m\u001b[1;33m\u001b[0m\u001b[1;33m\u001b[0m\u001b[0m\n\u001b[0m\u001b[0;32m      3\u001b[0m \u001b[1;31m# os.chdir(py['main'])\u001b[0m\u001b[1;33m\u001b[0m\u001b[1;33m\u001b[0m\u001b[1;33m\u001b[0m\u001b[0m\n\u001b[0;32m      4\u001b[0m \u001b[1;31m# import abatement, techdata_to_tree, sys, ShockFunction\u001b[0m\u001b[1;33m\u001b[0m\u001b[1;33m\u001b[0m\u001b[1;33m\u001b[0m\u001b[0m\n\u001b[0;32m      5\u001b[0m \u001b[1;31m# os.chdir(curr)\u001b[0m\u001b[1;33m\u001b[0m\u001b[1;33m\u001b[0m\u001b[1;33m\u001b[0m\u001b[0m\n",
      "\u001b[1;32m~\\AppData\\Local\\Continuum\\anaconda3\\lib\\site-packages\\IPython\\core\\interactiveshell.py\u001b[0m in \u001b[0;36mrun_line_magic\u001b[1;34m(self, magic_name, line, _stack_depth)\u001b[0m\n\u001b[0;32m   2342\u001b[0m                 \u001b[0mkwargs\u001b[0m\u001b[1;33m[\u001b[0m\u001b[1;34m'local_ns'\u001b[0m\u001b[1;33m]\u001b[0m \u001b[1;33m=\u001b[0m \u001b[0mself\u001b[0m\u001b[1;33m.\u001b[0m\u001b[0mget_local_scope\u001b[0m\u001b[1;33m(\u001b[0m\u001b[0mstack_depth\u001b[0m\u001b[1;33m)\u001b[0m\u001b[1;33m\u001b[0m\u001b[1;33m\u001b[0m\u001b[0m\n\u001b[0;32m   2343\u001b[0m             \u001b[1;32mwith\u001b[0m \u001b[0mself\u001b[0m\u001b[1;33m.\u001b[0m\u001b[0mbuiltin_trap\u001b[0m\u001b[1;33m:\u001b[0m\u001b[1;33m\u001b[0m\u001b[1;33m\u001b[0m\u001b[0m\n\u001b[1;32m-> 2344\u001b[1;33m                 \u001b[0mresult\u001b[0m \u001b[1;33m=\u001b[0m \u001b[0mfn\u001b[0m\u001b[1;33m(\u001b[0m\u001b[1;33m*\u001b[0m\u001b[0margs\u001b[0m\u001b[1;33m,\u001b[0m \u001b[1;33m**\u001b[0m\u001b[0mkwargs\u001b[0m\u001b[1;33m)\u001b[0m\u001b[1;33m\u001b[0m\u001b[1;33m\u001b[0m\u001b[0m\n\u001b[0m\u001b[0;32m   2345\u001b[0m             \u001b[1;32mreturn\u001b[0m \u001b[0mresult\u001b[0m\u001b[1;33m\u001b[0m\u001b[1;33m\u001b[0m\u001b[0m\n\u001b[0;32m   2346\u001b[0m \u001b[1;33m\u001b[0m\u001b[0m\n",
      "\u001b[1;32m~\\AppData\\Local\\Continuum\\anaconda3\\lib\\site-packages\\decorator.py\u001b[0m in \u001b[0;36mfun\u001b[1;34m(*args, **kw)\u001b[0m\n\u001b[0;32m    230\u001b[0m             \u001b[1;32mif\u001b[0m \u001b[1;32mnot\u001b[0m \u001b[0mkwsyntax\u001b[0m\u001b[1;33m:\u001b[0m\u001b[1;33m\u001b[0m\u001b[1;33m\u001b[0m\u001b[0m\n\u001b[0;32m    231\u001b[0m                 \u001b[0margs\u001b[0m\u001b[1;33m,\u001b[0m \u001b[0mkw\u001b[0m \u001b[1;33m=\u001b[0m \u001b[0mfix\u001b[0m\u001b[1;33m(\u001b[0m\u001b[0margs\u001b[0m\u001b[1;33m,\u001b[0m \u001b[0mkw\u001b[0m\u001b[1;33m,\u001b[0m \u001b[0msig\u001b[0m\u001b[1;33m)\u001b[0m\u001b[1;33m\u001b[0m\u001b[1;33m\u001b[0m\u001b[0m\n\u001b[1;32m--> 232\u001b[1;33m             \u001b[1;32mreturn\u001b[0m \u001b[0mcaller\u001b[0m\u001b[1;33m(\u001b[0m\u001b[0mfunc\u001b[0m\u001b[1;33m,\u001b[0m \u001b[1;33m*\u001b[0m\u001b[1;33m(\u001b[0m\u001b[0mextras\u001b[0m \u001b[1;33m+\u001b[0m \u001b[0margs\u001b[0m\u001b[1;33m)\u001b[0m\u001b[1;33m,\u001b[0m \u001b[1;33m**\u001b[0m\u001b[0mkw\u001b[0m\u001b[1;33m)\u001b[0m\u001b[1;33m\u001b[0m\u001b[1;33m\u001b[0m\u001b[0m\n\u001b[0m\u001b[0;32m    233\u001b[0m     \u001b[0mfun\u001b[0m\u001b[1;33m.\u001b[0m\u001b[0m__name__\u001b[0m \u001b[1;33m=\u001b[0m \u001b[0mfunc\u001b[0m\u001b[1;33m.\u001b[0m\u001b[0m__name__\u001b[0m\u001b[1;33m\u001b[0m\u001b[1;33m\u001b[0m\u001b[0m\n\u001b[0;32m    234\u001b[0m     \u001b[0mfun\u001b[0m\u001b[1;33m.\u001b[0m\u001b[0m__signature__\u001b[0m \u001b[1;33m=\u001b[0m \u001b[0msig\u001b[0m\u001b[1;33m\u001b[0m\u001b[1;33m\u001b[0m\u001b[0m\n",
      "\u001b[1;32m~\\AppData\\Local\\Continuum\\anaconda3\\lib\\site-packages\\IPython\\core\\magic.py\u001b[0m in \u001b[0;36m<lambda>\u001b[1;34m(f, *a, **k)\u001b[0m\n\u001b[0;32m    185\u001b[0m     \u001b[1;31m# but it's overkill for just that one bit of state.\u001b[0m\u001b[1;33m\u001b[0m\u001b[1;33m\u001b[0m\u001b[1;33m\u001b[0m\u001b[0m\n\u001b[0;32m    186\u001b[0m     \u001b[1;32mdef\u001b[0m \u001b[0mmagic_deco\u001b[0m\u001b[1;33m(\u001b[0m\u001b[0marg\u001b[0m\u001b[1;33m)\u001b[0m\u001b[1;33m:\u001b[0m\u001b[1;33m\u001b[0m\u001b[1;33m\u001b[0m\u001b[0m\n\u001b[1;32m--> 187\u001b[1;33m         \u001b[0mcall\u001b[0m \u001b[1;33m=\u001b[0m \u001b[1;32mlambda\u001b[0m \u001b[0mf\u001b[0m\u001b[1;33m,\u001b[0m \u001b[1;33m*\u001b[0m\u001b[0ma\u001b[0m\u001b[1;33m,\u001b[0m \u001b[1;33m**\u001b[0m\u001b[0mk\u001b[0m\u001b[1;33m:\u001b[0m \u001b[0mf\u001b[0m\u001b[1;33m(\u001b[0m\u001b[1;33m*\u001b[0m\u001b[0ma\u001b[0m\u001b[1;33m,\u001b[0m \u001b[1;33m**\u001b[0m\u001b[0mk\u001b[0m\u001b[1;33m)\u001b[0m\u001b[1;33m\u001b[0m\u001b[1;33m\u001b[0m\u001b[0m\n\u001b[0m\u001b[0;32m    188\u001b[0m \u001b[1;33m\u001b[0m\u001b[0m\n\u001b[0;32m    189\u001b[0m         \u001b[1;32mif\u001b[0m \u001b[0mcallable\u001b[0m\u001b[1;33m(\u001b[0m\u001b[0marg\u001b[0m\u001b[1;33m)\u001b[0m\u001b[1;33m:\u001b[0m\u001b[1;33m\u001b[0m\u001b[1;33m\u001b[0m\u001b[0m\n",
      "\u001b[1;32m~\\AppData\\Local\\Continuum\\anaconda3\\lib\\site-packages\\IPython\\core\\magics\\execution.py\u001b[0m in \u001b[0;36mrun\u001b[1;34m(self, parameter_s, runner, file_finder)\u001b[0m\n\u001b[0;32m    722\u001b[0m             \u001b[1;32mwith\u001b[0m \u001b[0mpreserve_keys\u001b[0m\u001b[1;33m(\u001b[0m\u001b[0mself\u001b[0m\u001b[1;33m.\u001b[0m\u001b[0mshell\u001b[0m\u001b[1;33m.\u001b[0m\u001b[0muser_ns\u001b[0m\u001b[1;33m,\u001b[0m \u001b[1;34m'__file__'\u001b[0m\u001b[1;33m)\u001b[0m\u001b[1;33m:\u001b[0m\u001b[1;33m\u001b[0m\u001b[1;33m\u001b[0m\u001b[0m\n\u001b[0;32m    723\u001b[0m                 \u001b[0mself\u001b[0m\u001b[1;33m.\u001b[0m\u001b[0mshell\u001b[0m\u001b[1;33m.\u001b[0m\u001b[0muser_ns\u001b[0m\u001b[1;33m[\u001b[0m\u001b[1;34m'__file__'\u001b[0m\u001b[1;33m]\u001b[0m \u001b[1;33m=\u001b[0m \u001b[0mfilename\u001b[0m\u001b[1;33m\u001b[0m\u001b[1;33m\u001b[0m\u001b[0m\n\u001b[1;32m--> 724\u001b[1;33m                 \u001b[0mself\u001b[0m\u001b[1;33m.\u001b[0m\u001b[0mshell\u001b[0m\u001b[1;33m.\u001b[0m\u001b[0msafe_execfile_ipy\u001b[0m\u001b[1;33m(\u001b[0m\u001b[0mfilename\u001b[0m\u001b[1;33m,\u001b[0m \u001b[0mraise_exceptions\u001b[0m\u001b[1;33m=\u001b[0m\u001b[1;32mTrue\u001b[0m\u001b[1;33m)\u001b[0m\u001b[1;33m\u001b[0m\u001b[1;33m\u001b[0m\u001b[0m\n\u001b[0m\u001b[0;32m    725\u001b[0m             \u001b[1;32mreturn\u001b[0m\u001b[1;33m\u001b[0m\u001b[1;33m\u001b[0m\u001b[0m\n\u001b[0;32m    726\u001b[0m \u001b[1;33m\u001b[0m\u001b[0m\n",
      "\u001b[1;32m~\\AppData\\Local\\Continuum\\anaconda3\\lib\\site-packages\\IPython\\core\\interactiveshell.py\u001b[0m in \u001b[0;36msafe_execfile_ipy\u001b[1;34m(self, fname, shell_futures, raise_exceptions)\u001b[0m\n\u001b[0;32m   2829\u001b[0m                     \u001b[0mresult\u001b[0m \u001b[1;33m=\u001b[0m \u001b[0mself\u001b[0m\u001b[1;33m.\u001b[0m\u001b[0mrun_cell\u001b[0m\u001b[1;33m(\u001b[0m\u001b[0mcell\u001b[0m\u001b[1;33m,\u001b[0m \u001b[0msilent\u001b[0m\u001b[1;33m=\u001b[0m\u001b[1;32mTrue\u001b[0m\u001b[1;33m,\u001b[0m \u001b[0mshell_futures\u001b[0m\u001b[1;33m=\u001b[0m\u001b[0mshell_futures\u001b[0m\u001b[1;33m)\u001b[0m\u001b[1;33m\u001b[0m\u001b[1;33m\u001b[0m\u001b[0m\n\u001b[0;32m   2830\u001b[0m                     \u001b[1;32mif\u001b[0m \u001b[0mraise_exceptions\u001b[0m\u001b[1;33m:\u001b[0m\u001b[1;33m\u001b[0m\u001b[1;33m\u001b[0m\u001b[0m\n\u001b[1;32m-> 2831\u001b[1;33m                         \u001b[0mresult\u001b[0m\u001b[1;33m.\u001b[0m\u001b[0mraise_error\u001b[0m\u001b[1;33m(\u001b[0m\u001b[1;33m)\u001b[0m\u001b[1;33m\u001b[0m\u001b[1;33m\u001b[0m\u001b[0m\n\u001b[0m\u001b[0;32m   2832\u001b[0m                     \u001b[1;32melif\u001b[0m \u001b[1;32mnot\u001b[0m \u001b[0mresult\u001b[0m\u001b[1;33m.\u001b[0m\u001b[0msuccess\u001b[0m\u001b[1;33m:\u001b[0m\u001b[1;33m\u001b[0m\u001b[1;33m\u001b[0m\u001b[0m\n\u001b[0;32m   2833\u001b[0m                         \u001b[1;32mbreak\u001b[0m\u001b[1;33m\u001b[0m\u001b[1;33m\u001b[0m\u001b[0m\n",
      "\u001b[1;32m~\\AppData\\Local\\Continuum\\anaconda3\\lib\\site-packages\\IPython\\core\\interactiveshell.py\u001b[0m in \u001b[0;36mraise_error\u001b[1;34m(self)\u001b[0m\n\u001b[0;32m    329\u001b[0m             \u001b[1;32mraise\u001b[0m \u001b[0mself\u001b[0m\u001b[1;33m.\u001b[0m\u001b[0merror_before_exec\u001b[0m\u001b[1;33m\u001b[0m\u001b[1;33m\u001b[0m\u001b[0m\n\u001b[0;32m    330\u001b[0m         \u001b[1;32mif\u001b[0m \u001b[0mself\u001b[0m\u001b[1;33m.\u001b[0m\u001b[0merror_in_exec\u001b[0m \u001b[1;32mis\u001b[0m \u001b[1;32mnot\u001b[0m \u001b[1;32mNone\u001b[0m\u001b[1;33m:\u001b[0m\u001b[1;33m\u001b[0m\u001b[1;33m\u001b[0m\u001b[0m\n\u001b[1;32m--> 331\u001b[1;33m             \u001b[1;32mraise\u001b[0m \u001b[0mself\u001b[0m\u001b[1;33m.\u001b[0m\u001b[0merror_in_exec\u001b[0m\u001b[1;33m\u001b[0m\u001b[1;33m\u001b[0m\u001b[0m\n\u001b[0m\u001b[0;32m    332\u001b[0m \u001b[1;33m\u001b[0m\u001b[0m\n\u001b[0;32m    333\u001b[0m     \u001b[1;32mdef\u001b[0m \u001b[0m__repr__\u001b[0m\u001b[1;33m(\u001b[0m\u001b[0mself\u001b[0m\u001b[1;33m)\u001b[0m\u001b[1;33m:\u001b[0m\u001b[1;33m\u001b[0m\u001b[1;33m\u001b[0m\u001b[0m\n",
      "    \u001b[1;31m[... skipping hidden 1 frame]\u001b[0m\n",
      "\u001b[1;32m<ipython-input-2-bc4f1e3f23b1>\u001b[0m in \u001b[0;36m<module>\u001b[1;34m\u001b[0m\n\u001b[0;32m      2\u001b[0m \u001b[0mcurr\u001b[0m \u001b[1;33m=\u001b[0m \u001b[0mos\u001b[0m\u001b[1;33m.\u001b[0m\u001b[0mgetcwd\u001b[0m\u001b[1;33m(\u001b[0m\u001b[1;33m)\u001b[0m\u001b[1;33m\u001b[0m\u001b[1;33m\u001b[0m\u001b[0m\n\u001b[0;32m      3\u001b[0m \u001b[0mmain\u001b[0m \u001b[1;33m=\u001b[0m \u001b[0mos\u001b[0m\u001b[1;33m.\u001b[0m\u001b[0mgetcwd\u001b[0m\u001b[1;33m(\u001b[0m\u001b[1;33m)\u001b[0m\u001b[1;33m.\u001b[0m\u001b[0msplit\u001b[0m\u001b[1;33m(\u001b[0m\u001b[1;34m'GPM_v4'\u001b[0m\u001b[1;33m)\u001b[0m\u001b[1;33m[\u001b[0m\u001b[1;36m0\u001b[0m\u001b[1;33m]\u001b[0m\u001b[1;33m+\u001b[0m\u001b[1;34m'GPM_v4'\u001b[0m\u001b[1;33m\u001b[0m\u001b[1;33m\u001b[0m\u001b[0m\n\u001b[1;32m----> 4\u001b[1;33m \u001b[0mproject\u001b[0m \u001b[1;33m=\u001b[0m \u001b[0mmain\u001b[0m\u001b[1;33m+\u001b[0m\u001b[1;34m'\\\\'\u001b[0m\u001b[1;33m+\u001b[0m\u001b[0mos\u001b[0m\u001b[1;33m.\u001b[0m\u001b[0mgetcwd\u001b[0m\u001b[1;33m(\u001b[0m\u001b[1;33m)\u001b[0m\u001b[1;33m.\u001b[0m\u001b[0msplit\u001b[0m\u001b[1;33m(\u001b[0m\u001b[1;34m'GPM_v4'\u001b[0m\u001b[1;33m)\u001b[0m\u001b[1;33m[\u001b[0m\u001b[1;36m1\u001b[0m\u001b[1;33m]\u001b[0m\u001b[1;33m.\u001b[0m\u001b[0msplit\u001b[0m\u001b[1;33m(\u001b[0m\u001b[1;34m'\\\\'\u001b[0m\u001b[1;33m)\u001b[0m\u001b[1;33m[\u001b[0m\u001b[1;36m1\u001b[0m\u001b[1;33m]\u001b[0m\u001b[1;33m\u001b[0m\u001b[1;33m\u001b[0m\u001b[0m\n\u001b[0m\u001b[0;32m      5\u001b[0m \u001b[0mwork_folder\u001b[0m \u001b[1;33m=\u001b[0m \u001b[0mmain\u001b[0m\u001b[1;33m+\u001b[0m\u001b[1;34m'\\\\work_folder'\u001b[0m\u001b[1;33m\u001b[0m\u001b[1;33m\u001b[0m\u001b[0m\n\u001b[0;32m      6\u001b[0m \u001b[0mpy\u001b[0m \u001b[1;33m=\u001b[0m \u001b[1;33m{\u001b[0m\u001b[1;33m}\u001b[0m\u001b[1;33m\u001b[0m\u001b[1;33m\u001b[0m\u001b[0m\n",
      "\u001b[1;31mIndexError\u001b[0m: list index out of range"
     ]
    }
   ],
   "source": [
    "clean_up=True # removes gams-related files in work-folder if true\n",
    "%run StdPackages.ipynb\n",
    "# os.chdir(py['main'])\n",
    "# import abatement, techdata_to_tree, sys, ShockFunction\n",
    "# os.chdir(curr)\n",
    "# data_folder = os.getcwd()+'\\\\Data'\n",
    "# gams_folder = data_folder + \"\\\\..\\\\gamsmodels\\\\Main\""
   ]
  },
  {
   "cell_type": "markdown",
   "metadata": {},
   "source": [
    "# **1.1 Construct trees**"
   ]
  },
  {
   "cell_type": "markdown",
   "metadata": {},
   "source": [
    "#### Load technology data.\n",
    "This runs the script in techdata_to_tree:"
   ]
  },
  {
   "cell_type": "code",
   "execution_count": 3,
   "metadata": {},
   "outputs": [],
   "source": [
    "inputfile = \"techdata_ID.xlsx\"\n",
    "#inputfile = \"techdata_ID_oil.xlsx\"\n",
    "output = techdata_to_tree.load_techcats(pd.read_excel(data_folder + \"/\" + inputfile, sheet_name=[\"inputdisp\", \"endofpipe\", \"inputprices\"]))"
   ]
  },
  {
   "cell_type": "markdown",
   "metadata": {},
   "source": [
    "#### The output of the code is a dictionary with three upper keys:"
   ]
  },
  {
   "cell_type": "code",
   "execution_count": 4,
   "metadata": {},
   "outputs": [
    {
     "data": {
      "text/plain": [
       "dict_keys(['ID', 'inputprices', 'EOP'])"
      ]
     },
     "execution_count": 4,
     "metadata": {},
     "output_type": "execute_result"
    }
   ],
   "source": [
    "output.keys()"
   ]
  },
  {
   "cell_type": "markdown",
   "metadata": {},
   "source": [
    "The two different modules correspond to the two types of technology catalogs that the model can handle.\\\n",
    "*Input-displacing* (ID) and *End of pipe* (EOP)."
   ]
  },
  {
   "cell_type": "code",
   "execution_count": 5,
   "metadata": {},
   "outputs": [],
   "source": [
    "modules = [\"ID\", \"EOP\"]"
   ]
  },
  {
   "cell_type": "markdown",
   "metadata": {},
   "source": [
    "ID contains a dictionary related to input-displacing technologies, EOP does so for end of pipe (we use this naming convention throughout).\\\n",
    "They contain the following keys:"
   ]
  },
  {
   "cell_type": "code",
   "execution_count": 6,
   "metadata": {},
   "outputs": [
    {
     "name": "stdout",
     "output_type": "stream",
     "text": [
      "Keys of ID:  dict_keys(['techs_inputs', 'techs', 'components', 'upper_categories', 'mu', 'Q2P', 'unit_costs', 'current_coverages', 'coverage_potentials', 'baseline_C_inputs', 'baseline_U_inputs']) \n",
      "\n",
      "Keys of EOP:  dict_keys(['techs_inputs', 'techs', 'components', 'upper_categories', 'mu', 'Q2P', 'unit_costs', 'current_coverages', 'coverage_potentials']) \n",
      "\n"
     ]
    }
   ],
   "source": [
    "for module in modules:\n",
    "    print(\"Keys of \" + module + \": \", output[module].keys(), \"\\n\")"
   ]
  },
  {
   "cell_type": "markdown",
   "metadata": {},
   "source": [
    "As an example, \"techs\" shows, for each technology, which technology good it produces, e.g. for input-displacing:"
   ]
  },
  {
   "cell_type": "code",
   "execution_count": 7,
   "metadata": {},
   "outputs": [
    {
     "data": {
      "text/plain": [
       "{'ID_1': ['U_ID_1_1', 'U_ID_1_2', 'U_ID_1_3'],\n",
       " 'ID_2': ['U_ID_2_1', 'U_ID_2_2', 'U_ID_2_3'],\n",
       " 'ID_3': ['U_ID_3_1', 'U_ID_3_2'],\n",
       " 'ID_4': ['U_ID_4_1', 'U_ID_4_2', 'U_ID_4_3'],\n",
       " 'ID_5': ['U_ID_5_1', 'U_ID_5_2']}"
      ]
     },
     "execution_count": 7,
     "metadata": {},
     "output_type": "execute_result"
    }
   ],
   "source": [
    "output[\"ID\"][\"techs\"]"
   ]
  },
  {
   "cell_type": "markdown",
   "metadata": {},
   "source": [
    "And \"upper_categories\" shows the mapping between energy services (E) and their respective components (C) for ID.\\\n",
    "All of the trees in the `output` object are dictionaries where the keys are nodes in the tree and the values are lists of connected branches."
   ]
  },
  {
   "cell_type": "code",
   "execution_count": 8,
   "metadata": {},
   "outputs": [
    {
     "data": {
      "text/plain": [
       "{'EL': ['C_EL_1', 'C_EL_2', 'C_EL_3', 'C_EL_4', 'C_EL_5', 'C_EL_base'],\n",
       " 'EH': ['C_EH_1', 'C_EH_2', 'C_EH_3', 'C_EH_base'],\n",
       " 'ER': ['C_ER_1', 'C_ER_2', 'C_ER_base']}"
      ]
     },
     "execution_count": 8,
     "metadata": {},
     "output_type": "execute_result"
    }
   ],
   "source": [
    "output[\"ID\"][\"upper_categories\"]"
   ]
  },
  {
   "cell_type": "markdown",
   "metadata": {},
   "source": [
    "... and the mapping between emission types M ($CO_2$, $SO_2$ etc.) and the components C.\\\n",
    "Note importantly that this mapping does not constitute an actual part of the tree, because components are the outputs of the EOP sector.\\"
   ]
  },
  {
   "cell_type": "code",
   "execution_count": 9,
   "metadata": {},
   "outputs": [
    {
     "data": {
      "text/plain": [
       "{'CO2': ['C_CO2_1'], 'SO2': [], 'NOX': []}"
      ]
     },
     "execution_count": 9,
     "metadata": {},
     "output_type": "execute_result"
    }
   ],
   "source": [
    "output[\"EOP\"][\"upper_categories\"]"
   ]
  },
  {
   "cell_type": "markdown",
   "metadata": {},
   "source": [
    "### Initialize nesting tree, call it \"Abatement\"\n",
    "The construction of the production tree starts with an initialization of the *nesting_tree* class:"
   ]
  },
  {
   "cell_type": "code",
   "execution_count": 10,
   "metadata": {},
   "outputs": [],
   "source": [
    "nt = nesting_tree.nesting_tree(name='Abatement')"
   ]
  },
  {
   "cell_type": "markdown",
   "metadata": {},
   "source": [
    "The \"trees\" attribute starts off empty, reflecting that no (sub)trees have been added yet. "
   ]
  },
  {
   "cell_type": "code",
   "execution_count": 11,
   "metadata": {},
   "outputs": [
    {
     "data": {
      "text/plain": [
       "{}"
      ]
     },
     "execution_count": 11,
     "metadata": {},
     "output_type": "execute_result"
    }
   ],
   "source": [
    "nt.trees"
   ]
  },
  {
   "cell_type": "markdown",
   "metadata": {},
   "source": [
    "#### The following cells add each of the subtrees to the tree-object, \"nt\""
   ]
  },
  {
   "cell_type": "markdown",
   "metadata": {},
   "source": [
    "##### First, input-displacing subtrees"
   ]
  },
  {
   "cell_type": "markdown",
   "metadata": {},
   "source": [
    "Upper part, connecting energy services to components (this is an input-tree, so we do not supply additional keyword arguments).\\\n",
    "Again, we use the naming convention that a prefix reflects whether the tree is related to input-displacement (ID) or end of pipe (EOP).\n",
    "The prefix is followed by an underscore and then letters reflecting which elements in the tree are connected."
   ]
  },
  {
   "cell_type": "markdown",
   "metadata": {},
   "source": [
    "The first tree connects energy services (E) to components (C), related to input-displacing technologies (ID)"
   ]
  },
  {
   "cell_type": "code",
   "execution_count": 12,
   "metadata": {},
   "outputs": [],
   "source": [
    "nt.add_tree(output[\"ID\"][\"upper_categories\"], tree_name = 'ID_EC')"
   ]
  },
  {
   "cell_type": "markdown",
   "metadata": {},
   "source": [
    "Before proceeding to the next tree, lets print some information from this tree.\\\n",
    "First, we see that the tree has been added to the list of trees in the \"aggregate\" tree, nt:"
   ]
  },
  {
   "cell_type": "code",
   "execution_count": 13,
   "metadata": {},
   "outputs": [
    {
     "data": {
      "text/plain": [
       "{'ID_EC': <nesting_trees.nt at 0x1b9ca1a0888>}"
      ]
     },
     "execution_count": 13,
     "metadata": {},
     "output_type": "execute_result"
    }
   ],
   "source": [
    "nt.trees"
   ]
  },
  {
   "cell_type": "markdown",
   "metadata": {},
   "source": [
    "Second, information about the tree is automatically added when the tree is added, e.g. the \"type_f\" attribute states that the functional form in this subtree is constant elasticity of substitution (CES)"
   ]
  },
  {
   "cell_type": "code",
   "execution_count": 14,
   "metadata": {},
   "outputs": [
    {
     "data": {
      "text/plain": [
       "{'name': 'ID_EC',\n",
       " 'tree': {'EL': ['C_EL_1',\n",
       "   'C_EL_2',\n",
       "   'C_EL_3',\n",
       "   'C_EL_4',\n",
       "   'C_EL_5',\n",
       "   'C_EL_base'],\n",
       "  'EH': ['C_EH_1', 'C_EH_2', 'C_EH_3', 'C_EH_base'],\n",
       "  'ER': ['C_ER_1', 'C_ER_2', 'C_ER_base']},\n",
       " 'type_io': 'input',\n",
       " 'version': 'std',\n",
       " 'n': 'n',\n",
       " 'nn': 'nn',\n",
       " 'nnn': 'nnn',\n",
       " 'map_': 'map_ID_EC',\n",
       " 'kno': 'kno_ID_EC',\n",
       " 'bra': 'bra_ID_EC',\n",
       " 'inp': 'inp_ID_EC',\n",
       " 'out': 'out_ID_EC',\n",
       " 'temp_namespace': None,\n",
       " 'type_f': 'CES',\n",
       " 'database': <DataBase.GPM_database at 0x1b9ca248b08>}"
      ]
     },
     "execution_count": 14,
     "metadata": {},
     "output_type": "execute_result"
    }
   ],
   "source": [
    "nt.trees[\"ID_EC\"].__dict__"
   ]
  },
  {
   "cell_type": "markdown",
   "metadata": {},
   "source": [
    "However, even though the namespace includes e.g. \"map_\":\"map_ID_EC\", the database of the tree still does not contain this mapping. This requires running the run() method.\\\n",
    "Instead of doing that for each tree individually, we instead add all trees and call the run_all() methods which also calls the run() on each tree."
   ]
  },
  {
   "cell_type": "markdown",
   "metadata": {},
   "source": [
    "Next, we add the middle part, connecting components C to their technology goods U"
   ]
  },
  {
   "cell_type": "code",
   "execution_count": 15,
   "metadata": {},
   "outputs": [],
   "source": [
    "nt.add_tree(output[\"ID\"][\"components\"], tree_name = \"ID_CU\", **{\"type_f\":\"MNL\"})"
   ]
  },
  {
   "cell_type": "markdown",
   "metadata": {},
   "source": [
    "The two remaining parts are the bottom ones. \\\n",
    "First, the one that connects technologies to their outputs (technology goods). That these are outputs is specified explicitly by using the `type_io` keyword.\\\n",
    "Second, the one that connects technologies to their inputs (non-capital inputs X, and capital K)"
   ]
  },
  {
   "cell_type": "code",
   "execution_count": 16,
   "metadata": {},
   "outputs": [],
   "source": [
    "nt.add_tree(output[\"ID\"][\"techs\"], tree_name=\"ID_TU\", **{'type_io': 'output', 'type_f': 'CET'})\n",
    "nt.add_tree(output[\"ID\"][\"techs_inputs\"], tree_name=\"ID_TX\")"
   ]
  },
  {
   "cell_type": "markdown",
   "metadata": {},
   "source": [
    "Baseline components and technology goods, and their respective sets of inputs are also part of the aggregate tree"
   ]
  },
  {
   "cell_type": "code",
   "execution_count": 17,
   "metadata": {},
   "outputs": [],
   "source": [
    "nt.add_tree(output[\"ID\"][\"baseline_C_inputs\"], tree_name=\"ID_CbaseX\")\n",
    "nt.add_tree(output[\"ID\"][\"baseline_U_inputs\"], tree_name=\"ID_UbaseX\")"
   ]
  },
  {
   "cell_type": "markdown",
   "metadata": {},
   "source": [
    "#### Next, we add the end of pipe subtrees.\n",
    "First, the one connecting components (which are the final product in the end-of-pipe tree) to the technology goods from which they are created:"
   ]
  },
  {
   "cell_type": "code",
   "execution_count": 18,
   "metadata": {},
   "outputs": [],
   "source": [
    "nt.add_tree(output[\"EOP\"][\"components\"], tree_name = \"EOP_CU\")"
   ]
  },
  {
   "cell_type": "markdown",
   "metadata": {},
   "source": [
    "Second, the bottom part. This consists of technologies and their outputs and inputs respectively, similarly to with input-displacing technologies:"
   ]
  },
  {
   "cell_type": "code",
   "execution_count": 19,
   "metadata": {},
   "outputs": [],
   "source": [
    "nt.add_tree(output[\"EOP\"][\"techs\"], tree_name=\"EOP_TU\", **{'type_io': 'output', 'type_f': 'CET'})\n",
    "nt.add_tree(output[\"EOP\"][\"techs_inputs\"], tree_name=\"EOP_TX\")"
   ]
  },
  {
   "cell_type": "markdown",
   "metadata": {},
   "source": [
    "##### Now, all trees have been added:"
   ]
  },
  {
   "cell_type": "code",
   "execution_count": 20,
   "metadata": {},
   "outputs": [
    {
     "data": {
      "text/plain": [
       "{'ID_EC': <nesting_trees.nt at 0x1b9ca1a0888>,\n",
       " 'ID_CU': <nesting_trees.nt at 0x1b9ca234c08>,\n",
       " 'ID_TU': <nesting_trees.nt at 0x1b9ca254408>,\n",
       " 'ID_TX': <nesting_trees.nt at 0x1b9ca254608>,\n",
       " 'ID_CbaseX': <nesting_trees.nt at 0x1b9ca268748>,\n",
       " 'ID_UbaseX': <nesting_trees.nt at 0x1b9ca2686c8>,\n",
       " 'EOP_CU': <nesting_trees.nt at 0x1b9ca18aa08>,\n",
       " 'EOP_TU': <nesting_trees.nt at 0x1b9ca241088>,\n",
       " 'EOP_TX': <nesting_trees.nt at 0x1b9ca241948>}"
      ]
     },
     "execution_count": 20,
     "metadata": {},
     "output_type": "execute_result"
    }
   ],
   "source": [
    "nt.trees"
   ]
  },
  {
   "cell_type": "markdown",
   "metadata": {},
   "source": [
    "\n",
    "The next step is to use the method `run_all`. This runs through a number of steps, where it sets up sets/subsets/mappings identifying which elements e.g. are inputs, intermediate goods, and outputs in the aggregate tree, i.e. the combination of the subtrees we just added. *Tutorial_nesting_tree* includes a brief review of these.\\\n",
    "There are still some of the objects in `output` that we have not used. We will return to these later as they become relevant (the Q2P part will be ignored altogether though)."
   ]
  },
  {
   "cell_type": "code",
   "execution_count": 21,
   "metadata": {},
   "outputs": [],
   "source": [
    "nt.run_all()"
   ]
  },
  {
   "cell_type": "markdown",
   "metadata": {},
   "source": [
    "This constructs the aggregate tree. \\\n",
    "For a few highlights, let's check:\n",
    "1. The outputs of the aggregate tree (aggregate simply refers to the combination of all the individual (sub)trees\\\n",
    "This includes energy services (from ID) and components (from EOP)"
   ]
  },
  {
   "cell_type": "code",
   "execution_count": 22,
   "metadata": {},
   "outputs": [
    {
     "data": {
      "text/plain": [
       "['EH', 'EL', 'ER', 'C_CO2_1']"
      ]
     },
     "execution_count": 22,
     "metadata": {},
     "output_type": "execute_result"
    }
   ],
   "source": [
    "list(nt.database.series[\"out\"].vals)"
   ]
  },
  {
   "cell_type": "markdown",
   "metadata": {},
   "source": [
    "2. The outputs of a particular tree, say EOP_TU\\\n",
    "An error here? It says Ts are the outputs from an output tree with Ts as nods and Us as branches.\\\n",
    "I guess you could call it an \"error\", but it does not matter, because: The aggregate tree is constructed correctly and\\\n",
    "the variable showing outputs \"out_\\[treename\\]\" is a temporary variable, later to be discarded (see the key prune_trees)."
   ]
  },
  {
   "cell_type": "code",
   "execution_count": 23,
   "metadata": {},
   "outputs": [
    {
     "data": {
      "text/plain": [
       "[]"
      ]
     },
     "execution_count": 23,
     "metadata": {},
     "output_type": "execute_result"
    }
   ],
   "source": [
    "list(nt.trees[\"EOP_TU\"].database.series[\"out_EOP_TU\"].vals)"
   ]
  },
  {
   "cell_type": "markdown",
   "metadata": {},
   "source": [
    "3. Likewise, we can check th inputs of EOP_TU\\\n",
    "Likewise, this reports that the Us are inputs, which they really are not."
   ]
  },
  {
   "cell_type": "code",
   "execution_count": 24,
   "metadata": {},
   "outputs": [
    {
     "data": {
      "text/plain": [
       "Index(['U_EOP_tau1_1'], dtype='object', name='n')"
      ]
     },
     "execution_count": 24,
     "metadata": {},
     "output_type": "execute_result"
    }
   ],
   "source": [
    "nt.trees[\"EOP_TU\"].database.series[\"inp_EOP_TU\"].vals"
   ]
  },
  {
   "cell_type": "markdown",
   "metadata": {},
   "source": [
    "4. The outputs of EOP_TU that are also outputs in the aggregate tree\\\n",
    "Correctly says that those Ts are not outputs of the aggregate tree (which were identified correctly in point 1 above)"
   ]
  },
  {
   "cell_type": "code",
   "execution_count": 25,
   "metadata": {},
   "outputs": [
    {
     "data": {
      "text/plain": [
       "[]"
      ]
     },
     "execution_count": 25,
     "metadata": {},
     "output_type": "execute_result"
    }
   ],
   "source": [
    "list(nt.trees[\"EOP_TU\"].database.series[\"out_EOP_TU\"].vals)"
   ]
  },
  {
   "cell_type": "markdown",
   "metadata": {},
   "source": [
    "Lastly, lets print the objects that the `nt` class instance contains:"
   ]
  },
  {
   "cell_type": "code",
   "execution_count": 26,
   "metadata": {},
   "outputs": [
    {
     "data": {
      "text/plain": [
       "{'name': 'Abatement',\n",
       " 'version': 'std',\n",
       " 'trees': {'ID_EC': <nesting_trees.nt at 0x1b9ca1a0888>,\n",
       "  'ID_CU': <nesting_trees.nt at 0x1b9ca234c08>,\n",
       "  'ID_TU': <nesting_trees.nt at 0x1b9ca254408>,\n",
       "  'ID_TX': <nesting_trees.nt at 0x1b9ca254608>,\n",
       "  'ID_CbaseX': <nesting_trees.nt at 0x1b9ca268748>,\n",
       "  'ID_UbaseX': <nesting_trees.nt at 0x1b9ca2686c8>,\n",
       "  'EOP_CU': <nesting_trees.nt at 0x1b9ca18aa08>,\n",
       "  'EOP_TU': <nesting_trees.nt at 0x1b9ca241088>,\n",
       "  'EOP_TX': <nesting_trees.nt at 0x1b9ca241948>},\n",
       " 'database': <DataBase.GPM_database at 0x1b9ca241108>,\n",
       " 'n': 'n',\n",
       " 'nn': 'nn',\n",
       " 'nnn': 'nnn',\n",
       " 'inp': 'inp',\n",
       " 'out': 'out',\n",
       " 'int': 'int',\n",
       " 'fg': 'fg',\n",
       " 'wT': 'wT',\n",
       " 'map_all': 'map_all',\n",
       " 'kno_out': 'kno_out',\n",
       " 'kno_inp': 'kno_inp',\n",
       " 'prune_trees': {'OnlyQ', 'bra', 'inp', 'kno', 'out'}}"
      ]
     },
     "execution_count": 26,
     "metadata": {},
     "output_type": "execute_result"
    }
   ],
   "source": [
    "nt.__dict__"
   ]
  },
  {
   "cell_type": "markdown",
   "metadata": {},
   "source": [
    "# **1.2 Adding parameters to the database**"
   ]
  },
  {
   "cell_type": "markdown",
   "metadata": {},
   "source": [
    "The next step is to construct a database that contains all the share-parameters that we can deduce from technology data, as well as appropriate starting values for endogenous variables. These starting values will be set to the value that they would have if the entire tree was Leontief.\n",
    "The end goal is to make sure the database contained by `nt` includes all these parameters and starting values. \n",
    "To do so, we construct an empty database, add the share-parameters and starting values to this, and then finally merge that database with the one in `nt`.\n",
    "\n",
    "The GPM database of the nesting_tree instance (`nt`) does not contain the $\\mu$ parameters calculated from technology data yet.\\\n",
    "The the $\\mu$-parameters are stored under the key of the same name in `output`.\\\n",
    "Let's check out the database of `nt` now, to see that it does not include any symbol called $\\mu$ yet:"
   ]
  },
  {
   "cell_type": "code",
   "execution_count": 27,
   "metadata": {},
   "outputs": [
    {
     "name": "stdout",
     "output_type": "stream",
     "text": [
      "The database nt.database is of type <class 'DataBase.GPM_database'>\n",
      "\n",
      "Does the database include a symbol called mu? \n",
      "NO!\n"
     ]
    }
   ],
   "source": [
    "print(\"The database nt.database is of type \" + str(type(nt.database)))\n",
    "print(\"\\nDoes the database include a symbol called mu? \") \n",
    "if \"mu\" in nt.database.series:\n",
    "    print(\"YES!\")\n",
    "else:\n",
    "    print(\"NO!\")\n",
    "#print(\"The database contains the following:\")\n",
    "#nt.database.series.__dict__"
   ]
  },
  {
   "cell_type": "markdown",
   "metadata": {},
   "source": [
    "First we create an empty database:"
   ]
  },
  {
   "cell_type": "code",
   "execution_count": 57,
   "metadata": {},
   "outputs": [],
   "source": [
    "db = DataBase.GPM_database()"
   ]
  },
  {
   "cell_type": "markdown",
   "metadata": {},
   "source": [
    "We store the share-parameters from technology data in an object called `mu`. This does not contain all share-parameters of the tree (e.g. it does not include the share parameters of the inputs under baseline technology goods, or the share parameters for technology goods under components)."
   ]
  },
  {
   "cell_type": "code",
   "execution_count": 58,
   "metadata": {},
   "outputs": [],
   "source": [
    "mu = output[\"ID\"][\"mu\"].append(output[\"EOP\"][\"mu\"])"
   ]
  },
  {
   "cell_type": "markdown",
   "metadata": {},
   "source": [
    "Check out the mu parameters (prints just the five first entries here).\\\n",
    "Note: The mu-object is a series with a multiindex, where the first level is called `n` and the second level `nn`. The first level contains branches and the second level contains nodes."
   ]
  },
  {
   "cell_type": "code",
   "execution_count": 59,
   "metadata": {},
   "outputs": [
    {
     "data": {
      "text/plain": [
       "n                 nn  \n",
       "ID_1_electricity  ID_1    0.475\n",
       "ID_1_oil          ID_1    0.475\n",
       "ID_1_K            ID_1    4.050\n",
       "C_EL_1            EL      0.050\n",
       "U_ID_1_1          ID_1    0.500\n",
       "Name: mu, dtype: float64"
      ]
     },
     "execution_count": 59,
     "metadata": {},
     "output_type": "execute_result"
    }
   ],
   "source": [
    "mu.head()"
   ]
  },
  {
   "cell_type": "markdown",
   "metadata": {},
   "source": [
    "#### Calculate starting values (corresponding to the solution if the entire tree was Leontief).\n",
    "For demands/quantities, we use the fact that Leontief demand is given by \n",
    "$$q_j = \\mu_j \\left(\\frac{p_i}{p_j}\\right)^\\sigma q_i = \\mu_j q_i$$ for CES demand where $i$ refers to a node and $j$ refers to the branch. The CET and the MNL form is identical under Leontief.\\\n",
    "For prices, we generally use that when we know the price of each branch under a node as well as the quantities of these branches, the zero profit condition can be rearranged to give us the price of the node:\n",
    "$$ q_i p_i = \\sum_j q_j p_j \\quad \\Leftrightarrow \\quad  p_i = \\frac{\\sum_j q_j p_j}{q_i}$$"
   ]
  },
  {
   "cell_type": "markdown",
   "metadata": {},
   "source": [
    "Output quantities are held in the `qS` object. Output quantities are held fixed in the partial equilibrum (the output prices are the variables that adjust), and we simply set them to `output_quantity` in this example."
   ]
  },
  {
   "cell_type": "code",
   "execution_count": 60,
   "metadata": {},
   "outputs": [],
   "source": [
    "output_quantity = 100\n",
    "qS = pd.Series([], name=\"qS\", dtype=\"float64\")"
   ]
  },
  {
   "cell_type": "markdown",
   "metadata": {},
   "source": [
    "`qS` is now an empty series to which we add the value of 10 for each output of the tree:"
   ]
  },
  {
   "cell_type": "code",
   "execution_count": 61,
   "metadata": {},
   "outputs": [],
   "source": [
    "for out in nt.database.series[\"out\"]:\n",
    "    qS[out] = output_quantity"
   ]
  },
  {
   "cell_type": "markdown",
   "metadata": {},
   "source": [
    "All other quantities are kept in the object `qD`."
   ]
  },
  {
   "cell_type": "code",
   "execution_count": 62,
   "metadata": {},
   "outputs": [],
   "source": [
    "qD = pd.Series([], name=\"qD\", dtype=\"float64\")"
   ]
  },
  {
   "cell_type": "markdown",
   "metadata": {},
   "source": [
    "First, we calculate components' starting values for input-displacing (we did it for EOP with qS, because components are outputs there). \\\n",
    "We use the demand equation stated earlier (multiplication of share-parameter and relevant node/component)"
   ]
  },
  {
   "cell_type": "code",
   "execution_count": 63,
   "metadata": {},
   "outputs": [],
   "source": [
    "for E in output[\"ID\"][\"upper_categories\"]:\n",
    "    for C in output[\"ID\"][\"upper_categories\"][E]:\n",
    "        qD[C] = mu.loc[(C, E)] * qS[E]"
   ]
  },
  {
   "cell_type": "markdown",
   "metadata": {},
   "source": [
    "Next, we use that we have estimates of U to set these (current coverages), and then calculate the $\\mu$s residually"
   ]
  },
  {
   "cell_type": "code",
   "execution_count": 64,
   "metadata": {},
   "outputs": [],
   "source": [
    "for index, curr_coverage in output[\"ID\"][\"current_coverages\"].iteritems():\n",
    "    qD[index[0]] = curr_coverage * qS[index[1]]"
   ]
  },
  {
   "cell_type": "markdown",
   "metadata": {},
   "source": [
    "The $\\mu$s of technology goods (in their component nest) residually. This includes the share-parameters for the baseline technology goods $\\bar U$. Since we still have not set the starting values for the quantities of these baseline technology goods, we set these using the share-parameters that are calculated here as well."
   ]
  },
  {
   "cell_type": "code",
   "execution_count": 65,
   "metadata": {},
   "outputs": [],
   "source": [
    "for C in output[\"ID\"][\"components\"]:\n",
    "    #The ':-1' leaves out the baseline technology good, which we handle separately afterwards\n",
    "    nonbase_U = output[\"ID\"][\"components\"][C][:-1]\n",
    "    base_mu = 1\n",
    "    for U in nonbase_U:\n",
    "        mu[(U, C)] =  qD[U]/qD[C]\n",
    "        base_mu -= mu[(U, C)]\n",
    "    mu[(output[\"ID\"][\"components\"][C][-1], C)] = base_mu\n",
    "    qD[output[\"ID\"][\"components\"][C][-1]] = base_mu * qD[C]\n",
    "    if base_mu <= 0:\n",
    "        print(C)\n",
    "        print(nonbase_U)\n",
    "        raise Exception(\"base_mu is not positive\")\n"
   ]
  },
  {
   "cell_type": "markdown",
   "metadata": {},
   "source": [
    "For end of pipe, we simple set the share-parameters of the technology goods under components as $1/N$ where $N$ is the number of branches/technology goods under a given component. Having set these, we can calculate the corresponding quantities using the CES Leontief demand equation."
   ]
  },
  {
   "cell_type": "code",
   "execution_count": 66,
   "metadata": {},
   "outputs": [],
   "source": [
    "for C in output[\"EOP\"][\"components\"]:\n",
    "    for U in output[\"EOP\"][\"components\"][C]:\n",
    "        mu.loc[(U, C)] = 1/len(output[\"EOP\"][\"components\"][C])\n",
    "        qD[U] = mu.loc[(U, C)] * qS[C]"
   ]
  },
  {
   "cell_type": "markdown",
   "metadata": {},
   "source": [
    "Then, we calculate the starting values of technologies $\\tau$ as the sum of their relevant $U$, since the CET function should be scale-preserving.\\\n",
    "The drawback here, for EOP only, is that the quantities of $U$ do not necessarily adhere to the relative sizes of their share-parameters (which are set based on the technology catalog). "
   ]
  },
  {
   "cell_type": "code",
   "execution_count": 67,
   "metadata": {},
   "outputs": [],
   "source": [
    "for module in modules:\n",
    "    for tech in output[module][\"techs\"]:\n",
    "        qD[tech] = qD[output[module][\"techs\"][tech]].sum()"
   ]
  },
  {
   "cell_type": "markdown",
   "metadata": {},
   "source": [
    "Lastly, we set the starting values of the inputs $X$ that go into technologies. These again use the demand equation. The share-parameters of these were given directly from technology data."
   ]
  },
  {
   "cell_type": "code",
   "execution_count": 68,
   "metadata": {},
   "outputs": [],
   "source": [
    "for module in modules:\n",
    "    techs = output[module][\"techs_inputs\"]\n",
    "    for tech in techs:\n",
    "        for inp in techs[tech]:\n",
    "            qD[inp] = mu.loc[(inp, tech)] * qD[tech]"
   ]
  },
  {
   "cell_type": "markdown",
   "metadata": {},
   "source": [
    "The next part contains the setting of starting values for prices.\n",
    "The prices of inputs (the very bottom of the tree) as fully exogenous, whereas all other prices are endogenous. The prices of outputs (those whose quantities are contained in `qS` are kept in the object `PbT` (refers to \"prices before taxes\") whereas the rest of the prices are kept in `PwT`."
   ]
  },
  {
   "cell_type": "markdown",
   "metadata": {},
   "source": [
    "Objects for storing prices:"
   ]
  },
  {
   "cell_type": "code",
   "execution_count": 69,
   "metadata": {},
   "outputs": [],
   "source": [
    "PwT = pd.Series([], name=\"PwT\", dtype=\"float64\")\n",
    "PbT = pd.Series([], name=\"PbT\", dtype=\"float64\")"
   ]
  },
  {
   "cell_type": "markdown",
   "metadata": {},
   "source": [
    "Prices of inputs are also stated in the catalog:"
   ]
  },
  {
   "cell_type": "code",
   "execution_count": 70,
   "metadata": {},
   "outputs": [],
   "source": [
    "for module in modules:\n",
    "    for t, inputs in output[module][\"techs_inputs\"].items():\n",
    "        for inp in inputs:\n",
    "            PwT[inp] = output[\"inputprices\"][inp.split(\"_\")[-1]]"
   ]
  },
  {
   "cell_type": "markdown",
   "metadata": {},
   "source": [
    "Add the prices of technologies: $p^\\tau$"
   ]
  },
  {
   "cell_type": "code",
   "execution_count": 71,
   "metadata": {},
   "outputs": [],
   "source": [
    "for module in modules:\n",
    "    for t, inputs in output[module][\"techs_inputs\"].items():\n",
    "        PwT[t] = pd.concat([PwT[inputs], qD[inputs]], axis=1).product(axis=1).sum() / qD[t]"
   ]
  },
  {
   "cell_type": "markdown",
   "metadata": {},
   "source": [
    "These prices are equal to unit costs by construction. \n",
    "Check:\n",
    "#CHECK DEVELOPED DONE YET"
   ]
  },
  {
   "cell_type": "markdown",
   "metadata": {},
   "source": [
    "For $p^U$, we simply assume $p^U = p^\\tau$, which, since the share-parameters in the CET nest splitting $\\tau$ into its produced technology goods sum to one, is consistent with zero profits."
   ]
  },
  {
   "cell_type": "code",
   "execution_count": 72,
   "metadata": {},
   "outputs": [],
   "source": [
    "for module in modules:\n",
    "    for t in output[module][\"techs\"]:\n",
    "        for U in output[module][\"techs\"][t]:\n",
    "            PwT[U] = PwT[t]"
   ]
  },
  {
   "cell_type": "markdown",
   "metadata": {},
   "source": [
    "Prices on components for end of pipe should be allocated to PbT because that includes the prices of outputs:"
   ]
  },
  {
   "cell_type": "code",
   "execution_count": 73,
   "metadata": {},
   "outputs": [],
   "source": [
    "for C, U_list in output[\"EOP\"][\"components\"].items():\n",
    "    PbT[C] = pd.concat([PwT[U_list], qD[U_list]], axis=1).product(axis=1).sum() / qS[C]"
   ]
  },
  {
   "cell_type": "markdown",
   "metadata": {},
   "source": [
    "Insert baseline input quantities and baseline technology good prices (only relevant for ID since baselines do not exist in EOP).\\\n",
    "\n",
    "This also (for now, should be set with input-output macro data later) sets the share-parameters of the inputs for the baseline technology goods. It assumes that the baseline uses all energy inputs in equal proportions and that these share-parameters sum to 1. Using these share-parameters, the corresponding quantities are added to `qD`."
   ]
  },
  {
   "cell_type": "code",
   "execution_count": 74,
   "metadata": {},
   "outputs": [],
   "source": [
    "for base_U, inputs in output[\"ID\"][\"baseline_U_inputs\"].items():\n",
    "    for inp in inputs:\n",
    "        mu[(inp, base_U)] = 1/len(inputs)\n",
    "        qD[inp] = 1/len(inputs) * qD[base_U]\n",
    "        PwT[inp] = output[\"inputprices\"][inp.split(\"_\")[-1]]\n",
    "    PwT[base_U] =  pd.concat([PwT[inputs], qD[inputs]], axis=1).product(axis=1).sum() / qD[base_U]"
   ]
  },
  {
   "cell_type": "markdown",
   "metadata": {},
   "source": [
    "Prices of components in ID:"
   ]
  },
  {
   "cell_type": "code",
   "execution_count": 75,
   "metadata": {},
   "outputs": [],
   "source": [
    "for C, U_list in output[\"ID\"][\"components\"].items():\n",
    "    PwT[C] = pd.concat([PwT[U_list], qD[U_list]], axis=1).product(axis=1).sum() / qD[C]"
   ]
  },
  {
   "cell_type": "markdown",
   "metadata": {},
   "source": [
    "Prices of baseline components. \\\n",
    "First, we calculate the share-parameters and corresponding quantities for the inputs that the baseline technology components use. "
   ]
  },
  {
   "cell_type": "code",
   "execution_count": 76,
   "metadata": {},
   "outputs": [],
   "source": [
    "for base_C, inputs in output[\"ID\"][\"baseline_C_inputs\"].items():\n",
    "    for inp in inputs:\n",
    "        mu[(inp, base_C)] = 1/len(inputs)\n",
    "        qD[inp] = 1/len(inputs) * qD[base_C]\n",
    "        PwT[inp] = output[\"inputprices\"][inp.split(\"_\")[-1]]\n",
    "    PwT[base_C] =  pd.concat([PwT[inputs], qD[inputs]], axis=1).product(axis=1).sum() / qD[base_C]"
   ]
  },
  {
   "cell_type": "markdown",
   "metadata": {},
   "source": [
    "Prices of energy services (\"upper categories\" in ID). "
   ]
  },
  {
   "cell_type": "code",
   "execution_count": 77,
   "metadata": {},
   "outputs": [],
   "source": [
    "for E, C_list in output[\"ID\"][\"upper_categories\"].items():\n",
    "    PbT[E] = pd.concat([PwT[C_list], qD[C_list]], axis=1).product(axis=1).sum() / qS[E]"
   ]
  },
  {
   "cell_type": "markdown",
   "metadata": {},
   "source": [
    "We now add the calculated values to the (still) empty database `db` instantiated earlier."
   ]
  },
  {
   "cell_type": "code",
   "execution_count": 78,
   "metadata": {},
   "outputs": [],
   "source": [
    "qS.index.name = \"n\"\n",
    "qD.index.name = \"n\"\n",
    "PwT.index.name = \"n\"\n",
    "PbT.index.name = \"n\"\n",
    "db[\"qS\"] = qS\n",
    "db[\"qD\"] = qD\n",
    "db[\"PwT\"] = PwT\n",
    "db[\"PbT\"] = PbT\n",
    "db[\"mu\"] = mu"
   ]
  },
  {
   "cell_type": "markdown",
   "metadata": {},
   "source": [
    "Merge `db` with the database attached to the nesting tree object `nt`:"
   ]
  },
  {
   "cell_type": "code",
   "execution_count": 79,
   "metadata": {},
   "outputs": [],
   "source": [
    "DataBase.GPM_database.merge_dbs(nt.database, db, \"first\")"
   ]
  },
  {
   "cell_type": "markdown",
   "metadata": {},
   "source": [
    "As a confirmation that this went succesfully, we check that the databse in `nt` contains a symbol called 'mu':"
   ]
  },
  {
   "cell_type": "code",
   "execution_count": 80,
   "metadata": {},
   "outputs": [
    {
     "data": {
      "text/plain": [
       "n                 nn       \n",
       "ID_1_electricity  ID_1         0.475000\n",
       "ID_1_oil          ID_1         0.475000\n",
       "ID_1_K            ID_1         4.050000\n",
       "C_EL_1            EL           0.050000\n",
       "U_ID_1_1          ID_1         0.500000\n",
       "                                 ...   \n",
       "C_ER_base_oil     C_ER_base    0.166667\n",
       "C_ER_base_inp3    C_ER_base    0.166667\n",
       "C_ER_base_inp4    C_ER_base    0.166667\n",
       "C_ER_base_inp5    C_ER_base    0.166667\n",
       "C_ER_base_K       C_ER_base    0.166667\n",
       "Name: mu, Length: 148, dtype: float64"
      ]
     },
     "execution_count": 80,
     "metadata": {},
     "output_type": "execute_result"
    }
   ],
   "source": [
    "nt.database.series[\"mu\"].vals"
   ]
  },
  {
   "cell_type": "markdown",
   "metadata": {},
   "source": [
    "Success! We now proceed to use the class prstatic, a childclass of gmspython."
   ]
  },
  {
   "cell_type": "markdown",
   "metadata": {},
   "source": [
    "# **2.1: The model**\n",
    "### **2.1.1 setup**"
   ]
  },
  {
   "cell_type": "markdown",
   "metadata": {},
   "source": [
    "*Text adopted from the code test_class:*\n",
    "\n",
    "Using the nesting trees above that defines various subsets, we now build a gams model using a *gmspython* class (pr_static). We build the partial equilibrium model from the following principles:\n",
    "* The firm takes input prices as given. These are prices with taxes ('PwT') that are defined over the global set *inp*. In this case this includes e.g. the price on electricity and capital.\n",
    "* The firm further takes the quantity of supply as given (it has to be either this or output prices for the model to be square). We denote the quantity of supply 'qS', and define it over the subset of goods that are outputs from the sector *out*. \n",
    "* The firm's demand for intermediate goods, and their prices are endogenous to the firm: In our case this involves $\\tau$, $U$ and $C$ in ID and only $\\tau$ and $U$ in EOP. These intermediate goods are not traded on any market, but is simply a construct we use to build the nests. In this way the quantity of $U$ is both supplied, and demanded by the firm/sector itself. As we do not need both a supply and demand variable (they are the same in this case), we let the quantity/prices for intermediate goods go under the variables 'qD'/'PwT', defined over the subset *int*.\n",
    "* The demand for inputs is also endogenous to the firm. We denote this 'qD' defined over the subset of goods 'inp'.\n",
    "* As briefly mentioned above, we either have to let the output prices / quantities be endogeonous (and the other exogenous) for the module to be square. In this case we let the price on outputs be endogenous. We denote the price 'PbT' for price before taxes. This is defined over the subset *out*. Distinguishing between PbT and PwT allows for the flexibility of including a tax module / including a mark-up on profits at a later point.\n",
    "\n",
    "We will get back to the way we initialize the *gmspython* module next; here we initialize the class to be able to print the variables needed for this specific model.\n",
    "The model, denoted `m`, is an instance of the class `pr_static` which is itself a childclass of the more general `gmspython` class."
   ]
  },
  {
   "cell_type": "code",
   "execution_count": 81,
   "metadata": {},
   "outputs": [],
   "source": [
    "m = Production.pr_static(nt=nt, work_folder=work_folder, **{'data_folder': gams_folder, \"name\":\"Abatement\"})"
   ]
  },
  {
   "cell_type": "markdown",
   "metadata": {},
   "source": [
    "Recall that running a model requires constructing three methods/properties for `m`:\n",
    "\n",
    "1. `m.initialize_variables()`\n",
    "2. `m.endo_groups` and `m.exo_groups`\n",
    "3. `m.add_blocks()`\n",
    "\n",
    "We briefly review each in turn.\n",
    "\n",
    "`m.initialize_variables()` sets default initial values for the variables and parameters that are not already present in the attached database (which we constructed earlier). For example, we did not specify the values for the mark-up parameters anywhere, so the method `initialize_variables()` *must* specify the value that these parameters should have. We can see that in this case they will simply be set to 1 (no markup):"
   ]
  },
  {
   "cell_type": "code",
   "execution_count": 85,
   "metadata": {},
   "outputs": [],
   "source": [
    "m.default_var_series(\"mark_up\")"
   ]
  },
  {
   "cell_type": "markdown",
   "metadata": {},
   "source": [
    "We run the method using the keyword argument `check_variables:True`. This makes the program check whether the database contains all the necessary values of a specific variable/parameter (say, $\\mu$), and if not, merges the default value (in this case equal to 1) onto the series of share-parameters already contained in the database. "
   ]
  },
  {
   "cell_type": "code",
   "execution_count": 86,
   "metadata": {},
   "outputs": [],
   "source": [
    "m.initialize_variables(**{\"check_variables\":True})"
   ]
  },
  {
   "cell_type": "markdown",
   "metadata": {},
   "source": [
    "Since all of our starting values were set 'as if' the entire tree was Leontief, it is worth noting that the default values for substitutions of elasticity/transformation have the following values:"
   ]
  },
  {
   "cell_type": "code",
   "execution_count": 87,
   "metadata": {},
   "outputs": [],
   "source": [
    "### INSERT SHOWING VALUES"
   ]
  },
  {
   "cell_type": "markdown",
   "metadata": {},
   "source": [
    "The second requirement(s) are the properties `endo_groups` and `exo_groups`. These collect the variables in groups and specify which of these subgroups are part of the two upper groups of endogenous and exogenous variables/parameters respectively. The choice of whether a variable should be endogenous or exogenous changes e.g. depending on whether the model is about to be solved for calibration purposes or not.\n",
    "In the basic case (not calibration mode), the endogenous variables are split into two groups:"
   ]
  },
  {
   "cell_type": "code",
   "execution_count": 88,
   "metadata": {},
   "outputs": [
    {
     "data": {
      "text/plain": [
       "dict_keys(['Abatement_g_endovars', 'Abatement_g_calib_exo'])"
      ]
     },
     "execution_count": 88,
     "metadata": {},
     "output_type": "execute_result"
    }
   ],
   "source": [
    "m.endo_groups.keys()"
   ]
  },
  {
   "cell_type": "markdown",
   "metadata": {},
   "source": [
    "... which themselves include the actual variables. These are printed here of the form `[variable, subset]` e.g. prices with taxes among intermediates, `['PwT', 'int[n]']`"
   ]
  },
  {
   "cell_type": "code",
   "execution_count": 89,
   "metadata": {},
   "outputs": [
    {
     "name": "stdout",
     "output_type": "stream",
     "text": [
      "[['PwT', 'int[n]'], ['qD', 'int[n]'], ['PbT', 'endo_PbT[n]'], ['qD', 'inp[n]'], ['PbT', '(out[n] and not endo_PbT[n])'], ['Peq', 'n_out[n]']]\n"
     ]
    }
   ],
   "source": [
    "vals = []\n",
    "for subgroup, endo_vars in m.endo_groups.items():\n",
    "    for val in endo_vars:\n",
    "        #print(endo_vars[val][\"conditions\"])\n",
    "        vals.append([val, endo_vars[val][\"conditions\"]])\n",
    "print(vals)"
   ]
  },
  {
   "cell_type": "markdown",
   "metadata": {},
   "source": [
    "Finally, we need to specify the *add_blocks* method. This is the method that writes blocks of equations to the model. In our case, we write a different block of equations for each tree.\n",
    "For example, a set of equations are:"
   ]
  },
  {
   "cell_type": "code",
   "execution_count": 90,
   "metadata": {},
   "outputs": [
    {
     "name": "stdout",
     "output_type": "stream",
     "text": [
      "E_zp_out_ID_EC[n]$(out_ID_EC[n])..\tPbT[n]*qS[n] =E= sum(nn$(map_ID_EC[nn,n]), qD[nn]*PwT[nn]);\n",
      "\tE_zp_nout_ID_EC[n]$(kno_no_ID_EC[n])..\tPwT[n]*qD[n] =E= sum(nn$(map_ID_EC[nn,n]), qD[nn]*PwT[nn]);\n",
      "\tE_q_out_ID_EC[n]$(bra_o_ID_EC[n])..\tqD[n] =E= sum(nn$(map_ID_EC[n,nn]), mu[n,nn] * (PbT[nn]/PwT[n])**(sigma[nn]) * qS[nn]);\n",
      "\tE_q_nout_ID_EC[n]$(bra_no_ID_EC[n])..\tqD[n] =E= sum(nn$(map_ID_EC[n,nn]), mu[n,nn] * (PwT[nn]/PwT[n])**(sigma[nn]) * qD[nn]);\n"
     ]
    }
   ],
   "source": [
    "print(m.eqtext(list(m.ns_local)[0]))"
   ]
  },
  {
   "cell_type": "code",
   "execution_count": 91,
   "metadata": {},
   "outputs": [],
   "source": [
    "m.add_blocks()"
   ]
  },
  {
   "cell_type": "code",
   "execution_count": 92,
   "metadata": {},
   "outputs": [
    {
     "data": {
      "text/plain": [
       "dict_keys(['ID_EC', 'ID_CU', 'ID_TU', 'ID_TX', 'ID_CbaseX', 'ID_UbaseX', 'EOP_CU', 'EOP_TU', 'EOP_TX'])"
      ]
     },
     "execution_count": 92,
     "metadata": {},
     "output_type": "execute_result"
    }
   ],
   "source": [
    "m.ns_local.keys()"
   ]
  },
  {
   "cell_type": "code",
   "execution_count": 93,
   "metadata": {},
   "outputs": [
    {
     "data": {
      "text/plain": [
       "{'name': 'ID_CU',\n",
       " 'type_io': 'input',\n",
       " 'version': 'std',\n",
       " 'n': 'n',\n",
       " 'nn': 'nn',\n",
       " 'nnn': 'nnn',\n",
       " 'map_': 'map_ID_CU',\n",
       " 'temp_namespace': None,\n",
       " 'type_f': 'MNL',\n",
       " 'tree_out': 'out_ID_CU',\n",
       " 'knots': 'kno_ID_CU',\n",
       " 'kno_no': 'kno_no_ID_CU',\n",
       " 'bra_o': 'bra_o_ID_CU',\n",
       " 'bra_no': 'bra_no_ID_CU'}"
      ]
     },
     "execution_count": 93,
     "metadata": {},
     "output_type": "execute_result"
    }
   ],
   "source": [
    "m.ns_local[\"ID_CU\"]"
   ]
  },
  {
   "cell_type": "code",
   "execution_count": 94,
   "metadata": {},
   "outputs": [],
   "source": [
    "# import gams_production\n",
    "\n",
    "\n",
    "# tree = m.ns_local[\"ID_CU\"]\n",
    "# gams_class = getattr(gams_production, tree[\"type_f\"])(version=tree[\"version\"])\n",
    "\n",
    "# gams_class.add_symbols(m.model.database, tree)\n",
    "\n",
    "# gams_class.add_conditions(m.model.database, tree)\n",
    "\n",
    "# gams_class.a(\"PwT\", [(0, 2)])\n",
    "\n",
    "# gams_class.demand()\n",
    "\n",
    "# name=\"ID_CU\"\n",
    "# conditions = gams_class.conditions,\n",
    "# nn,nnn = gams_class.a('n',[(0,1)]), gams_class.a('n',[(0,2)])\n",
    "\n",
    "# mu,mu3 = gams_class.a('mu'), gams_class.a('mu',[(0,2)])\n",
    "# sigma2 = gams_class.a('sigma',[(0,1)])\n",
    "# map_,map_2,map_3 = gams_class.a('map_'),gams_class.a('map_',[(0,1)]), gams_class.a('map_',[(0,2)])\n",
    "\n",
    "# map_3\n",
    "\n",
    "# m.get(\"map_\", tree=\"ID_CU\")\n",
    "\n",
    "# PwT,PwT2,PwT3 = gams_class.a('PwT'), gams_class.a('PwT',[(0,1)]), gams_class.a('PwT',[(0,2)])\n",
    "# PbT,PbT2 = gams_class.a('PbT'),gams_class.a('PbT',[(0,1)])\n",
    "# qD,qD2 = gams_class.a('qD'),gams_class.a('qD',[(0,1)])\n",
    "# qS,qS2 = gams_class.a('qS'),gams_class.a('qS',[(0,1)])\n",
    "\n",
    "# for val in [nn,nnn,map_,map_3,mu,mu3,sigma2,PwT,PwT2,PwT3,PbT2,qD,qD2,qS2]:\n",
    "#     print(val)\n",
    "\n"
   ]
  },
  {
   "cell_type": "code",
   "execution_count": 95,
   "metadata": {},
   "outputs": [
    {
     "data": {
      "text/plain": [
       "dict_keys(['M_ID_EC', 'M_ID_CU', 'M_ID_TU', 'M_ID_TX', 'M_ID_CbaseX', 'M_ID_UbaseX', 'M_EOP_CU', 'M_EOP_TU', 'M_EOP_TX', 'M_Abatement_pw'])"
      ]
     },
     "execution_count": 95,
     "metadata": {},
     "output_type": "execute_result"
    }
   ],
   "source": [
    "m.model.blocks.keys()"
   ]
  },
  {
   "cell_type": "markdown",
   "metadata": {},
   "source": [
    "To sum up, the model we have in mind here has the following main settings (where a \\$ denotes a condition):\n",
    "* Endogenous variables: $PwT\\$(int)$, $PbT\\$(out)$, $qD\\$(wT)$. (Recall that the subset wT is the union of intermediate goods and inputs)\n",
    "* Exogenous variables: $PwT\\$(inp)$, $qS\\$(out)$. \n",
    "* Equations: For the CES nest we have the following two equations:\n",
    "    $$\\begin{align}\n",
    "        q_j =& \\mu_j\\left(\\dfrac{p_j}{p_i}\\right)^{-\\sigma}q_i, \\tag{CES-1}\\\\\n",
    "        p_iq_i =& \\sum_j q_jp_j \\tag{CES-2}\n",
    "    \\end{align}$$\n",
    "    (CES-1) is the CES demand function that has to hold for all *branches* ($q_j$) where $q_i$ is the relevant knot in the nesting tree. (CES-2) is a zero-profit condition that has to hold for production functions with constant returns to scale (alternatively, we can use a price index). This has to hold for every *knot* where $j$ sums over the relevant branches. A similar thing has to hold for the CET tree."
   ]
  },
  {
   "cell_type": "markdown",
   "metadata": {},
   "source": [
    "### **2.1.2 Running the model**\n",
    "Running the model, including the invoking the methods and properties described in the previous section, we simply run the following:"
   ]
  },
  {
   "cell_type": "code",
   "execution_count": 96,
   "metadata": {},
   "outputs": [],
   "source": [
    "m.write_and_run(kwargs_init={'check_variables':True})"
   ]
  },
  {
   "cell_type": "markdown",
   "metadata": {},
   "source": [
    "To check whether the model was successfully solved, we check the modelstat (16.0 means solved correctly)"
   ]
  },
  {
   "cell_type": "code",
   "execution_count": 99,
   "metadata": {},
   "outputs": [
    {
     "data": {
      "text/plain": [
       "5.0"
      ]
     },
     "execution_count": 99,
     "metadata": {},
     "output_type": "execute_result"
    }
   ],
   "source": [
    "m.model_instances[\"baseline\"].modelstat"
   ]
  },
  {
   "cell_type": "markdown",
   "metadata": {},
   "source": [
    "Next, we wish to solve the model while instead of the default value of substitution and transformation elasticities of 0.1, we set them equal to zero (in practice not exactly, but very close).\n",
    "Since the starting values have been set under the assumption of Leontief nests, this will help the solver find an initial solution."
   ]
  },
  {
   "cell_type": "code",
   "execution_count": 100,
   "metadata": {},
   "outputs": [
    {
     "data": {
      "text/plain": [
       "dict_keys(['ID_EC', 'ID_CU', 'ID_TU', 'ID_TX', 'ID_CbaseX', 'ID_UbaseX', 'EOP_CU', 'EOP_TU', 'EOP_TX'])"
      ]
     },
     "execution_count": 100,
     "metadata": {},
     "output_type": "execute_result"
    }
   ],
   "source": [
    "m.ns_local.keys()"
   ]
  },
  {
   "cell_type": "code",
   "execution_count": 101,
   "metadata": {},
   "outputs": [
    {
     "data": {
      "text/plain": [
       "dict_keys(['techs_inputs', 'techs', 'components', 'upper_categories', 'mu', 'Q2P', 'unit_costs', 'current_coverages', 'coverage_potentials', 'baseline_C_inputs', 'baseline_U_inputs'])"
      ]
     },
     "execution_count": 101,
     "metadata": {},
     "output_type": "execute_result"
    }
   ],
   "source": [
    "output[\"ID\"].keys()"
   ]
  },
  {
   "cell_type": "code",
   "execution_count": 102,
   "metadata": {},
   "outputs": [
    {
     "data": {
      "text/plain": [
       "MultiIndex([(                   'C_EL_base',               'EL'),\n",
       "            (        'U_ID_C_EL_5_base_oil', 'U_ID_C_EL_5_base'),\n",
       "            (                      'C_EH_2',               'EH'),\n",
       "            (                   'ID_3_inp5',             'ID_3'),\n",
       "            (        'U_ID_C_ER_2_base_oil', 'U_ID_C_ER_2_base'),\n",
       "            (        'U_ID_C_EL_3_base_oil', 'U_ID_C_EL_3_base'),\n",
       "            (                    'U_ID_1_3',             'ID_1'),\n",
       "            (            'U_ID_C_ER_2_base',           'C_ER_2'),\n",
       "            ('U_ID_C_EL_5_base_electricity', 'U_ID_C_EL_5_base'),\n",
       "            ('U_ID_C_EL_3_base_electricity', 'U_ID_C_EL_3_base'),\n",
       "            ...\n",
       "            (        'U_ID_C_EL_1_base_oil', 'U_ID_C_EL_1_base'),\n",
       "            (            'ID_1_electricity',             'ID_1'),\n",
       "            (            'U_ID_C_EH_1_base',           'C_EH_1'),\n",
       "            (                    'U_ID_1_1',           'C_EL_1'),\n",
       "            (       'U_ID_C_EL_4_base_inp5', 'U_ID_C_EL_4_base'),\n",
       "            (       'U_ID_C_ER_1_base_inp4', 'U_ID_C_ER_1_base'),\n",
       "            (                    'U_ID_5_2',           'C_ER_2'),\n",
       "            (                      'C_EH_3',               'EH'),\n",
       "            (          'U_ID_C_EH_2_base_K', 'U_ID_C_EH_2_base'),\n",
       "            (                    'U_ID_4_3',             'ID_4')],\n",
       "           names=['n', 'nn'], length=148)"
      ]
     },
     "execution_count": 102,
     "metadata": {},
     "output_type": "execute_result"
    }
   ],
   "source": [
    "m.get(\"map_all\")"
   ]
  },
  {
   "cell_type": "code",
   "execution_count": 103,
   "metadata": {},
   "outputs": [
    {
     "data": {
      "text/plain": [
       "MultiIndex([('ID_1_electricity', 'ID_1'),\n",
       "            (        'ID_1_oil', 'ID_1'),\n",
       "            (          'ID_1_K', 'ID_1'),\n",
       "            ('ID_2_electricity', 'ID_2'),\n",
       "            (        'ID_2_oil', 'ID_2'),\n",
       "            (          'ID_2_K', 'ID_2'),\n",
       "            (       'ID_3_inp3', 'ID_3'),\n",
       "            (       'ID_3_inp4', 'ID_3'),\n",
       "            (       'ID_3_inp5', 'ID_3'),\n",
       "            (          'ID_3_K', 'ID_3'),\n",
       "            ('ID_4_electricity', 'ID_4'),\n",
       "            (       'ID_4_inp3', 'ID_4'),\n",
       "            (       'ID_4_inp5', 'ID_4'),\n",
       "            (          'ID_4_K', 'ID_4'),\n",
       "            (        'ID_5_oil', 'ID_5'),\n",
       "            (       'ID_5_inp4', 'ID_5'),\n",
       "            (          'ID_5_K', 'ID_5')],\n",
       "           names=['n', 'nn'])"
      ]
     },
     "execution_count": 103,
     "metadata": {},
     "output_type": "execute_result"
    }
   ],
   "source": [
    "m.get(\"map_\", tree=\"ID_TX\")"
   ]
  },
  {
   "cell_type": "code",
   "execution_count": 104,
   "metadata": {},
   "outputs": [
    {
     "data": {
      "text/plain": [
       "n                             nn              \n",
       "C_EH_1                        EH                  0.150000\n",
       "C_EH_2                        EH                  0.030000\n",
       "C_EH_3                        EH                  0.050000\n",
       "C_EH_base                     EH                  0.770000\n",
       "C_EH_base_K                   C_EH_base           0.166667\n",
       "                                                    ...   \n",
       "U_ID_C_ER_2_base_electricity  U_ID_C_ER_2_base    0.166667\n",
       "U_ID_C_ER_2_base_inp3         U_ID_C_ER_2_base    0.166667\n",
       "U_ID_C_ER_2_base_inp4         U_ID_C_ER_2_base    0.166667\n",
       "U_ID_C_ER_2_base_inp5         U_ID_C_ER_2_base    0.166667\n",
       "U_ID_C_ER_2_base_oil          U_ID_C_ER_2_base    0.166667\n",
       "Name: mu, Length: 148, dtype: float64"
      ]
     },
     "execution_count": 104,
     "metadata": {},
     "output_type": "execute_result"
    }
   ],
   "source": [
    "m.get(\"mu\")"
   ]
  },
  {
   "cell_type": "code",
   "execution_count": 70,
   "metadata": {},
   "outputs": [
    {
     "data": {
      "text/plain": [
       "n\n",
       "ID_tdirty    -1\n",
       "ID_tclean1   -1\n",
       "ID_tclean2   -1\n",
       "EOP_tau1     -1\n",
       "Name: eta, dtype: int64"
      ]
     },
     "execution_count": 70,
     "metadata": {},
     "output_type": "execute_result"
    }
   ],
   "source": [
    "m.get(\"eta\")"
   ]
  },
  {
   "cell_type": "code",
   "execution_count": 105,
   "metadata": {},
   "outputs": [
    {
     "name": "stdout",
     "output_type": "stream",
     "text": [
      "\n",
      "Success! The modelstat was 16.0\n"
     ]
    }
   ],
   "source": [
    "m.model.settings.databases[\"Abatement_0\"][\"sigma\"].vals.loc[:] = 0.0001\n",
    "m.model.settings.databases[\"Abatement_0\"][\"eta\"].vals.loc[:] = -0.0001\n",
    "#m.model.settings.databases[\"Abatement\"][\"sigma\"].vals[condition] = 0.2\n",
    "#m.write_and_run(options_run={'output':sys.stdout})\n",
    "m.write_and_run()\n",
    "if m.model_instances[\"baseline\"].modelstat == 16.0:\n",
    "    print(\"\\nSuccess! The modelstat was 16.0\")"
   ]
  },
  {
   "cell_type": "markdown",
   "metadata": {},
   "source": [
    "The model could be solved using elasticities of 0.0001. Let's check if it can be solved when these are set to higher numbers, implying a solution farther from the starting values (which, as mentioned, were set based on Leontief)."
   ]
  },
  {
   "cell_type": "code",
   "execution_count": 72,
   "metadata": {},
   "outputs": [],
   "source": [
    "# condition = m.model.settings.databases[\"Abatement\"][\"sigma\"].vals.index.str.startswith(\"C_E\") & ~m.model.settings.databases[\"Abatement\"][\"sigma\"].vals.index.str.contains(\"base\")"
   ]
  },
  {
   "cell_type": "code",
   "execution_count": null,
   "metadata": {},
   "outputs": [],
   "source": []
  },
  {
   "cell_type": "code",
   "execution_count": 106,
   "metadata": {},
   "outputs": [
    {
     "name": "stdout",
     "output_type": "stream",
     "text": [
      "\n",
      "SUCCESS:\n",
      "Sigma/eta: 0.0001\n",
      "\n",
      "SUCCESS:\n",
      "Sigma/eta: 0.1\n",
      "\n",
      "SUCCESS:\n",
      "Sigma/eta: 0.2\n",
      "\n",
      "SUCCESS:\n",
      "Sigma/eta: 0.3\n",
      "\n",
      "FAIL:\n",
      "Sigma/eta: 0.4\n",
      "\n",
      "FAIL:\n",
      "Sigma/eta: 0.5\n"
     ]
    }
   ],
   "source": [
    "for sigma_val in range(0, 60, 10):\n",
    "    sigma_val = sigma_val/100\n",
    "    if sigma_val == 0:\n",
    "        sigma_val = 0.0001\n",
    "#    for MNL_sigma in [0.1, 1]:\n",
    "\n",
    "    #Set values\n",
    "    #m.model.settings.databases[\"Abatement\"][\"sigma\"].vals.loc[condition] = MNL_sigma\n",
    "    #m.model.settings.databases[\"Abatement\"][\"sigma\"].vals.loc[~condition] = sigma_val\n",
    "    m.model.settings.databases[\"Abatement_0\"][\"sigma\"].vals.loc[:] = sigma_val\n",
    "    m.model.settings.databases[\"Abatement_0\"][\"eta\"].vals.loc[:] = -sigma_val\n",
    "\n",
    "    #Try to solve\n",
    "    m.write_and_run()\n",
    "\n",
    "    #How did it go?\n",
    "    if m.model_instances[\"baseline\"].modelstat == 16.0:\n",
    "        print(\"\\nSUCCESS:\")\n",
    "        print(\"Sigma/eta:\", round(sigma_val, 4))\n",
    "        #print(\"Sigma/eta (MNL):\", round(MNL_val, 4))\n",
    "    else:\n",
    "        print(\"\\nFAIL:\")\n",
    "        print(\"Sigma/eta:\", round(sigma_val, 4))\n",
    "        #print(\"Sigma/eta: (MNL)\", round(MNL_sigma, 4))"
   ]
  },
  {
   "cell_type": "markdown",
   "metadata": {},
   "source": [
    "As can be seen, the model cannot be solved when the elasticities get too large. To accomodate this, we replace each iteration's starting values with the previous iteration's solution, while gradually increasing $\\sigma$ and $\\mu$.\n",
    "This allows us to set these to (hopefully) any value. This \"gradual changing of parameters\" is called 'sneaky solve'. :)"
   ]
  },
  {
   "cell_type": "markdown",
   "metadata": {},
   "source": [
    "### Sneaky solve: Gradual increase in sigma"
   ]
  },
  {
   "cell_type": "code",
   "execution_count": 107,
   "metadata": {},
   "outputs": [],
   "source": [
    "db_star = DataBase.GPM_database()"
   ]
  },
  {
   "cell_type": "code",
   "execution_count": 108,
   "metadata": {},
   "outputs": [],
   "source": [
    "sigma_star = m.get(\"sigma\").copy()\n",
    "eta_star = m.get(\"eta\").copy()"
   ]
  },
  {
   "cell_type": "code",
   "execution_count": 109,
   "metadata": {},
   "outputs": [],
   "source": [
    "sigma_star[output[\"ID\"][\"upper_categories\"].keys()] = 0.01\n",
    "sigma_star[output[\"ID\"][\"components\"].keys()] = 1.2\n",
    "sigma_star[output[\"ID\"][\"baseline_U_inputs\"].keys()] = 0.01\n",
    "sigma_star[output[\"ID\"][\"baseline_C_inputs\"].keys()] = 0.01\n",
    "sigma_star[output[\"ID\"][\"techs\"].keys()] = 0.01\n",
    "eta_star[output[\"ID\"][\"techs\"].keys()] = -0.9"
   ]
  },
  {
   "cell_type": "code",
   "execution_count": 110,
   "metadata": {},
   "outputs": [],
   "source": [
    "db_star[\"sigma\"] = sigma_star\n",
    "db_star[\"eta\"] = eta_star"
   ]
  },
  {
   "cell_type": "markdown",
   "metadata": {},
   "source": [
    "Run again, while adding a checkpoint that we can use afterwards"
   ]
  },
  {
   "cell_type": "code",
   "execution_count": null,
   "metadata": {},
   "outputs": [],
   "source": []
  },
  {
   "cell_type": "code",
   "execution_count": 111,
   "metadata": {},
   "outputs": [
    {
     "data": {
      "text/plain": [
       "{}"
      ]
     },
     "execution_count": 111,
     "metadata": {},
     "output_type": "execute_result"
    }
   ],
   "source": [
    "m.checkpoints"
   ]
  },
  {
   "cell_type": "code",
   "execution_count": 112,
   "metadata": {},
   "outputs": [
    {
     "data": {
      "text/plain": [
       "{'baseline': <DB2Gams_l3.gams_model at 0x1b9cb55d688>}"
      ]
     },
     "execution_count": 112,
     "metadata": {},
     "output_type": "execute_result"
    }
   ],
   "source": [
    "m.model_instances"
   ]
  },
  {
   "cell_type": "code",
   "execution_count": 113,
   "metadata": {},
   "outputs": [],
   "source": [
    "m.model.settings.databases[\"Abatement_0\"][\"sigma\"].vals.loc[:] = 0.001\n",
    "m.model.settings.databases[\"Abatement_0\"][\"eta\"].vals.loc[:] = -0.001\n",
    "name = \"calibrated\"\n",
    "#Fejler med noget \"delimiter\" fejl\n",
    "#m.write_and_run(name=\"test\", add_checkpoint=\"test\", options_add={\"checkpoint\":m.checkpoints[\"leontief\"]})\n",
    "m.write_and_run(name=name, add_checkpoint=\"leontief\")"
   ]
  },
  {
   "cell_type": "code",
   "execution_count": 114,
   "metadata": {},
   "outputs": [],
   "source": [
    "m.checkpoints[name] = m.model_instances[name].ws.add_checkpoint()"
   ]
  },
  {
   "cell_type": "markdown",
   "metadata": {},
   "source": [
    "Solve sneakily, gradually increasing sigmas towards their desired values (which themselves are stated in `db_star`)"
   ]
  },
  {
   "cell_type": "code",
   "execution_count": 115,
   "metadata": {},
   "outputs": [],
   "source": [
    "#m.model_instances[name].solve_sneakily(db_star=db_star, options_run={\"checkpoint\":name})\n",
    "#DETTE OPDATERER IKKE CHECKPOINTET \"calibrated\". VIRKER OGSÅ SPØJST AT MAN SKAL GIVE ET CHECKPOINT NÅR NU IDEEN ER AT DEN SKAL OPRETTE ET BASERET PÅ HVOR DEN ENDER.\n",
    "# OG JEG HAR JO ALLEREDE GIVET DEN INIT-tingene. \n",
    "\n",
    "#gm.checkpoints[name] = mi.ws.add_checkpoint()\n",
    "m.model_instances[name].solve_sneakily(db_star=db_star, from_cp=True, cp_init=m.checkpoints[\"leontief\"], options_run={\"checkpoint\":m.checkpoints[name]})"
   ]
  },
  {
   "cell_type": "code",
   "execution_count": 116,
   "metadata": {},
   "outputs": [],
   "source": [
    "mi = m.model_instances[name]\n",
    "# newjob = mi.ws.add_job_from_string(\"sets a,b;\",**{'checkpoint': m.checkpoints[name]})\n",
    "# newjob.run()"
   ]
  },
  {
   "cell_type": "markdown",
   "metadata": {},
   "source": [
    "Check if the model ran succesfully:"
   ]
  },
  {
   "cell_type": "code",
   "execution_count": 117,
   "metadata": {},
   "outputs": [
    {
     "data": {
      "text/plain": [
       "16.0"
      ]
     },
     "execution_count": 117,
     "metadata": {},
     "output_type": "execute_result"
    }
   ],
   "source": [
    "m.model_instances[name].out_db.series[\"Abatement_B_modelstat\"].vals"
   ]
  },
  {
   "cell_type": "markdown",
   "metadata": {},
   "source": [
    "The changes in e.g. demanded quantities, from the initial point (the solution where sigmas were ~0) are:"
   ]
  },
  {
   "cell_type": "code",
   "execution_count": 118,
   "metadata": {},
   "outputs": [
    {
     "data": {
      "text/plain": [
       "n\n",
       "C_EH_1                         -0.000214\n",
       "C_EH_2                         -0.000121\n",
       "C_EH_3                         -0.000875\n",
       "C_EH_base                       0.001219\n",
       "C_EH_base_K                     0.019945\n",
       "                                  ...   \n",
       "U_ID_C_ER_2_base_electricity    0.165325\n",
       "U_ID_C_ER_2_base_inp3           0.165325\n",
       "U_ID_C_ER_2_base_inp4           0.165325\n",
       "U_ID_C_ER_2_base_inp5           0.160729\n",
       "U_ID_C_ER_2_base_oil            0.165325\n",
       "Name: qD, Length: 140, dtype: float64"
      ]
     },
     "execution_count": 118,
     "metadata": {},
     "output_type": "execute_result"
    }
   ],
   "source": [
    "m.model_instances[name].out_db[\"qD\"].vals - m.get(\"qD\")"
   ]
  },
  {
   "cell_type": "markdown",
   "metadata": {},
   "source": [
    "while demand itself ended in the following quantities:"
   ]
  },
  {
   "cell_type": "code",
   "execution_count": 119,
   "metadata": {},
   "outputs": [
    {
     "data": {
      "text/plain": [
       "n\n",
       "C_EH_1                          14.999786\n",
       "C_EH_2                           2.999879\n",
       "C_EH_3                           4.999125\n",
       "C_EH_base                       77.001219\n",
       "C_EH_base_K                     12.853278\n",
       "                                  ...    \n",
       "U_ID_C_ER_2_base_electricity     0.665325\n",
       "U_ID_C_ER_2_base_inp3            0.665325\n",
       "U_ID_C_ER_2_base_inp4            0.665325\n",
       "U_ID_C_ER_2_base_inp5            0.660729\n",
       "U_ID_C_ER_2_base_oil             0.665325\n",
       "Name: qD, Length: 140, dtype: float64"
      ]
     },
     "execution_count": 119,
     "metadata": {},
     "output_type": "execute_result"
    }
   ],
   "source": [
    "m.model_instances[name].out_db[\"qD\"].vals"
   ]
  },
  {
   "cell_type": "markdown",
   "metadata": {},
   "source": [
    "And let's confirm that our sigmas actually ended in the desired spots:"
   ]
  },
  {
   "cell_type": "code",
   "execution_count": 120,
   "metadata": {},
   "outputs": [
    {
     "data": {
      "text/plain": [
       "n\n",
       "C_CO2_1             0.50\n",
       "C_EH_1              1.20\n",
       "C_EH_2              1.20\n",
       "C_EH_3              1.20\n",
       "C_EH_base           0.01\n",
       "C_EL_1              1.20\n",
       "C_EL_2              1.20\n",
       "C_EL_3              1.20\n",
       "C_EL_4              1.20\n",
       "C_EL_5              1.20\n",
       "C_EL_base           0.01\n",
       "C_ER_1              1.20\n",
       "C_ER_2              1.20\n",
       "C_ER_base           0.01\n",
       "EH                  0.01\n",
       "EL                  0.01\n",
       "EOP_tau1            0.50\n",
       "ER                  0.01\n",
       "ID_1                0.01\n",
       "ID_2                0.01\n",
       "ID_3                0.01\n",
       "ID_4                0.01\n",
       "ID_5                0.01\n",
       "U_ID_C_EH_1_base    0.01\n",
       "U_ID_C_EH_2_base    0.01\n",
       "U_ID_C_EH_3_base    0.01\n",
       "U_ID_C_EL_1_base    0.01\n",
       "U_ID_C_EL_2_base    0.01\n",
       "U_ID_C_EL_3_base    0.01\n",
       "U_ID_C_EL_4_base    0.01\n",
       "U_ID_C_EL_5_base    0.01\n",
       "U_ID_C_ER_1_base    0.01\n",
       "U_ID_C_ER_2_base    0.01\n",
       "Name: sigma, dtype: float64"
      ]
     },
     "execution_count": 120,
     "metadata": {},
     "output_type": "execute_result"
    }
   ],
   "source": [
    "m.model_instances[name].out_db[\"sigma\"].vals"
   ]
  },
  {
   "cell_type": "markdown",
   "metadata": {},
   "source": [
    "## A shock to the oil price\n",
    "We present graphically what happens when the oil price gradually increases (static model solution for each price).\n",
    "For this, we again use the sneaky solve, but we make sure to extract variables of interest for each iteration, in contrast to above where we were not interested in the solutions per se, but simply that the values of $\\sigma$ ended in the desired spots."
   ]
  },
  {
   "cell_type": "code",
   "execution_count": 121,
   "metadata": {},
   "outputs": [],
   "source": [
    "#mideleritid start fra starten\n",
    "#m.model.settings.databases[\"Abatement_0\"][\"sigma\"].vals.loc[:] = 0.1\n",
    "#m.model.settings.databases[\"Abatement_0\"][\"eta\"].vals.loc[:] = -0.1"
   ]
  },
  {
   "cell_type": "code",
   "execution_count": 122,
   "metadata": {},
   "outputs": [],
   "source": [
    "# m.write_and_run(name=\"calibrated\", add_checkpoint=\"calibrated\")"
   ]
  },
  {
   "cell_type": "code",
   "execution_count": 123,
   "metadata": {},
   "outputs": [
    {
     "data": {
      "text/plain": [
       "n\n",
       "C_CO2_1             0.50\n",
       "C_EH_1              1.20\n",
       "C_EH_2              1.20\n",
       "C_EH_3              1.20\n",
       "C_EH_base           0.01\n",
       "C_EL_1              1.20\n",
       "C_EL_2              1.20\n",
       "C_EL_3              1.20\n",
       "C_EL_4              1.20\n",
       "C_EL_5              1.20\n",
       "C_EL_base           0.01\n",
       "C_ER_1              1.20\n",
       "C_ER_2              1.20\n",
       "C_ER_base           0.01\n",
       "EH                  0.01\n",
       "EL                  0.01\n",
       "EOP_tau1            0.50\n",
       "ER                  0.01\n",
       "ID_1                0.01\n",
       "ID_2                0.01\n",
       "ID_3                0.01\n",
       "ID_4                0.01\n",
       "ID_5                0.01\n",
       "U_ID_C_EH_1_base    0.01\n",
       "U_ID_C_EH_2_base    0.01\n",
       "U_ID_C_EH_3_base    0.01\n",
       "U_ID_C_EL_1_base    0.01\n",
       "U_ID_C_EL_2_base    0.01\n",
       "U_ID_C_EL_3_base    0.01\n",
       "U_ID_C_EL_4_base    0.01\n",
       "U_ID_C_EL_5_base    0.01\n",
       "U_ID_C_ER_1_base    0.01\n",
       "U_ID_C_ER_2_base    0.01\n",
       "Name: sigma, dtype: float64"
      ]
     },
     "execution_count": 123,
     "metadata": {},
     "output_type": "execute_result"
    }
   ],
   "source": [
    "m.model_instances[\"calibrated\"].out_db.get(\"sigma\")"
   ]
  },
  {
   "cell_type": "code",
   "execution_count": 124,
   "metadata": {},
   "outputs": [],
   "source": [
    "out_db = m.model_instances[\"calibrated\"].out_db"
   ]
  },
  {
   "cell_type": "code",
   "execution_count": 125,
   "metadata": {},
   "outputs": [],
   "source": [
    "m.write_and_run(name=\"oilshock\")\n",
    "#db_out = m.model_instances[\"baseline\"].out_db"
   ]
  },
  {
   "cell_type": "code",
   "execution_count": 126,
   "metadata": {},
   "outputs": [],
   "source": [
    "#m.write_and_run(name='taxshock', add_checkpoint='taxshock', overwrite=True)\n",
    "mi = m.model_instances['oilshock']"
   ]
  },
  {
   "cell_type": "code",
   "execution_count": 127,
   "metadata": {},
   "outputs": [],
   "source": [
    "#mi.out_db.series.__dict__"
   ]
  },
  {
   "cell_type": "markdown",
   "metadata": {},
   "source": [
    "*2: Define structure of shock* "
   ]
  },
  {
   "cell_type": "code",
   "execution_count": 128,
   "metadata": {},
   "outputs": [],
   "source": [
    "db_end_of_loop = DataBase.GPM_database()"
   ]
  },
  {
   "cell_type": "code",
   "execution_count": 129,
   "metadata": {},
   "outputs": [],
   "source": [
    "cond = out_db.get(\"PwT\").index.str.contains(\"oil\")\n",
    "db_end_of_loop[\"PwT\"] = out_db.get(\"PwT\")[cond] + 12\n",
    "#end_prices[cond] = out_db.get(\"PwT\")[cond] + 5\n",
    "#end_prices = end_prices[cond]"
   ]
  },
  {
   "cell_type": "code",
   "execution_count": 130,
   "metadata": {},
   "outputs": [
    {
     "data": {
      "text/plain": [
       "n\n",
       "C_EH_base_oil           13.0\n",
       "C_EL_base_oil           13.0\n",
       "C_ER_base_oil           13.0\n",
       "ID_1_oil                13.0\n",
       "ID_2_oil                13.0\n",
       "ID_5_oil                13.0\n",
       "U_ID_C_EH_1_base_oil    13.0\n",
       "U_ID_C_EH_2_base_oil    13.0\n",
       "U_ID_C_EH_3_base_oil    13.0\n",
       "U_ID_C_EL_1_base_oil    13.0\n",
       "U_ID_C_EL_2_base_oil    13.0\n",
       "U_ID_C_EL_3_base_oil    13.0\n",
       "U_ID_C_EL_4_base_oil    13.0\n",
       "U_ID_C_EL_5_base_oil    13.0\n",
       "U_ID_C_ER_1_base_oil    13.0\n",
       "U_ID_C_ER_2_base_oil    13.0\n",
       "Name: PwT, dtype: float64"
      ]
     },
     "execution_count": 130,
     "metadata": {},
     "output_type": "execute_result"
    }
   ],
   "source": [
    "db_end_of_loop.series[\"PwT\"].vals"
   ]
  },
  {
   "cell_type": "code",
   "execution_count": 131,
   "metadata": {},
   "outputs": [],
   "source": [
    "#NY ME DDIREKTE\n",
    "#m.model_instances[\"oilshock\"].solve_sneakily(db_star=db_end_of_loop, from_cp=True, cp_init=m.checkpoints[\"calibrated\"])"
   ]
  },
  {
   "cell_type": "code",
   "execution_count": 132,
   "metadata": {},
   "outputs": [],
   "source": [
    "(shock_db, shock_kwargs) = ShockFunction.sneaky_db(out_db, db_end_of_loop, n_steps = 25, loop_name='oil_loop')"
   ]
  },
  {
   "cell_type": "markdown",
   "metadata": {},
   "source": [
    "*3: Define the solution we wish to store for each iteration (conditions argument is optional, but here we extract only the production sector goods):*"
   ]
  },
  {
   "cell_type": "code",
   "execution_count": 133,
   "metadata": {},
   "outputs": [
    {
     "data": {
      "text/plain": [
       "Index(['C_EH_base_oil', 'C_EL_base_oil', 'C_ER_base_oil', 'ID_1_oil',\n",
       "       'ID_2_oil', 'ID_5_oil', 'U_ID_C_EH_1_base_oil', 'U_ID_C_EH_2_base_oil',\n",
       "       'U_ID_C_EH_3_base_oil', 'U_ID_C_EL_1_base_oil', 'U_ID_C_EL_2_base_oil',\n",
       "       'U_ID_C_EL_3_base_oil', 'U_ID_C_EL_4_base_oil', 'U_ID_C_EL_5_base_oil',\n",
       "       'U_ID_C_ER_1_base_oil', 'U_ID_C_ER_2_base_oil'],\n",
       "      dtype='object', name='n')"
      ]
     },
     "execution_count": 133,
     "metadata": {},
     "output_type": "execute_result"
    }
   ],
   "source": [
    "shock_db.series[\"PwT_oil_loop_subset\"].vals"
   ]
  },
  {
   "cell_type": "code",
   "execution_count": 134,
   "metadata": {},
   "outputs": [],
   "source": [
    "store_sol = {'qD': {'domains': shock_kwargs['loop_name']}}"
   ]
  },
  {
   "cell_type": "markdown",
   "metadata": {},
   "source": [
    "*4: Create Shock instance*"
   ]
  },
  {
   "cell_type": "code",
   "execution_count": 135,
   "metadata": {},
   "outputs": [],
   "source": [
    "shock = mi.std_UEVAS_from_db(shock_db, loop_name=shock_kwargs['loop_name'], shock_name=shock_kwargs['shock_name'], store_sol=store_sol)\n",
    "#shock = mi.std_UEVAS_from_db(shock_db, loop_name=shock_kwargs['loop_name'], shock_name=shock_kwargs['shock_name'])\n",
    "#solve_sneakily skal have selve checkpointet\n",
    "#Gør noget så sneaky solve laver et sidste checkpoint"
   ]
  },
  {
   "cell_type": "markdown",
   "metadata": {},
   "source": [
    "*5: Execute shock from the 'calibrated' checkpoint i.e. the model state after the sigmas have been chosen:*"
   ]
  },
  {
   "cell_type": "code",
   "execution_count": 136,
   "metadata": {},
   "outputs": [],
   "source": [
    "mi.execute_shock_from_cp(shock=shock, cp=m.checkpoints['calibrated'])"
   ]
  },
  {
   "cell_type": "code",
   "execution_count": 137,
   "metadata": {},
   "outputs": [],
   "source": [
    "sol_qD = mi.out_db.series[\"sol_qD\"].vals"
   ]
  },
  {
   "cell_type": "code",
   "execution_count": 138,
   "metadata": {},
   "outputs": [],
   "source": [
    "#tech_names = [\"ID_thighest\", \"ID_thigher\", \"ID_tmedium\", \"ID_tlower\", \"ID_tlowest\"]\n",
    "#sol_qD.loc(axis=0)[\"oil_loop_1\", tech_names]"
   ]
  },
  {
   "cell_type": "code",
   "execution_count": 139,
   "metadata": {},
   "outputs": [],
   "source": [
    "sol_qD.reset_index().to_excel(os.getcwd() + \"\\\\oil_price_shock_\" + inputfile.split(\"_\")[-1], index=False)"
   ]
  },
  {
   "cell_type": "code",
   "execution_count": 140,
   "metadata": {},
   "outputs": [],
   "source": [
    "#m.model_instances[\"oilshock\"].solve_sneakily(db_star=db_end_of_loop, from_cp=True, cp_init=m.checkpoints[\"oilshock\"])"
   ]
  },
  {
   "cell_type": "markdown",
   "metadata": {},
   "source": [
    "The solution is stored as a parameter noted as \"sol_\"+ the name of the variable. In our case, the specific quantities are stored:"
   ]
  },
  {
   "cell_type": "markdown",
   "metadata": {},
   "source": [
    "### **3.1 Diagnostics (dated)**\n",
    "When the model cannot be solved, we run some diagnostics:"
   ]
  },
  {
   "cell_type": "code",
   "execution_count": null,
   "metadata": {},
   "outputs": [],
   "source": [
    "# for symbol in [\"PbT\", \"PwT\", \"qD\"]:\n",
    "#     start_vals = m.model_instances[\"baseline\"].out_db.series[\"load_\" + symbol].vals\n",
    "#     end_vals = m.model_instances[\"baseline\"].out_db.series[symbol].vals\n",
    "#     rel_changes = (end_vals - start_vals)/start_vals\n",
    "#     large_changes = rel_changes[~(rel_changes.between(-0.0001, 0.0001))]\n",
    "#     if len(large_changes) > 0:\n",
    "#         print(\"Large deviations for symbol \\n\" + symbol + \":\")\n",
    "#         print(large_changes, \"\\n\")\n",
    "#     else:\n",
    "#         print(\"No large deviations for symbol: \" + symbol + \".\\n\")"
   ]
  },
  {
   "cell_type": "code",
   "execution_count": null,
   "metadata": {},
   "outputs": [],
   "source": [
    "# from decimal import Decimal"
   ]
  },
  {
   "cell_type": "code",
   "execution_count": null,
   "metadata": {},
   "outputs": [],
   "source": [
    "# #Demands\n",
    "# print(Decimal(qD[\"U_EOP_tau1_1\"] - mu[(\"U_EOP_tau1_1\", \"C_CO2_1\")] * qS[\"C_CO2_1\"]))\n",
    "# print(Decimal(qD[\"EOP_tau1\"] - mu.loc[(\"U_EOP_tau1_1\", \"EOP_tau1\")] * qD[\"U_EOP_tau1_1\"]))\n",
    "# print(Decimal(qD[\"EOP_tau1_electricity\"] - mu[(\"EOP_tau1_electricity\", \"EOP_tau1\")] * qD[\"EOP_tau1\"]))\n",
    "# print(Decimal(qD[\"EOP_tau1_K\"] - mu[(\"EOP_tau1_K\", \"EOP_tau1\")] * qD[\"EOP_tau1\"]))\n",
    "# #zero profits\n",
    "# print(Decimal(qS[\"C_CO2_1\"]*PbT[\"C_CO2_1\"] - qD[\"U_EOP_tau1_1\"]*PwT[\"U_EOP_tau1_1\"]))\n",
    "# print(Decimal(qD[\"U_EOP_tau1_1\"]*PwT[\"U_EOP_tau1_1\"] - qD[\"EOP_tau1\"]*PwT[\"EOP_tau1\"]))\n",
    "# print(Decimal(qD[\"EOP_tau1\"]*PwT[\"EOP_tau1\"] - qD[\"EOP_tau1_electricity\"]*PwT[\"EOP_tau1_electricity\"] - qD[\"EOP_tau1_K\"]*PwT[\"EOP_tau1_K\"]))"
   ]
  },
  {
   "cell_type": "code",
   "execution_count": null,
   "metadata": {},
   "outputs": [],
   "source": []
  },
  {
   "cell_type": "code",
   "execution_count": null,
   "metadata": {},
   "outputs": [],
   "source": []
  },
  {
   "cell_type": "code",
   "execution_count": null,
   "metadata": {},
   "outputs": [],
   "source": []
  },
  {
   "cell_type": "code",
   "execution_count": null,
   "metadata": {},
   "outputs": [],
   "source": []
  },
  {
   "cell_type": "code",
   "execution_count": null,
   "metadata": {},
   "outputs": [],
   "source": []
  },
  {
   "cell_type": "code",
   "execution_count": null,
   "metadata": {},
   "outputs": [],
   "source": []
  },
  {
   "cell_type": "code",
   "execution_count": null,
   "metadata": {},
   "outputs": [],
   "source": []
  },
  {
   "cell_type": "code",
   "execution_count": null,
   "metadata": {},
   "outputs": [],
   "source": []
  },
  {
   "cell_type": "code",
   "execution_count": null,
   "metadata": {},
   "outputs": [],
   "source": []
  },
  {
   "cell_type": "code",
   "execution_count": null,
   "metadata": {},
   "outputs": [],
   "source": []
  },
  {
   "cell_type": "code",
   "execution_count": null,
   "metadata": {},
   "outputs": [],
   "source": []
  }
 ],
 "metadata": {
  "kernelspec": {
   "display_name": "Python 3",
   "language": "python",
   "name": "python3"
  },
  "language_info": {
   "codemirror_mode": {
    "name": "ipython",
    "version": 3
   },
   "file_extension": ".py",
   "mimetype": "text/x-python",
   "name": "python",
   "nbconvert_exporter": "python",
   "pygments_lexer": "ipython3",
   "version": "3.7.4"
  }
 },
 "nbformat": 4,
 "nbformat_minor": 4
}
