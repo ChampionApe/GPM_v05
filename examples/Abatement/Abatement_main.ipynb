{
 "cells": [
  {
   "cell_type": "markdown",
   "metadata": {},
   "source": [
    "### Load packages etc, and load the child-class of gmspython, \"Abatement\", and load \"techdata_to_tree\" which converts a technology catalog into production trees"
   ]
  },
  {
   "cell_type": "code",
   "execution_count": 1,
   "metadata": {},
   "outputs": [],
   "source": [
    "clean_up=True # removes gams-related files in work-folder if true\n",
    "%run StdPackages.ipynb\n",
    "os.chdir(py['main'])\n",
    "import abatement, techdata_to_tree, sys, ShockFunction\n",
    "os.chdir(curr)\n",
    "data_folder = os.getcwd()+'\\\\Data'\n",
    "gams_folder = data_folder + \"\\\\..\\\\gamsmodels\\\\Main\""
   ]
  },
  {
   "cell_type": "markdown",
   "metadata": {},
   "source": [
    "# **1.1 Construct trees**"
   ]
  },
  {
   "cell_type": "markdown",
   "metadata": {},
   "source": [
    "#### Load technology data.\n",
    "This runs the script in techdata_to_tree:"
   ]
  },
  {
   "cell_type": "code",
   "execution_count": 2,
   "metadata": {},
   "outputs": [],
   "source": [
    "# inputfile = \"techdata_newID.xlsx\"\n",
    "inputfile = \"techdata_newID.xlsx\"\n",
    "#inputfile = \"techdata_ID_oil.xlsx\"\n",
    "output = techdata_to_tree.load_techcats(pd.read_excel(data_folder + \"/\" + inputfile, sheet_name=[\"inputdisp\", \"endofpipe\", \"inputprices\"]))"
   ]
  },
  {
   "cell_type": "markdown",
   "metadata": {},
   "source": [
    "#### The output of the code is a dictionary with three upper keys:"
   ]
  },
  {
   "cell_type": "code",
   "execution_count": 3,
   "metadata": {},
   "outputs": [
    {
     "data": {
      "text/plain": [
       "dict_keys(['ID', 'inputprices', 'EOP'])"
      ]
     },
     "execution_count": 3,
     "metadata": {},
     "output_type": "execute_result"
    }
   ],
   "source": [
    "output.keys()"
   ]
  },
  {
   "cell_type": "markdown",
   "metadata": {},
   "source": [
    "The two different modules correspond to the two types of technology catalogs that the model can handle.\\\n",
    "*Input-displacing* (ID) and *End of pipe* (EOP)."
   ]
  },
  {
   "cell_type": "code",
   "execution_count": 4,
   "metadata": {},
   "outputs": [],
   "source": [
    "modules = [\"ID\", \"EOP\"]"
   ]
  },
  {
   "cell_type": "markdown",
   "metadata": {},
   "source": [
    "ID contains a dictionary related to input-displacing technologies, EOP does so for end of pipe (we use this naming convention throughout).\\\n",
    "They contain the following keys:"
   ]
  },
  {
   "cell_type": "code",
   "execution_count": 5,
   "metadata": {},
   "outputs": [
    {
     "name": "stdout",
     "output_type": "stream",
     "text": [
      "Keys of ID:  dict_keys(['techs_inputs', 'techs', 'components', 'upper_categories', 'mu', 'Q2P', 'unit_costs', 'current_coverages', 'coverage_potentials', 'IO_tech', 'IO_tech_inputs', 'baseline_U_inputs']) \n",
      "\n",
      "Keys of EOP:  dict_keys(['techs_inputs', 'techs', 'components', 'upper_categories', 'mu', 'Q2P', 'unit_costs', 'current_coverages', 'coverage_potentials']) \n",
      "\n"
     ]
    }
   ],
   "source": [
    "for module in modules:\n",
    "    print(\"Keys of \" + module + \": \", output[module].keys(), \"\\n\")"
   ]
  },
  {
   "cell_type": "markdown",
   "metadata": {},
   "source": [
    "As an example, \"techs\" shows, for each technology, which technology good it produces, e.g. for input-displacing:"
   ]
  },
  {
   "cell_type": "code",
   "execution_count": 6,
   "metadata": {},
   "outputs": [
    {
     "data": {
      "text/plain": [
       "{'ID_1': ['U_ID_1_1', 'U_ID_1_2', 'U_ID_1_3'],\n",
       " 'ID_2': ['U_ID_2_1', 'U_ID_2_2', 'U_ID_2_3'],\n",
       " 'ID_3': ['U_ID_3_1', 'U_ID_3_2'],\n",
       " 'ID_4': ['U_ID_4_1', 'U_ID_4_2', 'U_ID_4_3'],\n",
       " 'ID_5': ['U_ID_5_1', 'U_ID_5_2']}"
      ]
     },
     "execution_count": 6,
     "metadata": {},
     "output_type": "execute_result"
    }
   ],
   "source": [
    "output[\"ID\"][\"techs\"]"
   ]
  },
  {
   "cell_type": "markdown",
   "metadata": {},
   "source": [
    "And \"upper_categories\" shows the mapping between energy services (E) and their respective components (C) for ID.\\\n",
    "All of the trees in the `output` object are dictionaries where the keys are nodes in the tree and the values are lists of connected branches."
   ]
  },
  {
   "cell_type": "code",
   "execution_count": 7,
   "metadata": {},
   "outputs": [
    {
     "data": {
      "text/plain": [
       "{'EL': ['C_EL_1', 'C_EL_2', 'C_EL_3', 'C_EL_4', 'C_EL_5', 'C_EL_base'],\n",
       " 'EH': ['C_EH_1', 'C_EH_2', 'C_EH_3', 'C_EH_base'],\n",
       " 'ER': ['C_ER_1', 'C_ER_2', 'C_ER_base']}"
      ]
     },
     "execution_count": 7,
     "metadata": {},
     "output_type": "execute_result"
    }
   ],
   "source": [
    "output[\"ID\"][\"upper_categories\"]"
   ]
  },
  {
   "cell_type": "markdown",
   "metadata": {},
   "source": [
    "... and the mapping between emission types M ($CO_2$, $SO_2$ etc.) and the components C.\\\n",
    "Note importantly that this mapping does not constitute an actual part of the tree, because components are the outputs of the EOP sector.\\"
   ]
  },
  {
   "cell_type": "code",
   "execution_count": 8,
   "metadata": {},
   "outputs": [
    {
     "data": {
      "text/plain": [
       "{'CO2': [], 'SO2': ['C_SO2_1'], 'NOX': []}"
      ]
     },
     "execution_count": 8,
     "metadata": {},
     "output_type": "execute_result"
    }
   ],
   "source": [
    "output[\"EOP\"][\"upper_categories\"]"
   ]
  },
  {
   "cell_type": "markdown",
   "metadata": {},
   "source": [
    "### Initialize nesting tree, call it \"Abatement\"\n",
    "The construction of the production tree starts with an initialization of the *nesting_tree* class:"
   ]
  },
  {
   "cell_type": "code",
   "execution_count": 9,
   "metadata": {},
   "outputs": [],
   "source": [
    "nt = nesting_tree.nesting_tree(name='Abatement')"
   ]
  },
  {
   "cell_type": "markdown",
   "metadata": {},
   "source": [
    "The \"trees\" attribute starts off empty, reflecting that no (sub)trees have been added yet. "
   ]
  },
  {
   "cell_type": "code",
   "execution_count": 10,
   "metadata": {},
   "outputs": [
    {
     "data": {
      "text/plain": [
       "{}"
      ]
     },
     "execution_count": 10,
     "metadata": {},
     "output_type": "execute_result"
    }
   ],
   "source": [
    "nt.trees"
   ]
  },
  {
   "cell_type": "markdown",
   "metadata": {},
   "source": [
    "#### The following cells add each of the subtrees to the tree-object, \"nt\""
   ]
  },
  {
   "cell_type": "markdown",
   "metadata": {},
   "source": [
    "##### First, input-displacing subtrees"
   ]
  },
  {
   "cell_type": "markdown",
   "metadata": {},
   "source": [
    "Upper part, connecting energy services to components (this is an input-tree, so we do not supply additional keyword arguments).\\\n",
    "Again, we use the naming convention that a prefix reflects whether the tree is related to input-displacement (ID) or end of pipe (EOP).\n",
    "The prefix is followed by an underscore and then letters reflecting which elements in the tree are connected."
   ]
  },
  {
   "cell_type": "markdown",
   "metadata": {},
   "source": [
    "The first tree connects energy services (E) to components (C), related to input-displacing technologies (ID)"
   ]
  },
  {
   "cell_type": "code",
   "execution_count": 11,
   "metadata": {},
   "outputs": [],
   "source": [
    "nt.add_tree(output[\"ID\"][\"upper_categories\"], tree_name = 'ID_EC', **{\"type_f\":\"CES_norm\"})"
   ]
  },
  {
   "cell_type": "markdown",
   "metadata": {},
   "source": [
    "Before proceeding to the next tree, lets print some information from this tree.\\\n",
    "First, we see that the tree has been added to the list of trees in the \"aggregate\" tree, nt:"
   ]
  },
  {
   "cell_type": "code",
   "execution_count": 12,
   "metadata": {},
   "outputs": [
    {
     "data": {
      "text/plain": [
       "{'ID_EC': <nesting_trees.nt at 0x1fdc4b4f5c8>}"
      ]
     },
     "execution_count": 12,
     "metadata": {},
     "output_type": "execute_result"
    }
   ],
   "source": [
    "nt.trees"
   ]
  },
  {
   "cell_type": "markdown",
   "metadata": {},
   "source": [
    "Second, information about the tree is automatically added when the tree is added, e.g. the \"type_f\" attribute states that the functional form in this subtree is constant elasticity of substitution (CES)"
   ]
  },
  {
   "cell_type": "code",
   "execution_count": 13,
   "metadata": {},
   "outputs": [
    {
     "data": {
      "text/plain": [
       "{'name': 'ID_EC',\n",
       " 'tree': {'EL': ['C_EL_1',\n",
       "   'C_EL_2',\n",
       "   'C_EL_3',\n",
       "   'C_EL_4',\n",
       "   'C_EL_5',\n",
       "   'C_EL_base'],\n",
       "  'EH': ['C_EH_1', 'C_EH_2', 'C_EH_3', 'C_EH_base'],\n",
       "  'ER': ['C_ER_1', 'C_ER_2', 'C_ER_base']},\n",
       " 'type_io': 'input',\n",
       " 'version': 'std',\n",
       " 'n': 'n',\n",
       " 'nn': 'nn',\n",
       " 'nnn': 'nnn',\n",
       " 'map_': 'map_ID_EC',\n",
       " 'kno': 'kno_ID_EC',\n",
       " 'bra': 'bra_ID_EC',\n",
       " 'inp': 'inp_ID_EC',\n",
       " 'out': 'out_ID_EC',\n",
       " 'temp_namespace': None,\n",
       " 'type_f': 'CES_norm',\n",
       " 'database': <DataBase.GPM_database at 0x1fdc4b4fc48>}"
      ]
     },
     "execution_count": 13,
     "metadata": {},
     "output_type": "execute_result"
    }
   ],
   "source": [
    "nt.trees[\"ID_EC\"].__dict__"
   ]
  },
  {
   "cell_type": "markdown",
   "metadata": {},
   "source": [
    "However, even though the namespace includes e.g. \"map_\":\"map_ID_EC\", the database of the tree still does not contain this mapping. This requires running the run() method.\\\n",
    "Instead of doing that for each tree individually, we instead add all trees and call the run_all() methods which also calls the run() on each tree."
   ]
  },
  {
   "cell_type": "markdown",
   "metadata": {},
   "source": [
    "Next, we add the middle part, connecting components C to their technology goods U"
   ]
  },
  {
   "cell_type": "code",
   "execution_count": 14,
   "metadata": {},
   "outputs": [],
   "source": [
    "nt.add_tree(output[\"ID\"][\"components\"], tree_name = \"ID_CU\", **{\"type_f\":\"MNL\"})"
   ]
  },
  {
   "cell_type": "markdown",
   "metadata": {},
   "source": [
    "The two remaining parts are the bottom ones. \\\n",
    "First, the one that connects technologies to their outputs (technology goods). That these are outputs is specified explicitly by using the `type_io` keyword.\\\n",
    "Second, the one that connects technologies to their inputs (non-capital inputs X, and capital K)"
   ]
  },
  {
   "cell_type": "code",
   "execution_count": 15,
   "metadata": {},
   "outputs": [],
   "source": [
    "nt.add_tree(output[\"ID\"][\"techs\"], tree_name=\"ID_TU\", **{'type_io': 'output', 'type_f': 'CET_norm'})\n",
    "nt.add_tree(output[\"ID\"][\"techs_inputs\"], tree_name=\"ID_TX\")"
   ]
  },
  {
   "cell_type": "markdown",
   "metadata": {},
   "source": [
    "Baseline components and technology goods, and their respective sets of inputs are also part of the aggregate tree. We distinguish between those with their own inputs (these baseline technologies are the ones that come from knowing which energy mix a (set of) technologies replaces. The remaining baseline technology goods (and all baseline components by construction) are outputs of the \"IO technology\". This IO technology in turn draws on all inputs from the economy. This is the one we calibrate to make sure we replicate IO data. "
   ]
  },
  {
   "cell_type": "code",
   "execution_count": 16,
   "metadata": {},
   "outputs": [],
   "source": [
    "nt.add_tree(output[\"ID\"][\"IO_tech\"], tree_name=\"ID_IOCU\", **{\"type_io\":\"output\", \"type_f\":\"CET_norm\"})\n",
    "nt.add_tree(output[\"ID\"][\"IO_tech_inputs\"], tree_name=\"ID_IOX\")\n",
    "nt.add_tree(output[\"ID\"][\"baseline_U_inputs\"], tree_name=\"ID_UbaseX\")"
   ]
  },
  {
   "cell_type": "markdown",
   "metadata": {},
   "source": [
    "#### Next, we add the end of pipe subtrees.\n",
    "First, the one connecting components (which are the final product in the end-of-pipe tree) to the technology goods from which they are created:"
   ]
  },
  {
   "cell_type": "code",
   "execution_count": 17,
   "metadata": {},
   "outputs": [],
   "source": [
    "nt.add_tree(output[\"EOP\"][\"components\"], tree_name = \"EOP_CU\")"
   ]
  },
  {
   "cell_type": "markdown",
   "metadata": {},
   "source": [
    "Second, the bottom part. This consists of technologies and their outputs and inputs respectively, similarly to with input-displacing technologies:"
   ]
  },
  {
   "cell_type": "code",
   "execution_count": 18,
   "metadata": {},
   "outputs": [],
   "source": [
    "nt.add_tree(output[\"EOP\"][\"techs\"], tree_name=\"EOP_TU\", **{'type_io': 'output', 'type_f': 'CET_norm'})\n",
    "nt.add_tree(output[\"EOP\"][\"techs_inputs\"], tree_name=\"EOP_TX\")"
   ]
  },
  {
   "cell_type": "markdown",
   "metadata": {},
   "source": [
    "##### Now, all trees have been added:"
   ]
  },
  {
   "cell_type": "code",
   "execution_count": 19,
   "metadata": {},
   "outputs": [
    {
     "data": {
      "text/plain": [
       "{'ID_EC': <nesting_trees.nt at 0x1fdc4b4f5c8>,\n",
       " 'ID_CU': <nesting_trees.nt at 0x1fdc4bcec08>,\n",
       " 'ID_TU': <nesting_trees.nt at 0x1fdc423d348>,\n",
       " 'ID_TX': <nesting_trees.nt at 0x1fdc1148d48>,\n",
       " 'ID_IOCU': <nesting_trees.nt at 0x1fdc4bb5048>,\n",
       " 'ID_IOX': <nesting_trees.nt at 0x1fdc4bb5388>,\n",
       " 'ID_UbaseX': <nesting_trees.nt at 0x1fdc4b4fa08>,\n",
       " 'EOP_CU': <nesting_trees.nt at 0x1fdc4bd1988>,\n",
       " 'EOP_TU': <nesting_trees.nt at 0x1fdc4adf888>,\n",
       " 'EOP_TX': <nesting_trees.nt at 0x1fdc11162c8>}"
      ]
     },
     "execution_count": 19,
     "metadata": {},
     "output_type": "execute_result"
    }
   ],
   "source": [
    "nt.trees"
   ]
  },
  {
   "cell_type": "markdown",
   "metadata": {},
   "source": [
    "\n",
    "The next step is to use the method `run_all`. This runs through a number of steps, where it sets up sets/subsets/mappings identifying which elements e.g. are inputs, intermediate goods, and outputs in the aggregate tree, i.e. the combination of the subtrees we just added. *Tutorial_nesting_tree* includes a brief review of these.\\\n",
    "There are still some of the objects in `output` that we have not used. We will return to these later as they become relevant (the Q2P part will be ignored altogether though)."
   ]
  },
  {
   "cell_type": "code",
   "execution_count": 20,
   "metadata": {},
   "outputs": [],
   "source": [
    "nt.run_all()"
   ]
  },
  {
   "cell_type": "markdown",
   "metadata": {},
   "source": [
    "This constructs the aggregate tree. \\\n",
    "For a few highlights, let's check:\n",
    "1. The outputs of the aggregate tree (aggregate simply refers to the combination of all the individual (sub)trees\\\n",
    "This includes energy services (from ID) and components (from EOP)"
   ]
  },
  {
   "cell_type": "code",
   "execution_count": 21,
   "metadata": {},
   "outputs": [
    {
     "data": {
      "text/plain": [
       "['EL', 'EH', 'ER', 'C_SO2_1']"
      ]
     },
     "execution_count": 21,
     "metadata": {},
     "output_type": "execute_result"
    }
   ],
   "source": [
    "list(nt.database.series[\"out\"].vals)"
   ]
  },
  {
   "cell_type": "markdown",
   "metadata": {},
   "source": [
    "2. The outputs of a particular tree, say EOP_TU\\\n",
    "An error here? It says Ts are the outputs from an output tree with Ts as nods and Us as branches.\\\n",
    "I guess you could call it an \"error\", but it does not matter, because: The aggregate tree is constructed correctly and\\\n",
    "the variable showing outputs \"out_\\[treename\\]\" is a temporary variable, later to be discarded (see the key prune_trees)."
   ]
  },
  {
   "cell_type": "code",
   "execution_count": 22,
   "metadata": {},
   "outputs": [
    {
     "data": {
      "text/plain": [
       "[]"
      ]
     },
     "execution_count": 22,
     "metadata": {},
     "output_type": "execute_result"
    }
   ],
   "source": [
    "list(nt.trees[\"EOP_TU\"].database.series[\"out_EOP_TU\"].vals)"
   ]
  },
  {
   "cell_type": "markdown",
   "metadata": {},
   "source": [
    "3. Likewise, we can check th inputs of EOP_TU\\\n",
    "Likewise, this reports that the Us are inputs, which they really are not."
   ]
  },
  {
   "cell_type": "code",
   "execution_count": 23,
   "metadata": {},
   "outputs": [
    {
     "data": {
      "text/plain": [
       "Index(['U_EOP_t1_1'], dtype='object', name='n')"
      ]
     },
     "execution_count": 23,
     "metadata": {},
     "output_type": "execute_result"
    }
   ],
   "source": [
    "nt.trees[\"EOP_TU\"].database.series[\"inp_EOP_TU\"].vals"
   ]
  },
  {
   "cell_type": "markdown",
   "metadata": {},
   "source": [
    "4. The outputs of EOP_TU that are also outputs in the aggregate tree\\\n",
    "Correctly says that those Ts are not outputs of the aggregate tree (which were identified correctly in point 1 above)"
   ]
  },
  {
   "cell_type": "code",
   "execution_count": 24,
   "metadata": {},
   "outputs": [
    {
     "data": {
      "text/plain": [
       "[]"
      ]
     },
     "execution_count": 24,
     "metadata": {},
     "output_type": "execute_result"
    }
   ],
   "source": [
    "list(nt.trees[\"EOP_TU\"].database.series[\"out_EOP_TU\"].vals)"
   ]
  },
  {
   "cell_type": "markdown",
   "metadata": {},
   "source": [
    "Lastly, lets print the objects that the `nt` class instance contains:"
   ]
  },
  {
   "cell_type": "code",
   "execution_count": 25,
   "metadata": {},
   "outputs": [
    {
     "data": {
      "text/plain": [
       "{'name': 'Abatement',\n",
       " 'version': 'std',\n",
       " 'trees': {'ID_EC': <nesting_trees.nt at 0x1fdc4b4f5c8>,\n",
       "  'ID_CU': <nesting_trees.nt at 0x1fdc4bcec08>,\n",
       "  'ID_TU': <nesting_trees.nt at 0x1fdc423d348>,\n",
       "  'ID_TX': <nesting_trees.nt at 0x1fdc1148d48>,\n",
       "  'ID_IOCU': <nesting_trees.nt at 0x1fdc4bb5048>,\n",
       "  'ID_IOX': <nesting_trees.nt at 0x1fdc4bb5388>,\n",
       "  'ID_UbaseX': <nesting_trees.nt at 0x1fdc4b4fa08>,\n",
       "  'EOP_CU': <nesting_trees.nt at 0x1fdc4bd1988>,\n",
       "  'EOP_TU': <nesting_trees.nt at 0x1fdc4adf888>,\n",
       "  'EOP_TX': <nesting_trees.nt at 0x1fdc11162c8>},\n",
       " 'database': <DataBase.GPM_database at 0x1fdc4678b08>,\n",
       " 'n': 'n',\n",
       " 'nn': 'nn',\n",
       " 'nnn': 'nnn',\n",
       " 'inp': 'inp',\n",
       " 'out': 'out',\n",
       " 'int': 'int',\n",
       " 'fg': 'fg',\n",
       " 'wT': 'wT',\n",
       " 'map_all': 'map_all',\n",
       " 'kno_out': 'kno_out',\n",
       " 'kno_inp': 'kno_inp',\n",
       " 'prune_trees': {'OnlyQ', 'bra', 'inp', 'kno', 'out'}}"
      ]
     },
     "execution_count": 25,
     "metadata": {},
     "output_type": "execute_result"
    }
   ],
   "source": [
    "nt.__dict__"
   ]
  },
  {
   "cell_type": "markdown",
   "metadata": {},
   "source": [
    "# **1.2 Adding parameters to the database**"
   ]
  },
  {
   "cell_type": "markdown",
   "metadata": {},
   "source": [
    "The next step is to construct a database that contains all the share-parameters that we can deduce from technology data, as well as appropriate starting values for endogenous variables. These starting values will be set to the value that they would have if the entire tree was Leontief.\n",
    "The end goal is to make sure the database contained by `nt` includes all these parameters and starting values. \n",
    "To do so, we construct an empty database, add the share-parameters and starting values to this, and then finally merge that database with the one in `nt`.\n",
    "\n",
    "The GPM database of the nesting_tree instance (`nt`) does not contain the $\\mu$ parameters calculated from technology data yet.\\\n",
    "The the $\\mu$-parameters are stored under the key of the same name in `output`.\\\n",
    "Let's check out the database of `nt` now, to see that it does not include any symbol called $\\mu$ yet:"
   ]
  },
  {
   "cell_type": "code",
   "execution_count": 26,
   "metadata": {},
   "outputs": [
    {
     "name": "stdout",
     "output_type": "stream",
     "text": [
      "The database nt.database is of type <class 'DataBase.GPM_database'>\n",
      "\n",
      "Does the database include a symbol called mu? \n",
      "NO!\n"
     ]
    }
   ],
   "source": [
    "print(\"The database nt.database is of type \" + str(type(nt.database)))\n",
    "print(\"\\nDoes the database include a symbol called mu? \") \n",
    "if \"mu\" in nt.database.series:\n",
    "    print(\"YES!\")\n",
    "else:\n",
    "    print(\"NO!\")\n",
    "#print(\"The database contains the following:\")\n",
    "#nt.database.series.__dict__"
   ]
  },
  {
   "cell_type": "markdown",
   "metadata": {},
   "source": [
    "First we create an empty database:"
   ]
  },
  {
   "cell_type": "code",
   "execution_count": 27,
   "metadata": {},
   "outputs": [],
   "source": [
    "db = DataBase.GPM_database()"
   ]
  },
  {
   "cell_type": "markdown",
   "metadata": {},
   "source": [
    "We store the share-parameters from technology data in an object called `mu`. This does not contain all share-parameters of the tree (e.g. it does not include the share parameters of the inputs under baseline technology goods, or the share parameters for technology goods under components)."
   ]
  },
  {
   "cell_type": "code",
   "execution_count": 28,
   "metadata": {},
   "outputs": [],
   "source": [
    "mu = output[\"ID\"][\"mu\"].append(output[\"EOP\"][\"mu\"])"
   ]
  },
  {
   "cell_type": "markdown",
   "metadata": {},
   "source": [
    "Check out the mu parameters (prints just the five first entries here).\\\n",
    "Note: The mu-object is a series with a multiindex, where the first level is called `n` and the second level `nn`. The first level contains branches and the second level contains nodes."
   ]
  },
  {
   "cell_type": "code",
   "execution_count": 29,
   "metadata": {},
   "outputs": [
    {
     "data": {
      "text/plain": [
       "n                 nn  \n",
       "ID_1_electricity  ID_1    0.475\n",
       "ID_1_oil          ID_1    0.475\n",
       "ID_1_K            ID_1    4.050\n",
       "C_EL_1            EL      0.050\n",
       "U_ID_1_1          ID_1    0.500\n",
       "Name: mu, dtype: float64"
      ]
     },
     "execution_count": 29,
     "metadata": {},
     "output_type": "execute_result"
    }
   ],
   "source": [
    "mu.head()"
   ]
  },
  {
   "cell_type": "markdown",
   "metadata": {},
   "source": [
    "#### Calculate starting values (corresponding to the solution if the entire tree was Leontief).\n",
    "For demands/quantities, we use the fact that Leontief demand is given by \n",
    "$$q_j = \\mu_j \\left(\\frac{p_i}{p_j}\\right)^\\sigma q_i = \\mu_j q_i$$ for CES demand where $i$ refers to a node and $j$ refers to the branch. The CET and the MNL form is identical under Leontief.\\\n",
    "For prices, we generally use that when we know the price of each branch under a node as well as the quantities of these branches, the zero profit condition can be rearranged to give us the price of the node:\n",
    "$$ q_i p_i = \\sum_j q_j p_j \\quad \\Leftrightarrow \\quad  p_i = \\frac{\\sum_j q_j p_j}{q_i}$$"
   ]
  },
  {
   "cell_type": "markdown",
   "metadata": {},
   "source": [
    "Output quantities are held in the `qS` object. Output quantities are held fixed in the partial equilibrum (the output prices are the variables that adjust), and we simply set them to `output_quantity` in this example."
   ]
  },
  {
   "cell_type": "code",
   "execution_count": 30,
   "metadata": {},
   "outputs": [],
   "source": [
    "output_quantity = 100\n",
    "qS = pd.Series([], name=\"qS\", dtype=\"float64\")"
   ]
  },
  {
   "cell_type": "markdown",
   "metadata": {},
   "source": [
    "`qS` is now an empty series to which we add the value of 10 for each output of the tree:"
   ]
  },
  {
   "cell_type": "code",
   "execution_count": 31,
   "metadata": {},
   "outputs": [],
   "source": [
    "for out in nt.database.series[\"out\"]:\n",
    "    qS[out] = output_quantity"
   ]
  },
  {
   "cell_type": "markdown",
   "metadata": {},
   "source": [
    "All other quantities are kept in the object `qD`."
   ]
  },
  {
   "cell_type": "code",
   "execution_count": 32,
   "metadata": {},
   "outputs": [],
   "source": [
    "qD = pd.Series([], name=\"qD\", dtype=\"float64\")"
   ]
  },
  {
   "cell_type": "markdown",
   "metadata": {},
   "source": [
    "First, we calculate components' starting values for input-displacing (we did it for EOP with qS, because components are outputs there). \\\n",
    "We use the demand equation stated earlier (multiplication of share-parameter and relevant node/component). This calculates quantities for all components, including baseline components"
   ]
  },
  {
   "cell_type": "code",
   "execution_count": 33,
   "metadata": {},
   "outputs": [],
   "source": [
    "for E in output[\"ID\"][\"upper_categories\"]:\n",
    "    for C in output[\"ID\"][\"upper_categories\"][E]:\n",
    "        qD[C] = mu.loc[(C, E)] * qS[E]"
   ]
  },
  {
   "cell_type": "markdown",
   "metadata": {},
   "source": [
    "Next, we use that we have estimates of U to set these (current coverages), and then calculate the $\\mu$s residually"
   ]
  },
  {
   "cell_type": "code",
   "execution_count": 34,
   "metadata": {},
   "outputs": [],
   "source": [
    "for index, curr_coverage in output[\"ID\"][\"current_coverages\"].iteritems():\n",
    "    qD[index[0]] = curr_coverage * qS[index[1]]"
   ]
  },
  {
   "cell_type": "markdown",
   "metadata": {},
   "source": [
    "The $\\mu$s of technology goods (in their component nest) residually. This includes the share-parameters for the baseline technology goods $\\bar U$. Since we still have not set the starting values for the quantities of these baseline technology goods, we set these using the share-parameters that are calculated here as well."
   ]
  },
  {
   "cell_type": "code",
   "execution_count": 35,
   "metadata": {},
   "outputs": [],
   "source": [
    "for C in output[\"ID\"][\"components\"]:\n",
    "    #The ':-1' leaves out the baseline technology good, which we handle separately afterwards\n",
    "    nonbase_U = output[\"ID\"][\"components\"][C][:-1]\n",
    "    base_mu = 1\n",
    "    for U in nonbase_U:\n",
    "        mu[(U, C)] =  qD[U]/qD[C]\n",
    "        base_mu -= mu[(U, C)]\n",
    "    #Quantities of baseline U\n",
    "    mu[(output[\"ID\"][\"components\"][C][-1], C)] = base_mu\n",
    "    qD[output[\"ID\"][\"components\"][C][-1]] = base_mu * qD[C]\n",
    "    if base_mu <= 0:\n",
    "        print(C)\n",
    "        print(nonbase_U)\n",
    "        raise Exception(\"base_mu is not positive\")\n"
   ]
  },
  {
   "cell_type": "markdown",
   "metadata": {},
   "source": [
    "For end of pipe, we simple set the share-parameters of the technology goods under components as $1/N$ where $N$ is the number of branches/technology goods under a given component. Having set these, we can calculate the corresponding quantities using the CES Leontief demand equation."
   ]
  },
  {
   "cell_type": "code",
   "execution_count": 36,
   "metadata": {},
   "outputs": [],
   "source": [
    "for C in output[\"EOP\"][\"components\"]:\n",
    "    for U in output[\"EOP\"][\"components\"][C]:\n",
    "        mu.loc[(U, C)] = 1/len(output[\"EOP\"][\"components\"][C])\n",
    "        qD[U] = mu.loc[(U, C)] * qS[C]"
   ]
  },
  {
   "cell_type": "markdown",
   "metadata": {},
   "source": [
    "Then, we calculate the starting values of technologies $\\tau$ as the sum of their relevant $U$, since the CET function should be scale-preserving.\\\n",
    "The drawback here, for EOP only, is that the quantities of $U$ do not necessarily adhere to the relative sizes of their share-parameters (which are set based on the technology catalog). "
   ]
  },
  {
   "cell_type": "code",
   "execution_count": 37,
   "metadata": {},
   "outputs": [],
   "source": [
    "for module in modules:\n",
    "    for tech in output[module][\"techs\"]:\n",
    "        qD[tech] = qD[output[module][\"techs\"][tech]].sum()"
   ]
  },
  {
   "cell_type": "markdown",
   "metadata": {},
   "source": [
    "Lastly, we set the starting values of the inputs $X$ that go into technologies. These again use the demand equation. The share-parameters of these were given directly from technology data."
   ]
  },
  {
   "cell_type": "code",
   "execution_count": 38,
   "metadata": {},
   "outputs": [],
   "source": [
    "for module in modules:\n",
    "    techs = output[module][\"techs_inputs\"]\n",
    "    for tech in techs:\n",
    "        for inp in techs[tech]:\n",
    "            qD[inp] = mu.loc[(inp, tech)] * qD[tech]"
   ]
  },
  {
   "cell_type": "markdown",
   "metadata": {},
   "source": [
    "The next part contains the setting of starting values for prices.\n",
    "The prices of inputs (the very bottom of the tree) as fully exogenous, whereas all other prices are endogenous. The prices of outputs (those whose quantities are contained in `qS` are kept in the object `PbT` (refers to \"prices before taxes\") whereas the rest of the prices are kept in `PwT`."
   ]
  },
  {
   "cell_type": "code",
   "execution_count": 39,
   "metadata": {},
   "outputs": [],
   "source": [
    "#Quantity of the IO technology\n",
    "qD[\"IO_tech\"] = 0\n",
    "for base in output[\"ID\"][\"IO_tech\"][\"IO_tech\"]:\n",
    "    qD[\"IO_tech\"] += qD[base]\n",
    "#share parameters for each the non-replacing baseline technologies:\n",
    "for base in output[\"ID\"][\"IO_tech\"][\"IO_tech\"]:\n",
    "    mu[(base, \"IO_tech\")] = qD[base] / qD[\"IO_tech\"]"
   ]
  },
  {
   "cell_type": "markdown",
   "metadata": {},
   "source": [
    "Objects for storing prices:"
   ]
  },
  {
   "cell_type": "code",
   "execution_count": 40,
   "metadata": {},
   "outputs": [],
   "source": [
    "PwT = pd.Series([], name=\"PwT\", dtype=\"float64\")\n",
    "PbT = pd.Series([], name=\"PbT\", dtype=\"float64\")"
   ]
  },
  {
   "cell_type": "markdown",
   "metadata": {},
   "source": [
    "Prices of inputs are also stated in the catalog:"
   ]
  },
  {
   "cell_type": "code",
   "execution_count": 41,
   "metadata": {},
   "outputs": [],
   "source": [
    "for module in modules:\n",
    "    for t, inputs in output[module][\"techs_inputs\"].items():\n",
    "        for inp in inputs:\n",
    "            PwT[inp] = output[\"inputprices\"][inp.split(\"_\")[-1]]"
   ]
  },
  {
   "cell_type": "markdown",
   "metadata": {},
   "source": [
    "Add the prices of technologies: $p^\\tau$"
   ]
  },
  {
   "cell_type": "code",
   "execution_count": 42,
   "metadata": {},
   "outputs": [],
   "source": [
    "for module in modules:\n",
    "    for t, inputs in output[module][\"techs_inputs\"].items():\n",
    "        PwT[t] = pd.concat([PwT[inputs], qD[inputs]], axis=1).product(axis=1).sum() / qD[t]"
   ]
  },
  {
   "cell_type": "markdown",
   "metadata": {},
   "source": [
    "These prices are equal to unit costs by construction. \n",
    "Check:\n",
    "#CHECK DEVELOPED DONE YET"
   ]
  },
  {
   "cell_type": "markdown",
   "metadata": {},
   "source": [
    "For $p^U$, we simply assume $p^U = p^\\tau$, which, since the share-parameters in the CET nest splitting $\\tau$ into its produced technology goods sum to one, is consistent with zero profits."
   ]
  },
  {
   "cell_type": "code",
   "execution_count": 43,
   "metadata": {},
   "outputs": [],
   "source": [
    "for module in modules:\n",
    "    for t in output[module][\"techs\"]:\n",
    "        for U in output[module][\"techs\"][t]:\n",
    "            PwT[U] = PwT[t]"
   ]
  },
  {
   "cell_type": "markdown",
   "metadata": {},
   "source": [
    "Prices on components for end of pipe should be allocated to PbT because that includes the prices of outputs:"
   ]
  },
  {
   "cell_type": "code",
   "execution_count": 44,
   "metadata": {},
   "outputs": [],
   "source": [
    "for C, U_list in output[\"EOP\"][\"components\"].items():\n",
    "    PbT[C] = pd.concat([PwT[U_list], qD[U_list]], axis=1).product(axis=1).sum() / qS[C]"
   ]
  },
  {
   "cell_type": "markdown",
   "metadata": {},
   "source": [
    "Insert baseline input quantities and baseline technology good prices (only relevant for ID since baselines do not exist in EOP).\n",
    "\n",
    "This also (for now, should be set with input-output macro data later) sets the share-parameters of the inputs for the baseline technology goods. It assumes that the baseline uses all energy inputs in equal proportions and that these share-parameters sum to 1. Using these share-parameters, the corresponding quantities are added to `qD`."
   ]
  },
  {
   "cell_type": "code",
   "execution_count": 45,
   "metadata": {},
   "outputs": [],
   "source": [
    "inputs = output[\"ID\"][\"IO_tech_inputs\"][\"IO_tech\"]\n",
    "for inp in inputs:\n",
    "    mu[(inp, \"IO_tech\")] = 1/len(inputs)\n",
    "    PwT[inp] = output[\"inputprices\"][inp.split(\"_\")[-1]]\n",
    "    qD[inp] = mu[(inp, \"IO_tech\")] * qD[\"IO_tech\"]\n",
    "#Price of the IO technology\n",
    "PwT[\"IO_tech\"] = pd.concat([PwT[inputs], qD[inputs]], axis=1).product(axis=1).sum() / qD[\"IO_tech\"]"
   ]
  },
  {
   "cell_type": "code",
   "execution_count": 46,
   "metadata": {},
   "outputs": [],
   "source": [
    "for base in output[\"ID\"][\"IO_tech\"][\"IO_tech\"]:\n",
    "    PwT[base] = PwT[\"IO_tech\"] "
   ]
  },
  {
   "cell_type": "markdown",
   "metadata": {},
   "source": [
    "Quantities and prices of inputs to replacement-baseline-technologies and the cost of these as well:"
   ]
  },
  {
   "cell_type": "code",
   "execution_count": 47,
   "metadata": {},
   "outputs": [],
   "source": [
    "for base_U, inputs in output[\"ID\"][\"baseline_U_inputs\"].items():\n",
    "    for inp in inputs:\n",
    "#         mu[(inp, base_U)] = 1/len(inputs)    \n",
    "        qD[inp] = mu[(inp, base_U)] * qD[base_U]\n",
    "        PwT[inp] = output[\"inputprices\"][inp.split(\"_\")[-1]]\n",
    "    PwT[base_U] =  pd.concat([PwT[inputs], qD[inputs]], axis=1).product(axis=1).sum() / qD[base_U]"
   ]
  },
  {
   "cell_type": "markdown",
   "metadata": {},
   "source": [
    "<!-- Prices of components in ID: -->"
   ]
  },
  {
   "cell_type": "code",
   "execution_count": 48,
   "metadata": {},
   "outputs": [],
   "source": [
    "for C, U_list in output[\"ID\"][\"components\"].items():\n",
    "    PwT[C] = pd.concat([PwT[U_list], qD[U_list]], axis=1).product(axis=1).sum() / qD[C]"
   ]
  },
  {
   "cell_type": "markdown",
   "metadata": {},
   "source": [
    "Prices of plrea-cebaseline components. \\\n",
    "First, we calculate the share-parameters and corresponding quantities for the inputs that the baseline technology components use. "
   ]
  },
  {
   "cell_type": "code",
   "execution_count": 49,
   "metadata": {},
   "outputs": [],
   "source": [
    "# for base_C, inputs in output[\"ID\"][\"baseline_C_inputs\"].items():\n",
    "#     for inp in inputs:\n",
    "#         mu[(inp, base_C)] = 1/len(inputs)\n",
    "#         qD[inp] = 1/len(inputs) * qD[base_C]\n",
    "#         PwT[inp] = output[\"inputprices\"][inp.split(\"_\")[-1]]\n",
    "#     PwT[base_C] =  pd.concat([PwT[inputs], qD[inputs]], axis=1).product(axis=1).sum() / qD[base_C]"
   ]
  },
  {
   "cell_type": "markdown",
   "metadata": {},
   "source": [
    "Prices of energy services (\"upper categories\" in ID). "
   ]
  },
  {
   "cell_type": "code",
   "execution_count": 50,
   "metadata": {},
   "outputs": [],
   "source": [
    "for E, C_list in output[\"ID\"][\"upper_categories\"].items():\n",
    "    PbT[E] = pd.concat([PwT[C_list], qD[C_list]], axis=1).product(axis=1).sum() / qS[E]"
   ]
  },
  {
   "cell_type": "markdown",
   "metadata": {},
   "source": [
    "We now add the calculated values to the (still) empty database `db` instantiated earlier."
   ]
  },
  {
   "cell_type": "code",
   "execution_count": 51,
   "metadata": {},
   "outputs": [],
   "source": [
    "qS.index.name = \"n\"\n",
    "qD.index.name = \"n\"\n",
    "PwT.index.name = \"n\"\n",
    "PbT.index.name = \"n\"\n",
    "db[\"qS\"] = qS\n",
    "db[\"qD\"] = qD\n",
    "db[\"PwT\"] = PwT\n",
    "db[\"PbT\"] = PbT\n",
    "db[\"mu\"] = mu"
   ]
  },
  {
   "cell_type": "markdown",
   "metadata": {},
   "source": [
    "Merge `db` with the database attached to the nesting tree object `nt`:"
   ]
  },
  {
   "cell_type": "code",
   "execution_count": 52,
   "metadata": {},
   "outputs": [],
   "source": [
    "DataBase.GPM_database.merge_dbs(nt.database, db, \"first\")"
   ]
  },
  {
   "cell_type": "markdown",
   "metadata": {},
   "source": [
    "As a confirmation that this went succesfully, we check that the databse in `nt` contains a symbol called 'mu':"
   ]
  },
  {
   "cell_type": "code",
   "execution_count": 53,
   "metadata": {},
   "outputs": [
    {
     "data": {
      "text/plain": [
       "n                    nn     \n",
       "ID_1_electricity     ID_1       0.475\n",
       "ID_1_oil             ID_1       0.475\n",
       "ID_1_K               ID_1       4.050\n",
       "C_EL_1               EL         0.050\n",
       "U_ID_1_1             ID_1       0.500\n",
       "                                ...  \n",
       "IO_tech_electricity  IO_tech    0.200\n",
       "IO_tech_oil          IO_tech    0.200\n",
       "IO_tech_inp3         IO_tech    0.200\n",
       "IO_tech_inp4         IO_tech    0.200\n",
       "IO_tech_inp5         IO_tech    0.200\n",
       "Name: mu, Length: 91, dtype: float64"
      ]
     },
     "execution_count": 53,
     "metadata": {},
     "output_type": "execute_result"
    }
   ],
   "source": [
    "nt.database.series[\"mu\"].vals"
   ]
  },
  {
   "cell_type": "markdown",
   "metadata": {},
   "source": [
    "Success! We now proceed to use the class prstatic, a childclass of gmspython."
   ]
  },
  {
   "cell_type": "code",
   "execution_count": 54,
   "metadata": {},
   "outputs": [],
   "source": [
    "def flatten_list(list_):\n",
    "    return [item for sublist in list_ for item in sublist]"
   ]
  },
  {
   "cell_type": "markdown",
   "metadata": {},
   "source": [
    "## Add sets used for calibration to the database before constructing the model object"
   ]
  },
  {
   "cell_type": "markdown",
   "metadata": {},
   "source": [
    "#### g_exo_vals consists of $\\bar \\sigma$ and $\\bar \\mu$. These are targets in the minimzation object"
   ]
  },
  {
   "cell_type": "markdown",
   "metadata": {},
   "source": [
    "$\\bar \\sigma$ parameters used for the minimization object. These are the sigmas in the MNL nests (C->U)"
   ]
  },
  {
   "cell_type": "code",
   "execution_count": 55,
   "metadata": {},
   "outputs": [],
   "source": [
    "sigmabar = pd.Series([], name=\"sigmabar\", dtype=\"float64\")\n",
    "for c in output[\"ID\"][\"components\"].keys():\n",
    "    sigmabar[c] = 1"
   ]
  },
  {
   "cell_type": "markdown",
   "metadata": {},
   "source": [
    "$\\bar \\mu$ parameters used for minimization object. These are the share parameters in the CET split from technologies to technology goods."
   ]
  },
  {
   "cell_type": "code",
   "execution_count": 56,
   "metadata": {},
   "outputs": [],
   "source": [
    "mubar = mu.loc[pd.IndexSlice[mu.index.get_level_values(0).isin(flatten_list(list(output[\"ID\"][\"techs\"].values()))), \\\n",
    "                     mu.index.get_level_values(1).isin(list(output[\"ID\"][\"techs\"].keys()))]]\n",
    "mubar.name = \"mubar\""
   ]
  },
  {
   "cell_type": "markdown",
   "metadata": {},
   "source": [
    "#### g_tech_endo consists of parameters that are endogenized in the calibration procedure"
   ]
  },
  {
   "cell_type": "code",
   "execution_count": 57,
   "metadata": {},
   "outputs": [],
   "source": [
    "mu_EC = mu.loc[pd.IndexSlice[pd.Series(mu.index.get_level_values(0).str.startswith(\"C\")), \\\n",
    "                     pd.Series(mu.index.get_level_values(1).str.startswith(\"E\"))]].index"
   ]
  },
  {
   "cell_type": "code",
   "execution_count": 58,
   "metadata": {},
   "outputs": [],
   "source": [
    "mu_IOtech = mu.loc[pd.IndexSlice[mu.index.get_level_values(0).str.startswith(\"IO\"), mu.index.get_level_values(0).str.startswith(\"IO\")]].index"
   ]
  },
  {
   "cell_type": "code",
   "execution_count": 59,
   "metadata": {},
   "outputs": [],
   "source": [
    "sigma_CU = sigmabar.index\n",
    "sigma_CU.name = \"n\""
   ]
  },
  {
   "cell_type": "code",
   "execution_count": 60,
   "metadata": {},
   "outputs": [],
   "source": [
    "mu_CU = mu.loc[mu.index.get_level_values(0).isin(flatten_list(output[\"ID\"][\"components\"].values())), mu.index.get_level_values(1).isin(output[\"ID\"][\"components\"].keys())].index\n",
    "mu_CU.name = \"n\""
   ]
  },
  {
   "cell_type": "code",
   "execution_count": 61,
   "metadata": {},
   "outputs": [],
   "source": [
    "mu_tautoU = mu.loc[pd.IndexSlice[mu.index.get_level_values(0).str.startswith(\"U\"), mu.index.get_level_values(1).isin(output[\"ID\"][\"techs\"].keys())]].index"
   ]
  },
  {
   "cell_type": "markdown",
   "metadata": {},
   "source": [
    "Share-parameters of Leontief technologies (to be kept exogenous throughout)"
   ]
  },
  {
   "cell_type": "code",
   "execution_count": 62,
   "metadata": {},
   "outputs": [],
   "source": [
    "t = pd.IndexSlice[pd.Series(mu.index.get_level_values(1).isin(output[\"ID\"][\"techs\"].keys())), pd.Series(mu.index.get_level_values(1).isin(output[\"ID\"][\"techs\"].keys()))]"
   ]
  },
  {
   "cell_type": "code",
   "execution_count": 63,
   "metadata": {},
   "outputs": [],
   "source": [
    "t2 = pd.IndexSlice[pd.Series(mu.index.get_level_values(1).isin(output[\"ID\"][\"baseline_U_inputs\"].keys())), \\\n",
    "                   pd.Series(mu.index.get_level_values(1).isin(output[\"ID\"][\"baseline_U_inputs\"].keys()))]"
   ]
  },
  {
   "cell_type": "code",
   "execution_count": 64,
   "metadata": {},
   "outputs": [],
   "source": [
    "mu_leontief_techs = mu.loc[t2].index.append(mu.loc[t].index)"
   ]
  },
  {
   "cell_type": "code",
   "execution_count": 65,
   "metadata": {},
   "outputs": [],
   "source": [
    "tech_endo_mu = mu_EC.append(mu_IOtech).append(mu_CU).append(mu_tautoU)"
   ]
  },
  {
   "cell_type": "code",
   "execution_count": 66,
   "metadata": {},
   "outputs": [],
   "source": [
    "tech_endo_sigma = sigma_CU"
   ]
  },
  {
   "cell_type": "markdown",
   "metadata": {},
   "source": [
    "g_endovars_exoincalib includes the endogenous variables that we exogenize in calibration because we have data on them (C due to potentials, sum of U due to current applications, sum of dX for IO tech and replacing tech due to IO data) "
   ]
  },
  {
   "cell_type": "code",
   "execution_count": 67,
   "metadata": {},
   "outputs": [],
   "source": [
    "def multiindex_series(idx_level_names, idx_name=None, series_name=None):\n",
    "    if idx_name is None and series_name is not None:\n",
    "        idx_name = series_name\n",
    "    elif idx_name is not None and series_name is None:\n",
    "        series_name = idx_name\n",
    "    elif idx_name is None and series_name is None:\n",
    "        raise Exception(\"Supply either index name or series name\")\n",
    "    idx = pd.MultiIndex(levels=[[]]*len(idx_level_names), codes=[[]]*len(idx_level_names), names=idx_level_names)\n",
    "    ser = pd.Series(index=idx, dtype=float)\n",
    "    ser.rename(series_name, inplace=True)\n",
    "    #ser.index.name = idx_name\n",
    "    return ser"
   ]
  },
  {
   "cell_type": "code",
   "execution_count": 68,
   "metadata": {},
   "outputs": [],
   "source": [
    "def find_key_from_value(d, value):\n",
    "    assert isinstance(d, dict)\n",
    "    out = []\n",
    "    for (k, v) in d.items():\n",
    "        if value in v:\n",
    "            out.append(k)\n",
    "    if len(out) == 1:\n",
    "        return out[0]\n",
    "    else:\n",
    "        raise Exception(\"Value exists in multiple keys\")"
   ]
  },
  {
   "cell_type": "code",
   "execution_count": 69,
   "metadata": {},
   "outputs": [],
   "source": [
    "sumU = multiindex_series(idx_level_names=[\"n\", \"nn\"], series_name=\"sumU\")\n",
    "for t in output[\"ID\"][\"techs\"]:\n",
    "    for U in output[\"ID\"][\"techs\"][t]:\n",
    "        C = find_key_from_value(output[\"ID\"][\"components\"], U)\n",
    "        E = find_key_from_value(output[\"ID\"][\"upper_categories\"], C)\n",
    "        sumU[(\"sumU_\" + t + \"_\" + E, U)] = qD[U]"
   ]
  },
  {
   "cell_type": "code",
   "execution_count": 70,
   "metadata": {},
   "outputs": [],
   "source": [
    "sumU_map = sumU.index"
   ]
  },
  {
   "cell_type": "code",
   "execution_count": 71,
   "metadata": {},
   "outputs": [],
   "source": [
    "sumU_calibvalues = sumU.copy()\n",
    "sumU_calibvalues.index = sumU_calibvalues.index.droplevel(1)\n",
    "sumU_calibvalues = sumU_calibvalues.groupby(\"n\").sum()"
   ]
  },
  {
   "cell_type": "code",
   "execution_count": 72,
   "metadata": {},
   "outputs": [],
   "source": [
    "def find_true_input(inp, Q2P):\n",
    "    true = list(Q2P[Q2P.get_level_values(0).isin([inp])].get_level_values(1))[0]\n",
    "    return true"
   ]
  },
  {
   "cell_type": "code",
   "execution_count": 73,
   "metadata": {},
   "outputs": [],
   "source": [
    "#sumX. The sum of energy use for baseline technologies (IO_tech + replacing baselines)\n",
    "sumX = multiindex_series(idx_level_names=[\"n\", \"nn\"], series_name=\"sumX\")\n",
    "for x in output[\"ID\"][\"IO_tech_inputs\"][\"IO_tech\"]:\n",
    "    inp = find_true_input(x, output[\"ID\"][\"Q2P\"])\n",
    "    sumX[(inp, x)] = np.nan\n",
    "#pd.IndexSlice[pd.Series(mu.index.get_level_values(1).isin(output[\"ID\"][\"techs\"].keys())), pd.Series(mu.index.get_level_values(1).isin(output[\"ID\"][\"techs\"].keys()))]\n",
    "#output[\"ID\"][\"Q2P\"]\n",
    "\n",
    "for t in output[\"ID\"][\"techs_inputs\"]:\n",
    "    for x in output[\"ID\"][\"techs_inputs\"][t]:\n",
    "        sumX[(find_true_input(x, output[\"ID\"][\"Q2P\"]), x)] = np.nan\n",
    "\n",
    "for baseU in output[\"ID\"][\"baseline_U_inputs\"]:\n",
    "    for x in output[\"ID\"][\"baseline_U_inputs\"][baseU]:\n",
    "        sumX[(find_true_input(x, output[\"ID\"][\"Q2P\"]), x)] = np.nan\n",
    "\n",
    "#change name of the sum of an input to \"sum_x\"\n",
    "sumX = sumX.reset_index()\n",
    "sumX[\"n\"] = \"sum_\" + sumX[\"n\"]\n",
    "sumX = sumX.set_index([\"n\", \"nn\"])[\"sumX\"].index"
   ]
  },
  {
   "cell_type": "markdown",
   "metadata": {},
   "source": [
    "g_endovars_exoincalib"
   ]
  },
  {
   "cell_type": "code",
   "execution_count": 74,
   "metadata": {},
   "outputs": [],
   "source": [
    "endovars_exoincalib_sumU = sumU_map.copy()\n",
    "endovars_exoincalib_sumX = sumX\n",
    "endovars_exoincalib_C = mu_EC.get_level_values(0)"
   ]
  },
  {
   "cell_type": "code",
   "execution_count": 75,
   "metadata": {},
   "outputs": [],
   "source": [
    "qD_exo_U =  mu_tautoU.get_level_values(0)"
   ]
  },
  {
   "cell_type": "code",
   "execution_count": 76,
   "metadata": {},
   "outputs": [],
   "source": [
    "calib_values_currentapplications = pd.concat([qD[qD.index.str.startswith(\"U\") & ~qD.index.str.contains(\"EOP\")], qD[qD.index.str.startswith(\"C\")]]) "
   ]
  },
  {
   "cell_type": "code",
   "execution_count": 77,
   "metadata": {},
   "outputs": [],
   "source": [
    "calib_values_potentials = mu.loc[pd.IndexSlice[pd.Series(mu.index.get_level_values(0).str.startswith(\"C\")), \\\n",
    "                                 pd.Series(mu.index.get_level_values(1).str.startswith(\"E\"))]]"
   ]
  },
  {
   "cell_type": "code",
   "execution_count": 78,
   "metadata": {},
   "outputs": [],
   "source": [
    "db = DataBase.GPM_database()\n",
    "alwaysexo_mu = mu.drop(tech_endo_mu).index"
   ]
  },
  {
   "cell_type": "code",
   "execution_count": 79,
   "metadata": {},
   "outputs": [],
   "source": [
    "db[\"exo_parameters_mu\"] = mubar\n",
    "db[\"exo_parameters_sigma\"] = sigmabar\n",
    "db[\"tech_endoincalib_sigma\"] = tech_endo_sigma\n",
    "db[\"tech_endoincalib_mu\"] = tech_endo_mu\n",
    "db[\"params_alwaysexo_mu\"] = alwaysexo_mu\n",
    "db[\"endovars_exoincalib_sumU\"] = endovars_exoincalib_sumU\n",
    "db[\"endovars_exoincalib_sumX\"] = endovars_exoincalib_sumX\n",
    "db[\"endovars_exoincalib_C\"] = endovars_exoincalib_C\n",
    "db[\"calib_values_currentapplications\"] = calib_values_currentapplications\n",
    "db[\"calib_values_potentials\"] = calib_values_potentials\n",
    "db[\"obj\"] = 1"
   ]
  },
  {
   "cell_type": "code",
   "execution_count": 80,
   "metadata": {},
   "outputs": [],
   "source": [
    "db[\"sumUaggs\"] = endovars_exoincalib_sumU.get_level_values(0).unique()\n",
    "db[\"sumU2U\"] = endovars_exoincalib_sumU\n",
    "db[\"qsumU\"] = sumU_calibvalues"
   ]
  },
  {
   "cell_type": "code",
   "execution_count": 81,
   "metadata": {},
   "outputs": [],
   "source": [
    "db[\"sumXaggs\"] = endovars_exoincalib_sumX.get_level_values(0).unique()\n",
    "db[\"sumX2X\"] = endovars_exoincalib_sumX\n",
    "db[\"qsumX\"] = pd.Series([10]*len(endovars_exoincalib_sumX.get_level_values(0).unique()), index=endovars_exoincalib_sumX.get_level_values(0).unique(), name=\"qsumX\")"
   ]
  },
  {
   "cell_type": "markdown",
   "metadata": {},
   "source": [
    "# **2.1: The model**\n",
    "### **2.1.1 setup**"
   ]
  },
  {
   "cell_type": "markdown",
   "metadata": {},
   "source": [
    "*Text adopted from the code test_class:*\n",
    "\n",
    "Using the nesting trees above that defines various subsets, we now build a gams model using a *gmspython* class (pr_static). We build the partial equilibrium model from the following principles:\n",
    "* The firm takes input prices as given. These are prices with taxes ('PwT') that are defined over the global set *inp*. In this case this includes e.g. the price on electricity and capital.\n",
    "* The firm further takes the quantity of supply as given (it has to be either this or output prices for the model to be square). We denote the quantity of supply 'qS', and define it over the subset of goods that are outputs from the sector *out*. \n",
    "* The firm's demand for intermediate goods, and their prices are endogenous to the firm: In our case this involves $\\tau$, $U$ and $C$ in ID and only $\\tau$ and $U$ in EOP. These intermediate goods are not traded on any market, but is simply a construct we use to build the nests. In this way the quantity of $U$ is both supplied, and demanded by the firm/sector itself. As we do not need both a supply and demand variable (they are the same in this case), we let the quantity/prices for intermediate goods go under the variables 'qD'/'PwT', defined over the subset *int*.\n",
    "* The demand for inputs is also endogenous to the firm. We denote this 'qD' defined over the subset of goods 'inp'.\n",
    "* As briefly mentioned above, we either have to let the output prices / quantities be endogeonous (and the other exogenous) for the module to be square. In this case we let the price on outputs be endogenous. We denote the price 'PbT' for price before taxes. This is defined over the subset *out*. Distinguishing between PbT and PwT allows for the flexibility of including a tax module / including a mark-up on profits at a later point.\n",
    "\n",
    "We will get back to the way we initialize the *gmspython* module next; here we initialize the class to be able to print the variables needed for this specific model.\n",
    "The model, denoted `m`, is an instance of the class `pr_static` which is itself a childclass of the more general `gmspython` class."
   ]
  },
  {
   "cell_type": "markdown",
   "metadata": {},
   "source": [
    "#### Construct sets used specifically for the abate class:"
   ]
  },
  {
   "cell_type": "code",
   "execution_count": 82,
   "metadata": {},
   "outputs": [
    {
     "data": {
      "text/plain": [
       "{'name': 'Abatement',\n",
       " 'database': {'alias_': <DataBase.gpy_symbol at 0x1fdc4b4d808>,\n",
       "  'alias_set': <DataBase.gpy_symbol at 0x1fdc4b4db48>,\n",
       "  'alias_map2': <DataBase.gpy_symbol at 0x1fdc4b4dc88>,\n",
       "  'n': <DataBase.gpy_symbol at 0x1fdc4b4d548>,\n",
       "  'map_all': <DataBase.gpy_symbol at 0x1fdc4b28248>,\n",
       "  'inp': <DataBase.gpy_symbol at 0x1fdc4bf5248>,\n",
       "  'out': <DataBase.gpy_symbol at 0x1fdc4bf52c8>,\n",
       "  'int': <DataBase.gpy_symbol at 0x1fdc4bf5608>,\n",
       "  'fg': <DataBase.gpy_symbol at 0x1fdc4bf5308>,\n",
       "  'wT': <DataBase.gpy_symbol at 0x1fdc4bf5648>,\n",
       "  'kno_out': <DataBase.gpy_symbol at 0x1fdc4bf50c8>,\n",
       "  'kno_inp': <DataBase.gpy_symbol at 0x1fdc4bf5348>,\n",
       "  'qS': <DataBase.gpy_symbol at 0x1fdc4bf5388>,\n",
       "  'qD': <DataBase.gpy_symbol at 0x1fdc4bf53c8>,\n",
       "  'PwT': <DataBase.gpy_symbol at 0x1fdc4b4d8c8>,\n",
       "  'PbT': <DataBase.gpy_symbol at 0x1fdc4b4d2c8>,\n",
       "  'mu': <DataBase.gpy_symbol at 0x1fdc4c34148>}}"
      ]
     },
     "execution_count": 82,
     "metadata": {},
     "output_type": "execute_result"
    }
   ],
   "source": [
    "nt.database.series.__dict__"
   ]
  },
  {
   "cell_type": "markdown",
   "metadata": {},
   "source": [
    "Values to calibrate to. Potentials give C/E (i.e. C) and current application gives U/E (i.e. U) (IO data gives dX under IO_tech, and is loaded later)"
   ]
  },
  {
   "cell_type": "code",
   "execution_count": 83,
   "metadata": {},
   "outputs": [],
   "source": [
    "m = abatement.abate(nt=nt, tech_db=db, work_folder=work_folder, **{'data_folder': gams_folder, \"name\":\"Abatement\"})\n",
    "m.model.database.update_all_sets(clean_up=False) #Makes n include the sum variables"
   ]
  },
  {
   "cell_type": "code",
   "execution_count": 84,
   "metadata": {},
   "outputs": [
    {
     "data": {
      "text/plain": [
       "{'n': Index(['n', 'nn', 'nnn'], dtype='object', name='alias_map2')}"
      ]
     },
     "execution_count": 84,
     "metadata": {},
     "output_type": "execute_result"
    }
   ],
   "source": [
    "m.model.database.alias_dict0"
   ]
  },
  {
   "cell_type": "code",
   "execution_count": 85,
   "metadata": {},
   "outputs": [
    {
     "data": {
      "text/plain": [
       "Index(['C_EL_3', 'U_ID_5_2', 'sum_inp3', 'C_SO2_1', 'U_ID_C_EL_3_base_inp4',\n",
       "       'sumU_ID_5_ER', 'EOP_t1_K', 'U_ID_C_EL_3_base', 'sumU_ID_2_EL',\n",
       "       'U_EOP_t1_1', 'EOP_t1_oil', 'ID_2_K', 'ID_1_K', 'IO_tech_electricity',\n",
       "       'U_ID_5_1', 'sum_oil', 'U_ID_C_EL_4_base', 'C_EL_4', 'C_ER_base', 'EH',\n",
       "       'U_ID_4_1', 'U_ID_C_EL_1_base_oil', 'ID_1_oil', 'U_ID_1_3', 'ER',\n",
       "       'U_ID_4_2', 'ID_1', 'U_ID_2_1', 'sumU_ID_4_ER', 'U_ID_C_EL_5_base',\n",
       "       'sumU_ID_3_EL', 'C_EL_2', 'ID_4', 'EOP_t1', 'IO_tech_oil', 'ID_5_oil',\n",
       "       'IO_tech_inp3', 'C_EH_2', 'C_EL_base', 'C_EH_1', 'ID_5', 'IO_tech',\n",
       "       'C_ER_2', 'ID_3_inp4', 'ID_3_K', 'sumU_ID_2_EH', 'ID_4_electricity',\n",
       "       'IO_tech_inp5', 'U_ID_C_ER_1_base', 'U_ID_3_1', 'U_ID_C_EH_2_base',\n",
       "       'U_ID_4_3', 'ID_4_inp5', 'U_ID_C_EL_2_base_inp3', 'U_ID_C_EL_2_base',\n",
       "       'sumU_ID_4_EH', 'U_ID_C_EL_2_base_oil', 'sumU_ID_5_EH',\n",
       "       'U_ID_C_EL_3_base_inp3', 'ID_2_oil', 'ID_4_inp3', 'U_ID_2_2',\n",
       "       'ID_2_electricity', 'ID_5_K', 'ID_3_inp5', 'U_ID_C_ER_2_base', 'C_EH_3',\n",
       "       'U_ID_C_EL_3_base_oil', 'sumU_ID_1_EL', 'C_EH_base', 'EL', 'U_ID_1_1',\n",
       "       'U_ID_3_2', 'U_ID_C_EH_1_base_inp3', 'U_ID_2_3', 'ID_1_electricity',\n",
       "       'sum_inp5', 'sum_K', 'ID_3', 'U_ID_C_EH_3_base', 'ID_2',\n",
       "       'U_ID_C_EH_1_base', 'U_ID_1_2', 'U_ID_C_EL_4_base_inp4',\n",
       "       'sum_electricity', 'IO_tech_inp4', 'ID_4_K', 'sum_inp4', 'C_EL_1',\n",
       "       'C_EL_5', 'C_ER_1', 'U_ID_C_EL_1_base', 'ID_3_inp3', 'sumU_ID_4_EL',\n",
       "       'ID_5_inp4'],\n",
       "      dtype='object', name='nn')"
      ]
     },
     "execution_count": 85,
     "metadata": {},
     "output_type": "execute_result"
    }
   ],
   "source": [
    "m.get(\"nn\")"
   ]
  },
  {
   "cell_type": "code",
   "execution_count": 86,
   "metadata": {},
   "outputs": [
    {
     "data": {
      "text/plain": [
       "{'sets': ['alias_set', 'alias_map2', 'n', 'nn', 'nnn'],\n",
       " 'subsets': ['inp',\n",
       "  'out',\n",
       "  'int',\n",
       "  'fg',\n",
       "  'wT',\n",
       "  'kno_out',\n",
       "  'kno_inp',\n",
       "  'kno_ID_EC',\n",
       "  'bra_ID_EC',\n",
       "  'inp_ID_EC',\n",
       "  'out_ID_EC',\n",
       "  'kno_no_ID_EC',\n",
       "  'bra_o_ID_EC',\n",
       "  'bra_no_ID_EC',\n",
       "  'kno_ID_CU',\n",
       "  'bra_ID_CU',\n",
       "  'inp_ID_CU',\n",
       "  'out_ID_CU',\n",
       "  'kno_no_ID_CU',\n",
       "  'bra_o_ID_CU',\n",
       "  'bra_no_ID_CU',\n",
       "  'kno_ID_TU',\n",
       "  'bra_ID_TU',\n",
       "  'inp_ID_TU',\n",
       "  'out_ID_TU',\n",
       "  'bra_o_ID_TU',\n",
       "  'bra_no_ID_TU',\n",
       "  'kno_ID_TX',\n",
       "  'bra_ID_TX',\n",
       "  'inp_ID_TX',\n",
       "  'out_ID_TX',\n",
       "  'kno_no_ID_TX',\n",
       "  'bra_o_ID_TX',\n",
       "  'bra_no_ID_TX',\n",
       "  'kno_ID_IOCU',\n",
       "  'bra_ID_IOCU',\n",
       "  'inp_ID_IOCU',\n",
       "  'out_ID_IOCU',\n",
       "  'bra_o_ID_IOCU',\n",
       "  'bra_no_ID_IOCU',\n",
       "  'kno_ID_IOX',\n",
       "  'bra_ID_IOX',\n",
       "  'inp_ID_IOX',\n",
       "  'out_ID_IOX',\n",
       "  'kno_no_ID_IOX',\n",
       "  'bra_o_ID_IOX',\n",
       "  'bra_no_ID_IOX',\n",
       "  'kno_ID_UbaseX',\n",
       "  'bra_ID_UbaseX',\n",
       "  'inp_ID_UbaseX',\n",
       "  'out_ID_UbaseX',\n",
       "  'kno_no_ID_UbaseX',\n",
       "  'bra_o_ID_UbaseX',\n",
       "  'bra_no_ID_UbaseX',\n",
       "  'kno_EOP_CU',\n",
       "  'bra_EOP_CU',\n",
       "  'inp_EOP_CU',\n",
       "  'out_EOP_CU',\n",
       "  'kno_no_EOP_CU',\n",
       "  'bra_o_EOP_CU',\n",
       "  'bra_no_EOP_CU',\n",
       "  'kno_EOP_TU',\n",
       "  'bra_EOP_TU',\n",
       "  'inp_EOP_TU',\n",
       "  'out_EOP_TU',\n",
       "  'bra_o_EOP_TU',\n",
       "  'bra_no_EOP_TU',\n",
       "  'kno_EOP_TX',\n",
       "  'bra_EOP_TX',\n",
       "  'inp_EOP_TX',\n",
       "  'out_EOP_TX',\n",
       "  'kno_no_EOP_TX',\n",
       "  'bra_o_EOP_TX',\n",
       "  'bra_no_EOP_TX',\n",
       "  'tech_endoincalib_sigma',\n",
       "  'endovars_exoincalib_C',\n",
       "  'sumUaggs',\n",
       "  'sumXaggs',\n",
       "  'n_out'],\n",
       " 'mappings': ['alias_',\n",
       "  'map_all',\n",
       "  'map_ID_EC',\n",
       "  'map_ID_CU',\n",
       "  'map_ID_TU',\n",
       "  'map_ID_TX',\n",
       "  'map_ID_IOCU',\n",
       "  'map_ID_IOX',\n",
       "  'map_ID_UbaseX',\n",
       "  'map_EOP_CU',\n",
       "  'map_EOP_TU',\n",
       "  'map_EOP_TX',\n",
       "  'tech_endoincalib_mu',\n",
       "  'params_alwaysexo_mu',\n",
       "  'endovars_exoincalib_sumU',\n",
       "  'endovars_exoincalib_sumX',\n",
       "  'sumU2U',\n",
       "  'sumX2X']}"
      ]
     },
     "execution_count": 86,
     "metadata": {},
     "output_type": "execute_result"
    }
   ],
   "source": [
    "m.model.database.sets"
   ]
  },
  {
   "cell_type": "markdown",
   "metadata": {},
   "source": [
    "Recall that running a model requires constructing three methods/properties for `m`:\n",
    "\n",
    "1. `m.initialize_variables()`\n",
    "2. `m.endo_groups` and `m.exo_groups`\n",
    "3. `m.add_blocks()`\n",
    "\n",
    "We briefly review each in turn.\n",
    "\n",
    "`m.initialize_variables()` sets default initial values for the variables and parameters that are not already present in the attached database (which we constructed earlier). For example, we did not specify the values for the mark-up parameters anywhere, so the method `initialize_variables()` *must* specify the value that these parameters should have. We can see that in this case they will simply be set to 1 (no markup):"
   ]
  },
  {
   "cell_type": "code",
   "execution_count": 87,
   "metadata": {},
   "outputs": [],
   "source": [
    "# print(m.group_conditions(\"qD_exo_U\"))\n",
    "m.initialize_variables(check_variables=True)\n",
    "#group = \"g_qD_exo_U\""
   ]
  },
  {
   "cell_type": "code",
   "execution_count": 88,
   "metadata": {},
   "outputs": [
    {
     "data": {
      "text/plain": [
       "[{'PbT': {'and': [<DataBase.gpy_symbol at 0x1fdc4c29e48>,\n",
       "    {'not': <DataBase.gpy_symbol at 0x1fdc4c62648>}]},\n",
       "  'Peq': <DataBase.gpy_symbol at 0x1fdc4c06a48>}]"
      ]
     },
     "execution_count": 88,
     "metadata": {},
     "output_type": "execute_result"
    }
   ],
   "source": [
    "m.group_conditions(\"g_prices_exoincalib\")"
   ]
  },
  {
   "cell_type": "code",
   "execution_count": 89,
   "metadata": {},
   "outputs": [],
   "source": [
    "m.default_var_series(\"mark_up\")"
   ]
  },
  {
   "cell_type": "markdown",
   "metadata": {},
   "source": [
    "We run the method using the keyword argument `check_variables:True`. This makes the program check whether the database contains all the necessary values of a specific variable/parameter (say, $\\mu$), and if not, merges the default value (in this case equal to 1) onto the series of share-parameters already contained in the database. "
   ]
  },
  {
   "cell_type": "code",
   "execution_count": 90,
   "metadata": {},
   "outputs": [],
   "source": [
    "m.initialize_variables(**{\"check_variables\":True})"
   ]
  },
  {
   "cell_type": "markdown",
   "metadata": {},
   "source": [
    "Since all of our starting values were set 'as if' the entire tree was Leontief, it is worth noting that the default values for substitutions of elasticity/transformation have the following values:"
   ]
  },
  {
   "cell_type": "code",
   "execution_count": 91,
   "metadata": {},
   "outputs": [],
   "source": [
    "### INSERT SHOWING VALUES"
   ]
  },
  {
   "cell_type": "markdown",
   "metadata": {},
   "source": [
    "The second requirement(s) are the properties `endo_groups` and `exo_groups`. These collect the variables in groups and specify which of these subgroups are part of the two upper groups of endogenous and exogenous variables/parameters respectively. The choice of whether a variable should be endogenous or exogenous changes e.g. depending on whether the model is about to be solved for calibration purposes or not.\n",
    "In the basic case (not calibration mode), the endogenous variables are split into two groups:"
   ]
  },
  {
   "cell_type": "code",
   "execution_count": 92,
   "metadata": {},
   "outputs": [
    {
     "data": {
      "text/plain": [
       "dict_keys(['Abatement_g_prices_alwaysendo', 'Abatement_g_quants_alwaysendo', 'Abatement_g_prices_exoincalib', 'Abatement_g_quants_exoincalib'])"
      ]
     },
     "execution_count": 92,
     "metadata": {},
     "output_type": "execute_result"
    }
   ],
   "source": [
    "m.endo_groups.keys()"
   ]
  },
  {
   "cell_type": "markdown",
   "metadata": {},
   "source": [
    "... which themselves include the actual variables. Here we print the values of prices with taxes in the endovars group."
   ]
  },
  {
   "cell_type": "code",
   "execution_count": 93,
   "metadata": {},
   "outputs": [
    {
     "name": "stdout",
     "output_type": "stream",
     "text": [
      "{'name': 'qD', 'conditions': [{'and': [<DataBase.gpy_symbol object at 0x000001FDC4C29B08>, <DataBase.gpy_symbol object at 0x000001FDC4C29A88>, {'not': <DataBase.gpy_symbol object at 0x000001FDC4C51788>}]}]}\n",
      "[{'and': [<DataBase.gpy_symbol object at 0x000001FDC4C29B08>, <DataBase.gpy_symbol object at 0x000001FDC4C29A88>, {'not': <DataBase.gpy_symbol object at 0x000001FDC4C51788>}]}]\n"
     ]
    }
   ],
   "source": [
    "print(m.endo_groups[\"Abatement_g_quants_alwaysendo\"][0])\n",
    "print(m.endo_groups[\"Abatement_g_quants_alwaysendo\"][0][\"conditions\"])"
   ]
  },
  {
   "cell_type": "markdown",
   "metadata": {},
   "source": [
    "And next we print the exogenous prices with taxes by doing the same thing, but for g_exovars instead. This is found in the exo_groups attribute rather than the endo_groups attribute:"
   ]
  },
  {
   "cell_type": "markdown",
   "metadata": {},
   "source": [
    "Finally, we need to specify the *add_blocks* method. This is the method that writes blocks of equations to the model. In our case, we write a different block of equations for each tree.\n",
    "For example, a set of equations are:"
   ]
  },
  {
   "cell_type": "code",
   "execution_count": 94,
   "metadata": {},
   "outputs": [
    {
     "name": "stdout",
     "output_type": "stream",
     "text": [
      "E_zp_out_ID_EC[n]$(out_ID_EC[n])..\tPbT[n]*qS[n] =E= sum(nn$(map_ID_EC[nn,n]), qD[nn]*PwT[nn]);\n",
      "\tE_zp_nout_ID_EC[n]$(kno_no_ID_EC[n])..\tPwT[n]*qD[n] =E= sum(nn$(map_ID_EC[nn,n]), qD[nn]*PwT[nn]);\n",
      "\tE_q_out_ID_EC[n]$(bra_o_ID_EC[n])..\tqD[n] =E= sum(nn$(map_ID_EC[n,nn]), mu[n,nn] * (PbT[nn]/PwT[n])**(sigma[nn]) * qS[nn] / sum(nnn$(map_ID_EC[nnn,nn]), mu[nnn,nn] * (PbT[nn]/PwT[nnn])**(sigma[nn])));\n",
      "\tE_q_nout_ID_EC[n]$(bra_no_ID_EC[n])..\tqD[n] =E= sum(nn$(map_ID_EC[n,nn]), mu[n,nn] * (PwT[nn]/PwT[n])**(sigma[nn]) * qD[nn] / sum(nnn$(map_ID_EC[nnn,nn]), mu[nnn,nn] * (PwT[nn]/PwT[nnn])**(sigma[nn])));\n"
     ]
    }
   ],
   "source": [
    "print(m.eqtext(list(m.ns_local)[0]))"
   ]
  },
  {
   "cell_type": "code",
   "execution_count": 95,
   "metadata": {},
   "outputs": [],
   "source": [
    "m.add_blocks()"
   ]
  },
  {
   "cell_type": "code",
   "execution_count": 96,
   "metadata": {},
   "outputs": [
    {
     "data": {
      "text/plain": [
       "{'n': <DataBase.gpy_symbol at 0x1fdc4c29a48>,\n",
       " 'sumUaggs': <DataBase.gpy_symbol at 0x1fdc4c51288>,\n",
       " 'sumU2U': <DataBase.gpy_symbol at 0x1fdc4c51308>,\n",
       " 'qsumU': <DataBase.gpy_symbol at 0x1fdc4c51588>,\n",
       " 'sumXaggs': <DataBase.gpy_symbol at 0x1fdc4c51208>,\n",
       " 'sumX2X': <DataBase.gpy_symbol at 0x1fdc4c512c8>,\n",
       " 'qsumX': <DataBase.gpy_symbol at 0x1fdc4c510c8>,\n",
       " 'qD': <DataBase.gpy_symbol at 0x1fdc4c5d8c8>,\n",
       " 'aliases': {0: 'n', 1: 'nn', 2: 'nnn'},\n",
       " 'conditions': {'sumUaggs': 'sumUaggs[n]', 'sumXaggs': 'sumXaggs[n]'}}"
      ]
     },
     "execution_count": 96,
     "metadata": {},
     "output_type": "execute_result"
    }
   ],
   "source": [
    "m.simplesum.__dict__"
   ]
  },
  {
   "cell_type": "code",
   "execution_count": 97,
   "metadata": {},
   "outputs": [],
   "source": [
    "m.add_blocks()"
   ]
  },
  {
   "cell_type": "code",
   "execution_count": 98,
   "metadata": {},
   "outputs": [],
   "source": [
    "c = m.simplesum.add_symbols(m.model.database, m.ns)"
   ]
  },
  {
   "cell_type": "code",
   "execution_count": 99,
   "metadata": {},
   "outputs": [
    {
     "data": {
      "text/plain": [
       "'n'"
      ]
     },
     "execution_count": 99,
     "metadata": {},
     "output_type": "execute_result"
    }
   ],
   "source": [
    "m.simplesum.n.name"
   ]
  },
  {
   "cell_type": "code",
   "execution_count": 100,
   "metadata": {},
   "outputs": [
    {
     "data": {
      "text/plain": [
       "{'n': Index(['n', 'nn', 'nnn'], dtype='object', name='alias_map2')}"
      ]
     },
     "execution_count": 100,
     "metadata": {},
     "output_type": "execute_result"
    }
   ],
   "source": [
    "m.model.database.alias_dict0"
   ]
  },
  {
   "cell_type": "code",
   "execution_count": 101,
   "metadata": {},
   "outputs": [
    {
     "data": {
      "text/plain": [
       "{0: 'n', 1: 'nn', 2: 'nnn'}"
      ]
     },
     "execution_count": 101,
     "metadata": {},
     "output_type": "execute_result"
    }
   ],
   "source": [
    "m.simplesum.aliases"
   ]
  },
  {
   "cell_type": "code",
   "execution_count": 102,
   "metadata": {},
   "outputs": [
    {
     "data": {
      "text/plain": [
       "dict_keys(['ID_EC', 'ID_CU', 'ID_TU', 'ID_TX', 'ID_IOCU', 'ID_IOX', 'ID_UbaseX', 'EOP_CU', 'EOP_TU', 'EOP_TX'])"
      ]
     },
     "execution_count": 102,
     "metadata": {},
     "output_type": "execute_result"
    }
   ],
   "source": [
    "m.ns_local.keys()"
   ]
  },
  {
   "cell_type": "code",
   "execution_count": 103,
   "metadata": {},
   "outputs": [
    {
     "data": {
      "text/plain": [
       "dict_keys(['M_ID_EC', 'M_ID_CU', 'M_ID_TU', 'M_ID_TX', 'M_ID_IOCU', 'M_ID_IOX', 'M_ID_UbaseX', 'M_EOP_CU', 'M_EOP_TU', 'M_EOP_TX', 'M_Abatement_simplesum'])"
      ]
     },
     "execution_count": 103,
     "metadata": {},
     "output_type": "execute_result"
    }
   ],
   "source": [
    "m.model.blocks.keys()"
   ]
  },
  {
   "cell_type": "markdown",
   "metadata": {},
   "source": [
    "To sum up, the model we have in mind here has the following main settings (where a \\$ denotes a condition):\n",
    "* Endogenous variables: $PwT\\$(int)$, $PbT\\$(out)$, $qD\\$(wT)$. (Recall that the subset wT is the union of intermediate goods and inputs)\n",
    "* Exogenous variables: $PwT\\$(inp)$, $qS\\$(out)$. \n",
    "* Equations: For the CES nest we have the following two equations:\n",
    "    $$\\begin{align}\n",
    "        q_j =& \\mu_j\\left(\\dfrac{p_j}{p_i}\\right)^{-\\sigma}q_i, \\tag{CES-1}\\\\\n",
    "        p_iq_i =& \\sum_j q_jp_j \\tag{CES-2}\n",
    "    \\end{align}$$\n",
    "    (CES-1) is the CES demand function that has to hold for all *branches* ($q_j$) where $q_i$ is the relevant knot in the nesting tree. (CES-2) is a zero-profit condition that has to hold for production functions with constant returns to scale (alternatively, we can use a price index). This has to hold for every *knot* where $j$ sums over the relevant branches. A similar thing has to hold for the CET tree."
   ]
  },
  {
   "cell_type": "markdown",
   "metadata": {},
   "source": [
    "### **2.1.2 Running the model**\n",
    "Running the model, including the invoking the methods and properties described in the previous section, we simply run the following:"
   ]
  },
  {
   "cell_type": "code",
   "execution_count": 104,
   "metadata": {},
   "outputs": [],
   "source": [
    "m.add_groups()"
   ]
  },
  {
   "cell_type": "code",
   "execution_count": 105,
   "metadata": {},
   "outputs": [],
   "source": [
    "m.write_and_run(kwargs_init={'check_variables':True})"
   ]
  },
  {
   "cell_type": "markdown",
   "metadata": {},
   "source": [
    "To check whether the model was successfully solved, we check the modelstat (16.0 means solved correctly, 5.0 means not)"
   ]
  },
  {
   "cell_type": "code",
   "execution_count": 106,
   "metadata": {},
   "outputs": [
    {
     "data": {
      "text/plain": [
       "5.0"
      ]
     },
     "execution_count": 106,
     "metadata": {},
     "output_type": "execute_result"
    }
   ],
   "source": [
    "m.model_instances[\"baseline\"].modelstat"
   ]
  },
  {
   "cell_type": "markdown",
   "metadata": {},
   "source": [
    "Next, we wish to solve the model while instead of the default value of substitution and transformation elasticities of 0.1, we set them equal to zero (in practice not exactly, but very close).\n",
    "Since the starting values have been set under the assumption of Leontief nests, this will help the solver find an initial solution."
   ]
  },
  {
   "cell_type": "code",
   "execution_count": 107,
   "metadata": {},
   "outputs": [
    {
     "data": {
      "text/plain": [
       "dict_keys(['ID_EC', 'ID_CU', 'ID_TU', 'ID_TX', 'ID_IOCU', 'ID_IOX', 'ID_UbaseX', 'EOP_CU', 'EOP_TU', 'EOP_TX'])"
      ]
     },
     "execution_count": 107,
     "metadata": {},
     "output_type": "execute_result"
    }
   ],
   "source": [
    "m.ns_local.keys()"
   ]
  },
  {
   "cell_type": "code",
   "execution_count": 108,
   "metadata": {},
   "outputs": [
    {
     "data": {
      "text/plain": [
       "dict_keys(['techs_inputs', 'techs', 'components', 'upper_categories', 'mu', 'Q2P', 'unit_costs', 'current_coverages', 'coverage_potentials', 'IO_tech', 'IO_tech_inputs', 'baseline_U_inputs'])"
      ]
     },
     "execution_count": 108,
     "metadata": {},
     "output_type": "execute_result"
    }
   ],
   "source": [
    "output[\"ID\"].keys()"
   ]
  },
  {
   "cell_type": "code",
   "execution_count": 109,
   "metadata": {},
   "outputs": [
    {
     "name": "stdout",
     "output_type": "stream",
     "text": [
      "\n",
      "Success! The modelstat was 16.0\n"
     ]
    }
   ],
   "source": [
    "m.model.settings.databases[\"Abatement_0\"][\"sigma\"].vals.loc[:] = 0.0001\n",
    "m.model.settings.databases[\"Abatement_0\"][\"eta\"].vals.loc[:] = -0.0001\n",
    "#m.model.settings.databases[\"Abatement\"][\"sigma\"].vals[condition] = 0.2\n",
    "#m.write_and_run(options_run={'output':sys.stdout})\n",
    "m.write_and_run()\n",
    "if m.model_instances[\"baseline\"].modelstat == 16.0:\n",
    "    print(\"\\nSuccess! The modelstat was 16.0\")"
   ]
  },
  {
   "cell_type": "code",
   "execution_count": 110,
   "metadata": {},
   "outputs": [
    {
     "data": {
      "text/plain": [
       "n\n",
       "sum_electricity    10\n",
       "sum_oil            10\n",
       "sum_inp3           10\n",
       "sum_inp4           10\n",
       "sum_inp5           10\n",
       "sum_K              10\n",
       "Name: qsumX, dtype: int64"
      ]
     },
     "execution_count": 110,
     "metadata": {},
     "output_type": "execute_result"
    }
   ],
   "source": [
    "m.get(\"qsumX\")"
   ]
  },
  {
   "cell_type": "markdown",
   "metadata": {},
   "source": [
    "The model could be solved using elasticities of 0.0001. Let's check if it can be solved when these are set to higher numbers, implying a solution farther from the starting values (which, as mentioned, were set based on Leontief)."
   ]
  },
  {
   "cell_type": "code",
   "execution_count": 105,
   "metadata": {},
   "outputs": [],
   "source": [
    "# condition = m.model.settings.databases[\"Abatement\"][\"sigma\"].vals.index.str.startswith(\"C_E\") & ~m.model.settings.databases[\"Abatement\"][\"sigma\"].vals.index.str.contains(\"base\")"
   ]
  },
  {
   "cell_type": "code",
   "execution_count": 107,
   "metadata": {},
   "outputs": [],
   "source": []
  },
  {
   "cell_type": "code",
   "execution_count": 111,
   "metadata": {},
   "outputs": [
    {
     "name": "stdout",
     "output_type": "stream",
     "text": [
      "\n",
      "SUCCESS:\n",
      "Sigma/eta: 0.0001\n",
      "\n",
      "SUCCESS:\n",
      "Sigma/eta: 0.1\n",
      "\n",
      "SUCCESS:\n",
      "Sigma/eta: 0.2\n",
      "\n",
      "SUCCESS:\n",
      "Sigma/eta: 0.3\n",
      "\n",
      "FAIL:\n",
      "Sigma/eta: 0.4\n",
      "\n",
      "FAIL:\n",
      "Sigma/eta: 0.5\n"
     ]
    }
   ],
   "source": [
    "for sigma_val in range(0, 60, 10):\n",
    "    sigma_val = sigma_val/100\n",
    "    if sigma_val == 0:\n",
    "        sigma_val = 0.0001\n",
    "#    for MNL_sigma in [0.1, 1]:\n",
    "\n",
    "    #Set values\n",
    "    #m.model.settings.databases[\"Abatement\"][\"sigma\"].vals.loc[condition] = MNL_sigma\n",
    "    #m.model.settings.databases[\"Abatement\"][\"sigma\"].vals.loc[~condition] = sigma_val\n",
    "    m.model.settings.databases[\"Abatement_0\"][\"sigma\"].vals.loc[:] = sigma_val\n",
    "    m.model.settings.databases[\"Abatement_0\"][\"eta\"].vals.loc[:] = -sigma_val\n",
    "\n",
    "    #Try to solve\n",
    "    m.write_and_run()\n",
    "\n",
    "    #How did it go?\n",
    "    if m.model_instances[\"baseline\"].modelstat == 16.0:\n",
    "        print(\"\\nSUCCESS:\")\n",
    "        print(\"Sigma/eta:\", round(sigma_val, 4))\n",
    "        #print(\"Sigma/eta (MNL):\", round(MNL_val, 4))\n",
    "    else:\n",
    "        print(\"\\nFAIL:\")\n",
    "        print(\"Sigma/eta:\", round(sigma_val, 4))\n",
    "        #print(\"Sigma/eta: (MNL)\", round(MNL_sigma, 4))"
   ]
  },
  {
   "cell_type": "markdown",
   "metadata": {},
   "source": [
    "As can be seen, the model cannot be solved when the elasticities get too large. To accomodate this, we replace each iteration's starting values with the previous iteration's solution, while gradually increasing $\\sigma$ and $\\mu$.\n",
    "This allows us to set these to (hopefully) any value. This \"gradual changing of parameters\" is called 'sneaky solve'. :)"
   ]
  },
  {
   "cell_type": "markdown",
   "metadata": {},
   "source": [
    "### Sneaky solve: Gradual increase in sigma"
   ]
  },
  {
   "cell_type": "code",
   "execution_count": 103,
   "metadata": {},
   "outputs": [],
   "source": [
    "db_star = DataBase.GPM_database()"
   ]
  },
  {
   "cell_type": "code",
   "execution_count": 104,
   "metadata": {},
   "outputs": [],
   "source": [
    "sigma_star = m.get(\"sigma\").copy()\n",
    "eta_star = m.get(\"eta\").copy()"
   ]
  },
  {
   "cell_type": "code",
   "execution_count": 105,
   "metadata": {},
   "outputs": [
    {
     "ename": "KeyError",
     "evalue": "'baseline_C_inputs'",
     "output_type": "error",
     "traceback": [
      "\u001b[1;31m---------------------------------------------------------------------------\u001b[0m",
      "\u001b[1;31mKeyError\u001b[0m                                  Traceback (most recent call last)",
      "\u001b[1;32m<ipython-input-105-6d090d6ae280>\u001b[0m in \u001b[0;36m<module>\u001b[1;34m\u001b[0m\n\u001b[0;32m      2\u001b[0m \u001b[0msigma_star\u001b[0m\u001b[1;33m[\u001b[0m\u001b[0moutput\u001b[0m\u001b[1;33m[\u001b[0m\u001b[1;34m\"ID\"\u001b[0m\u001b[1;33m]\u001b[0m\u001b[1;33m[\u001b[0m\u001b[1;34m\"components\"\u001b[0m\u001b[1;33m]\u001b[0m\u001b[1;33m.\u001b[0m\u001b[0mkeys\u001b[0m\u001b[1;33m(\u001b[0m\u001b[1;33m)\u001b[0m\u001b[1;33m]\u001b[0m \u001b[1;33m=\u001b[0m \u001b[1;36m1.2\u001b[0m\u001b[1;33m\u001b[0m\u001b[1;33m\u001b[0m\u001b[0m\n\u001b[0;32m      3\u001b[0m \u001b[0msigma_star\u001b[0m\u001b[1;33m[\u001b[0m\u001b[0moutput\u001b[0m\u001b[1;33m[\u001b[0m\u001b[1;34m\"ID\"\u001b[0m\u001b[1;33m]\u001b[0m\u001b[1;33m[\u001b[0m\u001b[1;34m\"baseline_U_inputs\"\u001b[0m\u001b[1;33m]\u001b[0m\u001b[1;33m.\u001b[0m\u001b[0mkeys\u001b[0m\u001b[1;33m(\u001b[0m\u001b[1;33m)\u001b[0m\u001b[1;33m]\u001b[0m \u001b[1;33m=\u001b[0m \u001b[1;36m0.01\u001b[0m\u001b[1;33m\u001b[0m\u001b[1;33m\u001b[0m\u001b[0m\n\u001b[1;32m----> 4\u001b[1;33m \u001b[0msigma_star\u001b[0m\u001b[1;33m[\u001b[0m\u001b[0moutput\u001b[0m\u001b[1;33m[\u001b[0m\u001b[1;34m\"ID\"\u001b[0m\u001b[1;33m]\u001b[0m\u001b[1;33m[\u001b[0m\u001b[1;34m\"baseline_C_inputs\"\u001b[0m\u001b[1;33m]\u001b[0m\u001b[1;33m.\u001b[0m\u001b[0mkeys\u001b[0m\u001b[1;33m(\u001b[0m\u001b[1;33m)\u001b[0m\u001b[1;33m]\u001b[0m \u001b[1;33m=\u001b[0m \u001b[1;36m0.01\u001b[0m\u001b[1;33m\u001b[0m\u001b[1;33m\u001b[0m\u001b[0m\n\u001b[0m\u001b[0;32m      5\u001b[0m \u001b[0msigma_star\u001b[0m\u001b[1;33m[\u001b[0m\u001b[0moutput\u001b[0m\u001b[1;33m[\u001b[0m\u001b[1;34m\"ID\"\u001b[0m\u001b[1;33m]\u001b[0m\u001b[1;33m[\u001b[0m\u001b[1;34m\"techs\"\u001b[0m\u001b[1;33m]\u001b[0m\u001b[1;33m.\u001b[0m\u001b[0mkeys\u001b[0m\u001b[1;33m(\u001b[0m\u001b[1;33m)\u001b[0m\u001b[1;33m]\u001b[0m \u001b[1;33m=\u001b[0m \u001b[1;36m0.01\u001b[0m\u001b[1;33m\u001b[0m\u001b[1;33m\u001b[0m\u001b[0m\n\u001b[0;32m      6\u001b[0m \u001b[0meta_star\u001b[0m\u001b[1;33m[\u001b[0m\u001b[0moutput\u001b[0m\u001b[1;33m[\u001b[0m\u001b[1;34m\"ID\"\u001b[0m\u001b[1;33m]\u001b[0m\u001b[1;33m[\u001b[0m\u001b[1;34m\"techs\"\u001b[0m\u001b[1;33m]\u001b[0m\u001b[1;33m.\u001b[0m\u001b[0mkeys\u001b[0m\u001b[1;33m(\u001b[0m\u001b[1;33m)\u001b[0m\u001b[1;33m]\u001b[0m \u001b[1;33m=\u001b[0m \u001b[1;33m-\u001b[0m\u001b[1;36m0.9\u001b[0m\u001b[1;33m\u001b[0m\u001b[1;33m\u001b[0m\u001b[0m\n",
      "\u001b[1;31mKeyError\u001b[0m: 'baseline_C_inputs'"
     ]
    }
   ],
   "source": [
    "sigma_star[output[\"ID\"][\"upper_categories\"].keys()] = 0.01\n",
    "sigma_star[output[\"ID\"][\"components\"].keys()] = 1.2\n",
    "sigma_star[output[\"ID\"][\"baseline_U_inputs\"].keys()] = 0.01\n",
    "sigma_star[output[\"ID\"][\"baseline_C_inputs\"].keys()] = 0.01\n",
    "sigma_star[output[\"ID\"][\"techs\"].keys()] = 0.01\n",
    "eta_star[output[\"ID\"][\"techs\"].keys()] = -0.9"
   ]
  },
  {
   "cell_type": "code",
   "execution_count": null,
   "metadata": {},
   "outputs": [],
   "source": [
    "db_star[\"sigma\"] = sigma_star\n",
    "db_star[\"eta\"] = eta_star"
   ]
  },
  {
   "cell_type": "markdown",
   "metadata": {},
   "source": [
    "Run again, while adding a checkpoint that we can use afterwards"
   ]
  },
  {
   "cell_type": "code",
   "execution_count": null,
   "metadata": {},
   "outputs": [],
   "source": []
  },
  {
   "cell_type": "code",
   "execution_count": 133,
   "metadata": {},
   "outputs": [
    {
     "data": {
      "text/plain": [
       "{}"
      ]
     },
     "execution_count": 133,
     "metadata": {},
     "output_type": "execute_result"
    }
   ],
   "source": [
    "m.checkpoints"
   ]
  },
  {
   "cell_type": "code",
   "execution_count": 134,
   "metadata": {},
   "outputs": [
    {
     "data": {
      "text/plain": [
       "{'baseline': <DB2Gams_l3.gams_model at 0x23a06a3b9c8>}"
      ]
     },
     "execution_count": 134,
     "metadata": {},
     "output_type": "execute_result"
    }
   ],
   "source": [
    "m.model_instances"
   ]
  },
  {
   "cell_type": "code",
   "execution_count": 135,
   "metadata": {},
   "outputs": [],
   "source": [
    "m.model.settings.databases[\"Abatement_0\"][\"sigma\"].vals.loc[:] = 0.001\n",
    "m.model.settings.databases[\"Abatement_0\"][\"eta\"].vals.loc[:] = -0.001\n",
    "name = \"calibrated\"\n",
    "#Fejler med noget \"delimiter\" fejl\n",
    "#m.write_and_run(name=\"test\", add_checkpoint=\"test\", options_add={\"checkpoint\":m.checkpoints[\"leontief\"]})\n",
    "m.write_and_run(name=name, add_checkpoint=\"leontief\")"
   ]
  },
  {
   "cell_type": "code",
   "execution_count": 136,
   "metadata": {},
   "outputs": [],
   "source": [
    "m.checkpoints[name] = m.model_instances[name].ws.add_checkpoint()"
   ]
  },
  {
   "cell_type": "code",
   "execution_count": 137,
   "metadata": {},
   "outputs": [
    {
     "data": {
      "text/plain": [
       "{'leontief': <gams.execution.GamsCheckpoint at 0x23a06b82d48>,\n",
       " 'calibrated': <gams.execution.GamsCheckpoint at 0x23a07b9c848>}"
      ]
     },
     "execution_count": 137,
     "metadata": {},
     "output_type": "execute_result"
    }
   ],
   "source": [
    "m.checkpoints"
   ]
  },
  {
   "cell_type": "markdown",
   "metadata": {},
   "source": [
    "Solve sneakily, gradually increasing sigmas towards their desired values (which themselves are stated in `db_star`)"
   ]
  },
  {
   "cell_type": "code",
   "execution_count": 138,
   "metadata": {},
   "outputs": [
    {
     "data": {
      "text/plain": [
       "{'Modelstat': 16.0, 'Solvestat': 1.0}"
      ]
     },
     "execution_count": 138,
     "metadata": {},
     "output_type": "execute_result"
    }
   ],
   "source": [
    "#m.model_instances[name].solve_sneakily(db_star=db_star, options_run={\"checkpoint\":name})\n",
    "#DETTE OPDATERER IKKE CHECKPOINTET \"calibrated\". VIRKER OGSÅ SPØJST AT MAN SKAL GIVE ET CHECKPOINT NÅR NU IDEEN ER AT DEN SKAL OPRETTE ET BASERET PÅ HVOR DEN ENDER.\n",
    "# OG JEG HAR JO ALLEREDE GIVET DEN INIT-tingene. \n",
    "\n",
    "#gm.checkpoints[name] = mi.ws.add_checkpoint()\n",
    "m.model_instances[name].solve_sneakily(db_star=db_star, from_cp=True, cp_init=m.checkpoints[\"leontief\"], options_run={\"checkpoint\":m.checkpoints[name]})"
   ]
  },
  {
   "cell_type": "code",
   "execution_count": 139,
   "metadata": {},
   "outputs": [],
   "source": [
    "mi = m.model_instances[name]\n",
    "# newjob = mi.ws.add_job_from_string(\"sets a,b;\",**{'checkpoint': m.checkpoints[name]})\n",
    "# newjob.run()"
   ]
  },
  {
   "cell_type": "markdown",
   "metadata": {},
   "source": [
    "Check if the model ran succesfully:"
   ]
  },
  {
   "cell_type": "code",
   "execution_count": 150,
   "metadata": {},
   "outputs": [
    {
     "data": {
      "text/plain": [
       "16.0"
      ]
     },
     "execution_count": 150,
     "metadata": {},
     "output_type": "execute_result"
    }
   ],
   "source": [
    "m.model_instances[name].out_db.series[\"Abatement_B_modelstat\"].vals"
   ]
  },
  {
   "cell_type": "markdown",
   "metadata": {},
   "source": [
    "The changes in e.g. demanded quantities, from the initial point (the solution where sigmas were ~0) are:"
   ]
  },
  {
   "cell_type": "code",
   "execution_count": 151,
   "metadata": {},
   "outputs": [
    {
     "data": {
      "text/plain": [
       "n\n",
       "C_EH_1                         -0.000214\n",
       "C_EH_2                         -0.000121\n",
       "C_EH_3                         -0.000875\n",
       "C_EH_base                       0.001219\n",
       "C_EH_base_K                     0.019945\n",
       "                                  ...   \n",
       "U_ID_C_ER_2_base_electricity    0.165325\n",
       "U_ID_C_ER_2_base_inp3           0.165325\n",
       "U_ID_C_ER_2_base_inp4           0.165325\n",
       "U_ID_C_ER_2_base_inp5           0.160729\n",
       "U_ID_C_ER_2_base_oil            0.165325\n",
       "Name: qD, Length: 140, dtype: float64"
      ]
     },
     "execution_count": 151,
     "metadata": {},
     "output_type": "execute_result"
    }
   ],
   "source": [
    "m.model_instances[name].out_db[\"qD\"].vals - m.get(\"qD\")"
   ]
  },
  {
   "cell_type": "markdown",
   "metadata": {},
   "source": [
    "while demand itself ended in the following quantities:"
   ]
  },
  {
   "cell_type": "code",
   "execution_count": 152,
   "metadata": {},
   "outputs": [
    {
     "data": {
      "text/plain": [
       "n\n",
       "C_EH_1                          14.999786\n",
       "C_EH_2                           2.999879\n",
       "C_EH_3                           4.999125\n",
       "C_EH_base                       77.001219\n",
       "C_EH_base_K                     12.853278\n",
       "                                  ...    \n",
       "U_ID_C_ER_2_base_electricity     0.665325\n",
       "U_ID_C_ER_2_base_inp3            0.665325\n",
       "U_ID_C_ER_2_base_inp4            0.665325\n",
       "U_ID_C_ER_2_base_inp5            0.660729\n",
       "U_ID_C_ER_2_base_oil             0.665325\n",
       "Name: qD, Length: 140, dtype: float64"
      ]
     },
     "execution_count": 152,
     "metadata": {},
     "output_type": "execute_result"
    }
   ],
   "source": [
    "m.model_instances[name].out_db[\"qD\"].vals"
   ]
  },
  {
   "cell_type": "markdown",
   "metadata": {},
   "source": [
    "And let's confirm that our sigmas actually ended in the desired spots:"
   ]
  },
  {
   "cell_type": "code",
   "execution_count": 153,
   "metadata": {},
   "outputs": [
    {
     "data": {
      "text/plain": [
       "n\n",
       "C_CO2_1             0.50\n",
       "C_EH_1              1.20\n",
       "C_EH_2              1.20\n",
       "C_EH_3              1.20\n",
       "C_EH_base           0.01\n",
       "C_EL_1              1.20\n",
       "C_EL_2              1.20\n",
       "C_EL_3              1.20\n",
       "C_EL_4              1.20\n",
       "C_EL_5              1.20\n",
       "C_EL_base           0.01\n",
       "C_ER_1              1.20\n",
       "C_ER_2              1.20\n",
       "C_ER_base           0.01\n",
       "EH                  0.01\n",
       "EL                  0.01\n",
       "EOP_tau1            0.50\n",
       "ER                  0.01\n",
       "ID_1                0.01\n",
       "ID_2                0.01\n",
       "ID_3                0.01\n",
       "ID_4                0.01\n",
       "ID_5                0.01\n",
       "U_ID_C_EH_1_base    0.01\n",
       "U_ID_C_EH_2_base    0.01\n",
       "U_ID_C_EH_3_base    0.01\n",
       "U_ID_C_EL_1_base    0.01\n",
       "U_ID_C_EL_2_base    0.01\n",
       "U_ID_C_EL_3_base    0.01\n",
       "U_ID_C_EL_4_base    0.01\n",
       "U_ID_C_EL_5_base    0.01\n",
       "U_ID_C_ER_1_base    0.01\n",
       "U_ID_C_ER_2_base    0.01\n",
       "Name: sigma, dtype: float64"
      ]
     },
     "execution_count": 153,
     "metadata": {},
     "output_type": "execute_result"
    }
   ],
   "source": [
    "m.model_instances[name].out_db[\"sigma\"].vals"
   ]
  },
  {
   "cell_type": "markdown",
   "metadata": {},
   "source": [
    "## A shock to the oil price\n",
    "We present graphically what happens when the oil price gradually increases (static model solution for each price).\n",
    "For this, we again use the sneaky solve, but we make sure to extract variables of interest for each iteration, in contrast to above where we were not interested in the solutions per se, but simply that the values of $\\sigma$ ended in the desired spots."
   ]
  },
  {
   "cell_type": "code",
   "execution_count": 121,
   "metadata": {},
   "outputs": [],
   "source": [
    "#mideleritid start fra starten\n",
    "#m.model.settings.databases[\"Abatement_0\"][\"sigma\"].vals.loc[:] = 0.1\n",
    "#m.model.settings.databases[\"Abatement_0\"][\"eta\"].vals.loc[:] = -0.1"
   ]
  },
  {
   "cell_type": "code",
   "execution_count": 122,
   "metadata": {},
   "outputs": [],
   "source": [
    "# m.write_and_run(name=\"calibrated\", add_checkpoint=\"calibrated\")"
   ]
  },
  {
   "cell_type": "code",
   "execution_count": 123,
   "metadata": {},
   "outputs": [
    {
     "data": {
      "text/plain": [
       "n\n",
       "C_CO2_1             0.50\n",
       "C_EH_1              1.20\n",
       "C_EH_2              1.20\n",
       "C_EH_3              1.20\n",
       "C_EH_base           0.01\n",
       "C_EL_1              1.20\n",
       "C_EL_2              1.20\n",
       "C_EL_3              1.20\n",
       "C_EL_4              1.20\n",
       "C_EL_5              1.20\n",
       "C_EL_base           0.01\n",
       "C_ER_1              1.20\n",
       "C_ER_2              1.20\n",
       "C_ER_base           0.01\n",
       "EH                  0.01\n",
       "EL                  0.01\n",
       "EOP_tau1            0.50\n",
       "ER                  0.01\n",
       "ID_1                0.01\n",
       "ID_2                0.01\n",
       "ID_3                0.01\n",
       "ID_4                0.01\n",
       "ID_5                0.01\n",
       "U_ID_C_EH_1_base    0.01\n",
       "U_ID_C_EH_2_base    0.01\n",
       "U_ID_C_EH_3_base    0.01\n",
       "U_ID_C_EL_1_base    0.01\n",
       "U_ID_C_EL_2_base    0.01\n",
       "U_ID_C_EL_3_base    0.01\n",
       "U_ID_C_EL_4_base    0.01\n",
       "U_ID_C_EL_5_base    0.01\n",
       "U_ID_C_ER_1_base    0.01\n",
       "U_ID_C_ER_2_base    0.01\n",
       "Name: sigma, dtype: float64"
      ]
     },
     "execution_count": 123,
     "metadata": {},
     "output_type": "execute_result"
    }
   ],
   "source": [
    "m.model_instances[\"calibrated\"].out_db.get(\"sigma\")"
   ]
  },
  {
   "cell_type": "code",
   "execution_count": 124,
   "metadata": {},
   "outputs": [],
   "source": [
    "out_db = m.model_instances[\"calibrated\"].out_db"
   ]
  },
  {
   "cell_type": "code",
   "execution_count": 125,
   "metadata": {},
   "outputs": [],
   "source": [
    "m.write_and_run(name=\"oilshock\")\n",
    "#db_out = m.model_instances[\"baseline\"].out_db"
   ]
  },
  {
   "cell_type": "code",
   "execution_count": 126,
   "metadata": {},
   "outputs": [],
   "source": [
    "#m.write_and_run(name='taxshock', add_checkpoint='taxshock', overwrite=True)\n",
    "mi = m.model_instances['oilshock']"
   ]
  },
  {
   "cell_type": "code",
   "execution_count": 127,
   "metadata": {},
   "outputs": [],
   "source": [
    "#mi.out_db.series.__dict__"
   ]
  },
  {
   "cell_type": "markdown",
   "metadata": {},
   "source": [
    "*2: Define structure of shock* "
   ]
  },
  {
   "cell_type": "code",
   "execution_count": 128,
   "metadata": {},
   "outputs": [],
   "source": [
    "db_end_of_loop = DataBase.GPM_database()"
   ]
  },
  {
   "cell_type": "code",
   "execution_count": 129,
   "metadata": {},
   "outputs": [],
   "source": [
    "cond = out_db.get(\"PwT\").index.str.contains(\"oil\")\n",
    "db_end_of_loop[\"PwT\"] = out_db.get(\"PwT\")[cond] + 12\n",
    "#end_prices[cond] = out_db.get(\"PwT\")[cond] + 5\n",
    "#end_prices = end_prices[cond]"
   ]
  },
  {
   "cell_type": "code",
   "execution_count": 130,
   "metadata": {},
   "outputs": [
    {
     "data": {
      "text/plain": [
       "n\n",
       "C_EH_base_oil           13.0\n",
       "C_EL_base_oil           13.0\n",
       "C_ER_base_oil           13.0\n",
       "ID_1_oil                13.0\n",
       "ID_2_oil                13.0\n",
       "ID_5_oil                13.0\n",
       "U_ID_C_EH_1_base_oil    13.0\n",
       "U_ID_C_EH_2_base_oil    13.0\n",
       "U_ID_C_EH_3_base_oil    13.0\n",
       "U_ID_C_EL_1_base_oil    13.0\n",
       "U_ID_C_EL_2_base_oil    13.0\n",
       "U_ID_C_EL_3_base_oil    13.0\n",
       "U_ID_C_EL_4_base_oil    13.0\n",
       "U_ID_C_EL_5_base_oil    13.0\n",
       "U_ID_C_ER_1_base_oil    13.0\n",
       "U_ID_C_ER_2_base_oil    13.0\n",
       "Name: PwT, dtype: float64"
      ]
     },
     "execution_count": 130,
     "metadata": {},
     "output_type": "execute_result"
    }
   ],
   "source": [
    "db_end_of_loop.series[\"PwT\"].vals"
   ]
  },
  {
   "cell_type": "code",
   "execution_count": 131,
   "metadata": {},
   "outputs": [],
   "source": [
    "#NY ME DDIREKTE\n",
    "#m.model_instances[\"oilshock\"].solve_sneakily(db_star=db_end_of_loop, from_cp=True, cp_init=m.checkpoints[\"calibrated\"])"
   ]
  },
  {
   "cell_type": "code",
   "execution_count": 132,
   "metadata": {},
   "outputs": [],
   "source": [
    "(shock_db, shock_kwargs) = ShockFunction.sneaky_db(out_db, db_end_of_loop, n_steps = 25, loop_name='oil_loop')"
   ]
  },
  {
   "cell_type": "markdown",
   "metadata": {},
   "source": [
    "*3: Define the solution we wish to store for each iteration (conditions argument is optional, but here we extract only the production sector goods):*"
   ]
  },
  {
   "cell_type": "code",
   "execution_count": 133,
   "metadata": {},
   "outputs": [
    {
     "data": {
      "text/plain": [
       "Index(['C_EH_base_oil', 'C_EL_base_oil', 'C_ER_base_oil', 'ID_1_oil',\n",
       "       'ID_2_oil', 'ID_5_oil', 'U_ID_C_EH_1_base_oil', 'U_ID_C_EH_2_base_oil',\n",
       "       'U_ID_C_EH_3_base_oil', 'U_ID_C_EL_1_base_oil', 'U_ID_C_EL_2_base_oil',\n",
       "       'U_ID_C_EL_3_base_oil', 'U_ID_C_EL_4_base_oil', 'U_ID_C_EL_5_base_oil',\n",
       "       'U_ID_C_ER_1_base_oil', 'U_ID_C_ER_2_base_oil'],\n",
       "      dtype='object', name='n')"
      ]
     },
     "execution_count": 133,
     "metadata": {},
     "output_type": "execute_result"
    }
   ],
   "source": [
    "shock_db.series[\"PwT_oil_loop_subset\"].vals"
   ]
  },
  {
   "cell_type": "code",
   "execution_count": 134,
   "metadata": {},
   "outputs": [],
   "source": [
    "store_sol = {'qD': {'domains': shock_kwargs['loop_name']}}"
   ]
  },
  {
   "cell_type": "markdown",
   "metadata": {},
   "source": [
    "*4: Create Shock instance*"
   ]
  },
  {
   "cell_type": "code",
   "execution_count": 135,
   "metadata": {},
   "outputs": [],
   "source": [
    "shock = mi.std_UEVAS_from_db(shock_db, loop_name=shock_kwargs['loop_name'], shock_name=shock_kwargs['shock_name'], store_sol=store_sol)\n",
    "#shock = mi.std_UEVAS_from_db(shock_db, loop_name=shock_kwargs['loop_name'], shock_name=shock_kwargs['shock_name'])\n",
    "#solve_sneakily skal have selve checkpointet\n",
    "#Gør noget så sneaky solve laver et sidste checkpoint"
   ]
  },
  {
   "cell_type": "markdown",
   "metadata": {},
   "source": [
    "*5: Execute shock from the 'calibrated' checkpoint i.e. the model state after the sigmas have been chosen:*"
   ]
  },
  {
   "cell_type": "code",
   "execution_count": 136,
   "metadata": {},
   "outputs": [],
   "source": [
    "mi.execute_shock_from_cp(shock=shock, cp=m.checkpoints['calibrated'])"
   ]
  },
  {
   "cell_type": "code",
   "execution_count": 137,
   "metadata": {},
   "outputs": [],
   "source": [
    "sol_qD = mi.out_db.series[\"sol_qD\"].vals"
   ]
  },
  {
   "cell_type": "code",
   "execution_count": 138,
   "metadata": {},
   "outputs": [],
   "source": [
    "#tech_names = [\"ID_thighest\", \"ID_thigher\", \"ID_tmedium\", \"ID_tlower\", \"ID_tlowest\"]\n",
    "#sol_qD.loc(axis=0)[\"oil_loop_1\", tech_names]"
   ]
  },
  {
   "cell_type": "code",
   "execution_count": 139,
   "metadata": {},
   "outputs": [],
   "source": [
    "sol_qD.reset_index().to_excel(os.getcwd() + \"\\\\oil_price_shock_\" + inputfile.split(\"_\")[-1], index=False)"
   ]
  },
  {
   "cell_type": "code",
   "execution_count": 140,
   "metadata": {},
   "outputs": [],
   "source": [
    "#m.model_instances[\"oilshock\"].solve_sneakily(db_star=db_end_of_loop, from_cp=True, cp_init=m.checkpoints[\"oilshock\"])"
   ]
  },
  {
   "cell_type": "markdown",
   "metadata": {},
   "source": [
    "The solution is stored as a parameter noted as \"sol_\"+ the name of the variable. In our case, the specific quantities are stored:"
   ]
  },
  {
   "cell_type": "markdown",
   "metadata": {},
   "source": [
    "### **3.1 Diagnostics (dated)**\n",
    "When the model cannot be solved, we run some diagnostics:"
   ]
  },
  {
   "cell_type": "code",
   "execution_count": null,
   "metadata": {},
   "outputs": [],
   "source": [
    "# for symbol in [\"PbT\", \"PwT\", \"qD\"]:\n",
    "#     start_vals = m.model_instances[\"baseline\"].out_db.series[\"load_\" + symbol].vals\n",
    "#     end_vals = m.model_instances[\"baseline\"].out_db.series[symbol].vals\n",
    "#     rel_changes = (end_vals - start_vals)/start_vals\n",
    "#     large_changes = rel_changes[~(rel_changes.between(-0.0001, 0.0001))]\n",
    "#     if len(large_changes) > 0:\n",
    "#         print(\"Large deviations for symbol \\n\" + symbol + \":\")\n",
    "#         print(large_changes, \"\\n\")\n",
    "#     else:\n",
    "#         print(\"No large deviations for symbol: \" + symbol + \".\\n\")"
   ]
  },
  {
   "cell_type": "code",
   "execution_count": null,
   "metadata": {},
   "outputs": [],
   "source": [
    "# from decimal import Decimal"
   ]
  },
  {
   "cell_type": "code",
   "execution_count": null,
   "metadata": {},
   "outputs": [],
   "source": [
    "# #Demands\n",
    "# print(Decimal(qD[\"U_EOP_tau1_1\"] - mu[(\"U_EOP_tau1_1\", \"C_CO2_1\")] * qS[\"C_CO2_1\"]))\n",
    "# print(Decimal(qD[\"EOP_tau1\"] - mu.loc[(\"U_EOP_tau1_1\", \"EOP_tau1\")] * qD[\"U_EOP_tau1_1\"]))\n",
    "# print(Decimal(qD[\"EOP_tau1_electricity\"] - mu[(\"EOP_tau1_electricity\", \"EOP_tau1\")] * qD[\"EOP_tau1\"]))\n",
    "# print(Decimal(qD[\"EOP_tau1_K\"] - mu[(\"EOP_tau1_K\", \"EOP_tau1\")] * qD[\"EOP_tau1\"]))\n",
    "# #zero profits\n",
    "# print(Decimal(qS[\"C_CO2_1\"]*PbT[\"C_CO2_1\"] - qD[\"U_EOP_tau1_1\"]*PwT[\"U_EOP_tau1_1\"]))\n",
    "# print(Decimal(qD[\"U_EOP_tau1_1\"]*PwT[\"U_EOP_tau1_1\"] - qD[\"EOP_tau1\"]*PwT[\"EOP_tau1\"]))\n",
    "# print(Decimal(qD[\"EOP_tau1\"]*PwT[\"EOP_tau1\"] - qD[\"EOP_tau1_electricity\"]*PwT[\"EOP_tau1_electricity\"] - qD[\"EOP_tau1_K\"]*PwT[\"EOP_tau1_K\"]))"
   ]
  },
  {
   "cell_type": "code",
   "execution_count": null,
   "metadata": {},
   "outputs": [],
   "source": []
  },
  {
   "cell_type": "code",
   "execution_count": null,
   "metadata": {},
   "outputs": [],
   "source": []
  },
  {
   "cell_type": "code",
   "execution_count": null,
   "metadata": {},
   "outputs": [],
   "source": []
  },
  {
   "cell_type": "code",
   "execution_count": null,
   "metadata": {},
   "outputs": [],
   "source": []
  },
  {
   "cell_type": "code",
   "execution_count": null,
   "metadata": {},
   "outputs": [],
   "source": []
  },
  {
   "cell_type": "code",
   "execution_count": null,
   "metadata": {},
   "outputs": [],
   "source": []
  },
  {
   "cell_type": "code",
   "execution_count": null,
   "metadata": {},
   "outputs": [],
   "source": []
  },
  {
   "cell_type": "code",
   "execution_count": null,
   "metadata": {},
   "outputs": [],
   "source": []
  },
  {
   "cell_type": "code",
   "execution_count": null,
   "metadata": {},
   "outputs": [],
   "source": []
  },
  {
   "cell_type": "code",
   "execution_count": null,
   "metadata": {},
   "outputs": [],
   "source": []
  },
  {
   "cell_type": "code",
   "execution_count": null,
   "metadata": {},
   "outputs": [],
   "source": []
  }
 ],
 "metadata": {
  "kernelspec": {
   "display_name": "Python 3",
   "language": "python",
   "name": "python3"
  },
  "language_info": {
   "codemirror_mode": {
    "name": "ipython",
    "version": 3
   },
   "file_extension": ".py",
   "mimetype": "text/x-python",
   "name": "python",
   "nbconvert_exporter": "python",
   "pygments_lexer": "ipython3",
   "version": "3.7.4"
  }
 },
 "nbformat": 4,
 "nbformat_minor": 4
}
