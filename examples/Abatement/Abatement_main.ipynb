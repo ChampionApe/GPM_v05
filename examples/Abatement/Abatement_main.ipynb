{
 "cells": [
  {
   "cell_type": "markdown",
   "metadata": {},
   "source": [
    "## Contents of this notebook"
   ]
  },
  {
   "cell_type": "markdown",
   "metadata": {},
   "source": [
    "- 0: Load packages, scripts etc.\n",
    "- 1: Construct trees. Uses the technology data stored in an .xlsx-file to construct dictionaries and other objects that fully characterize the production tree. These are then combined to an actual tree object using the nestingtree.nestingtree class.\n",
    "- 2: Adding parameters to the database. Only some of the share-parameters etc. can be deduced directly from technology data. The rest of these as well as starting values for endogenous and exogenous variables must be collected in a database.\n",
    "- 3: The model. Uses the tree object as well as the prepared database to construct a model using the *gmspython* class and its childclass *abate*.\n",
    "The script ends by exporting the model as a pickle to be loaded in the calibration script."
   ]
  },
  {
   "cell_type": "markdown",
   "metadata": {},
   "source": [
    "### Loads"
   ]
  },
  {
   "cell_type": "code",
   "execution_count": 1,
   "metadata": {},
   "outputs": [
    {
     "name": "stdout",
     "output_type": "stream",
     "text": [
      "The file_gams_py_gdb0.gdx is still active and was not deleted.\n",
      "The file_gams_py_gdb1.gdx is still active and was not deleted.\n"
     ]
    }
   ],
   "source": [
    "clean_up=True # removes gams-related files in work-folder if true\n",
    "%run StdPackages.ipynb\n",
    "os.chdir(py['main'])\n",
    "import abatement, techdata_to_tree, sys, ShockFunction\n",
    "os.chdir(curr)\n",
    "data_folder = os.getcwd()+'\\\\Data'\n",
    "gams_folder = data_folder + \"\\\\..\\\\gamsmodels\\\\Main\"\n",
    "#Functions\n",
    "def flatten_list(list_):\n",
    "    return [item for sublist in list_ for item in sublist]"
   ]
  },
  {
   "cell_type": "markdown",
   "metadata": {},
   "source": [
    "# **1: Construct trees**"
   ]
  },
  {
   "cell_type": "markdown",
   "metadata": {},
   "source": [
    "#### Load technology data.\n",
    "This runs the script in located in the file *techdata_to_tree.py*:"
   ]
  },
  {
   "cell_type": "code",
   "execution_count": 2,
   "metadata": {},
   "outputs": [],
   "source": [
    "inputfile = \"techdata_newID.xlsx\"\n",
    "output = techdata_to_tree.load_techcats(pd.read_excel(data_folder + \"/\" + inputfile, sheet_name=[\"inputdisp\", \"endofpipe\", \"inputprices\"]))"
   ]
  },
  {
   "cell_type": "markdown",
   "metadata": {},
   "source": [
    "#### The output of the code is a dictionary with three keys, referring to the two modules + a list of inputprices stored in the xlsx-file as well:"
   ]
  },
  {
   "cell_type": "code",
   "execution_count": 3,
   "metadata": {},
   "outputs": [
    {
     "data": {
      "text/plain": [
       "dict_keys(['ID', 'inputprices', 'EOP'])"
      ]
     },
     "execution_count": 3,
     "metadata": {},
     "output_type": "execute_result"
    }
   ],
   "source": [
    "output.keys()"
   ]
  },
  {
   "cell_type": "markdown",
   "metadata": {},
   "source": [
    "The two different modules correspond to the two types of technology catalogs that the model can handle.\\\n",
    "*Input-displacing* (ID) and *End of pipe* (EOP)."
   ]
  },
  {
   "cell_type": "code",
   "execution_count": 4,
   "metadata": {},
   "outputs": [],
   "source": [
    "modules = [\"ID\", \"EOP\"]"
   ]
  },
  {
   "cell_type": "markdown",
   "metadata": {},
   "source": [
    "ID contains a dictionary related to input-displacing technologies, EOP does so for end of pipe (we use this naming convention throughout).\\\n",
    "They contain the following keys:"
   ]
  },
  {
   "cell_type": "code",
   "execution_count": 5,
   "metadata": {},
   "outputs": [
    {
     "name": "stdout",
     "output_type": "stream",
     "text": [
      "Keys of ID:  dict_keys(['techs_inputs', 'techs', 'components', 'upper_categories', 'mu', 'Q2P', 'unit_costs', 'current_coverages', 'coverage_potentials', 'IO_tech', 'IO_tech_inputs', 'baseline_U_inputs']) \n",
      "\n",
      "Keys of EOP:  dict_keys(['techs_inputs', 'techs', 'components', 'upper_categories', 'mu', 'Q2P', 'unit_costs', 'current_coverages', 'coverage_potentials']) \n",
      "\n"
     ]
    }
   ],
   "source": [
    "for module in modules:\n",
    "    print(\"Keys of \" + module + \": \", output[module].keys(), \"\\n\")"
   ]
  },
  {
   "cell_type": "markdown",
   "metadata": {},
   "source": [
    "As an example, \"techs\" shows, for each technology, which technology good it produces, e.g. for input-displacing:"
   ]
  },
  {
   "cell_type": "code",
   "execution_count": 6,
   "metadata": {},
   "outputs": [
    {
     "data": {
      "text/plain": [
       "{'ID_1': ['U_ID_1_1', 'U_ID_1_2', 'U_ID_1_3'],\n",
       " 'ID_2': ['U_ID_2_1', 'U_ID_2_2', 'U_ID_2_3'],\n",
       " 'ID_3': ['U_ID_3_1', 'U_ID_3_2'],\n",
       " 'ID_4': ['U_ID_4_1', 'U_ID_4_2', 'U_ID_4_3'],\n",
       " 'ID_5': ['U_ID_5_1', 'U_ID_5_2']}"
      ]
     },
     "execution_count": 6,
     "metadata": {},
     "output_type": "execute_result"
    }
   ],
   "source": [
    "output[\"ID\"][\"techs\"]"
   ]
  },
  {
   "cell_type": "markdown",
   "metadata": {},
   "source": [
    "And \"upper_categories\" shows the mapping between energy services (E) and their respective components (C) for ID.\\\n",
    "All of the trees in the `output` object are dictionaries where the keys are nodes in the tree and the values are lists of connected branches."
   ]
  },
  {
   "cell_type": "code",
   "execution_count": 7,
   "metadata": {},
   "outputs": [
    {
     "data": {
      "text/plain": [
       "{'EL': ['C_EL_1', 'C_EL_2', 'C_EL_3', 'C_EL_4', 'C_EL_5', 'C_EL_base'],\n",
       " 'EH': ['C_EH_1', 'C_EH_2', 'C_EH_3', 'C_EH_base'],\n",
       " 'ER': ['C_ER_1', 'C_ER_2', 'C_ER_base']}"
      ]
     },
     "execution_count": 7,
     "metadata": {},
     "output_type": "execute_result"
    }
   ],
   "source": [
    "output[\"ID\"][\"upper_categories\"]"
   ]
  },
  {
   "cell_type": "markdown",
   "metadata": {},
   "source": [
    "... and the mapping between emission types M ($CO_2$, $SO_2$ etc.) and the components C.\\\n",
    "Note importantly that this mapping does not constitute an actual part of the tree, because components are the outputs of the EOP sector."
   ]
  },
  {
   "cell_type": "code",
   "execution_count": 8,
   "metadata": {},
   "outputs": [
    {
     "data": {
      "text/plain": [
       "{'CO2': [], 'SO2': ['C_SO2_1'], 'NOX': []}"
      ]
     },
     "execution_count": 8,
     "metadata": {},
     "output_type": "execute_result"
    }
   ],
   "source": [
    "output[\"EOP\"][\"upper_categories\"]"
   ]
  },
  {
   "cell_type": "markdown",
   "metadata": {},
   "source": [
    "### Initialize nesting tree, call it \"Abatement\"\n",
    "The construction of the production tree starts with an initialization of the *nesting_tree* class:"
   ]
  },
  {
   "cell_type": "code",
   "execution_count": 9,
   "metadata": {},
   "outputs": [],
   "source": [
    "nt = nesting_tree.nesting_tree(name='Abatement')"
   ]
  },
  {
   "cell_type": "markdown",
   "metadata": {},
   "source": [
    "The \"trees\" attribute starts off empty, reflecting that no (sub)trees have been added yet. "
   ]
  },
  {
   "cell_type": "code",
   "execution_count": 10,
   "metadata": {},
   "outputs": [
    {
     "data": {
      "text/plain": [
       "{}"
      ]
     },
     "execution_count": 10,
     "metadata": {},
     "output_type": "execute_result"
    }
   ],
   "source": [
    "nt.trees"
   ]
  },
  {
   "cell_type": "markdown",
   "metadata": {},
   "source": [
    "#### The following cells add each of the subtrees to the tree-object, \"nt\""
   ]
  },
  {
   "cell_type": "markdown",
   "metadata": {},
   "source": [
    "##### First, input-displacing subtrees"
   ]
  },
  {
   "cell_type": "markdown",
   "metadata": {},
   "source": [
    "Upper part, connecting energy services to components (this is an input-tree, so we do not supply additional keyword arguments).\\\n",
    "Again, we use the naming convention that a prefix reflects whether the tree is related to input-displacement (ID) or end of pipe (EOP).\n",
    "The prefix is followed by an underscore and then letters reflecting which elements in the tree are connected."
   ]
  },
  {
   "cell_type": "markdown",
   "metadata": {},
   "source": [
    "The first tree connects energy services (E) to components (C), related to input-displacing technologies (ID)"
   ]
  },
  {
   "cell_type": "code",
   "execution_count": 11,
   "metadata": {},
   "outputs": [],
   "source": [
    "nt.add_tree(output[\"ID\"][\"upper_categories\"], tree_name = 'ID_EC', **{\"type_f\":\"CES_norm\"})"
   ]
  },
  {
   "cell_type": "markdown",
   "metadata": {},
   "source": [
    "Before proceeding to the next tree, lets print some information from this tree.\\\n",
    "First, we see that the tree has been added to the list of trees in the \"aggregate\" tree, nt:"
   ]
  },
  {
   "cell_type": "code",
   "execution_count": 12,
   "metadata": {},
   "outputs": [
    {
     "data": {
      "text/plain": [
       "{'ID_EC': <nesting_trees.nt at 0x168879dc808>}"
      ]
     },
     "execution_count": 12,
     "metadata": {},
     "output_type": "execute_result"
    }
   ],
   "source": [
    "nt.trees"
   ]
  },
  {
   "cell_type": "markdown",
   "metadata": {},
   "source": [
    "Second, information about the tree is automatically added when the tree is added, e.g. the \"type_f\" attribute states that the functional form in this subtree is constant elasticity of substitution (CES)"
   ]
  },
  {
   "cell_type": "code",
   "execution_count": 13,
   "metadata": {},
   "outputs": [
    {
     "data": {
      "text/plain": [
       "{'name': 'ID_EC',\n",
       " 'tree': {'EL': ['C_EL_1',\n",
       "   'C_EL_2',\n",
       "   'C_EL_3',\n",
       "   'C_EL_4',\n",
       "   'C_EL_5',\n",
       "   'C_EL_base'],\n",
       "  'EH': ['C_EH_1', 'C_EH_2', 'C_EH_3', 'C_EH_base'],\n",
       "  'ER': ['C_ER_1', 'C_ER_2', 'C_ER_base']},\n",
       " 'type_io': 'input',\n",
       " 'version': 'std',\n",
       " 'n': 'n',\n",
       " 'nn': 'nn',\n",
       " 'nnn': 'nnn',\n",
       " 'map_': 'map_ID_EC',\n",
       " 'kno': 'kno_ID_EC',\n",
       " 'bra': 'bra_ID_EC',\n",
       " 'inp': 'inp_ID_EC',\n",
       " 'out': 'out_ID_EC',\n",
       " 'temp_namespace': None,\n",
       " 'type_f': 'CES_norm',\n",
       " 'database': <DataBase.GPM_database at 0x168879dc608>}"
      ]
     },
     "execution_count": 13,
     "metadata": {},
     "output_type": "execute_result"
    }
   ],
   "source": [
    "nt.trees[\"ID_EC\"].__dict__"
   ]
  },
  {
   "cell_type": "markdown",
   "metadata": {},
   "source": [
    "However, even though the namespace includes e.g. \"map_\":\"map_ID_EC\", the database of the tree still does not contain this mapping. This requires running the run() method.\\\n",
    "Instead of doing that for each tree individually, we instead add all trees and call the run_all() methods which also calls the run() on each tree."
   ]
  },
  {
   "cell_type": "markdown",
   "metadata": {},
   "source": [
    "Next, we add the middle part, connecting components C to their technology goods U"
   ]
  },
  {
   "cell_type": "code",
   "execution_count": 14,
   "metadata": {},
   "outputs": [],
   "source": [
    "nt.add_tree(output[\"ID\"][\"components\"], tree_name = \"ID_CU\", **{\"type_f\":\"MNL\"})"
   ]
  },
  {
   "cell_type": "markdown",
   "metadata": {},
   "source": [
    "The two remaining parts are the bottom ones. \\\n",
    "First, the one that connects technologies to their outputs (technology goods). That these are outputs is specified explicitly by using the `type_io` keyword.\\\n",
    "Second, the one that connects technologies to their inputs (non-capital inputs X, and capital K)"
   ]
  },
  {
   "cell_type": "code",
   "execution_count": 15,
   "metadata": {},
   "outputs": [],
   "source": [
    "nt.add_tree(output[\"ID\"][\"techs\"], tree_name=\"ID_TU\", **{'type_io': 'output', 'type_f': 'CET_norm'})\n",
    "nt.add_tree(output[\"ID\"][\"techs_inputs\"], tree_name=\"ID_TX\")"
   ]
  },
  {
   "cell_type": "markdown",
   "metadata": {},
   "source": [
    "Baseline components and technology goods, and their respective sets of inputs are also part of the aggregate tree. We distinguish between those with their own inputs (these baseline technologies are the ones that come from knowing which energy mix a (set of) technologies replaces. The remaining baseline technology goods (and all baseline components by construction) are outputs of the \"IO technology\". This IO technology in turn draws on all inputs from the economy. This is the one we calibrate to make sure we replicate IO data. "
   ]
  },
  {
   "cell_type": "code",
   "execution_count": 16,
   "metadata": {},
   "outputs": [],
   "source": [
    "nt.add_tree(output[\"ID\"][\"IO_tech\"], tree_name=\"ID_IOCU\", **{\"type_io\":\"output\", \"type_f\":\"CET_norm\"})\n",
    "nt.add_tree(output[\"ID\"][\"IO_tech_inputs\"], tree_name=\"ID_IOX\")\n",
    "nt.add_tree(output[\"ID\"][\"baseline_U_inputs\"], tree_name=\"ID_UbaseX\")"
   ]
  },
  {
   "cell_type": "markdown",
   "metadata": {},
   "source": [
    "#### Next, we add the end of pipe subtrees.\n",
    "First, the one connecting components (which are the final product in the end-of-pipe tree) to the technology goods from which they are created:"
   ]
  },
  {
   "cell_type": "code",
   "execution_count": 17,
   "metadata": {},
   "outputs": [],
   "source": [
    "nt.add_tree(output[\"EOP\"][\"components\"], tree_name = \"EOP_CU\")"
   ]
  },
  {
   "cell_type": "markdown",
   "metadata": {},
   "source": [
    "Second, the bottom part. This consists of technologies and their outputs and inputs respectively, similarly to with input-displacing technologies:"
   ]
  },
  {
   "cell_type": "code",
   "execution_count": 18,
   "metadata": {},
   "outputs": [],
   "source": [
    "nt.add_tree(output[\"EOP\"][\"techs\"], tree_name=\"EOP_TU\", **{'type_io': 'output', 'type_f': 'CET_norm'})\n",
    "nt.add_tree(output[\"EOP\"][\"techs_inputs\"], tree_name=\"EOP_TX\")"
   ]
  },
  {
   "cell_type": "markdown",
   "metadata": {},
   "source": [
    "##### Now, all trees have been added:"
   ]
  },
  {
   "cell_type": "code",
   "execution_count": 19,
   "metadata": {},
   "outputs": [
    {
     "data": {
      "text/plain": [
       "{'ID_EC': <nesting_trees.nt at 0x168879dc808>,\n",
       " 'ID_CU': <nesting_trees.nt at 0x168879ea388>,\n",
       " 'ID_TU': <nesting_trees.nt at 0x168879f74c8>,\n",
       " 'ID_TX': <nesting_trees.nt at 0x168879f7488>,\n",
       " 'ID_IOCU': <nesting_trees.nt at 0x16887a07788>,\n",
       " 'ID_IOX': <nesting_trees.nt at 0x168879f3908>,\n",
       " 'ID_UbaseX': <nesting_trees.nt at 0x168879f3a48>,\n",
       " 'EOP_CU': <nesting_trees.nt at 0x168879dcb08>,\n",
       " 'EOP_TU': <nesting_trees.nt at 0x168879de108>,\n",
       " 'EOP_TX': <nesting_trees.nt at 0x168879de448>}"
      ]
     },
     "execution_count": 19,
     "metadata": {},
     "output_type": "execute_result"
    }
   ],
   "source": [
    "nt.trees"
   ]
  },
  {
   "cell_type": "markdown",
   "metadata": {},
   "source": [
    "\n",
    "The next step is to use the method `run_all`. This runs through a number of steps, where it sets up sets/subsets/mappings identifying which elements e.g. are inputs, intermediate goods, and outputs in the aggregate tree, i.e. the combination of the subtrees we just added. *Tutorial_nesting_tree* includes a brief review of these.\\\n",
    "There are still some of the objects in `output` that we have not used. We will return to these later as they become relevant."
   ]
  },
  {
   "cell_type": "code",
   "execution_count": 20,
   "metadata": {},
   "outputs": [],
   "source": [
    "nt.run_all()"
   ]
  },
  {
   "cell_type": "markdown",
   "metadata": {},
   "source": [
    "This constructs the aggregate tree. \\\n",
    "For a few highlights, let's check:\n",
    "1. The outputs of the aggregate tree (aggregate simply refers to the combination of all the individual (sub)trees\\\n",
    "This includes energy services (from ID) and components (from EOP)"
   ]
  },
  {
   "cell_type": "code",
   "execution_count": 21,
   "metadata": {},
   "outputs": [
    {
     "data": {
      "text/plain": [
       "['ER', 'EH', 'EL', 'C_SO2_1']"
      ]
     },
     "execution_count": 21,
     "metadata": {},
     "output_type": "execute_result"
    }
   ],
   "source": [
    "list(nt.database.series[\"out\"].vals)"
   ]
  },
  {
   "cell_type": "markdown",
   "metadata": {},
   "source": [
    "2. The outputs of a particular tree, say EOP_TU. Note that in this particular case, the reported list is empty. This is because an 'output' refers to whether it is an output of the aggregate tree and not just this particular one."
   ]
  },
  {
   "cell_type": "code",
   "execution_count": 22,
   "metadata": {},
   "outputs": [
    {
     "data": {
      "text/plain": [
       "[]"
      ]
     },
     "execution_count": 22,
     "metadata": {},
     "output_type": "execute_result"
    }
   ],
   "source": [
    "list(nt.trees[\"EOP_TU\"].database.series[\"out_EOP_TU\"].vals)"
   ]
  },
  {
   "cell_type": "markdown",
   "metadata": {},
   "source": [
    "3. Likewise, we can check the inputs of EOP_TU\\\n",
    "This reports that the Us are inputs, which they really are not. This is not a problem, because the tree is constructed in the correct way. But not that U's are not inputs. Not of the aggregate tree (in which Us are intermediates), but not in the TU-tree either, since here, they are outputs (they are produced by technologies)."
   ]
  },
  {
   "cell_type": "code",
   "execution_count": 23,
   "metadata": {},
   "outputs": [
    {
     "data": {
      "text/plain": [
       "Index(['U_EOP_t1_1'], dtype='object', name='n')"
      ]
     },
     "execution_count": 23,
     "metadata": {},
     "output_type": "execute_result"
    }
   ],
   "source": [
    "nt.trees[\"EOP_TU\"].database.series[\"inp_EOP_TU\"].vals"
   ]
  },
  {
   "cell_type": "markdown",
   "metadata": {},
   "source": [
    "Lastly, lets print the objects that the `nt` class instance contains:"
   ]
  },
  {
   "cell_type": "code",
   "execution_count": 24,
   "metadata": {},
   "outputs": [
    {
     "data": {
      "text/plain": [
       "{'name': 'Abatement',\n",
       " 'version': 'std',\n",
       " 'trees': {'ID_EC': <nesting_trees.nt at 0x168879dc808>,\n",
       "  'ID_CU': <nesting_trees.nt at 0x168879ea388>,\n",
       "  'ID_TU': <nesting_trees.nt at 0x168879f74c8>,\n",
       "  'ID_TX': <nesting_trees.nt at 0x168879f7488>,\n",
       "  'ID_IOCU': <nesting_trees.nt at 0x16887a07788>,\n",
       "  'ID_IOX': <nesting_trees.nt at 0x168879f3908>,\n",
       "  'ID_UbaseX': <nesting_trees.nt at 0x168879f3a48>,\n",
       "  'EOP_CU': <nesting_trees.nt at 0x168879dcb08>,\n",
       "  'EOP_TU': <nesting_trees.nt at 0x168879de108>,\n",
       "  'EOP_TX': <nesting_trees.nt at 0x168879de448>},\n",
       " 'database': <DataBase.GPM_database at 0x168879ea5c8>,\n",
       " 'n': 'n',\n",
       " 'nn': 'nn',\n",
       " 'nnn': 'nnn',\n",
       " 'inp': 'inp',\n",
       " 'out': 'out',\n",
       " 'int': 'int',\n",
       " 'fg': 'fg',\n",
       " 'wT': 'wT',\n",
       " 'map_all': 'map_all',\n",
       " 'kno_out': 'kno_out',\n",
       " 'kno_inp': 'kno_inp',\n",
       " 'prune_trees': {'OnlyQ', 'bra', 'inp', 'kno', 'out'}}"
      ]
     },
     "execution_count": 24,
     "metadata": {},
     "output_type": "execute_result"
    }
   ],
   "source": [
    "nt.__dict__"
   ]
  },
  {
   "cell_type": "markdown",
   "metadata": {},
   "source": [
    "# **2: Adding parameters to the database**"
   ]
  },
  {
   "cell_type": "markdown",
   "metadata": {},
   "source": [
    "The next step is to construct a database that contains all the share-parameters that we can deduce from technology data, as well as appropriate starting values for endogenous variables. These starting values will be set to the value that they would have if the entire tree was Leontief.\n",
    "The end goal is to make sure the database contained by `nt` includes all these parameters and starting values. \n",
    "To do so, we construct an empty database, add the share-parameters and starting values to this, and then finally merge that database with the one already in `nt`.\n",
    "\n",
    "The GPM database of the nesting_tree instance (`nt`) does not contain the $\\mu$ parameters calculated from technology data yet.\\\n",
    "The $\\mu$-parameters are stored under the key of the same name in `output`.\\\n",
    "Let's check out the database of `nt` now, to see that it does not include any symbol called $\\mu$ yet:"
   ]
  },
  {
   "cell_type": "code",
   "execution_count": 25,
   "metadata": {},
   "outputs": [
    {
     "name": "stdout",
     "output_type": "stream",
     "text": [
      "The database nt.database is of type <class 'DataBase.GPM_database'>\n",
      "Does the database include a symbol called mu? \n",
      "NO!\n"
     ]
    }
   ],
   "source": [
    "print(\"The database nt.database is of type \" + str(type(nt.database)))\n",
    "print(\"Does the database include a symbol called mu? \") \n",
    "if \"mu\" in nt.database.series:\n",
    "    print(\"YES!\")\n",
    "else:\n",
    "    print(\"NO!\")"
   ]
  },
  {
   "cell_type": "markdown",
   "metadata": {},
   "source": [
    "First we create an empty database:"
   ]
  },
  {
   "cell_type": "code",
   "execution_count": 26,
   "metadata": {},
   "outputs": [],
   "source": [
    "db = DataBase.GPM_database()"
   ]
  },
  {
   "cell_type": "markdown",
   "metadata": {},
   "source": [
    "We store the share-parameters from technology data in an object called `mu`. This does not contain all share-parameters of the tree (e.g. it does not include the share parameters of the inputs under baseline technology goods, or the share parameters for technology goods under components)."
   ]
  },
  {
   "cell_type": "code",
   "execution_count": 27,
   "metadata": {},
   "outputs": [],
   "source": [
    "mu = output[\"ID\"][\"mu\"].append(output[\"EOP\"][\"mu\"])"
   ]
  },
  {
   "cell_type": "markdown",
   "metadata": {},
   "source": [
    "Check out the mu parameters (prints just the five first entries here).\\\n",
    "Note: The mu-object is a series with a multiindex, where the first level is called `n` and the second level `nn`. The first level contains branches and the second level contains nodes."
   ]
  },
  {
   "cell_type": "code",
   "execution_count": 28,
   "metadata": {},
   "outputs": [
    {
     "data": {
      "text/plain": [
       "n                 nn  \n",
       "ID_1_electricity  ID_1    0.475\n",
       "ID_1_oil          ID_1    0.475\n",
       "ID_1_K            ID_1    4.050\n",
       "C_EL_1            EL      0.050\n",
       "U_ID_1_1          ID_1    0.500\n",
       "Name: mu, dtype: float64"
      ]
     },
     "execution_count": 28,
     "metadata": {},
     "output_type": "execute_result"
    }
   ],
   "source": [
    "mu.head()"
   ]
  },
  {
   "cell_type": "markdown",
   "metadata": {},
   "source": [
    "#### Calculate starting values (corresponding to the solution if the entire tree was Leontief).\n",
    "For demands/quantities, we use the fact that Leontief demand is given by \n",
    "$$q_j = \\mu_j \\left(\\frac{p_i}{p_j}\\right)^\\sigma q_i = \\mu_j q_i$$ for CES demand where $i$ refers to a node and $j$ refers to the branch. The CET and the MNL form is identical under Leontief.\\\n",
    "For prices, we generally use that when we know the price of each branch under a node as well as the quantities of these branches, the zero profit condition can be rearranged to give us the price of the node:\n",
    "$$ q_i p_i = \\sum_j q_j p_j \\quad \\Leftrightarrow \\quad  p_i = \\frac{\\sum_j q_j p_j}{q_i}$$"
   ]
  },
  {
   "cell_type": "markdown",
   "metadata": {},
   "source": [
    "Output quantities are held in the `qS` object. Output quantities are held fixed in the partial equilibrum (the output prices are the variables that adjust), and we simply set them to `output_quantity` in this example."
   ]
  },
  {
   "cell_type": "code",
   "execution_count": 29,
   "metadata": {},
   "outputs": [],
   "source": [
    "output_quantity = 100\n",
    "qS = pd.Series([], name=\"qS\", dtype=\"float64\")"
   ]
  },
  {
   "cell_type": "markdown",
   "metadata": {},
   "source": [
    "`qS` is now an empty series to which we add the value of 100 for each output of the tree:"
   ]
  },
  {
   "cell_type": "code",
   "execution_count": 30,
   "metadata": {},
   "outputs": [],
   "source": [
    "for out in nt.database.series[\"out\"]:\n",
    "    qS[out] = output_quantity"
   ]
  },
  {
   "cell_type": "markdown",
   "metadata": {},
   "source": [
    "All other quantities are kept in the object `qD`, which we initialize:"
   ]
  },
  {
   "cell_type": "code",
   "execution_count": 31,
   "metadata": {},
   "outputs": [],
   "source": [
    "qD = pd.Series([], name=\"qD\", dtype=\"float64\")"
   ]
  },
  {
   "cell_type": "markdown",
   "metadata": {},
   "source": [
    "First, we calculate components' starting values for input-displacing (we did it for EOP with qS, because components are outputs there). \\\n",
    "We use the demand equation stated earlier (multiplication of share-parameter and relevant node/component). This calculates quantities for all components, including baseline components"
   ]
  },
  {
   "cell_type": "code",
   "execution_count": 32,
   "metadata": {},
   "outputs": [],
   "source": [
    "for E in output[\"ID\"][\"upper_categories\"]:\n",
    "    for C in output[\"ID\"][\"upper_categories\"][E]:\n",
    "        qD[C] = mu.loc[(C, E)] * qS[E]"
   ]
  },
  {
   "cell_type": "markdown",
   "metadata": {},
   "source": [
    "Next, we use that we have estimates of U to set these (current coverages split according to overlap), and then calculate the $\\mu$s residually"
   ]
  },
  {
   "cell_type": "code",
   "execution_count": 33,
   "metadata": {},
   "outputs": [],
   "source": [
    "for index, curr_coverage in output[\"ID\"][\"current_coverages\"].iteritems():\n",
    "    qD[index[0]] = curr_coverage * qS[index[1]]"
   ]
  },
  {
   "cell_type": "markdown",
   "metadata": {},
   "source": [
    "The $\\mu$s of technology goods (in their component nest) residually. This includes the share-parameters for the baseline technology goods $\\bar U$. Since we still have not set the starting values for the quantities of these baseline technology goods, we set these using the share-parameters that are calculated here as well."
   ]
  },
  {
   "cell_type": "code",
   "execution_count": 34,
   "metadata": {},
   "outputs": [],
   "source": [
    "for C in output[\"ID\"][\"components\"]:\n",
    "    #The ':-1' leaves out the baseline technology good, which we handle separately afterwards\n",
    "    nonbase_U = output[\"ID\"][\"components\"][C][:-1]\n",
    "    base_mu = 1\n",
    "    for U in nonbase_U:\n",
    "        mu[(U, C)] =  qD[U]/qD[C]\n",
    "        base_mu -= mu[(U, C)]\n",
    "    #Quantities of baseline U\n",
    "    mu[(output[\"ID\"][\"components\"][C][-1], C)] = base_mu\n",
    "    qD[output[\"ID\"][\"components\"][C][-1]] = base_mu * qD[C]\n",
    "    if base_mu <= 0:\n",
    "        print(C)\n",
    "        print(nonbase_U)\n",
    "        raise Exception(\"base_mu is not positive\")\n"
   ]
  },
  {
   "cell_type": "markdown",
   "metadata": {},
   "source": [
    "For end of pipe, we simply set the share-parameters of the technology goods under components as $1/N$ where $N$ is the number of branches/technology goods under a given component. Having set these, we can calculate the corresponding quantities using the CES Leontief demand equation."
   ]
  },
  {
   "cell_type": "code",
   "execution_count": 35,
   "metadata": {},
   "outputs": [],
   "source": [
    "for C in output[\"EOP\"][\"components\"]:\n",
    "    for U in output[\"EOP\"][\"components\"][C]:\n",
    "        mu.loc[(U, C)] = 1/len(output[\"EOP\"][\"components\"][C])\n",
    "        qD[U] = mu.loc[(U, C)] * qS[C]"
   ]
  },
  {
   "cell_type": "markdown",
   "metadata": {},
   "source": [
    "Then, we calculate the starting values of technologies $\\tau$ as the sum of their relevant $U$, since the CET function should be scale-preserving.\\\n",
    "The drawback here, for EOP only, is that the quantities of $U$ do not necessarily adhere to the relative sizes of their share-parameters (which are set based on the technology catalog). "
   ]
  },
  {
   "cell_type": "code",
   "execution_count": 36,
   "metadata": {},
   "outputs": [],
   "source": [
    "for module in modules:\n",
    "    for tech in output[module][\"techs\"]:\n",
    "        qD[tech] = qD[output[module][\"techs\"][tech]].sum()"
   ]
  },
  {
   "cell_type": "markdown",
   "metadata": {},
   "source": [
    "Lastly, we set the starting values of the inputs $X$ that go into technologies. These again use the demand equation. The share-parameters of these were given directly from technology data."
   ]
  },
  {
   "cell_type": "code",
   "execution_count": 37,
   "metadata": {},
   "outputs": [],
   "source": [
    "for module in modules:\n",
    "    techs = output[module][\"techs_inputs\"]\n",
    "    for tech in techs:\n",
    "        for inp in techs[tech]:\n",
    "            qD[inp] = mu.loc[(inp, tech)] * qD[tech]"
   ]
  },
  {
   "cell_type": "markdown",
   "metadata": {},
   "source": [
    "Set the quantity of the IO-technology as the sum of the quantities of the goods ($U_0$ and $C_0$) that it provides. Afterwards, calculate the relevant share parameters using the fraction of IO-tech to the goods. "
   ]
  },
  {
   "cell_type": "code",
   "execution_count": 38,
   "metadata": {},
   "outputs": [],
   "source": [
    "#Quantity of the IO technology\n",
    "qD[\"IO_tech\"] = 0\n",
    "for base in output[\"ID\"][\"IO_tech\"][\"IO_tech\"]:\n",
    "    qD[\"IO_tech\"] += qD[base]\n",
    "#share parameters for each the non-replacing baseline technologies:\n",
    "for base in output[\"ID\"][\"IO_tech\"][\"IO_tech\"]:\n",
    "    mu[(base, \"IO_tech\")] = qD[base] / qD[\"IO_tech\"]"
   ]
  },
  {
   "cell_type": "markdown",
   "metadata": {},
   "source": [
    "##### Prices:"
   ]
  },
  {
   "cell_type": "markdown",
   "metadata": {},
   "source": [
    "The next part contains the setting of starting values for prices.\n",
    "The prices of inputs (the very bottom of the tree) are fully exogenous, whereas all other prices are endogenous. The prices of outputs (those whose quantities are contained in `qS` are kept in the object `PbT` (refers to \"prices before taxes\") whereas the rest of the prices are kept in `PwT`."
   ]
  },
  {
   "cell_type": "markdown",
   "metadata": {},
   "source": [
    "Objects for storing prices:"
   ]
  },
  {
   "cell_type": "code",
   "execution_count": 39,
   "metadata": {},
   "outputs": [],
   "source": [
    "PwT = pd.Series([], name=\"PwT\", dtype=\"float64\")\n",
    "PbT = pd.Series([], name=\"PbT\", dtype=\"float64\")"
   ]
  },
  {
   "cell_type": "markdown",
   "metadata": {},
   "source": [
    "Prices of inputs are also stated in the catalog:"
   ]
  },
  {
   "cell_type": "code",
   "execution_count": 40,
   "metadata": {},
   "outputs": [],
   "source": [
    "for module in modules:\n",
    "    for t, inputs in output[module][\"techs_inputs\"].items():\n",
    "        for inp in inputs:\n",
    "            PwT[inp] = output[\"inputprices\"][inp.split(\"_\")[-1]]"
   ]
  },
  {
   "cell_type": "markdown",
   "metadata": {},
   "source": [
    "Add the prices of technologies: $p^\\tau$. These correspond to the weighted average of the prices of its inputs."
   ]
  },
  {
   "cell_type": "code",
   "execution_count": 41,
   "metadata": {},
   "outputs": [],
   "source": [
    "for module in modules:\n",
    "    for t, inputs in output[module][\"techs_inputs\"].items():\n",
    "        PwT[t] = pd.concat([PwT[inputs], qD[inputs]], axis=1).product(axis=1).sum() / qD[t]"
   ]
  },
  {
   "cell_type": "markdown",
   "metadata": {},
   "source": [
    "These prices are equal to unit costs by construction, which we check here for good measure. The differences between prices and unit costs are:"
   ]
  },
  {
   "cell_type": "code",
   "execution_count": 42,
   "metadata": {},
   "outputs": [
    {
     "data": {
      "text/plain": [
       "tech\n",
       "ID_1    0.0\n",
       "ID_2    0.0\n",
       "ID_3    0.0\n",
       "ID_4    0.0\n",
       "ID_5   -0.0\n",
       "dtype: float64"
      ]
     },
     "execution_count": 42,
     "metadata": {},
     "output_type": "execute_result"
    }
   ],
   "source": [
    "round(output[\"ID\"][\"unit_costs\"].set_index(\"tech\")[\"unit_cost\"] - PwT[output[\"ID\"][\"unit_costs\"][\"tech\"]], 2)"
   ]
  },
  {
   "cell_type": "markdown",
   "metadata": {},
   "source": [
    "For $p^U$, we simply assume $p^U = p^\\tau$, which, since the share-parameters in the CET nest splitting $\\tau$ into its produced technology goods sum to one, is consistent with zero profits (mroe generally, scale preservation ensures zero profits with this assumption)"
   ]
  },
  {
   "cell_type": "code",
   "execution_count": 43,
   "metadata": {},
   "outputs": [],
   "source": [
    "for module in modules:\n",
    "    for t in output[module][\"techs\"]:\n",
    "        for U in output[module][\"techs\"][t]:\n",
    "            PwT[U] = PwT[t]"
   ]
  },
  {
   "cell_type": "markdown",
   "metadata": {},
   "source": [
    "Prices on components for end of pipe should be allocated to PbT because that includes the prices of outputs:"
   ]
  },
  {
   "cell_type": "code",
   "execution_count": 44,
   "metadata": {},
   "outputs": [],
   "source": [
    "for C, U_list in output[\"EOP\"][\"components\"].items():\n",
    "    PbT[C] = pd.concat([PwT[U_list], qD[U_list]], axis=1).product(axis=1).sum() / qS[C]"
   ]
  },
  {
   "cell_type": "markdown",
   "metadata": {},
   "source": [
    "Insert baseline input quantities and baseline technology good prices (only relevant for ID since baselines do not exist in EOP).\n",
    "\n",
    "This also (for now, should be set with input-output macro data later) sets the share-parameters of the inputs for the baseline technology goods. It assumes that the baseline uses all energy inputs in equal proportions and that these share-parameters sum to 1. Using these share-parameters, the corresponding quantities are added to `qD`."
   ]
  },
  {
   "cell_type": "code",
   "execution_count": 45,
   "metadata": {},
   "outputs": [],
   "source": [
    "inputs = output[\"ID\"][\"IO_tech_inputs\"][\"IO_tech\"]\n",
    "for inp in inputs:\n",
    "    mu[(inp, \"IO_tech\")] = 1/len(inputs)\n",
    "    PwT[inp] = output[\"inputprices\"][inp.split(\"_\")[-1]]\n",
    "    qD[inp] = mu[(inp, \"IO_tech\")] * qD[\"IO_tech\"]\n",
    "#Price of the IO technology\n",
    "PwT[\"IO_tech\"] = pd.concat([PwT[inputs], qD[inputs]], axis=1).product(axis=1).sum() / qD[\"IO_tech\"]"
   ]
  },
  {
   "cell_type": "code",
   "execution_count": 46,
   "metadata": {},
   "outputs": [],
   "source": [
    "for base in output[\"ID\"][\"IO_tech\"][\"IO_tech\"]:\n",
    "    PwT[base] = PwT[\"IO_tech\"] "
   ]
  },
  {
   "cell_type": "markdown",
   "metadata": {},
   "source": [
    "Quantities and prices of inputs to replacement-baseline-technologies and the cost of these as well:"
   ]
  },
  {
   "cell_type": "code",
   "execution_count": 47,
   "metadata": {},
   "outputs": [],
   "source": [
    "for base_U, inputs in output[\"ID\"][\"baseline_U_inputs\"].items():\n",
    "    for inp in inputs:\n",
    "#         mu[(inp, base_U)] = 1/len(inputs)    \n",
    "        qD[inp] = mu[(inp, base_U)] * qD[base_U]\n",
    "        PwT[inp] = output[\"inputprices\"][inp.split(\"_\")[-1]]\n",
    "    PwT[base_U] =  pd.concat([PwT[inputs], qD[inputs]], axis=1).product(axis=1).sum() / qD[base_U]"
   ]
  },
  {
   "cell_type": "markdown",
   "metadata": {},
   "source": [
    "Prices of components:"
   ]
  },
  {
   "cell_type": "code",
   "execution_count": 48,
   "metadata": {},
   "outputs": [],
   "source": [
    "for C, U_list in output[\"ID\"][\"components\"].items():\n",
    "    PwT[C] = pd.concat([PwT[U_list], qD[U_list]], axis=1).product(axis=1).sum() / qD[C]"
   ]
  },
  {
   "cell_type": "markdown",
   "metadata": {},
   "source": [
    "Prices of energy services (\"upper categories\" in ID). "
   ]
  },
  {
   "cell_type": "code",
   "execution_count": 49,
   "metadata": {},
   "outputs": [],
   "source": [
    "for E, C_list in output[\"ID\"][\"upper_categories\"].items():\n",
    "    PbT[E] = pd.concat([PwT[C_list], qD[C_list]], axis=1).product(axis=1).sum() / qS[E]"
   ]
  },
  {
   "cell_type": "markdown",
   "metadata": {},
   "source": [
    "We now add the calculated values to the (still) empty database `db` instantiated earlier."
   ]
  },
  {
   "cell_type": "code",
   "execution_count": 50,
   "metadata": {},
   "outputs": [],
   "source": [
    "qS.index.name = \"n\"\n",
    "qD.index.name = \"n\"\n",
    "PwT.index.name = \"n\"\n",
    "PbT.index.name = \"n\"\n",
    "db[\"qS\"] = qS\n",
    "db[\"qD\"] = qD\n",
    "db[\"PwT\"] = PwT\n",
    "db[\"PbT\"] = PbT\n",
    "db[\"mu\"] = mu"
   ]
  },
  {
   "cell_type": "markdown",
   "metadata": {},
   "source": [
    "Merge `db` with the database attached to the nesting tree object `nt`:"
   ]
  },
  {
   "cell_type": "code",
   "execution_count": 51,
   "metadata": {},
   "outputs": [],
   "source": [
    "DataBase.GPM_database.merge_dbs(nt.database, db, \"first\")"
   ]
  },
  {
   "cell_type": "markdown",
   "metadata": {},
   "source": [
    "As a confirmation that this went succesfully, we check that the databse in `nt` contains a symbol called 'mu':"
   ]
  },
  {
   "cell_type": "code",
   "execution_count": 52,
   "metadata": {},
   "outputs": [
    {
     "data": {
      "text/plain": [
       "n                 nn  \n",
       "ID_1_electricity  ID_1    0.475\n",
       "ID_1_oil          ID_1    0.475\n",
       "ID_1_K            ID_1    4.050\n",
       "C_EL_1            EL      0.050\n",
       "U_ID_1_1          ID_1    0.500\n",
       "Name: mu, dtype: float64"
      ]
     },
     "execution_count": 52,
     "metadata": {},
     "output_type": "execute_result"
    }
   ],
   "source": [
    "nt.database.series[\"mu\"].vals.head()"
   ]
  },
  {
   "cell_type": "markdown",
   "metadata": {},
   "source": [
    "Success! We now proceed to use the class *abate*, a childclass of *gmspython*."
   ]
  },
  {
   "cell_type": "markdown",
   "metadata": {},
   "source": [
    "## Add sets used for calibration to the database"
   ]
  },
  {
   "cell_type": "markdown",
   "metadata": {},
   "source": [
    "#### g_exo_vals consists of $\\bar \\sigma$ and $\\bar \\mu$. These are targets in the minimzation object"
   ]
  },
  {
   "cell_type": "markdown",
   "metadata": {},
   "source": [
    "$\\bar \\sigma$ parameters used for the minimization object. These are the sigmas in the MNL nests (C->U)"
   ]
  },
  {
   "cell_type": "code",
   "execution_count": 53,
   "metadata": {},
   "outputs": [],
   "source": [
    "sigmabar = pd.Series([], name=\"sigmabar\", dtype=\"float64\")\n",
    "for c in output[\"ID\"][\"components\"].keys():\n",
    "    sigmabar[c] = 1"
   ]
  },
  {
   "cell_type": "markdown",
   "metadata": {},
   "source": [
    "$\\bar \\mu$ parameters used for minimization object. These are the share parameters in the CET split from technologies to technology goods."
   ]
  },
  {
   "cell_type": "code",
   "execution_count": 54,
   "metadata": {},
   "outputs": [],
   "source": [
    "mubar = mu.loc[pd.IndexSlice[mu.index.get_level_values(0).isin(flatten_list(list(output[\"ID\"][\"techs\"].values()))), \\\n",
    "                     mu.index.get_level_values(1).isin(list(output[\"ID\"][\"techs\"].keys()))]]\n",
    "mubar.name = \"mubar\""
   ]
  },
  {
   "cell_type": "markdown",
   "metadata": {},
   "source": [
    "#### g_tech_endo consists of parameters that are endogenized in the calibration procedure"
   ]
  },
  {
   "cell_type": "code",
   "execution_count": 55,
   "metadata": {},
   "outputs": [],
   "source": [
    "mu_EC = mu.loc[pd.IndexSlice[pd.Series(mu.index.get_level_values(0).str.startswith(\"C\")), \\\n",
    "                     pd.Series(mu.index.get_level_values(1).str.startswith(\"E\"))]].index\n",
    "\n",
    "mu_IOtech = mu.loc[pd.IndexSlice[mu.index.get_level_values(0).str.startswith(\"IO\"), mu.index.get_level_values(0).str.startswith(\"IO\")]].index\n",
    "\n",
    "sigma_CU = sigmabar.index\n",
    "sigma_CU.name = \"n\"\n",
    "\n",
    "mu_CU = mu.loc[mu.index.get_level_values(0).isin(flatten_list(output[\"ID\"][\"components\"].values())), mu.index.get_level_values(1).isin(output[\"ID\"][\"components\"].keys())].index\n",
    "mu_CU.name = \"n\"\n",
    "\n",
    "mu_tautoU = mu.loc[pd.IndexSlice[mu.index.get_level_values(0).str.startswith(\"U\"), mu.index.get_level_values(1).isin(output[\"ID\"][\"techs\"].keys())]].index"
   ]
  },
  {
   "cell_type": "markdown",
   "metadata": {},
   "source": [
    "Share-parameters of Leontief technologies (to be kept exogenous throughout)"
   ]
  },
  {
   "cell_type": "code",
   "execution_count": 56,
   "metadata": {},
   "outputs": [],
   "source": [
    "t = pd.IndexSlice[pd.Series(mu.index.get_level_values(1).isin(output[\"ID\"][\"techs\"].keys())), pd.Series(mu.index.get_level_values(1).isin(output[\"ID\"][\"techs\"].keys()))]\n",
    "\n",
    "t2 = pd.IndexSlice[pd.Series(mu.index.get_level_values(1).isin(output[\"ID\"][\"baseline_U_inputs\"].keys())), \\\n",
    "                   pd.Series(mu.index.get_level_values(1).isin(output[\"ID\"][\"baseline_U_inputs\"].keys()))]\n",
    "\n",
    "mu_leontief_techs = mu.loc[t2].index.append(mu.loc[t].index)\n",
    "\n",
    "tech_endo_mu = mu_EC.append(mu_IOtech).append(mu_CU).append(mu_tautoU)\n",
    "\n",
    "tech_endo_sigma = sigma_CU"
   ]
  },
  {
   "cell_type": "markdown",
   "metadata": {},
   "source": [
    "g_endovars_exoincalib includes the endogenous variables that we exogenize in calibration because we have data on them (C due to potentials, sum of U due to current applications, sum of dX for IO tech and replacing tech due to IO data) "
   ]
  },
  {
   "cell_type": "code",
   "execution_count": 57,
   "metadata": {},
   "outputs": [],
   "source": [
    "def multiindex_series(idx_level_names, idx_name=None, series_name=None):\n",
    "    if idx_name is None and series_name is not None:\n",
    "        idx_name = series_name\n",
    "    elif idx_name is not None and series_name is None:\n",
    "        series_name = idx_name\n",
    "    elif idx_name is None and series_name is None:\n",
    "        raise Exception(\"Supply either index name or series name\")\n",
    "    idx = pd.MultiIndex(levels=[[]]*len(idx_level_names), codes=[[]]*len(idx_level_names), names=idx_level_names)\n",
    "    ser = pd.Series(index=idx, dtype=float)\n",
    "    ser.rename(series_name, inplace=True)\n",
    "    #ser.index.name = idx_name\n",
    "    return ser"
   ]
  },
  {
   "cell_type": "code",
   "execution_count": 58,
   "metadata": {},
   "outputs": [],
   "source": [
    "def find_key_from_value(d, value):\n",
    "    assert isinstance(d, dict)\n",
    "    out = []\n",
    "    for (k, v) in d.items():\n",
    "        if value in v:\n",
    "            out.append(k)\n",
    "    if len(out) == 1:\n",
    "        return out[0]\n",
    "    else:\n",
    "        raise Exception(\"Value exists in multiple keys\")"
   ]
  },
  {
   "cell_type": "markdown",
   "metadata": {},
   "source": [
    "The sumU and sumX objects are constructed because we need to calibrate to those. sumU hits current application and sumX hits IO input use data."
   ]
  },
  {
   "cell_type": "code",
   "execution_count": 59,
   "metadata": {},
   "outputs": [],
   "source": [
    "sumU = multiindex_series(idx_level_names=[\"n\", \"nn\"], series_name=\"sumU\")\n",
    "for t in output[\"ID\"][\"techs\"]:\n",
    "    for U in output[\"ID\"][\"techs\"][t]:\n",
    "        C = find_key_from_value(output[\"ID\"][\"components\"], U)\n",
    "        E = find_key_from_value(output[\"ID\"][\"upper_categories\"], C)\n",
    "        sumU[(\"sumU_\" + t + \"_\" + E, U)] = qD[U]"
   ]
  },
  {
   "cell_type": "code",
   "execution_count": 60,
   "metadata": {},
   "outputs": [],
   "source": [
    "sumU_map = sumU.index"
   ]
  },
  {
   "cell_type": "code",
   "execution_count": 61,
   "metadata": {},
   "outputs": [],
   "source": [
    "sumU_calibvalues = sumU.copy()\n",
    "sumU_calibvalues.index = sumU_calibvalues.index.droplevel(1)\n",
    "sumU_calibvalues = sumU_calibvalues.groupby(\"n\").sum()"
   ]
  },
  {
   "cell_type": "code",
   "execution_count": 62,
   "metadata": {},
   "outputs": [],
   "source": [
    "def find_true_input(inp, Q2P):\n",
    "    true = list(Q2P[Q2P.get_level_values(0).isin([inp])].get_level_values(1))[0]\n",
    "    return true"
   ]
  },
  {
   "cell_type": "code",
   "execution_count": 63,
   "metadata": {},
   "outputs": [],
   "source": [
    "#sumX. The sum of energy use for baseline technologies (IO_tech + replacing baselines)\n",
    "sumX = multiindex_series(idx_level_names=[\"n\", \"nn\"], series_name=\"sumX\")\n",
    "for x in output[\"ID\"][\"IO_tech_inputs\"][\"IO_tech\"]:\n",
    "    inp = find_true_input(x, output[\"ID\"][\"Q2P\"])\n",
    "    sumX[(inp, x)] = np.nan\n",
    "#pd.IndexSlice[pd.Series(mu.index.get_level_values(1).isin(output[\"ID\"][\"techs\"].keys())), pd.Series(mu.index.get_level_values(1).isin(output[\"ID\"][\"techs\"].keys()))]\n",
    "#output[\"ID\"][\"Q2P\"]\n",
    "\n",
    "for t in output[\"ID\"][\"techs_inputs\"]:\n",
    "    for x in output[\"ID\"][\"techs_inputs\"][t]:\n",
    "        sumX[(find_true_input(x, output[\"ID\"][\"Q2P\"]), x)] = np.nan\n",
    "\n",
    "for baseU in output[\"ID\"][\"baseline_U_inputs\"]:\n",
    "    for x in output[\"ID\"][\"baseline_U_inputs\"][baseU]:\n",
    "        sumX[(find_true_input(x, output[\"ID\"][\"Q2P\"]), x)] = np.nan\n",
    "\n",
    "#change name of the sum of an input to \"sum_x\"\n",
    "sumX = sumX.reset_index()\n",
    "sumX[\"n\"] = \"sum_\" + sumX[\"n\"]\n",
    "sumX = sumX.set_index([\"n\", \"nn\"])[\"sumX\"].index"
   ]
  },
  {
   "cell_type": "code",
   "execution_count": 64,
   "metadata": {},
   "outputs": [],
   "source": [
    "endovars_exoincalib_sumU = sumU_map.copy()\n",
    "endovars_exoincalib_sumX = sumX\n",
    "endovars_exoincalib_C = mu_EC.get_level_values(0)"
   ]
  },
  {
   "cell_type": "code",
   "execution_count": 65,
   "metadata": {},
   "outputs": [],
   "source": [
    "qD_exo_U =  mu_tautoU.get_level_values(0)"
   ]
  },
  {
   "cell_type": "code",
   "execution_count": 66,
   "metadata": {},
   "outputs": [],
   "source": [
    "calib_values_currentapplications = pd.concat([qD[qD.index.str.startswith(\"U\") & ~qD.index.str.contains(\"EOP\")], qD[qD.index.str.startswith(\"C\")]]) "
   ]
  },
  {
   "cell_type": "code",
   "execution_count": 67,
   "metadata": {},
   "outputs": [],
   "source": [
    "calib_values_potentials = mu.loc[pd.IndexSlice[pd.Series(mu.index.get_level_values(0).str.startswith(\"C\")), \\\n",
    "                                 pd.Series(mu.index.get_level_values(1).str.startswith(\"E\"))]]"
   ]
  },
  {
   "cell_type": "code",
   "execution_count": 68,
   "metadata": {},
   "outputs": [],
   "source": [
    "db = DataBase.GPM_database()\n",
    "alwaysexo_mu = mu.drop(tech_endo_mu).index"
   ]
  },
  {
   "cell_type": "code",
   "execution_count": 69,
   "metadata": {},
   "outputs": [],
   "source": [
    "db[\"tech_endoincalib_sigma\"] = tech_endo_sigma\n",
    "db[\"tech_endoincalib_mu\"] = tech_endo_mu\n",
    "db[\"params_alwaysexo_mu\"] = alwaysexo_mu\n",
    "db[\"endovars_exoincalib_sumU\"] = endovars_exoincalib_sumU\n",
    "db[\"endovars_exoincalib_sumX\"] = endovars_exoincalib_sumX\n",
    "db[\"endovars_exoincalib_C\"] = endovars_exoincalib_C\n",
    "db[\"calib_values_currentapplications\"] = calib_values_currentapplications\n",
    "db[\"calib_values_potentials\"] = calib_values_potentials"
   ]
  },
  {
   "cell_type": "code",
   "execution_count": 70,
   "metadata": {},
   "outputs": [
    {
     "data": {
      "text/plain": [
       "Index(['C_EL_1', 'C_EL_2', 'C_EL_3', 'C_EH_1', 'C_EL_4', 'C_EL_5', 'C_EH_2',\n",
       "       'C_ER_1', 'C_EH_3', 'C_ER_2'],\n",
       "      dtype='object', name='n')"
      ]
     },
     "execution_count": 70,
     "metadata": {},
     "output_type": "execute_result"
    }
   ],
   "source": [
    "tech_endo_sigma"
   ]
  },
  {
   "cell_type": "code",
   "execution_count": 71,
   "metadata": {},
   "outputs": [],
   "source": [
    "#Minimization stuff\n",
    "db[\"minobj\"] = 1\n",
    "db[\"weight_sigma\"] = 1\n",
    "db[\"weight_mu\"] = 1\n",
    "db[\"minobj_mu\"] = mubar\n",
    "db[\"minobj_sigma\"] = sigmabar\n",
    "db[\"minobj_mu_subset\"] = mubar.index\n",
    "db[\"minobj_sigma_subset\"] = sigmabar.index"
   ]
  },
  {
   "cell_type": "code",
   "execution_count": 72,
   "metadata": {},
   "outputs": [],
   "source": [
    "db[\"sumUaggs\"] = endovars_exoincalib_sumU.get_level_values(0).unique()\n",
    "db[\"sumU2U\"] = endovars_exoincalib_sumU\n",
    "db[\"qsumU\"] = sumU_calibvalues"
   ]
  },
  {
   "cell_type": "code",
   "execution_count": 73,
   "metadata": {},
   "outputs": [],
   "source": [
    "db[\"sumXaggs\"] = endovars_exoincalib_sumX.get_level_values(0).unique()\n",
    "db[\"sumX2X\"] = endovars_exoincalib_sumX\n",
    "db[\"qsumX\"] = pd.Series([10]*len(endovars_exoincalib_sumX.get_level_values(0).unique()), index=endovars_exoincalib_sumX.get_level_values(0).unique(), name=\"qsumX\")"
   ]
  },
  {
   "cell_type": "markdown",
   "metadata": {},
   "source": [
    "# **3: The model**"
   ]
  },
  {
   "cell_type": "markdown",
   "metadata": {},
   "source": [
    "We now build a gams model using a *gmspython* childclass (*abate*). We build the partial equilibrium model from the following principles:\n",
    "* The firm takes input prices as given. These are prices with taxes ('PwT') that are defined over the global set *inp*. In this case this includes e.g. the price on electricity and capital.\n",
    "* The firm further takes the quantity of supply as given (it has to be either this or output prices for the model to be square). We denote the quantity of supply 'qS', and define it over the subset of goods that are outputs from the sector *out*. \n",
    "* The firm's demand for intermediate goods, and their prices are endogenous to the firm: In our case this involves $\\tau$, $U$ and $C$ in ID and only $\\tau$ and $U$ in EOP. These intermediate goods are not traded on any market, but is simply a construct we use to build the nests. In this way the quantity of $U$ is both supplied, and demanded by the firm/sector itself. As we do not need both a supply and demand variable (they are the same in this case), we let the quantity/prices for intermediate goods go under the variables 'qD'/'PwT', defined over the subset *int*.\n",
    "* The demand for inputs is also endogenous to the firm. We denote this 'qD' defined over the subset of goods 'inp'.\n",
    "* As briefly mentioned above, we either have to let the output prices / quantities be endogeonous (and the other exogenous) for the module to be square. In this case we let the price on outputs be endogenous. We denote the price 'PbT' for price before taxes. This is defined over the subset *out*. Distinguishing between PbT and PwT allows for the flexibility of including a tax module / including a mark-up on profits at a later point.\n",
    "\n",
    "We will get back to the way we initialize the *gmspython* module next; here we initialize the class to be able to print the variables needed for this specific model.\n",
    "The model, denoted `m`, is an instance of the class `abate` which is itself a childclass of the more general `gmspython` class."
   ]
  },
  {
   "cell_type": "code",
   "execution_count": 74,
   "metadata": {},
   "outputs": [],
   "source": [
    "m = abatement.abate(nt=nt, tech_db=db, work_folder=work_folder, **{'data_folder': gams_folder, \"name\":\"Abatement\"})\n",
    "m.model.database.update_all_sets(clean_up=False) #Makes n include the sum variables"
   ]
  },
  {
   "cell_type": "markdown",
   "metadata": {},
   "source": [
    "Recall that running a model requires constructing three methods/properties for `m`:\n",
    "\n",
    "1. `m.initialize_variables()`\n",
    "2. `m.endo_groups` and `m.exo_groups`\n",
    "3. `m.add_blocks()`\n",
    "\n",
    "We briefly review each in turn.\n",
    "\n",
    "`m.initialize_variables()` sets default initial values for the variables and parameters that are not already present in the attached database (which we constructed earlier). For example, we did not specify the values for the mark-up parameters anywhere, so the method `initialize_variables()` *must* specify the value that these parameters should have. We can see that in this case they will simply be set to 1 (no markup):"
   ]
  },
  {
   "cell_type": "markdown",
   "metadata": {},
   "source": [
    "The default values for markups are zero, i.e. no markups:"
   ]
  },
  {
   "cell_type": "code",
   "execution_count": 75,
   "metadata": {},
   "outputs": [
    {
     "data": {
      "text/plain": [
       "n\n",
       "ER         0\n",
       "EH         0\n",
       "EL         0\n",
       "C_SO2_1    0\n",
       "Name: markup, dtype: int64"
      ]
     },
     "execution_count": 75,
     "metadata": {},
     "output_type": "execute_result"
    }
   ],
   "source": [
    "m.default_var_series(\"markup\")"
   ]
  },
  {
   "cell_type": "markdown",
   "metadata": {},
   "source": [
    "We run the method using the keyword argument `check_variables:True`. This makes the program check whether the database contains all the necessary values of a specific variable/parameter (say, $\\mu$), and if not, merges the default value (in this case equal to 1) onto the series of share-parameters already contained in the database. "
   ]
  },
  {
   "cell_type": "code",
   "execution_count": 76,
   "metadata": {},
   "outputs": [],
   "source": [
    "m.initialize_variables(**{\"check_variables\":True})"
   ]
  },
  {
   "cell_type": "markdown",
   "metadata": {},
   "source": [
    "Since all of our starting values were set 'as if' the entire tree was Leontief, it is worth noting that the default values for substitutions of elasticity/transformation are 1, e.g. for $\\sigma$:"
   ]
  },
  {
   "cell_type": "code",
   "execution_count": 77,
   "metadata": {},
   "outputs": [
    {
     "data": {
      "text/plain": [
       "n\n",
       "U_ID_C_EL_3_base    1\n",
       "ER                  1\n",
       "ID_2                1\n",
       "C_EH_3              1\n",
       "IO_tech             1\n",
       "Name: sigma, dtype: int64"
      ]
     },
     "execution_count": 77,
     "metadata": {},
     "output_type": "execute_result"
    }
   ],
   "source": [
    "m.default_var_series(\"sigma\").head()"
   ]
  },
  {
   "cell_type": "markdown",
   "metadata": {},
   "source": [
    "The second requirement(s) are the properties `endo_groups` and `exo_groups`. These collect the variables in groups and specify which of these subgroups are part of the two upper groups of endogenous and exogenous variables/parameters respectively. The choice of whether a variable should be endogenous or exogenous changes e.g. depending on whether the model is about to be solved for calibration purposes or not.\n",
    "In the basic case (not calibration mode), the endogenous variables are split into multiple groups:"
   ]
  },
  {
   "cell_type": "code",
   "execution_count": 78,
   "metadata": {},
   "outputs": [
    {
     "data": {
      "text/plain": [
       "dict_keys(['Abatement_g_prices_alwaysendo', 'Abatement_g_quants_alwaysendo', 'Abatement_g_prices_exoincalib', 'Abatement_g_quants_exoincalib'])"
      ]
     },
     "execution_count": 78,
     "metadata": {},
     "output_type": "execute_result"
    }
   ],
   "source": [
    "m.endo_groups.keys()"
   ]
  },
  {
   "cell_type": "markdown",
   "metadata": {},
   "source": [
    "... which themselves include the actual variables. Here we print the values of prices with taxes in the endovars group (the first 5 only). This uses the method *.var_endo*."
   ]
  },
  {
   "cell_type": "code",
   "execution_count": 79,
   "metadata": {},
   "outputs": [
    {
     "data": {
      "text/plain": [
       "n\n",
       "C_EH_1       2.000000\n",
       "C_EH_2       2.777778\n",
       "C_EH_3       2.700000\n",
       "C_EH_base    1.166667\n",
       "C_EL_1       1.800000\n",
       "Name: PwT, dtype: float64"
      ]
     },
     "execution_count": 79,
     "metadata": {},
     "output_type": "execute_result"
    }
   ],
   "source": [
    "m.var_endo(\"PwT\").head()"
   ]
  },
  {
   "cell_type": "markdown",
   "metadata": {},
   "source": [
    "And next we print the exogenous prices with taxes by doing the same thing, but for exogenous groups instead. This is found in the var_exo method:"
   ]
  },
  {
   "cell_type": "code",
   "execution_count": 80,
   "metadata": {},
   "outputs": [
    {
     "data": {
      "text/plain": [
       "n\n",
       "EOP_t1_K            1.0\n",
       "EOP_t1_oil          1.0\n",
       "ID_1_K              1.0\n",
       "ID_1_electricity    1.0\n",
       "ID_1_oil            1.0\n",
       "Name: PwT, dtype: float64"
      ]
     },
     "execution_count": 80,
     "metadata": {},
     "output_type": "execute_result"
    }
   ],
   "source": [
    "m.var_exo(\"PwT\").head()"
   ]
  },
  {
   "cell_type": "markdown",
   "metadata": {},
   "source": [
    "Finally, we need to specify the *add_blocks* method. This is the method that writes blocks of equations to the model. In our case, we write a different block of equations for each tree.\n",
    "For example, a set of equations are:"
   ]
  },
  {
   "cell_type": "code",
   "execution_count": 81,
   "metadata": {},
   "outputs": [
    {
     "name": "stdout",
     "output_type": "stream",
     "text": [
      "E_zp_out_ID_EC[n]$(out_ID_EC[n])..\tPbT[n]*qS[n] =E= sum(nn$(map_ID_EC[nn,n]), qD[nn]*PwT[nn]);\n",
      "\tE_zp_nout_ID_EC[n]$(kno_no_ID_EC[n])..\tPwT[n]*qD[n] =E= sum(nn$(map_ID_EC[nn,n]), qD[nn]*PwT[nn]);\n",
      "\tE_q_out_ID_EC[n]$(bra_o_ID_EC[n])..\tqD[n] =E= sum(nn$(map_ID_EC[n,nn]), mu[n,nn] * (PbT[nn]/PwT[n])**(sigma[nn]) * qS[nn] / sum(nnn$(map_ID_EC[nnn,nn]), mu[nnn,nn] * (PbT[nn]/PwT[nnn])**(sigma[nn])));\n",
      "\tE_q_nout_ID_EC[n]$(bra_no_ID_EC[n])..\tqD[n] =E= sum(nn$(map_ID_EC[n,nn]), mu[n,nn] * (PwT[nn]/PwT[n])**(sigma[nn]) * qD[nn] / sum(nnn$(map_ID_EC[nnn,nn]), mu[nnn,nn] * (PwT[nn]/PwT[nnn])**(sigma[nn])));\n"
     ]
    }
   ],
   "source": [
    "print(m.eqtext(list(m.ns_local)[0]))"
   ]
  },
  {
   "cell_type": "markdown",
   "metadata": {},
   "source": [
    "#### Model summary:"
   ]
  },
  {
   "cell_type": "markdown",
   "metadata": {},
   "source": [
    "To sum up, the model we have in mind here has the following main settings (where a \\$ denotes a condition):\n",
    "* Endogenous variables: $PwT\\$(int)$, $PbT\\$(out)$, $qD\\$(wT)$. (Recall that the subset wT is the union of intermediate goods and inputs)\n",
    "* Exogenous variables: $PwT\\$(inp)$, $qS\\$(out)$. \n",
    "* Equations: For the CES nest we have the following two equations:\n",
    "    $$\\begin{align}\n",
    "        q_j =& \\mu_j\\left(\\dfrac{p_j}{p_i}\\right)^{-\\sigma}q_i, \\tag{CES-1}\\\\\n",
    "        p_iq_i =& \\sum_j q_jp_j \\tag{CES-2}\n",
    "    \\end{align}$$\n",
    "    (CES-1) is the CES demand function that has to hold for all *branches* ($q_j$) where $q_i$ is the relevant knot in the nesting tree. (CES-2) is a zero-profit condition that has to hold for production functions with constant returns to scale (alternatively, we can use a price index). This has to hold for every *knot* where $j$ sums over the relevant branches. A similar thing has to hold for the CET tree."
   ]
  },
  {
   "cell_type": "markdown",
   "metadata": {},
   "source": [
    "### **Running the model**\n",
    "Running the model, including the invoking the methods and properties described in the previous section, we simply run the following:"
   ]
  },
  {
   "cell_type": "code",
   "execution_count": 82,
   "metadata": {},
   "outputs": [],
   "source": [
    "m.write_and_run(kwargs_init={'check_variables':True})"
   ]
  },
  {
   "cell_type": "markdown",
   "metadata": {},
   "source": [
    "To check whether the model was successfully solved, we check the modelstat (16.0 means solved correctly, 5.0 means not)"
   ]
  },
  {
   "cell_type": "code",
   "execution_count": 83,
   "metadata": {},
   "outputs": [
    {
     "data": {
      "text/plain": [
       "5.0"
      ]
     },
     "execution_count": 83,
     "metadata": {},
     "output_type": "execute_result"
    }
   ],
   "source": [
    "m.model_instances[\"baseline\"].modelstat"
   ]
  },
  {
   "cell_type": "markdown",
   "metadata": {},
   "source": [
    "The model does not run when all sigmas are not set to be Leontief, i.e. when they use their default value of 1."
   ]
  },
  {
   "cell_type": "markdown",
   "metadata": {},
   "source": [
    "We wish to solve the model while instead of the default value of substitution and transformation elasticities of 0.1, we set them equal to zero (in practice not exactly, but very close).\n",
    "Since the starting values have been set under the assumption of Leontief nests, this will help the solver find an initial solution."
   ]
  },
  {
   "cell_type": "code",
   "execution_count": 84,
   "metadata": {},
   "outputs": [
    {
     "name": "stdout",
     "output_type": "stream",
     "text": [
      "\n",
      "Success! The modelstat was 16.0\n"
     ]
    }
   ],
   "source": [
    "m.model.settings.databases[\"Abatement_0\"][\"sigma\"].vals.loc[:] = 0.0001\n",
    "m.model.settings.databases[\"Abatement_0\"][\"eta\"].vals.loc[:] = -0.0001\n",
    "#m.model.settings.databases[\"Abatement\"][\"sigma\"].vals[condition] = 0.2\n",
    "#m.write_and_run(options_run={'output':sys.stdout})\n",
    "m.write_and_run()\n",
    "if m.model_instances[\"baseline\"].modelstat == 16.0:\n",
    "    print(\"\\nSuccess! The modelstat was 16.0\")"
   ]
  },
  {
   "cell_type": "markdown",
   "metadata": {},
   "source": [
    "Save model by pickling it, using the export method:"
   ]
  },
  {
   "cell_type": "code",
   "execution_count": 85,
   "metadata": {},
   "outputs": [
    {
     "data": {
      "text/plain": [
       "'C:\\\\Users\\\\zgr679\\\\Documents\\\\GitHub\\\\GPM_v05\\\\examples\\\\Abatement\\\\Data\\\\..\\\\gamsmodels\\\\Main\\\\gmspython_Abatement'"
      ]
     },
     "execution_count": 85,
     "metadata": {},
     "output_type": "execute_result"
    }
   ],
   "source": [
    "m.export()"
   ]
  },
  {
   "cell_type": "markdown",
   "metadata": {},
   "source": [
    "The model is calibrated in the next jupyter file."
   ]
  },
  {
   "cell_type": "code",
   "execution_count": null,
   "metadata": {},
   "outputs": [],
   "source": []
  },
  {
   "cell_type": "code",
   "execution_count": null,
   "metadata": {},
   "outputs": [],
   "source": []
  },
  {
   "cell_type": "code",
   "execution_count": null,
   "metadata": {},
   "outputs": [],
   "source": []
  },
  {
   "cell_type": "code",
   "execution_count": null,
   "metadata": {},
   "outputs": [],
   "source": []
  },
  {
   "cell_type": "code",
   "execution_count": null,
   "metadata": {},
   "outputs": [],
   "source": []
  },
  {
   "cell_type": "code",
   "execution_count": null,
   "metadata": {},
   "outputs": [],
   "source": []
  },
  {
   "cell_type": "code",
   "execution_count": null,
   "metadata": {},
   "outputs": [],
   "source": []
  },
  {
   "cell_type": "code",
   "execution_count": null,
   "metadata": {},
   "outputs": [],
   "source": []
  },
  {
   "cell_type": "code",
   "execution_count": null,
   "metadata": {},
   "outputs": [],
   "source": []
  },
  {
   "cell_type": "code",
   "execution_count": null,
   "metadata": {},
   "outputs": [],
   "source": []
  },
  {
   "cell_type": "code",
   "execution_count": null,
   "metadata": {},
   "outputs": [],
   "source": []
  },
  {
   "cell_type": "code",
   "execution_count": null,
   "metadata": {},
   "outputs": [],
   "source": []
  }
 ],
 "metadata": {
  "kernelspec": {
   "display_name": "Python 3",
   "language": "python",
   "name": "python3"
  },
  "language_info": {
   "codemirror_mode": {
    "name": "ipython",
    "version": 3
   },
   "file_extension": ".py",
   "mimetype": "text/x-python",
   "name": "python",
   "nbconvert_exporter": "python",
   "pygments_lexer": "ipython3",
   "version": "3.7.4"
  }
 },
 "nbformat": 4,
 "nbformat_minor": 4
}
