{
 "cells": [
  {
   "cell_type": "code",
   "execution_count": 1,
   "metadata": {},
   "outputs": [
    {
     "name": "stdout",
     "output_type": "stream",
     "text": [
      "The file_gams_py_gdb0.gdx is still active and was not deleted.\n",
      "The file_gams_py_gdb1.gdx is still active and was not deleted.\n",
      "The file_gams_py_gdb2.gdx is still active and was not deleted.\n",
      "The file_gams_py_gdb3.gdx is still active and was not deleted.\n",
      "The file_gams_py_gdb5.gdx is still active and was not deleted.\n",
      "The file_gams_py_gdb7.gdx is still active and was not deleted.\n"
     ]
    }
   ],
   "source": [
    "clean_up=True # removes gams-related files in work-folder if true\n",
    "%run StdPackages.ipynb\n",
    "# os.chdir(directory['py'])\n",
    "os.chdir(directory['curr'])\n",
    "from matplotlib.ticker import NullFormatter\n",
    "from cycler import cycler\n",
    "import warnings\n",
    "warnings.filterwarnings(\"error\", category=UserWarning)\n",
    "import seaborn as sns\n",
    "sns.set_theme()"
   ]
  },
  {
   "cell_type": "code",
   "execution_count": 2,
   "metadata": {},
   "outputs": [],
   "source": [
    "%%capture\n",
    "catalog = \"main_catalog\"\n",
    "currapp = False\n",
    "elec = False\n",
    "smoothed = False\n",
    "\n",
    "%run A4_modelsolve.ipynb\n",
    "%run A4_CO2shock.ipynb\n",
    "\n",
    "%run A4_simulation_figures.ipynb"
   ]
  },
  {
   "cell_type": "code",
   "execution_count": 3,
   "metadata": {},
   "outputs": [],
   "source": [
    "%%capture\n",
    "catalog = \"main_catalog\"\n",
    "currapp = False\n",
    "elec = True\n",
    "smoothed = False\n",
    "%run A4_modelsolve.ipynb\n",
    "%run A4_CO2shock.ipynb\n",
    "%run A4_simulation_figures.ipynb"
   ]
  },
  {
   "cell_type": "code",
   "execution_count": 4,
   "metadata": {},
   "outputs": [],
   "source": [
    "%%capture\n",
    "catalog = \"main_catalog\"\n",
    "currapp = False\n",
    "elec = False\n",
    "smoothed = True\n",
    "\n",
    "%run A4_modelsolve.ipynb\n",
    "%run A4_CO2shock.ipynb\n",
    "\n",
    "%run A4_simulation_figures.ipynb"
   ]
  },
  {
   "cell_type": "code",
   "execution_count": 2,
   "metadata": {},
   "outputs": [],
   "source": [
    "%%capture\n",
    "currapp = False\n",
    "smoothed = False\n",
    "elec = False\n",
    "\n",
    "catalog = \"categoryexperiment2_ID\"\n",
    "%run A4_modelsolve.ipynb\n",
    "%run A4_CO2shock.ipynb\n",
    "catalog = \"categoryexperiment2_EOP\"\n",
    "%run A4_modelsolve.ipynb\n",
    "%run A4_CO2shock.ipynb\n",
    "\n",
    "catalog = \"categoryexperiment2\"\n",
    "%run A4_simulation_figures.ipynb"
   ]
  },
  {
   "cell_type": "code",
   "execution_count": 6,
   "metadata": {},
   "outputs": [],
   "source": [
    "%%capture\n",
    "catalog = \"main_catalog\"\n",
    "currapp = True #is only for ID though\n",
    "smoothed = False\n",
    "elec = False\n",
    "\n",
    "%run A4_modelsolve.ipynb\n",
    "%run A4_CO2shock.ipynb\n",
    "\n",
    "%run A4_simulation_figures.ipynb"
   ]
  },
  {
   "cell_type": "code",
   "execution_count": null,
   "metadata": {},
   "outputs": [],
   "source": []
  }
 ],
 "metadata": {
  "kernelspec": {
   "display_name": "Python 3",
   "language": "python",
   "name": "python3"
  },
  "language_info": {
   "codemirror_mode": {
    "name": "ipython",
    "version": 3
   },
   "file_extension": ".py",
   "mimetype": "text/x-python",
   "name": "python",
   "nbconvert_exporter": "python",
   "pygments_lexer": "ipython3",
   "version": "3.7.4"
  }
 },
 "nbformat": 4,
 "nbformat_minor": 4
}
