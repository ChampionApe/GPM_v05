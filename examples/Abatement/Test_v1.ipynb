{
 "cells": [
  {
   "cell_type": "code",
   "execution_count": 1,
   "id": "31d3f830-aa5d-4610-93db-a249bb492f7e",
   "metadata": {},
   "outputs": [],
   "source": [
    "clean_up=True # removes gams-related files in work-folder if true\n",
    "%run StdPackages.ipynb"
   ]
  },
  {
   "cell_type": "code",
   "execution_count": 2,
   "id": "f231e55e-36bd-4b53-9c13-6c8a4391e31c",
   "metadata": {},
   "outputs": [],
   "source": [
    "def sort_blocks_last(d):\n",
    "    return {**{k:v for k,v in d.items() if not k.endswith('blocks.gms')}, **d}"
   ]
  },
  {
   "cell_type": "code",
   "execution_count": 3,
   "id": "070db7f8-2726-4294-bd2a-e54dbc5b400a",
   "metadata": {},
   "outputs": [],
   "source": [
    "def apply_settings(gmodel):\n",
    "    gmodel.groups = {k:k for k in gmodel.settings.get_conf('g_endo').union(gmodel.settings.get_conf('g_exo'))}\n",
    "    [gmodel.settings.files.__setitem__(k,v) for k,v in gmodel.settings.functions.items()];\n",
    "    write_to_db = [k for k,v in gmodel.settings.databases.items() if v == gmodel.database][0]\n",
    "    with open(gmodel.settings.data_folder+'\\\\'+gmodel.settings.name+'_sets.gms',\"w\") as file:\n",
    "        [file.writelines(c) for c in [gmodel.write_sets(), gmodel.write_aliased_sets(), gmodel.write_sets_other(), gmodel.write_sets_load(write_to_db), \n",
    "                                      gmodel.write_parameters(),gmodel.write_parameters_load(write_to_db)]];\n",
    "    gmodel.settings.files[gmodel.settings.name+'_sets.gms'] = gmodel.settings.data_folder\n",
    "    gmodel.settings.files.update(gmodel.settings.mfiles)\n",
    "    with open(gmodel.settings.data_folder+'\\\\'+gmodel.settings.name+'_groupsload.gms', \"w\") as file:\n",
    "        [file.writelines(c) for c in [gmodel.write_groups_load(write_to_db)]];\n",
    "    gmodel.settings.files[gmodel.settings.name+'_groupsload.gms'] = gmodel.settings.data_folder"
   ]
  },
  {
   "cell_type": "markdown",
   "id": "4d430444-e837-4304-aa4f-dd586d03415d",
   "metadata": {},
   "source": [
    "*Merge extra attributes:*"
   ]
  },
  {
   "cell_type": "code",
   "execution_count": 4,
   "id": "8bb6e772-690c-4dda-8c14-943088f90f27",
   "metadata": {},
   "outputs": [],
   "source": [
    "def merge_list_of_settings_extra(gsettings,ls):\n",
    "    gsettings.functions = {k:v for s in ls for k,v in s.functions.items()}\n",
    "    gsettings.mfiles = sort_blocks_last({k:v for s in ls for k,v in s.mfiles.items()})"
   ]
  },
  {
   "cell_type": "markdown",
   "id": "b8b27936-a31c-45c2-a1ba-1086ffa7b5bc",
   "metadata": {
    "tags": []
   },
   "source": [
    "## Test various version of technology module"
   ]
  },
  {
   "cell_type": "markdown",
   "id": "b628b92b-f5c9-4465-a8f9-f688b211a9e4",
   "metadata": {},
   "source": [
    "## 1: Logit"
   ]
  },
  {
   "cell_type": "markdown",
   "id": "7cd63136-ca57-4878-9914-5cb6fdb9b68e",
   "metadata": {},
   "source": [
    "### 1.1 Database"
   ]
  },
  {
   "cell_type": "code",
   "execution_count": 5,
   "id": "2d31074b-3d31-4d80-b551-6bd453488bc4",
   "metadata": {},
   "outputs": [],
   "source": [
    "db = DataBase.GPM_database()"
   ]
  },
  {
   "cell_type": "markdown",
   "id": "3ff5b393-daeb-4466-97ce-a7608c7fdffb",
   "metadata": {},
   "source": [
    "Technology parameters:"
   ]
  },
  {
   "cell_type": "code",
   "execution_count": 6,
   "id": "b391a371-2d57-4dc8-9be9-08a58ce7361a",
   "metadata": {},
   "outputs": [],
   "source": [
    "db['i'] = pd.Index(range(11), name='i')\n",
    "db['theta'] = pd.Series([0.2]*len(db['i']),index = db.get('i'), name = 'theta')\n",
    "db['p'] = pd.Series(np.linspace(0, 10, len(db['i'])), index = db.get('i'), name = 'p')\n",
    "db['sigma'] = 1"
   ]
  },
  {
   "cell_type": "markdown",
   "id": "16019f45-d08d-4396-9531-b18a6cbbc6a5",
   "metadata": {},
   "source": [
    "Initial values, endogenous variables:"
   ]
  },
  {
   "cell_type": "code",
   "execution_count": 7,
   "id": "f31a14cb-c2c8-4b35-b10c-00706951998a",
   "metadata": {},
   "outputs": [],
   "source": [
    "db['tau'] = pd.Series(0.5, index = db.get('i'), name = 'tau')\n",
    "db['pe'] = 5\n",
    "db['lambda'] = 5"
   ]
  },
  {
   "cell_type": "markdown",
   "id": "e8a005c4-5a45-47c4-b7c9-38c673ec120c",
   "metadata": {},
   "source": [
    "### 1.2 Gams model"
   ]
  },
  {
   "cell_type": "markdown",
   "id": "8afda24f-0a69-4af6-b65d-ebf476484914",
   "metadata": {},
   "source": [
    "*Version 1:*"
   ]
  },
  {
   "cell_type": "code",
   "execution_count": 8,
   "id": "fc0ef418-efe4-4ed2-9bba-b6b3cc0de909",
   "metadata": {},
   "outputs": [],
   "source": [
    "name = 'V1'\n",
    "work_folder = directory['work']\n",
    "gams_folder = directory['gams']+'\\\\Test_V1'\n",
    "g_endo = ['G_endo'];\n",
    "blocks = ['B_V1'];\n",
    "g_exo = ['G_exo'];\n",
    "files = {k: gams_folder for k in ('V1_groups.gms','V1_blocks.gms')}\n",
    "functions = {'functions.gms': gams_folder}"
   ]
  },
  {
   "cell_type": "markdown",
   "id": "d6bbe444-1960-4891-a687-7cf7228a35b2",
   "metadata": {},
   "source": [
    "*Initialize settings object, and add settings:*"
   ]
  },
  {
   "cell_type": "code",
   "execution_count": 9,
   "id": "8856a75c-83bb-4932-8a6d-f49b6b2b6826",
   "metadata": {},
   "outputs": [],
   "source": [
    "gsettings = DB2Gams.gams_settings(work_folder=work_folder,**{'name':name,'data_folder': work_folder})\n",
    "gsettings.get_conf('g_endo').update(g_endo)\n",
    "gsettings.get_conf('g_exo').update(g_exo)\n",
    "gsettings.get_conf('blocks').update(blocks)\n",
    "gsettings.functions = functions\n",
    "gsettings.mfiles = files\n",
    "gmodel = DB2Gams.gams_model_py(gsettings=gsettings)"
   ]
  },
  {
   "cell_type": "markdown",
   "id": "6994e67a-c75f-4778-844e-8e697e7b8370",
   "metadata": {},
   "source": [
    "*Add data:*"
   ]
  },
  {
   "cell_type": "code",
   "execution_count": 10,
   "id": "0bb7d7e5-a073-4791-ba24-d5fcf75bbdf5",
   "metadata": {},
   "outputs": [],
   "source": [
    "gsettings.add_database(db) # add data\n",
    "gmodel.database.merge_internal() # write to a gdx file in the working directory"
   ]
  },
  {
   "cell_type": "markdown",
   "id": "a63668f0-23d7-4045-a808-ce5778fa85da",
   "metadata": {},
   "source": [
    "*apply standard settings:*"
   ]
  },
  {
   "cell_type": "code",
   "execution_count": 11,
   "id": "55f01712-62ef-4a16-882c-58698e2140f1",
   "metadata": {},
   "outputs": [],
   "source": [
    "apply_settings(gmodel)"
   ]
  },
  {
   "cell_type": "markdown",
   "id": "282d5bd5-99bb-4dbb-b2c9-25d376552a16",
   "metadata": {},
   "source": [
    "*Initialize model and run:*"
   ]
  },
  {
   "cell_type": "code",
   "execution_count": 12,
   "id": "8f472055-9749-43ea-9a42-56f7634c1966",
   "metadata": {},
   "outputs": [
    {
     "name": "stdout",
     "output_type": "stream",
     "text": [
      "16.0 1.0\n"
     ]
    }
   ],
   "source": [
    "g = DB2Gams.gams_model(gsettings = gsettings)\n",
    "g.run()\n",
    "print(g.modelstat,g.solvestat)"
   ]
  },
  {
   "cell_type": "markdown",
   "id": "a7abe39f-1ba2-4b29-974f-38eacaa32a26",
   "metadata": {},
   "source": [
    "*Version 2:*"
   ]
  },
  {
   "cell_type": "code",
   "execution_count": 18,
   "id": "fbfb823c-1a97-41c3-8798-57b8c086d1bf",
   "metadata": {},
   "outputs": [],
   "source": [
    "name = 'V2'\n",
    "work_folder = directory['work']\n",
    "gams_folder = directory['gams']+'\\\\Test_V1'\n",
    "g_endo = ['G_endo'];\n",
    "blocks = ['B_V2'];\n",
    "g_exo = ['G_exo'];\n",
    "files = {k: gams_folder for k in ('V1_groups.gms','V1_blocks.gms')}\n",
    "functions = {'functions.gms': gams_folder}"
   ]
  },
  {
   "cell_type": "markdown",
   "id": "42168f2e-a2c1-4050-bdfb-11f2e48855cb",
   "metadata": {},
   "source": [
    "*Initialize settings object, and add settings:*"
   ]
  },
  {
   "cell_type": "code",
   "execution_count": 20,
   "id": "af9c4b43-1909-4260-9941-43e3b010e87d",
   "metadata": {},
   "outputs": [],
   "source": [
    "gs2 = DB2Gams.gams_settings(work_folder = gsettings.ws,**{'name':name,'data_folder': work_folder})\n",
    "gs2.get_conf('g_endo').update(g_endo)\n",
    "gs2.get_conf('g_exo').update(g_exo)\n",
    "gs2.get_conf('blocks').update(blocks)\n",
    "gs2.functions = functions\n",
    "gs2.mfiles = files\n",
    "gm2 = DB2Gams.gams_model_py(gsettings=gs2)"
   ]
  },
  {
   "cell_type": "markdown",
   "id": "82459544-954d-4da3-b530-700892e399dc",
   "metadata": {},
   "source": [
    "*Add data:*"
   ]
  },
  {
   "cell_type": "code",
   "execution_count": 21,
   "id": "4de707e4-b270-4e59-bb48-c97eea2da75d",
   "metadata": {},
   "outputs": [],
   "source": [
    "gs2.add_database(db) # add data\n",
    "gm2.database.merge_internal() # write to a gdx file in the working directory"
   ]
  },
  {
   "cell_type": "markdown",
   "id": "7f3cd83a-608a-4a07-a971-7ec5954644f5",
   "metadata": {},
   "source": [
    "*apply standard settings:*"
   ]
  },
  {
   "cell_type": "code",
   "execution_count": 22,
   "id": "73780fb2-29e3-4eca-a0d5-786a2392f643",
   "metadata": {},
   "outputs": [],
   "source": [
    "apply_settings(gm2)"
   ]
  },
  {
   "cell_type": "markdown",
   "id": "28650121-89df-410a-83d7-b4067d7b7b5b",
   "metadata": {},
   "source": [
    "*Initialize model and run:*"
   ]
  },
  {
   "cell_type": "code",
   "execution_count": 23,
   "id": "604549c3-0334-4cf2-8704-3a8b46d7a445",
   "metadata": {},
   "outputs": [
    {
     "name": "stdout",
     "output_type": "stream",
     "text": [
      "16.0 1.0\n"
     ]
    }
   ],
   "source": [
    "g2 = DB2Gams.gams_model(gsettings = gs2)\n",
    "g2.run()\n",
    "print(g2.modelstat,g2.solvestat)"
   ]
  },
  {
   "cell_type": "markdown",
   "id": "bc962921-f90c-43f2-acdb-e3c294fe80a5",
   "metadata": {},
   "source": [
    "*Compare versions 1,2*"
   ]
  },
  {
   "cell_type": "code",
   "execution_count": 33,
   "id": "059263dc-4904-43f2-b483-05c73cc54eac",
   "metadata": {},
   "outputs": [
    {
     "data": {
      "text/plain": [
       "1.3260956818201475"
      ]
     },
     "execution_count": 33,
     "metadata": {},
     "output_type": "execute_result"
    }
   ],
   "source": [
    "g.out_db.get('pe')-g2.out_db.get('pe')"
   ]
  }
 ],
 "metadata": {
  "kernelspec": {
   "display_name": "Python 3 (ipykernel)",
   "language": "python",
   "name": "python3"
  },
  "language_info": {
   "codemirror_mode": {
    "name": "ipython",
    "version": 3
   },
   "file_extension": ".py",
   "mimetype": "text/x-python",
   "name": "python",
   "nbconvert_exporter": "python",
   "pygments_lexer": "ipython3",
   "version": "3.9.7"
  }
 },
 "nbformat": 4,
 "nbformat_minor": 5
}
