{
 "cells": [
  {
   "cell_type": "code",
   "execution_count": 1,
   "metadata": {},
   "outputs": [
    {
     "name": "stdout",
     "output_type": "stream",
     "text": [
      "The file_gams_py_gdb0.gdx is still active and was not deleted.\n"
     ]
    }
   ],
   "source": [
    "clean_up=True # removes gams-related files in work-folder if true\n",
    "%run StdPackages.ipynb\n",
    "os.chdir(py['main'])\n",
    "import global_settings,ReadData,ShockFunction,Production,Household,GE,Invest,Trade,Government,diagnostics\n",
    "from DataBase_wheels import small_updates\n",
    "os.chdir(curr)\n",
    "data_folder = os.getcwd()+'\\\\Data\\\\IO'\n",
    "gams_folder = os.getcwd()+'\\\\gamsmodels\\\\GE'"
   ]
  },
  {
   "cell_type": "markdown",
   "metadata": {},
   "source": [
    "Some general settings:"
   ]
  },
  {
   "cell_type": "code",
   "execution_count": 2,
   "metadata": {},
   "outputs": [],
   "source": [
    "name = 'Ex1_gs'\n",
    "gs_v = 'gs_v1'\n",
    "tindex = range(1,4)\n",
    "gs_vals = {'t':tindex}\n",
    "gs = global_settings.gs_v1(kwargs_vals=gs_vals)\n",
    "with open(data_folder+'\\\\'+name, \"wb\") as file:\n",
    "    pickle.dump(gs,file)"
   ]
  },
  {
   "cell_type": "markdown",
   "metadata": {},
   "source": [
    "The relevant data needed to run each module may vary. However, in general, the general equilibrium module should be adjusted to be consistent with input-output data. In a single year, the IO baseline data should at least cover:\n",
    "* The equilibrium price for all traded goods.\n",
    "* The inputs/outputs in values for each domestic sector, for each type of goods. The system must be balanced, such that the sum of demand equals the sum of supply for each $s$.\n",
    "\n",
    "The following reads in the IO data and defines a number of default subsets:"
   ]
  },
  {
   "cell_type": "code",
   "execution_count": 3,
   "metadata": {},
   "outputs": [],
   "source": [
    "dsheets = {'Production_v': data_folder+'\\\\IO_v.xlsx', 'Production_p': data_folder+'\\\\IO_p.xlsx'}\n",
    "GE_data = ReadData.read_data.main(dsheets,name='GE_data',components=['domstic','trade','HH','tax','invest'])"
   ]
  },
  {
   "cell_type": "markdown",
   "metadata": {},
   "source": [
    "To the IO data, we add inventory data on durables:"
   ]
  },
  {
   "cell_type": "code",
   "execution_count": 4,
   "metadata": {},
   "outputs": [],
   "source": [
    "DataBase.GPM_database.merge_dbs(GE_data,excel2py.xl2PM.pm_from_workbook(data_folder+'\\\\'+'dur.xlsx',{k: 'vars' for k in ('prod','HH','G')}),'second')"
   ]
  },
  {
   "cell_type": "markdown",
   "metadata": {},
   "source": [
    "Furthermore, we read in data on tax rates:"
   ]
  },
  {
   "cell_type": "code",
   "execution_count": 5,
   "metadata": {},
   "outputs": [],
   "source": [
    "DataBase.GPM_database.merge_dbs(GE_data,excel2py.xl2PM.pm_from_workbook(data_folder+'\\\\'+'Tax.xlsx',{'tbaseyear': 'vars'}),'second')"
   ]
  },
  {
   "cell_type": "markdown",
   "metadata": {},
   "source": [
    "Note that - while not necessary - the tax rates should be of a size such that the total tax revenue corresponds to the income from the IO data; the government module can adjust some tax rates to ensure this, however, this will be in a somwhat random fashion. To check for this assertion, the following IO function computes the tax income on sectorial level, when tax rates consists of three componenets: Input taxes $tauD$, output taxes $tauSflat$ and lump sum taxes $tauLump$:"
   ]
  },
  {
   "cell_type": "code",
   "execution_count": 6,
   "metadata": {},
   "outputs": [
    {
     "data": {
      "text/html": [
       "<div>\n",
       "<style scoped>\n",
       "    .dataframe tbody tr th:only-of-type {\n",
       "        vertical-align: middle;\n",
       "    }\n",
       "\n",
       "    .dataframe tbody tr th {\n",
       "        vertical-align: top;\n",
       "    }\n",
       "\n",
       "    .dataframe thead th {\n",
       "        text-align: right;\n",
       "    }\n",
       "</style>\n",
       "<table border=\"1\" class=\"dataframe\">\n",
       "  <thead>\n",
       "    <tr style=\"text-align: right;\">\n",
       "      <th></th>\n",
       "      <th>Model</th>\n",
       "      <th>IO</th>\n",
       "    </tr>\n",
       "    <tr>\n",
       "      <th>s</th>\n",
       "      <th></th>\n",
       "      <th></th>\n",
       "    </tr>\n",
       "  </thead>\n",
       "  <tbody>\n",
       "    <tr>\n",
       "      <th>F</th>\n",
       "      <td>0.0909422</td>\n",
       "      <td>-0.018329</td>\n",
       "    </tr>\n",
       "    <tr>\n",
       "      <th>HH</th>\n",
       "      <td>1.80099</td>\n",
       "      <td>1.61747</td>\n",
       "    </tr>\n",
       "    <tr>\n",
       "      <th>I_B</th>\n",
       "      <td>0.250148</td>\n",
       "      <td>0.263686</td>\n",
       "    </tr>\n",
       "    <tr>\n",
       "      <th>I_M</th>\n",
       "      <td>0.207596</td>\n",
       "      <td>0.202365</td>\n",
       "    </tr>\n",
       "    <tr>\n",
       "      <th>a</th>\n",
       "      <td>0.442536</td>\n",
       "      <td>0.058697</td>\n",
       "    </tr>\n",
       "    <tr>\n",
       "      <th>b</th>\n",
       "      <td>1.60557</td>\n",
       "      <td>0.827386</td>\n",
       "    </tr>\n",
       "    <tr>\n",
       "      <th>itory</th>\n",
       "      <td>0.00155662</td>\n",
       "      <td>0.00228146</td>\n",
       "    </tr>\n",
       "  </tbody>\n",
       "</table>\n",
       "</div>"
      ],
      "text/plain": [
       "            Model          IO\n",
       "s                            \n",
       "F       0.0909422   -0.018329\n",
       "HH        1.80099     1.61747\n",
       "I_B      0.250148    0.263686\n",
       "I_M      0.207596    0.202365\n",
       "a        0.442536    0.058697\n",
       "b         1.60557    0.827386\n",
       "itory  0.00155662  0.00228146"
      ]
     },
     "execution_count": 6,
     "metadata": {},
     "output_type": "execute_result"
    }
   ],
   "source": [
    "pd.DataFrame({'Model': Government.taxRevenue(GE_data), 'IO': GE_data['vD'].rctree_pd(GE_data['n_tax']).droplevel(-1)})"
   ]
  },
  {
   "cell_type": "markdown",
   "metadata": {},
   "source": [
    "Some of these discrepancies can be adjusted using the lump-sum tax rate; however, not all sectors are taxed lump-sum. The following adjusts the lump sum taxes, but leaves the two sectors 'inventory' and 'foreign' sectors unbalanced:"
   ]
  },
  {
   "cell_type": "code",
   "execution_count": 7,
   "metadata": {},
   "outputs": [
    {
     "data": {
      "text/html": [
       "<div>\n",
       "<style scoped>\n",
       "    .dataframe tbody tr th:only-of-type {\n",
       "        vertical-align: middle;\n",
       "    }\n",
       "\n",
       "    .dataframe tbody tr th {\n",
       "        vertical-align: top;\n",
       "    }\n",
       "\n",
       "    .dataframe thead th {\n",
       "        text-align: right;\n",
       "    }\n",
       "</style>\n",
       "<table border=\"1\" class=\"dataframe\">\n",
       "  <thead>\n",
       "    <tr style=\"text-align: right;\">\n",
       "      <th></th>\n",
       "      <th>Model</th>\n",
       "      <th>IO</th>\n",
       "    </tr>\n",
       "    <tr>\n",
       "      <th>s</th>\n",
       "      <th></th>\n",
       "      <th></th>\n",
       "    </tr>\n",
       "  </thead>\n",
       "  <tbody>\n",
       "    <tr>\n",
       "      <th>F</th>\n",
       "      <td>0.0909422</td>\n",
       "      <td>-0.018329</td>\n",
       "    </tr>\n",
       "    <tr>\n",
       "      <th>HH</th>\n",
       "      <td>1.61747</td>\n",
       "      <td>1.61747</td>\n",
       "    </tr>\n",
       "    <tr>\n",
       "      <th>I_B</th>\n",
       "      <td>0.263686</td>\n",
       "      <td>0.263686</td>\n",
       "    </tr>\n",
       "    <tr>\n",
       "      <th>I_M</th>\n",
       "      <td>0.202365</td>\n",
       "      <td>0.202365</td>\n",
       "    </tr>\n",
       "    <tr>\n",
       "      <th>a</th>\n",
       "      <td>0.058697</td>\n",
       "      <td>0.058697</td>\n",
       "    </tr>\n",
       "    <tr>\n",
       "      <th>b</th>\n",
       "      <td>0.827386</td>\n",
       "      <td>0.827386</td>\n",
       "    </tr>\n",
       "    <tr>\n",
       "      <th>itory</th>\n",
       "      <td>0.00155662</td>\n",
       "      <td>0.00228146</td>\n",
       "    </tr>\n",
       "  </tbody>\n",
       "</table>\n",
       "</div>"
      ],
      "text/plain": [
       "            Model          IO\n",
       "s                            \n",
       "F       0.0909422   -0.018329\n",
       "HH        1.61747     1.61747\n",
       "I_B      0.263686    0.263686\n",
       "I_M      0.202365    0.202365\n",
       "a        0.058697    0.058697\n",
       "b        0.827386    0.827386\n",
       "itory  0.00155662  0.00228146"
      ]
     },
     "execution_count": 7,
     "metadata": {},
     "output_type": "execute_result"
    }
   ],
   "source": [
    "GE_data['tauLump'] = Government.balanceIO_lumpsum(GE_data)\n",
    "pd.DataFrame({'Model': Government.taxRevenue(GE_data), 'IO': GE_data['vD'].rctree_pd(GE_data['n_tax']).droplevel(-1)})"
   ]
  },
  {
   "cell_type": "markdown",
   "metadata": {},
   "source": [
    "To adjust the final two sectors' tax revenues, we can move the taxes on demand upward/downward by the same amount for all goods. we make this adjustment on the demand taxes ($tauD$), as the sectors that are not taxed lump-sum (itory, F) are not supplying anything in the model:"
   ]
  },
  {
   "cell_type": "code",
   "execution_count": 8,
   "metadata": {},
   "outputs": [],
   "source": [
    "rates = Government.balanceIO_advalorem(GE_data)\n",
    "GE_data['tauD'] = rates[~(rates==0)]"
   ]
  },
  {
   "cell_type": "markdown",
   "metadata": {},
   "source": [
    "And adjust the prices with taxes, to be defined as the equilibrium price, plus taxes:"
   ]
  },
  {
   "cell_type": "code",
   "execution_count": 9,
   "metadata": {},
   "outputs": [],
   "source": [
    "GE_data['PwT'].vals = GE_data.get('PwT').add(GE_data.get('tauD'),fill_value=0)"
   ]
  },
  {
   "cell_type": "markdown",
   "metadata": {},
   "source": [
    "Export the database:"
   ]
  },
  {
   "cell_type": "code",
   "execution_count": 10,
   "metadata": {},
   "outputs": [],
   "source": [
    "GE_data.export(repo=data_folder)"
   ]
  }
 ],
 "metadata": {
  "kernelspec": {
   "display_name": "Python 3",
   "language": "python",
   "name": "python3"
  },
  "language_info": {
   "codemirror_mode": {
    "name": "ipython",
    "version": 3
   },
   "file_extension": ".py",
   "mimetype": "text/x-python",
   "name": "python",
   "nbconvert_exporter": "python",
   "pygments_lexer": "ipython3",
   "version": "3.7.9"
  }
 },
 "nbformat": 4,
 "nbformat_minor": 4
}
