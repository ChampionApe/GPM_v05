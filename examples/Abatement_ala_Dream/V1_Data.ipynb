{
 "cells": [
  {
   "cell_type": "code",
   "execution_count": 1,
   "id": "39bcef79-5438-441d-9ce8-2ff39c04b3a2",
   "metadata": {},
   "outputs": [
    {
     "name": "stdout",
     "output_type": "stream",
     "text": [
      "The file_gams_py_gdb0.gdx is still active and was not deleted.\n"
     ]
    }
   ],
   "source": [
    "clean_up=True # removes gams-related files in work-folder if true\n",
    "%run StdPackages.ipynb"
   ]
  },
  {
   "cell_type": "markdown",
   "id": "6bf3634f-64a6-40b3-bea6-58510850ab94",
   "metadata": {},
   "source": [
    "*A few local functions:*"
   ]
  },
  {
   "cell_type": "code",
   "execution_count": 2,
   "id": "cbf713bb-640d-471b-9649-833dfca753e1",
   "metadata": {},
   "outputs": [],
   "source": [
    "def appmap_s(s,mi,level=None,add_new_name=False): # auxiliary function used for matching indices\n",
    "    return DataBase_wheels.mi.v3_series(s,mi,level=level,add_new_name=add_new_name)"
   ]
  },
  {
   "cell_type": "code",
   "execution_count": 3,
   "id": "aab28e31-e78d-4d32-93a4-36a0724af6e8",
   "metadata": {},
   "outputs": [],
   "source": [
    "def unionlist(mi,l=None):\n",
    "    if l is None:\n",
    "        return unionlist(mi[0], l=mi[1:])\n",
    "    elif len(l)>1:\n",
    "        return unionlist(mi.union(l[0]),l=l[1:])\n",
    "    else:\n",
    "        return mi.union(l[0])"
   ]
  },
  {
   "cell_type": "markdown",
   "id": "5cdacd53-a03f-4b9e-b961-0d7528f51c48",
   "metadata": {
    "tags": []
   },
   "source": [
    "# Partial equilibrium model with technologies, v 0.1 [(link to paper)](https://www.overleaf.com/read/stkxjdbsyzjq)"
   ]
  },
  {
   "cell_type": "code",
   "execution_count": 4,
   "id": "6c0154d2-3a85-45fb-bc04-2ff2fd23f5f1",
   "metadata": {},
   "outputs": [],
   "source": [
    "name = 'V01'"
   ]
  },
  {
   "cell_type": "markdown",
   "id": "c9465651-99c1-41a4-a970-15d6d222a604",
   "metadata": {},
   "source": [
    "We use the following GAMS variable conventions:\n",
    "* ```qD[s,n]```: Quantity of demand for good $n$ in sector $s$. ($\\color{blue}{\\text{read from data}}$)\n",
    "* ```qS[s,n]```: Quantity of supply of good $n$ in sector $s$. ($\\color{blue}{\\text{read from data}}$)\n",
    "* ```pD[s,n]```: Price paid for good $n$ by sector $s$ (includes taxes etc.). ($\\color{blue}{\\text{partially read from data}}$, $\\color{red}{\\text{CHECK}}$.)\n",
    "* ```pS[s,n]```: Cost price of good $n$ in sector $s$ (no taxes, mark-ups etc. included). $\\color{red}{\\text{CHECK}}$.\n",
    "* ```mu[s,n,nn]```: Share parameters. ($\\color{blue}{\\text{read from data}}$)\n",
    "* ```sigma[s,n]```: price elasticity. ($\\color{blue}{\\text{read from data}}$)"
   ]
  },
  {
   "cell_type": "markdown",
   "id": "ad72b99c-ec49-4bb4-a2d7-d9c00bdb1c99",
   "metadata": {},
   "source": [
    "Including technologies we extend this namespace convention:\n",
    "* ```qD[s,n]```: When $n$ is a technology it refers to the share of its potential that is realized, i.e. $qD[s,n]\\in[0,1]$. ($\\color{blue}{\\text{read from data}}$)\n",
    "* ```mu[s,n,nn]```: When $n$ is a technology it refers to the shadow cost parameter used to calibrate the current use of a technology. Without calibration $\\mu[s,n,nn] = 0$. ($\\color{blue}{\\text{read from data}}$)\n",
    "* ```sigma[s,n]```: When $n$ is a technology it is a measure of cost heterogeneity of the technology. ($\\color{blue}{\\text{read from data}}$)\n",
    "* ```theta[s,n]```: Only defined for technology goods $n$. Measures potential of technology, $theta[s,n]\\in[0,1]$. ($\\color{blue}{\\text{read from data}}$)\n",
    "* ```lambda[s,n]```: Only defined for energy services $n$. Measures marginal shadow cost of producing $n$ using the available technologies. $\\color{red}{\\text{CHECK}}$."
   ]
  },
  {
   "cell_type": "markdown",
   "id": "06a9981d-9bc4-4160-b346-c61b16061e61",
   "metadata": {},
   "source": [
    "The implication is that the set $n$ is quite a large one that also encompasses intermediate goods. The relevant GAMS sets/subsets/mappings used throughout the code will be:\n",
    "* ```{name}_map[s,n,nn]```: Maps branches (n) to knots (nn) in the entire nesting production tree. $\\color{red}{\\text{CHECK}}$.\n",
    "* ```{name}_NT_out[s,n]```: Subset of goods (n) that are outputs from sector (NT refers to Non-Technology part). $\\color{red}{\\text{CHECK}}$\n",
    "* ```{name}_NT_bra_out[s,n]```: Subset of goods (n) that are branches in the NT part of the nesting tree, and the corresponding knot is an output from the sector (s). $\\color{red}{\\text{CHECK}}$\n",
    "* ```{name}_NT_bra_nout[s,n]```: Subset of goods (n) that are branches in the NT part of the nesting tree, and the corresponding knot is not an output from the sector (s). $\\color{red}{\\text{CHECK}}$\n",
    "* ```{name}_NT_int[s,n]```: subset of goods (n) that are intermediate goods and included in the NT part of nesting tree. $\\color{red}{\\text{CHECK}}$\n",
    "* ```{name}_NT_inp[s,n]```: subset of goods (n) that are inputs in the NT part of the nesting tree. This includes specific elements like ```M_X1```, but not sector aggregates ```X1```. $\\color{red}{\\text{CHECK}}$\n",
    "* ```{name}_NT_map[s,n,nn]```: Part of ```{name}_map[s,n,nn]``` in the NT part of the nesting tree. $\\color{red}{\\text{CHECK}}$.\n",
    "* ```{name}_ES[s,n]```: Subset of goods (n) that are energy services. $\\color{red}{\\text{CHECK}}$\n",
    "* ```{name}_T[s,n]```: Subset of goods (n) that are technology goods. $\\color{red}{\\text{CHECK}}$\n",
    "* ```{name}_inp2T[s,n,nn]```: Mapping from inputs (n) to technology goods (nn). $\\color{red}{\\text{CHECK}}$.\n",
    "* ```{name}_dur[s,n]```: Subset of goods (n) that are durables in the sector. ($\\color{blue}{\\text{read from data}}$)\n",
    "* ```{name}_T2ES[s,n,nn]```: Mapping from energy services (n) to technology goods (nn). $\\color{red}{\\text{CHECK}}$.\n",
    "* ```{name}_T2ESNorm```: Elements in T2ES for which the shadow-cost is normalized at zero. $\\color{red}{\\text{CHECK}}$.\n",
    "* ```{name}_inp[s,n]```: Subset of goods (n) that are inputs. Includes aggregates ```X1```, but not specific elements like ```M_X1```. $\\color{red}{\\text{CHECK}}$.\n",
    "* ```{name}_x2inp[s,n,nn]```: Mapping from specific values (n) to aggregate valutes (nn) - e.g. ```(M_X1, X1)``` ($\\color{blue}{\\text{read from data}}$)\n",
    "* ```{name}_NT_x[s,n]```: Subset of specific values (n) from ```x2inp```. $\\color{red}{\\text{CHECK}}$."
   ]
  },
  {
   "cell_type": "markdown",
   "id": "b7210b34-1b56-4d2a-9085-61a179cacf00",
   "metadata": {},
   "source": [
    "Naming conventions: \n",
    "* We use ```xx``` (or similarly ```xxx``` if needed) to denote aliases of a set ```x```.\n",
    "* Mappings are named ```X2Y``` when mapping from ```X``` to ```Y```."
   ]
  },
  {
   "cell_type": "markdown",
   "id": "faf80937-3ff4-497a-be97-fac0db3ea73b",
   "metadata": {
    "tags": []
   },
   "source": [
    "## 1. Data"
   ]
  },
  {
   "cell_type": "markdown",
   "id": "1d41ac2d-dbfb-4f0c-b0c7-cbe220aa97a0",
   "metadata": {},
   "source": [
    "Load tech data / other data separately (helps automatically define some subsets):*"
   ]
  },
  {
   "cell_type": "code",
   "execution_count": 5,
   "id": "7087ca99-9d3a-4f2a-a10b-347d25675e35",
   "metadata": {},
   "outputs": [],
   "source": [
    "dataf = directory['data']+'\\\\Nesting_V01.xlsx'\n",
    "data = excel2py.xl2PM.pm_from_workbook(dataf, {'NonTech': 'vars', 'Maps': 'maps'})\n",
    "tech = excel2py.xl2PM.pm_from_workbook(dataf,{'Tech': 'vars'})"
   ]
  },
  {
   "cell_type": "markdown",
   "id": "a4f830f5-970e-47d8-b045-8f1fb9271e98",
   "metadata": {},
   "source": [
    "### 1.1. Non-Technology part"
   ]
  },
  {
   "cell_type": "code",
   "execution_count": 6,
   "id": "cfe8558e-ec89-4b9c-be64-c382cf0ec34f",
   "metadata": {},
   "outputs": [],
   "source": [
    "nt = name+'_NT'"
   ]
  },
  {
   "cell_type": "markdown",
   "id": "059bca83-a529-49e3-85c5-f6cd59ee4feb",
   "metadata": {},
   "source": [
    "*Maps, inputs, outputs, intermediate goods from nesting structure:*"
   ]
  },
  {
   "cell_type": "code",
   "execution_count": 7,
   "id": "3f3d2aad-1b8f-4ed5-bba4-4473fa5bca7d",
   "metadata": {},
   "outputs": [],
   "source": [
    "def inp_from_map(map_):\n",
    "    return map_.droplevel('nn')[map_.droplevel('nn').get_level_values('n').isin(set(map_.get_level_values('n'))-set(map_.get_level_values('nn')))]\n",
    "def out_from_map(map_):\n",
    "    return map_.droplevel('n')[map_.droplevel('n').get_level_values('nn').isin(set(map_.get_level_values('nn'))-set(map_.get_level_values('n')))].unique().set_names(['s','n'])\n",
    "def int_from_map(map_,inp):\n",
    "    return map_.droplevel('nn')[~map_.droplevel('nn').isin(inp)].unique()"
   ]
  },
  {
   "cell_type": "code",
   "execution_count": 8,
   "id": "6d3ec131-725c-4456-b402-e1b2b2460932",
   "metadata": {},
   "outputs": [],
   "source": [
    "data[f\"{nt}_map\"] = data['mu'].index\n",
    "data[f\"{nt}_inp\"] = inp_from_map(data[f\"{nt}_map\"].vals)\n",
    "data[f\"{nt}_out\"] = out_from_map(data[f\"{nt}_map\"].vals)\n",
    "data[f\"{nt}_int\"] = int_from_map(data[f\"{nt}_map\"].vals, data[f\"{nt}_inp\"].vals)"
   ]
  },
  {
   "cell_type": "markdown",
   "id": "e540a14b-c43f-4796-9de3-dd6fef66a7d5",
   "metadata": {},
   "source": [
    "*Split branches in nesting tree into subset that are connected to an output knot and intermediate knot:*"
   ]
  },
  {
   "cell_type": "code",
   "execution_count": 9,
   "id": "cfe1a6cc-e79d-4595-9172-35b12539881f",
   "metadata": {},
   "outputs": [],
   "source": [
    "data[f\"{nt}_bra_out\"] = data[f\"{nt}_map\"].rctree_pd(gpy_symbol(data[f\"{nt}_out\"].vals.set_names(['s','nn']))).droplevel('nn').unique() # branches in map where corresponding knot is an output.\n",
    "data[f\"{nt}_bra_nout\"] = gpy_symbol(data[f\"{nt}_int\"].vals.union(data[f\"{nt}_inp\"].vals)).rctree_pd({'not': data[f\"{nt}_bra_out\"]}).unique() # intermediates/inputs not in bra_out."
   ]
  },
  {
   "cell_type": "markdown",
   "id": "82334267-b8e1-4604-8ab4-679d1ddc6618",
   "metadata": {
    "tags": []
   },
   "source": [
    "### 1.2. Technology part"
   ]
  },
  {
   "cell_type": "code",
   "execution_count": 10,
   "id": "1bce133e-f80a-4ccd-8f7b-4da416aa8746",
   "metadata": {},
   "outputs": [],
   "source": [
    "t = name"
   ]
  },
  {
   "cell_type": "markdown",
   "id": "ade881c6-fc7c-42fa-b14f-4f4e7776a46a",
   "metadata": {},
   "source": [
    "*Energy services are outputs from the technology tree. Technologies are intermediates.*"
   ]
  },
  {
   "cell_type": "code",
   "execution_count": 11,
   "id": "24b5f667-5bbd-47ff-80ed-46c3edf2d276",
   "metadata": {},
   "outputs": [],
   "source": [
    "tech[f\"{t}_ES\"] = out_from_map(tech['mu'].index)\n",
    "tech[f\"{t}_T\"] = int_from_map(tech['mu'].index, inp_from_map(tech['mu'].index))"
   ]
  },
  {
   "cell_type": "markdown",
   "id": "5cd4e572-327f-4c0f-8ee3-acea4b626f2b",
   "metadata": {},
   "source": [
    "*inp2T are the part of the mapping where knots are technologies. T2ES is the rest of the tech tree:*"
   ]
  },
  {
   "cell_type": "code",
   "execution_count": 12,
   "id": "45590176-e14f-4f30-9eff-7c32121ca446",
   "metadata": {},
   "outputs": [],
   "source": [
    "tech[f\"{t}_inp2T\"] = tech['mu'].rctree_pd({'not': tech[f\"{t}_T\"]}).index\n",
    "tech[f\"{t}_T2ES\"] = tech['mu'].rctree_pd(tech[f\"{t}_T\"]).index"
   ]
  },
  {
   "cell_type": "markdown",
   "id": "06bc68fe-71fd-4dbc-b0ef-8d60c244b9cc",
   "metadata": {},
   "source": [
    "*T2ESNorm picks out a single element in the mapping for each E:*"
   ]
  },
  {
   "cell_type": "code",
   "execution_count": 13,
   "id": "ac648964-1ecb-4848-b80f-f36178768699",
   "metadata": {},
   "outputs": [],
   "source": [
    "tech[f\"{t}_T2ESNorm\"] = pd.MultiIndex.from_frame(tech[f\"{t}_T2ES\"].vals.to_frame(index=False).drop_duplicates(subset='nn',keep='first'))"
   ]
  },
  {
   "cell_type": "markdown",
   "id": "f0db5a66-61f9-4bde-89ee-beb4ab2bddaa",
   "metadata": {
    "tags": []
   },
   "source": [
    "### 1.3. Aggregates"
   ]
  },
  {
   "cell_type": "markdown",
   "id": "31992747-88c3-4b50-af5c-23ada4b58348",
   "metadata": {},
   "source": [
    "*Inputs are defined by x2inp:*"
   ]
  },
  {
   "cell_type": "code",
   "execution_count": 14,
   "id": "c53b5ce4-383b-4347-bccb-a2a522258f42",
   "metadata": {},
   "outputs": [],
   "source": [
    "data[f\"{name}_inp\"] = data['x2inp'].vals.droplevel('n').unique().set_names(['s','n'])\n",
    "data[f\"{nt}_x\"] = data['x2inp'].vals.droplevel('nn').unique()"
   ]
  },
  {
   "cell_type": "markdown",
   "id": "6a7e73f2-681a-4f05-9b25-1e37b8dfebcc",
   "metadata": {},
   "source": [
    "*For the rest of the elements in the non-technology tree, expand x2inp to include (x,x) mappings:*"
   ]
  },
  {
   "cell_type": "code",
   "execution_count": 15,
   "id": "72f935a9-3e12-40e0-bc66-631948955556",
   "metadata": {},
   "outputs": [],
   "source": [
    "temp = gpy_symbol(data[f\"{nt}_inp\"].vals.union(data[f\"{nt}_int\"].vals)).rctree_pd({'not': gpy_symbol(data['x2inp'].vals.droplevel('nn'))}) # all intermediates or inputs in NT that are not in x2inp"
   ]
  },
  {
   "cell_type": "markdown",
   "id": "99b5620e-b8b2-4fd8-86a4-42496e4dfcff",
   "metadata": {},
   "source": [
    "*For the rest of the elements in the non-technology tree, expand x2inp to include (x,x) mappings:*"
   ]
  },
  {
   "cell_type": "code",
   "execution_count": 16,
   "id": "8add3fa1-acc7-439d-8df1-bc6e7514f828",
   "metadata": {},
   "outputs": [],
   "source": [
    "data[f\"{name}_x2inp\"] = data['x2inp'].vals.union(pd.MultiIndex.from_frame(temp.to_frame(index=False).assign(nn=temp.get_level_values('n')))).unique()"
   ]
  },
  {
   "cell_type": "markdown",
   "id": "55822a8b-f19b-4ff1-91dd-f5cb97da1bd8",
   "metadata": {},
   "source": [
    "*clean up namespace:*"
   ]
  },
  {
   "cell_type": "code",
   "execution_count": 17,
   "id": "51a16bdd-9481-48f3-b05e-916aac338f1a",
   "metadata": {},
   "outputs": [],
   "source": [
    "data[f\"{name}_dur\"] = data['dur'] # add specific name to durables\n",
    "[data.__delitem__(s) for s in ('x2inp','dur')]; # delete local copies"
   ]
  },
  {
   "cell_type": "markdown",
   "id": "0bdaf033-ced2-4ad2-9ddc-68ac5fa0f865",
   "metadata": {},
   "source": [
    "*Add/merge technology data*"
   ]
  },
  {
   "cell_type": "code",
   "execution_count": 18,
   "id": "4dd6e04b-84cf-4ac7-877e-457d2f1263fa",
   "metadata": {},
   "outputs": [],
   "source": [
    "DataBase.GPM_database.merge_dbs(data,tech,'second')"
   ]
  },
  {
   "cell_type": "markdown",
   "id": "d076d944-3a22-4a44-8958-deafbfec2603",
   "metadata": {},
   "source": [
    "*Define entire nesting tree map from share parameters:*"
   ]
  },
  {
   "cell_type": "code",
   "execution_count": 19,
   "id": "b806d991-bd14-4d5c-b067-6f35c9f67ba1",
   "metadata": {},
   "outputs": [],
   "source": [
    "data[f\"{name}_map\"] = data['mu'].index"
   ]
  },
  {
   "cell_type": "markdown",
   "id": "6bdd1fb0-9ca8-4a49-964f-d0f4bc0724c2",
   "metadata": {},
   "source": [
    "### 1.4. Initial values"
   ]
  },
  {
   "cell_type": "markdown",
   "id": "af96b731-eff1-460e-a0be-982a9c5f2426",
   "metadata": {},
   "source": [
    "*Compute $\\lambda$ from data given logit formula in paper:*"
   ]
  },
  {
   "cell_type": "code",
   "execution_count": 20,
   "id": "9309a778-42ec-4c73-9678-4f4699b8cd19",
   "metadata": {},
   "outputs": [],
   "source": [
    "Ts = gpy_symbol(data[f\"{name}_T2ESNorm\"].vals.droplevel('nn')) # relevant normalized T's\n",
    "T2E = data[f\"{name}_T2ESNorm\"].index.droplevel('s') # Map from T2E:\n",
    "data['lambda'] = (appmap_s(data['pD'].rctree_pd(Ts),T2E)+data['sigma'].rctree_pd(data[f\"{name}_ES\"])*appmap_s((data['qD'].rctree_pd(Ts)/(1-data['qD'].rctree_pd(Ts))).astype(float).apply(np.log), T2E)).rename('lambda')"
   ]
  },
  {
   "cell_type": "markdown",
   "id": "2490806b-0418-42be-8b61-a41a71bb8485",
   "metadata": {},
   "source": [
    "*Compute shadow values from logit formula:*"
   ]
  },
  {
   "cell_type": "code",
   "execution_count": 21,
   "id": "e82cf7ea-987e-4967-b25f-e4808a50ad7f",
   "metadata": {},
   "outputs": [],
   "source": [
    "Ts = gpy_symbol(gpy_symbol(data[f\"{name}_T2ES\"].vals.droplevel('nn')).rctree_pd({'not': Ts}))\n",
    "sigma_Tij = (data['sigma'].rctree_pd(data[f\"{name}_ES\"])*pd.Series(1, index = data[f\"{name}_T2ES\"].rctree_pd(Ts).set_names(['s','nn','n']))).droplevel('n').rename_axis(index={'nn':'n'})\n",
    "lambda_Tij = (data['lambda'].vals * pd.Series(1, index = data[f\"{name}_T2ES\"].rctree_pd(Ts).set_names(['s','nn','n']))).droplevel('n').rename_axis(index={'nn':'n'})\n",
    "logshare = (data['qD'].rctree_pd(Ts)/(1-data['qD'].rctree_pd(Ts))).astype(float).apply(np.log)\n",
    "shadowcosts = DataBase_wheels.mi.add_mi_series(data['pD'].rctree_pd(Ts)+sigma_Tij*logshare-lambda_Tij, data[\"V01_T2ES\"].rctree_pd(Ts),level='n').rename('mu')\n",
    "data['mu'].vals = shadowcosts.combine_first(data['mu'].vals)"
   ]
  },
  {
   "cell_type": "markdown",
   "id": "9a2780ac-fedd-4b4a-a11a-fb368315b9ae",
   "metadata": {},
   "source": [
    "*Compute share parameters on capital for technologies (this only works when there is one durable):*"
   ]
  },
  {
   "cell_type": "code",
   "execution_count": 22,
   "id": "bf392594-6b5f-4355-973d-8c0b00a94d3e",
   "metadata": {},
   "outputs": [],
   "source": [
    "K = data[f\"{name}_dur\"] # capital subset\n",
    "nK = gpy_symbol(data[f\"{name}_inp\"].rctree_pd({'not': data[f\"{name}_dur\"]})) # not capital, inputs\n",
    "inp2T_notK = gpy_symbol(data[f\"{name}_inp2T\"].rctree_pd(nK)) # mapping from inputs to technologies, not capital\n",
    "inp2T_K = gpy_symbol(data[f\"{name}_inp2T\"].rctree_pd(K)) # mapping from inputs to technologies, only capital\n",
    "costs_notK = (data['mu'].rctree_pd(inp2T_notK) * (data['pD'].rctree_pd(nK))).groupby(['s','nn']).sum().rename_axis(index={'nn':'n'}) # sum of costs related to non-capital inputs for each technology.\n",
    "mu_K = (pd.Series(1, index = data['mu'].rctree_pd(inp2T_K).index) * (((data['pD'].rctree_pd(data[f\"{name}_T\"])-costs_notK)/data['pD'].rctree_pd(K).droplevel('n')).rename_axis(index={'n':'nn'}))).rename('mu')\n",
    "if min(mu_K)<0:\n",
    "    warnings.warn(\"Technology and price data implies negative coefficients on capital.\")\n",
    "data['mu'].vals = mu_K.combine_first(data['mu'].vals)"
   ]
  },
  {
   "cell_type": "markdown",
   "id": "c93e14f5-9b0e-42b6-b8bd-f29d876f3c1c",
   "metadata": {},
   "source": [
    "*If prices are not read in from excel sheets, just set them to 1:*"
   ]
  },
  {
   "cell_type": "code",
   "execution_count": 23,
   "id": "fba1281e-ca6b-4e86-b15b-893c4737801a",
   "metadata": {},
   "outputs": [],
   "source": [
    "data['pS'] = pd.Series(1, index = data['qS'].index, name = 'pS')\n",
    "data['pD'] = data['pD'].vals.combine_first(pd.Series(1, index = unionlist([data[f\"{nt}_int\"].vals, data[f\"{name}_inp\"].vals, data[f\"{name}_ES\"].vals, data[f\"{name}_T\"].vals]), name = 'pD')) # if there is not entry yet, set 1"
   ]
  },
  {
   "cell_type": "markdown",
   "id": "468a3902-f5f1-4dd6-866a-c56bc75e59fb",
   "metadata": {},
   "source": [
    "*Compute the implied level of quantites of inputs used outside the technology trees:*\n",
    "1. *Compute the shares for each technology/input type:* $\\mu_l^{i,j}\\tau_i^j\\theta_i^j$\n",
    "2. *Map this to energy services, multiply by $E_j$ and sum.*\n",
    "3. *Define residual demand as initial levels used outside technology sector.*"
   ]
  },
  {
   "cell_type": "code",
   "execution_count": 24,
   "id": "c10428fd-0d63-407e-85a3-06c7c1f36fff",
   "metadata": {},
   "outputs": [],
   "source": [
    "inp_T = data['mu'].rctree_pd(data[f\"{name}_inp2T\"]).rename_axis(index=['s','nn','n'])* (data['qD'].rctree_pd(data[f\"{name}_T\"]) * data['theta'].vals) # step 1.\n",
    "qD_Tech = (appmap_s(inp_T,data[f\"{name}_T2ES\"].vals.droplevel('s'))*data['qD'].rctree_pd(data[f\"{name}_ES\"])).groupby(['s','nn']).sum()\n",
    "res_demand = (data['qD'].rctree_pd(data[f\"{name}_inp\"])-qD_Tech.rename_axis(['s','n'])).rename_axis(['s','nn'])\n",
    "if min(res_demand)<=0:\n",
    "    warnings.warn(\"Inputs used in technology nests and total sector inputs implies negative demand outside technology nests.\")\n",
    "data['qD'].vals = appmap_s(res_demand, data[f\"{name}_x2inp\"].vals.droplevel('s'),add_new_name=True).rename('qD').combine_first(data['qD'].vals)"
   ]
  },
  {
   "cell_type": "markdown",
   "id": "d206d50a-ed4a-48c6-a61f-eed7b9e6fece",
   "metadata": {},
   "source": [
    "*Set up database and export*"
   ]
  },
  {
   "cell_type": "code",
   "execution_count": 25,
   "id": "b81acd7c-be69-41a5-890a-1f0eb5b9a8a9",
   "metadata": {},
   "outputs": [],
   "source": [
    "db = DataBase.GPM_database(alias = pd.MultiIndex.from_tuples([('n','nn'),('n','nnn')]), **{'name': f\"{name}_DB\", 'data_folder': directory['data']})\n",
    "db.merge_dbs(db.series, data, 'second') # add data \n",
    "db.update_all_sets(types=['variable','parameter','mapping']) # read definition of 's','n' from what appears in data\n",
    "db.export()"
   ]
  }
 ],
 "metadata": {
  "kernelspec": {
   "display_name": "Python 3 (ipykernel)",
   "language": "python",
   "name": "python3"
  },
  "language_info": {
   "codemirror_mode": {
    "name": "ipython",
    "version": 3
   },
   "file_extension": ".py",
   "mimetype": "text/x-python",
   "name": "python",
   "nbconvert_exporter": "python",
   "pygments_lexer": "ipython3",
   "version": "3.9.7"
  }
 },
 "nbformat": 4,
 "nbformat_minor": 5
}
