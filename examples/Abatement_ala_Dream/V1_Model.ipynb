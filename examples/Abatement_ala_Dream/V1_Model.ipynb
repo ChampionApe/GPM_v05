{
 "cells": [
  {
   "cell_type": "code",
   "execution_count": 1,
   "id": "0b4114f3-8ed5-4edd-96b0-a492484abd5a",
   "metadata": {},
   "outputs": [],
   "source": [
    "clean_up=True # removes gams-related files in work-folder if true\n",
    "%run StdPackages.ipynb\n",
    "name = 'V01'\n",
    "directory['gams'] = directory['gams']+'\\\\'+name\n",
    "OS = DB2Gams.OrdSet"
   ]
  },
  {
   "cell_type": "markdown",
   "id": "67e3e20a-0ef5-4765-9db3-38746df15b4d",
   "metadata": {
    "tags": []
   },
   "source": [
    "# Partial equilibrium model with technologies, v 0.1 [(link to paper)](https://www.overleaf.com/read/stkxjdbsyzjq)"
   ]
  },
  {
   "cell_type": "markdown",
   "id": "6db86147-7e41-43df-aa50-de501c8c6938",
   "metadata": {},
   "source": [
    "*Load data from ```V1_Data.ipynb```*"
   ]
  },
  {
   "cell_type": "code",
   "execution_count": 2,
   "id": "09e59880-084e-4788-8cc0-829d4f390571",
   "metadata": {},
   "outputs": [],
   "source": [
    "db = DataBase.GPM_database(pickle_path = directory['data']+f\"\\\\{name}_DB\")"
   ]
  },
  {
   "cell_type": "markdown",
   "id": "29d8971f-63c5-415f-99db-21b34663a0ff",
   "metadata": {
    "tags": []
   },
   "source": [
    "## 2: Models"
   ]
  },
  {
   "cell_type": "markdown",
   "id": "5b5059c9-628c-4949-827d-42f0ca90f26b",
   "metadata": {},
   "source": [
    "We define four potential model states, each constitutes a square system. All groups that are not included in \"endogenous\" groups are per default exogenous; thus, we are mostly interested in specifying the right endogenous groups and models.\n",
    "* \"B\": The model is solved as if already calibrated.\n",
    "    * Endogenous groups: ```G_{name}_NT_endo_always```, ```G_{name}_NT_endo_base```, ```G_{name}_T_endo_always```, ```G_{name}_T_endo_base```, ```G_{name}_ACC_endo_base```.\n",
    "    * Exogenous groups : ```G_{name}_NT_exo_always``` , ```G_{name}_NT_exo_base``` , ```G_{name}_T_exo_always```, ```G_{name}_T_exo_base```.\n",
    "    * Models blocks: ```M_{name}_NT```, ```M_{name}_T_always```,```M_{name}_T_base```, ```M_{name}_ACC```.\n",
    "* \"CalibTech\": The model calibrates the technology part.\n",
    "    * Endogenous groups: ```G_{name}_T_endo_always```, ```G_{name}_T_exo_base```.\n",
    "    * Exogenous groups : ```G_{name}_T_exo_always```, ```G_{name}_T_endo_base```, ```G_{name}_NT_exo_always```.\n",
    "    * Model blocks: ```M_{name}_T_always```. (Note that the block ```M_{name}_T_base``` is implied if calibration data is consistent)\n",
    "* \"CalibGivenT\": The model assumes technology part is calibrated, and calibrates the rest of the model.\n",
    "    * Endogenous groups: ```G_{name}_NT_endo_always```, ```G_{name}_NT_exo_base```\n",
    "    * Exogenous groups: ```G_{name}_NT_exo_always```, ```G_{name}_NT_endo_base```, ```G_{name}_ACC_endo_base```, ```G_{name}_T_exo_always```, ```G_{name}_T_exo_base```, ```G_{name}_T_endo_base```.\n",
    "    * Model blocks: ```M_{name}_NT```, ```M_{name}_ACC```.\n",
    "* \"CalibAll\": The model calibrates both parts simultanoeusly:\n",
    "    * Endogenous groups: ```G_{name}_NT_endo_always```, ```G_{name}_NT_exo_base```, ```G_{name}_T_endo_always```, ```G_{name}_T_exo_base```.\n",
    "    * Exogenous groups: Residual.\n",
    "    * Model blocks: ```M_{name}_NT```, ```M_{name}_T_always```, ```M_{name}_ACC```."
   ]
  },
  {
   "cell_type": "markdown",
   "id": "7beadff6-e14d-48a7-93a4-649028e2f19f",
   "metadata": {},
   "source": [
    "### 2.1. Settings"
   ]
  },
  {
   "cell_type": "markdown",
   "id": "c567530d-b232-4c52-bc16-2293232ec4c1",
   "metadata": {},
   "source": [
    "*All files, functions, groups, blocks:*"
   ]
  },
  {
   "cell_type": "code",
   "execution_count": 3,
   "id": "9af9f1b5-955d-45c6-9ffc-0d6fc418fffc",
   "metadata": {},
   "outputs": [],
   "source": [
    "files = {f\"{name}_{k}.gms\": directory['gams'] for k in ('groups','blocks')}\n",
    "functions = {f\"{name}_functions.gms\": directory['gams']}\n",
    "groups = OS(regex_gms.groups_from_file(directory['gams']+f\"\\\\{name}_groups.gms\"))\n",
    "blocks = OS(regex_gms.blocks_from_file(directory['gams']+f\"\\\\{name}_blocks.gms\"))"
   ]
  },
  {
   "cell_type": "markdown",
   "id": "7b9f261d-7166-4fc1-80d4-500bf6f95cbf",
   "metadata": {},
   "source": [
    "*Model settings: Set endogenous groups, blocks, and exogenous groups for all four*"
   ]
  },
  {
   "cell_type": "code",
   "execution_count": 4,
   "id": "383425de-3c4d-443a-b0bb-4b26cc1d6c38",
   "metadata": {},
   "outputs": [],
   "source": [
    "B = {'name': \"B\",\n",
    "     'g_endo': OS([f\"G_{name}_NT_endo_always\", f\"G_{name}_NT_endo_base\", f\"G_{name}_T_endo_always\", f\"G_{name}_T_endo_base\", f\"G_{name}_ACC_endo_base\"]),\n",
    "     'blocks': blocks}\n",
    "B['g_exo'] = groups-B['g_endo']\n",
    "\n",
    "CT = {'name': f\"CalibTech\",\n",
    "      'g_endo': OS([f\"G_{name}_T_endo_always\", f\"G_{name}_T_exo_base\"]),\n",
    "      'blocks': OS([f\"M_{name}_T_always\"])}\n",
    "CT['g_exo'] = groups-CT['g_endo']\n",
    "\n",
    "CgT = {'name':f\"CalibGivenT\",\n",
    "       'g_endo': OS([f\"G_{name}_NT_endo_always\", f\"G_{name}_NT_exo_base\"]),\n",
    "       'blocks': blocks-CT['blocks']-OS([f\"M_{name}_T_base\"])}\n",
    "CgT['g_exo'] = groups-CgT['g_endo']\n",
    "\n",
    "CA = {'name': f\"CalibAll\",\n",
    "      'g_endo' : OS([f\"G_{name}_NT_endo_always\", f\"G_{name}_NT_exo_base\", f\"G_{name}_T_endo_always\", f\"G_{name}_T_exo_base\"]),\n",
    "      'blocks': blocks-OS([f\"M_{name}_T_base\"])}\n",
    "CA['g_exo'] = groups-CA['g_endo']"
   ]
  },
  {
   "cell_type": "markdown",
   "id": "f306cd4c-3c2b-4016-a08d-e8d1b97b9c22",
   "metadata": {},
   "source": [
    "*Set up ```gams_settings``` with the four states*"
   ]
  },
  {
   "cell_type": "code",
   "execution_count": 5,
   "id": "ee2fb29f-fc8d-4160-8fa2-e42f38ed1b0d",
   "metadata": {},
   "outputs": [],
   "source": [
    "gs = DB2Gams.gams_settings(work_folder = directory['work'], **{'name':name, 'data_folder': directory['gams']})\n",
    "for s in (B,CT,CgT,CA):\n",
    "    gs.conf[s['name']] = gs.std_configuration(state=s['name'])\n",
    "    [gs.conf[s['name']].__setitem__(k, s[k]) for k in ('g_endo','g_exo','blocks')];\n",
    "gs.functions = functions\n",
    "gs.mfiles = files"
   ]
  },
  {
   "cell_type": "markdown",
   "id": "5319e8f9-71d2-4c20-b37a-27bb00c832fe",
   "metadata": {},
   "source": [
    "*Set up ```gams_model_py```:*"
   ]
  },
  {
   "cell_type": "code",
   "execution_count": 6,
   "id": "627dec66-9333-4761-9bbd-56a8d683ad02",
   "metadata": {},
   "outputs": [],
   "source": [
    "gm_py = DB2Gams.gams_model_py(gsettings=gs)"
   ]
  },
  {
   "cell_type": "markdown",
   "id": "b4ca1c77-5df1-40a4-94fe-e443780f54fd",
   "metadata": {},
   "source": [
    "*Add data:*"
   ]
  },
  {
   "cell_type": "code",
   "execution_count": 7,
   "id": "d75bbe0c-3b62-470d-adfd-c6da9e06b459",
   "metadata": {},
   "outputs": [],
   "source": [
    "gs.add_database(db) # add data\n",
    "gm_py.database.merge_internal() # write to a gdx file in the working directory"
   ]
  },
  {
   "cell_type": "markdown",
   "id": "d68bfc16-bdfa-4429-85e9-4354b25d3038",
   "metadata": {},
   "source": [
    "*apply standard settings:*"
   ]
  },
  {
   "cell_type": "code",
   "execution_count": 8,
   "id": "1c7069df-1641-4d20-b85a-8432ec801749",
   "metadata": {},
   "outputs": [],
   "source": [
    "apply_settings(gm_py)"
   ]
  },
  {
   "cell_type": "markdown",
   "id": "2da006ff-2e6f-410d-8e52-f33fe2c686f8",
   "metadata": {},
   "source": [
    "### 2.2. Run/execute model"
   ]
  },
  {
   "cell_type": "markdown",
   "id": "263cc65e-33cd-4dd6-870a-16c86fd324bb",
   "metadata": {},
   "source": [
    "Set up model from settings:"
   ]
  },
  {
   "cell_type": "code",
   "execution_count": 9,
   "id": "fb84ee5e-a160-44a4-806c-3289b6e82d21",
   "metadata": {},
   "outputs": [],
   "source": [
    "gm = DB2Gams.gams_model(gsettings = gs)"
   ]
  },
  {
   "cell_type": "markdown",
   "id": "286d8835-fcb0-4cfe-b93c-840f6eda82b7",
   "metadata": {},
   "source": [
    "We can run the model in various ways now, by setting the relevant state. Can set to {```\"B\"```, ```\"TroubleShoot_B\"```, ```\"CalibTech\"```. ```\"CT_CgT\"```, ```\"TroubleShoot_CT_CgT\"```}. If we change ```robust = True``` calibration methods will use a ```sneaky_solve``` method that takes a bit longer, but is more likely to work. "
   ]
  },
  {
   "cell_type": "code",
   "execution_count": 22,
   "id": "0dc5aa64-1907-4366-8c5f-342caaf80fc7",
   "metadata": {},
   "outputs": [],
   "source": [
    "runlike = \"CT_CgT\"\n",
    "robust = False"
   ]
  },
  {
   "cell_type": "markdown",
   "id": "743a1925-b405-482b-967f-e31ae4786d01",
   "metadata": {},
   "source": [
    "Different run modes:"
   ]
  },
  {
   "cell_type": "markdown",
   "id": "65471c17-0fe0-49dc-b6e0-66c5f029ec8f",
   "metadata": {},
   "source": [
    "#### 2.2.1. Baseline"
   ]
  },
  {
   "cell_type": "markdown",
   "id": "feaaaff2-90bf-4298-aec4-f5fcaef5e483",
   "metadata": {},
   "source": [
    "Solve the full model in baseline mode:"
   ]
  },
  {
   "cell_type": "code",
   "execution_count": 11,
   "id": "8505a9ba-b157-481d-b191-c99727dfae9b",
   "metadata": {},
   "outputs": [],
   "source": [
    "if runlike == \"B\":\n",
    "    # gm.setstate = 'B' # default setting is 'B'.\n",
    "    gm.run()"
   ]
  },
  {
   "cell_type": "markdown",
   "id": "10b0c34a-c3b5-48d8-966e-b0eb59ce5827",
   "metadata": {},
   "source": [
    "#### 2.2.2. Baseline, troubleshoot"
   ]
  },
  {
   "cell_type": "markdown",
   "id": "7bdd4e81-c645-4872-837b-7131fc7e0797",
   "metadata": {},
   "source": [
    "If the baseline model is not square, solve a trivial NLP problem instead:"
   ]
  },
  {
   "cell_type": "code",
   "execution_count": 12,
   "id": "c4e3b9a8-1b0f-4204-bffc-f7d391fa1b55",
   "metadata": {},
   "outputs": [],
   "source": [
    "if runlike == \"TroubleShoot_B\":\n",
    "    gs.set_conf('solve',f\"\"\"@SolveEmptyNLP({gs.get_conf('name')})\"\"\") # use to troubleshoot non-square system; solve model as NLP.\n",
    "    gm.run()"
   ]
  },
  {
   "cell_type": "markdown",
   "id": "18acab2e-076c-4aa3-b0c3-a8454b73a793",
   "metadata": {},
   "source": [
    "#### 2.2.3. Calibrate technology part"
   ]
  },
  {
   "cell_type": "code",
   "execution_count": 13,
   "id": "5cceca10-fa39-4bd7-b262-4e299086fc85",
   "metadata": {},
   "outputs": [],
   "source": [
    "if runlike == \"CalibTech\":\n",
    "    gs.setstate = \"CalibTech\"\n",
    "    gm.run()"
   ]
  },
  {
   "cell_type": "markdown",
   "id": "f314544e-3f22-489d-b74a-f4306d535a6d",
   "metadata": {},
   "source": [
    "Inspect potential differences (if the technology type is \"logit\", the ```V1_Data.ipynb``` should have already calibrated the model):"
   ]
  },
  {
   "cell_type": "code",
   "execution_count": 14,
   "id": "1bdc5e33-3f68-428a-97e6-be79f8ce8152",
   "metadata": {},
   "outputs": [],
   "source": [
    "if runlike == \"CalibTech\":\n",
    "    var = 'mu'\n",
    "    diff = (gm.out_db.get(var)-db.get(var)).astype(float).round(decimals = 7)\n",
    "    diff_neq0 = diff[diff!=0]\n",
    "    if diff_neq0.empty:\n",
    "        print(f\"No changes were made to {var} in calibration\")\n",
    "    else:\n",
    "        pd.DataFrame({'Calibrated': gm.out_db.get(var)[gm.out_db.get(var).index.isin(diff_neq0.index)], 'Before': db.get(var)[db.get(var).index.isin(diff_neq0.index)]}).plot.bar(figsize=(8,6));"
   ]
  },
  {
   "cell_type": "markdown",
   "id": "da4de17d-5a07-414d-83ec-5438e46872fc",
   "metadata": {},
   "source": [
    "#### 2.2.4. Calibrate technology part, then calibrate the rest:"
   ]
  },
  {
   "cell_type": "markdown",
   "id": "080f60a0-f40f-4bb4-938b-47a4b3536bfc",
   "metadata": {},
   "source": [
    "Get the relevant text used to define models/groups to run in state \"CalibGivenT\":"
   ]
  },
  {
   "cell_type": "code",
   "execution_count": 15,
   "id": "24e350b8-a94d-4141-a31a-bcadfe2e478d",
   "metadata": {},
   "outputs": [],
   "source": [
    "if runlike == \"CT_CgT\":\n",
    "    gs.setstate = \"CalibGivenT\"\n",
    "    text_CgT = DB2Gams.run_text(**{k:gs.get_conf(k) for k in ('g_exo','g_endo','blocks','name','solve')}) # store text used to change model state and re-run solve statement"
   ]
  },
  {
   "cell_type": "markdown",
   "id": "63df35c9-5bc7-4582-870a-176fea332093",
   "metadata": {},
   "source": [
    "Set the state to \"CalibTech\" and solve first in this state, and add the text ```text_CgT``` to the end of the program:"
   ]
  },
  {
   "cell_type": "code",
   "execution_count": 16,
   "id": "1ee53c9f-c7d6-40f5-81b6-12c279cdc4cd",
   "metadata": {},
   "outputs": [],
   "source": [
    "if runlike == \"CT_CgT\":\n",
    "    gs.setstate = \"CalibTech\"\n",
    "    gm.run(kwargs_write={'end': text_CgT}) # kwargs_write makes ad-hoc adjustments to the automated run_file produced by gm. The 'end' keyword states that the adjustment is made in the end."
   ]
  },
  {
   "cell_type": "markdown",
   "id": "072be439-c700-4e0e-8fc3-6027df5a93ef",
   "metadata": {
    "tags": []
   },
   "source": [
    "#### 2.2.5. Troubleshoot version:"
   ]
  },
  {
   "cell_type": "markdown",
   "id": "b28eeeae-32dc-4e54-bf93-1fd2d3d2805a",
   "metadata": {},
   "source": [
    "Get the relevant text used to define models/groups to run in state \"CalibGivenT\"; add that instead of solving in this state, define a trivial NLP block:"
   ]
  },
  {
   "cell_type": "code",
   "execution_count": 17,
   "id": "f45849d9-8d64-4f35-a5a1-23989d639a76",
   "metadata": {},
   "outputs": [],
   "source": [
    "if runlike == \"TroubleShoot_CT_CgT\":\n",
    "    gs.setstate = \"CalibGivenT\"\n",
    "    gs.set_conf('solve',f\"\"\"@SolveEmptyNLP({gs.get_conf('name')})\"\"\") # use to troubleshoot non-square system; solve model as NLP.\n",
    "    text_CgT = DB2Gams.run_text(**{k:gs.get_conf(k) for k in ('g_exo','g_endo','blocks','name','solve')}) # store text used to change model state and re-run solve statement"
   ]
  },
  {
   "cell_type": "markdown",
   "id": "194479c3-c3e3-42c2-9523-ba038442b327",
   "metadata": {},
   "source": [
    "Set the state to \"CalibTech\" and solve first in this state, and add the text ```text_CgT``` to the end of the program:"
   ]
  },
  {
   "cell_type": "code",
   "execution_count": 18,
   "id": "cdc5962b-811e-4e17-919e-f223b594ddee",
   "metadata": {},
   "outputs": [],
   "source": [
    "if runlike == \"TroubleShoot_CT_CgT\":\n",
    "    gs.setstate = \"CalibTech\"\n",
    "    gm.run(kwargs_write={'end': text_CgT}) # kwargs_write makes ad-hoc adjustments to the automated run_file produced by gm. The 'end' keyword states that the adjustment is made in the end."
   ]
  }
 ],
 "metadata": {
  "kernelspec": {
   "display_name": "Python 3 (ipykernel)",
   "language": "python",
   "name": "python3"
  },
  "language_info": {
   "codemirror_mode": {
    "name": "ipython",
    "version": 3
   },
   "file_extension": ".py",
   "mimetype": "text/x-python",
   "name": "python",
   "nbconvert_exporter": "python",
   "pygments_lexer": "ipython3",
   "version": "3.9.7"
  }
 },
 "nbformat": 4,
 "nbformat_minor": 5
}
