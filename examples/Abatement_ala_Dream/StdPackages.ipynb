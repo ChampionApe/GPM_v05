{
 "cells": [
  {
   "cell_type": "markdown",
   "id": "654f6c91-a02f-46a7-90fa-a8720df67724",
   "metadata": {},
   "source": [
    "*Packages + directory structure:*"
   ]
  },
  {
   "cell_type": "code",
   "execution_count": 1,
   "id": "e987f5e8-6715-4c16-b4af-324c256efe86",
   "metadata": {},
   "outputs": [],
   "source": [
    "import os, sys, numpy as np, pickle, pandas as pd, math, matplotlib as mpl, matplotlib.pyplot as plt, seaborn, warnings\n",
    "repo = 'GPM_v05'\n",
    "directory = {'curr': os.getcwd(),\n",
    "             'main': os.getcwd().split(repo)[0]+repo}\n",
    "directory.update({'py': directory['main']+'\\\\py_main',\n",
    "                  'work': directory['main']+'\\\\work_folder',\n",
    "                  'data': os.getcwd()+'\\\\Data',\n",
    "                  'gams': os.getcwd()+'\\\\gamsmodels'})\n",
    "os.chdir(directory['py'])\n",
    "import DataBase, DataBase_wheels, nesting_tree, DB2Gams, excel2py, regex_gms\n",
    "from DataBase import gpy_symbol\n",
    "os.chdir(directory['curr'])"
   ]
  },
  {
   "cell_type": "code",
   "execution_count": 2,
   "id": "6e0f1f46-b547-44ea-ad07-eb701dec6555",
   "metadata": {},
   "outputs": [
    {
     "name": "stdout",
     "output_type": "stream",
     "text": [
      "No clean-up of work-folder\n"
     ]
    }
   ],
   "source": [
    "try:\n",
    "    if clean_up is True:\n",
    "        temp_gamsdb = [filename for filename in os.listdir(directory['work']) if filename.endswith((\".gdx\",\".gms\",\".lst\",\".g00\",\".pf\",\".opt\",\".gmy\"))]\n",
    "        for temp in temp_gamsdb:\n",
    "            try:\n",
    "                os.remove(directory['work']+'\\\\'+temp)\n",
    "            except OSError as err:\n",
    "                print('The file' + temp + ' is still active and was not deleted.')\n",
    "except NameError:\n",
    "    print('No clean-up of work-folder')"
   ]
  },
  {
   "cell_type": "markdown",
   "id": "59616f2b-e4d9-477e-b985-3a8fe7cc6c0a",
   "metadata": {},
   "source": [
    "*Simple routines for running setting up some models:*"
   ]
  },
  {
   "cell_type": "code",
   "execution_count": 2,
   "id": "29011182-c6f7-46fb-9d2f-8016746bc8d7",
   "metadata": {},
   "outputs": [],
   "source": [
    "def sort_blocks_last(d):\n",
    "    return {**{k:v for k,v in d.items() if not k.endswith('blocks.gms')}, **d}"
   ]
  },
  {
   "cell_type": "code",
   "execution_count": 3,
   "id": "526238b1-0d76-4253-b1c0-0a92647ed97c",
   "metadata": {},
   "outputs": [],
   "source": [
    "def apply_settings(gmodel):\n",
    "    gmodel.groups = {k:k for k in gmodel.settings.get_conf('g_endo').union(gmodel.settings.get_conf('g_exo'))}\n",
    "    [gmodel.settings.files.__setitem__(k,v) for k,v in gmodel.settings.functions.items()];\n",
    "    write_to_db = [k for k,v in gmodel.settings.databases.items() if v == gmodel.database][0]\n",
    "    with open(gmodel.settings.data_folder+'\\\\'+gmodel.settings.name+'_sets.gms',\"w\") as file:\n",
    "        [file.writelines(c) for c in [gmodel.write_sets(), gmodel.write_aliased_sets(), gmodel.write_sets_other(), gmodel.write_sets_load(write_to_db), \n",
    "                                      gmodel.write_parameters(),gmodel.write_parameters_load(write_to_db)]];\n",
    "    gmodel.settings.files[gmodel.settings.name+'_sets.gms'] = gmodel.settings.data_folder\n",
    "    gmodel.settings.files.update(gmodel.settings.mfiles)\n",
    "    with open(gmodel.settings.data_folder+'\\\\'+gmodel.settings.name+'_groupsload.gms', \"w\") as file:\n",
    "        [file.writelines(c) for c in [gmodel.write_groups_load(write_to_db)]];\n",
    "    gmodel.settings.files[gmodel.settings.name+'_groupsload.gms'] = gmodel.settings.data_folder"
   ]
  },
  {
   "cell_type": "markdown",
   "id": "96c815f7-9d73-4f47-a0c9-6f56349f1999",
   "metadata": {},
   "source": [
    "*Merge extra attributes:*"
   ]
  },
  {
   "cell_type": "code",
   "execution_count": 4,
   "id": "9a5bbaaa-56aa-4644-ab2b-bfca9eabab60",
   "metadata": {},
   "outputs": [],
   "source": [
    "def merge_list_of_settings_extra(gsettings,ls):\n",
    "    gsettings.functions = {k:v for s in ls for k,v in s.functions.items()}\n",
    "    gsettings.mfiles = sort_blocks_last({k:v for s in ls for k,v in s.mfiles.items()})"
   ]
  },
  {
   "cell_type": "markdown",
   "id": "8cca348e-92e0-4f42-a012-58816a6e6d75",
   "metadata": {},
   "source": [
    "*Plottings:*"
   ]
  },
  {
   "cell_type": "code",
   "execution_count": 1,
   "id": "dd3271c6-aba3-45f5-baef-d36c7349d9ad",
   "metadata": {},
   "outputs": [],
   "source": [
    "%matplotlib inline\n",
    "plt.style.use('seaborn-whitegrid')\n",
    "mpl.style.use('seaborn')\n",
    "plt.rcParams['font.family'] = 'Palatino Linotype'\n",
    "prop_cycle = plt.rcParams[\"axes.prop_cycle\"]\n",
    "colors = prop_cycle.by_key()[\"color\"]\n",
    "long_colors = ['#1f78b4','#a6cee3','#b2df8a','#33a02c','#fb9a99','#e31a1c','#fdbf6f','#ff7f00','#cab2d6','#6a3d9a','#ffff99','#b15928']"
   ]
  },
  {
   "cell_type": "code",
   "execution_count": 2,
   "id": "cb207121-1a63-4ff9-a6d7-fc3096eab2a2",
   "metadata": {},
   "outputs": [],
   "source": [
    "def one_graph():\n",
    "    SMALL_SIZE = 16\n",
    "    MEDIUM_SIZE = 19\n",
    "    BIGGER_SIZE = 22\n",
    "    plt.rc('font', size=SMALL_SIZE)          # controls default text sizes\n",
    "    plt.rc('axes', titlesize=BIGGER_SIZE)     # fontsize of the axes title\n",
    "    plt.rc('axes', labelsize=MEDIUM_SIZE)    # fontsize of the x and y labels\n",
    "    plt.rc('xtick', labelsize=SMALL_SIZE)    # fontsize of the tick labels\n",
    "    plt.rc('ytick', labelsize=SMALL_SIZE)    # fontsize of the tick labels\n",
    "    plt.rc('legend', fontsize=SMALL_SIZE)    # legend fontsize\n",
    "    plt.rc('figure', titlesize=BIGGER_SIZE)  # fontsize of the figure title\n",
    "def mult_graphs():\n",
    "    SMALL_SIZE = 13\n",
    "    MEDIUM_SIZE = 16\n",
    "    BIGGER_SIZE = 19\n",
    "    plt.rc('font', size=SMALL_SIZE)          # controls default text sizes\n",
    "    plt.rc('axes', titlesize=BIGGER_SIZE)     # fontsize of the axes title\n",
    "    plt.rc('axes', labelsize=MEDIUM_SIZE)    # fontsize of the x and y labels\n",
    "    plt.rc('xtick', labelsize=SMALL_SIZE)    # fontsize of the tick labels\n",
    "    plt.rc('ytick', labelsize=SMALL_SIZE)    # fontsize of the tick labels\n",
    "    plt.rc('legend', fontsize=SMALL_SIZE)    # legend fontsize\n",
    "    plt.rc('figure', titlesize=BIGGER_SIZE)  # fontsize of the figure title    "
   ]
  }
 ],
 "metadata": {
  "kernelspec": {
   "display_name": "Python 3 (ipykernel)",
   "language": "python",
   "name": "python3"
  },
  "language_info": {
   "codemirror_mode": {
    "name": "ipython",
    "version": 3
   },
   "file_extension": ".py",
   "mimetype": "text/x-python",
   "name": "python",
   "nbconvert_exporter": "python",
   "pygments_lexer": "ipython3",
   "version": "3.9.7"
  }
 },
 "nbformat": 4,
 "nbformat_minor": 5
}
