{
 "cells": [
  {
   "cell_type": "code",
   "execution_count": 2,
   "metadata": {},
   "outputs": [
    {
     "name": "stdout",
     "output_type": "stream",
     "text": [
      "The file_gams_py_gdb0.gdx is still active and was not deleted.\n",
      "The file_gams_py_gdb3.gdx is still active and was not deleted.\n"
     ]
    }
   ],
   "source": [
    "clean_up=True # removes gams-related files in work-folder if true\n",
    "%run StdPackages.ipynb\n",
    "os.chdir(py['main'])\n",
    "import global_settings,ReadData,ShockFunction,Production,Household,GE,Invest,Trade,Government,diagnostics\n",
    "from DataBase_wheels import small_updates\n",
    "os.chdir(curr)\n",
    "data_folder = os.getcwd()+'\\\\Data\\\\IO'\n",
    "gams_folder = os.getcwd()+'\\\\gamsmodels\\\\GE'"
   ]
  },
  {
   "cell_type": "markdown",
   "metadata": {},
   "source": [
    "# Set up a dynamic, general equilibrium model"
   ]
  },
  {
   "cell_type": "markdown",
   "metadata": {},
   "source": [
    "*The current general equilibrium model is a small open economy that features exogenous long run interest-, inflation-, and growth rates. These settings are defined in the global settings:*"
   ]
  },
  {
   "cell_type": "code",
   "execution_count": 3,
   "metadata": {},
   "outputs": [],
   "source": [
    "name = 'GE'\n",
    "gs_v = 'gs_v1'\n",
    "tindex = range(1,4)\n",
    "gs_vals = {'t':tindex}\n",
    "gs = global_settings.gs_v1(kwargs_vals=gs_vals)"
   ]
  },
  {
   "cell_type": "markdown",
   "metadata": {},
   "source": [
    "## **1: Setup**"
   ]
  },
  {
   "cell_type": "markdown",
   "metadata": {},
   "source": [
    "The fundamental setup:\n",
    "* The model consists of three fundamental sets that most equations/variables are defined over: (1) $n$ the set of goods in the economy, (2) $s$ the set of sectors, $t$ the time index.\n",
    "* We distinguish between prices of various sorts $(PbT,Peq,PwT)$, quantities $(qS,qD)$, and values $(vD,vS)$. Beyond this, a number of other variables are additionally used in various modules.\n",
    "* Market clearing ensures that the sum of supply equals the sum of supply, for a subset of goods $n$. As goods can be demanded/supplied by more than one sector, the market clearing condition is:\n",
    "$$\\begin{align}\n",
    "    \\sum_{s\\in d\\_qS[s,n]} qS[t,s,n] = \\sum_{s\\in d\\_qD[s,n]} qD[t,s,n],\n",
    "\\end{align}$$\n",
    "where $d\\_qS$ and $d\\_qD$ are dummies identifying which sectors are active for the relevant good."
   ]
  },
  {
   "cell_type": "markdown",
   "metadata": {},
   "source": [
    "## **2: Data**"
   ]
  },
  {
   "cell_type": "markdown",
   "metadata": {},
   "source": [
    "The relevant data needed to run each module may vary. However, in general, the general equilibrium module should be adjusted to be consistent with input-output data. In a single year, the IO baseline data should at least cover:\n",
    "* The equilibrium price for all traded goods.\n",
    "* The inputs/outputs in values for each domestic sector, for each type of goods. The system must be balanced, such that the sum of demand equals the sum of supply for each $s$.\n",
    "\n",
    "The following reads in the IO data and defines a number of default subsets:"
   ]
  },
  {
   "cell_type": "code",
   "execution_count": 4,
   "metadata": {},
   "outputs": [],
   "source": [
    "dsheets = {'Production_v': data_folder+'\\\\IO_v.xlsx', 'Production_p': data_folder+'\\\\IO_p.xlsx'}\n",
    "GE_data = ReadData.read_data.main(dsheets,name='GE_data',components=['domstic','trade','HH','tax','invest'])"
   ]
  },
  {
   "cell_type": "markdown",
   "metadata": {},
   "source": [
    "To the IO data, we add inventory data on durables:"
   ]
  },
  {
   "cell_type": "code",
   "execution_count": 5,
   "metadata": {},
   "outputs": [],
   "source": [
    "DataBase.GPM_database.merge_dbs(GE_data,excel2py.xl2PM.pm_from_workbook(data_folder+'\\\\'+'dur.xlsx',{k: 'vars' for k in ('prod','HH','G')}),'second')"
   ]
  },
  {
   "cell_type": "markdown",
   "metadata": {},
   "source": [
    "Furthermore, we read in data on tax rates:"
   ]
  },
  {
   "cell_type": "code",
   "execution_count": 6,
   "metadata": {},
   "outputs": [],
   "source": [
    "DataBase.GPM_database.merge_dbs(GE_data,excel2py.xl2PM.pm_from_workbook(data_folder+'\\\\'+'Tax.xlsx',{'tbaseyear': 'vars'}),'second')"
   ]
  },
  {
   "cell_type": "markdown",
   "metadata": {},
   "source": [
    "Note that - while not necessary - the tax rates should be of a size such that the total tax revenue corresponds to the income from the IO data; the government module can adjust some tax rates to ensure this, however, this will be in a somwhat random fashion. To check for this assertion, the following IO function computes the tax income on sectorial level, when tax rates consists of three componenets: Input taxes $tauD$, output taxes $tauSflat$ and lump sum taxes $tauLump$:"
   ]
  },
  {
   "cell_type": "code",
   "execution_count": 7,
   "metadata": {},
   "outputs": [
    {
     "data": {
      "text/html": [
       "<div>\n",
       "<style scoped>\n",
       "    .dataframe tbody tr th:only-of-type {\n",
       "        vertical-align: middle;\n",
       "    }\n",
       "\n",
       "    .dataframe tbody tr th {\n",
       "        vertical-align: top;\n",
       "    }\n",
       "\n",
       "    .dataframe thead th {\n",
       "        text-align: right;\n",
       "    }\n",
       "</style>\n",
       "<table border=\"1\" class=\"dataframe\">\n",
       "  <thead>\n",
       "    <tr style=\"text-align: right;\">\n",
       "      <th></th>\n",
       "      <th>Model</th>\n",
       "      <th>IO</th>\n",
       "    </tr>\n",
       "    <tr>\n",
       "      <th>s</th>\n",
       "      <th></th>\n",
       "      <th></th>\n",
       "    </tr>\n",
       "  </thead>\n",
       "  <tbody>\n",
       "    <tr>\n",
       "      <th>F</th>\n",
       "      <td>0.0909422</td>\n",
       "      <td>-0.018329</td>\n",
       "    </tr>\n",
       "    <tr>\n",
       "      <th>HH</th>\n",
       "      <td>1.80099</td>\n",
       "      <td>1.61747</td>\n",
       "    </tr>\n",
       "    <tr>\n",
       "      <th>I_B</th>\n",
       "      <td>0.250148</td>\n",
       "      <td>0.263686</td>\n",
       "    </tr>\n",
       "    <tr>\n",
       "      <th>I_M</th>\n",
       "      <td>0.207596</td>\n",
       "      <td>0.202365</td>\n",
       "    </tr>\n",
       "    <tr>\n",
       "      <th>a</th>\n",
       "      <td>0.442536</td>\n",
       "      <td>0.058697</td>\n",
       "    </tr>\n",
       "    <tr>\n",
       "      <th>b</th>\n",
       "      <td>1.60557</td>\n",
       "      <td>0.827386</td>\n",
       "    </tr>\n",
       "    <tr>\n",
       "      <th>itory</th>\n",
       "      <td>0.00155662</td>\n",
       "      <td>0.00228146</td>\n",
       "    </tr>\n",
       "  </tbody>\n",
       "</table>\n",
       "</div>"
      ],
      "text/plain": [
       "            Model          IO\n",
       "s                            \n",
       "F       0.0909422   -0.018329\n",
       "HH        1.80099     1.61747\n",
       "I_B      0.250148    0.263686\n",
       "I_M      0.207596    0.202365\n",
       "a        0.442536    0.058697\n",
       "b         1.60557    0.827386\n",
       "itory  0.00155662  0.00228146"
      ]
     },
     "execution_count": 7,
     "metadata": {},
     "output_type": "execute_result"
    }
   ],
   "source": [
    "pd.DataFrame({'Model': Government.taxRevenue(GE_data), 'IO': GE_data['vD'].rctree_pd(GE_data['n_tax']).droplevel(-1)})"
   ]
  },
  {
   "cell_type": "markdown",
   "metadata": {},
   "source": [
    "Some of these discrepancies can be adjusted using the lump-sum tax rate; however, not all sectors are taxed lump-sum. The following adjusts the lump sum taxes, but leaves the two sectors 'inventory' and 'foreign' sectors unbalanced:"
   ]
  },
  {
   "cell_type": "code",
   "execution_count": 8,
   "metadata": {},
   "outputs": [
    {
     "data": {
      "text/html": [
       "<div>\n",
       "<style scoped>\n",
       "    .dataframe tbody tr th:only-of-type {\n",
       "        vertical-align: middle;\n",
       "    }\n",
       "\n",
       "    .dataframe tbody tr th {\n",
       "        vertical-align: top;\n",
       "    }\n",
       "\n",
       "    .dataframe thead th {\n",
       "        text-align: right;\n",
       "    }\n",
       "</style>\n",
       "<table border=\"1\" class=\"dataframe\">\n",
       "  <thead>\n",
       "    <tr style=\"text-align: right;\">\n",
       "      <th></th>\n",
       "      <th>Model</th>\n",
       "      <th>IO</th>\n",
       "    </tr>\n",
       "    <tr>\n",
       "      <th>s</th>\n",
       "      <th></th>\n",
       "      <th></th>\n",
       "    </tr>\n",
       "  </thead>\n",
       "  <tbody>\n",
       "    <tr>\n",
       "      <th>F</th>\n",
       "      <td>0.0909422</td>\n",
       "      <td>-0.018329</td>\n",
       "    </tr>\n",
       "    <tr>\n",
       "      <th>HH</th>\n",
       "      <td>1.61747</td>\n",
       "      <td>1.61747</td>\n",
       "    </tr>\n",
       "    <tr>\n",
       "      <th>I_B</th>\n",
       "      <td>0.263686</td>\n",
       "      <td>0.263686</td>\n",
       "    </tr>\n",
       "    <tr>\n",
       "      <th>I_M</th>\n",
       "      <td>0.202365</td>\n",
       "      <td>0.202365</td>\n",
       "    </tr>\n",
       "    <tr>\n",
       "      <th>a</th>\n",
       "      <td>0.058697</td>\n",
       "      <td>0.058697</td>\n",
       "    </tr>\n",
       "    <tr>\n",
       "      <th>b</th>\n",
       "      <td>0.827386</td>\n",
       "      <td>0.827386</td>\n",
       "    </tr>\n",
       "    <tr>\n",
       "      <th>itory</th>\n",
       "      <td>0.00155662</td>\n",
       "      <td>0.00228146</td>\n",
       "    </tr>\n",
       "  </tbody>\n",
       "</table>\n",
       "</div>"
      ],
      "text/plain": [
       "            Model          IO\n",
       "s                            \n",
       "F       0.0909422   -0.018329\n",
       "HH        1.61747     1.61747\n",
       "I_B      0.263686    0.263686\n",
       "I_M      0.202365    0.202365\n",
       "a        0.058697    0.058697\n",
       "b        0.827386    0.827386\n",
       "itory  0.00155662  0.00228146"
      ]
     },
     "execution_count": 8,
     "metadata": {},
     "output_type": "execute_result"
    }
   ],
   "source": [
    "GE_data['tauLump'] = Government.balanceIO_lumpsum(GE_data)\n",
    "pd.DataFrame({'Model': Government.taxRevenue(GE_data), 'IO': GE_data['vD'].rctree_pd(GE_data['n_tax']).droplevel(-1)})"
   ]
  },
  {
   "cell_type": "markdown",
   "metadata": {},
   "source": [
    "To adjust the final two sectors' tax revenues, we can move the taxes on demand upward/downward by the same amount for all goods. we make this adjustment on the demand taxes ($tauD$), as the sectors that are not taxed lump-sum (itory, F) are not supplying anything in the model:"
   ]
  },
  {
   "cell_type": "code",
   "execution_count": 9,
   "metadata": {},
   "outputs": [],
   "source": [
    "rates = Government.balanceIO_advalorem(GE_data)\n",
    "GE_data['tauD'] = rates[~(rates==0)]"
   ]
  },
  {
   "cell_type": "markdown",
   "metadata": {},
   "source": [
    "And adjust the prices with taxes, to be defined as the equilibrium price, plus taxes:"
   ]
  },
  {
   "cell_type": "code",
   "execution_count": 10,
   "metadata": {},
   "outputs": [],
   "source": [
    "GE_data['PwT'].vals = GE_data.get('PwT').add(GE_data.get('tauD'),fill_value=0)"
   ]
  },
  {
   "cell_type": "markdown",
   "metadata": {},
   "source": [
    "Export the database:"
   ]
  },
  {
   "cell_type": "code",
   "execution_count": 11,
   "metadata": {},
   "outputs": [],
   "source": [
    "GE_data.export(repo=gams_folder)"
   ]
  },
  {
   "cell_type": "markdown",
   "metadata": {},
   "source": [
    "Beyond this, we require a lot of data. This is handled along the way in the specific modules."
   ]
  },
  {
   "cell_type": "markdown",
   "metadata": {},
   "source": [
    "## **3: Model components**"
   ]
  },
  {
   "cell_type": "markdown",
   "metadata": {},
   "source": [
    "In the following we go through the various modules, including (1) which data we require for the model to run, (2) how to initialize the model, (3) run and calibrate the model separately, and (4) store the calibrated version."
   ]
  },
  {
   "cell_type": "markdown",
   "metadata": {},
   "source": [
    "## **3.1: The *Production.py* module**\n",
    "\n",
    "*The production module is handled in more detail in the notebook 'Ex1\\_production.ipynb'. Here we run briefly through the model.*"
   ]
  },
  {
   "cell_type": "markdown",
   "metadata": {},
   "source": [
    "The production module is build primarily on nesting trees. The trees specify how the sectors combine inputs to produce its respective outputs. A number of different type of nesting functions are available (see *gams\\_production.py*). In the following, the two production sectors in our toy model simply use the relevant inputs in a nested CES manner."
   ]
  },
  {
   "cell_type": "markdown",
   "metadata": {},
   "source": [
    "### *Required Data:*"
   ]
  },
  {
   "cell_type": "markdown",
   "metadata": {},
   "source": [
    "The necessary data includes:\n",
    "1. IO data on the sectors (already included).\n",
    "2. The nesting structure of inputs including technical parameters detailing the production structure (CES parameters).\n",
    "3. An inventory of the durables owned by each sector.\n",
    "\n",
    "In the current case, the model includes two durables for each production sector: Machines ($iM$) and buildings ($iB$). This information is read from the IO data, but can also be added manually along the way. The production module includes quite a lot of flexibility (e.g. in nesting structure and functional forms). The following illustrates an example where a lot of default values are applied: "
   ]
  },
  {
   "cell_type": "markdown",
   "metadata": {},
   "source": [
    "*Define settings for the module:*"
   ]
  },
  {
   "cell_type": "code",
   "execution_count": 12,
   "metadata": {},
   "outputs": [],
   "source": [
    "name_module = 'p'\n",
    "trees = {'a': {'file': 'S1.xlsx', 'sheets': ['lower_nests', 'upper_nest']}, \n",
    "         'b': {'file': 'S2.xlsx', 'sheets': ['lower_nests', 'upper_nest']}}\n",
    "temp_namespace = {'a': 'a_in', 'b':'b_in'} # used when reading in nesting trees, to distinguish input and output elements with identical names.\n",
    "kwargs_st = {'sector': True, 'ss': GE_data.get('s_prod')} # settings for initializing the module"
   ]
  },
  {
   "cell_type": "markdown",
   "metadata": {},
   "source": [
    "*Read in data to nesting tree:*"
   ]
  },
  {
   "cell_type": "code",
   "execution_count": 13,
   "metadata": {},
   "outputs": [],
   "source": [
    "nts = {}\n",
    "for s,t in trees.items():\n",
    "    nts[s] = nesting_tree.nesting_tree(name=name_module) # initialize tree\n",
    "    for tree in t['sheets']:\n",
    "        nts[s].add_tree(data_folder+'\\\\'+t['file'],tree_name=tree,**{'sheet':tree}) # add nesting structure\n",
    "        DataBase.GPM_database.merge_dbs(nts[s].trees[tree].database, excel2py.xl2PM.pm_from_workbook(data_folder+'\\\\'+t['file'],{tree:'vars'}),'second') # add data\n",
    "        if tree.startswith('lower'):\n",
    "            nts[s].trees[tree].temp_namespace = temp_namespace\n",
    "    nts[s].run_all(s0=s) # add default attributes from nesting structure\n",
    "nesting_tree.merge_nts(list(nts.values())[0], list(nts.values())[1:]) # merge trees into one.\n",
    "nt = list(nts.values())[0]"
   ]
  },
  {
   "cell_type": "markdown",
   "metadata": {},
   "source": [
    "### *Static model:*"
   ]
  },
  {
   "cell_type": "markdown",
   "metadata": {},
   "source": [
    "Start by setting up a static model from the nesting tree:"
   ]
  },
  {
   "cell_type": "code",
   "execution_count": 14,
   "metadata": {},
   "outputs": [],
   "source": [
    "gm_static = Production.pr_static(nt=nt,work_folder = work_folder,**{'data_folder':work_folder,'name':'p_static'})"
   ]
  },
  {
   "cell_type": "markdown",
   "metadata": {},
   "source": [
    "Add data from the general equilibrium data, but restrict it to the data on production sectors (not necessary, but neat):"
   ]
  },
  {
   "cell_type": "code",
   "execution_count": 15,
   "metadata": {},
   "outputs": [],
   "source": [
    "GE_prod = small_updates.subset_db(GE_data.copy(),GE_data.get('s_prod'))"
   ]
  },
  {
   "cell_type": "markdown",
   "metadata": {},
   "source": [
    "Calibrate the model (See *Ex1_production* for more on these settings):"
   ]
  },
  {
   "cell_type": "markdown",
   "metadata": {},
   "source": [
    "*1: Calibrate to inputs that are exogenous in the baseline settings:*"
   ]
  },
  {
   "cell_type": "code",
   "execution_count": 16,
   "metadata": {},
   "outputs": [
    {
     "data": {
      "text/plain": [
       "{'Modelstat': 16.0, 'Solvestat': 1.0}"
      ]
     },
     "execution_count": 16,
     "metadata": {},
     "output_type": "execute_result"
    }
   ],
   "source": [
    "gm_static.write_and_run(name='v1',add_checkpoint='v1')\n",
    "db_temp = gm_static.slice_exo(GE_prod,copy=True)\n",
    "gm_static.model_instances['v1'].solve_sneakily(db_star=db_temp, from_cp = True, cp_init = gm_static.checkpoints['v1'], kwargs_shock={'n_steps':10})"
   ]
  },
  {
   "cell_type": "markdown",
   "metadata": {},
   "source": [
    "*2: read current solution back to main database:*"
   ]
  },
  {
   "cell_type": "code",
   "execution_count": 16,
   "metadata": {},
   "outputs": [],
   "source": [
    "db = gm_static.model_instances['v1'].out_db\n",
    "[db.series.__delitem__(sym) for sym in db.symbols if sym not in gm_static.model.database.symbols]; # delete symbols that are created only in order to calibrate model.\n",
    "gm_static.model.database.merge_dbs(gm_static.model.database,db,'second')"
   ]
  },
  {
   "cell_type": "markdown",
   "metadata": {},
   "source": [
    "*3: calibrate to the other moments in the data:*"
   ]
  },
  {
   "cell_type": "code",
   "execution_count": 17,
   "metadata": {},
   "outputs": [
    {
     "data": {
      "text/plain": [
       "{'Modelstat': 16.0, 'Solvestat': 1.0}"
      ]
     },
     "execution_count": 17,
     "metadata": {},
     "output_type": "execute_result"
    }
   ],
   "source": [
    "gm_static.reset_settings()\n",
    "gm_static.setstate('DC')\n",
    "db_temp = gm_static.slice_exo(GE_prod,copy=True)\n",
    "gm_static.calibrate_sneaky(db_temp,**{'n_steps':100})"
   ]
  },
  {
   "cell_type": "markdown",
   "metadata": {},
   "source": [
    "*inspect solution compared to IO data:*"
   ]
  },
  {
   "cell_type": "code",
   "execution_count": 18,
   "metadata": {},
   "outputs": [],
   "source": [
    "db = gm_static.model_instances['baseline'].out_db"
   ]
  },
  {
   "cell_type": "code",
   "execution_count": 19,
   "metadata": {},
   "outputs": [
    {
     "data": {
      "text/plain": [
       "{'maxdiff': 0.0, 'plotdiff': <AxesSubplot:xlabel='s,n'>}"
      ]
     },
     "execution_count": 19,
     "metadata": {},
     "output_type": "execute_result"
    },
    {
     "data": {
      "image/png": "[encoded data removed]",
      "text/plain": [
       "<Figure size 576x432 with 1 Axes>"
      ]
     },
     "metadata": {},
     "output_type": "display_data"
    }
   ],
   "source": [
    "var= 'qD'\n",
    "diagnostics.compare_data.std_diagnostics_var(db,GE_data,var)"
   ]
  },
  {
   "cell_type": "markdown",
   "metadata": {},
   "source": [
    "### *Dynamic model:*"
   ]
  },
  {
   "cell_type": "markdown",
   "metadata": {},
   "source": [
    "Next, we set up the dynamic model, building on the static solution, as well as the IO data. Specifically, we: (1) Initialize using nesting structure, (2) add specification of durables from IO data, (3) Initialize parameter values and initial guess of variables using static model, (4) run."
   ]
  },
  {
   "cell_type": "code",
   "execution_count": 20,
   "metadata": {},
   "outputs": [],
   "source": [
    "gm_p = Production.pr_dynamic(nt=nt,work_folder=work_folder,kwargs_st = {'sector':True, 'ss': GE_data.get('s_prod')}, gs_v=gs,**{'data_folder':gams_folder,'name':name_module}) # initialize model.\n",
    "gm_p.add_dur(GE_data.get('dur'),dur2inv = GE_data.get('dur2inv')) # add specification of durables\n",
    "gm_p.ivfs(db,merge=False) # initialzie levels from static model\n",
    "gm_p.initialize_variables(**{'check_variables': True}) # give all variables without a initial level some (semi) random number.\n",
    "gm_p.model.database[gm_p.n('mu')].vals = db.get(gm_p.n('mu')) # update values of mu-parameters to static solution"
   ]
  },
  {
   "cell_type": "markdown",
   "metadata": {},
   "source": [
    "Finally, update the prices $PwT$ on investment goods that are not automatically loaded from the static version (where the investment behavior was not included):"
   ]
  },
  {
   "cell_type": "code",
   "execution_count": 21,
   "metadata": {},
   "outputs": [],
   "source": [
    "gm_p.model.database[gm_p.n('PwT')] = DataBase_wheels.repeat_variable_windex(GE_data['PwT'].rctree_pd(GE_data['inv']),gs.get('txE')).combine_first(gm_p.get('PwT'))"
   ]
  },
  {
   "cell_type": "markdown",
   "metadata": {},
   "source": [
    "To calibrate to IO data, we start by adding the baseline year to the IO data:"
   ]
  },
  {
   "cell_type": "code",
   "execution_count": 22,
   "metadata": {},
   "outputs": [],
   "source": [
    "GE_prod_t = DataBase.GPM_database()\n",
    "for var in GE_prod.variables_flat:\n",
    "    GE_prod_t[var] = DataBase_wheels.repeat_variable_windex(GE_prod.get(var),gm_p.get('t0'))"
   ]
  },
  {
   "cell_type": "markdown",
   "metadata": {},
   "source": [
    "We further adjust the capital depreciation rates to ensure the model is in a steady state. The depreciation rates are then fitted to data at a later point in the proces (see Example1_cont.ipynb):"
   ]
  },
  {
   "cell_type": "code",
   "execution_count": 23,
   "metadata": {},
   "outputs": [],
   "source": [
    "gm_p.ss_rDepr(GE_data)"
   ]
  },
  {
   "cell_type": "markdown",
   "metadata": {},
   "source": [
    "The calibration method we apply form a grid of values between the database in the model, and the target database (GE\\_prod\\_t in this case),  and asks GAMS to solve the model on this grid. However, this only works on exogenous variables. To make sure that this works we do the following:\n",
    "1. Set the *state* of the model to calibration.\n",
    "2. Subset the target database *GE\\_prod\\_t* to only include exogenous variables (all *gmspython* models can access the exogenous/endogenous variables by calling the *self.var_exo(symbol)* method).\n",
    "3. Run the calibration function."
   ]
  },
  {
   "cell_type": "code",
   "execution_count": 24,
   "metadata": {},
   "outputs": [],
   "source": [
    "gm_p.setstate('DC')"
   ]
  },
  {
   "cell_type": "markdown",
   "metadata": {},
   "source": [
    "*Subset variables to exogenous variables:*"
   ]
  },
  {
   "cell_type": "code",
   "execution_count": 25,
   "metadata": {},
   "outputs": [],
   "source": [
    "GE_prod_t = gm_p.slice_exo(GE_prod_t,copy=False)"
   ]
  },
  {
   "cell_type": "markdown",
   "metadata": {},
   "source": [
    "*Calibrate sneakily (target the database GE\\_prod\\_t, if files w. same names exists overwrite them, sneak up on the solution in n\\_steps):*"
   ]
  },
  {
   "cell_type": "code",
   "execution_count": 26,
   "metadata": {},
   "outputs": [
    {
     "data": {
      "text/plain": [
       "{'Modelstat': 16.0, 'Solvestat': 1.0}"
      ]
     },
     "execution_count": 26,
     "metadata": {},
     "output_type": "execute_result"
    }
   ],
   "source": [
    "gm_p.calibrate_sneaky(GE_prod_t,overwrite=True,**{'n_steps': 10,'diff':True})"
   ]
  },
  {
   "cell_type": "markdown",
   "metadata": {},
   "source": [
    "*Store as pickle to run from at a later point:*"
   ]
  },
  {
   "cell_type": "code",
   "execution_count": 27,
   "metadata": {},
   "outputs": [
    {
     "data": {
      "text/plain": [
       "'C:\\\\Users\\\\sxj477\\\\Documents\\\\GitHub\\\\GPM_v05\\\\examples\\\\gamsmodels\\\\GE\\\\gmspython_p'"
      ]
     },
     "execution_count": 27,
     "metadata": {},
     "output_type": "execute_result"
    }
   ],
   "source": [
    "db = gm_p.model_instances['baseline'].out_db \n",
    "[db.series.__delitem__(sym) for sym in db.symbols if sym not in gm_p.model.database.symbols]; # delete symbols that are created only in order to calibrate model.\n",
    "gm_p.model.database.merge_dbs(gm_p.model.database,db,'second')\n",
    "gm_p.export()"
   ]
  },
  {
   "cell_type": "code",
   "execution_count": 28,
   "metadata": {},
   "outputs": [
    {
     "data": {
      "image/png": "[encoded data removed]",
      "text/plain": [
       "<Figure size 576x432 with 1 Axes>"
      ]
     },
     "metadata": {},
     "output_type": "display_data"
    }
   ],
   "source": [
    "compare_vars,year = 'qD',2\n",
    "ci = DataBase.gpy_symbol(db[compare_vars].rctree_pd(GE_prod[compare_vars]).xs(year))\n",
    "pd.DataFrame({'Baseline': db[compare_vars].rctree_pd(ci).xs(year), 'IO data': GE_prod[compare_vars].rctree_pd(ci)}).plot.bar(figsize=(8,6));"
   ]
  },
  {
   "cell_type": "markdown",
   "metadata": {},
   "source": [
    "## **3.2: The *Household.py* module**\n",
    "\n",
    "*The household module is handled in more detail in the notebook 'Ex1\\_household.ipynb'.*"
   ]
  },
  {
   "cell_type": "markdown",
   "metadata": {},
   "source": [
    "Similarly to the production module, the household module is also initialized using nesting trees. The trees specify how the consumer derives utility from aggregating goods. The nesting trees used for the household are different, however, in a number of ways. For instance, whereas the 'most upper' nest of the production module always symbolizes outputs (supply), and the 'most lower' nest inputs (demand), there is no such restriction on the household nesting tree. \n",
    "\n",
    "The current module uses a CRRA intertemporal utility setup, that is only tied to the upper-most aggregate level of consumption in the nesting tree (this can easily be altered). Furthermore, we fix the labor supply (but can similarly easily be endogenized / included in the nesting tree). "
   ]
  },
  {
   "cell_type": "markdown",
   "metadata": {},
   "source": [
    "### *Required Data:*"
   ]
  },
  {
   "cell_type": "markdown",
   "metadata": {},
   "source": [
    "The necessary data includes:\n",
    "1. IO data on the sectors (already included).\n",
    "2. Nesting structure of the utility function, including preference parameters (impatience, CES, CRRA).\n",
    "3. An inventory of the assets/endowments of the household sector(s), as well as relevant tax rates (see tax module for more)."
   ]
  },
  {
   "cell_type": "markdown",
   "metadata": {},
   "source": [
    "*Define settings for the module (simpler setup than production, as we only use one tree, i.e. no looping)*"
   ]
  },
  {
   "cell_type": "code",
   "execution_count": 29,
   "metadata": {},
   "outputs": [],
   "source": [
    "name_module = 'HH' \n",
    "tree_name = 'HH_agg' \n",
    "file, sheet = 'HH.xlsx', 'nesting'"
   ]
  },
  {
   "cell_type": "markdown",
   "metadata": {},
   "source": [
    "*Define partial equilibrium data, and general equilibrium data that are subsetted for the household sector:*"
   ]
  },
  {
   "cell_type": "code",
   "execution_count": 30,
   "metadata": {},
   "outputs": [],
   "source": [
    "PE_data = ReadData.PE_from_GE(GE_data,GE_data.get('s_HH')[0])\n",
    "GE_HH = small_updates.subset_db(GE_data.copy(),GE_data.get('s_HH'))"
   ]
  },
  {
   "cell_type": "markdown",
   "metadata": {},
   "source": [
    "*read in nesting tree (similar to production, but a simpler setup):*"
   ]
  },
  {
   "cell_type": "code",
   "execution_count": 31,
   "metadata": {},
   "outputs": [],
   "source": [
    "nt = nesting_tree.nesting_tree_hh(name=name_module,**{'version':'v1'}) # the version specifies calibration type.\n",
    "nt.add_tree(data_folder+'\\\\'+file,tree_name=tree_name,**{'sheet':sheet}) # initialize tree\n",
    "data = excel2py.xl2PM.pm_from_workbook(data_folder+'\\\\'+file,{sheet:'vars'})\n",
    "DataBase.GPM_database.merge_dbs(nt.trees[tree_name].database, data ,'second') # add data\n",
    "nt.run_all(PE_data,s0=GE_data.get('s_HH')[0],postfix='_'+name_module,int_temp = data['crra'].index) # add attributes"
   ]
  },
  {
   "cell_type": "markdown",
   "metadata": {},
   "source": [
    "### *Static model:*"
   ]
  },
  {
   "cell_type": "markdown",
   "metadata": {},
   "source": [
    "As in the production module, we start by setting up a static version of the model and calibrate this to the IO data. The steps are generally the same here as in the production module: (1) Initialize static model from nesting tree, (2) Add IO data to the model database, (3) solve and calibrate model."
   ]
  },
  {
   "cell_type": "markdown",
   "metadata": {},
   "source": [
    "*set up data and model:*"
   ]
  },
  {
   "cell_type": "code",
   "execution_count": 32,
   "metadata": {},
   "outputs": [],
   "source": [
    "gm_static = Household.hh_static(nt=nt,work_folder=work_folder,**{'data_folder':work_folder,'name':'hh_static'})\n",
    "DataBase.GPM_database.merge_dbs(gm_static.model.database,GE_HH,'second')"
   ]
  },
  {
   "cell_type": "markdown",
   "metadata": {},
   "source": [
    "*slice IO data to only use exongeous data:*"
   ]
  },
  {
   "cell_type": "code",
   "execution_count": 33,
   "metadata": {},
   "outputs": [],
   "source": [
    "gm_static.setstate('DC') # set state to 'dynamic calibration (DC), don't initialize settings\n",
    "GE_HH_exo = gm_static.slice_exo(GE_HH,copy=True)"
   ]
  },
  {
   "cell_type": "markdown",
   "metadata": {},
   "source": [
    "*calibrate (sneakily):*"
   ]
  },
  {
   "cell_type": "code",
   "execution_count": 34,
   "metadata": {},
   "outputs": [],
   "source": [
    "gm_static.calibrate_sneaky(GE_HH_exo,kwargs_init={'check_variables':True},**{'n_steps':10})\n",
    "db_static = gm_static.model_instances['baseline'].out_db"
   ]
  },
  {
   "cell_type": "markdown",
   "metadata": {},
   "source": [
    "### *Dynamic model:*"
   ]
  },
  {
   "cell_type": "markdown",
   "metadata": {},
   "source": [
    "The dynamic model is then based on the static one (as was the case w. the production module). Specifically we (1) initialize from the nesting tree, (2) add the savings subset, (3) initialize levels from the static model solution:"
   ]
  },
  {
   "cell_type": "code",
   "execution_count": 35,
   "metadata": {},
   "outputs": [],
   "source": [
    "gm_hh = Household.hh_dynamic(nt=nt,work_folder=work_folder, gs_v = gs,**{'data_folder':gams_folder,'name':name_module})\n",
    "gm_hh.add_svngs() # define subset of savings; call this element 'svngs' as default.\n",
    "gm_hh.ivfs(db_static,merge=False) # initialize levels from static model\n",
    "gm_hh.initialize_variables(**{'check_variables':True})\n",
    "gm_hh.model.database[gm_hh.n('mu')].vals = db_static.get(gm_hh.n('mu')) # update calibrated parameters"
   ]
  },
  {
   "cell_type": "markdown",
   "metadata": {},
   "source": [
    "Next, we add the baseline year to the IO data, slice the IO data to the values that are exogenous in the model and calibrate:"
   ]
  },
  {
   "cell_type": "code",
   "execution_count": 36,
   "metadata": {},
   "outputs": [
    {
     "data": {
      "text/plain": [
       "{'Modelstat': 16.0, 'Solvestat': 1.0}"
      ]
     },
     "execution_count": 36,
     "metadata": {},
     "output_type": "execute_result"
    }
   ],
   "source": [
    "GE_HH_t = DataBase.GPM_database()\n",
    "for var in GE_HH.variables_flat:\n",
    "    GE_HH_t[var] = DataBase_wheels.repeat_variable_windex(GE_HH.get(var),gm_hh.get('t0'))\n",
    "gm_hh.setstate('DC') # set state to 'dynamic calibration (DC)'\n",
    "GE_HH_t = gm_hh.slice_exo(GE_HH_t,copy=False)\n",
    "gm_hh.calibrate_sneaky(GE_HH_t,overwrite=True,**{'n_steps': 10,'diff':True})"
   ]
  },
  {
   "cell_type": "markdown",
   "metadata": {},
   "source": [
    "*Store as pickle to run from at a later point:*"
   ]
  },
  {
   "cell_type": "code",
   "execution_count": 37,
   "metadata": {},
   "outputs": [
    {
     "data": {
      "text/plain": [
       "'C:\\\\Users\\\\sxj477\\\\Documents\\\\GitHub\\\\GPM_v05\\\\examples\\\\gamsmodels\\\\GE\\\\gmspython_HH'"
      ]
     },
     "execution_count": 37,
     "metadata": {},
     "output_type": "execute_result"
    }
   ],
   "source": [
    "db = gm_hh.model_instances['baseline'].out_db \n",
    "[db.series.__delitem__(sym) for sym in db.symbols if sym not in gm_hh.model.database.symbols]; # delete symbols that are created only in order to calibrate model.\n",
    "gm_hh.model.database.merge_dbs(gm_hh.model.database,db,'second')\n",
    "gm_hh.export()"
   ]
  },
  {
   "cell_type": "code",
   "execution_count": 38,
   "metadata": {},
   "outputs": [
    {
     "data": {
      "image/png": "[encoded data removed]",
      "text/plain": [
       "<Figure size 288x216 with 1 Axes>"
      ]
     },
     "metadata": {},
     "output_type": "display_data"
    }
   ],
   "source": [
    "compare_vars,year = 'qD',2\n",
    "ci = DataBase.gpy_symbol(db[compare_vars].rctree_pd(GE_HH[compare_vars]).xs(year))\n",
    "pd.DataFrame({'Baseline': db[compare_vars].rctree_pd(ci).xs(year), 'IO data': GE_HH[compare_vars].rctree_pd(ci)}).plot.bar(figsize=(4,3));"
   ]
  },
  {
   "cell_type": "markdown",
   "metadata": {},
   "source": [
    "## **3.3: The *investment.py* module**\n",
    "\n",
    "*The investment module is handled in more detail in the notebook 'Ex1\\_invest.ipynb'.*"
   ]
  },
  {
   "cell_type": "markdown",
   "metadata": {},
   "source": [
    "The investment module essentially works as a production module (when static). The dynamic module is slightly different."
   ]
  },
  {
   "cell_type": "markdown",
   "metadata": {},
   "source": [
    "### *Required Data:*"
   ]
  },
  {
   "cell_type": "markdown",
   "metadata": {},
   "source": [
    "*Define settings for the module:*"
   ]
  },
  {
   "cell_type": "code",
   "execution_count": 39,
   "metadata": {},
   "outputs": [],
   "source": [
    "name_module = 'inv'\n",
    "trees = {'I_B': {'file': 'inv_B.xlsx', 'sheets': ['nest']}, \n",
    "         'I_M': {'file': 'inv_M.xlsx', 'sheets': ['nest']}}\n",
    "kwargs_st = {'sector': True, 'ss': GE_data.get('s_inv')} # settings for initializing the module\n",
    "namespace = {k: name+'_'+k for k in ('inp','out','int','wT','map_all','kno_out','kno_inp','n_out','endo_PbT','exo_mu','PwT_dom')} # as the production module uses the same nesting tree, we adjust the standard names here"
   ]
  },
  {
   "cell_type": "markdown",
   "metadata": {},
   "source": [
    "*Define tree:*"
   ]
  },
  {
   "cell_type": "code",
   "execution_count": 40,
   "metadata": {},
   "outputs": [],
   "source": [
    "nts = {}\n",
    "for s,t in trees.items():\n",
    "    nts[s] = nesting_tree.nesting_tree(name=name_module) # initialize tree\n",
    "    for tree in t['sheets']:\n",
    "        nts[s].add_tree(data_folder+'\\\\'+t['file'],tree_name=tree,**{'sheet':tree}) # add nesting structure\n",
    "        DataBase.GPM_database.merge_dbs(nts[s].trees[tree].database, excel2py.xl2PM.pm_from_workbook(data_folder+'\\\\'+t['file'],{tree:'vars'}),'second') # add data\n",
    "    nts[s].run_all(s0=s,**namespace) # add default attributes from nesting structure\n",
    "nesting_tree.merge_nts(list(nts.values())[0], list(nts.values())[1:]) # merge trees into one.\n",
    "nt = list(nts.values())[0]"
   ]
  },
  {
   "cell_type": "markdown",
   "metadata": {},
   "source": [
    "### *Static model:*"
   ]
  },
  {
   "cell_type": "markdown",
   "metadata": {},
   "source": [
    "*similar to production module: initialize from nt, add IO data, calibrate.*"
   ]
  },
  {
   "cell_type": "code",
   "execution_count": 41,
   "metadata": {},
   "outputs": [],
   "source": [
    "gm_static = Invest.pr_static(nt=nt,work_folder = work_folder,kwargs_ns=namespace,**{'data_folder':work_folder,'name':'I_static'})\n",
    "GE_inv = small_updates.subset_db(GE_data.copy(),GE_data.get('s_inv'))\n",
    "DataBase.GPM_database.merge_dbs(gm_static.model.database,GE_inv,'second')\n",
    "gm_static.setstate('DC')\n",
    "db_temp = gm_static.slice_exo(GE_inv,copy=True)\n",
    "gm_static.calibrate_sneaky(db_temp,kwargs_init={'check_variables':True},**{'n_steps':100, 'gridtype': 'pol','phi':0.9})\n",
    "db_static = gm_static.model_instances['baseline'].out_db"
   ]
  },
  {
   "cell_type": "markdown",
   "metadata": {},
   "source": [
    "### *Dynamic model:*"
   ]
  },
  {
   "cell_type": "markdown",
   "metadata": {},
   "source": [
    "Set up model and build on static setup/solution:"
   ]
  },
  {
   "cell_type": "code",
   "execution_count": 42,
   "metadata": {},
   "outputs": [],
   "source": [
    "gm_inv = Invest.inv_dynamic(nt=nt,work_folder=work_folder,gs_v=gs,kwargs_st=kwargs_st,kwargs_ns=namespace,**{'data_folder':gams_folder,'name': name_module})\n",
    "gm_inv.ivfs(db_static,merge=False)\n",
    "gm_inv.initialize_variables(**{'check_variables':True})\n",
    "gm_inv.model.database[gm_inv.n('mu')].vals = db_static.get(gm_inv.n('mu'))\n",
    "gm_inv.model.database[gm_inv.n('markup')].vals = db_static.get(gm_inv.n('markup'))"
   ]
  },
  {
   "cell_type": "markdown",
   "metadata": {},
   "source": [
    "The investment module does not need a dynamic calibration; thus we simply solve the model in baseline mode and store it:"
   ]
  },
  {
   "cell_type": "code",
   "execution_count": 43,
   "metadata": {},
   "outputs": [],
   "source": [
    "gm_inv.setstate('DC')\n",
    "gm_inv.setstate('B')\n",
    "gm_inv.write_and_run(overwrite=True) # the overwrite=True option overwrites existing file with same names."
   ]
  },
  {
   "cell_type": "code",
   "execution_count": 44,
   "metadata": {},
   "outputs": [
    {
     "data": {
      "text/plain": [
       "'C:\\\\Users\\\\sxj477\\\\Documents\\\\GitHub\\\\GPM_v05\\\\examples\\\\gamsmodels\\\\GE\\\\gmspython_inv'"
      ]
     },
     "execution_count": 44,
     "metadata": {},
     "output_type": "execute_result"
    }
   ],
   "source": [
    "db = gm_inv.model_instances['baseline'].out_db \n",
    "[db.series.__delitem__(sym) for sym in db.symbols if sym not in gm_inv.model.database.symbols];\n",
    "gm_inv.model.database.merge_dbs(gm_inv.model.database,db,'second')\n",
    "gm_inv.export()"
   ]
  },
  {
   "cell_type": "code",
   "execution_count": 45,
   "metadata": {},
   "outputs": [
    {
     "data": {
      "image/png": "[encoded data removed]",
      "text/plain": [
       "<Figure size 432x324 with 1 Axes>"
      ]
     },
     "metadata": {},
     "output_type": "display_data"
    }
   ],
   "source": [
    "compare_vars,year = 'Peq',2\n",
    "ci = DataBase.gpy_symbol(db[compare_vars].rctree_pd(GE_inv[compare_vars]).xs(year))\n",
    "pd.DataFrame({'Baseline': db[compare_vars].rctree_pd(ci).xs(year), 'IO data': GE_inv[compare_vars].rctree_pd(ci)}).plot.bar(figsize=(6,4.5));"
   ]
  },
  {
   "cell_type": "markdown",
   "metadata": {},
   "source": [
    "### *Inventory investments:*"
   ]
  },
  {
   "cell_type": "markdown",
   "metadata": {},
   "source": [
    "The IO data can also include 'inventory investments'. In this example, we simply include a \"demand\" for inventory that tends to zero over time (in an AR(1) manner). The inclusion of inventory investments are thus primarily to match IO data; behavior is ad hoc."
   ]
  },
  {
   "cell_type": "code",
   "execution_count": 46,
   "metadata": {},
   "outputs": [],
   "source": [
    "GE_itory = small_updates.subset_db(GE_data.copy(),GE_data.get('s_itory'))\n",
    "for var in GE_itory.variables_flat:\n",
    "    GE_itory[var] = DataBase_wheels.repeat_variable_windex(GE_itory.get(var),gs.get('t0'))"
   ]
  },
  {
   "cell_type": "code",
   "execution_count": 47,
   "metadata": {},
   "outputs": [],
   "source": [
    "name_module = 'itory'\n",
    "gm_itory = Invest.itoryD(work_folder=work_folder,databases=[GE_itory],gs_v=gs,**{'data_folder':gams_folder,'name':name_module})\n",
    "gm_itory.write_and_run(kwargs_init={'check_variables':True},overwrite=True)"
   ]
  },
  {
   "cell_type": "markdown",
   "metadata": {},
   "source": [
    "Export as pickle:"
   ]
  },
  {
   "cell_type": "code",
   "execution_count": 48,
   "metadata": {},
   "outputs": [
    {
     "data": {
      "text/plain": [
       "'C:\\\\Users\\\\sxj477\\\\Documents\\\\GitHub\\\\GPM_v05\\\\examples\\\\gamsmodels\\\\GE\\\\gmspython_itory'"
      ]
     },
     "execution_count": 48,
     "metadata": {},
     "output_type": "execute_result"
    }
   ],
   "source": [
    "db = gm_itory.model_instances['baseline'].out_db \n",
    "[db.series.__delitem__(sym) for sym in db.symbols if sym not in gm_itory.model.database.symbols];\n",
    "gm_itory.model.database.merge_dbs(gm_itory.model.database,db,'second')\n",
    "gm_itory.export()"
   ]
  },
  {
   "cell_type": "code",
   "execution_count": 49,
   "metadata": {},
   "outputs": [
    {
     "data": {
      "image/png": "[encoded data removed]",
      "text/plain": [
       "<Figure size 432x324 with 1 Axes>"
      ]
     },
     "metadata": {},
     "output_type": "display_data"
    }
   ],
   "source": [
    "compare_vars,year = 'qD',1\n",
    "ci = DataBase.gpy_symbol(db[compare_vars].rctree_pd(GE_data[compare_vars]).xs(year))\n",
    "pd.DataFrame({'Baseline': db[compare_vars].rctree_pd(ci).xs(year), 'IO data': GE_data[compare_vars].rctree_pd(ci)}).plot.bar(figsize=(6,4.5));"
   ]
  },
  {
   "cell_type": "markdown",
   "metadata": {},
   "source": [
    "## **3.4: The *Trade.py* module**\n",
    "\n",
    "*The trade module is handled in more detail in the notebook 'Ex1\\_trade.ipynb'.*"
   ]
  },
  {
   "cell_type": "markdown",
   "metadata": {},
   "source": [
    "The trade model can be specified in various ways. In this simple module, the trade modules simply specifies the foreign demand for domestically produced goods in an Armington-like manner. As there are more than one foreign/domestic goods, the prices entering the demand function are the domestic price relative to the foreign price of a similar good; this similarity is declared in a mapping denoted *dom2for[n,nn]* coupling domestic goods to a foreign counterpart."
   ]
  },
  {
   "cell_type": "markdown",
   "metadata": {},
   "source": [
    "*Define settings for the module:*"
   ]
  },
  {
   "cell_type": "code",
   "execution_count": 50,
   "metadata": {},
   "outputs": [],
   "source": [
    "name_module = 'trade'\n",
    "data = {'file': 'trade.xlsx', 'sheets': {'vars': 'vars', 'dom2for': 'maps'}} # read in the sheet 'vars' as variables, and 'dom2for' as mappings.}\n",
    "kwargs_st = {'sector': True, 'ss': GE_data.get('s_for')} # settings for initializing the module"
   ]
  },
  {
   "cell_type": "markdown",
   "metadata": {},
   "source": [
    "*load data:*"
   ]
  },
  {
   "cell_type": "code",
   "execution_count": 51,
   "metadata": {},
   "outputs": [],
   "source": [
    "db = excel2py.xl2PM.pm_from_workbook(data_folder+'\\\\'+data['file'],data['sheets'])"
   ]
  },
  {
   "cell_type": "markdown",
   "metadata": {},
   "source": [
    "*initialize model:*"
   ]
  },
  {
   "cell_type": "code",
   "execution_count": 52,
   "metadata": {},
   "outputs": [],
   "source": [
    "gm_trade = Trade.trade_dynamic(work_folder=work_folder,kwargs_st=kwargs_st,gs_v=gs,**{'data_folder':gams_folder,'name':name_module})"
   ]
  },
  {
   "cell_type": "markdown",
   "metadata": {},
   "source": [
    "*subset GE data to relevant sectors:*"
   ]
  },
  {
   "cell_type": "code",
   "execution_count": 53,
   "metadata": {},
   "outputs": [],
   "source": [
    "GE_trade = small_updates.subset_db(GE_data.copy(),GE_data.get('s_for'))"
   ]
  },
  {
   "cell_type": "markdown",
   "metadata": {},
   "source": [
    "*initialize relevant subsets from GE data, and add data loaded from excel sheets:*"
   ]
  },
  {
   "cell_type": "code",
   "execution_count": 54,
   "metadata": {},
   "outputs": [],
   "source": [
    "gm_trade.add_sets_from_GE(GE_trade)\n",
    "DataBase.GPM_database.merge_dbs(gm_trade.model.database,db,'second')"
   ]
  },
  {
   "cell_type": "markdown",
   "metadata": {},
   "source": [
    "*initialize variables from GE data:*"
   ]
  },
  {
   "cell_type": "code",
   "execution_count": 55,
   "metadata": {},
   "outputs": [],
   "source": [
    "gm_trade.ivfs(GE_trade,merge=False) # initialize levels from static model"
   ]
  },
  {
   "cell_type": "markdown",
   "metadata": {},
   "source": [
    "*set to calibration mode and solve:*"
   ]
  },
  {
   "cell_type": "code",
   "execution_count": 56,
   "metadata": {},
   "outputs": [
    {
     "data": {
      "text/plain": [
       "{'Modelstat': 15.0, 'Solvestat': 1.0}"
      ]
     },
     "execution_count": 56,
     "metadata": {},
     "output_type": "execute_result"
    }
   ],
   "source": [
    "GE_trade_t = DataBase.GPM_database()\n",
    "for var in GE_trade.variables_flat:\n",
    "    GE_trade_t[var] = DataBase_wheels.repeat_variable_windex(GE_trade.get(var),gm_trade.get('t0'))\n",
    "gm_trade.setstate('DC')\n",
    "GE_trade_t = gm_trade.slice_exo(GE_trade_t,copy=False)\n",
    "gm_trade.calibrate_sneaky(GE_trade_t,overwrite=True,**{'n_steps':2,'diff':True})"
   ]
  },
  {
   "cell_type": "markdown",
   "metadata": {},
   "source": [
    "*Export as pickle:*"
   ]
  },
  {
   "cell_type": "code",
   "execution_count": 57,
   "metadata": {},
   "outputs": [
    {
     "data": {
      "text/plain": [
       "'C:\\\\Users\\\\sxj477\\\\Documents\\\\GitHub\\\\GPM_v05\\\\examples\\\\gamsmodels\\\\GE\\\\gmspython_trade'"
      ]
     },
     "execution_count": 57,
     "metadata": {},
     "output_type": "execute_result"
    }
   ],
   "source": [
    "db = gm_trade.model_instances['baseline'].out_db \n",
    "[db.series.__delitem__(sym) for sym in db.symbols if sym not in gm_trade.model.database.symbols];\n",
    "gm_trade.model.database.merge_dbs(gm_trade.model.database,db,'second')\n",
    "gm_trade.export()"
   ]
  },
  {
   "cell_type": "code",
   "execution_count": 58,
   "metadata": {},
   "outputs": [
    {
     "data": {
      "image/png": "[encoded data removed]",
      "text/plain": [
       "<Figure size 432x324 with 1 Axes>"
      ]
     },
     "metadata": {},
     "output_type": "display_data"
    }
   ],
   "source": [
    "compare_vars,year = 'qD',2\n",
    "ci = DataBase.gpy_symbol(db[compare_vars].rctree_pd(GE_data[compare_vars]).xs(year))\n",
    "pd.DataFrame({'Baseline': db[compare_vars].rctree_pd(ci).xs(year), 'IO data': GE_data[compare_vars].rctree_pd(ci)}).plot.bar(figsize=(6,4.5));"
   ]
  },
  {
   "cell_type": "markdown",
   "metadata": {},
   "source": [
    "## **3.5: The *Government.py* module**"
   ]
  },
  {
   "cell_type": "markdown",
   "metadata": {},
   "source": [
    "The government sector defines the tax rates that goes into other modules. In the simplest case, we assume that taxation are in constant rates (from the perspective of the firms/consumers). This entails that three tax rates should be supplied by the government sector module:\n",
    "* $tauD[t,s,n]$: The tax rate levied in the use of inputs such that $PwT[t,s,n] = Peq[t,n]+tauD[t,s,n]$ where $PwT$ is the price with taxes for sectors $s$, good $n$. The revenue from this tax is thus defined as $\\sum_{(s,n)\\in d\\_tauD[s,n]} qD[t,s,n]*tauD[t,s,n]$.\n",
    "* $tauS[t,s,n]$: The tax rate levied on the output of a sector. This defines the difference between prices before taxes and equilibrium taxes (some variations in how they are specifically used in modules). The revenue from this tax is defined as $\\sum_{(s,n)\\in d\\_tauS[s,n]} qS[t,s,n] * tauS[t,s,n]$.\n",
    "* $tauLump[t,s]$ for $s\\in s\\_HH$: The lump sum tax that is charged on households. For other sectors (production, investment), the lump-sum tax is computed as a part of the $tauS[t,s,n]$ tax on the sectors' outputs."
   ]
  },
  {
   "cell_type": "markdown",
   "metadata": {},
   "source": [
    "Note that this restricts us to only charge constant rates for supply/demand of any type, i.e. the marginal tax rate = average tax rate. However, nothing prevents us from creating more elaborate functions for how these prices may evolve (as functions e.g. of quantity variables). "
   ]
  },
  {
   "cell_type": "markdown",
   "metadata": {},
   "source": [
    "### *A simple setup for tax rates:*"
   ]
  },
  {
   "cell_type": "markdown",
   "metadata": {},
   "source": [
    "In the following we define a simple government sector with the following instruments:\n",
    "* $tauLump[t,s]$: A lump-sum tax is levied on all sectors except (1) trade and (2) inventory investment sectors.\n",
    "* $tauS[t,s,n]$: A flat rate charged on the supply of goods.\n",
    "* $tauD[t,s,n]$: A flat rate charged on the demand of goods."
   ]
  },
  {
   "cell_type": "markdown",
   "metadata": {},
   "source": [
    "### *Data requirements:*"
   ]
  },
  {
   "cell_type": "markdown",
   "metadata": {},
   "source": [
    "Data on the specific tax rates are per default set to 0, unless otherwise specified. In this instance, we read the tax rates in the data section (from the file 'Tax.xlsx'), and added them to the IO data stored in *GE_data*. They were, however, only for the baseline year. In this instance, we assume these are kept constant (for now). Other versions of the government sector may include more elaborate tax rules, thus endogenizing the rates. This should be straightforward to provide."
   ]
  },
  {
   "cell_type": "markdown",
   "metadata": {},
   "source": [
    "*settings:*"
   ]
  },
  {
   "cell_type": "code",
   "execution_count": 59,
   "metadata": {},
   "outputs": [],
   "source": [
    "name_module = 'G'"
   ]
  },
  {
   "cell_type": "markdown",
   "metadata": {},
   "source": [
    "### *Static model:*"
   ]
  },
  {
   "cell_type": "code",
   "execution_count": 60,
   "metadata": {},
   "outputs": [],
   "source": [
    "gm_static = Government.g_static(GE_data=GE_data.copy(),work_folder=work_folder,**{'data_folder':gams_folder,'name':'g_static'})"
   ]
  },
  {
   "cell_type": "markdown",
   "metadata": {},
   "source": [
    "Run simple baseline model:"
   ]
  },
  {
   "cell_type": "code",
   "execution_count": 61,
   "metadata": {},
   "outputs": [],
   "source": [
    "gm_static.write_and_run(kwargs_init={'check_variables':True},overwrite=True)"
   ]
  },
  {
   "cell_type": "markdown",
   "metadata": {},
   "source": [
    "*Calibrate:*"
   ]
  },
  {
   "cell_type": "code",
   "execution_count": 62,
   "metadata": {},
   "outputs": [],
   "source": [
    "gm_static.setstate('SC')\n",
    "gm_static.reset_settings() # this resets the RunFile and CollectFile settings.\n",
    "gm_static.write_and_run(overwrite=True) # this overwrites files in the work_folder if they already exists.\n",
    "db_static = gm_static.model_instances['baseline'].out_db"
   ]
  },
  {
   "cell_type": "markdown",
   "metadata": {},
   "source": [
    "### *Dynamic model:*"
   ]
  },
  {
   "cell_type": "code",
   "execution_count": 63,
   "metadata": {},
   "outputs": [],
   "source": [
    "gm_G = Government.g_dynamic(GE_data=GE_data.copy(),work_folder=work_folder,gs_v=gs,**{'data_folder':gams_folder,'name':name_module})\n",
    "gm_G.ivfs(db_static,merge=False)\n",
    "gm_G.initialize_variables(**{'check_variables': True})"
   ]
  },
  {
   "cell_type": "code",
   "execution_count": 64,
   "metadata": {},
   "outputs": [
    {
     "data": {
      "text/plain": [
       "{'Modelstat': 15.0, 'Solvestat': 1.0}"
      ]
     },
     "execution_count": 64,
     "metadata": {},
     "output_type": "execute_result"
    }
   ],
   "source": [
    "GE_G = small_updates.subset_db(GE_data.copy(),gm_G.get('s_G'))\n",
    "GE_G_t = DataBase.GPM_database()\n",
    "for var in GE_G.variables_flat:\n",
    "    GE_G_t[var] = DataBase_wheels.repeat_variable_windex(GE_G.get(var),gm_G.get('t0'))\n",
    "gm_G.setstate('DC')\n",
    "GE_G_t = gm_G.slice_exo(GE_G_t,copy=False)\n",
    "gm_G.calibrate_sneaky(GE_G_t,overwrite=True,**{'n_steps':2,'diff':True})"
   ]
  },
  {
   "cell_type": "markdown",
   "metadata": {},
   "source": [
    "*Store as pickle to run from at a later point:*"
   ]
  },
  {
   "cell_type": "code",
   "execution_count": 65,
   "metadata": {},
   "outputs": [
    {
     "data": {
      "text/plain": [
       "'C:\\\\Users\\\\sxj477\\\\Documents\\\\GitHub\\\\GPM_v05\\\\examples\\\\gamsmodels\\\\GE\\\\gmspython_G'"
      ]
     },
     "execution_count": 65,
     "metadata": {},
     "output_type": "execute_result"
    }
   ],
   "source": [
    "db = gm_G.model_instances['baseline'].out_db \n",
    "[db.series.__delitem__(sym) for sym in db.symbols if sym not in gm_G.model.database.symbols];\n",
    "gm_G.model.database.merge_dbs(gm_G.model.database,db,'second')\n",
    "gm_G.export()"
   ]
  },
  {
   "cell_type": "code",
   "execution_count": 66,
   "metadata": {},
   "outputs": [
    {
     "data": {
      "image/png": "[encoded data removed]",
      "text/plain": [
       "<Figure size 576x432 with 1 Axes>"
      ]
     },
     "metadata": {},
     "output_type": "display_data"
    }
   ],
   "source": [
    "compare_vars,year = 'tauD',1\n",
    "ci = DataBase.gpy_symbol(db[compare_vars].rctree_pd(GE_data[compare_vars]).xs(year))\n",
    "pd.DataFrame({'Baseline': db[compare_vars].rctree_pd(ci).xs(year), 'IO data': GE_data[compare_vars].rctree_pd(ci)}).plot.bar(figsize=(8,6));"
   ]
  }
 ],
 "metadata": {
  "kernelspec": {
   "display_name": "Python 3",
   "language": "python",
   "name": "python3"
  },
  "language_info": {
   "codemirror_mode": {
    "name": "ipython",
    "version": 3
   },
   "file_extension": ".py",
   "mimetype": "text/x-python",
   "name": "python",
   "nbconvert_exporter": "python",
   "pygments_lexer": "ipython3",
   "version": "3.7.9"
  }
 },
 "nbformat": 4,
 "nbformat_minor": 4
}
