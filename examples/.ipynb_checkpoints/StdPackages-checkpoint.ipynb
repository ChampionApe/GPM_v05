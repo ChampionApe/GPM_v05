{
 "cells": [
  {
   "cell_type": "code",
   "execution_count": 7,
   "metadata": {},
   "outputs": [],
   "source": [
    "github_repo = 'GPM_v05'\n",
    "import os, sys, numpy as np, pandas as pd, math, pickle\n",
    "curr = os.getcwd()\n",
    "main = os.getcwd().split(github_repo)[0]+github_repo\n",
    "project = main+'\\\\'+os.getcwd().split(github_repo)[1].split('\\\\')[1]\n",
    "work_folder = main+'\\\\work_folder'\n",
    "py = {}\n",
    "py['main'] = main+'\\\\py_main'\n",
    "os.chdir(py['main'])\n",
    "import DataBase,DataBase_wheels,nesting_tree,DB2Gams,excel2py,gmspython,global_settings,ReadData,ShockFunction,diagnostics\n",
    "os.chdir(curr)"
   ]
  },
  {
   "cell_type": "markdown",
   "metadata": {},
   "source": [
    "*plotting packages:*"
   ]
  },
  {
   "cell_type": "code",
   "execution_count": 1,
   "metadata": {},
   "outputs": [],
   "source": [
    "import matplotlib as mpl, matplotlib.pyplot as plt\n",
    "%matplotlib inline\n",
    "plt.style.use('seaborn-whitegrid')\n",
    "mpl.style.use('seaborn')\n",
    "plt.rcParams['font.family'] = 'Palatino Linotype'\n",
    "prop_cycle = plt.rcParams[\"axes.prop_cycle\"]\n",
    "colors = prop_cycle.by_key()[\"color\"]\n",
    "SMALL_SIZE = 10\n",
    "MEDIUM_SIZE = 13\n",
    "BIGGER_SIZE = 16\n",
    "plt.rc('font', size=SMALL_SIZE)          # controls default text sizes\n",
    "plt.rc('axes', titlesize=SMALL_SIZE)     # fontsize of the axes title\n",
    "plt.rc('axes', labelsize=MEDIUM_SIZE)    # fontsize of the x and y labels\n",
    "plt.rc('xtick', labelsize=SMALL_SIZE)    # fontsize of the tick labels\n",
    "plt.rc('ytick', labelsize=SMALL_SIZE)    # fontsize of the tick labels\n",
    "plt.rc('legend', fontsize=SMALL_SIZE)    # legend fontsize\n",
    "plt.rc('figure', titlesize=BIGGER_SIZE)  # fontsize of the figure title\n",
    "def plot_series(df,dict_=None):\n",
    "    if dict_ is None: \n",
    "        dict_ = {x: x for x in df.columns}\n",
    "    df.columns = df.columns.map(dict_)\n",
    "    nplots = len(df.columns)\n",
    "    nrows = math.ceil(nplots/3)\n",
    "    fig, axes = plt.subplots(nrows,min(nplots,3),figsize=(14,(4*nrows)));\n",
    "    plt.subplots_adjust(hspace=0.35)\n",
    "    for j in range(nplots):\n",
    "        ax = plt.subplot(nrows,min(nplots,3),j+1)\n",
    "        name = df.columns.tolist()[j]\n",
    "        plt.plot(df[name]);\n",
    "        ax.set_xlabel(df.index.name,**{'fontstyle':'italic'})\n",
    "        ax.set_title(name)"
   ]
  },
  {
   "cell_type": "markdown",
   "metadata": {},
   "source": [
    "Clean-up?"
   ]
  },
  {
   "cell_type": "code",
   "execution_count": 2,
   "metadata": {},
   "outputs": [
    {
     "name": "stdout",
     "output_type": "stream",
     "text": [
      "No clean-up of work-folder\n"
     ]
    }
   ],
   "source": [
    "try:\n",
    "    if clean_up is True:\n",
    "        temp_gamsdb = [filename for filename in os.listdir(work_folder) if filename.endswith((\".gdx\",\".gms\",\".lst\",\".g00\",\".pf\",\".opt\",\".gmy\"))]\n",
    "        for temp in temp_gamsdb:\n",
    "            try:\n",
    "                os.remove(work_folder+'\\\\'+temp)\n",
    "            except OSError as err:\n",
    "                print('The file' + temp + ' is still active and was not deleted.')\n",
    "except NameError:\n",
    "    print('No clean-up of work-folder')"
   ]
  }
 ],
 "metadata": {
  "kernelspec": {
   "display_name": "Python 3",
   "language": "python",
   "name": "python3"
  },
  "language_info": {
   "codemirror_mode": {
    "name": "ipython",
    "version": 3
   },
   "file_extension": ".py",
   "mimetype": "text/x-python",
   "name": "python",
   "nbconvert_exporter": "python",
   "pygments_lexer": "ipython3",
   "version": "3.8.3"
  }
 },
 "nbformat": 4,
 "nbformat_minor": 4
}
