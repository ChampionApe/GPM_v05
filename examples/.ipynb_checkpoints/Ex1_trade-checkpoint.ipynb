{
 "cells": [
  {
   "cell_type": "code",
   "execution_count": 14,
   "metadata": {},
   "outputs": [
    {
     "name": "stdout",
     "output_type": "stream",
     "text": [
      "The file_gams_py_gdb0.gdx is still active and was not deleted.\n",
      "The file_gams_py_gdb1.gdx is still active and was not deleted.\n"
     ]
    }
   ],
   "source": [
    "clean_up=True # removes gams-related files in work-folder if true\n",
    "%run StdPackages.ipynb\n",
    "os.chdir(py['main'])\n",
    "import Trade, ReadData, ShockFunction\n",
    "os.chdir(curr)\n",
    "data_folder = os.getcwd()+'\\\\Data\\\\IO'\n",
    "gams_folder = os.getcwd()+'\\\\gamsmodels\\\\Trade'"
   ]
  },
  {
   "cell_type": "markdown",
   "metadata": {},
   "source": [
    "# Read in data and settings"
   ]
  },
  {
   "cell_type": "code",
   "execution_count": 15,
   "metadata": {},
   "outputs": [],
   "source": [
    "dsheets = {'Production_v': data_folder+'\\\\IO_v.xlsx', 'Production_p': data_folder+'\\\\IO_p.xlsx'}\n",
    "GE_data = ReadData.read_data.main(dsheets,name='GE_data',components=['domstic','trade','HH','tax','invest'],balanced_data_check=False)"
   ]
  },
  {
   "cell_type": "markdown",
   "metadata": {},
   "source": [
    "Keep trade sectors:"
   ]
  },
  {
   "cell_type": "code",
   "execution_count": 16,
   "metadata": {},
   "outputs": [],
   "source": [
    "from DataBase_wheels import small_updates\n",
    "GE_trade = small_updates.subset_db(GE_data,GE_data.get('s_for'))"
   ]
  },
  {
   "cell_type": "markdown",
   "metadata": {},
   "source": [
    "Read in variables and maps from data:"
   ]
  },
  {
   "cell_type": "code",
   "execution_count": 17,
   "metadata": {},
   "outputs": [],
   "source": [
    "data = data_folder+'\\\\trade.xlsx'\n",
    "read_sheets = {'vars': 'vars', 'dom2for': 'maps'} # read in the sheet 'vars' as variables, and 'dom2for' as mappings.\n",
    "db = excel2py.xl2PM.pm_from_workbook(data,read_sheets)"
   ]
  },
  {
   "cell_type": "markdown",
   "metadata": {},
   "source": [
    "Add settings:"
   ]
  },
  {
   "cell_type": "code",
   "execution_count": 18,
   "metadata": {},
   "outputs": [],
   "source": [
    "kwargs_st = {'sector':True}\n",
    "tindex = range(1,4)\n",
    "name = 'trade'"
   ]
  },
  {
   "cell_type": "markdown",
   "metadata": {},
   "source": [
    "Initialize module:"
   ]
  },
  {
   "cell_type": "code",
   "execution_count": 19,
   "metadata": {},
   "outputs": [],
   "source": [
    "gm = Trade.trade_dynamic(work_folder=work_folder,kwargs_st=kwargs_st,gs_vals = {'t': tindex},**{'data_folder':gams_folder,'name':name})"
   ]
  },
  {
   "cell_type": "markdown",
   "metadata": {},
   "source": [
    "Read in sets from GE data, and add data from database with variables:"
   ]
  },
  {
   "cell_type": "code",
   "execution_count": 20,
   "metadata": {},
   "outputs": [],
   "source": [
    "gm.add_sets_from_GE(GE_trade)\n",
    "DataBase.GPM_database.merge_dbs(gm.model.database,db,'second')"
   ]
  },
  {
   "cell_type": "markdown",
   "metadata": {},
   "source": [
    "Initialize levels from GE_data:"
   ]
  },
  {
   "cell_type": "code",
   "execution_count": 21,
   "metadata": {},
   "outputs": [],
   "source": [
    "gm.ivfs(GE_trade,merge=False) # initialize levels from static model\n",
    "gm.initialize_variables(**{'check_variables':True}) # fill in default levels of variables not used in static model."
   ]
  },
  {
   "cell_type": "markdown",
   "metadata": {},
   "source": [
    "Try and run the model in baseline:"
   ]
  },
  {
   "cell_type": "code",
   "execution_count": 22,
   "metadata": {},
   "outputs": [],
   "source": [
    "gm.write_and_run(overwrite=True)"
   ]
  },
  {
   "cell_type": "markdown",
   "metadata": {},
   "source": [
    "Fix levels from GE data, and reverse to calibration mode:"
   ]
  },
  {
   "cell_type": "code",
   "execution_count": 23,
   "metadata": {},
   "outputs": [],
   "source": [
    "gm.ivfs(GE_trade,merge=True) # initialize levels from static model\n",
    "gm.reset_settings() # Reset the gams_settings  \n",
    "gm.setstate('DC')\n",
    "gm.write_and_run(overwrite=True)"
   ]
  },
  {
   "cell_type": "markdown",
   "metadata": {},
   "source": [
    "Parameters:"
   ]
  },
  {
   "cell_type": "code",
   "execution_count": 24,
   "metadata": {},
   "outputs": [
    {
     "data": {
      "text/plain": [
       "s  n\n",
       "F  a    6.107012\n",
       "   b    2.987205\n",
       "Name: phi, dtype: float64"
      ]
     },
     "execution_count": 24,
     "metadata": {},
     "output_type": "execute_result"
    }
   ],
   "source": [
    "gm.model_instances['baseline'].out_db.get('phi')"
   ]
  },
  {
   "cell_type": "markdown",
   "metadata": {},
   "source": [
    "Export as pickle:"
   ]
  },
  {
   "cell_type": "code",
   "execution_count": 25,
   "metadata": {},
   "outputs": [
    {
     "data": {
      "text/plain": [
       "'C:\\\\Users\\\\sxj477\\\\Documents\\\\GitHub\\\\GPM_v4\\\\examples\\\\gamsmodels\\\\GE\\\\trade'"
      ]
     },
     "execution_count": 25,
     "metadata": {},
     "output_type": "execute_result"
    }
   ],
   "source": [
    "db = gm.model_instances['baseline'].out_db \n",
    "[db.series.__delitem__(sym) for sym in db.symbols if sym not in gm.model.database.symbols];\n",
    "gm.model.database.merge_dbs(gm.model.database,db,'second')\n",
    "gm.export(name='trade',repo = os.getcwd()+'\\\\gamsmodels\\\\GE')"
   ]
  },
  {
   "cell_type": "code",
   "execution_count": 26,
   "metadata": {},
   "outputs": [
    {
     "data": {
      "image/png": "[encoded data removed]",
      "text/plain": [
       "<Figure size 1008x288 with 2 Axes>"
      ]
     },
     "metadata": {},
     "output_type": "display_data"
    }
   ],
   "source": [
    "plot_series(gm.model_instances['baseline'].out_db.get('qD').xs('F',level='s').unstack())"
   ]
  }
 ],
 "metadata": {
  "kernelspec": {
   "display_name": "Python 3",
   "language": "python",
   "name": "python3"
  },
  "language_info": {
   "codemirror_mode": {
    "name": "ipython",
    "version": 3
   },
   "file_extension": ".py",
   "mimetype": "text/x-python",
   "name": "python",
   "nbconvert_exporter": "python",
   "pygments_lexer": "ipython3",
   "version": "3.7.9"
  }
 },
 "nbformat": 4,
 "nbformat_minor": 4
}
