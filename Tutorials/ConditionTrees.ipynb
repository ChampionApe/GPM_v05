{
 "cells": [
  {
   "cell_type": "code",
   "execution_count": 3,
   "metadata": {},
   "outputs": [
    {
     "name": "stdout",
     "output_type": "stream",
     "text": [
      "The file_gams_py_gdb1.gdx is still active and was not deleted.\n"
     ]
    }
   ],
   "source": [
    "clean_up=True # removes gams-related files in work-folder if true\n",
    "%run StdPackages.ipynb\n",
    "data_folder = os.getcwd()+'\\\\IO'"
   ]
  },
  {
   "cell_type": "markdown",
   "metadata": {},
   "source": [
    "# *Condition trees on gpy\\_symbols*"
   ]
  },
  {
   "cell_type": "markdown",
   "metadata": {},
   "source": [
    "*The current tutorial outlines a method to slice symbols by setting up condition trees. This slicing using condition trees can be used to either return the sliced variable as a pandas series/index, but can similarly be written to gams code. Thus, condition trees are an efficient way to work on the database from Python, but can similarly be transferred directly to the gams code.*"
   ]
  },
  {
   "cell_type": "markdown",
   "metadata": {},
   "source": [
    "### 0: Initialize and ready the database/symbols"
   ]
  },
  {
   "cell_type": "markdown",
   "metadata": {},
   "source": [
    "*Set up database to work on (from excel):*"
   ]
  },
  {
   "cell_type": "code",
   "execution_count": 18,
   "metadata": {},
   "outputs": [],
   "source": [
    "dsheets = {'Production_v': data_folder+'\\\\IO_v.xlsx', 'Production_p': data_folder+'\\\\IO_p.xlsx'}\n",
    "db = ReadData.read_data.main(dsheets,name='GE_data',components=['domstic','trade','HH','tax','invest'])"
   ]
  },
  {
   "cell_type": "markdown",
   "metadata": {},
   "source": [
    "*inspect the variables, sets, subsets etc. in the database:*"
   ]
  },
  {
   "cell_type": "code",
   "execution_count": 23,
   "metadata": {
    "scrolled": true
   },
   "outputs": [
    {
     "data": {
      "text/plain": [
       "'Variables:'"
      ]
     },
     "metadata": {},
     "output_type": "display_data"
    },
    {
     "data": {
      "text/plain": [
       "['vS', 'vD', 'Peq', 'PwT', 'PbT', 'qD', 'qS']"
      ]
     },
     "metadata": {},
     "output_type": "display_data"
    },
    {
     "data": {
      "text/plain": [
       "'Sets:'"
      ]
     },
     "metadata": {},
     "output_type": "display_data"
    },
    {
     "data": {
      "text/plain": [
       "['alias_',\n",
       " 'alias_set',\n",
       " 'alias_map2',\n",
       " 's',\n",
       " 'n',\n",
       " 's_prod',\n",
       " 'n_prod',\n",
       " 'n_fg',\n",
       " 's_for',\n",
       " 'n_for',\n",
       " 'sfor_ndom',\n",
       " 'sfor_nfor',\n",
       " 's_HH',\n",
       " 'inp_HH',\n",
       " 'out_HH',\n",
       " 'n_tax',\n",
       " 's_tax',\n",
       " 's_itory',\n",
       " 's_inv',\n",
       " 'inv',\n",
       " 'dur2inv',\n",
       " 'dur',\n",
       " 'itoryD',\n",
       " 'n_equi',\n",
       " 'd_Peq',\n",
       " 'd_vS',\n",
       " 'd_vD',\n",
       " 'd_PwT',\n",
       " 'd_PbT',\n",
       " 'd_qD',\n",
       " 'd_qS',\n",
       " 'd_tauS',\n",
       " 'd_tauD',\n",
       " 'd_tauLump']"
      ]
     },
     "metadata": {},
     "output_type": "display_data"
    }
   ],
   "source": [
    "display('Variables:',db.variables_flat,'Sets:',db.sets_flat)"
   ]
  },
  {
   "cell_type": "markdown",
   "metadata": {},
   "source": [
    "*Example the variable qD (quantity, demand):*"
   ]
  },
  {
   "cell_type": "code",
   "execution_count": 24,
   "metadata": {
    "scrolled": true
   },
   "outputs": [
    {
     "data": {
      "text/plain": [
       "s      n   \n",
       "F      a          6.10701\n",
       "       b           2.9872\n",
       "HH     a          2.50754\n",
       "       a_F        1.01495\n",
       "       b          9.90321\n",
       "       b_F      0.0313868\n",
       "I_B    a          1.59205\n",
       "       a_F      0.0124715\n",
       "       b         0.126531\n",
       "       b_F     0.00233702\n",
       "I_M    a         0.819767\n",
       "       a_F       0.605856\n",
       "       b         0.652799\n",
       "       b_F       0.153759\n",
       "a      I_iB      0.998536\n",
       "       I_iM       1.21727\n",
       "       L          3.80338\n",
       "       a           3.5306\n",
       "       a_F        2.51619\n",
       "       b          2.48622\n",
       "       b_F        0.48449\n",
       "       iB           2.092\n",
       "       iM           1.046\n",
       "b      I_iB      0.998536\n",
       "       I_iM       1.21727\n",
       "       L          7.02874\n",
       "       a          1.37205\n",
       "       a_F       0.603783\n",
       "       b          20.9559\n",
       "       b_F         3.1756\n",
       "       iB         1.05102\n",
       "       iM         2.10204\n",
       "itory  a        0.0885507\n",
       "       a_F      0.0613292\n",
       "       b        0.0046528\n",
       "       b_F     0.00112875\n",
       "Name: qD, dtype: object"
      ]
     },
     "execution_count": 24,
     "metadata": {},
     "output_type": "execute_result"
    }
   ],
   "source": [
    "db.get('qD')"
   ]
  },
  {
   "cell_type": "markdown",
   "metadata": {},
   "source": [
    "### 1: Condition trees"
   ]
  },
  {
   "cell_type": "markdown",
   "metadata": {},
   "source": [
    "*The condition tree methods are generally build using nested dictionaries:* \n",
    "* *The keyword in the dictionary specifies the relevant operation used in the current nest ('and','or','not').*\n",
    "* *The value specifies the boolean operation to perform. If more than one set of boolean conditions are given they should be defined in a list. (these can be specified in a number of ways)*\n",
    "* *The boolean operations are specified based on the domains of the relevant symbols. As the examples show, this entails that we do not pass a vector of true/false; rather, we define the condition as a gpy\\_symbol that is defined over a certain domain. The domains of the variable in question are then sliced according to the intersection of these domains.*\n",
    "* *The condition trees can be nested by letting a value in one dictionary, be defined as a new dictionary.*\n"
   ]
  },
  {
   "cell_type": "markdown",
   "metadata": {},
   "source": [
    "#### *1.1: Type of arguments*"
   ]
  },
  {
   "cell_type": "markdown",
   "metadata": {},
   "source": [
    "*The condition tree can be build with three keywords ('and','or','not'). The values, specified in a list if more than one is applied, are generally defined as gpy\\_symbols. The interpretation from a gpy\\_symbol to a boolean condition is, however, quite flexible. Some examples:*"
   ]
  },
  {
   "cell_type": "markdown",
   "metadata": {},
   "source": [
    "*1: Simple slicing using an index: The set 'sfor\\_ndom' is a set defined over the same index (s,n) as the variable 'qD'.*"
   ]
  },
  {
   "cell_type": "code",
   "execution_count": 33,
   "metadata": {
    "scrolled": true
   },
   "outputs": [
    {
     "data": {
      "text/plain": [
       "'The set:'"
      ]
     },
     "metadata": {},
     "output_type": "display_data"
    },
    {
     "data": {
      "text/plain": [
       "MultiIndex([('F', 'a'),\n",
       "            ('F', 'b')],\n",
       "           names=['s', 'n'])"
      ]
     },
     "metadata": {},
     "output_type": "display_data"
    },
    {
     "data": {
      "text/plain": [
       "'The sliced variable:'"
      ]
     },
     "metadata": {},
     "output_type": "display_data"
    },
    {
     "data": {
      "text/plain": [
       "s  n\n",
       "F  a    6.10701\n",
       "   b     2.9872\n",
       "Name: qD, dtype: object"
      ]
     },
     "metadata": {},
     "output_type": "display_data"
    }
   ],
   "source": [
    "c = db['sfor_ndom']\n",
    "display('The set:',c.vals, 'The sliced variable:',db['qD'].rctree_pd(c))"
   ]
  },
  {
   "cell_type": "markdown",
   "metadata": {},
   "source": [
    "*2: Slicing using a partially overlapping index: The set 'n\\_prod' is only defined over the set 'n'. The condition tree method looks for the overlap in domains and slice on this condition.*"
   ]
  },
  {
   "cell_type": "code",
   "execution_count": 41,
   "metadata": {
    "scrolled": true
   },
   "outputs": [
    {
     "data": {
      "text/plain": [
       "'The set:'"
      ]
     },
     "metadata": {},
     "output_type": "display_data"
    },
    {
     "data": {
      "text/plain": [
       "Index(['L', 'a', 'b', 'iB', 'iM'], dtype='object', name='n')"
      ]
     },
     "metadata": {},
     "output_type": "display_data"
    },
    {
     "data": {
      "text/plain": [
       "'The sliced variable:'"
      ]
     },
     "metadata": {},
     "output_type": "display_data"
    },
    {
     "data": {
      "text/plain": [
       "s      n \n",
       "F      a       6.10701\n",
       "       b        2.9872\n",
       "HH     a       2.50754\n",
       "       b       9.90321\n",
       "I_B    a       1.59205\n",
       "       b      0.126531\n",
       "I_M    a      0.819767\n",
       "       b      0.652799\n",
       "a      L       3.80338\n",
       "       a        3.5306\n",
       "       b       2.48622\n",
       "       iB        2.092\n",
       "       iM        1.046\n",
       "b      L       7.02874\n",
       "       a       1.37205\n",
       "       b       20.9559\n",
       "       iB      1.05102\n",
       "       iM      2.10204\n",
       "itory  a     0.0885507\n",
       "       b     0.0046528\n",
       "Name: qD, dtype: object"
      ]
     },
     "metadata": {},
     "output_type": "display_data"
    }
   ],
   "source": [
    "c = db['n_prod']\n",
    "display('The set:',c.vals, 'The sliced variable:',db['qD'].rctree_pd(c))"
   ]
  },
  {
   "cell_type": "markdown",
   "metadata": {},
   "source": [
    "*3: Slicing using another variable: Similarly, a variable can be used to slice - this is done using the domains of the relevant variable.*"
   ]
  },
  {
   "cell_type": "code",
   "execution_count": 44,
   "metadata": {},
   "outputs": [
    {
     "data": {
      "text/plain": [
       "'The slicing variable:'"
      ]
     },
     "metadata": {},
     "output_type": "display_data"
    },
    {
     "data": {
      "text/plain": [
       "s    n   \n",
       "HH   L       10.8321\n",
       "I_B  I_iB    1.99707\n",
       "I_M  I_iM    2.43455\n",
       "a    a       16.0176\n",
       "b    b       37.1165\n",
       "Name: qS, dtype: object"
      ]
     },
     "metadata": {},
     "output_type": "display_data"
    },
    {
     "data": {
      "text/plain": [
       "'The sliced variable:'"
      ]
     },
     "metadata": {},
     "output_type": "display_data"
    },
    {
     "data": {
      "text/plain": [
       "s  n\n",
       "a  a     3.5306\n",
       "b  b    20.9559\n",
       "Name: qD, dtype: object"
      ]
     },
     "metadata": {},
     "output_type": "display_data"
    }
   ],
   "source": [
    "c = db['qS']\n",
    "display('The slicing variable:',c.vals, 'The sliced variable:',db['qD'].rctree_pd(c))"
   ]
  },
  {
   "cell_type": "markdown",
   "metadata": {},
   "source": [
    "*4: The same conditions applied above can be written to a gams code 'condition' using the rctree\\_gams method instead (should use indices instead of variables in the slicing though)*"
   ]
  },
  {
   "cell_type": "code",
   "execution_count": 50,
   "metadata": {},
   "outputs": [
    {
     "data": {
      "text/plain": [
       "'n_prod[n]'"
      ]
     },
     "execution_count": 50,
     "metadata": {},
     "output_type": "execute_result"
    }
   ],
   "source": [
    "c = db['n_prod']\n",
    "db['qD'].rctree_gams(c)"
   ]
  },
  {
   "cell_type": "markdown",
   "metadata": {},
   "source": [
    "#### *1.2: Negate conditions*"
   ]
  },
  {
   "cell_type": "markdown",
   "metadata": {},
   "source": [
    "*The simplest condition tree is to negate a condition. This is simply done by adding a dictionary with the keyword 'not':*"
   ]
  },
  {
   "cell_type": "code",
   "execution_count": 55,
   "metadata": {
    "scrolled": true
   },
   "outputs": [
    {
     "data": {
      "text/plain": [
       "s      n   \n",
       "HH     a_F        1.01495\n",
       "       b_F      0.0313868\n",
       "I_B    a_F      0.0124715\n",
       "       b_F     0.00233702\n",
       "I_M    a_F       0.605856\n",
       "       b_F       0.153759\n",
       "a      I_iB      0.998536\n",
       "       I_iM       1.21727\n",
       "       a_F        2.51619\n",
       "       b_F        0.48449\n",
       "b      I_iB      0.998536\n",
       "       I_iM       1.21727\n",
       "       a_F       0.603783\n",
       "       b_F         3.1756\n",
       "itory  a_F      0.0613292\n",
       "       b_F     0.00112875\n",
       "Name: qD, dtype: object"
      ]
     },
     "execution_count": 55,
     "metadata": {},
     "output_type": "execute_result"
    }
   ],
   "source": [
    "c = {'not': db['n_prod']}\n",
    "db['qD'].rctree_pd(c)"
   ]
  },
  {
   "cell_type": "markdown",
   "metadata": {},
   "source": [
    "*We can also just add the value to a list:*"
   ]
  },
  {
   "cell_type": "code",
   "execution_count": 56,
   "metadata": {
    "scrolled": true
   },
   "outputs": [
    {
     "data": {
      "text/plain": [
       "s      n   \n",
       "HH     a_F        1.01495\n",
       "       b_F      0.0313868\n",
       "I_B    a_F      0.0124715\n",
       "       b_F     0.00233702\n",
       "I_M    a_F       0.605856\n",
       "       b_F       0.153759\n",
       "a      I_iB      0.998536\n",
       "       I_iM       1.21727\n",
       "       a_F        2.51619\n",
       "       b_F        0.48449\n",
       "b      I_iB      0.998536\n",
       "       I_iM       1.21727\n",
       "       a_F       0.603783\n",
       "       b_F         3.1756\n",
       "itory  a_F      0.0613292\n",
       "       b_F     0.00112875\n",
       "Name: qD, dtype: object"
      ]
     },
     "execution_count": 56,
     "metadata": {},
     "output_type": "execute_result"
    }
   ],
   "source": [
    "c = {'not': [db['n_prod']]}\n",
    "db['qD'].rctree_pd(c)"
   ]
  },
  {
   "cell_type": "markdown",
   "metadata": {},
   "source": [
    "*It is however not unambiguous how to interpret a list of more than one condition with the keyword not (should it be the union or intersection of 'True' to subset on?). With the keyword 'not', only the first argument of the list is used. Thus, this condition is the same as the one above:*"
   ]
  },
  {
   "cell_type": "code",
   "execution_count": 57,
   "metadata": {
    "scrolled": true
   },
   "outputs": [
    {
     "data": {
      "text/plain": [
       "s      n   \n",
       "HH     a_F        1.01495\n",
       "       b_F      0.0313868\n",
       "I_B    a_F      0.0124715\n",
       "       b_F     0.00233702\n",
       "I_M    a_F       0.605856\n",
       "       b_F       0.153759\n",
       "a      I_iB      0.998536\n",
       "       I_iM       1.21727\n",
       "       a_F        2.51619\n",
       "       b_F        0.48449\n",
       "b      I_iB      0.998536\n",
       "       I_iM       1.21727\n",
       "       a_F       0.603783\n",
       "       b_F         3.1756\n",
       "itory  a_F      0.0613292\n",
       "       b_F     0.00112875\n",
       "Name: qD, dtype: object"
      ]
     },
     "execution_count": 57,
     "metadata": {},
     "output_type": "execute_result"
    }
   ],
   "source": [
    "c = {'not': [db['n_prod'],db['n_for']]}\n",
    "db['qD'].rctree_pd(c)"
   ]
  },
  {
   "cell_type": "markdown",
   "metadata": {},
   "source": [
    "#### *1.3: List of and/or conditions*"
   ]
  },
  {
   "cell_type": "markdown",
   "metadata": {},
   "source": [
    "*Assume instead that we want to subset on either one subset or the other. This is done with the keyword argument 'or':*"
   ]
  },
  {
   "cell_type": "code",
   "execution_count": 59,
   "metadata": {
    "scrolled": true
   },
   "outputs": [
    {
     "data": {
      "text/plain": [
       "s      n  \n",
       "F      a         6.10701\n",
       "       b          2.9872\n",
       "HH     a         2.50754\n",
       "       a_F       1.01495\n",
       "       b         9.90321\n",
       "       b_F     0.0313868\n",
       "I_B    a         1.59205\n",
       "       a_F     0.0124715\n",
       "       b        0.126531\n",
       "       b_F    0.00233702\n",
       "I_M    a        0.819767\n",
       "       a_F      0.605856\n",
       "       b        0.652799\n",
       "       b_F      0.153759\n",
       "a      L         3.80338\n",
       "       a          3.5306\n",
       "       a_F       2.51619\n",
       "       b         2.48622\n",
       "       b_F       0.48449\n",
       "       iB          2.092\n",
       "       iM          1.046\n",
       "b      L         7.02874\n",
       "       a         1.37205\n",
       "       a_F      0.603783\n",
       "       b         20.9559\n",
       "       b_F        3.1756\n",
       "       iB        1.05102\n",
       "       iM        2.10204\n",
       "itory  a       0.0885507\n",
       "       a_F     0.0613292\n",
       "       b       0.0046528\n",
       "       b_F    0.00112875\n",
       "Name: qD, dtype: object"
      ]
     },
     "execution_count": 59,
     "metadata": {},
     "output_type": "execute_result"
    }
   ],
   "source": [
    "c = {'or': [db['n_prod'],db['n_for']]}\n",
    "db['qD'].rctree_pd(c)"
   ]
  },
  {
   "cell_type": "markdown",
   "metadata": {},
   "source": [
    "*Using the keyword 'and' this returns an empty pandas series, as the two subsets ('n\\_prod', 'n\\_for') are not overlapping:*"
   ]
  },
  {
   "cell_type": "code",
   "execution_count": 62,
   "metadata": {},
   "outputs": [
    {
     "data": {
      "text/plain": [
       "Series([], Name: qD, dtype: object)"
      ]
     },
     "execution_count": 62,
     "metadata": {},
     "output_type": "execute_result"
    }
   ],
   "source": [
    "c = {'and': [db['n_prod'],db['n_for']]}\n",
    "db['qD'].rctree_pd(c)"
   ]
  },
  {
   "cell_type": "markdown",
   "metadata": {},
   "source": [
    "*As was the case earlier, this type of conditions can be written as gams code as well:*"
   ]
  },
  {
   "cell_type": "code",
   "execution_count": 63,
   "metadata": {},
   "outputs": [
    {
     "data": {
      "text/plain": [
       "'(n_prod[n] and n_for[n])'"
      ]
     },
     "execution_count": 63,
     "metadata": {},
     "output_type": "execute_result"
    }
   ],
   "source": [
    "db['qD'].rctree_gams(c)"
   ]
  },
  {
   "cell_type": "markdown",
   "metadata": {},
   "source": [
    "#### *1.4: Nested conditions*"
   ]
  },
  {
   "cell_type": "markdown",
   "metadata": {},
   "source": [
    "*Maybe we want the goods that are in one subset, but not the other. In this case, we make an 'and' condition, and nest the 'not' condition for the one subset. The condition tree traverses the nested dictionary to the most inner condition that are no longer nested, evaluate this to return a boolean condition, and loops out of the tree in this fashion. The following lookgs for goods that are in one set 'd\\_tauD', but not in another 'd\\_tauS':*"
   ]
  },
  {
   "cell_type": "code",
   "execution_count": 67,
   "metadata": {
    "scrolled": true
   },
   "outputs": [
    {
     "data": {
      "text/plain": [
       "s      n   \n",
       "F      a          6.10701\n",
       "       b           2.9872\n",
       "HH     a          2.50754\n",
       "       a_F        1.01495\n",
       "       b          9.90321\n",
       "       b_F      0.0313868\n",
       "I_B    a          1.59205\n",
       "       a_F      0.0124715\n",
       "       b         0.126531\n",
       "       b_F     0.00233702\n",
       "I_M    a         0.819767\n",
       "       a_F       0.605856\n",
       "       b         0.652799\n",
       "       b_F       0.153759\n",
       "a      I_iB      0.998536\n",
       "       I_iM       1.21727\n",
       "       L          3.80338\n",
       "       a_F        2.51619\n",
       "       b          2.48622\n",
       "       b_F        0.48449\n",
       "b      I_iB      0.998536\n",
       "       I_iM       1.21727\n",
       "       L          7.02874\n",
       "       a          1.37205\n",
       "       a_F       0.603783\n",
       "       b_F         3.1756\n",
       "itory  a        0.0885507\n",
       "       a_F      0.0613292\n",
       "       b        0.0046528\n",
       "       b_F     0.00112875\n",
       "Name: qD, dtype: object"
      ]
     },
     "execution_count": 67,
     "metadata": {},
     "output_type": "execute_result"
    }
   ],
   "source": [
    "c = {'and': [db['d_tauD'], {'not': db['d_tauS']}]}\n",
    "db['qD'].rctree_pd(c)"
   ]
  },
  {
   "cell_type": "markdown",
   "metadata": {},
   "source": [
    "*Just as before, we can write the corresponding gams condition using the rctree\\_gams method:*"
   ]
  },
  {
   "cell_type": "code",
   "execution_count": 69,
   "metadata": {},
   "outputs": [
    {
     "data": {
      "text/plain": [
       "'(d_tauD[s,n] and not d_tauS[s,n])'"
      ]
     },
     "execution_count": 69,
     "metadata": {},
     "output_type": "execute_result"
    }
   ],
   "source": [
    "db['qD'].rctree_gams(c)"
   ]
  }
 ],
 "metadata": {
  "kernelspec": {
   "display_name": "Python 3",
   "language": "python",
   "name": "python3"
  },
  "language_info": {
   "codemirror_mode": {
    "name": "ipython",
    "version": 3
   },
   "file_extension": ".py",
   "mimetype": "text/x-python",
   "name": "python",
   "nbconvert_exporter": "python",
   "pygments_lexer": "ipython3",
   "version": "3.7.9"
  }
 },
 "nbformat": 4,
 "nbformat_minor": 4
}
