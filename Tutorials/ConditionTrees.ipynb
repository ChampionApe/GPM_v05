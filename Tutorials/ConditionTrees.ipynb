{
 "cells": [
  {
   "cell_type": "code",
   "execution_count": null,
   "metadata": {},
   "outputs": [],
   "source": [
    "clean_up=True # removes gams-related files in work-folder if true\n",
    "%run StdPackages.ipynb\n",
    "data_folder = os.getcwd()+'\\\\IO'"
   ]
  },
  {
   "cell_type": "markdown",
   "metadata": {},
   "source": [
    "# *Condition trees on gpy\\_symbols*"
   ]
  },
  {
   "cell_type": "markdown",
   "metadata": {},
   "source": [
    "*The current tutorial outlines a method to slice symbols by setting up condition trees. This slicing using condition trees can be used to either return the sliced variable as a pandas series/index, but can similarly be written to gams code. Thus, condition trees are an efficient way to work on the database from Python, but can similarly be transferred directly to the gams code.*"
   ]
  },
  {
   "cell_type": "markdown",
   "metadata": {},
   "source": [
    "### 0: Initialize and ready the database/symbols"
   ]
  },
  {
   "cell_type": "markdown",
   "metadata": {},
   "source": [
    "*Set up database to work on (from excel):*"
   ]
  },
  {
   "cell_type": "code",
   "execution_count": null,
   "metadata": {},
   "outputs": [],
   "source": [
    "dsheets = {'Production_v': data_folder+'\\\\IO_v.xlsx', 'Production_p': data_folder+'\\\\IO_p.xlsx'}\n",
    "db = ReadData.read_data.main(dsheets,name='GE_data',components=['domstic','trade','HH','tax','invest'])"
   ]
  },
  {
   "cell_type": "markdown",
   "metadata": {},
   "source": [
    "*inspect the variables, sets, subsets etc. in the database:*"
   ]
  },
  {
   "cell_type": "code",
   "execution_count": null,
   "metadata": {
    "scrolled": true
   },
   "outputs": [],
   "source": [
    "display('Variables:',db.variables_flat,'Sets:',db.sets_flat)"
   ]
  },
  {
   "cell_type": "markdown",
   "metadata": {},
   "source": [
    "*Example the variable qD (quantity, demand):*"
   ]
  },
  {
   "cell_type": "code",
   "execution_count": null,
   "metadata": {
    "scrolled": true
   },
   "outputs": [],
   "source": [
    "db.get('qD')"
   ]
  },
  {
   "cell_type": "markdown",
   "metadata": {},
   "source": [
    "### 1: Condition trees"
   ]
  },
  {
   "cell_type": "markdown",
   "metadata": {},
   "source": [
    "*The condition tree methods are generally build using nested dictionaries:* \n",
    "* *The keyword in the dictionary specifies the relevant operation used in the current nest ('and','or','not').*\n",
    "* *The value specifies the boolean operation to perform. If more than one set of boolean conditions are given they should be defined in a list. (these can be specified in a number of ways)*\n",
    "* *The boolean operations are specified based on the domains of the relevant symbols. As the examples show, this entails that we do not pass a vector of true/false; rather, we define the condition as a gpy\\_symbol that is defined over a certain domain. The domains of the variable in question are then sliced according to the intersection of these domains.*\n",
    "* *The condition trees can be nested by letting a value in one dictionary, be defined as a new dictionary.*\n"
   ]
  },
  {
   "cell_type": "markdown",
   "metadata": {},
   "source": [
    "#### *1.1: Type of arguments*"
   ]
  },
  {
   "cell_type": "markdown",
   "metadata": {},
   "source": [
    "*The condition tree can be build with three keywords ('and','or','not'). The values, specified in a list if more than one is applied, are generally defined as gpy\\_symbols. The interpretation from a gpy\\_symbol to a boolean condition is, however, quite flexible. Some examples:*"
   ]
  },
  {
   "cell_type": "markdown",
   "metadata": {},
   "source": [
    "*1: Simple slicing using an index: The set 'sfor\\_ndom' is a set defined over the same index (s,n) as the variable 'qD'.*"
   ]
  },
  {
   "cell_type": "code",
   "execution_count": null,
   "metadata": {
    "scrolled": true
   },
   "outputs": [],
   "source": [
    "c = db['sfor_ndom']\n",
    "display('The set:',c.vals, 'The sliced variable:',db['qD'].rctree_pd(c))"
   ]
  },
  {
   "cell_type": "markdown",
   "metadata": {},
   "source": [
    "*2: Slicing using a partially overlapping index: The set 'n\\_prod' is only defined over the set 'n'. The condition tree method looks for the overlap in domains and slice on this condition.*"
   ]
  },
  {
   "cell_type": "code",
   "execution_count": null,
   "metadata": {
    "scrolled": true
   },
   "outputs": [],
   "source": [
    "c = db['n_prod']\n",
    "display('The set:',c.vals, 'The sliced variable:',db['qD'].rctree_pd(c))"
   ]
  },
  {
   "cell_type": "markdown",
   "metadata": {},
   "source": [
    "*3: Slicing using another variable: Similarly, a variable can be used to slice - this is done using the domains of the relevant variable.*"
   ]
  },
  {
   "cell_type": "code",
   "execution_count": null,
   "metadata": {},
   "outputs": [],
   "source": [
    "c = db['qS']\n",
    "display('The slicing variable:',c.vals, 'The sliced variable:',db['qD'].rctree_pd(c))"
   ]
  },
  {
   "cell_type": "markdown",
   "metadata": {},
   "source": [
    "*4: The same conditions applied above can be written to a gams code 'condition' using the rctree\\_gams method instead (should use indices instead of variables in the slicing though)*"
   ]
  },
  {
   "cell_type": "code",
   "execution_count": null,
   "metadata": {},
   "outputs": [],
   "source": [
    "c = db['n_prod']\n",
    "db['qD'].rctree_gams(c)"
   ]
  },
  {
   "cell_type": "markdown",
   "metadata": {},
   "source": [
    "#### *1.2: Negate conditions*"
   ]
  },
  {
   "cell_type": "markdown",
   "metadata": {},
   "source": [
    "*The simplest condition tree is to negate a condition. This is simply done by adding a dictionary with the keyword 'not':*"
   ]
  },
  {
   "cell_type": "code",
   "execution_count": null,
   "metadata": {
    "scrolled": true
   },
   "outputs": [],
   "source": [
    "c = {'not': db['n_prod']}\n",
    "db['qD'].rctree_pd(c)"
   ]
  },
  {
   "cell_type": "markdown",
   "metadata": {},
   "source": [
    "*We can also just add the value to a list:*"
   ]
  },
  {
   "cell_type": "code",
   "execution_count": null,
   "metadata": {
    "scrolled": true
   },
   "outputs": [],
   "source": [
    "c = {'not': [db['n_prod']]}\n",
    "db['qD'].rctree_pd(c)"
   ]
  },
  {
   "cell_type": "markdown",
   "metadata": {},
   "source": [
    "*It is however not unambiguous how to interpret a list of more than one condition with the keyword not (should it be the union or intersection of 'True' to subset on?). With the keyword 'not', only the first argument of the list is used. Thus, this condition is the same as the one above:*"
   ]
  },
  {
   "cell_type": "code",
   "execution_count": null,
   "metadata": {
    "scrolled": true
   },
   "outputs": [],
   "source": [
    "c = {'not': [db['n_prod'],db['n_for']]}\n",
    "db['qD'].rctree_pd(c)"
   ]
  },
  {
   "cell_type": "markdown",
   "metadata": {},
   "source": [
    "#### *1.3: List of and/or conditions*"
   ]
  },
  {
   "cell_type": "markdown",
   "metadata": {},
   "source": [
    "*Assume instead that we want to subset on either one subset or the other. This is done with the keyword argument 'or':*"
   ]
  },
  {
   "cell_type": "code",
   "execution_count": null,
   "metadata": {
    "scrolled": true
   },
   "outputs": [],
   "source": [
    "c = {'or': [db['n_prod'],db['n_for']]}\n",
    "db['qD'].rctree_pd(c)"
   ]
  },
  {
   "cell_type": "markdown",
   "metadata": {},
   "source": [
    "*Using the keyword 'and' this returns an empty pandas series, as the two subsets ('n\\_prod', 'n\\_for') are not overlapping:*"
   ]
  },
  {
   "cell_type": "code",
   "execution_count": null,
   "metadata": {},
   "outputs": [],
   "source": [
    "c = {'and': [db['n_prod'],db['n_for']]}\n",
    "db['qD'].rctree_pd(c)"
   ]
  },
  {
   "cell_type": "markdown",
   "metadata": {},
   "source": [
    "*As was the case earlier, this type of conditions can be written as gams code as well:*"
   ]
  },
  {
   "cell_type": "code",
   "execution_count": null,
   "metadata": {},
   "outputs": [],
   "source": [
    "db['qD'].rctree_gams(c)"
   ]
  },
  {
   "cell_type": "markdown",
   "metadata": {},
   "source": [
    "#### *1.4: Nested conditions*"
   ]
  },
  {
   "cell_type": "markdown",
   "metadata": {},
   "source": [
    "*Maybe we want the goods that are in one subset, but not the other. In this case, we make an 'and' condition, and nest the 'not' condition for the one subset. The condition tree traverses the nested dictionary to the most inner condition that are no longer nested, evaluate this to return a boolean condition, and loops out of the tree in this fashion. The following lookgs for goods that are in one set 'd\\_tauD', but not in another 'd\\_tauS':*"
   ]
  },
  {
   "cell_type": "code",
   "execution_count": null,
   "metadata": {
    "scrolled": true
   },
   "outputs": [],
   "source": [
    "c = {'and': [db['d_tauD'], {'not': db['d_tauS']}]}\n",
    "db['qD'].rctree_pd(c)"
   ]
  },
  {
   "cell_type": "markdown",
   "metadata": {},
   "source": [
    "*Just as before, we can write the corresponding gams condition using the rctree\\_gams method:*"
   ]
  },
  {
   "cell_type": "code",
   "execution_count": null,
   "metadata": {},
   "outputs": [],
   "source": [
    "db['qD'].rctree_gams(c)"
   ]
  },
  {
   "cell_type": "markdown",
   "metadata": {},
   "source": [
    "The union of two sets, except elements from a third one:"
   ]
  },
  {
   "cell_type": "code",
   "execution_count": null,
   "metadata": {},
   "outputs": [],
   "source": [
    "c = {\"and\":[db['n_prod'], db[\"d_tauD\"], {\"not\":db[\"d_tauS\"]}]}\n",
    "db[\"qD\"].rctree_pd(c)"
   ]
  },
  {
   "cell_type": "code",
   "execution_count": null,
   "metadata": {},
   "outputs": [],
   "source": []
  }
 ],
 "metadata": {
  "kernelspec": {
   "display_name": "Python 3",
   "language": "python",
   "name": "python3"
  },
  "language_info": {
   "codemirror_mode": {
    "name": "ipython",
    "version": 3
   },
   "file_extension": ".py",
   "mimetype": "text/x-python",
   "name": "python",
   "nbconvert_exporter": "python",
   "pygments_lexer": "ipython3",
   "version": "3.7.4"
  }
 },
 "nbformat": 4,
 "nbformat_minor": 4
}
