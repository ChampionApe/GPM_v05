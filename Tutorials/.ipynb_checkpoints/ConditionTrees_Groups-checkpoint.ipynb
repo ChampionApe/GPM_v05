{
 "cells": [
  {
   "cell_type": "code",
   "execution_count": 1,
   "metadata": {},
   "outputs": [],
   "source": [
    "clean_up=True # removes gams-related files in work-folder if true\n",
    "%run StdPackages.ipynb\n",
    "data_folder = os.getcwd()+'\\\\IO'\n",
    "gams_folder = os.getcwd()+'\\\\Models'"
   ]
  },
  {
   "cell_type": "markdown",
   "metadata": {},
   "source": [
    "# *Condition trees used to define groups of variables*"
   ]
  },
  {
   "cell_type": "markdown",
   "metadata": {},
   "source": [
    "*Groups of models are defined using dictionaries of the gpy_symbols that are conditioned using the condition trees (see ConditionTrees.ipynb).*"
   ]
  },
  {
   "cell_type": "markdown",
   "metadata": {},
   "source": [
    "### 0: Initialize and ready a model instance"
   ]
  },
  {
   "cell_type": "markdown",
   "metadata": {},
   "source": [
    "*Load a model instance of a production sector from a pickle:*"
   ]
  },
  {
   "cell_type": "code",
   "execution_count": 2,
   "metadata": {},
   "outputs": [],
   "source": [
    "gm = Production.pr_dynamic(pickle_path=gams_folder+'\\\\gmspython_p')"
   ]
  },
  {
   "cell_type": "markdown",
   "metadata": {},
   "source": [
    "*The definition of groupings are defined in the 'gams\\_settings' class, stored under model.settings:*"
   ]
  },
  {
   "cell_type": "code",
   "execution_count": 3,
   "metadata": {
    "scrolled": true
   },
   "outputs": [
    {
     "data": {
      "text/plain": [
       "{'name': 'p',\n",
       " 'placeholders': {'p_1': 'p_1'},\n",
       " 'setstate': 'B',\n",
       " 'solvestat': True,\n",
       " 'files': {'p_functions.gms': 'C:\\\\Users\\\\sxj477\\\\Documents\\\\GitHub\\\\GPM_v05\\\\examples\\\\gamsmodels\\\\ProductionDynamic',\n",
       "  'p_sets.gms': 'C:\\\\Users\\\\sxj477\\\\Documents\\\\GitHub\\\\GPM_v05\\\\examples\\\\gamsmodels\\\\ProductionDynamic',\n",
       "  'p_parameters.gms': 'C:\\\\Users\\\\sxj477\\\\Documents\\\\GitHub\\\\GPM_v05\\\\examples\\\\gamsmodels\\\\ProductionDynamic',\n",
       "  'p_groups.gms': 'C:\\\\Users\\\\sxj477\\\\Documents\\\\GitHub\\\\GPM_v05\\\\examples\\\\gamsmodels\\\\ProductionDynamic',\n",
       "  'p_blocks.gms': 'C:\\\\Users\\\\sxj477\\\\Documents\\\\GitHub\\\\GPM_v05\\\\examples\\\\gamsmodels\\\\ProductionDynamic',\n",
       "  'p_CollectFile.gms': 'C:\\\\Users\\\\sxj477\\\\Documents\\\\GitHub\\\\GPM_v05\\\\examples\\\\gamsmodels\\\\ProductionDynamic'},\n",
       " 'collect_files': <DB2Gams_l2.OrdSet at 0x1f6bdd48148>,\n",
       " 'root_file': None,\n",
       " 'data_folder': 'C:\\\\Users\\\\sxj477\\\\Documents\\\\GitHub\\\\GPM_v05\\\\examples\\\\gamsmodels\\\\ProductionDynamic',\n",
       " 'import_settings': {},\n",
       " 'export_settings': {'dropattrs': ['ws', 'run_file', 'collect_file']},\n",
       " 'conf': {'B': {'name': 'p_B',\n",
       "   'g_endo': <DB2Gams_l2.OrdSet at 0x1f6bdd483c8>,\n",
       "   'g_exo': <DB2Gams_l2.OrdSet at 0x1f6bdd484c8>,\n",
       "   'blocks': <DB2Gams_l2.OrdSet at 0x1f6bdd485c8>,\n",
       "   'solve': None},\n",
       "  'DC': {'name': 'p_DC',\n",
       "   'g_endo': <DB2Gams_l2.OrdSet at 0x1f6bdd48808>,\n",
       "   'g_exo': <DB2Gams_l2.OrdSet at 0x1f6bdd48948>,\n",
       "   'blocks': <DB2Gams_l2.OrdSet at 0x1f6bdd48b08>,\n",
       "   'solve': None}},\n",
       " 'run_file': None,\n",
       " 'collect_file': None,\n",
       " 'work_folder': 'C:\\\\Users\\\\sxj477\\\\Documents\\\\GitHub\\\\GPM_v05\\\\work_folder',\n",
       " 'ws': <gams.workspace.GamsWorkspace at 0x1f6bdc05988>,\n",
       " 'databases': {'p_1': <DataBase.GPM_database at 0x1f6ba521748>,\n",
       "  'shock': <DataBase.GPM_database at 0x1f6bda90508>}}"
      ]
     },
     "execution_count": 3,
     "metadata": {},
     "output_type": "execute_result"
    }
   ],
   "source": [
    "gm.model.settings.__dict__"
   ]
  },
  {
   "cell_type": "markdown",
   "metadata": {},
   "source": [
    "*In particular, the definition of groups are stored in the configuration attribute ('conf'), under the keywords 'g\\_exo' and 'g\\_endo':*"
   ]
  },
  {
   "cell_type": "code",
   "execution_count": 4,
   "metadata": {},
   "outputs": [
    {
     "data": {
      "text/plain": [
       "'Ordered set with exogenous groups:'"
      ]
     },
     "metadata": {},
     "output_type": "display_data"
    },
    {
     "data": {
      "text/plain": [
       "['p_g_tech', 'p_g_vars_exo', 'p_ict_exo']"
      ]
     },
     "metadata": {},
     "output_type": "display_data"
    },
    {
     "data": {
      "text/plain": [
       "'Ordered set with endogenous groups:'"
      ]
     },
     "metadata": {},
     "output_type": "display_data"
    },
    {
     "data": {
      "text/plain": [
       "['p_g_vars_endo', 'p_ict_endo']"
      ]
     },
     "metadata": {},
     "output_type": "display_data"
    }
   ],
   "source": [
    "display('Ordered set with exogenous groups:', gm.model.settings.conf['B']['g_exo'].v, 'Ordered set with endogenous groups:', gm.model.settings.conf['B']['g_endo'].v)"
   ]
  },
  {
   "cell_type": "markdown",
   "metadata": {},
   "source": [
    "### 1: Allowed specifications for grouping of variables"
   ]
  },
  {
   "cell_type": "markdown",
   "metadata": {},
   "source": [
    "Groups can be specified in three ways:\n",
    "* As a dictionary where keys = variable names, values = conditions on the variable.\n",
    "* As a string, referring to the name of another group.\n",
    "* As a list with ['-',X], where X is either a dictionary/string. This operation removes elements from the group (the elements can be variables or groups). "
   ]
  },
  {
   "cell_type": "markdown",
   "metadata": {},
   "source": [
    "The groups should be specified using the *self.group_conditions(self,group)* method, where a group can be specified using a combination of three methods described above. Here we define some examples of syntax that can be applied:"
   ]
  },
  {
   "cell_type": "code",
   "execution_count": 5,
   "metadata": {},
   "outputs": [],
   "source": [
    "def group_conditions(group):\n",
    "    if group =='g1':\n",
    "        return [{'sigma': None, 'mu': gm.g('exo_mu')}]\n",
    "    elif group == 'g2':\n",
    "        return ['g_tech_exo',{'Peq': gm.g('n_out')}]\n",
    "    elif group == 'g3':\n",
    "        return ['g_tech_exo',['-',{'sigma': gm.g('kno_inp')}]]"
   ]
  },
  {
   "cell_type": "markdown",
   "metadata": {},
   "source": [
    "* 'g1': Specifies a group consisting of variables. The variable 'sigma' is not sliced (i.e. no conditions are applied), whereas only a subset of the values of the variable 'mu' are used. The conditions to subset the variable used in the definition here follows that of condition trees (see ConditionTrees.ipynb for more).\n",
    "* 'g2': A group that consists of the group 'g_tech_exo', as well as the variable 'Peq' (sliced according to the gpy\\_symbol 'n_out').\n",
    "* 'g3': A group that consists of the group 'g_tech_exo', but without the values in 'sigma' defined over the domain 'kno_inp'."
   ]
  },
  {
   "cell_type": "markdown",
   "metadata": {},
   "source": [
    "*Note: We refer to the group g_tech_exo, as this is a defined name in the gmspython model instance we are working on here (the 'gm' object)*"
   ]
  },
  {
   "cell_type": "markdown",
   "metadata": {},
   "source": [
    "### 2: Getting a Python representation of the groups"
   ]
  },
  {
   "cell_type": "markdown",
   "metadata": {},
   "source": [
    "The *gmspython* class defines methods for looking up the variables defined the groupings. This uses a combination of simple functions to combine and merge conditions, but ultimately always draws on the condition trees, we referred to earlier.\n",
    "\n",
    "The function gmspython.gms_aux.ReadCondition(g,model) interprets the group conditions as a single condition tree. Here *g* is a list of conditions (as defined in the group_conditions function above), and *model* is a gmspython model instance with the relevant variables defined in the database:"
   ]
  },
  {
   "cell_type": "markdown",
   "metadata": {},
   "source": [
    "*Condition tree for group:*"
   ]
  },
  {
   "cell_type": "code",
   "execution_count": 6,
   "metadata": {},
   "outputs": [
    {
     "data": {
      "text/plain": [
       "{'mu': <DataBase.gpy_symbol at 0x1f6bdd24cc8>, 'sigma': None}"
      ]
     },
     "execution_count": 6,
     "metadata": {},
     "output_type": "execute_result"
    }
   ],
   "source": [
    "g = 'g1'\n",
    "gmspython.gms_aux.ReadCondition(group_conditions(g),gm)"
   ]
  },
  {
   "cell_type": "markdown",
   "metadata": {},
   "source": [
    "*variables subsetted with the relevant condition (using the rctree_pd method, see ConditionTrees.ipynb for more):*"
   ]
  },
  {
   "cell_type": "code",
   "execution_count": 7,
   "metadata": {},
   "outputs": [
    {
     "data": {
      "text/plain": [
       "s  n   \n",
       "a  K       0.25\n",
       "   M       0.25\n",
       "   a       0.25\n",
       "   aa_F    2.00\n",
       "   bb_F    2.00\n",
       "b  K       0.20\n",
       "   M       0.30\n",
       "   aa_F    1.50\n",
       "   b       0.60\n",
       "   bb_F    1.50\n",
       "Name: sigma, dtype: float64"
      ]
     },
     "execution_count": 7,
     "metadata": {},
     "output_type": "execute_result"
    }
   ],
   "source": [
    "var = 'sigma'\n",
    "gm.g(var).rctree_pd(gmspython.gms_aux.ReadCondition(group_conditions(g),gm)[var])"
   ]
  },
  {
   "cell_type": "markdown",
   "metadata": {},
   "source": [
    "The method illustrated here, to get the Python representation of a variable that is subsetted using the group definitions are also implemented directly in the *gmspython* class; The method *var_custom_group(self,symbol,group,db=None)* uses custom group definitions as ('g1','g2','g3') defined above to subset a variable (symbol):"
   ]
  },
  {
   "cell_type": "code",
   "execution_count": 8,
   "metadata": {},
   "outputs": [
    {
     "data": {
      "text/plain": [
       "s  n   \n",
       "a  K       0.25\n",
       "   M       0.25\n",
       "   a       0.25\n",
       "   aa_F    2.00\n",
       "   bb_F    2.00\n",
       "b  K       0.20\n",
       "   M       0.30\n",
       "   aa_F    1.50\n",
       "   b       0.60\n",
       "   bb_F    1.50\n",
       "Name: sigma, dtype: float64"
      ]
     },
     "execution_count": 8,
     "metadata": {},
     "output_type": "execute_result"
    }
   ],
   "source": [
    "gm.var_custom_group(var,group_conditions(g))"
   ]
  },
  {
   "cell_type": "markdown",
   "metadata": {},
   "source": [
    "Four other functions (that relies on the *var_custom_group* method) are similarly implemented: \n",
    "* *self.var_ss(self,symbol,group,db=None):* Returns the sliced variable 'symbol' from the group 'group' specified as a string. If db=None the lookup for symbols occur through the *self.model.database* method. \n",
    "* *self.var_exo(self,symbol,db=None):* Returns the sliced variable 'symbol', using the union of all exogenous groups. \n",
    "* *self.var_endo(self,symbol,db=None):* Similar to var_exo, but with endogenous values.\n",
    "* *self.slice_exo(db,copy=True,copy_kwargs={}):* Returns a representation of the database 'db' that only includes variables that are exogenous in the *self* model. If copy = True the function returns a copy of the database 'db'; otherwise the slicing occurs inplace. copy_kwargs are parsed to the initialization of the new database (thus can include name, workspace etc.)."
   ]
  },
  {
   "cell_type": "markdown",
   "metadata": {},
   "source": [
    "*Example of the four methods:*"
   ]
  },
  {
   "cell_type": "markdown",
   "metadata": {},
   "source": [
    "*Subset of the variable 'sigma' in the group 'g_tech_exo':*"
   ]
  },
  {
   "cell_type": "code",
   "execution_count": 9,
   "metadata": {},
   "outputs": [
    {
     "data": {
      "text/plain": [
       "s  n   \n",
       "a  K       0.25\n",
       "   M       0.25\n",
       "   a       0.25\n",
       "   aa_F    2.00\n",
       "   bb_F    2.00\n",
       "b  K       0.20\n",
       "   M       0.30\n",
       "   aa_F    1.50\n",
       "   b       0.60\n",
       "   bb_F    1.50\n",
       "Name: sigma, dtype: float64"
      ]
     },
     "execution_count": 9,
     "metadata": {},
     "output_type": "execute_result"
    }
   ],
   "source": [
    "gm.var_ss('sigma','g_tech_exo')"
   ]
  },
  {
   "cell_type": "markdown",
   "metadata": {},
   "source": [
    "*Subset of the variable 'sigma' that is exogenous in the model:*"
   ]
  },
  {
   "cell_type": "code",
   "execution_count": 10,
   "metadata": {},
   "outputs": [
    {
     "data": {
      "text/plain": [
       "s  n   \n",
       "a  K       0.25\n",
       "   M       0.25\n",
       "   a       0.25\n",
       "   aa_F    2.00\n",
       "   bb_F    2.00\n",
       "b  K       0.20\n",
       "   M       0.30\n",
       "   aa_F    1.50\n",
       "   b       0.60\n",
       "   bb_F    1.50\n",
       "Name: sigma, dtype: float64"
      ]
     },
     "execution_count": 10,
     "metadata": {},
     "output_type": "execute_result"
    }
   ],
   "source": [
    "gm.var_exo('sigma')"
   ]
  },
  {
   "cell_type": "markdown",
   "metadata": {},
   "source": [
    "*Subet of the variables 'sigma' and 'qD' that are endogenous:*"
   ]
  },
  {
   "cell_type": "code",
   "execution_count": 11,
   "metadata": {
    "scrolled": true
   },
   "outputs": [
    {
     "data": {
      "text/plain": [
       "(None,\n",
       " t  s  n   \n",
       " 1  a  I_iB     0.998536\n",
       "       I_iM     1.217273\n",
       "       K        1.963273\n",
       "       L        3.803379\n",
       "       M       12.839989\n",
       "       a        3.530603\n",
       "       a_F      2.516185\n",
       "       aa_F     5.815327\n",
       "       b        2.486219\n",
       "       b_F      0.484490\n",
       "       bb_F     7.394292\n",
       "    b  I_iB     0.998536\n",
       "       I_iM     1.217273\n",
       "       K        1.563906\n",
       "       L        7.028736\n",
       "       M       44.248796\n",
       "       a        1.372055\n",
       "       a_F      0.603783\n",
       "       aa_F    49.558400\n",
       "       b       20.955930\n",
       "       b_F      3.175601\n",
       "       bb_F    17.006030\n",
       " 2  a  I_iB     0.998536\n",
       "       I_iM     1.217273\n",
       "       K        1.963273\n",
       "       L        3.803379\n",
       "       M       12.839989\n",
       "       a        3.530603\n",
       "       a_F      2.516185\n",
       "       aa_F     5.815327\n",
       "       b        2.486219\n",
       "       b_F      0.484490\n",
       "       bb_F     7.394292\n",
       "       iB      16.000000\n",
       "       iM       8.000000\n",
       "    b  I_iB     0.998536\n",
       "       I_iM     1.217273\n",
       "       K        1.563906\n",
       "       L        7.028736\n",
       "       M       44.248796\n",
       "       a        1.372055\n",
       "       a_F      0.603783\n",
       "       aa_F    49.558400\n",
       "       b       20.955930\n",
       "       b_F      3.175601\n",
       "       bb_F    17.006030\n",
       "       iB       8.000000\n",
       "       iM      16.000000\n",
       " 3  a  iB      16.000000\n",
       "       iM       8.000000\n",
       "    b  iB       8.000000\n",
       "       iM      16.000000\n",
       " Name: qD, dtype: float64)"
      ]
     },
     "execution_count": 11,
     "metadata": {},
     "output_type": "execute_result"
    }
   ],
   "source": [
    "gm.var_endo('sigma'),gm.var_endo('qD')"
   ]
  },
  {
   "cell_type": "markdown",
   "metadata": {},
   "source": [
    "### 3: Getting at the gams/gamY code written from the groups"
   ]
  },
  {
   "cell_type": "markdown",
   "metadata": {},
   "source": [
    "The same group conditions used to subset variables in a Python representation can be used to write gams code: (1) Dictionaries defining variables, (2) strings adding entire groups, (3) lists subtracting specific elements (variables and/or groups). The main method for writing gams code is the *self.add_group* method defined in the *gmspython* class. Relying on the pre-programmed groupings defined in the *Production.py* model, we can see how the add_group returns a formatted version of the conditions:"
   ]
  },
  {
   "cell_type": "code",
   "execution_count": 12,
   "metadata": {},
   "outputs": [
    {
     "data": {
      "text/plain": [
       "[{'name': 'sigma', 'conditions': <DataBase.gpy_symbol at 0x1f6bdd24048>},\n",
       " {'name': 'eta', 'conditions': <DataBase.gpy_symbol at 0x1f6bdd1ffc8>},\n",
       " {'name': 'mu', 'conditions': <DataBase.gpy_symbol at 0x1f6bdd24cc8>}]"
      ]
     },
     "execution_count": 12,
     "metadata": {},
     "output_type": "execute_result"
    }
   ],
   "source": [
    "gm.add_group('g_tech_exo')"
   ]
  },
  {
   "cell_type": "markdown",
   "metadata": {},
   "source": [
    "When executing the main write and run methods for the *gmspython* class, these groups are interpreted by the *DB2Gams.gams_model_py* class; in particular by the *add_group_to_groups* method. The *add_group_to_groups* method uses the list of elements (e.g. dictionaries) and adds it to the *self.model.groups* attribute. This is initially empty:"
   ]
  },
  {
   "cell_type": "code",
   "execution_count": 14,
   "metadata": {},
   "outputs": [
    {
     "data": {
      "text/plain": [
       "{}"
      ]
     },
     "execution_count": 14,
     "metadata": {},
     "output_type": "execute_result"
    }
   ],
   "source": [
    "gm.model.groups"
   ]
  },
  {
   "cell_type": "markdown",
   "metadata": {},
   "source": [
    "Writing the 'g_tech_exo' group means running:"
   ]
  },
  {
   "cell_type": "code",
   "execution_count": 16,
   "metadata": {},
   "outputs": [],
   "source": [
    "g = 'g_tech_exo'\n",
    "gm.model.add_group_to_groups(gm.add_group(g),g)"
   ]
  },
  {
   "cell_type": "markdown",
   "metadata": {},
   "source": [
    "The groups now has a group called 'g_tech_exo' with 'sigma','eta', and 'mu':"
   ]
  },
  {
   "cell_type": "code",
   "execution_count": 17,
   "metadata": {},
   "outputs": [
    {
     "data": {
      "text/plain": [
       "{'g_tech_exo': [{'name': 'sigma',\n",
       "   'conditions': <DataBase.gpy_symbol at 0x1f6bdd24048>},\n",
       "  {'name': 'eta', 'conditions': <DataBase.gpy_symbol at 0x1f6bdd1ffc8>},\n",
       "  {'name': 'mu', 'conditions': <DataBase.gpy_symbol at 0x1f6bdd24cc8>}]}"
      ]
     },
     "execution_count": 17,
     "metadata": {},
     "output_type": "execute_result"
    }
   ],
   "source": [
    "gm.model.groups"
   ]
  },
  {
   "cell_type": "markdown",
   "metadata": {},
   "source": [
    "When the *self.model* is compiled, the *self.model.groups* are written to gams code using the *DB2Gams* method *add_group:*"
   ]
  },
  {
   "cell_type": "code",
   "execution_count": 19,
   "metadata": {},
   "outputs": [
    {
     "name": "stdout",
     "output_type": "stream",
     "text": [
      "sigma[s,n]$(kno_inp[s,n]) \"\"\n",
      "eta[s,n]$(kno_out[s,n]) \"\"\n",
      "mu[s,n,nn]$(exo_mu[s,n,nn]) \"\"\n",
      "\n"
     ]
    }
   ],
   "source": [
    "print(DB2Gams.add_group(gm.model.groups['g_tech_exo'],gm.model.database))"
   ]
  },
  {
   "cell_type": "markdown",
   "metadata": {},
   "source": [
    "The *self.model* executes this in the *self.model.write_group* method. Thus, the complete block of the group is written as:"
   ]
  },
  {
   "cell_type": "code",
   "execution_count": 21,
   "metadata": {},
   "outputs": [
    {
     "name": "stdout",
     "output_type": "stream",
     "text": [
      "$GROUP g_tech_exo\n",
      "sigma[s,n]$(kno_inp[s,n]) \"\"\n",
      "eta[s,n]$(kno_out[s,n]) \"\"\n",
      "mu[s,n,nn]$(exo_mu[s,n,nn]) \"\"\n",
      ";\n",
      "\n",
      "\n"
     ]
    }
   ],
   "source": [
    "print(gm.model.write_group(g))"
   ]
  }
 ],
 "metadata": {
  "kernelspec": {
   "display_name": "Python 3",
   "language": "python",
   "name": "python3"
  },
  "language_info": {
   "codemirror_mode": {
    "name": "ipython",
    "version": 3
   },
   "file_extension": ".py",
   "mimetype": "text/x-python",
   "name": "python",
   "nbconvert_exporter": "python",
   "pygments_lexer": "ipython3",
   "version": "3.7.9"
  }
 },
 "nbformat": 4,
 "nbformat_minor": 4
}
